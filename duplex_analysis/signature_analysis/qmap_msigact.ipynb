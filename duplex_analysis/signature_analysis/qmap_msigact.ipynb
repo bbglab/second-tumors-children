{
 "cells": [
  {
   "cell_type": "markdown",
   "id": "7b14af79",
   "metadata": {},
   "source": [
    "# Create a qmap to run parallely msigact for each sample, with specific signatures per sample"
   ]
  },
  {
   "cell_type": "code",
   "execution_count": 2,
   "id": "fea50563",
   "metadata": {},
   "outputs": [],
   "source": [
    "import json\n",
    "import os"
   ]
  },
  {
   "cell_type": "code",
   "execution_count": 65,
   "id": "51b67a26",
   "metadata": {
    "scrolled": true
   },
   "outputs": [
    {
     "data": {
      "text/plain": [
       "{'AU2198': ['SBS1', 'SBS2', 'SBS31', 'SBS45'],\n",
       " 'AU2199': ['SBS1', 'SBS2', 'SBS18', 'SBS31', 'SBS40', 'SBS45'],\n",
       " 'AU2200': ['SBS1', 'SBS2', 'SBS5', 'SBS18', 'SBS31', 'SBS45'],\n",
       " 'AU2202': ['SBS1', 'SBS2', 'SBS18', 'SBS31', 'SBS40'],\n",
       " 'AZ4609': ['SBS5', 'SBS18', 'SBS31', 'SBS40', 'SBS45'],\n",
       " 'AZ4610': ['SBS5', 'SBS31', 'SBS40', 'SBS45'],\n",
       " 'AZ4611': ['SBS5', 'SBS31', 'SBS40', 'SBS45'],\n",
       " 'AZ4612': ['SBS1', 'SBS31', 'SBS40'],\n",
       " 'AZ4613': ['SBS2', 'SBS13', 'SBS31', 'SBS40'],\n",
       " 'AZ4614': ['SBS5', 'SBS18', 'SBS31', 'SBS40'],\n",
       " 'AZ6342': ['SBS5', 'SBS18', 'SBS31', 'SBS40'],\n",
       " 'AZ6371': ['SBS1', 'SBS18', 'SBS31', 'SBS40']}"
      ]
     },
     "execution_count": 65,
     "metadata": {},
     "output_type": "execute_result"
    }
   ],
   "source": [
    "file = './msigact/sigs_per_sample.json'\n",
    "sigs_per_sample_dict = json.load(open(file,'rb'))\n",
    "sigs_per_sample_dict"
   ]
  },
  {
   "cell_type": "markdown",
   "id": "eb70c38e",
   "metadata": {},
   "source": [
    "### Create folders per sample"
   ]
  },
  {
   "cell_type": "code",
   "execution_count": 4,
   "id": "7d015db7",
   "metadata": {},
   "outputs": [],
   "source": [
    "path = './msigact/'\n",
    "for sample in sigs_per_sample_dict.keys():\n",
    "    if os.path.exists(path+sample) == False:\n",
    "        os.mkdir(path+sample)\n",
    "    for sig in ['SBS31','SBS35']:\n",
    "        if os.path.exists(path+sample+'/'+sig) == False:\n",
    "            os.mkdir(path+sample+'/'+sig)"
   ]
  },
  {
   "cell_type": "markdown",
   "id": "2312f6b9",
   "metadata": {},
   "source": [
    "### Create tables with selected signatures per sample"
   ]
  },
  {
   "cell_type": "code",
   "execution_count": 37,
   "id": "0cbce61d",
   "metadata": {
    "scrolled": true
   },
   "outputs": [
    {
     "data": {
      "text/plain": [
       "['python ../../../wgs_analysis/tumor_vs_blood/signature_analysis/scripts/create_matrix_sigs.py --cosmic_sigs_file ../../../wgs_analysis/tumor_vs_blood/signature_analysis/data/COSMIC_v3.3.1_SBS_GRCh38.txt --out_file ../msigact/AU2198/sigs_SBS31.tsv --sigs SBS1,SBS2,SBS45,SBS31',\n",
       " 'python ../../../wgs_analysis/tumor_vs_blood/signature_analysis/scripts/create_matrix_sigs.py --cosmic_sigs_file ../../../wgs_analysis/tumor_vs_blood/signature_analysis/data/COSMIC_v3.3.1_SBS_GRCh38.txt --out_file ../msigact/AU2198/sigs_SBS35.tsv --sigs SBS1,SBS2,SBS45,SBS35',\n",
       " 'python ../../../wgs_analysis/tumor_vs_blood/signature_analysis/scripts/create_matrix_sigs.py --cosmic_sigs_file ../../../wgs_analysis/tumor_vs_blood/signature_analysis/data/COSMIC_v3.3.1_SBS_GRCh38.txt --out_file ../msigact/AU2199/sigs_SBS31.tsv --sigs SBS1,SBS2,SBS18,SBS40,SBS45,SBS31',\n",
       " 'python ../../../wgs_analysis/tumor_vs_blood/signature_analysis/scripts/create_matrix_sigs.py --cosmic_sigs_file ../../../wgs_analysis/tumor_vs_blood/signature_analysis/data/COSMIC_v3.3.1_SBS_GRCh38.txt --out_file ../msigact/AU2199/sigs_SBS35.tsv --sigs SBS1,SBS2,SBS18,SBS40,SBS45,SBS35',\n",
       " 'python ../../../wgs_analysis/tumor_vs_blood/signature_analysis/scripts/create_matrix_sigs.py --cosmic_sigs_file ../../../wgs_analysis/tumor_vs_blood/signature_analysis/data/COSMIC_v3.3.1_SBS_GRCh38.txt --out_file ../msigact/AU2200/sigs_SBS31.tsv --sigs SBS1,SBS2,SBS5,SBS18,SBS45,SBS31',\n",
       " 'python ../../../wgs_analysis/tumor_vs_blood/signature_analysis/scripts/create_matrix_sigs.py --cosmic_sigs_file ../../../wgs_analysis/tumor_vs_blood/signature_analysis/data/COSMIC_v3.3.1_SBS_GRCh38.txt --out_file ../msigact/AU2200/sigs_SBS35.tsv --sigs SBS1,SBS2,SBS5,SBS18,SBS45,SBS35',\n",
       " 'python ../../../wgs_analysis/tumor_vs_blood/signature_analysis/scripts/create_matrix_sigs.py --cosmic_sigs_file ../../../wgs_analysis/tumor_vs_blood/signature_analysis/data/COSMIC_v3.3.1_SBS_GRCh38.txt --out_file ../msigact/AU2202/sigs_SBS31.tsv --sigs SBS1,SBS2,SBS18,SBS40,SBS31',\n",
       " 'python ../../../wgs_analysis/tumor_vs_blood/signature_analysis/scripts/create_matrix_sigs.py --cosmic_sigs_file ../../../wgs_analysis/tumor_vs_blood/signature_analysis/data/COSMIC_v3.3.1_SBS_GRCh38.txt --out_file ../msigact/AU2202/sigs_SBS35.tsv --sigs SBS1,SBS2,SBS18,SBS40,SBS35',\n",
       " 'python ../../../wgs_analysis/tumor_vs_blood/signature_analysis/scripts/create_matrix_sigs.py --cosmic_sigs_file ../../../wgs_analysis/tumor_vs_blood/signature_analysis/data/COSMIC_v3.3.1_SBS_GRCh38.txt --out_file ../msigact/AZ4609/sigs_SBS31.tsv --sigs SBS5,SBS18,SBS40,SBS45,SBS31',\n",
       " 'python ../../../wgs_analysis/tumor_vs_blood/signature_analysis/scripts/create_matrix_sigs.py --cosmic_sigs_file ../../../wgs_analysis/tumor_vs_blood/signature_analysis/data/COSMIC_v3.3.1_SBS_GRCh38.txt --out_file ../msigact/AZ4609/sigs_SBS35.tsv --sigs SBS5,SBS18,SBS40,SBS45,SBS35',\n",
       " 'python ../../../wgs_analysis/tumor_vs_blood/signature_analysis/scripts/create_matrix_sigs.py --cosmic_sigs_file ../../../wgs_analysis/tumor_vs_blood/signature_analysis/data/COSMIC_v3.3.1_SBS_GRCh38.txt --out_file ../msigact/AZ4610/sigs_SBS31.tsv --sigs SBS5,SBS40,SBS45,SBS31',\n",
       " 'python ../../../wgs_analysis/tumor_vs_blood/signature_analysis/scripts/create_matrix_sigs.py --cosmic_sigs_file ../../../wgs_analysis/tumor_vs_blood/signature_analysis/data/COSMIC_v3.3.1_SBS_GRCh38.txt --out_file ../msigact/AZ4610/sigs_SBS35.tsv --sigs SBS5,SBS40,SBS45,SBS35',\n",
       " 'python ../../../wgs_analysis/tumor_vs_blood/signature_analysis/scripts/create_matrix_sigs.py --cosmic_sigs_file ../../../wgs_analysis/tumor_vs_blood/signature_analysis/data/COSMIC_v3.3.1_SBS_GRCh38.txt --out_file ../msigact/AZ4611/sigs_SBS31.tsv --sigs SBS5,SBS40,SBS45,SBS31',\n",
       " 'python ../../../wgs_analysis/tumor_vs_blood/signature_analysis/scripts/create_matrix_sigs.py --cosmic_sigs_file ../../../wgs_analysis/tumor_vs_blood/signature_analysis/data/COSMIC_v3.3.1_SBS_GRCh38.txt --out_file ../msigact/AZ4611/sigs_SBS35.tsv --sigs SBS5,SBS40,SBS45,SBS35',\n",
       " 'python ../../../wgs_analysis/tumor_vs_blood/signature_analysis/scripts/create_matrix_sigs.py --cosmic_sigs_file ../../../wgs_analysis/tumor_vs_blood/signature_analysis/data/COSMIC_v3.3.1_SBS_GRCh38.txt --out_file ../msigact/AZ4612/sigs_SBS31.tsv --sigs SBS1,SBS40,SBS31',\n",
       " 'python ../../../wgs_analysis/tumor_vs_blood/signature_analysis/scripts/create_matrix_sigs.py --cosmic_sigs_file ../../../wgs_analysis/tumor_vs_blood/signature_analysis/data/COSMIC_v3.3.1_SBS_GRCh38.txt --out_file ../msigact/AZ4612/sigs_SBS35.tsv --sigs SBS1,SBS40,SBS35',\n",
       " 'python ../../../wgs_analysis/tumor_vs_blood/signature_analysis/scripts/create_matrix_sigs.py --cosmic_sigs_file ../../../wgs_analysis/tumor_vs_blood/signature_analysis/data/COSMIC_v3.3.1_SBS_GRCh38.txt --out_file ../msigact/AZ4613/sigs_SBS31.tsv --sigs SBS2,SBS13,SBS40,SBS31',\n",
       " 'python ../../../wgs_analysis/tumor_vs_blood/signature_analysis/scripts/create_matrix_sigs.py --cosmic_sigs_file ../../../wgs_analysis/tumor_vs_blood/signature_analysis/data/COSMIC_v3.3.1_SBS_GRCh38.txt --out_file ../msigact/AZ4613/sigs_SBS35.tsv --sigs SBS2,SBS13,SBS40,SBS35',\n",
       " 'python ../../../wgs_analysis/tumor_vs_blood/signature_analysis/scripts/create_matrix_sigs.py --cosmic_sigs_file ../../../wgs_analysis/tumor_vs_blood/signature_analysis/data/COSMIC_v3.3.1_SBS_GRCh38.txt --out_file ../msigact/AZ4614/sigs_SBS31.tsv --sigs SBS5,SBS18,SBS40,SBS31',\n",
       " 'python ../../../wgs_analysis/tumor_vs_blood/signature_analysis/scripts/create_matrix_sigs.py --cosmic_sigs_file ../../../wgs_analysis/tumor_vs_blood/signature_analysis/data/COSMIC_v3.3.1_SBS_GRCh38.txt --out_file ../msigact/AZ4614/sigs_SBS35.tsv --sigs SBS5,SBS18,SBS40,SBS35',\n",
       " 'python ../../../wgs_analysis/tumor_vs_blood/signature_analysis/scripts/create_matrix_sigs.py --cosmic_sigs_file ../../../wgs_analysis/tumor_vs_blood/signature_analysis/data/COSMIC_v3.3.1_SBS_GRCh38.txt --out_file ../msigact/AZ6342/sigs_SBS31.tsv --sigs SBS5,SBS18,SBS40,SBS31',\n",
       " 'python ../../../wgs_analysis/tumor_vs_blood/signature_analysis/scripts/create_matrix_sigs.py --cosmic_sigs_file ../../../wgs_analysis/tumor_vs_blood/signature_analysis/data/COSMIC_v3.3.1_SBS_GRCh38.txt --out_file ../msigact/AZ6342/sigs_SBS35.tsv --sigs SBS5,SBS18,SBS40,SBS35',\n",
       " 'python ../../../wgs_analysis/tumor_vs_blood/signature_analysis/scripts/create_matrix_sigs.py --cosmic_sigs_file ../../../wgs_analysis/tumor_vs_blood/signature_analysis/data/COSMIC_v3.3.1_SBS_GRCh38.txt --out_file ../msigact/AZ6371/sigs_SBS31.tsv --sigs SBS1,SBS18,SBS40,SBS31',\n",
       " 'python ../../../wgs_analysis/tumor_vs_blood/signature_analysis/scripts/create_matrix_sigs.py --cosmic_sigs_file ../../../wgs_analysis/tumor_vs_blood/signature_analysis/data/COSMIC_v3.3.1_SBS_GRCh38.txt --out_file ../msigact/AZ6371/sigs_SBS35.tsv --sigs SBS1,SBS18,SBS40,SBS35']"
      ]
     },
     "execution_count": 37,
     "metadata": {},
     "output_type": "execute_result"
    }
   ],
   "source": [
    "python_script = '../../../wgs_analysis/tumor_vs_blood/signature_analysis/scripts/create_matrix_sigs.py'\n",
    "cosmic_sigs_file = '../../../wgs_analysis/tumor_vs_blood/signature_analysis/data/COSMIC_v3.3.1_SBS_GRCh38.txt'\n",
    "path = '../msigact/'\n",
    "commands = []\n",
    "for sample in sigs_per_sample_dict.keys():\n",
    "    for test_sig in ['SBS31','SBS35']:\n",
    "        out_file = path + sample + '/sigs_' + test_sig +'.tsv'\n",
    "        sigs = sigs_per_sample_dict[sample]\n",
    "        if 'SBS31' in sigs:\n",
    "            sigs.remove('SBS31')\n",
    "        if 'SBS35' in sigs:\n",
    "            sigs.remove('SBS35')\n",
    "        sigs.append(test_sig)\n",
    "        sigs_in_string = ''\n",
    "        for sig in sigs:\n",
    "            sigs_in_string = sigs_in_string + ',' + sig\n",
    "        sigs_in_string = sigs_in_string[1:]\n",
    "        command = 'python '+python_script+' --cosmic_sigs_file '+cosmic_sigs_file+' --out_file '+out_file+' --sigs '+sigs_in_string\n",
    "        commands.append(command)\n",
    "commands"
   ]
  },
  {
   "cell_type": "code",
   "execution_count": 38,
   "id": "7631740e",
   "metadata": {},
   "outputs": [],
   "source": [
    "qmap_pre_params = ['[pre]','. \"/home/$USER/miniconda3/etc/profile.d/conda.sh\"','conda activate msigact','[params]','cores = 1','memory = 8G','[jobs]']\n",
    "qmap_file = qmap_pre_params + commands"
   ]
  },
  {
   "cell_type": "code",
   "execution_count": 39,
   "id": "a39242c4",
   "metadata": {},
   "outputs": [],
   "source": [
    "#Save qmap file\n",
    "\n",
    "with open('./qmap_files/01_msigact_signature_tables_per_sample.qmap', 'w') as f:\n",
    "    for item in qmap_file:\n",
    "        f.write('%s\\n' % item)"
   ]
  },
  {
   "cell_type": "markdown",
   "id": "0580673b",
   "metadata": {},
   "source": [
    "## Qmap for paralelizing msigact script per sample"
   ]
  },
  {
   "cell_type": "code",
   "execution_count": 29,
   "id": "e352117f",
   "metadata": {},
   "outputs": [
    {
     "data": {
      "text/plain": [
       "['Rscript ../../../wgs_analysis/tumor_vs_blood/signature_analysis/scripts/run_pipeline.R /workspace/projects/sjd_pediatric_tumors/second-tumors-children/duplex_analysis/signature_analysis/msigact/AU2198/count_matrix.tsv /workspace/projects/sjd_pediatric_tumors/second-tumors-children/duplex_analysis/signature_analysis/msigact/AU2198/sigs_SBS31.tsv /workspace/projects/sjd_pediatric_tumors/second-tumors-children/duplex_analysis/signature_analysis/msigact/AU2198/SBS31/ 1',\n",
       " 'Rscript ../../../wgs_analysis/tumor_vs_blood/signature_analysis/scripts/run_pipeline.R /workspace/projects/sjd_pediatric_tumors/second-tumors-children/duplex_analysis/signature_analysis/msigact/AU2198/count_matrix.tsv /workspace/projects/sjd_pediatric_tumors/second-tumors-children/duplex_analysis/signature_analysis/msigact/AU2198/sigs_SBS35.tsv /workspace/projects/sjd_pediatric_tumors/second-tumors-children/duplex_analysis/signature_analysis/msigact/AU2198/SBS35/ 1',\n",
       " 'Rscript ../../../wgs_analysis/tumor_vs_blood/signature_analysis/scripts/run_pipeline.R /workspace/projects/sjd_pediatric_tumors/second-tumors-children/duplex_analysis/signature_analysis/msigact/AU2199/count_matrix.tsv /workspace/projects/sjd_pediatric_tumors/second-tumors-children/duplex_analysis/signature_analysis/msigact/AU2199/sigs_SBS31.tsv /workspace/projects/sjd_pediatric_tumors/second-tumors-children/duplex_analysis/signature_analysis/msigact/AU2199/SBS31/ 1',\n",
       " 'Rscript ../../../wgs_analysis/tumor_vs_blood/signature_analysis/scripts/run_pipeline.R /workspace/projects/sjd_pediatric_tumors/second-tumors-children/duplex_analysis/signature_analysis/msigact/AU2199/count_matrix.tsv /workspace/projects/sjd_pediatric_tumors/second-tumors-children/duplex_analysis/signature_analysis/msigact/AU2199/sigs_SBS35.tsv /workspace/projects/sjd_pediatric_tumors/second-tumors-children/duplex_analysis/signature_analysis/msigact/AU2199/SBS35/ 1',\n",
       " 'Rscript ../../../wgs_analysis/tumor_vs_blood/signature_analysis/scripts/run_pipeline.R /workspace/projects/sjd_pediatric_tumors/second-tumors-children/duplex_analysis/signature_analysis/msigact/AU2200/count_matrix.tsv /workspace/projects/sjd_pediatric_tumors/second-tumors-children/duplex_analysis/signature_analysis/msigact/AU2200/sigs_SBS31.tsv /workspace/projects/sjd_pediatric_tumors/second-tumors-children/duplex_analysis/signature_analysis/msigact/AU2200/SBS31/ 1',\n",
       " 'Rscript ../../../wgs_analysis/tumor_vs_blood/signature_analysis/scripts/run_pipeline.R /workspace/projects/sjd_pediatric_tumors/second-tumors-children/duplex_analysis/signature_analysis/msigact/AU2200/count_matrix.tsv /workspace/projects/sjd_pediatric_tumors/second-tumors-children/duplex_analysis/signature_analysis/msigact/AU2200/sigs_SBS35.tsv /workspace/projects/sjd_pediatric_tumors/second-tumors-children/duplex_analysis/signature_analysis/msigact/AU2200/SBS35/ 1',\n",
       " 'Rscript ../../../wgs_analysis/tumor_vs_blood/signature_analysis/scripts/run_pipeline.R /workspace/projects/sjd_pediatric_tumors/second-tumors-children/duplex_analysis/signature_analysis/msigact/AU2202/count_matrix.tsv /workspace/projects/sjd_pediatric_tumors/second-tumors-children/duplex_analysis/signature_analysis/msigact/AU2202/sigs_SBS31.tsv /workspace/projects/sjd_pediatric_tumors/second-tumors-children/duplex_analysis/signature_analysis/msigact/AU2202/SBS31/ 1',\n",
       " 'Rscript ../../../wgs_analysis/tumor_vs_blood/signature_analysis/scripts/run_pipeline.R /workspace/projects/sjd_pediatric_tumors/second-tumors-children/duplex_analysis/signature_analysis/msigact/AU2202/count_matrix.tsv /workspace/projects/sjd_pediatric_tumors/second-tumors-children/duplex_analysis/signature_analysis/msigact/AU2202/sigs_SBS35.tsv /workspace/projects/sjd_pediatric_tumors/second-tumors-children/duplex_analysis/signature_analysis/msigact/AU2202/SBS35/ 1',\n",
       " 'Rscript ../../../wgs_analysis/tumor_vs_blood/signature_analysis/scripts/run_pipeline.R /workspace/projects/sjd_pediatric_tumors/second-tumors-children/duplex_analysis/signature_analysis/msigact/AZ4609/count_matrix.tsv /workspace/projects/sjd_pediatric_tumors/second-tumors-children/duplex_analysis/signature_analysis/msigact/AZ4609/sigs_SBS31.tsv /workspace/projects/sjd_pediatric_tumors/second-tumors-children/duplex_analysis/signature_analysis/msigact/AZ4609/SBS31/ 1',\n",
       " 'Rscript ../../../wgs_analysis/tumor_vs_blood/signature_analysis/scripts/run_pipeline.R /workspace/projects/sjd_pediatric_tumors/second-tumors-children/duplex_analysis/signature_analysis/msigact/AZ4609/count_matrix.tsv /workspace/projects/sjd_pediatric_tumors/second-tumors-children/duplex_analysis/signature_analysis/msigact/AZ4609/sigs_SBS35.tsv /workspace/projects/sjd_pediatric_tumors/second-tumors-children/duplex_analysis/signature_analysis/msigact/AZ4609/SBS35/ 1',\n",
       " 'Rscript ../../../wgs_analysis/tumor_vs_blood/signature_analysis/scripts/run_pipeline.R /workspace/projects/sjd_pediatric_tumors/second-tumors-children/duplex_analysis/signature_analysis/msigact/AZ4610/count_matrix.tsv /workspace/projects/sjd_pediatric_tumors/second-tumors-children/duplex_analysis/signature_analysis/msigact/AZ4610/sigs_SBS31.tsv /workspace/projects/sjd_pediatric_tumors/second-tumors-children/duplex_analysis/signature_analysis/msigact/AZ4610/SBS31/ 1',\n",
       " 'Rscript ../../../wgs_analysis/tumor_vs_blood/signature_analysis/scripts/run_pipeline.R /workspace/projects/sjd_pediatric_tumors/second-tumors-children/duplex_analysis/signature_analysis/msigact/AZ4610/count_matrix.tsv /workspace/projects/sjd_pediatric_tumors/second-tumors-children/duplex_analysis/signature_analysis/msigact/AZ4610/sigs_SBS35.tsv /workspace/projects/sjd_pediatric_tumors/second-tumors-children/duplex_analysis/signature_analysis/msigact/AZ4610/SBS35/ 1',\n",
       " 'Rscript ../../../wgs_analysis/tumor_vs_blood/signature_analysis/scripts/run_pipeline.R /workspace/projects/sjd_pediatric_tumors/second-tumors-children/duplex_analysis/signature_analysis/msigact/AZ4611/count_matrix.tsv /workspace/projects/sjd_pediatric_tumors/second-tumors-children/duplex_analysis/signature_analysis/msigact/AZ4611/sigs_SBS31.tsv /workspace/projects/sjd_pediatric_tumors/second-tumors-children/duplex_analysis/signature_analysis/msigact/AZ4611/SBS31/ 1',\n",
       " 'Rscript ../../../wgs_analysis/tumor_vs_blood/signature_analysis/scripts/run_pipeline.R /workspace/projects/sjd_pediatric_tumors/second-tumors-children/duplex_analysis/signature_analysis/msigact/AZ4611/count_matrix.tsv /workspace/projects/sjd_pediatric_tumors/second-tumors-children/duplex_analysis/signature_analysis/msigact/AZ4611/sigs_SBS35.tsv /workspace/projects/sjd_pediatric_tumors/second-tumors-children/duplex_analysis/signature_analysis/msigact/AZ4611/SBS35/ 1',\n",
       " 'Rscript ../../../wgs_analysis/tumor_vs_blood/signature_analysis/scripts/run_pipeline.R /workspace/projects/sjd_pediatric_tumors/second-tumors-children/duplex_analysis/signature_analysis/msigact/AZ4612/count_matrix.tsv /workspace/projects/sjd_pediatric_tumors/second-tumors-children/duplex_analysis/signature_analysis/msigact/AZ4612/sigs_SBS31.tsv /workspace/projects/sjd_pediatric_tumors/second-tumors-children/duplex_analysis/signature_analysis/msigact/AZ4612/SBS31/ 1',\n",
       " 'Rscript ../../../wgs_analysis/tumor_vs_blood/signature_analysis/scripts/run_pipeline.R /workspace/projects/sjd_pediatric_tumors/second-tumors-children/duplex_analysis/signature_analysis/msigact/AZ4612/count_matrix.tsv /workspace/projects/sjd_pediatric_tumors/second-tumors-children/duplex_analysis/signature_analysis/msigact/AZ4612/sigs_SBS35.tsv /workspace/projects/sjd_pediatric_tumors/second-tumors-children/duplex_analysis/signature_analysis/msigact/AZ4612/SBS35/ 1',\n",
       " 'Rscript ../../../wgs_analysis/tumor_vs_blood/signature_analysis/scripts/run_pipeline.R /workspace/projects/sjd_pediatric_tumors/second-tumors-children/duplex_analysis/signature_analysis/msigact/AZ4613/count_matrix.tsv /workspace/projects/sjd_pediatric_tumors/second-tumors-children/duplex_analysis/signature_analysis/msigact/AZ4613/sigs_SBS31.tsv /workspace/projects/sjd_pediatric_tumors/second-tumors-children/duplex_analysis/signature_analysis/msigact/AZ4613/SBS31/ 1',\n",
       " 'Rscript ../../../wgs_analysis/tumor_vs_blood/signature_analysis/scripts/run_pipeline.R /workspace/projects/sjd_pediatric_tumors/second-tumors-children/duplex_analysis/signature_analysis/msigact/AZ4613/count_matrix.tsv /workspace/projects/sjd_pediatric_tumors/second-tumors-children/duplex_analysis/signature_analysis/msigact/AZ4613/sigs_SBS35.tsv /workspace/projects/sjd_pediatric_tumors/second-tumors-children/duplex_analysis/signature_analysis/msigact/AZ4613/SBS35/ 1',\n",
       " 'Rscript ../../../wgs_analysis/tumor_vs_blood/signature_analysis/scripts/run_pipeline.R /workspace/projects/sjd_pediatric_tumors/second-tumors-children/duplex_analysis/signature_analysis/msigact/AZ4614/count_matrix.tsv /workspace/projects/sjd_pediatric_tumors/second-tumors-children/duplex_analysis/signature_analysis/msigact/AZ4614/sigs_SBS31.tsv /workspace/projects/sjd_pediatric_tumors/second-tumors-children/duplex_analysis/signature_analysis/msigact/AZ4614/SBS31/ 1',\n",
       " 'Rscript ../../../wgs_analysis/tumor_vs_blood/signature_analysis/scripts/run_pipeline.R /workspace/projects/sjd_pediatric_tumors/second-tumors-children/duplex_analysis/signature_analysis/msigact/AZ4614/count_matrix.tsv /workspace/projects/sjd_pediatric_tumors/second-tumors-children/duplex_analysis/signature_analysis/msigact/AZ4614/sigs_SBS35.tsv /workspace/projects/sjd_pediatric_tumors/second-tumors-children/duplex_analysis/signature_analysis/msigact/AZ4614/SBS35/ 1',\n",
       " 'Rscript ../../../wgs_analysis/tumor_vs_blood/signature_analysis/scripts/run_pipeline.R /workspace/projects/sjd_pediatric_tumors/second-tumors-children/duplex_analysis/signature_analysis/msigact/AZ6342/count_matrix.tsv /workspace/projects/sjd_pediatric_tumors/second-tumors-children/duplex_analysis/signature_analysis/msigact/AZ6342/sigs_SBS31.tsv /workspace/projects/sjd_pediatric_tumors/second-tumors-children/duplex_analysis/signature_analysis/msigact/AZ6342/SBS31/ 1',\n",
       " 'Rscript ../../../wgs_analysis/tumor_vs_blood/signature_analysis/scripts/run_pipeline.R /workspace/projects/sjd_pediatric_tumors/second-tumors-children/duplex_analysis/signature_analysis/msigact/AZ6342/count_matrix.tsv /workspace/projects/sjd_pediatric_tumors/second-tumors-children/duplex_analysis/signature_analysis/msigact/AZ6342/sigs_SBS35.tsv /workspace/projects/sjd_pediatric_tumors/second-tumors-children/duplex_analysis/signature_analysis/msigact/AZ6342/SBS35/ 1',\n",
       " 'Rscript ../../../wgs_analysis/tumor_vs_blood/signature_analysis/scripts/run_pipeline.R /workspace/projects/sjd_pediatric_tumors/second-tumors-children/duplex_analysis/signature_analysis/msigact/AZ6371/count_matrix.tsv /workspace/projects/sjd_pediatric_tumors/second-tumors-children/duplex_analysis/signature_analysis/msigact/AZ6371/sigs_SBS31.tsv /workspace/projects/sjd_pediatric_tumors/second-tumors-children/duplex_analysis/signature_analysis/msigact/AZ6371/SBS31/ 1',\n",
       " 'Rscript ../../../wgs_analysis/tumor_vs_blood/signature_analysis/scripts/run_pipeline.R /workspace/projects/sjd_pediatric_tumors/second-tumors-children/duplex_analysis/signature_analysis/msigact/AZ6371/count_matrix.tsv /workspace/projects/sjd_pediatric_tumors/second-tumors-children/duplex_analysis/signature_analysis/msigact/AZ6371/sigs_SBS35.tsv /workspace/projects/sjd_pediatric_tumors/second-tumors-children/duplex_analysis/signature_analysis/msigact/AZ6371/SBS35/ 1']"
      ]
     },
     "execution_count": 29,
     "metadata": {},
     "output_type": "execute_result"
    }
   ],
   "source": [
    "rscript = '../../../wgs_analysis/tumor_vs_blood/signature_analysis/scripts/run_pipeline.R'\n",
    "base_path = '/workspace/projects/sjd_pediatric_tumors/' #change at the end\n",
    "repo_path = base_path+'second-tumors-children/duplex_analysis/signature_analysis/msigact/'\n",
    "commands = []\n",
    "for sample in sigs_per_sample_dict.keys():\n",
    "    for sig in ['SBS31','SBS35']:\n",
    "        count_matrix = repo_path + sample + '/count_matrix.tsv'\n",
    "        sigs_matrix = repo_path + sample + '/sigs_'+sig+'.tsv'\n",
    "        output = repo_path + sample + '/' + sig +'/'\n",
    "        command = 'Rscript '+rscript+' '+count_matrix+' '+sigs_matrix+' '+output+' 1'\n",
    "        commands.append(command)\n",
    "commands"
   ]
  },
  {
   "cell_type": "code",
   "execution_count": 30,
   "id": "dad0e559",
   "metadata": {},
   "outputs": [],
   "source": [
    "qmap_pre_params = ['[pre]','. \"/home/$USER/miniconda3/etc/profile.d/conda.sh\"','conda activate msigact','[params]','cores = 1','memory = 8G','[jobs]']\n",
    "qmap_file = qmap_pre_params + commands"
   ]
  },
  {
   "cell_type": "code",
   "execution_count": 31,
   "id": "a727e7b2",
   "metadata": {},
   "outputs": [],
   "source": [
    "#Save qmap file\n",
    "\n",
    "with open('./qmap_files/02_msigact_script_per_sample.qmap', 'w') as f:\n",
    "    for item in qmap_file:\n",
    "        f.write('%s\\n' % item)"
   ]
  },
  {
   "cell_type": "markdown",
   "id": "deb21907",
   "metadata": {},
   "source": [
    "# Specificity test"
   ]
  },
  {
   "cell_type": "markdown",
   "id": "8c0202d2",
   "metadata": {},
   "source": [
    "### qmap to create signature tables"
   ]
  },
  {
   "cell_type": "code",
   "execution_count": 67,
   "id": "9177f0d6",
   "metadata": {},
   "outputs": [
    {
     "data": {
      "text/plain": [
       "{'AU2198': {'SBS1': 63, 'SBS2': 55, 'SBS45': 330},\n",
       " 'AU2199': {'SBS2': 57, 'SBS18': 562},\n",
       " 'AU2200': {'SBS1': 15, 'SBS2': 13, 'SBS5': 225, 'SBS18': 108, 'SBS45': 85},\n",
       " 'AU2202': {'SBS1': 14, 'SBS18': 48, 'SBS40': 115},\n",
       " 'AZ4609': {'SBS5': 316, 'SBS18': 283, 'SBS40': 507},\n",
       " 'AZ4610': {'SBS5': 319, 'SBS40': 464, 'SBS45': 159},\n",
       " 'AZ4611': {'SBS5': 246, 'SBS40': 179, 'SBS45': 87},\n",
       " 'AZ4612': {'SBS1': 32, 'SBS40': 744},\n",
       " 'AZ4613': {'SBS2': 26, 'SBS40': 372},\n",
       " 'AZ4614': {'SBS18': 95, 'SBS40': 238},\n",
       " 'AZ6342': {'SBS5': 105, 'SBS18': 59},\n",
       " 'AZ6371': {'SBS1': 5, 'SBS40': 57}}"
      ]
     },
     "execution_count": 67,
     "metadata": {},
     "output_type": "execute_result"
    }
   ],
   "source": [
    "samples_info = json.load(open('./synthetic_samples_specificity/samples_dict.json','rb'))\n",
    "samples_info"
   ]
  },
  {
   "cell_type": "code",
   "execution_count": 52,
   "id": "ab38ab9d",
   "metadata": {
    "scrolled": true
   },
   "outputs": [
    {
     "name": "stdout",
     "output_type": "stream",
     "text": [
      "['python ../../../wgs_analysis/tumor_vs_blood/signature_analysis/scripts/create_matrix_sigs.py --cosmic_sigs_file ../../../wgs_analysis/tumor_vs_blood/signature_analysis/data/COSMIC_v3.3.1_SBS_GRCh38.txt --out_file ../synthetic_samples_specificity/AU2198/sigs_SBS31.tsv --sigs SBS1,SBS2,SBS45,SBS31', 'python ../../../wgs_analysis/tumor_vs_blood/signature_analysis/scripts/create_matrix_sigs.py --cosmic_sigs_file ../../../wgs_analysis/tumor_vs_blood/signature_analysis/data/COSMIC_v3.3.1_SBS_GRCh38.txt --out_file ../synthetic_samples_specificity/AU2199/sigs_SBS31.tsv --sigs SBS2,SBS18,SBS31', 'python ../../../wgs_analysis/tumor_vs_blood/signature_analysis/scripts/create_matrix_sigs.py --cosmic_sigs_file ../../../wgs_analysis/tumor_vs_blood/signature_analysis/data/COSMIC_v3.3.1_SBS_GRCh38.txt --out_file ../synthetic_samples_specificity/AU2200/sigs_SBS31.tsv --sigs SBS1,SBS2,SBS5,SBS18,SBS45,SBS31', 'python ../../../wgs_analysis/tumor_vs_blood/signature_analysis/scripts/create_matrix_sigs.py --cosmic_sigs_file ../../../wgs_analysis/tumor_vs_blood/signature_analysis/data/COSMIC_v3.3.1_SBS_GRCh38.txt --out_file ../synthetic_samples_specificity/AU2202/sigs_SBS31.tsv --sigs SBS1,SBS18,SBS40,SBS31', 'python ../../../wgs_analysis/tumor_vs_blood/signature_analysis/scripts/create_matrix_sigs.py --cosmic_sigs_file ../../../wgs_analysis/tumor_vs_blood/signature_analysis/data/COSMIC_v3.3.1_SBS_GRCh38.txt --out_file ../synthetic_samples_specificity/AZ4609/sigs_SBS31.tsv --sigs SBS5,SBS18,SBS40,SBS31', 'python ../../../wgs_analysis/tumor_vs_blood/signature_analysis/scripts/create_matrix_sigs.py --cosmic_sigs_file ../../../wgs_analysis/tumor_vs_blood/signature_analysis/data/COSMIC_v3.3.1_SBS_GRCh38.txt --out_file ../synthetic_samples_specificity/AZ4610/sigs_SBS31.tsv --sigs SBS5,SBS40,SBS45,SBS31', 'python ../../../wgs_analysis/tumor_vs_blood/signature_analysis/scripts/create_matrix_sigs.py --cosmic_sigs_file ../../../wgs_analysis/tumor_vs_blood/signature_analysis/data/COSMIC_v3.3.1_SBS_GRCh38.txt --out_file ../synthetic_samples_specificity/AZ4611/sigs_SBS31.tsv --sigs SBS5,SBS40,SBS45,SBS31', 'python ../../../wgs_analysis/tumor_vs_blood/signature_analysis/scripts/create_matrix_sigs.py --cosmic_sigs_file ../../../wgs_analysis/tumor_vs_blood/signature_analysis/data/COSMIC_v3.3.1_SBS_GRCh38.txt --out_file ../synthetic_samples_specificity/AZ4612/sigs_SBS31.tsv --sigs SBS1,SBS40,SBS31', 'python ../../../wgs_analysis/tumor_vs_blood/signature_analysis/scripts/create_matrix_sigs.py --cosmic_sigs_file ../../../wgs_analysis/tumor_vs_blood/signature_analysis/data/COSMIC_v3.3.1_SBS_GRCh38.txt --out_file ../synthetic_samples_specificity/AZ4613/sigs_SBS31.tsv --sigs SBS2,SBS40,SBS31', 'python ../../../wgs_analysis/tumor_vs_blood/signature_analysis/scripts/create_matrix_sigs.py --cosmic_sigs_file ../../../wgs_analysis/tumor_vs_blood/signature_analysis/data/COSMIC_v3.3.1_SBS_GRCh38.txt --out_file ../synthetic_samples_specificity/AZ4614/sigs_SBS31.tsv --sigs SBS18,SBS40,SBS31', 'python ../../../wgs_analysis/tumor_vs_blood/signature_analysis/scripts/create_matrix_sigs.py --cosmic_sigs_file ../../../wgs_analysis/tumor_vs_blood/signature_analysis/data/COSMIC_v3.3.1_SBS_GRCh38.txt --out_file ../synthetic_samples_specificity/AZ6342/sigs_SBS31.tsv --sigs SBS5,SBS18,SBS31', 'python ../../../wgs_analysis/tumor_vs_blood/signature_analysis/scripts/create_matrix_sigs.py --cosmic_sigs_file ../../../wgs_analysis/tumor_vs_blood/signature_analysis/data/COSMIC_v3.3.1_SBS_GRCh38.txt --out_file ../synthetic_samples_specificity/AZ6371/sigs_SBS31.tsv --sigs SBS1,SBS40,SBS31']\n"
     ]
    }
   ],
   "source": [
    "python_script = '../../../wgs_analysis/tumor_vs_blood/signature_analysis/scripts/create_matrix_sigs.py'\n",
    "cosmic_sigs_file = '../../../wgs_analysis/tumor_vs_blood/signature_analysis/data/COSMIC_v3.3.1_SBS_GRCh38.txt'\n",
    "out_path = '../synthetic_samples_specificity/'\n",
    "commands = []\n",
    "for sample in samples_info:\n",
    "    sigs = samples_info[sample].keys()\n",
    "    sigs_to_string = ''\n",
    "    for sig in sigs:\n",
    "        sigs_to_string = sigs_to_string + ',' + sig\n",
    "    sigs_to_string = sigs_to_string[1:]\n",
    "    command = 'python '+python_script+' --cosmic_sigs_file '+cosmic_sigs_file+' --out_file '+out_path+sample+'/sigs_SBS31.tsv --sigs '+sigs_to_string+',SBS31'\n",
    "    commands.append(command)\n",
    "qmap_pre_params = ['[pre]','. \"/home/$USER/miniconda3/etc/profile.d/conda.sh\"','conda activate msigact','[params]','cores = 1','memory = 8G','[jobs]']\n",
    "qmap_file = qmap_pre_params + commands\n",
    "#Save qmap file\n",
    "print(commands)\n",
    "with open('./qmap_files/03_msigact_signatrue_tables_synthetic_specificity.qmap', 'w') as f:\n",
    "    for item in qmap_file:\n",
    "        f.write('%s\\n' % item)"
   ]
  },
  {
   "cell_type": "markdown",
   "id": "b91c2660",
   "metadata": {},
   "source": [
    "### qmap to run mSigAct"
   ]
  },
  {
   "cell_type": "code",
   "execution_count": 51,
   "id": "04939282",
   "metadata": {
    "scrolled": true
   },
   "outputs": [
    {
     "name": "stdout",
     "output_type": "stream",
     "text": [
      "['Rscript ../../../wgs_analysis/tumor_vs_blood/signature_analysis/scripts/run_pipeline.R /workspace/projects/sjd_pediatric_tumors/second-tumors-children/duplex_analysis/signature_analysis/synthetic_samples_specificity/AU2198/count_matrix.tsv /workspace/projects/sjd_pediatric_tumors/second-tumors-children/duplex_analysis/signature_analysis/synthetic_samples_specificity/AU2198/sigs_SBS31.tsv /workspace/projects/sjd_pediatric_tumors/second-tumors-children/duplex_analysis/signature_analysis/synthetic_samples_specificity/AU2198/SBS31/ 4', 'Rscript ../../../wgs_analysis/tumor_vs_blood/signature_analysis/scripts/run_pipeline.R /workspace/projects/sjd_pediatric_tumors/second-tumors-children/duplex_analysis/signature_analysis/synthetic_samples_specificity/AU2199/count_matrix.tsv /workspace/projects/sjd_pediatric_tumors/second-tumors-children/duplex_analysis/signature_analysis/synthetic_samples_specificity/AU2199/sigs_SBS31.tsv /workspace/projects/sjd_pediatric_tumors/second-tumors-children/duplex_analysis/signature_analysis/synthetic_samples_specificity/AU2199/SBS31/ 4', 'Rscript ../../../wgs_analysis/tumor_vs_blood/signature_analysis/scripts/run_pipeline.R /workspace/projects/sjd_pediatric_tumors/second-tumors-children/duplex_analysis/signature_analysis/synthetic_samples_specificity/AU2200/count_matrix.tsv /workspace/projects/sjd_pediatric_tumors/second-tumors-children/duplex_analysis/signature_analysis/synthetic_samples_specificity/AU2200/sigs_SBS31.tsv /workspace/projects/sjd_pediatric_tumors/second-tumors-children/duplex_analysis/signature_analysis/synthetic_samples_specificity/AU2200/SBS31/ 4', 'Rscript ../../../wgs_analysis/tumor_vs_blood/signature_analysis/scripts/run_pipeline.R /workspace/projects/sjd_pediatric_tumors/second-tumors-children/duplex_analysis/signature_analysis/synthetic_samples_specificity/AU2202/count_matrix.tsv /workspace/projects/sjd_pediatric_tumors/second-tumors-children/duplex_analysis/signature_analysis/synthetic_samples_specificity/AU2202/sigs_SBS31.tsv /workspace/projects/sjd_pediatric_tumors/second-tumors-children/duplex_analysis/signature_analysis/synthetic_samples_specificity/AU2202/SBS31/ 4', 'Rscript ../../../wgs_analysis/tumor_vs_blood/signature_analysis/scripts/run_pipeline.R /workspace/projects/sjd_pediatric_tumors/second-tumors-children/duplex_analysis/signature_analysis/synthetic_samples_specificity/AZ4609/count_matrix.tsv /workspace/projects/sjd_pediatric_tumors/second-tumors-children/duplex_analysis/signature_analysis/synthetic_samples_specificity/AZ4609/sigs_SBS31.tsv /workspace/projects/sjd_pediatric_tumors/second-tumors-children/duplex_analysis/signature_analysis/synthetic_samples_specificity/AZ4609/SBS31/ 4', 'Rscript ../../../wgs_analysis/tumor_vs_blood/signature_analysis/scripts/run_pipeline.R /workspace/projects/sjd_pediatric_tumors/second-tumors-children/duplex_analysis/signature_analysis/synthetic_samples_specificity/AZ4610/count_matrix.tsv /workspace/projects/sjd_pediatric_tumors/second-tumors-children/duplex_analysis/signature_analysis/synthetic_samples_specificity/AZ4610/sigs_SBS31.tsv /workspace/projects/sjd_pediatric_tumors/second-tumors-children/duplex_analysis/signature_analysis/synthetic_samples_specificity/AZ4610/SBS31/ 4', 'Rscript ../../../wgs_analysis/tumor_vs_blood/signature_analysis/scripts/run_pipeline.R /workspace/projects/sjd_pediatric_tumors/second-tumors-children/duplex_analysis/signature_analysis/synthetic_samples_specificity/AZ4611/count_matrix.tsv /workspace/projects/sjd_pediatric_tumors/second-tumors-children/duplex_analysis/signature_analysis/synthetic_samples_specificity/AZ4611/sigs_SBS31.tsv /workspace/projects/sjd_pediatric_tumors/second-tumors-children/duplex_analysis/signature_analysis/synthetic_samples_specificity/AZ4611/SBS31/ 4', 'Rscript ../../../wgs_analysis/tumor_vs_blood/signature_analysis/scripts/run_pipeline.R /workspace/projects/sjd_pediatric_tumors/second-tumors-children/duplex_analysis/signature_analysis/synthetic_samples_specificity/AZ4612/count_matrix.tsv /workspace/projects/sjd_pediatric_tumors/second-tumors-children/duplex_analysis/signature_analysis/synthetic_samples_specificity/AZ4612/sigs_SBS31.tsv /workspace/projects/sjd_pediatric_tumors/second-tumors-children/duplex_analysis/signature_analysis/synthetic_samples_specificity/AZ4612/SBS31/ 4', 'Rscript ../../../wgs_analysis/tumor_vs_blood/signature_analysis/scripts/run_pipeline.R /workspace/projects/sjd_pediatric_tumors/second-tumors-children/duplex_analysis/signature_analysis/synthetic_samples_specificity/AZ4613/count_matrix.tsv /workspace/projects/sjd_pediatric_tumors/second-tumors-children/duplex_analysis/signature_analysis/synthetic_samples_specificity/AZ4613/sigs_SBS31.tsv /workspace/projects/sjd_pediatric_tumors/second-tumors-children/duplex_analysis/signature_analysis/synthetic_samples_specificity/AZ4613/SBS31/ 4', 'Rscript ../../../wgs_analysis/tumor_vs_blood/signature_analysis/scripts/run_pipeline.R /workspace/projects/sjd_pediatric_tumors/second-tumors-children/duplex_analysis/signature_analysis/synthetic_samples_specificity/AZ4614/count_matrix.tsv /workspace/projects/sjd_pediatric_tumors/second-tumors-children/duplex_analysis/signature_analysis/synthetic_samples_specificity/AZ4614/sigs_SBS31.tsv /workspace/projects/sjd_pediatric_tumors/second-tumors-children/duplex_analysis/signature_analysis/synthetic_samples_specificity/AZ4614/SBS31/ 4', 'Rscript ../../../wgs_analysis/tumor_vs_blood/signature_analysis/scripts/run_pipeline.R /workspace/projects/sjd_pediatric_tumors/second-tumors-children/duplex_analysis/signature_analysis/synthetic_samples_specificity/AZ6342/count_matrix.tsv /workspace/projects/sjd_pediatric_tumors/second-tumors-children/duplex_analysis/signature_analysis/synthetic_samples_specificity/AZ6342/sigs_SBS31.tsv /workspace/projects/sjd_pediatric_tumors/second-tumors-children/duplex_analysis/signature_analysis/synthetic_samples_specificity/AZ6342/SBS31/ 4', 'Rscript ../../../wgs_analysis/tumor_vs_blood/signature_analysis/scripts/run_pipeline.R /workspace/projects/sjd_pediatric_tumors/second-tumors-children/duplex_analysis/signature_analysis/synthetic_samples_specificity/AZ6371/count_matrix.tsv /workspace/projects/sjd_pediatric_tumors/second-tumors-children/duplex_analysis/signature_analysis/synthetic_samples_specificity/AZ6371/sigs_SBS31.tsv /workspace/projects/sjd_pediatric_tumors/second-tumors-children/duplex_analysis/signature_analysis/synthetic_samples_specificity/AZ6371/SBS31/ 4']\n"
     ]
    }
   ],
   "source": [
    "rscript = '../../../wgs_analysis/tumor_vs_blood/signature_analysis/scripts/run_pipeline.R'\n",
    "base_path = '/workspace/projects/sjd_pediatric_tumors/' #change this path at th end\n",
    "path = base_path+'second-tumors-children/duplex_analysis/signature_analysis/synthetic_samples_specificity/'\n",
    "commands = []\n",
    "for sample in samples_info.keys():\n",
    "    count_matrix = path + sample + '/count_matrix.tsv'\n",
    "    sigs_matrix = path + sample + '/sigs_SBS31.tsv'\n",
    "    output = path + sample + '/SBS31/'\n",
    "    if not os.path.exists(output):\n",
    "        os.makedirs(output)\n",
    "    command = 'Rscript '+rscript+' '+count_matrix+' '+sigs_matrix+' '+output+' 4'\n",
    "    commands.append(command)\n",
    "print(commands)\n",
    "qmap_pre_params = ['[pre]','. \"/home/$USER/miniconda3/etc/profile.d/conda.sh\"','conda activate msigact','[params]','cores = 4','memory = 16G','[jobs]']\n",
    "qmap_file = qmap_pre_params + commands\n",
    "with open('./qmap_files/04_msigact_script_synthetic_specificity.qmap', 'w') as f:\n",
    "    for item in qmap_file:\n",
    "        f.write('%s\\n' % item)"
   ]
  },
  {
   "cell_type": "markdown",
   "id": "9ed6c2d1",
   "metadata": {},
   "source": [
    "# Sensitibity test (SBS31 injections, confidence intervals)"
   ]
  },
  {
   "cell_type": "markdown",
   "id": "a58a5899",
   "metadata": {},
   "source": [
    "### qmap to create signature tables"
   ]
  },
  {
   "cell_type": "code",
   "execution_count": 68,
   "id": "e8451c07",
   "metadata": {},
   "outputs": [],
   "source": [
    "all_samples_dict = json.load(open('./synthetic_samples_sensitibity/all_samples_dict.json','rb'))\n",
    "pt1_samples_dict = json.load(open('./synthetic_samples_sensitibity/case1_samples_dict.json','rb'))"
   ]
  },
  {
   "cell_type": "code",
   "execution_count": 69,
   "id": "c9cbd3d1",
   "metadata": {
    "scrolled": true
   },
   "outputs": [
    {
     "name": "stdout",
     "output_type": "stream",
     "text": [
      "['python ../../../wgs_analysis/tumor_vs_blood/signature_analysis/scripts/create_matrix_sigs.py --cosmic_sigs_file ../../../wgs_analysis/tumor_vs_blood/signature_analysis/data/COSMIC_v3.3.1_SBS_GRCh38.txt --out_file ../synthetic_samples_sensitibity/AU2198/sigs_SBS31.tsv --sigs SBS1,SBS2,SBS45,SBS31', 'python ../../../wgs_analysis/tumor_vs_blood/signature_analysis/scripts/create_matrix_sigs.py --cosmic_sigs_file ../../../wgs_analysis/tumor_vs_blood/signature_analysis/data/COSMIC_v3.3.1_SBS_GRCh38.txt --out_file ../synthetic_samples_sensitibity/AZ4609/sigs_SBS31.tsv --sigs SBS5,SBS18,SBS40,SBS31', 'python ../../../wgs_analysis/tumor_vs_blood/signature_analysis/scripts/create_matrix_sigs.py --cosmic_sigs_file ../../../wgs_analysis/tumor_vs_blood/signature_analysis/data/COSMIC_v3.3.1_SBS_GRCh38.txt --out_file ../synthetic_samples_sensitibity/AZ4610/sigs_SBS31.tsv --sigs SBS5,SBS40,SBS45,SBS31', 'python ../../../wgs_analysis/tumor_vs_blood/signature_analysis/scripts/create_matrix_sigs.py --cosmic_sigs_file ../../../wgs_analysis/tumor_vs_blood/signature_analysis/data/COSMIC_v3.3.1_SBS_GRCh38.txt --out_file ../synthetic_samples_sensitibity/AZ4611/sigs_SBS31.tsv --sigs SBS5,SBS40,SBS45,SBS31', 'python ../../../wgs_analysis/tumor_vs_blood/signature_analysis/scripts/create_matrix_sigs.py --cosmic_sigs_file ../../../wgs_analysis/tumor_vs_blood/signature_analysis/data/COSMIC_v3.3.1_SBS_GRCh38.txt --out_file ../synthetic_samples_sensitibity/AZ4612/sigs_SBS31.tsv --sigs SBS1,SBS40,SBS31', 'python ../../../wgs_analysis/tumor_vs_blood/signature_analysis/scripts/create_matrix_sigs.py --cosmic_sigs_file ../../../wgs_analysis/tumor_vs_blood/signature_analysis/data/COSMIC_v3.3.1_SBS_GRCh38.txt --out_file ../synthetic_samples_sensitibity/AZ4613/sigs_SBS31.tsv --sigs SBS2,SBS40,SBS31', 'python ../../../wgs_analysis/tumor_vs_blood/signature_analysis/scripts/create_matrix_sigs.py --cosmic_sigs_file ../../../wgs_analysis/tumor_vs_blood/signature_analysis/data/COSMIC_v3.3.1_SBS_GRCh38.txt --out_file ../synthetic_samples_sensitibity/AZ4614/sigs_SBS31.tsv --sigs SBS18,SBS40,SBS31', 'python ../../../wgs_analysis/tumor_vs_blood/signature_analysis/scripts/create_matrix_sigs.py --cosmic_sigs_file ../../../wgs_analysis/tumor_vs_blood/signature_analysis/data/COSMIC_v3.3.1_SBS_GRCh38.txt --out_file ../synthetic_samples_sensitibity/AQ5187_vs_AQ5175/sigs_SBS31.tsv --sigs SBS1,SBS5,SBS18,SBS31']\n"
     ]
    }
   ],
   "source": [
    "python_script = '../../../wgs_analysis/tumor_vs_blood/signature_analysis/scripts/create_matrix_sigs.py'\n",
    "cosmic_sigs_file = '../../../wgs_analysis/tumor_vs_blood/signature_analysis/data/COSMIC_v3.3.1_SBS_GRCh38.txt'\n",
    "out_path = '../synthetic_samples_sensitibity/'\n",
    "commands = []\n",
    "for sample in all_samples_dict.keys():\n",
    "    sigs = all_samples_dict[sample]['SBS31_0'].keys()\n",
    "    sigs_to_string = ''\n",
    "    for sig in sigs:\n",
    "        sigs_to_string = sigs_to_string + ',' + sig\n",
    "    sigs_to_string = sigs_to_string[1:]\n",
    "    command = 'python '+python_script+' --cosmic_sigs_file '+cosmic_sigs_file+' --out_file '+out_path+sample+'/sigs_SBS31.tsv --sigs '+sigs_to_string+',SBS31'\n",
    "    commands.append(command)\n",
    "for sample in pt1_samples_dict.keys():\n",
    "    sigs = pt1_samples_dict[sample]['SBS31_0'].keys()\n",
    "    sigs_to_string = ''\n",
    "    for sig in sigs:\n",
    "        sigs_to_string = sigs_to_string + ',' + sig\n",
    "    sigs_to_string = sigs_to_string[1:]\n",
    "    command = 'python '+python_script+' --cosmic_sigs_file '+cosmic_sigs_file+' --out_file '+out_path+sample+'/sigs_SBS31.tsv --sigs '+sigs_to_string+',SBS31'\n",
    "    commands.append(command)\n",
    "\n",
    "qmap_pre_params = ['[pre]','. \"/home/$USER/miniconda3/etc/profile.d/conda.sh\"','conda activate msigact','[params]','cores = 1','memory = 8G','[jobs]']\n",
    "qmap_file = qmap_pre_params + commands\n",
    "#Save qmap file\n",
    "print(commands)\n",
    "with open('./qmap_files/05_msigact_signature_tables_synthetic_sensitibity_injections.qmap', 'w') as f:\n",
    "    for item in qmap_file:\n",
    "        f.write('%s\\n' % item)"
   ]
  },
  {
   "cell_type": "markdown",
   "id": "77632a2a",
   "metadata": {},
   "source": [
    "### qmap to run mSigAct"
   ]
  },
  {
   "cell_type": "code",
   "execution_count": 70,
   "id": "b92ab86e",
   "metadata": {
    "scrolled": true
   },
   "outputs": [
    {
     "name": "stdout",
     "output_type": "stream",
     "text": [
      "['Rscript ../../../wgs_analysis/tumor_vs_blood/signature_analysis/scripts/run_pipeline.R /workspace/projects/sjd_pediatric_tumors/second-tumors-children/duplex_analysis/signature_analysis/synthetic_samples_sensitibity/AU2198/count_matrix.tsv /workspace/projects/sjd_pediatric_tumors/second-tumors-children/duplex_analysis/signature_analysis/synthetic_samples_sensitibity/AU2198/sigs_SBS31.tsv /workspace/projects/sjd_pediatric_tumors/second-tumors-children/duplex_analysis/signature_analysis/synthetic_samples_sensitibity/AU2198/SBS31/ 4', 'Rscript ../../../wgs_analysis/tumor_vs_blood/signature_analysis/scripts/run_pipeline.R /workspace/projects/sjd_pediatric_tumors/second-tumors-children/duplex_analysis/signature_analysis/synthetic_samples_sensitibity/AZ4609/count_matrix.tsv /workspace/projects/sjd_pediatric_tumors/second-tumors-children/duplex_analysis/signature_analysis/synthetic_samples_sensitibity/AZ4609/sigs_SBS31.tsv /workspace/projects/sjd_pediatric_tumors/second-tumors-children/duplex_analysis/signature_analysis/synthetic_samples_sensitibity/AZ4609/SBS31/ 4', 'Rscript ../../../wgs_analysis/tumor_vs_blood/signature_analysis/scripts/run_pipeline.R /workspace/projects/sjd_pediatric_tumors/second-tumors-children/duplex_analysis/signature_analysis/synthetic_samples_sensitibity/AZ4610/count_matrix.tsv /workspace/projects/sjd_pediatric_tumors/second-tumors-children/duplex_analysis/signature_analysis/synthetic_samples_sensitibity/AZ4610/sigs_SBS31.tsv /workspace/projects/sjd_pediatric_tumors/second-tumors-children/duplex_analysis/signature_analysis/synthetic_samples_sensitibity/AZ4610/SBS31/ 4', 'Rscript ../../../wgs_analysis/tumor_vs_blood/signature_analysis/scripts/run_pipeline.R /workspace/projects/sjd_pediatric_tumors/second-tumors-children/duplex_analysis/signature_analysis/synthetic_samples_sensitibity/AZ4611/count_matrix.tsv /workspace/projects/sjd_pediatric_tumors/second-tumors-children/duplex_analysis/signature_analysis/synthetic_samples_sensitibity/AZ4611/sigs_SBS31.tsv /workspace/projects/sjd_pediatric_tumors/second-tumors-children/duplex_analysis/signature_analysis/synthetic_samples_sensitibity/AZ4611/SBS31/ 4', 'Rscript ../../../wgs_analysis/tumor_vs_blood/signature_analysis/scripts/run_pipeline.R /workspace/projects/sjd_pediatric_tumors/second-tumors-children/duplex_analysis/signature_analysis/synthetic_samples_sensitibity/AZ4612/count_matrix.tsv /workspace/projects/sjd_pediatric_tumors/second-tumors-children/duplex_analysis/signature_analysis/synthetic_samples_sensitibity/AZ4612/sigs_SBS31.tsv /workspace/projects/sjd_pediatric_tumors/second-tumors-children/duplex_analysis/signature_analysis/synthetic_samples_sensitibity/AZ4612/SBS31/ 4', 'Rscript ../../../wgs_analysis/tumor_vs_blood/signature_analysis/scripts/run_pipeline.R /workspace/projects/sjd_pediatric_tumors/second-tumors-children/duplex_analysis/signature_analysis/synthetic_samples_sensitibity/AZ4613/count_matrix.tsv /workspace/projects/sjd_pediatric_tumors/second-tumors-children/duplex_analysis/signature_analysis/synthetic_samples_sensitibity/AZ4613/sigs_SBS31.tsv /workspace/projects/sjd_pediatric_tumors/second-tumors-children/duplex_analysis/signature_analysis/synthetic_samples_sensitibity/AZ4613/SBS31/ 4', 'Rscript ../../../wgs_analysis/tumor_vs_blood/signature_analysis/scripts/run_pipeline.R /workspace/projects/sjd_pediatric_tumors/second-tumors-children/duplex_analysis/signature_analysis/synthetic_samples_sensitibity/AZ4614/count_matrix.tsv /workspace/projects/sjd_pediatric_tumors/second-tumors-children/duplex_analysis/signature_analysis/synthetic_samples_sensitibity/AZ4614/sigs_SBS31.tsv /workspace/projects/sjd_pediatric_tumors/second-tumors-children/duplex_analysis/signature_analysis/synthetic_samples_sensitibity/AZ4614/SBS31/ 4', 'Rscript ../../../wgs_analysis/tumor_vs_blood/signature_analysis/scripts/run_pipeline.R /workspace/projects/sjd_pediatric_tumors/second-tumors-children/duplex_analysis/signature_analysis/synthetic_samples_sensitibity/AQ5187_vs_AQ5175/count_matrix.tsv /workspace/projects/sjd_pediatric_tumors/second-tumors-children/duplex_analysis/signature_analysis/synthetic_samples_sensitibity/AQ5187_vs_AQ5175/sigs_SBS31.tsv /workspace/projects/sjd_pediatric_tumors/second-tumors-children/duplex_analysis/signature_analysis/synthetic_samples_sensitibity/AQ5187_vs_AQ5175/SBS31/ 4']\n"
     ]
    }
   ],
   "source": [
    "rscript = '../../../wgs_analysis/tumor_vs_blood/signature_analysis/scripts/run_pipeline.R'\n",
    "base_path = '/workspace/projects/sjd_pediatric_tumors/'\n",
    "path = base_path + 'second-tumors-children/duplex_analysis/signature_analysis/synthetic_samples_sensitibity/'\n",
    "commands = []\n",
    "for sample in all_samples_dict.keys():\n",
    "    count_matrix = path + sample + '/count_matrix.tsv'\n",
    "    sigs_matrix = path + sample + '/sigs_SBS31.tsv'\n",
    "    output = path + sample + '/SBS31/'\n",
    "    if not os.path.exists(output):\n",
    "        os.makedirs(output)\n",
    "    command = 'Rscript '+rscript+' '+count_matrix+' '+sigs_matrix+' '+output+' 4'\n",
    "    commands.append(command)\n",
    "for sample in pt1_samples_dict.keys():\n",
    "    count_matrix = path + sample + '/count_matrix.tsv'\n",
    "    sigs_matrix = path + sample + '/sigs_SBS31.tsv'\n",
    "    output = path + sample + '/SBS31/'\n",
    "    if not os.path.exists(output):\n",
    "        os.makedirs(output)\n",
    "    command = 'Rscript '+rscript+' '+count_matrix+' '+sigs_matrix+' '+output+' 4'\n",
    "    commands.append(command)\n",
    "print(commands)\n",
    "qmap_pre_params = ['[pre]','. \"/home/$USER/miniconda3/etc/profile.d/conda.sh\"','conda activate msigact','[params]','cores = 4','memory = 16G','[jobs]']\n",
    "qmap_file = qmap_pre_params + commands\n",
    "with open('./qmap_files/06_msigact_script_per_sample_synthetic_sensitibity_injections.qmap', 'w') as f:\n",
    "    for item in qmap_file:\n",
    "        f.write('%s\\n' % item)"
   ]
  }
 ],
 "metadata": {
  "kernelspec": {
   "display_name": "Python [conda env:process_vc]",
   "language": "python",
   "name": "conda-env-process_vc-py"
  },
  "language_info": {
   "codemirror_mode": {
    "name": "ipython",
    "version": 3
   },
   "file_extension": ".py",
   "mimetype": "text/x-python",
   "name": "python",
   "nbconvert_exporter": "python",
   "pygments_lexer": "ipython3",
   "version": "3.6.11"
  }
 },
 "nbformat": 4,
 "nbformat_minor": 5
}
