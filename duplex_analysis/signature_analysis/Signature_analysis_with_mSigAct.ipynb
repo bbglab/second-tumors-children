{
 "cells": [
  {
   "cell_type": "markdown",
   "id": "d47855f7",
   "metadata": {},
   "source": [
    "# Signature analysis with mSigAct"
   ]
  },
  {
   "cell_type": "markdown",
   "id": "3d10d390",
   "metadata": {},
   "source": [
    "First, check notebook `Selection_of_signatures_with_combinatorial_refitting.ipynb`"
   ]
  },
  {
   "cell_type": "code",
   "execution_count": 5,
   "id": "6284185b",
   "metadata": {},
   "outputs": [],
   "source": [
    "import pandas as pd\n",
    "import os\n",
    "import matplotlib.pyplot as plt\n",
    "import seaborn as sns\n",
    "import numpy as np\n",
    "import json\n",
    "from tqdm.notebook import tqdm\n",
    "\n",
    "import matplotlib\n",
    "\n",
    "matplotlib.rcParams['axes.grid'] = False\n",
    "matplotlib.rcParams['savefig.transparent'] = True\n",
    "\n",
    "from pandas.api.types import CategoricalDtype"
   ]
  },
  {
   "cell_type": "markdown",
   "id": "a1f80441",
   "metadata": {},
   "source": [
    "## Relative to mappable genome"
   ]
  },
  {
   "cell_type": "code",
   "execution_count": 2,
   "id": "d9726354",
   "metadata": {},
   "outputs": [],
   "source": [
    "%run ../mutational_profiles/scripts/functions_genome_contexts.py\n",
    "\n",
    "keys = list(mut_key_gen())\n",
    "mut_keys = [key[0]+key[1] for key in keys]\n",
    "# context_genome_dict = dict(zip(mut_keys,genome_context_counts))\n",
    "\n",
    "cols_dict = {'Subtype':'subtype','Context':'context','Sample':'sample','Mut Depth':'mut_depth',\n",
    "             'Background Count':'BackgroundCount','Mean':'mean','Lower CI':'lower_ci',\n",
    "            'Upper CI':'upper_ci'}\n",
    "\n",
    "def make_channels (row):\n",
    "    mut = row['subtype']\n",
    "    context = row['context']\n",
    "    channel = context[0]+'['+mut+']'+context[2]\n",
    "    return channel\n",
    "\n",
    "def make_dictionary (df1,tool_format='deconstruct',context_genome_dict=None):\n",
    "    \n",
    "    if tool_format == 'deconstruct':        \n",
    "    \n",
    "        df1['channels'] = df1.apply(lambda row: make_channels(row),axis=1)\n",
    "        df1['alt'] = df1['subtype'].str.split('>',expand=True)[1]\n",
    "        df1['channels2'] = df1['context'] + df1['alt']\n",
    "        \n",
    "    elif tool_format == 'msigact':\n",
    "        df1['alt'] = df1['subtype'].str.split('>',expand=True)[1]\n",
    "        df1['channels'] = df1['context'] + df1['alt']\n",
    "        df1['channels2'] = df1['channels']\n",
    "    else:\n",
    "        print('Another format?')\n",
    "    \n",
    "    #Make dictionary with scaled counts to the panel\n",
    "    if context_genome_dict != None:   \n",
    "        \n",
    "        #Transform decimal values (probabilities) as counts, with the proportion of triplet occurences in the genome\n",
    "        df1['counts'] = df1.apply(lambda row: int(round(row['mean']*context_genome_dict[row['channels2']],0)),axis=1)\n",
    "    else:\n",
    "        df1['counts'] = df1['mut_depth']        \n",
    "    dictionary = dict(zip(df1['channels'],df1['counts']))\n",
    "    return dictionary"
   ]
  },
  {
   "cell_type": "code",
   "execution_count": 3,
   "id": "4ec701f5",
   "metadata": {
    "scrolled": true
   },
   "outputs": [
    {
     "data": {
      "application/vnd.jupyter.widget-view+json": {
       "model_id": "fdf5369917df488ba777cd56a08d6f1e",
       "version_major": 2,
       "version_minor": 0
      },
      "text/plain": [
       "HBox(children=(HTML(value=''), FloatProgress(value=0.0, max=2221.0), HTML(value='')))"
      ]
     },
     "metadata": {},
     "output_type": "display_data"
    },
    {
     "name": "stdout",
     "output_type": "stream",
     "text": [
      "\n"
     ]
    },
    {
     "data": {
      "text/plain": [
       "{'ACAA': 83603206,\n",
       " 'ACCA': 46367544,\n",
       " 'ACGA': 9335552,\n",
       " 'ACTA': 67155246,\n",
       " 'CCAA': 73859423,\n",
       " 'CCCA': 52121678,\n",
       " 'CCGA': 9622701,\n",
       " 'CCTA': 71755035,\n",
       " 'GCAA': 58743061,\n",
       " 'GCCA': 46601530,\n",
       " 'GCGA': 8245427,\n",
       " 'GCTA': 56910121,\n",
       " 'TCAA': 81205501,\n",
       " 'TCCA': 62456262,\n",
       " 'TCGA': 8043982,\n",
       " 'TCTA': 92070619,\n",
       " 'ACAG': 83603206,\n",
       " 'ACCG': 46367544,\n",
       " 'ACGG': 9335552,\n",
       " 'ACTG': 67155246,\n",
       " 'CCAG': 73859423,\n",
       " 'CCCG': 52121678,\n",
       " 'CCGG': 9622701,\n",
       " 'CCTG': 71755035,\n",
       " 'GCAG': 58743061,\n",
       " 'GCCG': 46601530,\n",
       " 'GCGG': 8245427,\n",
       " 'GCTG': 56910121,\n",
       " 'TCAG': 81205501,\n",
       " 'TCCG': 62456262,\n",
       " 'TCGG': 8043982,\n",
       " 'TCTG': 92070619,\n",
       " 'ACAT': 83603206,\n",
       " 'ACCT': 46367544,\n",
       " 'ACGT': 9335552,\n",
       " 'ACTT': 67155246,\n",
       " 'CCAT': 73859423,\n",
       " 'CCCT': 52121678,\n",
       " 'CCGT': 9622701,\n",
       " 'CCTT': 71755035,\n",
       " 'GCAT': 58743061,\n",
       " 'GCCT': 46601530,\n",
       " 'GCGT': 8245427,\n",
       " 'GCTT': 56910121,\n",
       " 'TCAT': 81205501,\n",
       " 'TCCT': 62456262,\n",
       " 'TCGT': 8043982,\n",
       " 'TCTT': 92070619,\n",
       " 'ATAA': 88390892,\n",
       " 'ATCA': 54998890,\n",
       " 'ATGA': 76404531,\n",
       " 'ATTA': 106335106,\n",
       " 'CTAA': 53988655,\n",
       " 'CTCA': 67963313,\n",
       " 'CTGA': 82070988,\n",
       " 'CTTA': 84578659,\n",
       " 'GTAA': 47576528,\n",
       " 'GTCA': 38631302,\n",
       " 'GTGA': 60629202,\n",
       " 'GTTA': 60689912,\n",
       " 'TTAA': 89987316,\n",
       " 'TTCA': 83036533,\n",
       " 'TTGA': 78676386,\n",
       " 'TTTA': 162543503,\n",
       " 'ATAC': 88390892,\n",
       " 'ATCC': 54998890,\n",
       " 'ATGC': 76404531,\n",
       " 'ATTC': 106335106,\n",
       " 'CTAC': 53988655,\n",
       " 'CTCC': 67963313,\n",
       " 'CTGC': 82070988,\n",
       " 'CTTC': 84578659,\n",
       " 'GTAC': 47576528,\n",
       " 'GTCC': 38631302,\n",
       " 'GTGC': 60629202,\n",
       " 'GTTC': 60689912,\n",
       " 'TTAC': 89987316,\n",
       " 'TTCC': 83036533,\n",
       " 'TTGC': 78676386,\n",
       " 'TTTC': 162543503,\n",
       " 'ATAG': 88390892,\n",
       " 'ATCG': 54998890,\n",
       " 'ATGG': 76404531,\n",
       " 'ATTG': 106335106,\n",
       " 'CTAG': 53988655,\n",
       " 'CTCG': 67963313,\n",
       " 'CTGG': 82070988,\n",
       " 'CTTG': 84578659,\n",
       " 'GTAG': 47576528,\n",
       " 'GTCG': 38631302,\n",
       " 'GTGG': 60629202,\n",
       " 'GTTG': 60689912,\n",
       " 'TTAG': 89987316,\n",
       " 'TTCG': 83036533,\n",
       " 'TTGG': 78676386,\n",
       " 'TTTG': 162543503}"
      ]
     },
     "execution_count": 3,
     "metadata": {},
     "output_type": "execute_result"
    }
   ],
   "source": [
    "#prepare genome ccounts to mappable genome\n",
    "mappable_genome_by_chunk_dict = json.load(open('../mutational_profiles/data/hg38_1000kb_bin.filtered.mappable_positions.autosomes.trinuc_per_bin.json','rb'))\n",
    "contexts = mappable_genome_by_chunk_dict['chr1:3000000-4000000'].keys()\n",
    "all_contexts_dict = { context:0 for context in contexts}\n",
    "\n",
    "for chunk in tqdm(mappable_genome_by_chunk_dict.keys()):\n",
    "    contexts_dict = mappable_genome_by_chunk_dict[chunk]\n",
    "    for context in contexts:\n",
    "        all_contexts_dict[context] = contexts_dict[context] + all_contexts_dict[context]\n",
    "        \n",
    "map_genome_contexts_dict = {}\n",
    "for key in keys:\n",
    "    context = key[0]\n",
    "    mut = key[1]\n",
    "    map_genome_contexts_dict[context+mut] = all_contexts_dict[context]\n",
    "map_genome_contexts_dict   "
   ]
  },
  {
   "cell_type": "code",
   "execution_count": 6,
   "id": "11758941",
   "metadata": {},
   "outputs": [],
   "source": [
    "\n",
    "def create_snv_class(df):\n",
    "    pyr = ['C', 'T']\n",
    "    rev = {'A': 'T', 'T': 'A', 'G': 'C', 'C': 'G', 'N': 'N'}\n",
    "\n",
    "    x = df['context']\n",
    "\n",
    "    if x[1] in pyr:\n",
    "        out = '{}{}{}{}'.format(x[0], x[1], x[2], df['alt'])\n",
    "    else:\n",
    "        out = '{}{}{}{}'.format(rev[x[2]], rev[x[1]], rev[x[0]], rev[df['alt']])\n",
    "\n",
    "    return out\n",
    "\n",
    "def context_pyr(x):\n",
    "    pyr = ['C', 'T']\n",
    "    rev = {'A': 'T', 'T': 'A', 'G': 'C', 'C': 'G', 'N': 'N'}\n",
    "\n",
    "    if x[1] in pyr:\n",
    "        return x\n",
    "    else:\n",
    "        return rev[x[2]]+rev[x[1]]+rev[x[0]]\n",
    "    \n",
    "def prepare_count_table(path):\n",
    "    df = pd.read_csv(path,sep='\\t')\n",
    "    df['vaf'] = df['alt_depth'] / df['depth']\n",
    "    df = df.rename(columns={'context':'context2'})\n",
    "    df['context'] = df['context2'].apply(lambda x: context_pyr (x)) #transform all triplets into pyr perspective  \n",
    "    \n",
    "    path2 = path.replace('.mut','.genome.mut')\n",
    "    df2 = pd.read_csv(path2,sep='\\t')\n",
    "    df2 = df2.rename(columns={'context':'context2'})\n",
    "    df2['context'] = df2['context2'].apply(lambda x: context_pyr (x))  #trasnform all triplets into pyr perspective  \n",
    "    df2 = df2[['context','depth']].groupby('context',as_index=False).sum() #sum all the times a triplet has been observed\n",
    "    depth_dict = dict(zip(df2['context'],df2['depth']))\n",
    "\n",
    "    df = df[(df['vaf']<0.35)&(df['variation_type']=='snv')] #filter by vaf<0.35 and snv\n",
    "    df['channels'] = df.apply(create_snv_class, axis=1)\n",
    "\n",
    "    cat_type = CategoricalDtype(categories=mut_keys, ordered=True)\n",
    "    df['channels'] = df['channels'].astype(cat_type)\n",
    "    df1 = df[['channels','subtype']].groupby(['channels'],as_index=False).count() #count mutations (not sum) to know number of unique muts\n",
    "    df1 = df1.rename(columns={'subtype':'mut_count'})\n",
    "    df1['context'] = df1['channels'].apply(lambda x: x[:-1])\n",
    "    df1['subtype'] = df1['channels'].apply(lambda x: x[1]+'>'+x[3])\n",
    "    df1['BackgroundCount'] = df1['context'].map(depth_dict)\n",
    "    df1['mean'] = df1['mut_count'] / df1['BackgroundCount']\n",
    "    return df1"
   ]
  },
  {
   "cell_type": "markdown",
   "id": "2ba6e005",
   "metadata": {},
   "source": [
    "## Prepare count matrix"
   ]
  },
  {
   "cell_type": "code",
   "execution_count": 7,
   "id": "2176a07f",
   "metadata": {},
   "outputs": [],
   "source": [
    "sigs_dict = json.load(open('./msigact/sigs_per_sample.json','rb'))"
   ]
  },
  {
   "cell_type": "code",
   "execution_count": 8,
   "id": "387d0552",
   "metadata": {},
   "outputs": [
    {
     "data": {
      "text/plain": [
       "{'AU2198': ['SBS1', 'SBS2', 'SBS31', 'SBS45'],\n",
       " 'AU2199': ['SBS1', 'SBS2', 'SBS18', 'SBS31', 'SBS40', 'SBS45'],\n",
       " 'AU2200': ['SBS1', 'SBS2', 'SBS5', 'SBS18', 'SBS31', 'SBS45'],\n",
       " 'AU2202': ['SBS1', 'SBS2', 'SBS18', 'SBS31', 'SBS40'],\n",
       " 'AZ4609': ['SBS5', 'SBS18', 'SBS31', 'SBS40', 'SBS45'],\n",
       " 'AZ4610': ['SBS5', 'SBS31', 'SBS40', 'SBS45'],\n",
       " 'AZ4611': ['SBS5', 'SBS31', 'SBS40', 'SBS45'],\n",
       " 'AZ4612': ['SBS1', 'SBS31', 'SBS40'],\n",
       " 'AZ4613': ['SBS2', 'SBS13', 'SBS31', 'SBS40'],\n",
       " 'AZ4614': ['SBS5', 'SBS18', 'SBS31', 'SBS40'],\n",
       " 'AZ6342': ['SBS5', 'SBS18', 'SBS31', 'SBS40'],\n",
       " 'AZ6371': ['SBS1', 'SBS18', 'SBS31', 'SBS40']}"
      ]
     },
     "execution_count": 8,
     "metadata": {},
     "output_type": "execute_result"
    }
   ],
   "source": [
    "sigs_dict"
   ]
  },
  {
   "cell_type": "code",
   "execution_count": 9,
   "id": "71a386d2",
   "metadata": {},
   "outputs": [
    {
     "name": "stdout",
     "output_type": "stream",
     "text": [
      "Proportion of mappable genome triplets\n"
     ]
    },
    {
     "name": "stderr",
     "output_type": "stream",
     "text": [
      "/home/msanchezg/miniconda3/envs/process_vc/lib/python3.6/site-packages/IPython/core/interactiveshell.py:2818: DtypeWarning: Columns (15) have mixed types.Specify dtype option on import or set low_memory=False.\n",
      "  if self.run_code(code, result):\n",
      "/home/msanchezg/miniconda3/envs/process_vc/lib/python3.6/site-packages/IPython/core/interactiveshell.py:2818: DtypeWarning: Columns (26,32,37) have mixed types.Specify dtype option on import or set low_memory=False.\n",
      "  if self.run_code(code, result):\n",
      "/home/msanchezg/miniconda3/envs/process_vc/lib/python3.6/site-packages/IPython/core/interactiveshell.py:2818: DtypeWarning: Columns (26,37) have mixed types.Specify dtype option on import or set low_memory=False.\n",
      "  if self.run_code(code, result):\n",
      "/home/msanchezg/miniconda3/envs/process_vc/lib/python3.6/site-packages/IPython/core/interactiveshell.py:2818: DtypeWarning: Columns (32) have mixed types.Specify dtype option on import or set low_memory=False.\n",
      "  if self.run_code(code, result):\n"
     ]
    },
    {
     "data": {
      "text/html": [
       "<div>\n",
       "<style scoped>\n",
       "    .dataframe tbody tr th:only-of-type {\n",
       "        vertical-align: middle;\n",
       "    }\n",
       "\n",
       "    .dataframe tbody tr th {\n",
       "        vertical-align: top;\n",
       "    }\n",
       "\n",
       "    .dataframe thead th {\n",
       "        text-align: right;\n",
       "    }\n",
       "</style>\n",
       "<table border=\"1\" class=\"dataframe\">\n",
       "  <thead>\n",
       "    <tr style=\"text-align: right;\">\n",
       "      <th></th>\n",
       "      <th>AU2198</th>\n",
       "      <th>AU2199</th>\n",
       "      <th>AU2200</th>\n",
       "      <th>AU2202</th>\n",
       "      <th>AZ4609</th>\n",
       "      <th>AZ4610</th>\n",
       "      <th>AZ4611</th>\n",
       "      <th>AZ4612</th>\n",
       "      <th>AZ4613</th>\n",
       "      <th>AZ4614</th>\n",
       "      <th>AZ6342</th>\n",
       "      <th>AZ6371</th>\n",
       "    </tr>\n",
       "  </thead>\n",
       "  <tbody>\n",
       "    <tr>\n",
       "      <th>ACAA</th>\n",
       "      <td>8</td>\n",
       "      <td>33</td>\n",
       "      <td>6</td>\n",
       "      <td>4</td>\n",
       "      <td>19</td>\n",
       "      <td>20</td>\n",
       "      <td>12</td>\n",
       "      <td>32</td>\n",
       "      <td>10</td>\n",
       "      <td>11</td>\n",
       "      <td>5</td>\n",
       "      <td>0</td>\n",
       "    </tr>\n",
       "    <tr>\n",
       "      <th>ACCA</th>\n",
       "      <td>11</td>\n",
       "      <td>11</td>\n",
       "      <td>2</td>\n",
       "      <td>3</td>\n",
       "      <td>21</td>\n",
       "      <td>20</td>\n",
       "      <td>11</td>\n",
       "      <td>0</td>\n",
       "      <td>0</td>\n",
       "      <td>9</td>\n",
       "      <td>4</td>\n",
       "      <td>3</td>\n",
       "    </tr>\n",
       "    <tr>\n",
       "      <th>ACGA</th>\n",
       "      <td>9</td>\n",
       "      <td>24</td>\n",
       "      <td>16</td>\n",
       "      <td>4</td>\n",
       "      <td>5</td>\n",
       "      <td>5</td>\n",
       "      <td>6</td>\n",
       "      <td>0</td>\n",
       "      <td>13</td>\n",
       "      <td>6</td>\n",
       "      <td>3</td>\n",
       "      <td>2</td>\n",
       "    </tr>\n",
       "    <tr>\n",
       "      <th>ACTA</th>\n",
       "      <td>0</td>\n",
       "      <td>5</td>\n",
       "      <td>16</td>\n",
       "      <td>2</td>\n",
       "      <td>30</td>\n",
       "      <td>14</td>\n",
       "      <td>9</td>\n",
       "      <td>6</td>\n",
       "      <td>10</td>\n",
       "      <td>10</td>\n",
       "      <td>6</td>\n",
       "      <td>0</td>\n",
       "    </tr>\n",
       "    <tr>\n",
       "      <th>CCAA</th>\n",
       "      <td>18</td>\n",
       "      <td>47</td>\n",
       "      <td>10</td>\n",
       "      <td>1</td>\n",
       "      <td>17</td>\n",
       "      <td>9</td>\n",
       "      <td>13</td>\n",
       "      <td>12</td>\n",
       "      <td>0</td>\n",
       "      <td>2</td>\n",
       "      <td>2</td>\n",
       "      <td>0</td>\n",
       "    </tr>\n",
       "    <tr>\n",
       "      <th>...</th>\n",
       "      <td>...</td>\n",
       "      <td>...</td>\n",
       "      <td>...</td>\n",
       "      <td>...</td>\n",
       "      <td>...</td>\n",
       "      <td>...</td>\n",
       "      <td>...</td>\n",
       "      <td>...</td>\n",
       "      <td>...</td>\n",
       "      <td>...</td>\n",
       "      <td>...</td>\n",
       "      <td>...</td>\n",
       "    </tr>\n",
       "    <tr>\n",
       "      <th>GTTG</th>\n",
       "      <td>0</td>\n",
       "      <td>0</td>\n",
       "      <td>2</td>\n",
       "      <td>1</td>\n",
       "      <td>3</td>\n",
       "      <td>4</td>\n",
       "      <td>0</td>\n",
       "      <td>12</td>\n",
       "      <td>5</td>\n",
       "      <td>2</td>\n",
       "      <td>2</td>\n",
       "      <td>0</td>\n",
       "    </tr>\n",
       "    <tr>\n",
       "      <th>TTAG</th>\n",
       "      <td>0</td>\n",
       "      <td>0</td>\n",
       "      <td>2</td>\n",
       "      <td>1</td>\n",
       "      <td>4</td>\n",
       "      <td>7</td>\n",
       "      <td>2</td>\n",
       "      <td>7</td>\n",
       "      <td>0</td>\n",
       "      <td>2</td>\n",
       "      <td>0</td>\n",
       "      <td>0</td>\n",
       "    </tr>\n",
       "    <tr>\n",
       "      <th>TTCG</th>\n",
       "      <td>0</td>\n",
       "      <td>0</td>\n",
       "      <td>4</td>\n",
       "      <td>1</td>\n",
       "      <td>12</td>\n",
       "      <td>2</td>\n",
       "      <td>3</td>\n",
       "      <td>6</td>\n",
       "      <td>9</td>\n",
       "      <td>2</td>\n",
       "      <td>1</td>\n",
       "      <td>0</td>\n",
       "    </tr>\n",
       "    <tr>\n",
       "      <th>TTGG</th>\n",
       "      <td>0</td>\n",
       "      <td>0</td>\n",
       "      <td>4</td>\n",
       "      <td>0</td>\n",
       "      <td>5</td>\n",
       "      <td>4</td>\n",
       "      <td>0</td>\n",
       "      <td>12</td>\n",
       "      <td>0</td>\n",
       "      <td>0</td>\n",
       "      <td>0</td>\n",
       "      <td>0</td>\n",
       "    </tr>\n",
       "    <tr>\n",
       "      <th>TTTG</th>\n",
       "      <td>3</td>\n",
       "      <td>0</td>\n",
       "      <td>5</td>\n",
       "      <td>2</td>\n",
       "      <td>11</td>\n",
       "      <td>2</td>\n",
       "      <td>4</td>\n",
       "      <td>15</td>\n",
       "      <td>6</td>\n",
       "      <td>2</td>\n",
       "      <td>0</td>\n",
       "      <td>0</td>\n",
       "    </tr>\n",
       "  </tbody>\n",
       "</table>\n",
       "<p>96 rows × 12 columns</p>\n",
       "</div>"
      ],
      "text/plain": [
       "      AU2198  AU2199  AU2200  AU2202  AZ4609  AZ4610  AZ4611  AZ4612  AZ4613  \\\n",
       "ACAA       8      33       6       4      19      20      12      32      10   \n",
       "ACCA      11      11       2       3      21      20      11       0       0   \n",
       "ACGA       9      24      16       4       5       5       6       0      13   \n",
       "ACTA       0       5      16       2      30      14       9       6      10   \n",
       "CCAA      18      47      10       1      17       9      13      12       0   \n",
       "...      ...     ...     ...     ...     ...     ...     ...     ...     ...   \n",
       "GTTG       0       0       2       1       3       4       0      12       5   \n",
       "TTAG       0       0       2       1       4       7       2       7       0   \n",
       "TTCG       0       0       4       1      12       2       3       6       9   \n",
       "TTGG       0       0       4       0       5       4       0      12       0   \n",
       "TTTG       3       0       5       2      11       2       4      15       6   \n",
       "\n",
       "      AZ4614  AZ6342  AZ6371  \n",
       "ACAA      11       5       0  \n",
       "ACCA       9       4       3  \n",
       "ACGA       6       3       2  \n",
       "ACTA      10       6       0  \n",
       "CCAA       2       2       0  \n",
       "...      ...     ...     ...  \n",
       "GTTG       2       2       0  \n",
       "TTAG       2       0       0  \n",
       "TTCG       2       1       0  \n",
       "TTGG       0       0       0  \n",
       "TTTG       2       0       0  \n",
       "\n",
       "[96 rows x 12 columns]"
      ]
     },
     "execution_count": 9,
     "metadata": {},
     "output_type": "execute_result"
    }
   ],
   "source": [
    "print('Proportion of mappable genome triplets')\n",
    "matrix_df = pd.DataFrame()\n",
    "path = '../mutational_profiles/output_dnanexus/'\n",
    "for file in os.listdir(path):\n",
    "    if file.endswith('variant-calls.mut'):\n",
    "        df1 = prepare_count_table(path+file)\n",
    "        dictionary1 = make_dictionary(df1,'msigact',map_genome_contexts_dict)\n",
    "        sample = file.split('.1')[0]\n",
    "        if sample.startswith('CHp'):\n",
    "            names_dict = {'CHp_39_T0':'AZ6342','CHp_38_T0':'AZ6371'}\n",
    "            sample = names_dict[sample]\n",
    "        df1 = pd.DataFrame.from_dict(dictionary1,orient='index',columns=[sample])\n",
    "        df1 = df1.T\n",
    "        matrix_df = pd.concat([matrix_df,df1])\n",
    "matrix_df.sort_index(inplace=True)\n",
    "matrix_df = matrix_df.T\n",
    "selected_samples = sigs_dict.keys()\n",
    "matrix_df = matrix_df[selected_samples]\n",
    "matrix_df"
   ]
  },
  {
   "cell_type": "code",
   "execution_count": 14,
   "id": "974bbd8b",
   "metadata": {},
   "outputs": [
    {
     "data": {
      "text/plain": [
       "Text(0.5, 1.0, 'Number of mutations\\nMappable genome scaled')"
      ]
     },
     "execution_count": 14,
     "metadata": {},
     "output_type": "execute_result"
    },
    {
     "data": {
      "image/png": "[encoded data removed]",
      "text/plain": [
       "<Figure size 864x288 with 1 Axes>"
      ]
     },
     "metadata": {
      "needs_background": "light"
     },
     "output_type": "display_data"
    }
   ],
   "source": [
    "matrix_df.sum().plot(kind='bar',figsize=(12,4))\n",
    "plt.title('Number of mutations\\nMappable genome scaled',size=16,pad=20)"
   ]
  },
  {
   "cell_type": "code",
   "execution_count": 127,
   "id": "1b943860",
   "metadata": {},
   "outputs": [],
   "source": [
    "#save matrix per sample in each folder\n",
    "path = './msigact/'\n",
    "\n",
    "for sample in matrix_df.columns:\n",
    "    if not os.path.exists(path+sample):\n",
    "        os.mkdir(path+sample)\n",
    "    matrix_df[sample].to_csv(path+sample+'/count_matrix.tsv',sep='\\t')"
   ]
  },
  {
   "cell_type": "markdown",
   "id": "dde114c8",
   "metadata": {},
   "source": [
    "The code is executed with qmaps.  \n",
    "Check this notebook: `./qmap_msigact.ipynb`"
   ]
  },
  {
   "cell_type": "markdown",
   "id": "1caf4b0a",
   "metadata": {},
   "source": [
    "## Results"
   ]
  },
  {
   "cell_type": "code",
   "execution_count": 15,
   "id": "4bae1b8e",
   "metadata": {},
   "outputs": [],
   "source": [
    "path = './msigact/'\n",
    "\n",
    "folders = [folder for folder in os.listdir(path)if folder.startswith('A')]\n",
    "\n",
    "SBS31_pvals = {}\n",
    "SBS35_pvals = {}\n",
    "SBS31_df = pd.DataFrame()\n",
    "SBS35_df = pd.DataFrame()\n",
    "for sample in folders:\n",
    "    df = pd.read_csv(path+sample+'/SBS31/results.count_matrix.tsv.mSigAct.SBS31.tsv',sep='\\t')\n",
    "    df = df.T\n",
    "    df.reset_index(inplace=True)\n",
    "    df = df.rename(columns={'index':'sample_id'})\n",
    "    df['sample_id'] = [sample]\n",
    "    \n",
    "    df['pval'] = df['pval'].round(4)\n",
    "    pvals_dict = dict(zip(df['sample_id'],df['pval']))\n",
    "    SBS31_pvals.update(pvals_dict)\n",
    "    sigs_cols =[col for col in df.columns if col.startswith('SBS')]\n",
    "    df = df[['sample_id']+sigs_cols]\n",
    "    df = df.set_index('sample_id')\n",
    "    SBS31_df = pd.concat([SBS31_df,df])\n",
    "    \n",
    "    df = pd.read_csv(path+sample+'/SBS35/results.count_matrix.tsv.mSigAct.SBS35.tsv',sep='\\t')\n",
    "    df = df.T\n",
    "    df.reset_index(inplace=True)\n",
    "    df = df.rename(columns={'index':'sample_id'})\n",
    "    df['sample_id'] = [sample]\n",
    "    df['pval'] = df['pval'].round(5)\n",
    "    pvals_dict = dict(zip(df['sample_id'],df['pval']))\n",
    "    SBS35_pvals.update(pvals_dict)\n",
    "    sigs_cols =[col for col in df.columns if col.startswith('SBS')]\n",
    "    df = df.set_index('sample_id')\n",
    "    SBS35_df = pd.concat([SBS35_df,df])\n",
    "# SBS31_df = SBS31_df.reindex(samples_id)\n",
    "# SBS35_df = SBS35_df.reindex(samples_id)\n",
    "SBS31_df.fillna(0,inplace=True)\n",
    "SBS31_df = SBS31_df[['SBS1','SBS2','SBS5','SBS13','SBS18','SBS40','SBS45','SBS31']]\n",
    "SBS35_df.fillna(0,inplace=True)\n",
    "SBS35_df = SBS35_df[['SBS1','SBS2','SBS5','SBS13','SBS18','SBS40','SBS45','SBS35']]"
   ]
  },
  {
   "cell_type": "code",
   "execution_count": 16,
   "id": "ebdae13e",
   "metadata": {
    "scrolled": false
   },
   "outputs": [
    {
     "data": {
      "text/html": [
       "<div>\n",
       "<style scoped>\n",
       "    .dataframe tbody tr th:only-of-type {\n",
       "        vertical-align: middle;\n",
       "    }\n",
       "\n",
       "    .dataframe tbody tr th {\n",
       "        vertical-align: top;\n",
       "    }\n",
       "\n",
       "    .dataframe thead th {\n",
       "        text-align: right;\n",
       "    }\n",
       "</style>\n",
       "<table border=\"1\" class=\"dataframe\">\n",
       "  <thead>\n",
       "    <tr style=\"text-align: right;\">\n",
       "      <th></th>\n",
       "      <th>SBS1</th>\n",
       "      <th>SBS2</th>\n",
       "      <th>SBS5</th>\n",
       "      <th>SBS13</th>\n",
       "      <th>SBS18</th>\n",
       "      <th>SBS40</th>\n",
       "      <th>SBS45</th>\n",
       "      <th>SBS31</th>\n",
       "    </tr>\n",
       "    <tr>\n",
       "      <th>sample_id</th>\n",
       "      <th></th>\n",
       "      <th></th>\n",
       "      <th></th>\n",
       "      <th></th>\n",
       "      <th></th>\n",
       "      <th></th>\n",
       "      <th></th>\n",
       "      <th></th>\n",
       "    </tr>\n",
       "  </thead>\n",
       "  <tbody>\n",
       "    <tr>\n",
       "      <th>AU2198</th>\n",
       "      <td>24.976048</td>\n",
       "      <td>22.018771</td>\n",
       "      <td>0.000000</td>\n",
       "      <td>0.0</td>\n",
       "      <td>0.000000</td>\n",
       "      <td>0.000000</td>\n",
       "      <td>131.877055</td>\n",
       "      <td>269.128127</td>\n",
       "    </tr>\n",
       "    <tr>\n",
       "      <th>AU2199</th>\n",
       "      <td>0.000000</td>\n",
       "      <td>53.814437</td>\n",
       "      <td>0.000000</td>\n",
       "      <td>0.0</td>\n",
       "      <td>530.139260</td>\n",
       "      <td>0.000000</td>\n",
       "      <td>0.000000</td>\n",
       "      <td>35.046304</td>\n",
       "    </tr>\n",
       "    <tr>\n",
       "      <th>AU2200</th>\n",
       "      <td>13.903467</td>\n",
       "      <td>12.384124</td>\n",
       "      <td>207.714362</td>\n",
       "      <td>0.0</td>\n",
       "      <td>99.875719</td>\n",
       "      <td>0.000000</td>\n",
       "      <td>78.823444</td>\n",
       "      <td>34.298884</td>\n",
       "    </tr>\n",
       "    <tr>\n",
       "      <th>AU2202</th>\n",
       "      <td>12.410012</td>\n",
       "      <td>0.000000</td>\n",
       "      <td>0.000000</td>\n",
       "      <td>0.0</td>\n",
       "      <td>42.862809</td>\n",
       "      <td>102.964656</td>\n",
       "      <td>0.000000</td>\n",
       "      <td>18.762523</td>\n",
       "    </tr>\n",
       "    <tr>\n",
       "      <th>AZ4609</th>\n",
       "      <td>0.000000</td>\n",
       "      <td>0.000000</td>\n",
       "      <td>263.598884</td>\n",
       "      <td>0.0</td>\n",
       "      <td>235.830685</td>\n",
       "      <td>422.591756</td>\n",
       "      <td>0.000000</td>\n",
       "      <td>183.978674</td>\n",
       "    </tr>\n",
       "    <tr>\n",
       "      <th>AZ4610</th>\n",
       "      <td>0.000000</td>\n",
       "      <td>0.000000</td>\n",
       "      <td>238.573374</td>\n",
       "      <td>0.0</td>\n",
       "      <td>0.000000</td>\n",
       "      <td>346.897460</td>\n",
       "      <td>119.276185</td>\n",
       "      <td>237.252982</td>\n",
       "    </tr>\n",
       "    <tr>\n",
       "      <th>AZ4611</th>\n",
       "      <td>0.000000</td>\n",
       "      <td>0.000000</td>\n",
       "      <td>198.328457</td>\n",
       "      <td>0.0</td>\n",
       "      <td>0.000000</td>\n",
       "      <td>144.365381</td>\n",
       "      <td>70.154947</td>\n",
       "      <td>100.151215</td>\n",
       "    </tr>\n",
       "    <tr>\n",
       "      <th>AZ4612</th>\n",
       "      <td>28.012395</td>\n",
       "      <td>0.000000</td>\n",
       "      <td>0.000000</td>\n",
       "      <td>0.0</td>\n",
       "      <td>0.000000</td>\n",
       "      <td>641.733676</td>\n",
       "      <td>0.000000</td>\n",
       "      <td>106.253928</td>\n",
       "    </tr>\n",
       "    <tr>\n",
       "      <th>AZ4613</th>\n",
       "      <td>0.000000</td>\n",
       "      <td>18.440010</td>\n",
       "      <td>0.000000</td>\n",
       "      <td>0.0</td>\n",
       "      <td>0.000000</td>\n",
       "      <td>262.810710</td>\n",
       "      <td>0.000000</td>\n",
       "      <td>116.749280</td>\n",
       "    </tr>\n",
       "    <tr>\n",
       "      <th>AZ4614</th>\n",
       "      <td>0.000000</td>\n",
       "      <td>0.000000</td>\n",
       "      <td>0.000000</td>\n",
       "      <td>0.0</td>\n",
       "      <td>83.727583</td>\n",
       "      <td>210.395296</td>\n",
       "      <td>0.000000</td>\n",
       "      <td>38.877122</td>\n",
       "    </tr>\n",
       "    <tr>\n",
       "      <th>AZ6342</th>\n",
       "      <td>0.000000</td>\n",
       "      <td>0.000000</td>\n",
       "      <td>105.186404</td>\n",
       "      <td>0.0</td>\n",
       "      <td>58.813596</td>\n",
       "      <td>0.000000</td>\n",
       "      <td>0.000000</td>\n",
       "      <td>0.000000</td>\n",
       "    </tr>\n",
       "    <tr>\n",
       "      <th>AZ6371</th>\n",
       "      <td>3.879510</td>\n",
       "      <td>0.000000</td>\n",
       "      <td>0.000000</td>\n",
       "      <td>0.0</td>\n",
       "      <td>0.000000</td>\n",
       "      <td>46.808768</td>\n",
       "      <td>0.000000</td>\n",
       "      <td>11.311722</td>\n",
       "    </tr>\n",
       "  </tbody>\n",
       "</table>\n",
       "</div>"
      ],
      "text/plain": [
       "                SBS1       SBS2        SBS5  SBS13       SBS18       SBS40  \\\n",
       "sample_id                                                                    \n",
       "AU2198     24.976048  22.018771    0.000000    0.0    0.000000    0.000000   \n",
       "AU2199      0.000000  53.814437    0.000000    0.0  530.139260    0.000000   \n",
       "AU2200     13.903467  12.384124  207.714362    0.0   99.875719    0.000000   \n",
       "AU2202     12.410012   0.000000    0.000000    0.0   42.862809  102.964656   \n",
       "AZ4609      0.000000   0.000000  263.598884    0.0  235.830685  422.591756   \n",
       "AZ4610      0.000000   0.000000  238.573374    0.0    0.000000  346.897460   \n",
       "AZ4611      0.000000   0.000000  198.328457    0.0    0.000000  144.365381   \n",
       "AZ4612     28.012395   0.000000    0.000000    0.0    0.000000  641.733676   \n",
       "AZ4613      0.000000  18.440010    0.000000    0.0    0.000000  262.810710   \n",
       "AZ4614      0.000000   0.000000    0.000000    0.0   83.727583  210.395296   \n",
       "AZ6342      0.000000   0.000000  105.186404    0.0   58.813596    0.000000   \n",
       "AZ6371      3.879510   0.000000    0.000000    0.0    0.000000   46.808768   \n",
       "\n",
       "                SBS45       SBS31  \n",
       "sample_id                          \n",
       "AU2198     131.877055  269.128127  \n",
       "AU2199       0.000000   35.046304  \n",
       "AU2200      78.823444   34.298884  \n",
       "AU2202       0.000000   18.762523  \n",
       "AZ4609       0.000000  183.978674  \n",
       "AZ4610     119.276185  237.252982  \n",
       "AZ4611      70.154947  100.151215  \n",
       "AZ4612       0.000000  106.253928  \n",
       "AZ4613       0.000000  116.749280  \n",
       "AZ4614       0.000000   38.877122  \n",
       "AZ6342       0.000000    0.000000  \n",
       "AZ6371       0.000000   11.311722  "
      ]
     },
     "execution_count": 16,
     "metadata": {},
     "output_type": "execute_result"
    }
   ],
   "source": [
    "SBS31_df"
   ]
  },
  {
   "cell_type": "code",
   "execution_count": 18,
   "id": "451506d6",
   "metadata": {},
   "outputs": [],
   "source": [
    "def color_sigs (sigs):\n",
    "\n",
    "    colors_dict = {}\n",
    "    colors_list = []\n",
    "    greys = ['gainsboro','darkgrey','gray','lightgrey','lightgray','silver','dimgrey','dimgray','slategrey']\n",
    "    i = 0\n",
    "    for sig in sigs:\n",
    "        if 'potential' in sig:\n",
    "            color = greys[i]\n",
    "            i+=1\n",
    "        elif 'SBS1-' in sig or sig=='SBS1':\n",
    "            color = 'orange'\n",
    "        elif 'SBS2-' in sig or sig=='SBS2':\n",
    "            color = 'olive'\n",
    "        elif 'SBS3-' in sig or sig=='SBS3':\n",
    "            color = 'mediumpurple'\n",
    "        elif 'SBS5-' in sig or sig=='SBS5':\n",
    "            color = 'skyblue'\n",
    "        elif 'SBS7a' in sig:\n",
    "            color = 'teal'\n",
    "        elif 'SBS12' in sig:\n",
    "            color = 'seagreen'\n",
    "        elif 'SBS13' in sig:\n",
    "            color = 'purple'\n",
    "        elif 'SBS17b' in sig:\n",
    "            color = 'pink'\n",
    "        elif 'SBS18' in sig:\n",
    "            color = 'royalblue'\n",
    "        elif 'SBS31' in sig:\n",
    "            color = 'firebrick'\n",
    "        elif 'SBS32' in sig:\n",
    "            color = 'plum'\n",
    "        elif 'SBS35' in sig:\n",
    "            color = 'lightcoral'\n",
    "        elif 'SBS40' in sig:\n",
    "            color = 'turquoise'\n",
    "        elif 'SBS60' in sig:\n",
    "            color = 'darkseagreen'\n",
    "        else:\n",
    "            color = greys[i]\n",
    "            i+=1\n",
    "            pass\n",
    "        colors_dict[sig] = color\n",
    "        colors_list.append(color)\n",
    "    return colors_dict,colors_list\n",
    "\n",
    "def plot_fitting (df,title,sigs,labels,ylim,figsize):\n",
    "    \n",
    "    colors_dict,colors_list = color_sigs(sigs)\n",
    "    \n",
    "    #make plot\n",
    "    df.plot(kind='bar', stacked=True, figsize=figsize,color=colors_list,edgecolor='white')\n",
    "    plt.grid(False)\n",
    "    \n",
    "    plt.title(title,size=20,pad=20)\n",
    "    \n",
    "\n",
    "    plt.legend(title='Signatures', bbox_to_anchor=(1, 1), loc='upper left',prop={'size': 14})\n",
    "    \n",
    "    plt.tick_params(left = False,bottom=False)\n",
    "    #y-axis\n",
    "    plt.ylabel('Number of mutations',size=18)\n",
    "    plt.ylim(0,ylim)\n",
    "    \n",
    "    #x-axis\n",
    "    plt.xlabel('')\n",
    "    ticks = range(0,len(df))\n",
    "    plt.xticks(ticks, labels, rotation=0,size=16,ha='center')"
   ]
  },
  {
   "cell_type": "code",
   "execution_count": 19,
   "id": "184db3c4",
   "metadata": {
    "scrolled": true
   },
   "outputs": [
    {
     "data": {
      "image/png": "[encoded data removed]",
      "text/plain": [
       "<Figure size 360x288 with 1 Axes>"
      ]
     },
     "metadata": {
      "needs_background": "light"
     },
     "output_type": "display_data"
    }
   ],
   "source": [
    "selected_samples = ['AU2198','AU2199','AU2200']\n",
    "df = SBS31_df[SBS31_df.index.isin(selected_samples)]\n",
    "df = df.loc[:, (df != 0).any(axis=0)]\n",
    "sigs = df.columns.tolist()\n",
    "labels = ['Blood','EPN','DMG']\n",
    "title = 'Case 2\\nSBS31 exposure'\n",
    "ylim=700\n",
    "figsize = (5,4)\n",
    "plot_fitting(df,title,sigs,labels,ylim,figsize=figsize)\n",
    "plt.yticks(range(0,800,200),size=16)\n",
    "plt.savefig('./figures_paper/case2_sbs31_relative_exposures.png',dpi=300, format='png',transparent=True,bbox_inches='tight')\n",
    "plt.show()\n"
   ]
  },
  {
   "cell_type": "code",
   "execution_count": 20,
   "id": "8eccf022",
   "metadata": {
    "scrolled": true
   },
   "outputs": [
    {
     "data": {
      "image/png": "[encoded data removed]",
      "text/plain": [
       "<Figure size 720x288 with 1 Axes>"
      ]
     },
     "metadata": {
      "needs_background": "light"
     },
     "output_type": "display_data"
    }
   ],
   "source": [
    "selected_samples = ['AU2202','AZ4609','AZ4610','AZ4611','AZ4612','AZ4613','AZ4614']\n",
    "df = SBS31_df[SBS31_df.index.isin(selected_samples)]\n",
    "df = df.loc[:, (df != 0).any(axis=0)]\n",
    "sigs = df.columns.tolist()\n",
    "labels = ['MRT', 'Kidney','Liver','Pancreas','Lung','Spleen','Bone\\nMarrow']\n",
    "title = 'Case 3\\nSBS31 exposure'\n",
    "ylim=1200\n",
    "figsize = (10,4)\n",
    "plot_fitting(df,title,sigs,labels,ylim,figsize=figsize)\n",
    "plt.yticks(range(0,1300,200),size=16)\n",
    "plt.savefig('./figures_paper/case3_sbs31_relative_exposures.png',dpi=300, format='png',transparent=True,bbox_inches='tight')\n"
   ]
  },
  {
   "cell_type": "code",
   "execution_count": 21,
   "id": "a1a1ec57",
   "metadata": {},
   "outputs": [
    {
     "data": {
      "image/png": "[encoded data removed]",
      "text/plain": [
       "<Figure size 360x288 with 1 Axes>"
      ]
     },
     "metadata": {
      "needs_background": "light"
     },
     "output_type": "display_data"
    }
   ],
   "source": [
    "selected_samples = ['AU2198','AU2199','AU2200']\n",
    "df = SBS35_df[SBS35_df.index.isin(selected_samples)]\n",
    "df = df.loc[:, (df != 0).any(axis=0)]\n",
    "sigs = df.columns.tolist()\n",
    "labels = ['Blood', 'EPN','DMG']\n",
    "title =  'Case 2\\nSBS35 exposure'\n",
    "ylim=700\n",
    "figsize = (5,4)\n",
    "plot_fitting(df,title,sigs,labels,ylim,figsize=figsize)\n",
    "plt.yticks(range(0,800,200),size=16)\n",
    "plt.savefig('./figures_paper/case2_sbs35_fitting.png',dpi=300, format='png',transparent=True,bbox_inches='tight')\n",
    "\n"
   ]
  },
  {
   "cell_type": "code",
   "execution_count": 22,
   "id": "59393448",
   "metadata": {},
   "outputs": [
    {
     "data": {
      "image/png": "[encoded data removed]",
      "text/plain": [
       "<Figure size 720x288 with 1 Axes>"
      ]
     },
     "metadata": {
      "needs_background": "light"
     },
     "output_type": "display_data"
    }
   ],
   "source": [
    "selected_samples = ['AU2202','AZ4609','AZ4610','AZ4611','AZ4612','AZ4613','AZ4614']\n",
    "df = SBS35_df[SBS35_df.index.isin(selected_samples)]\n",
    "df = df.loc[:, (df != 0).any(axis=0)]\n",
    "sigs = df.columns.tolist()\n",
    "labels = ['MRT', 'Kidney','Liver','Pancreas','Lung','Spleen','Bone\\nMarrow']\n",
    "title = 'Case 3\\nSBS35 exposure'\n",
    "ylim=1200\n",
    "figsize = (10,4)\n",
    "plot_fitting(df,title,sigs,labels,ylim,figsize=figsize)\n",
    "plt.yticks(range(0,1300,200),size=16)\n",
    "plt.savefig('./figures_paper/case3_sbs35_fitting.png',dpi=300, format='png',transparent=True,bbox_inches='tight')"
   ]
  },
  {
   "cell_type": "code",
   "execution_count": 23,
   "id": "fe699156",
   "metadata": {},
   "outputs": [
    {
     "data": {
      "image/png": "[encoded data removed]",
      "text/plain": [
       "<Figure size 216x288 with 1 Axes>"
      ]
     },
     "metadata": {
      "needs_background": "light"
     },
     "output_type": "display_data"
    }
   ],
   "source": [
    "selected_samples = ['AZ6342','AZ6371']\n",
    "df = SBS31_df[SBS31_df.index.isin(selected_samples)]\n",
    "df = df.loc[:, (df != 0).any(axis=0)]\n",
    "sigs = df.columns.tolist()\n",
    "labels = ['Blood1', 'Blood2']\n",
    "title =  'Unrelated donors\\nSBS31 exposure'\n",
    "ylim=200\n",
    "figsize = (3,4)\n",
    "plot_fitting(df,title,sigs,labels,ylim,figsize=figsize)\n",
    "plt.yticks(range(0,210,50),size=16)\n",
    "plt.savefig('./figures_paper/NonTreatedBloods_sbs31_fitting.png',dpi=300, format='png',transparent=True,bbox_inches='tight')\n"
   ]
  },
  {
   "cell_type": "code",
   "execution_count": 24,
   "id": "631d5897",
   "metadata": {},
   "outputs": [
    {
     "data": {
      "image/png": "[encoded data removed]",
      "text/plain": [
       "<Figure size 216x288 with 1 Axes>"
      ]
     },
     "metadata": {
      "needs_background": "light"
     },
     "output_type": "display_data"
    }
   ],
   "source": [
    "selected_samples = ['AZ6342','AZ6371']\n",
    "df = SBS35_df[SBS35_df.index.isin(selected_samples)]\n",
    "df = df.loc[:, (df != 0).any(axis=0)]\n",
    "sigs = df.columns.tolist()\n",
    "labels = ['Blood1', 'Blood2']\n",
    "title =  'Unrelated donors\\nSBS35 exposure'\n",
    "ylim=200\n",
    "figsize = (3,4)\n",
    "plot_fitting(df,title,sigs,labels,ylim,figsize=figsize)\n",
    "plt.yticks(range(0,210,50),size=16)\n",
    "plt.savefig('./figures_paper/NonTreatedBloods_sbs35_fitting.png',dpi=300, format='png',transparent=True,bbox_inches='tight')\n"
   ]
  },
  {
   "cell_type": "markdown",
   "id": "ca7e6991",
   "metadata": {},
   "source": [
    "## Plots with confidence intervals\n",
    "The confidence intervals are calculated in ```./test_sbs31_specificity_and_cnofidence_intervals.ipynb```.\\\n",
    "First execute that notebook, then come back here and continue."
   ]
  },
  {
   "cell_type": "code",
   "execution_count": 52,
   "id": "4689cb48",
   "metadata": {},
   "outputs": [
    {
     "data": {
      "text/plain": [
       "{'AU2202': 'Case3_mrt',\n",
       " 'AZ4609': 'Case3_kidney',\n",
       " 'AZ4610': 'Case3_liver',\n",
       " 'AZ4611': 'Case3_pancreas',\n",
       " 'AZ4612': 'Case3_lung',\n",
       " 'AZ4613': 'Case3_spleen',\n",
       " 'AZ4614': 'Case3_bone_marrow',\n",
       " 'AZ4663': 'Unrelated1',\n",
       " 'AZ4671': 'Unrelated2',\n",
       " 'AU2198': 'Case2_blood',\n",
       " 'AU2199': 'Case2_epn',\n",
       " 'AU2200': 'Case2_dmg',\n",
       " 'AZ6342': 'Unrelated1',\n",
       " 'AZ6371': 'Unrelated2'}"
      ]
     },
     "execution_count": 52,
     "metadata": {},
     "output_type": "execute_result"
    }
   ],
   "source": [
    "samples_dict['AU2198'] = 'Case2_blood'\n",
    "samples_dict['AU2199'] = 'Case2_epn'\n",
    "samples_dict['AU2200'] = 'Case2_dmg'\n",
    "samples_dict['AU2202'] = 'Case3_mrt'\n",
    "samples_dict['AZ4609'] = 'Case3_kidney'\n",
    "samples_dict['AZ4610'] = 'Case3_liver'\n",
    "samples_dict['AZ4611'] = 'Case3_pancreas'\n",
    "samples_dict['AZ4612'] = 'Case3_lung'\n",
    "samples_dict['AZ4613'] = 'Case3_spleen'\n",
    "samples_dict['AZ4614'] = 'Case3_bone_marrow'\n",
    "samples_dict['AZ6342'] = 'Unrelated1'\n",
    "samples_dict['AZ6371'] = 'Unrelated2'\n",
    "samples_dict"
   ]
  },
  {
   "cell_type": "code",
   "execution_count": 47,
   "id": "d25d8e97",
   "metadata": {},
   "outputs": [],
   "source": [
    "import matplotlib.lines as mlines"
   ]
  },
  {
   "cell_type": "code",
   "execution_count": 48,
   "id": "00d25833",
   "metadata": {},
   "outputs": [],
   "source": [
    "file = './confidence_intervals/ci_sbs31.json'\n",
    "ci_sbs31_dict = json.load(open(file,'rb'))\n",
    "file = './confidence_intervals/ci_aging.json'\n",
    "ci_aging_dict = json.load(open(file,'rb'))"
   ]
  },
  {
   "cell_type": "code",
   "execution_count": 49,
   "id": "fb8e52d0",
   "metadata": {},
   "outputs": [
    {
     "data": {
      "text/plain": [
       "{'AQ5187_vs_AQ5175': [1020, 1251],\n",
       " 'AU2198': [22, 28],\n",
       " 'AZ4609': [630, 730],\n",
       " 'AZ4610': [530, 638],\n",
       " 'AZ4611': [309, 376],\n",
       " 'AZ4612': [606, 726],\n",
       " 'AZ4613': [222, 297],\n",
       " 'AZ4614': [188, 231],\n",
       " 'AZ6342': [86, 105],\n",
       " 'AZ6371': [37, 57]}"
      ]
     },
     "execution_count": 49,
     "metadata": {},
     "output_type": "execute_result"
    }
   ],
   "source": [
    "ci_aging_dict"
   ]
  },
  {
   "cell_type": "code",
   "execution_count": 50,
   "id": "965012f2",
   "metadata": {},
   "outputs": [],
   "source": [
    "def small_barplot (SBS31_df,selected_sample,figsize=(1,2),ylim=400,x_val1=150,x_val2=150,range_val=200):\n",
    "    print(selected_sample)\n",
    "    s = selected_sample[0]\n",
    "    aging_sigs = ['SBS1','SBS5','SBS40']\n",
    "    df = SBS31_df[SBS31_df.index.isin(selected_sample)]\n",
    "    df['aging_sigs'] = df[aging_sigs].sum(axis=1)\n",
    "    df = df[['SBS31','aging_sigs']]\n",
    "    sigs = df.columns.tolist()\n",
    "    labels = []\n",
    "    title = ''\n",
    "    xlabel=''\n",
    "    ylabel='Number of\\nmutations'\n",
    "    loc=-80\n",
    "    legend=False\n",
    "\n",
    "    rotation_xtick=0\n",
    "    rotation_pvals=0\n",
    "    ha='center'\n",
    "\n",
    "    ci_low = [ df['SBS31'][df.index==s].iloc[0] - ci_sbs31_dict[s][0] for s in selected_sample]\n",
    "    ci_high = [ ci_sbs31_dict[s][1] - df['SBS31'][df.index==s].iloc[0] for s in selected_sample]\n",
    "\n",
    "    horizontal_line_width = 0.04\n",
    "\n",
    "    fig, ax = plt.subplots(figsize=figsize)\n",
    "\n",
    "    for x,val in enumerate(df['SBS31'].tolist()):\n",
    "        if s in ['AZ6342','AZ6371']:\n",
    "            ax.plot(x, 0, 'o',color='white',markersize=10)\n",
    "        else:\n",
    "            pos = x\n",
    "            left = pos - horizontal_line_width / 2\n",
    "            top = val + ci_high[x]\n",
    "            right = pos + horizontal_line_width / 2\n",
    "            bottom = val - ci_low[x]\n",
    "            ax.bar(pos, val, color='firebrick',width=0.1,edgecolor='firebrick')\n",
    "            ax.plot([pos, pos], [top, bottom], color='k',linewidth=1.5)\n",
    "            ax.plot([left, right], [top, top], color='k',linewidth=1.5)\n",
    "            ax.plot([left, right], [bottom, bottom], color='k',linewidth=1.5)\n",
    "\n",
    "    ci_low = [ df['aging_sigs'][df.index==s].iloc[0] - ci_aging_dict[s][0] for s in selected_sample]\n",
    "    ci_high = [ ci_aging_dict[s][1] - df['aging_sigs'][df.index==s].iloc[0] for s in selected_sample]\n",
    "\n",
    "    for x,val in enumerate(df['aging_sigs'].tolist()):\n",
    "        pos = x +0.2\n",
    "        left = pos - horizontal_line_width / 2\n",
    "        top = val + ci_high[x]\n",
    "        right = pos + horizontal_line_width / 2\n",
    "        bottom = val - ci_low[x]\n",
    "        ax.bar(pos, val, color='cornflowerblue',width=0.1,edgecolor='cornflowerblue')\n",
    "        ax.plot([pos, pos], [top, bottom], color='k',linewidth=1.5)\n",
    "        ax.plot([left, right], [top, top], color='k',linewidth=1.5)\n",
    "        ax.plot([left, right], [bottom, bottom], color='k',linewidth=1.5)\n",
    "\n",
    "    #df.plot(kind='scatter', stacked=True, figsize=figsize,color=colors_list,legend=legend,yerr = [ci_low, ci_high],capsize=6)\n",
    "    plt.title(title,size=20,pad=20)\n",
    "    plt.margins(0.22,0)\n",
    "\n",
    "    #y-axis\n",
    "    plt.ylabel(ylabel,size=14)\n",
    "    plt.ylim(0,ylim)\n",
    "\n",
    "    #x-axis\n",
    "    plt.xlabel(xlabel)\n",
    "    ticks = range(0,len(df))\n",
    "    plt.xticks(ticks,[])\n",
    "    plt.yticks(np.arange(0, ylim+100, range_val),size=14)\n",
    "\n",
    "    for i, v in enumerate(df['SBS31']):\n",
    "        if s in ['AZ6342','AZ6371']:\n",
    "            plt.text(i+0.04, x_val1, str(0), color='firebrick', fontweight='normal',ha='center',va='center',size=15)\n",
    "        else:\n",
    "            plt.text(i+0.02, v+x_val1, str(int(round(v,0))), color='firebrick', fontweight='normal',ha='center',va='center',size=15)\n",
    "    \n",
    "    for i, v in enumerate(df['aging_sigs']):\n",
    "        plt.text(i+0.2, v+x_val2, str(int(round(v,0))), color='cornflowerblue', fontweight='normal',ha='center',va='center',size=15)\n",
    "\n",
    "    ax.spines['top'].set_visible(False)\n",
    "    ax.spines['right'].set_visible(False)\n",
    "    ax.get_xaxis().tick_bottom()\n",
    "    ax.get_yaxis().tick_left()\n",
    "    ax.spines['left'].set_linewidth(2) \n",
    "    ax.spines['bottom'].set_linewidth(2)\n",
    "    ax.xaxis.set_tick_params(width=0)\n",
    "    ax.yaxis.set_tick_params(width=2,length=7)\n",
    "\n",
    "\n",
    "    ax.grid(False)\n",
    "    \n",
    "    sample_id = samples_dict[selected_sample[0]]\n",
    "    \n",
    "    plt.savefig('./figures_paper/'+sample_id+'_platinum_vs_aging_num_muts.png',dpi=300, format='png',transparent=True,bbox_inches='tight')\n",
    "    plt.show()"
   ]
  },
  {
   "cell_type": "code",
   "execution_count": 53,
   "id": "2abd30e5",
   "metadata": {
    "scrolled": true
   },
   "outputs": [
    {
     "name": "stdout",
     "output_type": "stream",
     "text": [
      "['AU2198']\n"
     ]
    },
    {
     "name": "stderr",
     "output_type": "stream",
     "text": [
      "/home/msanchezg/miniconda3/envs/process_vc/lib/python3.6/site-packages/ipykernel_launcher.py:6: SettingWithCopyWarning: \n",
      "A value is trying to be set on a copy of a slice from a DataFrame.\n",
      "Try using .loc[row_indexer,col_indexer] = value instead\n",
      "\n",
      "See the caveats in the documentation: https://pandas.pydata.org/pandas-docs/stable/user_guide/indexing.html#returning-a-view-versus-a-copy\n",
      "  \n"
     ]
    },
    {
     "data": {
      "image/png": "[encoded data removed]",
      "text/plain": [
       "<Figure size 72x144 with 1 Axes>"
      ]
     },
     "metadata": {
      "needs_background": "light"
     },
     "output_type": "display_data"
    },
    {
     "name": "stdout",
     "output_type": "stream",
     "text": [
      "['AZ4609']\n"
     ]
    },
    {
     "data": {
      "image/png": "[encoded data removed]",
      "text/plain": [
       "<Figure size 72x144 with 1 Axes>"
      ]
     },
     "metadata": {
      "needs_background": "light"
     },
     "output_type": "display_data"
    },
    {
     "name": "stdout",
     "output_type": "stream",
     "text": [
      "['AZ4610']\n"
     ]
    },
    {
     "data": {
      "image/png": "[encoded data removed]",
      "text/plain": [
       "<Figure size 72x144 with 1 Axes>"
      ]
     },
     "metadata": {
      "needs_background": "light"
     },
     "output_type": "display_data"
    },
    {
     "name": "stdout",
     "output_type": "stream",
     "text": [
      "['AZ4611']\n"
     ]
    },
    {
     "data": {
      "image/png": "[encoded data removed]",
      "text/plain": [
       "<Figure size 72x144 with 1 Axes>"
      ]
     },
     "metadata": {
      "needs_background": "light"
     },
     "output_type": "display_data"
    },
    {
     "name": "stdout",
     "output_type": "stream",
     "text": [
      "['AZ4612']\n"
     ]
    },
    {
     "data": {
      "image/png": "[encoded data removed]",
      "text/plain": [
       "<Figure size 72x144 with 1 Axes>"
      ]
     },
     "metadata": {
      "needs_background": "light"
     },
     "output_type": "display_data"
    },
    {
     "name": "stdout",
     "output_type": "stream",
     "text": [
      "['AZ4613']\n"
     ]
    },
    {
     "data": {
      "image/png": "[encoded data removed]",
      "text/plain": [
       "<Figure size 72x144 with 1 Axes>"
      ]
     },
     "metadata": {
      "needs_background": "light"
     },
     "output_type": "display_data"
    },
    {
     "name": "stdout",
     "output_type": "stream",
     "text": [
      "['AZ4614']\n"
     ]
    },
    {
     "data": {
      "image/png": "[encoded data removed]",
      "text/plain": [
       "<Figure size 72x144 with 1 Axes>"
      ]
     },
     "metadata": {
      "needs_background": "light"
     },
     "output_type": "display_data"
    },
    {
     "name": "stdout",
     "output_type": "stream",
     "text": [
      "['AZ6342']\n"
     ]
    },
    {
     "data": {
      "image/png": "[encoded data removed]",
      "text/plain": [
       "<Figure size 72x144 with 1 Axes>"
      ]
     },
     "metadata": {
      "needs_background": "light"
     },
     "output_type": "display_data"
    },
    {
     "name": "stdout",
     "output_type": "stream",
     "text": [
      "['AZ6371']\n"
     ]
    },
    {
     "data": {
      "image/png": "[encoded data removed]",
      "text/plain": [
       "<Figure size 72x144 with 1 Axes>"
      ]
     },
     "metadata": {
      "needs_background": "light"
     },
     "output_type": "display_data"
    }
   ],
   "source": [
    "selected_sample = ['AU2198']\n",
    "small_barplot(SBS31_df,selected_sample,ylim=400,x_val1=100,x_val2=50)\n",
    "selected_sample = ['AZ4609']\n",
    "small_barplot(SBS31_df,selected_sample,ylim=800)\n",
    "selected_sample = ['AZ4610']\n",
    "small_barplot(SBS31_df,selected_sample,ylim=800)\n",
    "selected_sample = ['AZ4611']\n",
    "small_barplot(SBS31_df,selected_sample,ylim=400,x_val1=100,x_val2=100)\n",
    "selected_sample = ['AZ4612']\n",
    "small_barplot(SBS31_df,selected_sample,ylim=800)\n",
    "selected_sample = ['AZ4613']\n",
    "small_barplot(SBS31_df,selected_sample,ylim=400,x_val1=100,x_val2=100)\n",
    "selected_sample = ['AZ4614']\n",
    "small_barplot(SBS31_df,selected_sample,ylim=400,x_val1=100,x_val2=100)\n",
    "selected_sample = ['AZ6342']\n",
    "small_barplot(SBS31_df,selected_sample,ylim=200,x_val1=25,x_val2=30,range_val=100)\n",
    "selected_sample = ['AZ6371']\n",
    "small_barplot(SBS31_df,selected_sample,ylim=100,x_val1=20,x_val2=30,range_val=50)"
   ]
  },
  {
   "cell_type": "markdown",
   "id": "943ddae0",
   "metadata": {},
   "source": [
    "### Number of muts Case1 (data from WGS)"
   ]
  },
  {
   "cell_type": "code",
   "execution_count": 54,
   "id": "62d542ae",
   "metadata": {
    "scrolled": true
   },
   "outputs": [
    {
     "data": {
      "text/html": [
       "<div>\n",
       "<style scoped>\n",
       "    .dataframe tbody tr th:only-of-type {\n",
       "        vertical-align: middle;\n",
       "    }\n",
       "\n",
       "    .dataframe tbody tr th {\n",
       "        vertical-align: top;\n",
       "    }\n",
       "\n",
       "    .dataframe thead th {\n",
       "        text-align: right;\n",
       "    }\n",
       "</style>\n",
       "<table border=\"1\" class=\"dataframe\">\n",
       "  <thead>\n",
       "    <tr style=\"text-align: right;\">\n",
       "      <th></th>\n",
       "      <th>SBS1</th>\n",
       "      <th>SBS5</th>\n",
       "      <th>SBS18</th>\n",
       "      <th>SBS40</th>\n",
       "      <th>SBS31</th>\n",
       "    </tr>\n",
       "  </thead>\n",
       "  <tbody>\n",
       "    <tr>\n",
       "      <th>AQ5187_vs_AQ5175</th>\n",
       "      <td>153.632827</td>\n",
       "      <td>982.093386</td>\n",
       "      <td>163.31338</td>\n",
       "      <td>0.0</td>\n",
       "      <td>931.960407</td>\n",
       "    </tr>\n",
       "  </tbody>\n",
       "</table>\n",
       "</div>"
      ],
      "text/plain": [
       "                        SBS1        SBS5      SBS18  SBS40       SBS31\n",
       "AQ5187_vs_AQ5175  153.632827  982.093386  163.31338    0.0  931.960407"
      ]
     },
     "execution_count": 54,
     "metadata": {},
     "output_type": "execute_result"
    }
   ],
   "source": [
    "path_sbs31_clonals = '../../wgs_analysis/tumor_vs_blood/signature_analysis/msigact/clonals/output_sbs31/results.clonals.matrix.tsv.mSigAct.SBS31.tsv'\n",
    "case1_df31 = pd.read_csv(path_sbs31_clonals,sep='\\t')\n",
    "case1_df31 = case1_df31[case1_df31.index=='AQ5187_vs_AQ5175']\n",
    "case1_df31 = case1_df31[['SBS1','SBS5','SBS18','SBS40','SBS31']]\n",
    "case1_df31"
   ]
  },
  {
   "cell_type": "code",
   "execution_count": 56,
   "id": "9aa6e01b",
   "metadata": {},
   "outputs": [],
   "source": [
    "samples_dict['AQ5187_vs_AQ5175'] = 'Case1_blood'"
   ]
  },
  {
   "cell_type": "code",
   "execution_count": 57,
   "id": "d948ba9f",
   "metadata": {},
   "outputs": [
    {
     "name": "stdout",
     "output_type": "stream",
     "text": [
      "['AQ5187_vs_AQ5175']\n"
     ]
    },
    {
     "data": {
      "image/png": "[encoded data removed]",
      "text/plain": [
       "<Figure size 72x144 with 1 Axes>"
      ]
     },
     "metadata": {
      "needs_background": "light"
     },
     "output_type": "display_data"
    },
    {
     "data": {
      "text/plain": [
       "<Figure size 432x288 with 0 Axes>"
      ]
     },
     "metadata": {},
     "output_type": "display_data"
    }
   ],
   "source": [
    "selected_sample = ['AQ5187_vs_AQ5175']\n",
    "small_barplot(case1_df31,selected_sample,figsize=(1,2),ylim=1500,x_val1=250,x_val2=300,range_val=500)\n",
    "plt.savefig('./figures_paper/'+selected_sample[0]+'_platinumn_vs_aging_num_muts.png',dpi=300, format='png',transparent=True,bbox_inches='tight')"
   ]
  },
  {
   "cell_type": "markdown",
   "id": "53e7e5a6",
   "metadata": {},
   "source": [
    "## MRT sample from case 3, number of SBS31 vs. other mutations"
   ]
  },
  {
   "cell_type": "code",
   "execution_count": 58,
   "id": "65f27829",
   "metadata": {},
   "outputs": [
    {
     "name": "stdout",
     "output_type": "stream",
     "text": [
      "['AU2202']\n"
     ]
    },
    {
     "name": "stderr",
     "output_type": "stream",
     "text": [
      "/home/msanchezg/miniconda3/envs/process_vc/lib/python3.6/site-packages/ipykernel_launcher.py:11: SettingWithCopyWarning: \n",
      "A value is trying to be set on a copy of a slice from a DataFrame.\n",
      "Try using .loc[row_indexer,col_indexer] = value instead\n",
      "\n",
      "See the caveats in the documentation: https://pandas.pydata.org/pandas-docs/stable/user_guide/indexing.html#returning-a-view-versus-a-copy\n",
      "  # This is added back by InteractiveShellApp.init_path()\n"
     ]
    },
    {
     "data": {
      "image/png": "[encoded data removed]",
      "text/plain": [
       "<Figure size 144x144 with 1 Axes>"
      ]
     },
     "metadata": {
      "needs_background": "light"
     },
     "output_type": "display_data"
    }
   ],
   "source": [
    "selected_sample=['AU2202']\n",
    "figsize=(2,2)\n",
    "ylim=200\n",
    "x_val1=20\n",
    "x_val2=20\n",
    "range_val=100\n",
    "print(selected_sample)\n",
    "s = selected_sample[0]\n",
    "other_sigs = ['SBS1','SBS5','SBS18','SBS40']\n",
    "df = SBS31_df[SBS31_df.index.isin(selected_sample)]\n",
    "df['other_sigs'] = df[other_sigs].sum(axis=1)\n",
    "df = df[['SBS31','other_sigs']]\n",
    "sigs = df.columns.tolist()\n",
    "labels = []\n",
    "title = 'MRT'\n",
    "xlabel='Private\\nmutations'\n",
    "ylabel='Number of\\nmutations'\n",
    "\n",
    "rotation_xtick=0\n",
    "rotation_pvals=0\n",
    "\n",
    "fig, ax = plt.subplots(figsize=figsize)\n",
    "\n",
    "ax.plot(0, 0, 'o',color='white',markersize=10)\n",
    "\n",
    "val = df['other_sigs'].tolist()[0]\n",
    "ax.bar(0.2, val, color='grey',width=0.1,edgecolor='grey')\n",
    "\n",
    "plt.title(title,size=20,pad=20)\n",
    "plt.margins(0.22,0)\n",
    "\n",
    "#y-axis\n",
    "plt.ylabel(ylabel,size=16)\n",
    "plt.yticks(np.arange(0, ylim+100, range_val),size=12)\n",
    "plt.ylim(0,ylim)\n",
    "\n",
    "#x-axis\n",
    "plt.xticks([])\n",
    "plt.xlabel(xlabel,size=14)\n",
    "\n",
    "\n",
    "plt.text(0.04, x_val1, str(0), color='firebrick', fontweight='normal',ha='center',va='center',size=15)\n",
    "\n",
    "v = df['other_sigs'][0]\n",
    "plt.text(0.2, v+x_val2, str(int(round(v,0))), color='grey', fontweight='normal',ha='center',va='center',size=15)\n",
    "\n",
    "ax.spines['top'].set_visible(False)\n",
    "ax.spines['right'].set_visible(False)\n",
    "ax.get_xaxis().tick_bottom()\n",
    "ax.get_yaxis().tick_left()\n",
    "ax.spines['left'].set_linewidth(2) \n",
    "ax.spines['bottom'].set_linewidth(2)\n",
    "ax.xaxis.set_tick_params(width=0)\n",
    "ax.yaxis.set_tick_params(width=2,length=7)\n",
    "\n",
    "sample_id = samples_dict[selected_sample[0]]\n",
    "ax.grid(False)\n",
    "plt.savefig('./figures_paper/'+sample_id+'_platinumn_vs_aging_num_muts.png',dpi=300, format='png',transparent=True,bbox_inches='tight')\n",
    "plt.show()"
   ]
  },
  {
   "cell_type": "code",
   "execution_count": 59,
   "id": "d8c2d2b6",
   "metadata": {},
   "outputs": [
    {
     "data": {
      "image/png": "[encoded data removed]",
      "text/plain": [
       "<Figure size 72x72 with 1 Axes>"
      ]
     },
     "metadata": {},
     "output_type": "display_data"
    }
   ],
   "source": [
    "fig, ax = plt.subplots(figsize=(1,1))\n",
    "plt.xticks([])\n",
    "plt.yticks([])\n",
    "ax.spines['top'].set_visible(False)\n",
    "ax.spines['right'].set_visible(False)\n",
    "ax.spines['bottom'].set_visible(False)\n",
    "ax.spines['left'].set_visible(False)\n",
    "\n",
    "sbs31 = mlines.Line2D([], [], color='firebrick', marker='o', linestyle='None',\n",
    "                          markersize=8, label='Platinum')\n",
    "aging = mlines.Line2D([], [], color='cornflowerblue', marker='o', linestyle='None',\n",
    "                          markersize=8, label='Aging')\n",
    "plt.legend(handles=[sbs31,aging],bbox_to_anchor=(1,0.05,1,1),fontsize=14,title='Mutation type',title_fontsize=15)\n",
    "plt.savefig('./figures_paper/legend_platinumn_vs_aging.png',dpi=300, format='png',transparent=True,bbox_inches='tight')"
   ]
  },
  {
   "cell_type": "markdown",
   "id": "43dd73c4",
   "metadata": {},
   "source": [
    "## Mutation rates"
   ]
  },
  {
   "cell_type": "code",
   "execution_count": 34,
   "id": "dda6b0cb",
   "metadata": {},
   "outputs": [],
   "source": [
    "dates_dict = {'case2':{'DOB':'24-12-2007',\n",
    "                     'AU2198':'15-04-2011',\n",
    "                     'AU2199':'13-11-2008',\n",
    "                     'AU2200':'20-09-2017',\n",
    "                    'DTT1':'15-11-2008',\n",
    "                    'DTT2':'17-03-2009'},\n",
    "             'case3':{'DOB':'08-02-2009',\n",
    "                    'AU2202':'15-03-2019',\n",
    "                   'AZ4609':'08-08-2019',\n",
    "                   'AZ4610':'08-08-2019',\n",
    "                   'AZ4611':'08-08-2019',\n",
    "                   'AZ4612':'08-08-2019',\n",
    "                   'AZ4613':'08-08-2019',\n",
    "                   'AZ4614':'21-02-2019',\n",
    "                   'DTT1':'03-08-2010',\n",
    "                   'DTT2':'05-01-2012'},\n",
    "             'caseX':{'DOB':'10-11-2003',\n",
    "                   'AZ6342':'05-12-2017'},\n",
    "             'caseY':{'DOB':'08-10-2015',\n",
    "                   'AZ6371':'23-01-2017'}}\n",
    "\n",
    "def calculate_time(row,samples):\n",
    "    date_dob = row['DOB']\n",
    "    day_dob = date_dob.split('-')[0]\n",
    "    month_dob = date_dob.split('-')[1]\n",
    "    year_dob = date_dob.split('-')[2]\n",
    "    for sample in samples:\n",
    "        date_sample = row[sample]\n",
    "        day_sample = date_sample.split('-')[0]\n",
    "        month_sample = date_sample.split('-')[1]\n",
    "        year_sample = date_sample.split('-')[2]\n",
    "        \n",
    "        years_diff = int(year_sample) - int(year_dob)\n",
    "        months_diff = int(month_sample) - int(month_dob)\n",
    "        days_diff = int(day_sample) - int(day_dob)\n",
    "        \n",
    "        all_years_diff = years_diff + (months_diff/12) + ((days_diff/30)/12)\n",
    "        \n",
    "        row[sample+'_t'] = all_years_diff\n",
    "        \n",
    "    return row\n",
    "\n",
    "def time_table (dates_dict,pt,selected_samples,time_unit,ttmt_days):\n",
    "    dates1_df = pd.DataFrame.from_dict(dates_dict[pt],orient='index')\n",
    "    dates1_df = dates1_df.T\n",
    "\n",
    "\n",
    "    dates1_df = dates1_df.apply(lambda row: calculate_time(row,selected_samples),axis=1)\n",
    "    cols = [sample + '_t' for sample in selected_samples]\n",
    "    df1 = dates1_df[cols]\n",
    "    df1 = df1.rename(columns={col:col.split('_t')[0] for col in cols})\n",
    "    if time_unit == 'days':        \n",
    "        for sample in selected_samples:\n",
    "            df1[sample] = df1[sample].apply(lambda x: x*365)\n",
    "    \n",
    "    df1 = df1.T\n",
    "    if time_unit == 'days':\n",
    "        df1['time_ttmt'] = ttmt_days\n",
    "    elif time_unit == 'years':\n",
    "        ttmt_years = ttmt_days/365\n",
    "        df1['time_ttmt'] = ttmt_years\n",
    "        \n",
    "    df1 = df1.rename(columns={0:'time_birth'})\n",
    "\n",
    "    return df1"
   ]
  },
  {
   "cell_type": "code",
   "execution_count": 60,
   "id": "2c5d02cd",
   "metadata": {},
   "outputs": [
    {
     "data": {
      "text/html": [
       "<div>\n",
       "<style scoped>\n",
       "    .dataframe tbody tr th:only-of-type {\n",
       "        vertical-align: middle;\n",
       "    }\n",
       "\n",
       "    .dataframe tbody tr th {\n",
       "        vertical-align: top;\n",
       "    }\n",
       "\n",
       "    .dataframe thead th {\n",
       "        text-align: right;\n",
       "    }\n",
       "</style>\n",
       "<table border=\"1\" class=\"dataframe\">\n",
       "  <thead>\n",
       "    <tr style=\"text-align: right;\">\n",
       "      <th></th>\n",
       "      <th>time_birth</th>\n",
       "      <th>time_ttmt</th>\n",
       "    </tr>\n",
       "  </thead>\n",
       "  <tbody>\n",
       "    <tr>\n",
       "      <th>AU2198</th>\n",
       "      <td>1207.541667</td>\n",
       "      <td>16</td>\n",
       "    </tr>\n",
       "    <tr>\n",
       "      <th>AU2199</th>\n",
       "      <td>323.430556</td>\n",
       "      <td>16</td>\n",
       "    </tr>\n",
       "    <tr>\n",
       "      <th>AU2200</th>\n",
       "      <td>3554.694444</td>\n",
       "      <td>16</td>\n",
       "    </tr>\n",
       "    <tr>\n",
       "      <th>AU2202</th>\n",
       "      <td>3687.513889</td>\n",
       "      <td>8</td>\n",
       "    </tr>\n",
       "    <tr>\n",
       "      <th>AZ4609</th>\n",
       "      <td>3832.500000</td>\n",
       "      <td>8</td>\n",
       "    </tr>\n",
       "    <tr>\n",
       "      <th>AZ4610</th>\n",
       "      <td>3832.500000</td>\n",
       "      <td>8</td>\n",
       "    </tr>\n",
       "    <tr>\n",
       "      <th>AZ4611</th>\n",
       "      <td>3832.500000</td>\n",
       "      <td>8</td>\n",
       "    </tr>\n",
       "    <tr>\n",
       "      <th>AZ4612</th>\n",
       "      <td>3832.500000</td>\n",
       "      <td>8</td>\n",
       "    </tr>\n",
       "    <tr>\n",
       "      <th>AZ4613</th>\n",
       "      <td>3832.500000</td>\n",
       "      <td>8</td>\n",
       "    </tr>\n",
       "    <tr>\n",
       "      <th>AZ4614</th>\n",
       "      <td>3663.180556</td>\n",
       "      <td>8</td>\n",
       "    </tr>\n",
       "    <tr>\n",
       "      <th>AZ6342</th>\n",
       "      <td>5135.347222</td>\n",
       "      <td>0</td>\n",
       "    </tr>\n",
       "    <tr>\n",
       "      <th>AZ6371</th>\n",
       "      <td>471.458333</td>\n",
       "      <td>0</td>\n",
       "    </tr>\n",
       "  </tbody>\n",
       "</table>\n",
       "</div>"
      ],
      "text/plain": [
       "         time_birth  time_ttmt\n",
       "AU2198  1207.541667         16\n",
       "AU2199   323.430556         16\n",
       "AU2200  3554.694444         16\n",
       "AU2202  3687.513889          8\n",
       "AZ4609  3832.500000          8\n",
       "AZ4610  3832.500000          8\n",
       "AZ4611  3832.500000          8\n",
       "AZ4612  3832.500000          8\n",
       "AZ4613  3832.500000          8\n",
       "AZ4614  3663.180556          8\n",
       "AZ6342  5135.347222          0\n",
       "AZ6371   471.458333          0"
      ]
     },
     "execution_count": 60,
     "metadata": {},
     "output_type": "execute_result"
    }
   ],
   "source": [
    "selected_samples = ['AU2198','AU2199','AU2200']\n",
    "pt='case2'\n",
    "time_unit='days'\n",
    "ttmt_days = 16\n",
    "df1 = time_table (dates_dict,pt,selected_samples,time_unit,ttmt_days)\n",
    "selected_samples = ['AU2202','AZ4609','AZ4610','AZ4611','AZ4612','AZ4613','AZ4614']\n",
    "pt='case3'\n",
    "ttmt_days = 8\n",
    "df2 = time_table (dates_dict,pt,selected_samples,time_unit,ttmt_days)\n",
    "selected_samples = ['AZ6342']\n",
    "pt='caseX'\n",
    "ttmt_days = 0\n",
    "df3 = time_table (dates_dict,pt,selected_samples,time_unit,ttmt_days)\n",
    "selected_samples = ['AZ6371']\n",
    "pt='caseY'\n",
    "ttmt_days = 0\n",
    "df4 = time_table (dates_dict,pt,selected_samples,time_unit,ttmt_days)\n",
    "time_days_dose_adj_df = pd.concat([df1,df2,df3,df4],ignore_index=False)\n",
    "time_days_dose_adj_df"
   ]
  },
  {
   "cell_type": "code",
   "execution_count": 61,
   "id": "79dda81e",
   "metadata": {},
   "outputs": [],
   "source": [
    "#mutations /day administered\n",
    "def small_barplot_mut_rate (SBS31_df,selected_sample,figsize=(1,2),ylim=26,yticks = np.arange(-5, ylim, 5), x_val1=1, x_val2=1,log_scale=False):\n",
    "    aging_sigs = ['SBS1','SBS5','SBS40']\n",
    "    df = pd.merge(SBS31_df,time_days_dose_adj_df,left_index=True,right_index=True)\n",
    "    df = df[df.index.isin(selected_sample)]\n",
    "    df['aging_sigs'] = df[aging_sigs].sum(axis=1)\n",
    "    df['SBS31_rate'] = df['SBS31'] / df['time_ttmt']\n",
    "    df['aging_rate'] = df['aging_sigs'] / df['time_birth']\n",
    "    sigs = df.columns.tolist()\n",
    "    labels = []\n",
    "    title = ''\n",
    "    xlabel=''\n",
    "    ylabel='Mutation rate\\n(muts/day)'\n",
    "    loc=-80\n",
    "    legend=False\n",
    "    rotation_xtick=0\n",
    "    rotation_pvals=0\n",
    "    ha='center'\n",
    "    \n",
    "    ci_low = []\n",
    "    ci_high = []\n",
    "    \n",
    "    s = selected_sample[0]\n",
    "    \n",
    "    horizontal_line_width = 0.04\n",
    "    fig,ax = plt.subplots(figsize=figsize)\n",
    "    \n",
    "    if s in ['AZ6342','AZ6371']:\n",
    "        pass\n",
    "    else:\n",
    "        cl = (df['SBS31'][df.index==s].iloc[0] - ci_sbs31_dict[s][0]) / df['time_ttmt'][df.index==s].iloc[0]\n",
    "        ch = (ci_sbs31_dict[s][1] - df['SBS31'][df.index==s].iloc[0]) / df['time_ttmt'][df.index==s].iloc[0]\n",
    "        ci_low.append(cl)\n",
    "        ci_high.append(ch)\n",
    "\n",
    "    for x,val in enumerate(df['SBS31_rate'].tolist()):\n",
    "        if s in ['AZ6342','AZ6371']:\n",
    "            ax.plot(x, 0, color='white')\n",
    "        else:\n",
    "            pos = x\n",
    "            left = pos - horizontal_line_width / 2\n",
    "            top = val + ci_high[x]\n",
    "            right = pos + horizontal_line_width / 2\n",
    "            bottom = val - ci_low[x]\n",
    "            ax.bar(pos, val, color='firebrick',width=0.1,edgecolor='firebrick')\n",
    "            ax.plot([pos, pos], [top, bottom], color='k',linewidth=1.5)\n",
    "            ax.plot([left, right], [top, top], color='k',linewidth=1.5)\n",
    "            ax.plot([left, right], [bottom, bottom], color='k',linewidth=1.5)\n",
    "\n",
    "    ci_low = []\n",
    "    ci_high = []\n",
    "    for s in selected_sample:\n",
    "        cl = (df['aging_sigs'][df.index==s].iloc[0] - ci_aging_dict[s][0]) / df['time_birth'][df.index==s].iloc[0]\n",
    "        ch = (ci_aging_dict[s][1] - df['aging_sigs'][df.index==s].iloc[0]) / df['time_birth'][df.index==s].iloc[0]\n",
    "        ci_low.append(cl)\n",
    "        ci_high.append(ch)\n",
    "\n",
    "    for x,val in enumerate(df['aging_rate'].tolist()):   \n",
    "        pos = x +0.2\n",
    "        left = pos - horizontal_line_width / 2\n",
    "        top = val + ci_high[x]\n",
    "        right = pos + horizontal_line_width / 2\n",
    "        bottom = val - ci_low[x]\n",
    "        ax.bar(pos, val, color='cornflowerblue',width=0.1,edgecolor='cornflowerblue')\n",
    "        ax.plot([pos, pos], [top, bottom], color='k',linewidth=1.5)\n",
    "        ax.plot([left, right], [top, top], color='k',linewidth=1.5)\n",
    "        ax.plot([left, right], [bottom, bottom], color='k',linewidth=1.5)\n",
    "\n",
    "    plt.title(title,size=20,pad=20)\n",
    "    plt.margins(0.2,0)\n",
    "\n",
    "    #y-axis\n",
    "    plt.ylabel(ylabel,size=14)\n",
    "    plt.ylim(0,ylim)\n",
    "\n",
    "    #x-axis\n",
    "    plt.xlabel(xlabel)\n",
    "    ticks = range(0,len(df))\n",
    "    plt.xticks(ticks,[])\n",
    "    if log_scale==True:\n",
    "        plt.yscale('log')\n",
    "\n",
    "    for i, v in enumerate(df['SBS31_rate']):\n",
    "        if selected_sample[0] in  ['AZ6342','AZ6371']:\n",
    "            pass\n",
    "        else:\n",
    "            plt.text(i+0.1, v+x_val1, str(round(v,2)), color='firebrick', fontweight='normal',ha='center',va='center',size=15)\n",
    "    for i, v in enumerate(df['aging_rate']):\n",
    "        plt.text(i+0.25, v+x_val2, str(round(v,2)), color='cornflowerblue', fontweight='normal',ha='center',va='center',size=15)\n",
    "\n",
    "    ax.spines['top'].set_visible(False)\n",
    "    ax.spines['right'].set_visible(False)\n",
    "    ax.get_xaxis().tick_bottom()\n",
    "    ax.get_yaxis().tick_left()\n",
    "    ax.spines['left'].set_linewidth(2) \n",
    "    ax.spines['bottom'].set_linewidth(2)\n",
    "    ax.xaxis.set_tick_params(width=0)\n",
    "    ax.yaxis.set_tick_params(width=2,length=7)\n",
    "    \n",
    "    sample_id = samples_dict[selected_sample[0]]\n",
    "    \n",
    "    ax.grid(False)\n",
    "    plt.savefig('./figures_paper/'+sample_id+'_mut_rate.png',dpi=300, format='png',transparent=True,bbox_inches='tight')\n"
   ]
  },
  {
   "cell_type": "code",
   "execution_count": 62,
   "id": "5dce294c",
   "metadata": {
    "scrolled": true
   },
   "outputs": [
    {
     "data": {
      "image/png": "[encoded data removed]",
      "text/plain": [
       "<Figure size 72x144 with 1 Axes>"
      ]
     },
     "metadata": {
      "needs_background": "light"
     },
     "output_type": "display_data"
    },
    {
     "data": {
      "image/png": "[encoded data removed]",
      "text/plain": [
       "<Figure size 72x144 with 1 Axes>"
      ]
     },
     "metadata": {
      "needs_background": "light"
     },
     "output_type": "display_data"
    },
    {
     "data": {
      "image/png": "[encoded data removed]",
      "text/plain": [
       "<Figure size 72x144 with 1 Axes>"
      ]
     },
     "metadata": {
      "needs_background": "light"
     },
     "output_type": "display_data"
    },
    {
     "data": {
      "image/png": "[encoded data removed]",
      "text/plain": [
       "<Figure size 72x144 with 1 Axes>"
      ]
     },
     "metadata": {
      "needs_background": "light"
     },
     "output_type": "display_data"
    },
    {
     "data": {
      "image/png": "[encoded data removed]",
      "text/plain": [
       "<Figure size 72x144 with 1 Axes>"
      ]
     },
     "metadata": {
      "needs_background": "light"
     },
     "output_type": "display_data"
    },
    {
     "data": {
      "image/png": "[encoded data removed]",
      "text/plain": [
       "<Figure size 72x144 with 1 Axes>"
      ]
     },
     "metadata": {
      "needs_background": "light"
     },
     "output_type": "display_data"
    },
    {
     "data": {
      "image/png": "[encoded data removed]",
      "text/plain": [
       "<Figure size 72x144 with 1 Axes>"
      ]
     },
     "metadata": {
      "needs_background": "light"
     },
     "output_type": "display_data"
    }
   ],
   "source": [
    "selected_sample = ['AU2198']\n",
    "small_barplot_mut_rate(SBS31_df,selected_sample,ylim=30,yticks = np.arange(0, 31, 10),x_val1=5,x_val2=5)\n",
    "selected_sample = ['AZ4609']\n",
    "small_barplot_mut_rate(SBS31_df,selected_sample,ylim=40,yticks = np.arange(0, 41, 10),x_val1=15,x_val2=5)\n",
    "selected_sample = ['AZ4610']\n",
    "small_barplot_mut_rate(SBS31_df,selected_sample,ylim=40,yticks = np.arange(0, 41, 10),x_val1=15,x_val2=5)\n",
    "selected_sample = ['AZ4611']\n",
    "small_barplot_mut_rate(SBS31_df,selected_sample,ylim=20,yticks = np.arange(0, 21, 5),x_val1=8,x_val2=5)\n",
    "selected_sample = ['AZ4612']\n",
    "small_barplot_mut_rate(SBS31_df,selected_sample,ylim=30,yticks = np.arange(0, 31, 10),x_val1=12,x_val2=5)\n",
    "selected_sample = ['AZ4613']\n",
    "small_barplot_mut_rate(SBS31_df,selected_sample,ylim=20,yticks = np.arange(0, 21, 5),x_val1=8,x_val2=5)\n",
    "selected_sample = ['AZ4614']\n",
    "small_barplot_mut_rate(SBS31_df,selected_sample,ylim=10,yticks = np.arange(0, 11, 5),x_val1=4,x_val2=1)"
   ]
  },
  {
   "cell_type": "markdown",
   "id": "b3fecde5",
   "metadata": {},
   "source": [
    "### Mut rate Case 1 (data from WGS)"
   ]
  },
  {
   "cell_type": "code",
   "execution_count": 63,
   "id": "acb0bae4",
   "metadata": {},
   "outputs": [
    {
     "data": {
      "text/plain": [
       "{'AU2202': 'Case3_mrt',\n",
       " 'AZ4609': 'Case3_kidney',\n",
       " 'AZ4610': 'Case3_liver',\n",
       " 'AZ4611': 'Case3_pancreas',\n",
       " 'AZ4612': 'Case3_lung',\n",
       " 'AZ4613': 'Case3_spleen',\n",
       " 'AZ4614': 'Case3_bone_marrow',\n",
       " 'AZ4663': 'Unrelated1',\n",
       " 'AZ4671': 'Unrelated2',\n",
       " 'AU2198': 'Case2_blood',\n",
       " 'AU2199': 'Case2_epn',\n",
       " 'AU2200': 'Case2_dmg',\n",
       " 'AZ6342': 'Unrelated1',\n",
       " 'AZ6371': 'Unrelated2',\n",
       " 'AQ5187_vs_AQ5175': 'Case1_blood'}"
      ]
     },
     "execution_count": 63,
     "metadata": {},
     "output_type": "execute_result"
    }
   ],
   "source": [
    "samples_dict"
   ]
  },
  {
   "cell_type": "code",
   "execution_count": 64,
   "id": "6c14d27d",
   "metadata": {
    "scrolled": false
   },
   "outputs": [
    {
     "data": {
      "text/html": [
       "<div>\n",
       "<style scoped>\n",
       "    .dataframe tbody tr th:only-of-type {\n",
       "        vertical-align: middle;\n",
       "    }\n",
       "\n",
       "    .dataframe tbody tr th {\n",
       "        vertical-align: top;\n",
       "    }\n",
       "\n",
       "    .dataframe thead th {\n",
       "        text-align: right;\n",
       "    }\n",
       "</style>\n",
       "<table border=\"1\" class=\"dataframe\">\n",
       "  <thead>\n",
       "    <tr style=\"text-align: right;\">\n",
       "      <th></th>\n",
       "      <th>time_birth</th>\n",
       "      <th>time_ttmt</th>\n",
       "    </tr>\n",
       "  </thead>\n",
       "  <tbody>\n",
       "    <tr>\n",
       "      <th>AU2198</th>\n",
       "      <td>1207.541667</td>\n",
       "      <td>16</td>\n",
       "    </tr>\n",
       "    <tr>\n",
       "      <th>AU2199</th>\n",
       "      <td>323.430556</td>\n",
       "      <td>16</td>\n",
       "    </tr>\n",
       "    <tr>\n",
       "      <th>AU2200</th>\n",
       "      <td>3554.694444</td>\n",
       "      <td>16</td>\n",
       "    </tr>\n",
       "    <tr>\n",
       "      <th>AU2202</th>\n",
       "      <td>3687.513889</td>\n",
       "      <td>8</td>\n",
       "    </tr>\n",
       "    <tr>\n",
       "      <th>AZ4609</th>\n",
       "      <td>3832.500000</td>\n",
       "      <td>8</td>\n",
       "    </tr>\n",
       "    <tr>\n",
       "      <th>AZ4610</th>\n",
       "      <td>3832.500000</td>\n",
       "      <td>8</td>\n",
       "    </tr>\n",
       "    <tr>\n",
       "      <th>AZ4611</th>\n",
       "      <td>3832.500000</td>\n",
       "      <td>8</td>\n",
       "    </tr>\n",
       "    <tr>\n",
       "      <th>AZ4612</th>\n",
       "      <td>3832.500000</td>\n",
       "      <td>8</td>\n",
       "    </tr>\n",
       "    <tr>\n",
       "      <th>AZ4613</th>\n",
       "      <td>3832.500000</td>\n",
       "      <td>8</td>\n",
       "    </tr>\n",
       "    <tr>\n",
       "      <th>AZ4614</th>\n",
       "      <td>3663.180556</td>\n",
       "      <td>8</td>\n",
       "    </tr>\n",
       "    <tr>\n",
       "      <th>AZ6342</th>\n",
       "      <td>5135.347222</td>\n",
       "      <td>0</td>\n",
       "    </tr>\n",
       "    <tr>\n",
       "      <th>AZ6371</th>\n",
       "      <td>471.458333</td>\n",
       "      <td>0</td>\n",
       "    </tr>\n",
       "    <tr>\n",
       "      <th>AQ5181_vs_AQ5175</th>\n",
       "      <td>4962.986111</td>\n",
       "      <td>0</td>\n",
       "    </tr>\n",
       "    <tr>\n",
       "      <th>AQ5187_vs_AQ5175</th>\n",
       "      <td>4973.125000</td>\n",
       "      <td>4</td>\n",
       "    </tr>\n",
       "  </tbody>\n",
       "</table>\n",
       "</div>"
      ],
      "text/plain": [
       "                   time_birth  time_ttmt\n",
       "AU2198            1207.541667         16\n",
       "AU2199             323.430556         16\n",
       "AU2200            3554.694444         16\n",
       "AU2202            3687.513889          8\n",
       "AZ4609            3832.500000          8\n",
       "AZ4610            3832.500000          8\n",
       "AZ4611            3832.500000          8\n",
       "AZ4612            3832.500000          8\n",
       "AZ4613            3832.500000          8\n",
       "AZ4614            3663.180556          8\n",
       "AZ6342            5135.347222          0\n",
       "AZ6371             471.458333          0\n",
       "AQ5181_vs_AQ5175  4962.986111          0\n",
       "AQ5187_vs_AQ5175  4973.125000          4"
      ]
     },
     "execution_count": 64,
     "metadata": {},
     "output_type": "execute_result"
    }
   ],
   "source": [
    "dates_dict['case1']={'DOB':'08-05-2000',\n",
    "                     'AQ5181_vs_AQ5175':'13-12-2013',\n",
    "                   'AQ5187_vs_AQ5175':'23-12-2013'} #second neoplasm date we put the start of the treatment\n",
    "selected_samples =  ['AQ5181_vs_AQ5175','AQ5187_vs_AQ5175']\n",
    "pt ='case1'\n",
    "time_unit ='days'\n",
    "ttmt_days = [0,4]\n",
    "case1_time_days_dose_adj_df = time_table (dates_dict,pt,selected_samples,time_unit,ttmt_days)\n",
    "case1_time_days_dose_adj_df\n",
    "time_days_dose_adj_df = pd.concat([time_days_dose_adj_df,case1_time_days_dose_adj_df])\n",
    "time_days_dose_adj_df"
   ]
  },
  {
   "cell_type": "code",
   "execution_count": 65,
   "id": "6b166de9",
   "metadata": {
    "scrolled": false
   },
   "outputs": [
    {
     "data": {
      "image/png": "[encoded data removed]",
      "text/plain": [
       "<Figure size 72x144 with 1 Axes>"
      ]
     },
     "metadata": {
      "needs_background": "light"
     },
     "output_type": "display_data"
    }
   ],
   "source": [
    "selected_sample = ['AQ5187_vs_AQ5175']\n",
    "small_barplot_mut_rate(case1_df31,selected_sample,ylim=300,yticks = np.arange(0, 310, 100),x_val1=65,x_val2=30)"
   ]
  }
 ],
 "metadata": {
  "kernelspec": {
   "display_name": "Python [conda env:process_vc]",
   "language": "python",
   "name": "conda-env-process_vc-py"
  },
  "language_info": {
   "codemirror_mode": {
    "name": "ipython",
    "version": 3
   },
   "file_extension": ".py",
   "mimetype": "text/x-python",
   "name": "python",
   "nbconvert_exporter": "python",
   "pygments_lexer": "ipython3",
   "version": "3.6.11"
  }
 },
 "nbformat": 4,
 "nbformat_minor": 5
}
