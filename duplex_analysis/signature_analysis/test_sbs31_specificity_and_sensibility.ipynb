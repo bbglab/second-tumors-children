{
 "cells": [
  {
   "cell_type": "markdown",
   "id": "7c47bebc",
   "metadata": {},
   "source": [
    "# Test SBS31 specificity and sensitibity\n",
    "\n",
    "The exposure to SBS31 signature is further evaluated to know how sensitive and specific are the values that mSigAct are giving us.\n",
    "- **Specificity** is to know if we can trust that a sample has SBS31 exposure. This is calculated by evaluating with mSigAct the presence of SBS31 in synthetic samples builded without SBS31. How many times mSigAct gives a value for SBS31 signature when this is not present in the sample? \n",
    "- **Sensitibity** is to know the range of exposure (confidence intervals). This is calculated by evaluating with mSigAct the presence of SBS31 in synthetic samples builded with increasing number of SBS31 signature. Which range of number of signatures has to contain a sample for mSigAct to give the value that corresponds to each sample?"
   ]
  },
  {
   "cell_type": "markdown",
   "id": "075e3e8a",
   "metadata": {},
   "source": [
    "## Specificity test"
   ]
  },
  {
   "cell_type": "code",
   "execution_count": 1,
   "id": "6d4ae6bc",
   "metadata": {},
   "outputs": [],
   "source": [
    "import os\n",
    "import pandas as pd\n",
    "import numpy as np\n",
    "\n",
    "from collections import OrderedDict\n",
    "import itertools\n",
    "import matplotlib.pyplot as plt\n",
    "from collections import defaultdict\n",
    "import seaborn as sns\n",
    "import json"
   ]
  },
  {
   "cell_type": "code",
   "execution_count": 2,
   "id": "d6258622",
   "metadata": {},
   "outputs": [],
   "source": [
    "def minor_tick_labels():\n",
    "    major_labels = ['C>A', 'C>G', 'C>T', 'T>A', 'T>C', 'T>G']\n",
    "    flanks = ['AA', 'AC', 'AG', 'AT', 'CA', 'CC', 'CG', 'CT',\n",
    "              'GA', 'GC', 'GG', 'GT', 'TA', 'TC', 'TG', 'TT']\n",
    "    minor_labels = []\n",
    "    for subs in major_labels:\n",
    "        for flank in flanks:\n",
    "            minor_labels.append(flank[0] + subs[0] + flank[1])\n",
    "    return minor_labels\n",
    "\n",
    "def mut_key_generator():\n",
    "    \"\"\"\n",
    "\n",
    "    Returns:\n",
    "        Generates all possible lex sortable mutation keys\n",
    "        1st component: substitution;\n",
    "        2nd component: flanks\n",
    "\n",
    "    \"\"\"\n",
    "    subs = ['CA', 'CG', 'CT', 'TA', 'TC', 'TG']\n",
    "    for s in sorted(subs):\n",
    "        for c in sorted(itertools.product(set('ACGT'), repeat=2)):\n",
    "            yield tuple([s, ''.join(c)])\n",
    "            \n",
    "def change_dct_format(dicc):\n",
    "    '''Change the format of the dictionary to be ready for the plot'''\n",
    "    dicc_change = dict()\n",
    "    for k, v in dicc.items():\n",
    "        # split elements of channel annotation\n",
    "        left = k[0]\n",
    "        ref = k[1]\n",
    "        alt = k[3]\n",
    "        right = k[2]\n",
    "        \n",
    "        # write in the other format (1st substitution, 2nd context)\n",
    "        new_cntxt = tuple([ref+alt, left+right])  \n",
    "        dicc_change[new_cntxt] = dicc[k]\n",
    "    \n",
    "    dicc_sorted = OrderedDict()\n",
    "    for k in mut_key_generator():\n",
    "        dicc_sorted[k] = dicc_change[k]\n",
    "    \n",
    "    return dicc_sorted\n",
    "\n",
    "def plot_signature(profile, title=None, ax=None):\n",
    "    \"\"\"\n",
    "    Args:\n",
    "        profile: signature-like object in lexicographic order\n",
    "        title: string\n",
    "        ymax: float\n",
    "\n",
    "    Returns:\n",
    "        produces the signature bar plot\n",
    "    \"\"\"\n",
    "\n",
    "    total = sum(profile.values())\n",
    "    if abs(total - 1) > 0.01:\n",
    "        profile = defaultdict(int, {k: v / total for k, v in profile.items()})\n",
    "    sns.set(font_scale=1.5)\n",
    "    sns.set_style('white')\n",
    "    vector = np.array([profile[k] for k in sorted(mut_key_generator())])\n",
    "    \n",
    "    ymax = max(vector)*1.1\n",
    "    \n",
    "    # set plot size\n",
    "    fig.set_size_inches(15, 4)\n",
    "\n",
    "    # bar plot\n",
    "    barlist = ax.bar(range(96), vector)\n",
    "    color_list = ['#72bcd4', 'k', 'r', '#7e7e7e', 'g', '#e6add8']\n",
    "    for category in range(6):\n",
    "        for i in range(16):\n",
    "            barlist[category * 16 + i].set_color(color_list[category])\n",
    "    ax.set_xlim([-0.5, 96])\n",
    "    ax.set_ylim([0, ymax])\n",
    "\n",
    "    # ax.set_ylabel('subs rel freq')\n",
    "    labels = ['C>A', 'C>G', 'C>T', 'T>A', 'T>C', 'T>G']\n",
    "    major_ticks = np.arange(8, 8 + 16 * 5 + 1, 16)\n",
    "    minor_ticks = np.arange(0.2, 96.2, 1)\n",
    "    ax.tick_params(length=0, which='major', pad=20, labelsize=12)\n",
    "    ax.tick_params(length=0, which='minor', pad=5, labelsize=6)\n",
    "    ax.set_xticks(major_ticks, minor=False)\n",
    "    ax.set_xticklabels(labels, minor=False)\n",
    "    ax.set_xticks(minor_ticks, minor=True)\n",
    "    ax.set_xticklabels(minor_tick_labels(), minor=True, rotation=90)\n",
    "    ax.set_title(title, fontsize=24)"
   ]
  },
  {
   "cell_type": "markdown",
   "id": "47a85904",
   "metadata": {},
   "source": [
    "### Sample mutations"
   ]
  },
  {
   "cell_type": "code",
   "execution_count": 3,
   "id": "c552b7d8",
   "metadata": {
    "scrolled": true
   },
   "outputs": [
    {
     "data": {
      "text/html": [
       "<div>\n",
       "<style scoped>\n",
       "    .dataframe tbody tr th:only-of-type {\n",
       "        vertical-align: middle;\n",
       "    }\n",
       "\n",
       "    .dataframe tbody tr th {\n",
       "        vertical-align: top;\n",
       "    }\n",
       "\n",
       "    .dataframe thead th {\n",
       "        text-align: right;\n",
       "    }\n",
       "</style>\n",
       "<table border=\"1\" class=\"dataframe\">\n",
       "  <thead>\n",
       "    <tr style=\"text-align: right;\">\n",
       "      <th></th>\n",
       "      <th>SBS1</th>\n",
       "      <th>SBS2</th>\n",
       "      <th>SBS5</th>\n",
       "      <th>SBS13</th>\n",
       "      <th>SBS18</th>\n",
       "      <th>SBS40</th>\n",
       "      <th>SBS45</th>\n",
       "      <th>SBS31</th>\n",
       "    </tr>\n",
       "    <tr>\n",
       "      <th>sample_id</th>\n",
       "      <th></th>\n",
       "      <th></th>\n",
       "      <th></th>\n",
       "      <th></th>\n",
       "      <th></th>\n",
       "      <th></th>\n",
       "      <th></th>\n",
       "      <th></th>\n",
       "    </tr>\n",
       "  </thead>\n",
       "  <tbody>\n",
       "    <tr>\n",
       "      <th>AU2198</th>\n",
       "      <td>24.976048</td>\n",
       "      <td>22.018771</td>\n",
       "      <td>0.000000</td>\n",
       "      <td>0.0</td>\n",
       "      <td>0.000000</td>\n",
       "      <td>0.000000</td>\n",
       "      <td>131.877055</td>\n",
       "      <td>269.128127</td>\n",
       "    </tr>\n",
       "    <tr>\n",
       "      <th>AU2199</th>\n",
       "      <td>0.000000</td>\n",
       "      <td>53.814437</td>\n",
       "      <td>0.000000</td>\n",
       "      <td>0.0</td>\n",
       "      <td>530.139260</td>\n",
       "      <td>0.000000</td>\n",
       "      <td>0.000000</td>\n",
       "      <td>35.046304</td>\n",
       "    </tr>\n",
       "    <tr>\n",
       "      <th>AU2200</th>\n",
       "      <td>13.903467</td>\n",
       "      <td>12.384124</td>\n",
       "      <td>207.714362</td>\n",
       "      <td>0.0</td>\n",
       "      <td>99.875719</td>\n",
       "      <td>0.000000</td>\n",
       "      <td>78.823444</td>\n",
       "      <td>34.298884</td>\n",
       "    </tr>\n",
       "    <tr>\n",
       "      <th>AU2202</th>\n",
       "      <td>12.410012</td>\n",
       "      <td>0.000000</td>\n",
       "      <td>0.000000</td>\n",
       "      <td>0.0</td>\n",
       "      <td>42.862809</td>\n",
       "      <td>102.964656</td>\n",
       "      <td>0.000000</td>\n",
       "      <td>18.762523</td>\n",
       "    </tr>\n",
       "    <tr>\n",
       "      <th>AZ4609</th>\n",
       "      <td>0.000000</td>\n",
       "      <td>0.000000</td>\n",
       "      <td>263.598884</td>\n",
       "      <td>0.0</td>\n",
       "      <td>235.830685</td>\n",
       "      <td>422.591756</td>\n",
       "      <td>0.000000</td>\n",
       "      <td>183.978674</td>\n",
       "    </tr>\n",
       "    <tr>\n",
       "      <th>AZ4610</th>\n",
       "      <td>0.000000</td>\n",
       "      <td>0.000000</td>\n",
       "      <td>238.573374</td>\n",
       "      <td>0.0</td>\n",
       "      <td>0.000000</td>\n",
       "      <td>346.897460</td>\n",
       "      <td>119.276185</td>\n",
       "      <td>237.252982</td>\n",
       "    </tr>\n",
       "    <tr>\n",
       "      <th>AZ4611</th>\n",
       "      <td>0.000000</td>\n",
       "      <td>0.000000</td>\n",
       "      <td>198.328457</td>\n",
       "      <td>0.0</td>\n",
       "      <td>0.000000</td>\n",
       "      <td>144.365381</td>\n",
       "      <td>70.154947</td>\n",
       "      <td>100.151215</td>\n",
       "    </tr>\n",
       "    <tr>\n",
       "      <th>AZ4612</th>\n",
       "      <td>28.012395</td>\n",
       "      <td>0.000000</td>\n",
       "      <td>0.000000</td>\n",
       "      <td>0.0</td>\n",
       "      <td>0.000000</td>\n",
       "      <td>641.733676</td>\n",
       "      <td>0.000000</td>\n",
       "      <td>106.253928</td>\n",
       "    </tr>\n",
       "    <tr>\n",
       "      <th>AZ4613</th>\n",
       "      <td>0.000000</td>\n",
       "      <td>18.440010</td>\n",
       "      <td>0.000000</td>\n",
       "      <td>0.0</td>\n",
       "      <td>0.000000</td>\n",
       "      <td>262.810710</td>\n",
       "      <td>0.000000</td>\n",
       "      <td>116.749280</td>\n",
       "    </tr>\n",
       "    <tr>\n",
       "      <th>AZ4614</th>\n",
       "      <td>0.000000</td>\n",
       "      <td>0.000000</td>\n",
       "      <td>0.000000</td>\n",
       "      <td>0.0</td>\n",
       "      <td>83.727583</td>\n",
       "      <td>210.395296</td>\n",
       "      <td>0.000000</td>\n",
       "      <td>38.877122</td>\n",
       "    </tr>\n",
       "    <tr>\n",
       "      <th>AZ6342</th>\n",
       "      <td>0.000000</td>\n",
       "      <td>0.000000</td>\n",
       "      <td>105.186404</td>\n",
       "      <td>0.0</td>\n",
       "      <td>58.813596</td>\n",
       "      <td>0.000000</td>\n",
       "      <td>0.000000</td>\n",
       "      <td>0.000000</td>\n",
       "    </tr>\n",
       "    <tr>\n",
       "      <th>AZ6371</th>\n",
       "      <td>3.879510</td>\n",
       "      <td>0.000000</td>\n",
       "      <td>0.000000</td>\n",
       "      <td>0.0</td>\n",
       "      <td>0.000000</td>\n",
       "      <td>46.808768</td>\n",
       "      <td>0.000000</td>\n",
       "      <td>11.311722</td>\n",
       "    </tr>\n",
       "  </tbody>\n",
       "</table>\n",
       "</div>"
      ],
      "text/plain": [
       "                SBS1       SBS2        SBS5  SBS13       SBS18       SBS40  \\\n",
       "sample_id                                                                    \n",
       "AU2198     24.976048  22.018771    0.000000    0.0    0.000000    0.000000   \n",
       "AU2199      0.000000  53.814437    0.000000    0.0  530.139260    0.000000   \n",
       "AU2200     13.903467  12.384124  207.714362    0.0   99.875719    0.000000   \n",
       "AU2202     12.410012   0.000000    0.000000    0.0   42.862809  102.964656   \n",
       "AZ4609      0.000000   0.000000  263.598884    0.0  235.830685  422.591756   \n",
       "AZ4610      0.000000   0.000000  238.573374    0.0    0.000000  346.897460   \n",
       "AZ4611      0.000000   0.000000  198.328457    0.0    0.000000  144.365381   \n",
       "AZ4612     28.012395   0.000000    0.000000    0.0    0.000000  641.733676   \n",
       "AZ4613      0.000000  18.440010    0.000000    0.0    0.000000  262.810710   \n",
       "AZ4614      0.000000   0.000000    0.000000    0.0   83.727583  210.395296   \n",
       "AZ6342      0.000000   0.000000  105.186404    0.0   58.813596    0.000000   \n",
       "AZ6371      3.879510   0.000000    0.000000    0.0    0.000000   46.808768   \n",
       "\n",
       "                SBS45       SBS31  \n",
       "sample_id                          \n",
       "AU2198     131.877055  269.128127  \n",
       "AU2199       0.000000   35.046304  \n",
       "AU2200      78.823444   34.298884  \n",
       "AU2202       0.000000   18.762523  \n",
       "AZ4609       0.000000  183.978674  \n",
       "AZ4610     119.276185  237.252982  \n",
       "AZ4611      70.154947  100.151215  \n",
       "AZ4612       0.000000  106.253928  \n",
       "AZ4613       0.000000  116.749280  \n",
       "AZ4614       0.000000   38.877122  \n",
       "AZ6342       0.000000    0.000000  \n",
       "AZ6371       0.000000   11.311722  "
      ]
     },
     "execution_count": 3,
     "metadata": {},
     "output_type": "execute_result"
    }
   ],
   "source": [
    "path = './msigact/'\n",
    "\n",
    "folders = [folder for folder in os.listdir(path)if folder.startswith('A')]\n",
    "\n",
    "SBS31_pvals = {}\n",
    "SBS31_df = pd.DataFrame()\n",
    "for sample in folders:\n",
    "    df = pd.read_csv(path+sample+'/SBS31/results.count_matrix.tsv.mSigAct.SBS31.tsv',sep='\\t')\n",
    "    df = df.T\n",
    "    df.reset_index(inplace=True)\n",
    "    df = df.rename(columns={'index':'sample_id'})\n",
    "    df['sample_id'] = [sample]\n",
    "    \n",
    "    df['pval'] = df['pval'].round(4)\n",
    "    pvals_dict = dict(zip(df['sample_id'],df['pval']))\n",
    "    SBS31_pvals.update(pvals_dict)\n",
    "    sigs_cols =[col for col in df.columns if col.startswith('SBS')]\n",
    "    df = df[['sample_id']+sigs_cols]\n",
    "    df = df.set_index('sample_id')\n",
    "    SBS31_df = pd.concat([SBS31_df,df])\n",
    "SBS31_df.fillna(0,inplace=True)\n",
    "sigs = ['SBS1','SBS2','SBS5','SBS13','SBS18','SBS40','SBS45','SBS31']\n",
    "SBS31_df = SBS31_df[sigs]\n",
    "samples_selected = ['AU2198','AU2199','AU2200','AU2202','AZ4609','AZ4610','AZ4611','AZ4612','AZ4613','AZ4614','AZ6342','AZ6371']\n",
    "SBS31_df = SBS31_df[SBS31_df.index.isin(samples_selected)]\n",
    "SBS31_df"
   ]
  },
  {
   "cell_type": "code",
   "execution_count": 4,
   "id": "5838836a",
   "metadata": {},
   "outputs": [
    {
     "data": {
      "text/html": [
       "<div>\n",
       "<style scoped>\n",
       "    .dataframe tbody tr th:only-of-type {\n",
       "        vertical-align: middle;\n",
       "    }\n",
       "\n",
       "    .dataframe tbody tr th {\n",
       "        vertical-align: top;\n",
       "    }\n",
       "\n",
       "    .dataframe thead th {\n",
       "        text-align: right;\n",
       "    }\n",
       "</style>\n",
       "<table border=\"1\" class=\"dataframe\">\n",
       "  <thead>\n",
       "    <tr style=\"text-align: right;\">\n",
       "      <th></th>\n",
       "      <th>SBS1</th>\n",
       "      <th>SBS2</th>\n",
       "      <th>SBS5</th>\n",
       "      <th>SBS13</th>\n",
       "      <th>SBS18</th>\n",
       "      <th>SBS40</th>\n",
       "      <th>SBS45</th>\n",
       "      <th>SBS31</th>\n",
       "      <th>Total_muts</th>\n",
       "      <th>Total_muts_no_sbs31</th>\n",
       "    </tr>\n",
       "    <tr>\n",
       "      <th>sample_id</th>\n",
       "      <th></th>\n",
       "      <th></th>\n",
       "      <th></th>\n",
       "      <th></th>\n",
       "      <th></th>\n",
       "      <th></th>\n",
       "      <th></th>\n",
       "      <th></th>\n",
       "      <th></th>\n",
       "      <th></th>\n",
       "    </tr>\n",
       "  </thead>\n",
       "  <tbody>\n",
       "    <tr>\n",
       "      <th>AU2198</th>\n",
       "      <td>63</td>\n",
       "      <td>55</td>\n",
       "      <td>0</td>\n",
       "      <td>0</td>\n",
       "      <td>0</td>\n",
       "      <td>0</td>\n",
       "      <td>330</td>\n",
       "      <td>269.128127</td>\n",
       "      <td>448.0</td>\n",
       "      <td>178.871873</td>\n",
       "    </tr>\n",
       "    <tr>\n",
       "      <th>AU2199</th>\n",
       "      <td>0</td>\n",
       "      <td>57</td>\n",
       "      <td>0</td>\n",
       "      <td>0</td>\n",
       "      <td>562</td>\n",
       "      <td>0</td>\n",
       "      <td>0</td>\n",
       "      <td>35.046304</td>\n",
       "      <td>619.0</td>\n",
       "      <td>583.953696</td>\n",
       "    </tr>\n",
       "    <tr>\n",
       "      <th>AU2200</th>\n",
       "      <td>15</td>\n",
       "      <td>13</td>\n",
       "      <td>225</td>\n",
       "      <td>0</td>\n",
       "      <td>108</td>\n",
       "      <td>0</td>\n",
       "      <td>85</td>\n",
       "      <td>34.298884</td>\n",
       "      <td>447.0</td>\n",
       "      <td>412.701116</td>\n",
       "    </tr>\n",
       "    <tr>\n",
       "      <th>AU2202</th>\n",
       "      <td>14</td>\n",
       "      <td>0</td>\n",
       "      <td>0</td>\n",
       "      <td>0</td>\n",
       "      <td>48</td>\n",
       "      <td>115</td>\n",
       "      <td>0</td>\n",
       "      <td>18.762523</td>\n",
       "      <td>177.0</td>\n",
       "      <td>158.237477</td>\n",
       "    </tr>\n",
       "    <tr>\n",
       "      <th>AZ4609</th>\n",
       "      <td>0</td>\n",
       "      <td>0</td>\n",
       "      <td>316</td>\n",
       "      <td>0</td>\n",
       "      <td>283</td>\n",
       "      <td>507</td>\n",
       "      <td>0</td>\n",
       "      <td>183.978674</td>\n",
       "      <td>1106.0</td>\n",
       "      <td>922.021326</td>\n",
       "    </tr>\n",
       "    <tr>\n",
       "      <th>AZ4610</th>\n",
       "      <td>0</td>\n",
       "      <td>0</td>\n",
       "      <td>319</td>\n",
       "      <td>0</td>\n",
       "      <td>0</td>\n",
       "      <td>464</td>\n",
       "      <td>159</td>\n",
       "      <td>237.252982</td>\n",
       "      <td>942.0</td>\n",
       "      <td>704.747018</td>\n",
       "    </tr>\n",
       "    <tr>\n",
       "      <th>AZ4611</th>\n",
       "      <td>0</td>\n",
       "      <td>0</td>\n",
       "      <td>246</td>\n",
       "      <td>0</td>\n",
       "      <td>0</td>\n",
       "      <td>179</td>\n",
       "      <td>87</td>\n",
       "      <td>100.151215</td>\n",
       "      <td>513.0</td>\n",
       "      <td>412.848785</td>\n",
       "    </tr>\n",
       "    <tr>\n",
       "      <th>AZ4612</th>\n",
       "      <td>32</td>\n",
       "      <td>0</td>\n",
       "      <td>0</td>\n",
       "      <td>0</td>\n",
       "      <td>0</td>\n",
       "      <td>744</td>\n",
       "      <td>0</td>\n",
       "      <td>106.253928</td>\n",
       "      <td>776.0</td>\n",
       "      <td>669.746072</td>\n",
       "    </tr>\n",
       "    <tr>\n",
       "      <th>AZ4613</th>\n",
       "      <td>0</td>\n",
       "      <td>26</td>\n",
       "      <td>0</td>\n",
       "      <td>0</td>\n",
       "      <td>0</td>\n",
       "      <td>372</td>\n",
       "      <td>0</td>\n",
       "      <td>116.749280</td>\n",
       "      <td>398.0</td>\n",
       "      <td>281.250720</td>\n",
       "    </tr>\n",
       "    <tr>\n",
       "      <th>AZ4614</th>\n",
       "      <td>0</td>\n",
       "      <td>0</td>\n",
       "      <td>0</td>\n",
       "      <td>0</td>\n",
       "      <td>95</td>\n",
       "      <td>238</td>\n",
       "      <td>0</td>\n",
       "      <td>38.877122</td>\n",
       "      <td>333.0</td>\n",
       "      <td>294.122878</td>\n",
       "    </tr>\n",
       "    <tr>\n",
       "      <th>AZ6342</th>\n",
       "      <td>0</td>\n",
       "      <td>0</td>\n",
       "      <td>105</td>\n",
       "      <td>0</td>\n",
       "      <td>59</td>\n",
       "      <td>0</td>\n",
       "      <td>0</td>\n",
       "      <td>0.000000</td>\n",
       "      <td>164.0</td>\n",
       "      <td>164.000000</td>\n",
       "    </tr>\n",
       "    <tr>\n",
       "      <th>AZ6371</th>\n",
       "      <td>5</td>\n",
       "      <td>0</td>\n",
       "      <td>0</td>\n",
       "      <td>0</td>\n",
       "      <td>0</td>\n",
       "      <td>57</td>\n",
       "      <td>0</td>\n",
       "      <td>11.311722</td>\n",
       "      <td>62.0</td>\n",
       "      <td>50.688278</td>\n",
       "    </tr>\n",
       "  </tbody>\n",
       "</table>\n",
       "</div>"
      ],
      "text/plain": [
       "           SBS1  SBS2  SBS5  SBS13  SBS18  SBS40  SBS45       SBS31  \\\n",
       "sample_id                                                             \n",
       "AU2198       63    55     0      0      0      0    330  269.128127   \n",
       "AU2199        0    57     0      0    562      0      0   35.046304   \n",
       "AU2200       15    13   225      0    108      0     85   34.298884   \n",
       "AU2202       14     0     0      0     48    115      0   18.762523   \n",
       "AZ4609        0     0   316      0    283    507      0  183.978674   \n",
       "AZ4610        0     0   319      0      0    464    159  237.252982   \n",
       "AZ4611        0     0   246      0      0    179     87  100.151215   \n",
       "AZ4612       32     0     0      0      0    744      0  106.253928   \n",
       "AZ4613        0    26     0      0      0    372      0  116.749280   \n",
       "AZ4614        0     0     0      0     95    238      0   38.877122   \n",
       "AZ6342        0     0   105      0     59      0      0    0.000000   \n",
       "AZ6371        5     0     0      0      0     57      0   11.311722   \n",
       "\n",
       "           Total_muts  Total_muts_no_sbs31  \n",
       "sample_id                                   \n",
       "AU2198          448.0           178.871873  \n",
       "AU2199          619.0           583.953696  \n",
       "AU2200          447.0           412.701116  \n",
       "AU2202          177.0           158.237477  \n",
       "AZ4609         1106.0           922.021326  \n",
       "AZ4610          942.0           704.747018  \n",
       "AZ4611          513.0           412.848785  \n",
       "AZ4612          776.0           669.746072  \n",
       "AZ4613          398.0           281.250720  \n",
       "AZ4614          333.0           294.122878  \n",
       "AZ6342          164.0           164.000000  \n",
       "AZ6371           62.0            50.688278  "
      ]
     },
     "execution_count": 4,
     "metadata": {},
     "output_type": "execute_result"
    }
   ],
   "source": [
    "df1 = SBS31_df\n",
    "sig_cols = df1.columns\n",
    "df1['Total_muts'] = df1[sig_cols].sum(axis=1)\n",
    "sig_cols = [sig for sig in sig_cols if sig != 'SBS31']\n",
    "df1['Total_muts_no_sbs31'] = df1[sig_cols].sum(axis=1)\n",
    "for sig in sig_cols:\n",
    "    df1[sig] = df1.apply(lambda row: int(round(row[sig]/row['Total_muts_no_sbs31']*row['Total_muts'],0)),axis=1)\n",
    "df1"
   ]
  },
  {
   "cell_type": "markdown",
   "id": "d5592d33",
   "metadata": {},
   "source": [
    "### COSMIC signature probabilities"
   ]
  },
  {
   "cell_type": "code",
   "execution_count": 5,
   "id": "758d6c48",
   "metadata": {},
   "outputs": [
    {
     "data": {
      "text/html": [
       "<div>\n",
       "<style scoped>\n",
       "    .dataframe tbody tr th:only-of-type {\n",
       "        vertical-align: middle;\n",
       "    }\n",
       "\n",
       "    .dataframe tbody tr th {\n",
       "        vertical-align: top;\n",
       "    }\n",
       "\n",
       "    .dataframe thead th {\n",
       "        text-align: right;\n",
       "    }\n",
       "</style>\n",
       "<table border=\"1\" class=\"dataframe\">\n",
       "  <thead>\n",
       "    <tr style=\"text-align: right;\">\n",
       "      <th></th>\n",
       "      <th>SBS1</th>\n",
       "      <th>SBS5</th>\n",
       "      <th>SBS18</th>\n",
       "    </tr>\n",
       "    <tr>\n",
       "      <th>channel</th>\n",
       "      <th></th>\n",
       "      <th></th>\n",
       "      <th></th>\n",
       "    </tr>\n",
       "  </thead>\n",
       "  <tbody>\n",
       "    <tr>\n",
       "      <th>ACAA</th>\n",
       "      <td>8.760229e-04</td>\n",
       "      <td>0.012052</td>\n",
       "      <td>0.051688</td>\n",
       "    </tr>\n",
       "    <tr>\n",
       "      <th>ACCA</th>\n",
       "      <td>2.220120e-03</td>\n",
       "      <td>0.009337</td>\n",
       "      <td>0.015617</td>\n",
       "    </tr>\n",
       "    <tr>\n",
       "      <th>ACGA</th>\n",
       "      <td>1.797272e-04</td>\n",
       "      <td>0.001908</td>\n",
       "      <td>0.002505</td>\n",
       "    </tr>\n",
       "    <tr>\n",
       "      <th>ACTA</th>\n",
       "      <td>1.265053e-03</td>\n",
       "      <td>0.006636</td>\n",
       "      <td>0.021469</td>\n",
       "    </tr>\n",
       "    <tr>\n",
       "      <th>CCAA</th>\n",
       "      <td>3.050262e-04</td>\n",
       "      <td>0.007379</td>\n",
       "      <td>0.073437</td>\n",
       "    </tr>\n",
       "    <tr>\n",
       "      <th>...</th>\n",
       "      <td>...</td>\n",
       "      <td>...</td>\n",
       "      <td>...</td>\n",
       "    </tr>\n",
       "    <tr>\n",
       "      <th>GTTG</th>\n",
       "      <td>1.455855e-05</td>\n",
       "      <td>0.002380</td>\n",
       "      <td>0.002166</td>\n",
       "    </tr>\n",
       "    <tr>\n",
       "      <th>TTAG</th>\n",
       "      <td>2.165410e-16</td>\n",
       "      <td>0.005149</td>\n",
       "      <td>0.000686</td>\n",
       "    </tr>\n",
       "    <tr>\n",
       "      <th>TTCG</th>\n",
       "      <td>5.521334e-05</td>\n",
       "      <td>0.006677</td>\n",
       "      <td>0.002136</td>\n",
       "    </tr>\n",
       "    <tr>\n",
       "      <th>TTGG</th>\n",
       "      <td>5.776138e-04</td>\n",
       "      <td>0.006984</td>\n",
       "      <td>0.001458</td>\n",
       "    </tr>\n",
       "    <tr>\n",
       "      <th>TTTG</th>\n",
       "      <td>2.201263e-16</td>\n",
       "      <td>0.013536</td>\n",
       "      <td>0.005170</td>\n",
       "    </tr>\n",
       "  </tbody>\n",
       "</table>\n",
       "<p>96 rows × 3 columns</p>\n",
       "</div>"
      ],
      "text/plain": [
       "                 SBS1      SBS5     SBS18\n",
       "channel                                  \n",
       "ACAA     8.760229e-04  0.012052  0.051688\n",
       "ACCA     2.220120e-03  0.009337  0.015617\n",
       "ACGA     1.797272e-04  0.001908  0.002505\n",
       "ACTA     1.265053e-03  0.006636  0.021469\n",
       "CCAA     3.050262e-04  0.007379  0.073437\n",
       "...               ...       ...       ...\n",
       "GTTG     1.455855e-05  0.002380  0.002166\n",
       "TTAG     2.165410e-16  0.005149  0.000686\n",
       "TTCG     5.521334e-05  0.006677  0.002136\n",
       "TTGG     5.776138e-04  0.006984  0.001458\n",
       "TTTG     2.201263e-16  0.013536  0.005170\n",
       "\n",
       "[96 rows x 3 columns]"
      ]
     },
     "execution_count": 5,
     "metadata": {},
     "output_type": "execute_result"
    }
   ],
   "source": [
    "cosmic_df = pd.read_csv('../../wgs_analysis/tumor_vs_blood/signature_analysis/data/COSMIC_v3.3.1_SBS_GRCh38.txt',sep='\\t')\n",
    "cosmic_df['channel'] = cosmic_df['Type'].apply(lambda x: x[0]+x[2]+x[6]+x[4])\n",
    "cosmic_df.set_index('channel',inplace=True)\n",
    "cosmic_df.drop('Type',inplace=True,axis=1)\n",
    "df = pd.read_csv('./msigact/AU2198/count_matrix.tsv',sep='\\t')\n",
    "order_channels = df['Unnamed: 0'].tolist()\n",
    "cosmic_df = cosmic_df.reindex(order_channels)\n",
    "cosmic_df[['SBS1','SBS5','SBS18']]"
   ]
  },
  {
   "cell_type": "markdown",
   "id": "9c25d02d",
   "metadata": {},
   "source": [
    "### Generate synthetic samples"
   ]
  },
  {
   "cell_type": "code",
   "execution_count": 6,
   "id": "84d65fbd",
   "metadata": {},
   "outputs": [
    {
     "data": {
      "text/plain": [
       "{'AU2198': {'SBS1': 63, 'SBS2': 55, 'SBS45': 330},\n",
       " 'AU2199': {'SBS2': 57, 'SBS18': 562},\n",
       " 'AU2200': {'SBS1': 15, 'SBS2': 13, 'SBS5': 225, 'SBS18': 108, 'SBS45': 85},\n",
       " 'AU2202': {'SBS1': 14, 'SBS18': 48, 'SBS40': 115},\n",
       " 'AZ4609': {'SBS5': 316, 'SBS18': 283, 'SBS40': 507},\n",
       " 'AZ4610': {'SBS5': 319, 'SBS40': 464, 'SBS45': 159},\n",
       " 'AZ4611': {'SBS5': 246, 'SBS40': 179, 'SBS45': 87},\n",
       " 'AZ4612': {'SBS1': 32, 'SBS40': 744},\n",
       " 'AZ4613': {'SBS2': 26, 'SBS40': 372},\n",
       " 'AZ4614': {'SBS18': 95, 'SBS40': 238},\n",
       " 'AZ6342': {'SBS5': 105, 'SBS18': 59},\n",
       " 'AZ6371': {'SBS1': 5, 'SBS40': 57}}"
      ]
     },
     "execution_count": 6,
     "metadata": {},
     "output_type": "execute_result"
    }
   ],
   "source": [
    "sigs = ['SBS1', 'SBS2', 'SBS5', 'SBS13', 'SBS18', 'SBS40', 'SBS45']\n",
    "samples_info = SBS31_df[sigs].to_dict(orient='index')\n",
    "for d in samples_info:\n",
    "    samples_info[d] = {sig:samples_info[d][sig] for sig in samples_info[d].keys() if samples_info[d][sig]!=0}\n",
    "samples_info"
   ]
  },
  {
   "cell_type": "code",
   "execution_count": 7,
   "id": "e13395f2",
   "metadata": {},
   "outputs": [],
   "source": [
    "file = './synthetic_samples_specificity/samples_dict.json'\n",
    "json.dump(samples_info,open(file,'w'))"
   ]
  },
  {
   "cell_type": "code",
   "execution_count": 140,
   "id": "1fbbce35",
   "metadata": {
    "scrolled": true
   },
   "outputs": [
    {
     "name": "stdout",
     "output_type": "stream",
     "text": [
      "AU2198\n"
     ]
    },
    {
     "data": {
      "text/plain": [
       "SAMPLE1       448\n",
       "SAMPLE2       448\n",
       "SAMPLE3       448\n",
       "SAMPLE4       448\n",
       "SAMPLE5       448\n",
       "             ... \n",
       "SAMPLE996     448\n",
       "SAMPLE997     448\n",
       "SAMPLE998     448\n",
       "SAMPLE999     448\n",
       "SAMPLE1000    448\n",
       "Length: 1000, dtype: int64"
      ]
     },
     "metadata": {},
     "output_type": "display_data"
    },
    {
     "name": "stdout",
     "output_type": "stream",
     "text": [
      "AU2199\n"
     ]
    },
    {
     "data": {
      "text/plain": [
       "SAMPLE1       619\n",
       "SAMPLE2       619\n",
       "SAMPLE3       619\n",
       "SAMPLE4       619\n",
       "SAMPLE5       619\n",
       "             ... \n",
       "SAMPLE996     619\n",
       "SAMPLE997     619\n",
       "SAMPLE998     619\n",
       "SAMPLE999     619\n",
       "SAMPLE1000    619\n",
       "Length: 1000, dtype: int64"
      ]
     },
     "metadata": {},
     "output_type": "display_data"
    },
    {
     "name": "stdout",
     "output_type": "stream",
     "text": [
      "AU2200\n"
     ]
    },
    {
     "data": {
      "text/plain": [
       "SAMPLE1       446\n",
       "SAMPLE2       446\n",
       "SAMPLE3       446\n",
       "SAMPLE4       446\n",
       "SAMPLE5       446\n",
       "             ... \n",
       "SAMPLE996     446\n",
       "SAMPLE997     446\n",
       "SAMPLE998     446\n",
       "SAMPLE999     446\n",
       "SAMPLE1000    446\n",
       "Length: 1000, dtype: int64"
      ]
     },
     "metadata": {},
     "output_type": "display_data"
    },
    {
     "name": "stdout",
     "output_type": "stream",
     "text": [
      "AU2202\n"
     ]
    },
    {
     "data": {
      "text/plain": [
       "SAMPLE1       177\n",
       "SAMPLE2       177\n",
       "SAMPLE3       177\n",
       "SAMPLE4       177\n",
       "SAMPLE5       177\n",
       "             ... \n",
       "SAMPLE996     177\n",
       "SAMPLE997     177\n",
       "SAMPLE998     177\n",
       "SAMPLE999     177\n",
       "SAMPLE1000    177\n",
       "Length: 1000, dtype: int64"
      ]
     },
     "metadata": {},
     "output_type": "display_data"
    },
    {
     "name": "stdout",
     "output_type": "stream",
     "text": [
      "AZ4609\n"
     ]
    },
    {
     "data": {
      "text/plain": [
       "SAMPLE1       1106\n",
       "SAMPLE2       1106\n",
       "SAMPLE3       1106\n",
       "SAMPLE4       1106\n",
       "SAMPLE5       1106\n",
       "              ... \n",
       "SAMPLE996     1106\n",
       "SAMPLE997     1106\n",
       "SAMPLE998     1106\n",
       "SAMPLE999     1106\n",
       "SAMPLE1000    1106\n",
       "Length: 1000, dtype: int64"
      ]
     },
     "metadata": {},
     "output_type": "display_data"
    },
    {
     "name": "stdout",
     "output_type": "stream",
     "text": [
      "AZ4610\n"
     ]
    },
    {
     "data": {
      "text/plain": [
       "SAMPLE1       942\n",
       "SAMPLE2       942\n",
       "SAMPLE3       942\n",
       "SAMPLE4       942\n",
       "SAMPLE5       942\n",
       "             ... \n",
       "SAMPLE996     942\n",
       "SAMPLE997     942\n",
       "SAMPLE998     942\n",
       "SAMPLE999     942\n",
       "SAMPLE1000    942\n",
       "Length: 1000, dtype: int64"
      ]
     },
     "metadata": {},
     "output_type": "display_data"
    },
    {
     "name": "stdout",
     "output_type": "stream",
     "text": [
      "AZ4611\n"
     ]
    },
    {
     "data": {
      "text/plain": [
       "SAMPLE1       512\n",
       "SAMPLE2       512\n",
       "SAMPLE3       512\n",
       "SAMPLE4       512\n",
       "SAMPLE5       512\n",
       "             ... \n",
       "SAMPLE996     512\n",
       "SAMPLE997     512\n",
       "SAMPLE998     512\n",
       "SAMPLE999     512\n",
       "SAMPLE1000    512\n",
       "Length: 1000, dtype: int64"
      ]
     },
     "metadata": {},
     "output_type": "display_data"
    },
    {
     "name": "stdout",
     "output_type": "stream",
     "text": [
      "AZ4612\n"
     ]
    },
    {
     "data": {
      "text/plain": [
       "SAMPLE1       776\n",
       "SAMPLE2       776\n",
       "SAMPLE3       776\n",
       "SAMPLE4       776\n",
       "SAMPLE5       776\n",
       "             ... \n",
       "SAMPLE996     776\n",
       "SAMPLE997     776\n",
       "SAMPLE998     776\n",
       "SAMPLE999     776\n",
       "SAMPLE1000    776\n",
       "Length: 1000, dtype: int64"
      ]
     },
     "metadata": {},
     "output_type": "display_data"
    },
    {
     "name": "stdout",
     "output_type": "stream",
     "text": [
      "AZ4613\n"
     ]
    },
    {
     "data": {
      "text/plain": [
       "SAMPLE1       398\n",
       "SAMPLE2       398\n",
       "SAMPLE3       398\n",
       "SAMPLE4       398\n",
       "SAMPLE5       398\n",
       "             ... \n",
       "SAMPLE996     398\n",
       "SAMPLE997     398\n",
       "SAMPLE998     398\n",
       "SAMPLE999     398\n",
       "SAMPLE1000    398\n",
       "Length: 1000, dtype: int64"
      ]
     },
     "metadata": {},
     "output_type": "display_data"
    },
    {
     "name": "stdout",
     "output_type": "stream",
     "text": [
      "AZ4614\n"
     ]
    },
    {
     "data": {
      "text/plain": [
       "SAMPLE1       333\n",
       "SAMPLE2       333\n",
       "SAMPLE3       333\n",
       "SAMPLE4       333\n",
       "SAMPLE5       333\n",
       "             ... \n",
       "SAMPLE996     333\n",
       "SAMPLE997     333\n",
       "SAMPLE998     333\n",
       "SAMPLE999     333\n",
       "SAMPLE1000    333\n",
       "Length: 1000, dtype: int64"
      ]
     },
     "metadata": {},
     "output_type": "display_data"
    },
    {
     "name": "stdout",
     "output_type": "stream",
     "text": [
      "AZ6342\n"
     ]
    },
    {
     "data": {
      "text/plain": [
       "SAMPLE1       164\n",
       "SAMPLE2       164\n",
       "SAMPLE3       164\n",
       "SAMPLE4       164\n",
       "SAMPLE5       164\n",
       "             ... \n",
       "SAMPLE996     164\n",
       "SAMPLE997     164\n",
       "SAMPLE998     164\n",
       "SAMPLE999     164\n",
       "SAMPLE1000    164\n",
       "Length: 1000, dtype: int64"
      ]
     },
     "metadata": {},
     "output_type": "display_data"
    },
    {
     "name": "stdout",
     "output_type": "stream",
     "text": [
      "AZ6371\n"
     ]
    },
    {
     "data": {
      "text/plain": [
       "SAMPLE1       62\n",
       "SAMPLE2       62\n",
       "SAMPLE3       62\n",
       "SAMPLE4       62\n",
       "SAMPLE5       62\n",
       "              ..\n",
       "SAMPLE996     62\n",
       "SAMPLE997     62\n",
       "SAMPLE998     62\n",
       "SAMPLE999     62\n",
       "SAMPLE1000    62\n",
       "Length: 1000, dtype: int64"
      ]
     },
     "metadata": {},
     "output_type": "display_data"
    }
   ],
   "source": [
    "path = './synthetic_samples_specificity/'\n",
    "channels = cosmic_df.index\n",
    "synth_samples_dict = {}\n",
    "for sample_info in samples_info:\n",
    "    print(sample_info)\n",
    "    synth_samples_df = pd.DataFrame(index=channels)\n",
    "    synth_samples = []\n",
    "    for i in range(1,1001):\n",
    "        synth_sample = {channel:0 for channel in channels}\n",
    "        for sig in samples_info[sample_info].keys():\n",
    "            num_muts = samples_info[sample_info][sig]\n",
    "            probability_vector = cosmic_df[sig].tolist()\n",
    "\n",
    "            counts = np.random.choice(channels,p=probability_vector,size=num_muts)\n",
    "            sig_counts = {channel:np.count_nonzero(counts==channel) for channel in channels}\n",
    "            synth_sample = {channel:(synth_sample[channel]+sig_counts[channel]) for channel in channels}\n",
    "        synth_samples_df['SAMPLE'+str(i)] = synth_samples_df.index.map(synth_sample)\n",
    "        synth_samples.append(synth_sample)\n",
    "    synth_samples_dict[sample_info] = synth_samples\n",
    "    display(synth_samples_df.sum())\n",
    "    if not os.path.exists(path+sample_info):\n",
    "        os.makedirs(path+sample_info)\n",
    "    synth_samples_df.to_csv(path+sample_info+'/count_matrix.tsv',sep='\\t')"
   ]
  },
  {
   "cell_type": "code",
   "execution_count": 10,
   "id": "12c11af5",
   "metadata": {
    "scrolled": true
   },
   "outputs": [
    {
     "data": {
      "image/png": "[encoded data removed]",
      "text/plain": [
       "<Figure size 1080x288 with 1 Axes>"
      ]
     },
     "metadata": {
      "needs_background": "light"
     },
     "output_type": "display_data"
    },
    {
     "data": {
      "image/png": "[encoded data removed]",
      "text/plain": [
       "<Figure size 1080x288 with 1 Axes>"
      ]
     },
     "metadata": {},
     "output_type": "display_data"
    },
    {
     "data": {
      "image/png": "[encoded data removed]",
      "text/plain": [
       "<Figure size 1080x288 with 1 Axes>"
      ]
     },
     "metadata": {},
     "output_type": "display_data"
    },
    {
     "data": {
      "image/png": "[encoded data removed]",
      "text/plain": [
       "<Figure size 1080x288 with 1 Axes>"
      ]
     },
     "metadata": {},
     "output_type": "display_data"
    },
    {
     "data": {
      "image/png": "[encoded data removed]",
      "text/plain": [
       "<Figure size 1080x288 with 1 Axes>"
      ]
     },
     "metadata": {},
     "output_type": "display_data"
    },
    {
     "data": {
      "image/png": "[encoded data removed]",
      "text/plain": [
       "<Figure size 1080x288 with 1 Axes>"
      ]
     },
     "metadata": {},
     "output_type": "display_data"
    },
    {
     "data": {
      "image/png": "[encoded data removed]",
      "text/plain": [
       "<Figure size 1080x288 with 1 Axes>"
      ]
     },
     "metadata": {},
     "output_type": "display_data"
    },
    {
     "data": {
      "image/png": "[encoded data removed]",
      "text/plain": [
       "<Figure size 1080x288 with 1 Axes>"
      ]
     },
     "metadata": {},
     "output_type": "display_data"
    },
    {
     "data": {
      "image/png": "[encoded data removed]",
      "text/plain": [
       "<Figure size 1080x288 with 1 Axes>"
      ]
     },
     "metadata": {},
     "output_type": "display_data"
    }
   ],
   "source": [
    "#check profiles to see that the synthetic samples are similar\n",
    "samples_df = pd.read_csv('./synthetic_samples_specificity/AU2202/count_matrix.tsv',sep='\\t')\n",
    "\n",
    "for colname in ['SAMPLE'+str(n) for n in range(1,10)]:\n",
    "    dictionary = dict(zip(samples_df['channel'],samples_df[colname]))\n",
    "    dict_counts = change_dct_format(dictionary)\n",
    "    fig, ax = plt.subplots()\n",
    "    plot_signature(dict_counts, title=' ' ,ax=ax)\n",
    "    plt.show()"
   ]
  },
  {
   "cell_type": "markdown",
   "id": "fa2cd8cb",
   "metadata": {},
   "source": [
    "### Run signature tables and mSigAct with qmap\n",
    "\n",
    "Run the qmaps prepared in this notebook (synthetic specificity): ```qmap_msigact.ipynb```"
   ]
  },
  {
   "cell_type": "markdown",
   "id": "a3a903a0",
   "metadata": {},
   "source": [
    "### Check results msigact"
   ]
  },
  {
   "cell_type": "code",
   "execution_count": 8,
   "id": "ce1a4ccc",
   "metadata": {},
   "outputs": [],
   "source": [
    "samples_name_dict = {'AU2198':'Case 2, Blood',\n",
    "                    'AU2199':'Case 2, EPN',\n",
    "                    'AU2200':'Case 2, DMG',\n",
    "                    'AU2202':'Case 3, MRT',\n",
    "                    'AZ4609':'Case 3, Kidney',\n",
    "                    'AZ4610':'Case 3, Liver',\n",
    "                    'AZ4611':'Case 3, Pancreas',\n",
    "                    'AZ4612':'Case 3, Lung',\n",
    "                    'AZ4613':'Case 3, Spleen',\n",
    "                    'AZ4614':'Case 3, Bone Marrow',\n",
    "                    'AZ6342':'Unrelated non-treated donor 1, Blood',\n",
    "                    'AZ6371':'Unrelated non-treated donor 2, Blood'}"
   ]
  },
  {
   "cell_type": "code",
   "execution_count": 9,
   "id": "442546ac",
   "metadata": {
    "scrolled": true
   },
   "outputs": [
    {
     "name": "stdout",
     "output_type": "stream",
     "text": [
      "AU2198\n",
      "AU2199\n",
      "AU2200\n",
      "AU2202\n",
      "AZ4609\n",
      "AZ4610\n",
      "AZ4611\n",
      "AZ4612\n",
      "AZ4613\n",
      "AZ4614\n",
      "AZ6342\n",
      "AZ6371\n"
     ]
    },
    {
     "data": {
      "image/png": "[encoded data removed]",
      "text/plain": [
       "<Figure size 504x144 with 1 Axes>"
      ]
     },
     "metadata": {
      "needs_background": "light"
     },
     "output_type": "display_data"
    },
    {
     "data": {
      "image/png": "[encoded data removed]",
      "text/plain": [
       "<Figure size 504x144 with 1 Axes>"
      ]
     },
     "metadata": {
      "needs_background": "light"
     },
     "output_type": "display_data"
    },
    {
     "data": {
      "image/png": "[encoded data removed]",
      "text/plain": [
       "<Figure size 504x144 with 1 Axes>"
      ]
     },
     "metadata": {
      "needs_background": "light"
     },
     "output_type": "display_data"
    },
    {
     "data": {
      "image/png": "[encoded data removed]",
      "text/plain": [
       "<Figure size 504x144 with 1 Axes>"
      ]
     },
     "metadata": {
      "needs_background": "light"
     },
     "output_type": "display_data"
    },
    {
     "data": {
      "image/png": "[encoded data removed]",
      "text/plain": [
       "<Figure size 504x144 with 1 Axes>"
      ]
     },
     "metadata": {
      "needs_background": "light"
     },
     "output_type": "display_data"
    },
    {
     "data": {
      "image/png": "[encoded data removed]",
      "text/plain": [
       "<Figure size 504x144 with 1 Axes>"
      ]
     },
     "metadata": {
      "needs_background": "light"
     },
     "output_type": "display_data"
    },
    {
     "data": {
      "image/png": "[encoded data removed]",
      "text/plain": [
       "<Figure size 504x144 with 1 Axes>"
      ]
     },
     "metadata": {
      "needs_background": "light"
     },
     "output_type": "display_data"
    },
    {
     "data": {
      "image/png": "[encoded data removed]",
      "text/plain": [
       "<Figure size 504x144 with 1 Axes>"
      ]
     },
     "metadata": {
      "needs_background": "light"
     },
     "output_type": "display_data"
    },
    {
     "data": {
      "image/png": "[encoded data removed]",
      "text/plain": [
       "<Figure size 504x144 with 1 Axes>"
      ]
     },
     "metadata": {
      "needs_background": "light"
     },
     "output_type": "display_data"
    },
    {
     "data": {
      "image/png": "[encoded data removed]",
      "text/plain": [
       "<Figure size 504x144 with 1 Axes>"
      ]
     },
     "metadata": {
      "needs_background": "light"
     },
     "output_type": "display_data"
    },
    {
     "data": {
      "image/png": "[encoded data removed]",
      "text/plain": [
       "<Figure size 504x144 with 1 Axes>"
      ]
     },
     "metadata": {
      "needs_background": "light"
     },
     "output_type": "display_data"
    },
    {
     "data": {
      "image/png": "[encoded data removed]",
      "text/plain": [
       "<Figure size 504x144 with 1 Axes>"
      ]
     },
     "metadata": {
      "needs_background": "light"
     },
     "output_type": "display_data"
    }
   ],
   "source": [
    "for sample in samples_name_dict.keys():\n",
    "    msigact_value = SBS31_df['SBS31'][SBS31_df.index==sample][0]\n",
    "    df = pd.read_csv('./synthetic_samples_specificity/'+sample+'/SBS31/results.count_matrix.tsv.mSigAct.SBS31.tsv',sep='\\t')\n",
    "    print(sample)\n",
    "    df['SAMPLES'] = df.index\n",
    "    plt.figure(figsize=(7,2))\n",
    "    plt.hist(df['SBS31'],bins=range(0,400,5))\n",
    "    plt.axvline(msigact_value,color='r',ymax=0.5)\n",
    "    plt.yticks([0.1,0,10,100,1000],size=10)\n",
    "    plt.yscale('log')\n",
    "    plt.text(x=msigact_value,y=100,s=int(round(msigact_value,0)),ha='center',color='r')\n",
    "    plt.title(samples_name_dict[sample],size=20)\n",
    "    plt.xlabel('SBS31 exposures',size=12)\n",
    "    plt.ylabel('Number of\\nsynthetic samples',size=12)\n",
    "    plt.ylim(0.9,1300)\n",
    "    sample_id = samples_name_dict[sample].replace(' ','_')\n",
    "    plt.savefig('./figures_paper/specificity_'+sample_id+'.png',dpi=300, format='png',transparent=True,bbox_inches='tight')\n"
   ]
  },
  {
   "cell_type": "markdown",
   "id": "2a2e04fa",
   "metadata": {},
   "source": [
    "-------------------------------"
   ]
  },
  {
   "cell_type": "markdown",
   "id": "9a5c99ff",
   "metadata": {},
   "source": [
    "## Sensitivity test synthetic samples with SBS31 injections, to get the CI"
   ]
  },
  {
   "cell_type": "code",
   "execution_count": 11,
   "id": "0c620a8d",
   "metadata": {
    "scrolled": true
   },
   "outputs": [
    {
     "data": {
      "text/html": [
       "<div>\n",
       "<style scoped>\n",
       "    .dataframe tbody tr th:only-of-type {\n",
       "        vertical-align: middle;\n",
       "    }\n",
       "\n",
       "    .dataframe tbody tr th {\n",
       "        vertical-align: top;\n",
       "    }\n",
       "\n",
       "    .dataframe thead th {\n",
       "        text-align: right;\n",
       "    }\n",
       "</style>\n",
       "<table border=\"1\" class=\"dataframe\">\n",
       "  <thead>\n",
       "    <tr style=\"text-align: right;\">\n",
       "      <th></th>\n",
       "      <th>SBS1</th>\n",
       "      <th>SBS2</th>\n",
       "      <th>SBS5</th>\n",
       "      <th>SBS13</th>\n",
       "      <th>SBS18</th>\n",
       "      <th>SBS40</th>\n",
       "      <th>SBS45</th>\n",
       "      <th>SBS31</th>\n",
       "    </tr>\n",
       "    <tr>\n",
       "      <th>sample_id</th>\n",
       "      <th></th>\n",
       "      <th></th>\n",
       "      <th></th>\n",
       "      <th></th>\n",
       "      <th></th>\n",
       "      <th></th>\n",
       "      <th></th>\n",
       "      <th></th>\n",
       "    </tr>\n",
       "  </thead>\n",
       "  <tbody>\n",
       "    <tr>\n",
       "      <th>AU2198</th>\n",
       "      <td>24.976048</td>\n",
       "      <td>22.018771</td>\n",
       "      <td>0.000000</td>\n",
       "      <td>0.0</td>\n",
       "      <td>0.000000</td>\n",
       "      <td>0.000000</td>\n",
       "      <td>131.877055</td>\n",
       "      <td>269.128127</td>\n",
       "    </tr>\n",
       "    <tr>\n",
       "      <th>AZ4609</th>\n",
       "      <td>0.000000</td>\n",
       "      <td>0.000000</td>\n",
       "      <td>263.598884</td>\n",
       "      <td>0.0</td>\n",
       "      <td>235.830685</td>\n",
       "      <td>422.591756</td>\n",
       "      <td>0.000000</td>\n",
       "      <td>183.978674</td>\n",
       "    </tr>\n",
       "    <tr>\n",
       "      <th>AZ4610</th>\n",
       "      <td>0.000000</td>\n",
       "      <td>0.000000</td>\n",
       "      <td>238.573374</td>\n",
       "      <td>0.0</td>\n",
       "      <td>0.000000</td>\n",
       "      <td>346.897460</td>\n",
       "      <td>119.276185</td>\n",
       "      <td>237.252982</td>\n",
       "    </tr>\n",
       "    <tr>\n",
       "      <th>AZ4611</th>\n",
       "      <td>0.000000</td>\n",
       "      <td>0.000000</td>\n",
       "      <td>198.328457</td>\n",
       "      <td>0.0</td>\n",
       "      <td>0.000000</td>\n",
       "      <td>144.365381</td>\n",
       "      <td>70.154947</td>\n",
       "      <td>100.151215</td>\n",
       "    </tr>\n",
       "    <tr>\n",
       "      <th>AZ4612</th>\n",
       "      <td>28.012395</td>\n",
       "      <td>0.000000</td>\n",
       "      <td>0.000000</td>\n",
       "      <td>0.0</td>\n",
       "      <td>0.000000</td>\n",
       "      <td>641.733676</td>\n",
       "      <td>0.000000</td>\n",
       "      <td>106.253928</td>\n",
       "    </tr>\n",
       "    <tr>\n",
       "      <th>AZ4613</th>\n",
       "      <td>0.000000</td>\n",
       "      <td>18.440010</td>\n",
       "      <td>0.000000</td>\n",
       "      <td>0.0</td>\n",
       "      <td>0.000000</td>\n",
       "      <td>262.810710</td>\n",
       "      <td>0.000000</td>\n",
       "      <td>116.749280</td>\n",
       "    </tr>\n",
       "    <tr>\n",
       "      <th>AZ4614</th>\n",
       "      <td>0.000000</td>\n",
       "      <td>0.000000</td>\n",
       "      <td>0.000000</td>\n",
       "      <td>0.0</td>\n",
       "      <td>83.727583</td>\n",
       "      <td>210.395296</td>\n",
       "      <td>0.000000</td>\n",
       "      <td>38.877122</td>\n",
       "    </tr>\n",
       "    <tr>\n",
       "      <th>AZ6342</th>\n",
       "      <td>0.000000</td>\n",
       "      <td>0.000000</td>\n",
       "      <td>105.186404</td>\n",
       "      <td>0.0</td>\n",
       "      <td>58.813596</td>\n",
       "      <td>0.000000</td>\n",
       "      <td>0.000000</td>\n",
       "      <td>0.000000</td>\n",
       "    </tr>\n",
       "    <tr>\n",
       "      <th>AZ6371</th>\n",
       "      <td>3.879510</td>\n",
       "      <td>0.000000</td>\n",
       "      <td>0.000000</td>\n",
       "      <td>0.0</td>\n",
       "      <td>0.000000</td>\n",
       "      <td>46.808768</td>\n",
       "      <td>0.000000</td>\n",
       "      <td>11.311722</td>\n",
       "    </tr>\n",
       "    <tr>\n",
       "      <th>AQ5187_vs_AQ5175</th>\n",
       "      <td>153.632827</td>\n",
       "      <td>0.000000</td>\n",
       "      <td>982.093386</td>\n",
       "      <td>0.0</td>\n",
       "      <td>163.313380</td>\n",
       "      <td>0.000000</td>\n",
       "      <td>0.000000</td>\n",
       "      <td>931.960407</td>\n",
       "    </tr>\n",
       "  </tbody>\n",
       "</table>\n",
       "</div>"
      ],
      "text/plain": [
       "                        SBS1       SBS2        SBS5  SBS13       SBS18  \\\n",
       "sample_id                                                                \n",
       "AU2198             24.976048  22.018771    0.000000    0.0    0.000000   \n",
       "AZ4609              0.000000   0.000000  263.598884    0.0  235.830685   \n",
       "AZ4610              0.000000   0.000000  238.573374    0.0    0.000000   \n",
       "AZ4611              0.000000   0.000000  198.328457    0.0    0.000000   \n",
       "AZ4612             28.012395   0.000000    0.000000    0.0    0.000000   \n",
       "AZ4613              0.000000  18.440010    0.000000    0.0    0.000000   \n",
       "AZ4614              0.000000   0.000000    0.000000    0.0   83.727583   \n",
       "AZ6342              0.000000   0.000000  105.186404    0.0   58.813596   \n",
       "AZ6371              3.879510   0.000000    0.000000    0.0    0.000000   \n",
       "AQ5187_vs_AQ5175  153.632827   0.000000  982.093386    0.0  163.313380   \n",
       "\n",
       "                       SBS40       SBS45       SBS31  \n",
       "sample_id                                             \n",
       "AU2198              0.000000  131.877055  269.128127  \n",
       "AZ4609            422.591756    0.000000  183.978674  \n",
       "AZ4610            346.897460  119.276185  237.252982  \n",
       "AZ4611            144.365381   70.154947  100.151215  \n",
       "AZ4612            641.733676    0.000000  106.253928  \n",
       "AZ4613            262.810710    0.000000  116.749280  \n",
       "AZ4614            210.395296    0.000000   38.877122  \n",
       "AZ6342              0.000000    0.000000    0.000000  \n",
       "AZ6371             46.808768    0.000000   11.311722  \n",
       "AQ5187_vs_AQ5175    0.000000    0.000000  931.960407  "
      ]
     },
     "execution_count": 11,
     "metadata": {},
     "output_type": "execute_result"
    }
   ],
   "source": [
    "path = './msigact/'\n",
    "\n",
    "folders_dict = {path+folder+'/SBS31/results.count_matrix.tsv.mSigAct.SBS31.tsv':folder for folder in os.listdir(path)if folder.startswith('A')}\n",
    "\n",
    "case1_sample_t2 = '../../wgs_analysis/tumor_vs_blood/signature_analysis/msigact/clonals/output_sbs31/results.clonals.matrix.tsv.mSigAct.SBS31.tsv'\n",
    "\n",
    "folders_dict[case1_sample_t2] = 'AQ5187_vs_AQ5175'\n",
    "\n",
    "SBS31_pvals = {}\n",
    "SBS31_df = pd.DataFrame()\n",
    "for sample in folders_dict.keys():\n",
    "    df = pd.read_csv(sample,sep='\\t')\n",
    "    df = df.T\n",
    "    df.reset_index(inplace=True)\n",
    "    df = df.rename(columns={'index':'sample_id'})\n",
    "    if folders_dict[sample] == 'AQ5187_vs_AQ5175':\n",
    "        df = df.set_index('sample_id',drop=True)\n",
    "        df = df.T\n",
    "        df = df.reset_index()\n",
    "        df = df.rename(columns={'index':'sample_id'})\n",
    "        df = df[df['sample_id']=='AQ5187_vs_AQ5175']\n",
    "    else:\n",
    "        df['sample_id'] = [folders_dict[sample]]\n",
    "    \n",
    "    df['pval'] = df['pval'].round(4)\n",
    "    pvals_dict = dict(zip(df['sample_id'],df['pval']))\n",
    "    SBS31_pvals.update(pvals_dict)\n",
    "    sigs_cols =[col for col in df.columns if col.startswith('SBS')]\n",
    "    df = df[['sample_id']+sigs_cols]\n",
    "    df = df.set_index('sample_id')\n",
    "    SBS31_df = pd.concat([SBS31_df,df])\n",
    "SBS31_df.fillna(0,inplace=True)\n",
    "sigs = ['SBS1','SBS2','SBS5','SBS13','SBS18','SBS40','SBS45','SBS31']\n",
    "SBS31_df = SBS31_df[sigs]\n",
    "samples_selected = ['AQ5187_vs_AQ5175','AU2198','AZ4609','AZ4610','AZ4611','AZ4612','AZ4613','AZ4614','AZ6342','AZ6371']\n",
    "SBS31_df = SBS31_df[SBS31_df.index.isin(samples_selected)]\n",
    "SBS31_df"
   ]
  },
  {
   "cell_type": "code",
   "execution_count": 12,
   "id": "c9041bf5",
   "metadata": {},
   "outputs": [],
   "source": [
    "from tqdm.notebook import tqdm\n",
    "pd.options.mode.chained_assignment = None"
   ]
  },
  {
   "cell_type": "code",
   "execution_count": 14,
   "id": "c0a01d08",
   "metadata": {
    "scrolled": true
   },
   "outputs": [
    {
     "data": {
      "application/vnd.jupyter.widget-view+json": {
       "model_id": "ebf06e47261945f390fcd635dc9cfc61",
       "version_major": 2,
       "version_minor": 0
      },
      "text/plain": [
       "HBox(children=(HTML(value=''), FloatProgress(value=0.0), HTML(value='')))"
      ]
     },
     "metadata": {},
     "output_type": "display_data"
    },
    {
     "name": "stdout",
     "output_type": "stream",
     "text": [
      "\n"
     ]
    },
    {
     "data": {
      "application/vnd.jupyter.widget-view+json": {
       "model_id": "57e51728ee6b469b8322407202417af7",
       "version_major": 2,
       "version_minor": 0
      },
      "text/plain": [
       "HBox(children=(HTML(value=''), FloatProgress(value=0.0), HTML(value='')))"
      ]
     },
     "metadata": {},
     "output_type": "display_data"
    },
    {
     "name": "stdout",
     "output_type": "stream",
     "text": [
      "\n"
     ]
    },
    {
     "data": {
      "application/vnd.jupyter.widget-view+json": {
       "model_id": "c9205ff96574450bb97114236a706f33",
       "version_major": 2,
       "version_minor": 0
      },
      "text/plain": [
       "HBox(children=(HTML(value=''), FloatProgress(value=0.0), HTML(value='')))"
      ]
     },
     "metadata": {},
     "output_type": "display_data"
    },
    {
     "name": "stdout",
     "output_type": "stream",
     "text": [
      "\n"
     ]
    },
    {
     "data": {
      "application/vnd.jupyter.widget-view+json": {
       "model_id": "112d36308369484b9399a3b4cb5e55a5",
       "version_major": 2,
       "version_minor": 0
      },
      "text/plain": [
       "HBox(children=(HTML(value=''), FloatProgress(value=0.0), HTML(value='')))"
      ]
     },
     "metadata": {},
     "output_type": "display_data"
    },
    {
     "name": "stdout",
     "output_type": "stream",
     "text": [
      "\n"
     ]
    },
    {
     "data": {
      "application/vnd.jupyter.widget-view+json": {
       "model_id": "e51ed10d4ec343769c2a488736d7e456",
       "version_major": 2,
       "version_minor": 0
      },
      "text/plain": [
       "HBox(children=(HTML(value=''), FloatProgress(value=0.0), HTML(value='')))"
      ]
     },
     "metadata": {},
     "output_type": "display_data"
    },
    {
     "name": "stdout",
     "output_type": "stream",
     "text": [
      "\n"
     ]
    },
    {
     "data": {
      "application/vnd.jupyter.widget-view+json": {
       "model_id": "32ed1c238da34c99974792fd9ca93b1d",
       "version_major": 2,
       "version_minor": 0
      },
      "text/plain": [
       "HBox(children=(HTML(value=''), FloatProgress(value=0.0), HTML(value='')))"
      ]
     },
     "metadata": {},
     "output_type": "display_data"
    },
    {
     "name": "stdout",
     "output_type": "stream",
     "text": [
      "\n"
     ]
    },
    {
     "data": {
      "application/vnd.jupyter.widget-view+json": {
       "model_id": "ecb801dc79b54ccfad806c0f3c2f4d68",
       "version_major": 2,
       "version_minor": 0
      },
      "text/plain": [
       "HBox(children=(HTML(value=''), FloatProgress(value=0.0), HTML(value='')))"
      ]
     },
     "metadata": {},
     "output_type": "display_data"
    },
    {
     "name": "stdout",
     "output_type": "stream",
     "text": [
      "\n"
     ]
    },
    {
     "data": {
      "application/vnd.jupyter.widget-view+json": {
       "model_id": "45a2791a0d7a4bb8861bf2b106983eb5",
       "version_major": 2,
       "version_minor": 0
      },
      "text/plain": [
       "HBox(children=(HTML(value=''), FloatProgress(value=0.0), HTML(value='')))"
      ]
     },
     "metadata": {},
     "output_type": "display_data"
    },
    {
     "name": "stdout",
     "output_type": "stream",
     "text": [
      "\n"
     ]
    },
    {
     "data": {
      "application/vnd.jupyter.widget-view+json": {
       "model_id": "7b7a3f0048c14a15b661945608d2af33",
       "version_major": 2,
       "version_minor": 0
      },
      "text/plain": [
       "HBox(children=(HTML(value=''), FloatProgress(value=0.0), HTML(value='')))"
      ]
     },
     "metadata": {},
     "output_type": "display_data"
    },
    {
     "name": "stdout",
     "output_type": "stream",
     "text": [
      "\n"
     ]
    },
    {
     "data": {
      "text/plain": [
       "{'AU2198': {'SBS31_0': {'SBS1': 63, 'SBS2': 55, 'SBS45': 330},\n",
       "  'SBS31_5': {'SBS1': 62, 'SBS2': 55, 'SBS45': 327, 'SBS31': 5},\n",
       "  'SBS31_10': {'SBS1': 61, 'SBS2': 54, 'SBS45': 323, 'SBS31': 10},\n",
       "  'SBS31_15': {'SBS1': 60, 'SBS2': 53, 'SBS45': 319, 'SBS31': 15},\n",
       "  'SBS31_20': {'SBS1': 60, 'SBS2': 53, 'SBS45': 316, 'SBS31': 20},\n",
       "  'SBS31_25': {'SBS1': 59, 'SBS2': 52, 'SBS45': 312, 'SBS31': 25},\n",
       "  'SBS31_30': {'SBS1': 58, 'SBS2': 51, 'SBS45': 308, 'SBS31': 30},\n",
       "  'SBS31_35': {'SBS1': 58, 'SBS2': 51, 'SBS45': 304, 'SBS31': 35},\n",
       "  'SBS31_40': {'SBS1': 57, 'SBS2': 50, 'SBS45': 301, 'SBS31': 40},\n",
       "  'SBS31_45': {'SBS1': 56, 'SBS2': 50, 'SBS45': 297, 'SBS31': 45},\n",
       "  'SBS31_50': {'SBS1': 56, 'SBS2': 49, 'SBS45': 293, 'SBS31': 50},\n",
       "  'SBS31_55': {'SBS1': 55, 'SBS2': 48, 'SBS45': 290, 'SBS31': 55},\n",
       "  'SBS31_60': {'SBS1': 54, 'SBS2': 48, 'SBS45': 286, 'SBS31': 60},\n",
       "  'SBS31_65': {'SBS1': 53, 'SBS2': 47, 'SBS45': 282, 'SBS31': 65},\n",
       "  'SBS31_70': {'SBS1': 53, 'SBS2': 47, 'SBS45': 279, 'SBS31': 70},\n",
       "  'SBS31_75': {'SBS1': 52, 'SBS2': 46, 'SBS45': 275, 'SBS31': 75},\n",
       "  'SBS31_80': {'SBS1': 51, 'SBS2': 45, 'SBS45': 271, 'SBS31': 80},\n",
       "  'SBS31_85': {'SBS1': 51, 'SBS2': 45, 'SBS45': 268, 'SBS31': 85},\n",
       "  'SBS31_90': {'SBS1': 50, 'SBS2': 44, 'SBS45': 264, 'SBS31': 90},\n",
       "  'SBS31_95': {'SBS1': 49, 'SBS2': 43, 'SBS45': 260, 'SBS31': 95},\n",
       "  'SBS31_100': {'SBS1': 49, 'SBS2': 43, 'SBS45': 257, 'SBS31': 100},\n",
       "  'SBS31_105': {'SBS1': 48, 'SBS2': 42, 'SBS45': 253, 'SBS31': 105},\n",
       "  'SBS31_110': {'SBS1': 47, 'SBS2': 42, 'SBS45': 249, 'SBS31': 110},\n",
       "  'SBS31_115': {'SBS1': 46, 'SBS2': 41, 'SBS45': 246, 'SBS31': 115},\n",
       "  'SBS31_120': {'SBS1': 46, 'SBS2': 40, 'SBS45': 242, 'SBS31': 120},\n",
       "  'SBS31_125': {'SBS1': 45, 'SBS2': 40, 'SBS45': 238, 'SBS31': 125},\n",
       "  'SBS31_130': {'SBS1': 44, 'SBS2': 39, 'SBS45': 234, 'SBS31': 130},\n",
       "  'SBS31_135': {'SBS1': 44, 'SBS2': 39, 'SBS45': 231, 'SBS31': 135},\n",
       "  'SBS31_140': {'SBS1': 43, 'SBS2': 38, 'SBS45': 227, 'SBS31': 140},\n",
       "  'SBS31_145': {'SBS1': 42, 'SBS2': 37, 'SBS45': 223, 'SBS31': 145},\n",
       "  'SBS31_150': {'SBS1': 42, 'SBS2': 37, 'SBS45': 220, 'SBS31': 150},\n",
       "  'SBS31_155': {'SBS1': 41, 'SBS2': 36, 'SBS45': 216, 'SBS31': 155},\n",
       "  'SBS31_160': {'SBS1': 40, 'SBS2': 35, 'SBS45': 212, 'SBS31': 160},\n",
       "  'SBS31_165': {'SBS1': 40, 'SBS2': 35, 'SBS45': 209, 'SBS31': 165},\n",
       "  'SBS31_170': {'SBS1': 39, 'SBS2': 34, 'SBS45': 205, 'SBS31': 170},\n",
       "  'SBS31_175': {'SBS1': 38, 'SBS2': 34, 'SBS45': 201, 'SBS31': 175},\n",
       "  'SBS31_180': {'SBS1': 37, 'SBS2': 33, 'SBS45': 198, 'SBS31': 180},\n",
       "  'SBS31_185': {'SBS1': 37, 'SBS2': 32, 'SBS45': 194, 'SBS31': 185},\n",
       "  'SBS31_190': {'SBS1': 36, 'SBS2': 32, 'SBS45': 190, 'SBS31': 190},\n",
       "  'SBS31_195': {'SBS1': 35, 'SBS2': 31, 'SBS45': 187, 'SBS31': 195},\n",
       "  'SBS31_200': {'SBS1': 35, 'SBS2': 31, 'SBS45': 183, 'SBS31': 200},\n",
       "  'SBS31_205': {'SBS1': 34, 'SBS2': 30, 'SBS45': 179, 'SBS31': 205},\n",
       "  'SBS31_210': {'SBS1': 33, 'SBS2': 29, 'SBS45': 175, 'SBS31': 210},\n",
       "  'SBS31_215': {'SBS1': 33, 'SBS2': 29, 'SBS45': 172, 'SBS31': 215},\n",
       "  'SBS31_220': {'SBS1': 32, 'SBS2': 28, 'SBS45': 168, 'SBS31': 220},\n",
       "  'SBS31_225': {'SBS1': 31, 'SBS2': 27, 'SBS45': 164, 'SBS31': 225},\n",
       "  'SBS31_230': {'SBS1': 30, 'SBS2': 27, 'SBS45': 161, 'SBS31': 230},\n",
       "  'SBS31_235': {'SBS1': 30, 'SBS2': 26, 'SBS45': 157, 'SBS31': 235},\n",
       "  'SBS31_240': {'SBS1': 29, 'SBS2': 26, 'SBS45': 153, 'SBS31': 240},\n",
       "  'SBS31_245': {'SBS1': 28, 'SBS2': 25, 'SBS45': 150, 'SBS31': 245},\n",
       "  'SBS31_250': {'SBS1': 28, 'SBS2': 24, 'SBS45': 146, 'SBS31': 250},\n",
       "  'SBS31_255': {'SBS1': 27, 'SBS2': 24, 'SBS45': 142, 'SBS31': 255},\n",
       "  'SBS31_260': {'SBS1': 26, 'SBS2': 23, 'SBS45': 139, 'SBS31': 260},\n",
       "  'SBS31_265': {'SBS1': 26, 'SBS2': 23, 'SBS45': 135, 'SBS31': 265},\n",
       "  'SBS31_270': {'SBS1': 25, 'SBS2': 22, 'SBS45': 131, 'SBS31': 270},\n",
       "  'SBS31_275': {'SBS1': 24, 'SBS2': 21, 'SBS45': 128, 'SBS31': 275},\n",
       "  'SBS31_280': {'SBS1': 23, 'SBS2': 21, 'SBS45': 124, 'SBS31': 280},\n",
       "  'SBS31_285': {'SBS1': 23, 'SBS2': 20, 'SBS45': 120, 'SBS31': 285},\n",
       "  'SBS31_290': {'SBS1': 22, 'SBS2': 19, 'SBS45': 116, 'SBS31': 290},\n",
       "  'SBS31_295': {'SBS1': 21, 'SBS2': 19, 'SBS45': 113, 'SBS31': 295},\n",
       "  'SBS31_300': {'SBS1': 21, 'SBS2': 18, 'SBS45': 109, 'SBS31': 300},\n",
       "  'SBS31_305': {'SBS1': 20, 'SBS2': 18, 'SBS45': 105, 'SBS31': 305},\n",
       "  'SBS31_310': {'SBS1': 19, 'SBS2': 17, 'SBS45': 102, 'SBS31': 310},\n",
       "  'SBS31_315': {'SBS1': 19, 'SBS2': 16, 'SBS45': 98, 'SBS31': 315},\n",
       "  'SBS31_320': {'SBS1': 18, 'SBS2': 16, 'SBS45': 94, 'SBS31': 320},\n",
       "  'SBS31_325': {'SBS1': 17, 'SBS2': 15, 'SBS45': 91, 'SBS31': 325},\n",
       "  'SBS31_330': {'SBS1': 16, 'SBS2': 15, 'SBS45': 87, 'SBS31': 330},\n",
       "  'SBS31_335': {'SBS1': 16, 'SBS2': 14, 'SBS45': 83, 'SBS31': 335},\n",
       "  'SBS31_340': {'SBS1': 15, 'SBS2': 13, 'SBS45': 80, 'SBS31': 340},\n",
       "  'SBS31_345': {'SBS1': 14, 'SBS2': 13, 'SBS45': 76, 'SBS31': 345},\n",
       "  'SBS31_350': {'SBS1': 14, 'SBS2': 12, 'SBS45': 72, 'SBS31': 350},\n",
       "  'SBS31_355': {'SBS1': 13, 'SBS2': 11, 'SBS45': 69, 'SBS31': 355},\n",
       "  'SBS31_360': {'SBS1': 12, 'SBS2': 11, 'SBS45': 65, 'SBS31': 360},\n",
       "  'SBS31_365': {'SBS1': 12, 'SBS2': 10, 'SBS45': 61, 'SBS31': 365},\n",
       "  'SBS31_370': {'SBS1': 11, 'SBS2': 10, 'SBS45': 58, 'SBS31': 370},\n",
       "  'SBS31_375': {'SBS1': 10, 'SBS2': 9, 'SBS45': 54, 'SBS31': 375},\n",
       "  'SBS31_380': {'SBS1': 9, 'SBS2': 8, 'SBS45': 50, 'SBS31': 380},\n",
       "  'SBS31_385': {'SBS1': 9, 'SBS2': 8, 'SBS45': 46, 'SBS31': 385},\n",
       "  'SBS31_390': {'SBS1': 8, 'SBS2': 7, 'SBS45': 43, 'SBS31': 390},\n",
       "  'SBS31_395': {'SBS1': 7, 'SBS2': 7, 'SBS45': 39, 'SBS31': 395},\n",
       "  'SBS31_400': {'SBS1': 7, 'SBS2': 6, 'SBS45': 35, 'SBS31': 400},\n",
       "  'SBS31_405': {'SBS1': 6, 'SBS2': 5, 'SBS45': 32, 'SBS31': 405},\n",
       "  'SBS31_410': {'SBS1': 5, 'SBS2': 5, 'SBS45': 28, 'SBS31': 410},\n",
       "  'SBS31_415': {'SBS1': 5, 'SBS2': 4, 'SBS45': 24, 'SBS31': 415},\n",
       "  'SBS31_420': {'SBS1': 4, 'SBS2': 3, 'SBS45': 21, 'SBS31': 420},\n",
       "  'SBS31_425': {'SBS1': 3, 'SBS2': 3, 'SBS45': 17, 'SBS31': 425},\n",
       "  'SBS31_430': {'SBS1': 3, 'SBS2': 2, 'SBS45': 13, 'SBS31': 430},\n",
       "  'SBS31_435': {'SBS1': 2, 'SBS2': 2, 'SBS45': 10, 'SBS31': 435},\n",
       "  'SBS31_440': {'SBS1': 1, 'SBS2': 1, 'SBS45': 6, 'SBS31': 440},\n",
       "  'SBS31_445': {'SBS45': 2, 'SBS31': 445}},\n",
       " 'AZ4609': {'SBS31_0': {'SBS5': 316, 'SBS18': 283, 'SBS40': 507},\n",
       "  'SBS31_5': {'SBS5': 315, 'SBS18': 282, 'SBS40': 505, 'SBS31': 5},\n",
       "  'SBS31_10': {'SBS5': 313, 'SBS18': 280, 'SBS40': 502, 'SBS31': 10},\n",
       "  'SBS31_15': {'SBS5': 312, 'SBS18': 279, 'SBS40': 500, 'SBS31': 15},\n",
       "  'SBS31_20': {'SBS5': 310, 'SBS18': 278, 'SBS40': 498, 'SBS31': 20},\n",
       "  'SBS31_25': {'SBS5': 309, 'SBS18': 276, 'SBS40': 495, 'SBS31': 25},\n",
       "  'SBS31_30': {'SBS5': 308, 'SBS18': 275, 'SBS40': 493, 'SBS31': 30},\n",
       "  'SBS31_35': {'SBS5': 306, 'SBS18': 274, 'SBS40': 491, 'SBS31': 35},\n",
       "  'SBS31_40': {'SBS5': 305, 'SBS18': 273, 'SBS40': 489, 'SBS31': 40},\n",
       "  'SBS31_45': {'SBS5': 303, 'SBS18': 271, 'SBS40': 486, 'SBS31': 45},\n",
       "  'SBS31_50': {'SBS5': 302, 'SBS18': 270, 'SBS40': 484, 'SBS31': 50},\n",
       "  'SBS31_55': {'SBS5': 300, 'SBS18': 269, 'SBS40': 482, 'SBS31': 55},\n",
       "  'SBS31_60': {'SBS5': 299, 'SBS18': 268, 'SBS40': 479, 'SBS31': 60},\n",
       "  'SBS31_65': {'SBS5': 298, 'SBS18': 266, 'SBS40': 477, 'SBS31': 65},\n",
       "  'SBS31_70': {'SBS5': 296, 'SBS18': 265, 'SBS40': 475, 'SBS31': 70},\n",
       "  'SBS31_75': {'SBS5': 295, 'SBS18': 264, 'SBS40': 473, 'SBS31': 75},\n",
       "  'SBS31_80': {'SBS5': 293, 'SBS18': 262, 'SBS40': 470, 'SBS31': 80},\n",
       "  'SBS31_85': {'SBS5': 292, 'SBS18': 261, 'SBS40': 468, 'SBS31': 85},\n",
       "  'SBS31_90': {'SBS5': 290, 'SBS18': 260, 'SBS40': 466, 'SBS31': 90},\n",
       "  'SBS31_95': {'SBS5': 289, 'SBS18': 259, 'SBS40': 463, 'SBS31': 95},\n",
       "  'SBS31_100': {'SBS5': 288, 'SBS18': 257, 'SBS40': 461, 'SBS31': 100},\n",
       "  'SBS31_105': {'SBS5': 286, 'SBS18': 256, 'SBS40': 459, 'SBS31': 105},\n",
       "  'SBS31_110': {'SBS5': 285, 'SBS18': 255, 'SBS40': 456, 'SBS31': 110},\n",
       "  'SBS31_115': {'SBS5': 283, 'SBS18': 253, 'SBS40': 454, 'SBS31': 115},\n",
       "  'SBS31_120': {'SBS5': 282, 'SBS18': 252, 'SBS40': 452, 'SBS31': 120},\n",
       "  'SBS31_125': {'SBS5': 280, 'SBS18': 251, 'SBS40': 450, 'SBS31': 125},\n",
       "  'SBS31_130': {'SBS5': 279, 'SBS18': 250, 'SBS40': 447, 'SBS31': 130},\n",
       "  'SBS31_135': {'SBS5': 278, 'SBS18': 248, 'SBS40': 445, 'SBS31': 135},\n",
       "  'SBS31_140': {'SBS5': 276, 'SBS18': 247, 'SBS40': 443, 'SBS31': 140},\n",
       "  'SBS31_145': {'SBS5': 275, 'SBS18': 246, 'SBS40': 440, 'SBS31': 145},\n",
       "  'SBS31_150': {'SBS5': 273, 'SBS18': 245, 'SBS40': 438, 'SBS31': 150},\n",
       "  'SBS31_155': {'SBS5': 272, 'SBS18': 243, 'SBS40': 436, 'SBS31': 155},\n",
       "  'SBS31_160': {'SBS5': 270, 'SBS18': 242, 'SBS40': 434, 'SBS31': 160},\n",
       "  'SBS31_165': {'SBS5': 269, 'SBS18': 241, 'SBS40': 431, 'SBS31': 165},\n",
       "  'SBS31_170': {'SBS5': 268, 'SBS18': 239, 'SBS40': 429, 'SBS31': 170},\n",
       "  'SBS31_175': {'SBS5': 266, 'SBS18': 238, 'SBS40': 427, 'SBS31': 175},\n",
       "  'SBS31_180': {'SBS5': 265, 'SBS18': 237, 'SBS40': 424, 'SBS31': 180},\n",
       "  'SBS31_185': {'SBS5': 263, 'SBS18': 236, 'SBS40': 422, 'SBS31': 185},\n",
       "  'SBS31_190': {'SBS5': 262, 'SBS18': 234, 'SBS40': 420, 'SBS31': 190},\n",
       "  'SBS31_195': {'SBS5': 260, 'SBS18': 233, 'SBS40': 418, 'SBS31': 195},\n",
       "  'SBS31_200': {'SBS5': 259, 'SBS18': 232, 'SBS40': 415, 'SBS31': 200},\n",
       "  'SBS31_205': {'SBS5': 258, 'SBS18': 230, 'SBS40': 413, 'SBS31': 205},\n",
       "  'SBS31_210': {'SBS5': 256, 'SBS18': 229, 'SBS40': 411, 'SBS31': 210},\n",
       "  'SBS31_215': {'SBS5': 255, 'SBS18': 228, 'SBS40': 408, 'SBS31': 215},\n",
       "  'SBS31_220': {'SBS5': 253, 'SBS18': 227, 'SBS40': 406, 'SBS31': 220},\n",
       "  'SBS31_225': {'SBS5': 252, 'SBS18': 225, 'SBS40': 404, 'SBS31': 225},\n",
       "  'SBS31_230': {'SBS5': 250, 'SBS18': 224, 'SBS40': 401, 'SBS31': 230},\n",
       "  'SBS31_235': {'SBS5': 249, 'SBS18': 223, 'SBS40': 399, 'SBS31': 235},\n",
       "  'SBS31_240': {'SBS5': 248, 'SBS18': 222, 'SBS40': 397, 'SBS31': 240},\n",
       "  'SBS31_245': {'SBS5': 246, 'SBS18': 220, 'SBS40': 395, 'SBS31': 245},\n",
       "  'SBS31_250': {'SBS5': 245, 'SBS18': 219, 'SBS40': 392, 'SBS31': 250},\n",
       "  'SBS31_255': {'SBS5': 243, 'SBS18': 218, 'SBS40': 390, 'SBS31': 255},\n",
       "  'SBS31_260': {'SBS5': 242, 'SBS18': 216, 'SBS40': 388, 'SBS31': 260},\n",
       "  'SBS31_265': {'SBS5': 240, 'SBS18': 215, 'SBS40': 385, 'SBS31': 265},\n",
       "  'SBS31_270': {'SBS5': 239, 'SBS18': 214, 'SBS40': 383, 'SBS31': 270},\n",
       "  'SBS31_275': {'SBS5': 238, 'SBS18': 213, 'SBS40': 381, 'SBS31': 275},\n",
       "  'SBS31_280': {'SBS5': 236, 'SBS18': 211, 'SBS40': 379, 'SBS31': 280},\n",
       "  'SBS31_285': {'SBS5': 235, 'SBS18': 210, 'SBS40': 376, 'SBS31': 285},\n",
       "  'SBS31_290': {'SBS5': 233, 'SBS18': 209, 'SBS40': 374, 'SBS31': 290},\n",
       "  'SBS31_295': {'SBS5': 232, 'SBS18': 207, 'SBS40': 372, 'SBS31': 295},\n",
       "  'SBS31_300': {'SBS5': 230, 'SBS18': 206, 'SBS40': 369, 'SBS31': 300},\n",
       "  'SBS31_305': {'SBS5': 229, 'SBS18': 205, 'SBS40': 367, 'SBS31': 305},\n",
       "  'SBS31_310': {'SBS5': 228, 'SBS18': 204, 'SBS40': 365, 'SBS31': 310},\n",
       "  'SBS31_315': {'SBS5': 226, 'SBS18': 202, 'SBS40': 363, 'SBS31': 315},\n",
       "  'SBS31_320': {'SBS5': 225, 'SBS18': 201, 'SBS40': 360, 'SBS31': 320},\n",
       "  'SBS31_325': {'SBS5': 223, 'SBS18': 200, 'SBS40': 358, 'SBS31': 325},\n",
       "  'SBS31_330': {'SBS5': 222, 'SBS18': 198, 'SBS40': 356, 'SBS31': 330},\n",
       "  'SBS31_335': {'SBS5': 220, 'SBS18': 197, 'SBS40': 353, 'SBS31': 335},\n",
       "  'SBS31_340': {'SBS5': 219, 'SBS18': 196, 'SBS40': 351, 'SBS31': 340},\n",
       "  'SBS31_345': {'SBS5': 218, 'SBS18': 195, 'SBS40': 349, 'SBS31': 345},\n",
       "  'SBS31_350': {'SBS5': 216, 'SBS18': 193, 'SBS40': 346, 'SBS31': 350},\n",
       "  'SBS31_355': {'SBS5': 215, 'SBS18': 192, 'SBS40': 344, 'SBS31': 355},\n",
       "  'SBS31_360': {'SBS5': 213, 'SBS18': 191, 'SBS40': 342, 'SBS31': 360},\n",
       "  'SBS31_365': {'SBS5': 212, 'SBS18': 190, 'SBS40': 340, 'SBS31': 365},\n",
       "  'SBS31_370': {'SBS5': 210, 'SBS18': 188, 'SBS40': 337, 'SBS31': 370},\n",
       "  'SBS31_375': {'SBS5': 209, 'SBS18': 187, 'SBS40': 335, 'SBS31': 375},\n",
       "  'SBS31_380': {'SBS5': 208, 'SBS18': 186, 'SBS40': 333, 'SBS31': 380},\n",
       "  'SBS31_385': {'SBS5': 206, 'SBS18': 184, 'SBS40': 330, 'SBS31': 385},\n",
       "  'SBS31_390': {'SBS5': 205, 'SBS18': 183, 'SBS40': 328, 'SBS31': 390},\n",
       "  'SBS31_395': {'SBS5': 203, 'SBS18': 182, 'SBS40': 326, 'SBS31': 395},\n",
       "  'SBS31_400': {'SBS5': 202, 'SBS18': 181, 'SBS40': 324, 'SBS31': 400},\n",
       "  'SBS31_405': {'SBS5': 200, 'SBS18': 179, 'SBS40': 321, 'SBS31': 405},\n",
       "  'SBS31_410': {'SBS5': 199, 'SBS18': 178, 'SBS40': 319, 'SBS31': 410},\n",
       "  'SBS31_415': {'SBS5': 198, 'SBS18': 177, 'SBS40': 317, 'SBS31': 415},\n",
       "  'SBS31_420': {'SBS5': 196, 'SBS18': 175, 'SBS40': 314, 'SBS31': 420},\n",
       "  'SBS31_425': {'SBS5': 195, 'SBS18': 174, 'SBS40': 312, 'SBS31': 425},\n",
       "  'SBS31_430': {'SBS5': 193, 'SBS18': 173, 'SBS40': 310, 'SBS31': 430},\n",
       "  'SBS31_435': {'SBS5': 192, 'SBS18': 172, 'SBS40': 308, 'SBS31': 435},\n",
       "  'SBS31_440': {'SBS5': 190, 'SBS18': 170, 'SBS40': 305, 'SBS31': 440},\n",
       "  'SBS31_445': {'SBS5': 189, 'SBS18': 169, 'SBS40': 303, 'SBS31': 445},\n",
       "  'SBS31_450': {'SBS5': 188, 'SBS18': 168, 'SBS40': 301, 'SBS31': 450},\n",
       "  'SBS31_455': {'SBS5': 186, 'SBS18': 167, 'SBS40': 298, 'SBS31': 455},\n",
       "  'SBS31_460': {'SBS5': 185, 'SBS18': 165, 'SBS40': 296, 'SBS31': 460},\n",
       "  'SBS31_465': {'SBS5': 183, 'SBS18': 164, 'SBS40': 294, 'SBS31': 465},\n",
       "  'SBS31_470': {'SBS5': 182, 'SBS18': 163, 'SBS40': 291, 'SBS31': 470},\n",
       "  'SBS31_475': {'SBS5': 180, 'SBS18': 161, 'SBS40': 289, 'SBS31': 475},\n",
       "  'SBS31_480': {'SBS5': 179, 'SBS18': 160, 'SBS40': 287, 'SBS31': 480},\n",
       "  'SBS31_485': {'SBS5': 178, 'SBS18': 159, 'SBS40': 285, 'SBS31': 485},\n",
       "  'SBS31_490': {'SBS5': 176, 'SBS18': 158, 'SBS40': 282, 'SBS31': 490},\n",
       "  'SBS31_495': {'SBS5': 175, 'SBS18': 156, 'SBS40': 280, 'SBS31': 495}},\n",
       " 'AZ4610': {'SBS31_0': {'SBS5': 319, 'SBS40': 464, 'SBS45': 159},\n",
       "  'SBS31_5': {'SBS5': 317, 'SBS40': 461, 'SBS45': 159, 'SBS31': 5},\n",
       "  'SBS31_10': {'SBS5': 316, 'SBS40': 459, 'SBS45': 158, 'SBS31': 10},\n",
       "  'SBS31_15': {'SBS5': 314, 'SBS40': 456, 'SBS45': 157, 'SBS31': 15},\n",
       "  'SBS31_20': {'SBS5': 312, 'SBS40': 454, 'SBS45': 156, 'SBS31': 20},\n",
       "  'SBS31_25': {'SBS5': 310, 'SBS40': 451, 'SBS45': 155, 'SBS31': 25},\n",
       "  'SBS31_30': {'SBS5': 309, 'SBS40': 449, 'SBS45': 154, 'SBS31': 30},\n",
       "  'SBS31_35': {'SBS5': 307, 'SBS40': 446, 'SBS45': 154, 'SBS31': 35},\n",
       "  'SBS31_40': {'SBS5': 305, 'SBS40': 444, 'SBS45': 153, 'SBS31': 40},\n",
       "  'SBS31_45': {'SBS5': 304, 'SBS40': 442, 'SBS45': 152, 'SBS31': 45},\n",
       "  'SBS31_50': {'SBS5': 302, 'SBS40': 439, 'SBS45': 151, 'SBS31': 50},\n",
       "  'SBS31_55': {'SBS5': 300, 'SBS40': 437, 'SBS45': 150, 'SBS31': 55},\n",
       "  'SBS31_60': {'SBS5': 299, 'SBS40': 434, 'SBS45': 149, 'SBS31': 60},\n",
       "  'SBS31_65': {'SBS5': 297, 'SBS40': 432, 'SBS45': 148, 'SBS31': 65},\n",
       "  'SBS31_70': {'SBS5': 295, 'SBS40': 429, 'SBS45': 148, 'SBS31': 70},\n",
       "  'SBS31_75': {'SBS5': 293, 'SBS40': 427, 'SBS45': 147, 'SBS31': 75},\n",
       "  'SBS31_80': {'SBS5': 292, 'SBS40': 424, 'SBS45': 146, 'SBS31': 80},\n",
       "  'SBS31_85': {'SBS5': 290, 'SBS40': 422, 'SBS45': 145, 'SBS31': 85},\n",
       "  'SBS31_90': {'SBS5': 288, 'SBS40': 419, 'SBS45': 144, 'SBS31': 90},\n",
       "  'SBS31_95': {'SBS5': 287, 'SBS40': 417, 'SBS45': 143, 'SBS31': 95},\n",
       "  'SBS31_100': {'SBS5': 285, 'SBS40': 414, 'SBS45': 143, 'SBS31': 100},\n",
       "  'SBS31_105': {'SBS5': 283, 'SBS40': 412, 'SBS45': 142, 'SBS31': 105},\n",
       "  'SBS31_110': {'SBS5': 282, 'SBS40': 410, 'SBS45': 141, 'SBS31': 110},\n",
       "  'SBS31_115': {'SBS5': 280, 'SBS40': 407, 'SBS45': 140, 'SBS31': 115},\n",
       "  'SBS31_120': {'SBS5': 278, 'SBS40': 405, 'SBS45': 139, 'SBS31': 120},\n",
       "  'SBS31_125': {'SBS5': 277, 'SBS40': 402, 'SBS45': 138, 'SBS31': 125},\n",
       "  'SBS31_130': {'SBS5': 275, 'SBS40': 400, 'SBS45': 137, 'SBS31': 130},\n",
       "  'SBS31_135': {'SBS5': 273, 'SBS40': 397, 'SBS45': 137, 'SBS31': 135},\n",
       "  'SBS31_140': {'SBS5': 271, 'SBS40': 395, 'SBS45': 136, 'SBS31': 140},\n",
       "  'SBS31_145': {'SBS5': 270, 'SBS40': 392, 'SBS45': 135, 'SBS31': 145},\n",
       "  'SBS31_150': {'SBS5': 268, 'SBS40': 390, 'SBS45': 134, 'SBS31': 150},\n",
       "  'SBS31_155': {'SBS5': 266, 'SBS40': 387, 'SBS45': 133, 'SBS31': 155},\n",
       "  'SBS31_160': {'SBS5': 265, 'SBS40': 385, 'SBS45': 132, 'SBS31': 160},\n",
       "  'SBS31_165': {'SBS5': 263, 'SBS40': 382, 'SBS45': 132, 'SBS31': 165},\n",
       "  'SBS31_170': {'SBS5': 261, 'SBS40': 380, 'SBS45': 131, 'SBS31': 170},\n",
       "  'SBS31_175': {'SBS5': 260, 'SBS40': 378, 'SBS45': 130, 'SBS31': 175},\n",
       "  'SBS31_180': {'SBS5': 258, 'SBS40': 375, 'SBS45': 129, 'SBS31': 180},\n",
       "  'SBS31_185': {'SBS5': 256, 'SBS40': 373, 'SBS45': 128, 'SBS31': 185},\n",
       "  'SBS31_190': {'SBS5': 255, 'SBS40': 370, 'SBS45': 127, 'SBS31': 190},\n",
       "  'SBS31_195': {'SBS5': 253, 'SBS40': 368, 'SBS45': 126, 'SBS31': 195},\n",
       "  'SBS31_200': {'SBS5': 251, 'SBS40': 365, 'SBS45': 126, 'SBS31': 200},\n",
       "  'SBS31_205': {'SBS5': 249, 'SBS40': 363, 'SBS45': 125, 'SBS31': 205},\n",
       "  'SBS31_210': {'SBS5': 248, 'SBS40': 360, 'SBS45': 124, 'SBS31': 210},\n",
       "  'SBS31_215': {'SBS5': 246, 'SBS40': 358, 'SBS45': 123, 'SBS31': 215},\n",
       "  'SBS31_220': {'SBS5': 244, 'SBS40': 355, 'SBS45': 122, 'SBS31': 220},\n",
       "  'SBS31_225': {'SBS5': 243, 'SBS40': 353, 'SBS45': 121, 'SBS31': 225},\n",
       "  'SBS31_230': {'SBS5': 241, 'SBS40': 350, 'SBS45': 121, 'SBS31': 230},\n",
       "  'SBS31_235': {'SBS5': 239, 'SBS40': 348, 'SBS45': 120, 'SBS31': 235},\n",
       "  'SBS31_240': {'SBS5': 238, 'SBS40': 346, 'SBS45': 119, 'SBS31': 240},\n",
       "  'SBS31_245': {'SBS5': 236, 'SBS40': 343, 'SBS45': 118, 'SBS31': 245},\n",
       "  'SBS31_250': {'SBS5': 234, 'SBS40': 341, 'SBS45': 117, 'SBS31': 250},\n",
       "  'SBS31_255': {'SBS5': 233, 'SBS40': 338, 'SBS45': 116, 'SBS31': 255},\n",
       "  'SBS31_260': {'SBS5': 231, 'SBS40': 336, 'SBS45': 115, 'SBS31': 260},\n",
       "  'SBS31_265': {'SBS5': 229, 'SBS40': 333, 'SBS45': 115, 'SBS31': 265},\n",
       "  'SBS31_270': {'SBS5': 227, 'SBS40': 331, 'SBS45': 114, 'SBS31': 270},\n",
       "  'SBS31_275': {'SBS5': 226, 'SBS40': 328, 'SBS45': 113, 'SBS31': 275},\n",
       "  'SBS31_280': {'SBS5': 224, 'SBS40': 326, 'SBS45': 112, 'SBS31': 280},\n",
       "  'SBS31_285': {'SBS5': 222, 'SBS40': 323, 'SBS45': 111, 'SBS31': 285},\n",
       "  'SBS31_290': {'SBS5': 221, 'SBS40': 321, 'SBS45': 110, 'SBS31': 290},\n",
       "  'SBS31_295': {'SBS5': 219, 'SBS40': 318, 'SBS45': 110, 'SBS31': 295},\n",
       "  'SBS31_300': {'SBS5': 217, 'SBS40': 316, 'SBS45': 109, 'SBS31': 300},\n",
       "  'SBS31_305': {'SBS5': 216, 'SBS40': 314, 'SBS45': 108, 'SBS31': 305},\n",
       "  'SBS31_310': {'SBS5': 214, 'SBS40': 311, 'SBS45': 107, 'SBS31': 310},\n",
       "  'SBS31_315': {'SBS5': 212, 'SBS40': 309, 'SBS45': 106, 'SBS31': 315},\n",
       "  'SBS31_320': {'SBS5': 211, 'SBS40': 306, 'SBS45': 105, 'SBS31': 320},\n",
       "  'SBS31_325': {'SBS5': 209, 'SBS40': 304, 'SBS45': 104, 'SBS31': 325},\n",
       "  'SBS31_330': {'SBS5': 207, 'SBS40': 301, 'SBS45': 104, 'SBS31': 330},\n",
       "  'SBS31_335': {'SBS5': 205, 'SBS40': 299, 'SBS45': 103, 'SBS31': 335},\n",
       "  'SBS31_340': {'SBS5': 204, 'SBS40': 296, 'SBS45': 102, 'SBS31': 340},\n",
       "  'SBS31_345': {'SBS5': 202, 'SBS40': 294, 'SBS45': 101, 'SBS31': 345},\n",
       "  'SBS31_350': {'SBS5': 200, 'SBS40': 291, 'SBS45': 100, 'SBS31': 350},\n",
       "  'SBS31_355': {'SBS5': 199, 'SBS40': 289, 'SBS45': 99, 'SBS31': 355},\n",
       "  'SBS31_360': {'SBS5': 197, 'SBS40': 286, 'SBS45': 99, 'SBS31': 360},\n",
       "  'SBS31_365': {'SBS5': 195, 'SBS40': 284, 'SBS45': 98, 'SBS31': 365},\n",
       "  'SBS31_370': {'SBS5': 194, 'SBS40': 282, 'SBS45': 97, 'SBS31': 370},\n",
       "  'SBS31_375': {'SBS5': 192, 'SBS40': 279, 'SBS45': 96, 'SBS31': 375},\n",
       "  'SBS31_380': {'SBS5': 190, 'SBS40': 277, 'SBS45': 95, 'SBS31': 380},\n",
       "  'SBS31_385': {'SBS5': 189, 'SBS40': 274, 'SBS45': 94, 'SBS31': 385},\n",
       "  'SBS31_390': {'SBS5': 187, 'SBS40': 272, 'SBS45': 93, 'SBS31': 390},\n",
       "  'SBS31_395': {'SBS5': 185, 'SBS40': 269, 'SBS45': 93, 'SBS31': 395},\n",
       "  'SBS31_400': {'SBS5': 183, 'SBS40': 267, 'SBS45': 92, 'SBS31': 400},\n",
       "  'SBS31_405': {'SBS5': 182, 'SBS40': 264, 'SBS45': 91, 'SBS31': 405},\n",
       "  'SBS31_410': {'SBS5': 180, 'SBS40': 262, 'SBS45': 90, 'SBS31': 410},\n",
       "  'SBS31_415': {'SBS5': 178, 'SBS40': 259, 'SBS45': 89, 'SBS31': 415},\n",
       "  'SBS31_420': {'SBS5': 177, 'SBS40': 257, 'SBS45': 88, 'SBS31': 420},\n",
       "  'SBS31_425': {'SBS5': 175, 'SBS40': 254, 'SBS45': 88, 'SBS31': 425},\n",
       "  'SBS31_430': {'SBS5': 173, 'SBS40': 252, 'SBS45': 87, 'SBS31': 430},\n",
       "  'SBS31_435': {'SBS5': 172, 'SBS40': 250, 'SBS45': 86, 'SBS31': 435},\n",
       "  'SBS31_440': {'SBS5': 170, 'SBS40': 247, 'SBS45': 85, 'SBS31': 440},\n",
       "  'SBS31_445': {'SBS5': 168, 'SBS40': 245, 'SBS45': 84, 'SBS31': 445},\n",
       "  'SBS31_450': {'SBS5': 167, 'SBS40': 242, 'SBS45': 83, 'SBS31': 450},\n",
       "  'SBS31_455': {'SBS5': 165, 'SBS40': 240, 'SBS45': 82, 'SBS31': 455},\n",
       "  'SBS31_460': {'SBS5': 163, 'SBS40': 237, 'SBS45': 82, 'SBS31': 460},\n",
       "  'SBS31_465': {'SBS5': 161, 'SBS40': 235, 'SBS45': 81, 'SBS31': 465},\n",
       "  'SBS31_470': {'SBS5': 160, 'SBS40': 232, 'SBS45': 80, 'SBS31': 470},\n",
       "  'SBS31_475': {'SBS5': 158, 'SBS40': 230, 'SBS45': 79, 'SBS31': 475},\n",
       "  'SBS31_480': {'SBS5': 156, 'SBS40': 227, 'SBS45': 78, 'SBS31': 480},\n",
       "  'SBS31_485': {'SBS5': 155, 'SBS40': 225, 'SBS45': 77, 'SBS31': 485},\n",
       "  'SBS31_490': {'SBS5': 153, 'SBS40': 222, 'SBS45': 76, 'SBS31': 490},\n",
       "  'SBS31_495': {'SBS5': 151, 'SBS40': 220, 'SBS45': 76, 'SBS31': 495}},\n",
       " 'AZ4611': {'SBS31_0': {'SBS5': 246, 'SBS40': 179, 'SBS45': 87},\n",
       "  'SBS31_5': {'SBS5': 244, 'SBS40': 178, 'SBS45': 86, 'SBS31': 5},\n",
       "  'SBS31_10': {'SBS5': 242, 'SBS40': 176, 'SBS45': 85, 'SBS31': 10},\n",
       "  'SBS31_15': {'SBS5': 239, 'SBS40': 174, 'SBS45': 85, 'SBS31': 15},\n",
       "  'SBS31_20': {'SBS5': 237, 'SBS40': 172, 'SBS45': 84, 'SBS31': 20},\n",
       "  'SBS31_25': {'SBS5': 234, 'SBS40': 171, 'SBS45': 83, 'SBS31': 25},\n",
       "  'SBS31_30': {'SBS5': 232, 'SBS40': 169, 'SBS45': 82, 'SBS31': 30},\n",
       "  'SBS31_35': {'SBS5': 230, 'SBS40': 167, 'SBS45': 81, 'SBS31': 35},\n",
       "  'SBS31_40': {'SBS5': 227, 'SBS40': 165, 'SBS45': 80, 'SBS31': 40},\n",
       "  'SBS31_45': {'SBS5': 225, 'SBS40': 164, 'SBS45': 80, 'SBS31': 45},\n",
       "  'SBS31_50': {'SBS5': 222, 'SBS40': 162, 'SBS45': 79, 'SBS31': 50},\n",
       "  'SBS31_55': {'SBS5': 220, 'SBS40': 160, 'SBS45': 78, 'SBS31': 55},\n",
       "  'SBS31_60': {'SBS5': 218, 'SBS40': 158, 'SBS45': 77, 'SBS31': 60},\n",
       "  'SBS31_65': {'SBS5': 215, 'SBS40': 157, 'SBS45': 76, 'SBS31': 65},\n",
       "  'SBS31_70': {'SBS5': 213, 'SBS40': 155, 'SBS45': 75, 'SBS31': 70},\n",
       "  'SBS31_75': {'SBS5': 210, 'SBS40': 153, 'SBS45': 74, 'SBS31': 75},\n",
       "  'SBS31_80': {'SBS5': 208, 'SBS40': 151, 'SBS45': 74, 'SBS31': 80},\n",
       "  'SBS31_85': {'SBS5': 206, 'SBS40': 150, 'SBS45': 73, 'SBS31': 85},\n",
       "  'SBS31_90': {'SBS5': 203, 'SBS40': 148, 'SBS45': 72, 'SBS31': 90},\n",
       "  'SBS31_95': {'SBS5': 201, 'SBS40': 146, 'SBS45': 71, 'SBS31': 95},\n",
       "  'SBS31_100': {'SBS5': 198, 'SBS40': 144, 'SBS45': 70, 'SBS31': 100},\n",
       "  'SBS31_105': {'SBS5': 196, 'SBS40': 143, 'SBS45': 69, 'SBS31': 105},\n",
       "  'SBS31_110': {'SBS5': 194, 'SBS40': 141, 'SBS45': 68, 'SBS31': 110},\n",
       "  'SBS31_115': {'SBS5': 191, 'SBS40': 139, 'SBS45': 68, 'SBS31': 115},\n",
       "  'SBS31_120': {'SBS5': 189, 'SBS40': 137, 'SBS45': 67, 'SBS31': 120},\n",
       "  'SBS31_125': {'SBS5': 186, 'SBS40': 136, 'SBS45': 66, 'SBS31': 125},\n",
       "  'SBS31_130': {'SBS5': 184, 'SBS40': 134, 'SBS45': 65, 'SBS31': 130},\n",
       "  'SBS31_135': {'SBS5': 182, 'SBS40': 132, 'SBS45': 64, 'SBS31': 135},\n",
       "  'SBS31_140': {'SBS5': 179, 'SBS40': 130, 'SBS45': 63, 'SBS31': 140},\n",
       "  'SBS31_145': {'SBS5': 177, 'SBS40': 129, 'SBS45': 63, 'SBS31': 145},\n",
       "  'SBS31_150': {'SBS5': 174, 'SBS40': 127, 'SBS45': 62, 'SBS31': 150},\n",
       "  'SBS31_155': {'SBS5': 172, 'SBS40': 125, 'SBS45': 61, 'SBS31': 155},\n",
       "  'SBS31_160': {'SBS5': 170, 'SBS40': 123, 'SBS45': 60, 'SBS31': 160},\n",
       "  'SBS31_165': {'SBS5': 167, 'SBS40': 122, 'SBS45': 59, 'SBS31': 165},\n",
       "  'SBS31_170': {'SBS5': 165, 'SBS40': 120, 'SBS45': 58, 'SBS31': 170},\n",
       "  'SBS31_175': {'SBS5': 162, 'SBS40': 118, 'SBS45': 57, 'SBS31': 175},\n",
       "  'SBS31_180': {'SBS5': 160, 'SBS40': 116, 'SBS45': 57, 'SBS31': 180},\n",
       "  'SBS31_185': {'SBS5': 158, 'SBS40': 115, 'SBS45': 56, 'SBS31': 185},\n",
       "  'SBS31_190': {'SBS5': 155, 'SBS40': 113, 'SBS45': 55, 'SBS31': 190},\n",
       "  'SBS31_195': {'SBS5': 153, 'SBS40': 111, 'SBS45': 54, 'SBS31': 195},\n",
       "  'SBS31_200': {'SBS5': 150, 'SBS40': 109, 'SBS45': 53, 'SBS31': 200},\n",
       "  'SBS31_205': {'SBS5': 148, 'SBS40': 108, 'SBS45': 52, 'SBS31': 205},\n",
       "  'SBS31_210': {'SBS5': 146, 'SBS40': 106, 'SBS45': 51, 'SBS31': 210},\n",
       "  'SBS31_215': {'SBS5': 143, 'SBS40': 104, 'SBS45': 51, 'SBS31': 215},\n",
       "  'SBS31_220': {'SBS5': 141, 'SBS40': 102, 'SBS45': 50, 'SBS31': 220},\n",
       "  'SBS31_225': {'SBS5': 138, 'SBS40': 101, 'SBS45': 49, 'SBS31': 225},\n",
       "  'SBS31_230': {'SBS5': 136, 'SBS40': 99, 'SBS45': 48, 'SBS31': 230},\n",
       "  'SBS31_235': {'SBS5': 134, 'SBS40': 97, 'SBS45': 47, 'SBS31': 235},\n",
       "  'SBS31_240': {'SBS5': 131, 'SBS40': 95, 'SBS45': 46, 'SBS31': 240},\n",
       "  'SBS31_245': {'SBS5': 129, 'SBS40': 94, 'SBS45': 46, 'SBS31': 245},\n",
       "  'SBS31_250': {'SBS5': 126, 'SBS40': 92, 'SBS45': 45, 'SBS31': 250},\n",
       "  'SBS31_255': {'SBS5': 124, 'SBS40': 90, 'SBS45': 44, 'SBS31': 255},\n",
       "  'SBS31_260': {'SBS5': 122, 'SBS40': 88, 'SBS45': 43, 'SBS31': 260},\n",
       "  'SBS31_265': {'SBS5': 119, 'SBS40': 87, 'SBS45': 42, 'SBS31': 265},\n",
       "  'SBS31_270': {'SBS5': 117, 'SBS40': 85, 'SBS45': 41, 'SBS31': 270},\n",
       "  'SBS31_275': {'SBS5': 114, 'SBS40': 83, 'SBS45': 40, 'SBS31': 275},\n",
       "  'SBS31_280': {'SBS5': 112, 'SBS40': 81, 'SBS45': 40, 'SBS31': 280},\n",
       "  'SBS31_285': {'SBS5': 110, 'SBS40': 80, 'SBS45': 39, 'SBS31': 285},\n",
       "  'SBS31_290': {'SBS5': 107, 'SBS40': 78, 'SBS45': 38, 'SBS31': 290},\n",
       "  'SBS31_295': {'SBS5': 105, 'SBS40': 76, 'SBS45': 37, 'SBS31': 295},\n",
       "  'SBS31_300': {'SBS5': 102, 'SBS40': 74, 'SBS45': 36, 'SBS31': 300},\n",
       "  'SBS31_305': {'SBS5': 100, 'SBS40': 73, 'SBS45': 35, 'SBS31': 305},\n",
       "  'SBS31_310': {'SBS5': 98, 'SBS40': 71, 'SBS45': 34, 'SBS31': 310},\n",
       "  'SBS31_315': {'SBS5': 95, 'SBS40': 69, 'SBS45': 34, 'SBS31': 315},\n",
       "  'SBS31_320': {'SBS5': 93, 'SBS40': 67, 'SBS45': 33, 'SBS31': 320},\n",
       "  'SBS31_325': {'SBS5': 90, 'SBS40': 66, 'SBS45': 32, 'SBS31': 325},\n",
       "  'SBS31_330': {'SBS5': 88, 'SBS40': 64, 'SBS45': 31, 'SBS31': 330},\n",
       "  'SBS31_335': {'SBS5': 86, 'SBS40': 62, 'SBS45': 30, 'SBS31': 335},\n",
       "  'SBS31_340': {'SBS5': 83, 'SBS40': 60, 'SBS45': 29, 'SBS31': 340},\n",
       "  'SBS31_345': {'SBS5': 81, 'SBS40': 59, 'SBS45': 29, 'SBS31': 345},\n",
       "  'SBS31_350': {'SBS5': 78, 'SBS40': 57, 'SBS45': 28, 'SBS31': 350},\n",
       "  'SBS31_355': {'SBS5': 76, 'SBS40': 55, 'SBS45': 27, 'SBS31': 355},\n",
       "  'SBS31_360': {'SBS5': 73, 'SBS40': 54, 'SBS45': 26, 'SBS31': 360},\n",
       "  'SBS31_365': {'SBS5': 71, 'SBS40': 52, 'SBS45': 25, 'SBS31': 365},\n",
       "  'SBS31_370': {'SBS5': 69, 'SBS40': 50, 'SBS45': 24, 'SBS31': 370},\n",
       "  'SBS31_375': {'SBS5': 66, 'SBS40': 48, 'SBS45': 23, 'SBS31': 375},\n",
       "  'SBS31_380': {'SBS5': 64, 'SBS40': 47, 'SBS45': 23, 'SBS31': 380},\n",
       "  'SBS31_385': {'SBS5': 61, 'SBS40': 45, 'SBS45': 22, 'SBS31': 385},\n",
       "  'SBS31_390': {'SBS5': 59, 'SBS40': 43, 'SBS45': 21, 'SBS31': 390},\n",
       "  'SBS31_395': {'SBS5': 57, 'SBS40': 41, 'SBS45': 20, 'SBS31': 395},\n",
       "  'SBS31_400': {'SBS5': 54, 'SBS40': 40, 'SBS45': 19, 'SBS31': 400},\n",
       "  'SBS31_405': {'SBS5': 52, 'SBS40': 38, 'SBS45': 18, 'SBS31': 405},\n",
       "  'SBS31_410': {'SBS5': 49, 'SBS40': 36, 'SBS45': 18, 'SBS31': 410},\n",
       "  'SBS31_415': {'SBS5': 47, 'SBS40': 34, 'SBS45': 17, 'SBS31': 415},\n",
       "  'SBS31_420': {'SBS5': 45, 'SBS40': 33, 'SBS45': 16, 'SBS31': 420},\n",
       "  'SBS31_425': {'SBS5': 42, 'SBS40': 31, 'SBS45': 15, 'SBS31': 425},\n",
       "  'SBS31_430': {'SBS5': 40, 'SBS40': 29, 'SBS45': 14, 'SBS31': 430},\n",
       "  'SBS31_435': {'SBS5': 37, 'SBS40': 27, 'SBS45': 13, 'SBS31': 435},\n",
       "  'SBS31_440': {'SBS5': 35, 'SBS40': 26, 'SBS45': 12, 'SBS31': 440},\n",
       "  'SBS31_445': {'SBS5': 33, 'SBS40': 24, 'SBS45': 12, 'SBS31': 445},\n",
       "  'SBS31_450': {'SBS5': 30, 'SBS40': 22, 'SBS45': 11, 'SBS31': 450},\n",
       "  'SBS31_455': {'SBS5': 28, 'SBS40': 20, 'SBS45': 10, 'SBS31': 455},\n",
       "  'SBS31_460': {'SBS5': 25, 'SBS40': 19, 'SBS45': 9, 'SBS31': 460},\n",
       "  'SBS31_465': {'SBS5': 23, 'SBS40': 17, 'SBS45': 8, 'SBS31': 465},\n",
       "  'SBS31_470': {'SBS5': 21, 'SBS40': 15, 'SBS45': 7, 'SBS31': 470},\n",
       "  'SBS31_475': {'SBS5': 18, 'SBS40': 13, 'SBS45': 6, 'SBS31': 475},\n",
       "  'SBS31_480': {'SBS5': 16, 'SBS40': 12, 'SBS45': 6, 'SBS31': 480},\n",
       "  'SBS31_485': {'SBS5': 13, 'SBS40': 10, 'SBS45': 5, 'SBS31': 485},\n",
       "  'SBS31_490': {'SBS5': 11, 'SBS40': 8, 'SBS45': 4, 'SBS31': 490},\n",
       "  'SBS31_495': {'SBS5': 9, 'SBS40': 6, 'SBS45': 3, 'SBS31': 495}},\n",
       " 'AZ4612': {'SBS31_0': {'SBS1': 32, 'SBS40': 744},\n",
       "  'SBS31_5': {'SBS1': 32, 'SBS40': 739, 'SBS31': 5},\n",
       "  'SBS31_10': {'SBS1': 32, 'SBS40': 734, 'SBS31': 10},\n",
       "  'SBS31_15': {'SBS1': 32, 'SBS40': 729, 'SBS31': 15},\n",
       "  'SBS31_20': {'SBS1': 32, 'SBS40': 724, 'SBS31': 20},\n",
       "  'SBS31_25': {'SBS1': 31, 'SBS40': 720, 'SBS31': 25},\n",
       "  'SBS31_30': {'SBS1': 31, 'SBS40': 715, 'SBS31': 30},\n",
       "  'SBS31_35': {'SBS1': 31, 'SBS40': 710, 'SBS31': 35},\n",
       "  'SBS31_40': {'SBS1': 31, 'SBS40': 705, 'SBS31': 40},\n",
       "  'SBS31_45': {'SBS1': 31, 'SBS40': 700, 'SBS31': 45},\n",
       "  'SBS31_50': {'SBS1': 30, 'SBS40': 696, 'SBS31': 50},\n",
       "  'SBS31_55': {'SBS1': 30, 'SBS40': 691, 'SBS31': 55},\n",
       "  'SBS31_60': {'SBS1': 30, 'SBS40': 686, 'SBS31': 60},\n",
       "  'SBS31_65': {'SBS1': 30, 'SBS40': 681, 'SBS31': 65},\n",
       "  'SBS31_70': {'SBS1': 30, 'SBS40': 676, 'SBS31': 70},\n",
       "  'SBS31_75': {'SBS1': 29, 'SBS40': 672, 'SBS31': 75},\n",
       "  'SBS31_80': {'SBS1': 29, 'SBS40': 667, 'SBS31': 80},\n",
       "  'SBS31_85': {'SBS1': 29, 'SBS40': 662, 'SBS31': 85},\n",
       "  'SBS31_90': {'SBS1': 29, 'SBS40': 657, 'SBS31': 90},\n",
       "  'SBS31_95': {'SBS1': 28, 'SBS40': 653, 'SBS31': 95},\n",
       "  'SBS31_100': {'SBS1': 28, 'SBS40': 648, 'SBS31': 100},\n",
       "  'SBS31_105': {'SBS1': 28, 'SBS40': 643, 'SBS31': 105},\n",
       "  'SBS31_110': {'SBS1': 28, 'SBS40': 638, 'SBS31': 110},\n",
       "  'SBS31_115': {'SBS1': 28, 'SBS40': 633, 'SBS31': 115},\n",
       "  'SBS31_120': {'SBS1': 27, 'SBS40': 629, 'SBS31': 120},\n",
       "  'SBS31_125': {'SBS1': 27, 'SBS40': 624, 'SBS31': 125},\n",
       "  'SBS31_130': {'SBS1': 27, 'SBS40': 619, 'SBS31': 130},\n",
       "  'SBS31_135': {'SBS1': 27, 'SBS40': 614, 'SBS31': 135},\n",
       "  'SBS31_140': {'SBS1': 27, 'SBS40': 609, 'SBS31': 140},\n",
       "  'SBS31_145': {'SBS1': 26, 'SBS40': 605, 'SBS31': 145},\n",
       "  'SBS31_150': {'SBS1': 26, 'SBS40': 600, 'SBS31': 150},\n",
       "  'SBS31_155': {'SBS1': 26, 'SBS40': 595, 'SBS31': 155},\n",
       "  'SBS31_160': {'SBS1': 26, 'SBS40': 590, 'SBS31': 160},\n",
       "  'SBS31_165': {'SBS1': 26, 'SBS40': 585, 'SBS31': 165},\n",
       "  'SBS31_170': {'SBS1': 25, 'SBS40': 581, 'SBS31': 170},\n",
       "  'SBS31_175': {'SBS1': 25, 'SBS40': 576, 'SBS31': 175},\n",
       "  'SBS31_180': {'SBS1': 25, 'SBS40': 571, 'SBS31': 180},\n",
       "  'SBS31_185': {'SBS1': 25, 'SBS40': 566, 'SBS31': 185},\n",
       "  'SBS31_190': {'SBS1': 25, 'SBS40': 561, 'SBS31': 190},\n",
       "  'SBS31_195': {'SBS1': 24, 'SBS40': 557, 'SBS31': 195},\n",
       "  'SBS31_200': {'SBS1': 24, 'SBS40': 552, 'SBS31': 200},\n",
       "  'SBS31_205': {'SBS1': 24, 'SBS40': 547, 'SBS31': 205},\n",
       "  'SBS31_210': {'SBS1': 24, 'SBS40': 542, 'SBS31': 210},\n",
       "  'SBS31_215': {'SBS1': 23, 'SBS40': 538, 'SBS31': 215},\n",
       "  'SBS31_220': {'SBS1': 23, 'SBS40': 533, 'SBS31': 220},\n",
       "  'SBS31_225': {'SBS1': 23, 'SBS40': 528, 'SBS31': 225},\n",
       "  'SBS31_230': {'SBS1': 23, 'SBS40': 523, 'SBS31': 230},\n",
       "  'SBS31_235': {'SBS1': 23, 'SBS40': 518, 'SBS31': 235},\n",
       "  'SBS31_240': {'SBS1': 22, 'SBS40': 514, 'SBS31': 240},\n",
       "  'SBS31_245': {'SBS1': 22, 'SBS40': 509, 'SBS31': 245},\n",
       "  'SBS31_250': {'SBS1': 22, 'SBS40': 504, 'SBS31': 250},\n",
       "  'SBS31_255': {'SBS1': 22, 'SBS40': 499, 'SBS31': 255},\n",
       "  'SBS31_260': {'SBS1': 22, 'SBS40': 494, 'SBS31': 260},\n",
       "  'SBS31_265': {'SBS1': 21, 'SBS40': 490, 'SBS31': 265},\n",
       "  'SBS31_270': {'SBS1': 21, 'SBS40': 485, 'SBS31': 270},\n",
       "  'SBS31_275': {'SBS1': 21, 'SBS40': 480, 'SBS31': 275},\n",
       "  'SBS31_280': {'SBS1': 21, 'SBS40': 475, 'SBS31': 280},\n",
       "  'SBS31_285': {'SBS1': 21, 'SBS40': 470, 'SBS31': 285},\n",
       "  'SBS31_290': {'SBS1': 20, 'SBS40': 466, 'SBS31': 290},\n",
       "  'SBS31_295': {'SBS1': 20, 'SBS40': 461, 'SBS31': 295},\n",
       "  'SBS31_300': {'SBS1': 20, 'SBS40': 456, 'SBS31': 300},\n",
       "  'SBS31_305': {'SBS1': 20, 'SBS40': 451, 'SBS31': 305},\n",
       "  'SBS31_310': {'SBS1': 19, 'SBS40': 447, 'SBS31': 310},\n",
       "  'SBS31_315': {'SBS1': 19, 'SBS40': 442, 'SBS31': 315},\n",
       "  'SBS31_320': {'SBS1': 19, 'SBS40': 437, 'SBS31': 320},\n",
       "  'SBS31_325': {'SBS1': 19, 'SBS40': 432, 'SBS31': 325},\n",
       "  'SBS31_330': {'SBS1': 19, 'SBS40': 427, 'SBS31': 330},\n",
       "  'SBS31_335': {'SBS1': 18, 'SBS40': 423, 'SBS31': 335},\n",
       "  'SBS31_340': {'SBS1': 18, 'SBS40': 418, 'SBS31': 340},\n",
       "  'SBS31_345': {'SBS1': 18, 'SBS40': 413, 'SBS31': 345},\n",
       "  'SBS31_350': {'SBS1': 18, 'SBS40': 408, 'SBS31': 350},\n",
       "  'SBS31_355': {'SBS1': 18, 'SBS40': 403, 'SBS31': 355},\n",
       "  'SBS31_360': {'SBS1': 17, 'SBS40': 399, 'SBS31': 360},\n",
       "  'SBS31_365': {'SBS1': 17, 'SBS40': 394, 'SBS31': 365},\n",
       "  'SBS31_370': {'SBS1': 17, 'SBS40': 389, 'SBS31': 370},\n",
       "  'SBS31_375': {'SBS1': 17, 'SBS40': 384, 'SBS31': 375},\n",
       "  'SBS31_380': {'SBS1': 17, 'SBS40': 379, 'SBS31': 380},\n",
       "  'SBS31_385': {'SBS1': 16, 'SBS40': 375, 'SBS31': 385},\n",
       "  'SBS31_390': {'SBS1': 16, 'SBS40': 370, 'SBS31': 390},\n",
       "  'SBS31_395': {'SBS1': 16, 'SBS40': 365, 'SBS31': 395},\n",
       "  'SBS31_400': {'SBS1': 16, 'SBS40': 360, 'SBS31': 400},\n",
       "  'SBS31_405': {'SBS1': 16, 'SBS40': 355, 'SBS31': 405},\n",
       "  'SBS31_410': {'SBS1': 15, 'SBS40': 351, 'SBS31': 410},\n",
       "  'SBS31_415': {'SBS1': 15, 'SBS40': 346, 'SBS31': 415},\n",
       "  'SBS31_420': {'SBS1': 15, 'SBS40': 341, 'SBS31': 420},\n",
       "  'SBS31_425': {'SBS1': 15, 'SBS40': 336, 'SBS31': 425},\n",
       "  'SBS31_430': {'SBS1': 14, 'SBS40': 332, 'SBS31': 430},\n",
       "  'SBS31_435': {'SBS1': 14, 'SBS40': 327, 'SBS31': 435},\n",
       "  'SBS31_440': {'SBS1': 14, 'SBS40': 322, 'SBS31': 440},\n",
       "  'SBS31_445': {'SBS1': 14, 'SBS40': 317, 'SBS31': 445},\n",
       "  'SBS31_450': {'SBS1': 14, 'SBS40': 312, 'SBS31': 450},\n",
       "  'SBS31_455': {'SBS1': 13, 'SBS40': 308, 'SBS31': 455},\n",
       "  'SBS31_460': {'SBS1': 13, 'SBS40': 303, 'SBS31': 460},\n",
       "  'SBS31_465': {'SBS1': 13, 'SBS40': 298, 'SBS31': 465},\n",
       "  'SBS31_470': {'SBS1': 13, 'SBS40': 293, 'SBS31': 470},\n",
       "  'SBS31_475': {'SBS1': 13, 'SBS40': 288, 'SBS31': 475},\n",
       "  'SBS31_480': {'SBS1': 12, 'SBS40': 284, 'SBS31': 480},\n",
       "  'SBS31_485': {'SBS1': 12, 'SBS40': 279, 'SBS31': 485},\n",
       "  'SBS31_490': {'SBS1': 12, 'SBS40': 274, 'SBS31': 490},\n",
       "  'SBS31_495': {'SBS1': 12, 'SBS40': 269, 'SBS31': 495}},\n",
       " 'AZ4613': {'SBS31_0': {'SBS2': 26, 'SBS40': 372},\n",
       "  'SBS31_5': {'SBS2': 26, 'SBS40': 367, 'SBS31': 5},\n",
       "  'SBS31_10': {'SBS2': 25, 'SBS40': 363, 'SBS31': 10},\n",
       "  'SBS31_15': {'SBS2': 25, 'SBS40': 358, 'SBS31': 15},\n",
       "  'SBS31_20': {'SBS2': 25, 'SBS40': 353, 'SBS31': 20},\n",
       "  'SBS31_25': {'SBS2': 24, 'SBS40': 349, 'SBS31': 25},\n",
       "  'SBS31_30': {'SBS2': 24, 'SBS40': 344, 'SBS31': 30},\n",
       "  'SBS31_35': {'SBS2': 24, 'SBS40': 339, 'SBS31': 35},\n",
       "  'SBS31_40': {'SBS2': 23, 'SBS40': 335, 'SBS31': 40},\n",
       "  'SBS31_45': {'SBS2': 23, 'SBS40': 330, 'SBS31': 45},\n",
       "  'SBS31_50': {'SBS2': 23, 'SBS40': 325, 'SBS31': 50},\n",
       "  'SBS31_55': {'SBS2': 22, 'SBS40': 321, 'SBS31': 55},\n",
       "  'SBS31_60': {'SBS2': 22, 'SBS40': 316, 'SBS31': 60},\n",
       "  'SBS31_65': {'SBS2': 22, 'SBS40': 311, 'SBS31': 65},\n",
       "  'SBS31_70': {'SBS2': 22, 'SBS40': 306, 'SBS31': 70},\n",
       "  'SBS31_75': {'SBS2': 21, 'SBS40': 302, 'SBS31': 75},\n",
       "  'SBS31_80': {'SBS2': 21, 'SBS40': 297, 'SBS31': 80},\n",
       "  'SBS31_85': {'SBS2': 21, 'SBS40': 292, 'SBS31': 85},\n",
       "  'SBS31_90': {'SBS2': 20, 'SBS40': 288, 'SBS31': 90},\n",
       "  'SBS31_95': {'SBS2': 20, 'SBS40': 283, 'SBS31': 95},\n",
       "  'SBS31_100': {'SBS2': 20, 'SBS40': 278, 'SBS31': 100},\n",
       "  'SBS31_105': {'SBS2': 19, 'SBS40': 274, 'SBS31': 105},\n",
       "  'SBS31_110': {'SBS2': 19, 'SBS40': 269, 'SBS31': 110},\n",
       "  'SBS31_115': {'SBS2': 19, 'SBS40': 264, 'SBS31': 115},\n",
       "  'SBS31_120': {'SBS2': 18, 'SBS40': 260, 'SBS31': 120},\n",
       "  'SBS31_125': {'SBS2': 18, 'SBS40': 255, 'SBS31': 125},\n",
       "  'SBS31_130': {'SBS2': 18, 'SBS40': 250, 'SBS31': 130},\n",
       "  'SBS31_135': {'SBS2': 17, 'SBS40': 246, 'SBS31': 135},\n",
       "  'SBS31_140': {'SBS2': 17, 'SBS40': 241, 'SBS31': 140},\n",
       "  'SBS31_145': {'SBS2': 17, 'SBS40': 236, 'SBS31': 145},\n",
       "  'SBS31_150': {'SBS2': 16, 'SBS40': 232, 'SBS31': 150},\n",
       "  'SBS31_155': {'SBS2': 16, 'SBS40': 227, 'SBS31': 155},\n",
       "  'SBS31_160': {'SBS2': 16, 'SBS40': 222, 'SBS31': 160},\n",
       "  'SBS31_165': {'SBS2': 15, 'SBS40': 218, 'SBS31': 165},\n",
       "  'SBS31_170': {'SBS2': 15, 'SBS40': 213, 'SBS31': 170},\n",
       "  'SBS31_175': {'SBS2': 15, 'SBS40': 208, 'SBS31': 175},\n",
       "  'SBS31_180': {'SBS2': 14, 'SBS40': 204, 'SBS31': 180},\n",
       "  'SBS31_185': {'SBS2': 14, 'SBS40': 199, 'SBS31': 185},\n",
       "  'SBS31_190': {'SBS2': 14, 'SBS40': 194, 'SBS31': 190},\n",
       "  'SBS31_195': {'SBS2': 13, 'SBS40': 190, 'SBS31': 195},\n",
       "  'SBS31_200': {'SBS2': 13, 'SBS40': 185, 'SBS31': 200},\n",
       "  'SBS31_205': {'SBS2': 13, 'SBS40': 180, 'SBS31': 205},\n",
       "  'SBS31_210': {'SBS2': 12, 'SBS40': 176, 'SBS31': 210},\n",
       "  'SBS31_215': {'SBS2': 12, 'SBS40': 171, 'SBS31': 215},\n",
       "  'SBS31_220': {'SBS2': 12, 'SBS40': 166, 'SBS31': 220},\n",
       "  'SBS31_225': {'SBS2': 11, 'SBS40': 162, 'SBS31': 225},\n",
       "  'SBS31_230': {'SBS2': 11, 'SBS40': 157, 'SBS31': 230},\n",
       "  'SBS31_235': {'SBS2': 11, 'SBS40': 152, 'SBS31': 235},\n",
       "  'SBS31_240': {'SBS2': 10, 'SBS40': 148, 'SBS31': 240},\n",
       "  'SBS31_245': {'SBS2': 10, 'SBS40': 143, 'SBS31': 245},\n",
       "  'SBS31_250': {'SBS2': 10, 'SBS40': 138, 'SBS31': 250},\n",
       "  'SBS31_255': {'SBS2': 9, 'SBS40': 134, 'SBS31': 255},\n",
       "  'SBS31_260': {'SBS2': 9, 'SBS40': 129, 'SBS31': 260},\n",
       "  'SBS31_265': {'SBS2': 9, 'SBS40': 124, 'SBS31': 265},\n",
       "  'SBS31_270': {'SBS2': 8, 'SBS40': 120, 'SBS31': 270},\n",
       "  'SBS31_275': {'SBS2': 8, 'SBS40': 115, 'SBS31': 275},\n",
       "  'SBS31_280': {'SBS2': 8, 'SBS40': 110, 'SBS31': 280},\n",
       "  'SBS31_285': {'SBS2': 7, 'SBS40': 106, 'SBS31': 285},\n",
       "  'SBS31_290': {'SBS2': 7, 'SBS40': 101, 'SBS31': 290},\n",
       "  'SBS31_295': {'SBS2': 7, 'SBS40': 96, 'SBS31': 295},\n",
       "  'SBS31_300': {'SBS2': 6, 'SBS40': 92, 'SBS31': 300},\n",
       "  'SBS31_305': {'SBS2': 6, 'SBS40': 87, 'SBS31': 305},\n",
       "  'SBS31_310': {'SBS2': 6, 'SBS40': 82, 'SBS31': 310},\n",
       "  'SBS31_315': {'SBS2': 5, 'SBS40': 78, 'SBS31': 315},\n",
       "  'SBS31_320': {'SBS2': 5, 'SBS40': 73, 'SBS31': 320},\n",
       "  'SBS31_325': {'SBS2': 5, 'SBS40': 68, 'SBS31': 325},\n",
       "  'SBS31_330': {'SBS2': 4, 'SBS40': 64, 'SBS31': 330},\n",
       "  'SBS31_335': {'SBS2': 4, 'SBS40': 59, 'SBS31': 335},\n",
       "  'SBS31_340': {'SBS2': 4, 'SBS40': 54, 'SBS31': 340},\n",
       "  'SBS31_345': {'SBS2': 3, 'SBS40': 50, 'SBS31': 345},\n",
       "  'SBS31_350': {'SBS2': 3, 'SBS40': 45, 'SBS31': 350},\n",
       "  'SBS31_355': {'SBS2': 3, 'SBS40': 40, 'SBS31': 355},\n",
       "  'SBS31_360': {'SBS2': 2, 'SBS40': 36, 'SBS31': 360},\n",
       "  'SBS31_365': {'SBS2': 2, 'SBS40': 31, 'SBS31': 365},\n",
       "  'SBS31_370': {'SBS2': 2, 'SBS40': 26, 'SBS31': 370},\n",
       "  'SBS31_375': {'SBS2': 2, 'SBS40': 21, 'SBS31': 375},\n",
       "  'SBS31_380': {'SBS2': 1, 'SBS40': 17, 'SBS31': 380},\n",
       "  'SBS31_385': {'SBS2': 1, 'SBS40': 12, 'SBS31': 385},\n",
       "  'SBS31_390': {'SBS2': 1, 'SBS40': 7, 'SBS31': 390},\n",
       "  'SBS31_395': {'SBS40': 3, 'SBS31': 395}},\n",
       " 'AZ4614': {'SBS31_0': {'SBS18': 95, 'SBS40': 238},\n",
       "  'SBS31_5': {'SBS18': 93, 'SBS40': 235, 'SBS31': 5},\n",
       "  'SBS31_10': {'SBS18': 92, 'SBS40': 231, 'SBS31': 10},\n",
       "  'SBS31_15': {'SBS18': 91, 'SBS40': 227, 'SBS31': 15},\n",
       "  'SBS31_20': {'SBS18': 89, 'SBS40': 224, 'SBS31': 20},\n",
       "  'SBS31_25': {'SBS18': 88, 'SBS40': 220, 'SBS31': 25},\n",
       "  'SBS31_30': {'SBS18': 86, 'SBS40': 217, 'SBS31': 30},\n",
       "  'SBS31_35': {'SBS18': 85, 'SBS40': 213, 'SBS31': 35},\n",
       "  'SBS31_40': {'SBS18': 83, 'SBS40': 210, 'SBS31': 40},\n",
       "  'SBS31_45': {'SBS18': 82, 'SBS40': 206, 'SBS31': 45},\n",
       "  'SBS31_50': {'SBS18': 81, 'SBS40': 202, 'SBS31': 50},\n",
       "  'SBS31_55': {'SBS18': 79, 'SBS40': 199, 'SBS31': 55},\n",
       "  'SBS31_60': {'SBS18': 78, 'SBS40': 195, 'SBS31': 60},\n",
       "  'SBS31_65': {'SBS18': 76, 'SBS40': 192, 'SBS31': 65},\n",
       "  'SBS31_70': {'SBS18': 75, 'SBS40': 188, 'SBS31': 70},\n",
       "  'SBS31_75': {'SBS18': 73, 'SBS40': 185, 'SBS31': 75},\n",
       "  'SBS31_80': {'SBS18': 72, 'SBS40': 181, 'SBS31': 80},\n",
       "  'SBS31_85': {'SBS18': 71, 'SBS40': 177, 'SBS31': 85},\n",
       "  'SBS31_90': {'SBS18': 69, 'SBS40': 174, 'SBS31': 90},\n",
       "  'SBS31_95': {'SBS18': 68, 'SBS40': 170, 'SBS31': 95},\n",
       "  'SBS31_100': {'SBS18': 66, 'SBS40': 167, 'SBS31': 100},\n",
       "  'SBS31_105': {'SBS18': 65, 'SBS40': 163, 'SBS31': 105},\n",
       "  'SBS31_110': {'SBS18': 63, 'SBS40': 160, 'SBS31': 110},\n",
       "  'SBS31_115': {'SBS18': 62, 'SBS40': 156, 'SBS31': 115},\n",
       "  'SBS31_120': {'SBS18': 61, 'SBS40': 152, 'SBS31': 120},\n",
       "  'SBS31_125': {'SBS18': 59, 'SBS40': 149, 'SBS31': 125},\n",
       "  'SBS31_130': {'SBS18': 58, 'SBS40': 145, 'SBS31': 130},\n",
       "  'SBS31_135': {'SBS18': 56, 'SBS40': 142, 'SBS31': 135},\n",
       "  'SBS31_140': {'SBS18': 55, 'SBS40': 138, 'SBS31': 140},\n",
       "  'SBS31_145': {'SBS18': 54, 'SBS40': 134, 'SBS31': 145},\n",
       "  'SBS31_150': {'SBS18': 52, 'SBS40': 131, 'SBS31': 150},\n",
       "  'SBS31_155': {'SBS18': 51, 'SBS40': 127, 'SBS31': 155},\n",
       "  'SBS31_160': {'SBS18': 49, 'SBS40': 124, 'SBS31': 160},\n",
       "  'SBS31_165': {'SBS18': 48, 'SBS40': 120, 'SBS31': 165},\n",
       "  'SBS31_170': {'SBS18': 46, 'SBS40': 117, 'SBS31': 170},\n",
       "  'SBS31_175': {'SBS18': 45, 'SBS40': 113, 'SBS31': 175},\n",
       "  'SBS31_180': {'SBS18': 44, 'SBS40': 109, 'SBS31': 180},\n",
       "  'SBS31_185': {'SBS18': 42, 'SBS40': 106, 'SBS31': 185},\n",
       "  'SBS31_190': {'SBS18': 41, 'SBS40': 102, 'SBS31': 190},\n",
       "  'SBS31_195': {'SBS18': 39, 'SBS40': 99, 'SBS31': 195},\n",
       "  'SBS31_200': {'SBS18': 38, 'SBS40': 95, 'SBS31': 200},\n",
       "  'SBS31_205': {'SBS18': 36, 'SBS40': 92, 'SBS31': 205},\n",
       "  'SBS31_210': {'SBS18': 35, 'SBS40': 88, 'SBS31': 210},\n",
       "  'SBS31_215': {'SBS18': 34, 'SBS40': 84, 'SBS31': 215},\n",
       "  'SBS31_220': {'SBS18': 32, 'SBS40': 81, 'SBS31': 220},\n",
       "  'SBS31_225': {'SBS18': 31, 'SBS40': 77, 'SBS31': 225},\n",
       "  'SBS31_230': {'SBS18': 29, 'SBS40': 74, 'SBS31': 230},\n",
       "  'SBS31_235': {'SBS18': 28, 'SBS40': 70, 'SBS31': 235},\n",
       "  'SBS31_240': {'SBS18': 26, 'SBS40': 67, 'SBS31': 240},\n",
       "  'SBS31_245': {'SBS18': 25, 'SBS40': 63, 'SBS31': 245},\n",
       "  'SBS31_250': {'SBS18': 24, 'SBS40': 59, 'SBS31': 250},\n",
       "  'SBS31_255': {'SBS18': 22, 'SBS40': 56, 'SBS31': 255},\n",
       "  'SBS31_260': {'SBS18': 21, 'SBS40': 52, 'SBS31': 260},\n",
       "  'SBS31_265': {'SBS18': 19, 'SBS40': 49, 'SBS31': 265},\n",
       "  'SBS31_270': {'SBS18': 18, 'SBS40': 45, 'SBS31': 270},\n",
       "  'SBS31_275': {'SBS18': 17, 'SBS40': 41, 'SBS31': 275},\n",
       "  'SBS31_280': {'SBS18': 15, 'SBS40': 38, 'SBS31': 280},\n",
       "  'SBS31_285': {'SBS18': 14, 'SBS40': 34, 'SBS31': 285},\n",
       "  'SBS31_290': {'SBS18': 12, 'SBS40': 31, 'SBS31': 290},\n",
       "  'SBS31_295': {'SBS18': 11, 'SBS40': 27, 'SBS31': 295},\n",
       "  'SBS31_300': {'SBS18': 9, 'SBS40': 24, 'SBS31': 300},\n",
       "  'SBS31_305': {'SBS18': 8, 'SBS40': 20, 'SBS31': 305},\n",
       "  'SBS31_310': {'SBS18': 7, 'SBS40': 16, 'SBS31': 310},\n",
       "  'SBS31_315': {'SBS18': 5, 'SBS40': 13, 'SBS31': 315},\n",
       "  'SBS31_320': {'SBS18': 4, 'SBS40': 9, 'SBS31': 320},\n",
       "  'SBS31_325': {'SBS18': 2, 'SBS40': 6, 'SBS31': 325},\n",
       "  'SBS31_330': {'SBS18': 1, 'SBS40': 2, 'SBS31': 330}},\n",
       " 'AZ6342': {'SBS31_0': {'SBS5': 105, 'SBS18': 59},\n",
       "  'SBS31_5': {'SBS5': 102, 'SBS18': 57, 'SBS31': 5},\n",
       "  'SBS31_10': {'SBS5': 99, 'SBS18': 55, 'SBS31': 10},\n",
       "  'SBS31_15': {'SBS5': 96, 'SBS18': 53, 'SBS31': 15},\n",
       "  'SBS31_20': {'SBS5': 92, 'SBS18': 52, 'SBS31': 20},\n",
       "  'SBS31_25': {'SBS5': 89, 'SBS18': 50, 'SBS31': 25},\n",
       "  'SBS31_30': {'SBS5': 86, 'SBS18': 48, 'SBS31': 30},\n",
       "  'SBS31_35': {'SBS5': 83, 'SBS18': 46, 'SBS31': 35},\n",
       "  'SBS31_40': {'SBS5': 80, 'SBS18': 44, 'SBS31': 40},\n",
       "  'SBS31_45': {'SBS5': 76, 'SBS18': 43, 'SBS31': 45},\n",
       "  'SBS31_50': {'SBS5': 73, 'SBS18': 41, 'SBS31': 50},\n",
       "  'SBS31_55': {'SBS5': 70, 'SBS18': 39, 'SBS31': 55},\n",
       "  'SBS31_60': {'SBS5': 67, 'SBS18': 37, 'SBS31': 60},\n",
       "  'SBS31_65': {'SBS5': 63, 'SBS18': 36, 'SBS31': 65},\n",
       "  'SBS31_70': {'SBS5': 60, 'SBS18': 34, 'SBS31': 70},\n",
       "  'SBS31_75': {'SBS5': 57, 'SBS18': 32, 'SBS31': 75},\n",
       "  'SBS31_80': {'SBS5': 54, 'SBS18': 30, 'SBS31': 80},\n",
       "  'SBS31_85': {'SBS5': 51, 'SBS18': 28, 'SBS31': 85},\n",
       "  'SBS31_90': {'SBS5': 47, 'SBS18': 27, 'SBS31': 90},\n",
       "  'SBS31_95': {'SBS5': 44, 'SBS18': 25, 'SBS31': 95},\n",
       "  'SBS31_100': {'SBS5': 41, 'SBS18': 23, 'SBS31': 100},\n",
       "  'SBS31_105': {'SBS5': 38, 'SBS18': 21, 'SBS31': 105},\n",
       "  'SBS31_110': {'SBS5': 35, 'SBS18': 19, 'SBS31': 110},\n",
       "  'SBS31_115': {'SBS5': 31, 'SBS18': 18, 'SBS31': 115},\n",
       "  'SBS31_120': {'SBS5': 28, 'SBS18': 16, 'SBS31': 120},\n",
       "  'SBS31_125': {'SBS5': 25, 'SBS18': 14, 'SBS31': 125},\n",
       "  'SBS31_130': {'SBS5': 22, 'SBS18': 12, 'SBS31': 130},\n",
       "  'SBS31_135': {'SBS5': 19, 'SBS18': 10, 'SBS31': 135},\n",
       "  'SBS31_140': {'SBS5': 15, 'SBS18': 9, 'SBS31': 140},\n",
       "  'SBS31_145': {'SBS5': 12, 'SBS18': 7, 'SBS31': 145},\n",
       "  'SBS31_150': {'SBS5': 9, 'SBS18': 5, 'SBS31': 150},\n",
       "  'SBS31_155': {'SBS5': 6, 'SBS18': 3, 'SBS31': 155},\n",
       "  'SBS31_160': {'SBS5': 3, 'SBS18': 1, 'SBS31': 160}},\n",
       " 'AZ6371': {'SBS31_0': {'SBS1': 5, 'SBS40': 57},\n",
       "  'SBS31_5': {'SBS1': 4, 'SBS40': 53, 'SBS31': 5},\n",
       "  'SBS31_10': {'SBS1': 4, 'SBS40': 48, 'SBS31': 10},\n",
       "  'SBS31_15': {'SBS1': 4, 'SBS40': 43, 'SBS31': 15},\n",
       "  'SBS31_20': {'SBS1': 3, 'SBS40': 39, 'SBS31': 20},\n",
       "  'SBS31_25': {'SBS1': 3, 'SBS40': 34, 'SBS31': 25},\n",
       "  'SBS31_30': {'SBS1': 2, 'SBS40': 30, 'SBS31': 30},\n",
       "  'SBS31_35': {'SBS1': 2, 'SBS40': 25, 'SBS31': 35},\n",
       "  'SBS31_40': {'SBS1': 2, 'SBS40': 20, 'SBS31': 40},\n",
       "  'SBS31_45': {'SBS1': 1, 'SBS40': 16, 'SBS31': 45},\n",
       "  'SBS31_50': {'SBS1': 1, 'SBS40': 11, 'SBS31': 50},\n",
       "  'SBS31_55': {'SBS1': 1, 'SBS40': 6, 'SBS31': 55},\n",
       "  'SBS31_60': {'SBS40': 2, 'SBS31': 60}}}"
      ]
     },
     "metadata": {},
     "output_type": "display_data"
    }
   ],
   "source": [
    "all_samples_dict = {}\n",
    "for sample in SBS31_df.index:\n",
    "    if sample != 'AQ5187_vs_AQ5175':\n",
    "        samples_dict = {}\n",
    "        for muts in tqdm(range(0,500,5)):\n",
    "            df1 = SBS31_df[SBS31_df.index==sample]\n",
    "            sig_cols = df1.columns\n",
    "            df1['Total_muts'] = df1[sig_cols].sum(axis=1)\n",
    "            if muts > df1['Total_muts'][0]:\n",
    "                break\n",
    "            else:\n",
    "                df1['SBS31'] = muts\n",
    "                sig_cols = [sig for sig in sig_cols if sig != 'SBS31']\n",
    "                df1['Total_muts_no_sbs31'] = df1[sig_cols].sum(axis=1)\n",
    "                df1['Total_muts_no_sbs31'] = df1['Total_muts_no_sbs31']\n",
    "\n",
    "                for sig in sig_cols:\n",
    "                    df1[sig] = df1.apply(lambda row: int(round(row[sig]/row['Total_muts_no_sbs31']*(row['Total_muts']-muts),0)),axis=1)\n",
    "                sigs = ['SBS1', 'SBS2', 'SBS5', 'SBS13', 'SBS18', 'SBS40', 'SBS45', 'SBS31']\n",
    "                sample_dict = df1[sigs].to_dict(orient='list')\n",
    "                sample_dict = {s:sample_dict[s][0] for s in sample_dict.keys() if sample_dict[s][0]!=0}\n",
    "                samples_dict['SBS31_'+(str(muts))] = sample_dict\n",
    "        all_samples_dict[sample] = samples_dict\n",
    "display(all_samples_dict)\n",
    "\n"
   ]
  },
  {
   "cell_type": "code",
   "execution_count": 15,
   "id": "ddfde60e",
   "metadata": {},
   "outputs": [
    {
     "data": {
      "application/vnd.jupyter.widget-view+json": {
       "model_id": "edfe22a2c9be4e298ff8fc4540aa76a6",
       "version_major": 2,
       "version_minor": 0
      },
      "text/plain": [
       "HBox(children=(HTML(value=''), FloatProgress(value=0.0, max=320.0), HTML(value='')))"
      ]
     },
     "metadata": {},
     "output_type": "display_data"
    },
    {
     "name": "stdout",
     "output_type": "stream",
     "text": [
      "\n"
     ]
    },
    {
     "data": {
      "text/plain": [
       "{'AQ5187_vs_AQ5175': {'SBS31_0': {'SBS1': 264, 'SBS5': 1687, 'SBS18': 280},\n",
       "  'SBS31_5': {'SBS1': 263, 'SBS5': 1683, 'SBS18': 280, 'SBS31': 5},\n",
       "  'SBS31_10': {'SBS1': 263, 'SBS5': 1679, 'SBS18': 279, 'SBS31': 10},\n",
       "  'SBS31_15': {'SBS1': 262, 'SBS5': 1675, 'SBS18': 279, 'SBS31': 15},\n",
       "  'SBS31_20': {'SBS1': 261, 'SBS5': 1672, 'SBS18': 278, 'SBS31': 20},\n",
       "  'SBS31_25': {'SBS1': 261, 'SBS5': 1668, 'SBS18': 277, 'SBS31': 25},\n",
       "  'SBS31_30': {'SBS1': 260, 'SBS5': 1664, 'SBS18': 277, 'SBS31': 30},\n",
       "  'SBS31_35': {'SBS1': 260, 'SBS5': 1660, 'SBS18': 276, 'SBS31': 35},\n",
       "  'SBS31_40': {'SBS1': 259, 'SBS5': 1656, 'SBS18': 275, 'SBS31': 40},\n",
       "  'SBS31_45': {'SBS1': 259, 'SBS5': 1653, 'SBS18': 275, 'SBS31': 45},\n",
       "  'SBS31_50': {'SBS1': 258, 'SBS5': 1649, 'SBS18': 274, 'SBS31': 50},\n",
       "  'SBS31_55': {'SBS1': 257, 'SBS5': 1645, 'SBS18': 274, 'SBS31': 55},\n",
       "  'SBS31_60': {'SBS1': 257, 'SBS5': 1641, 'SBS18': 273, 'SBS31': 60},\n",
       "  'SBS31_65': {'SBS1': 256, 'SBS5': 1638, 'SBS18': 272, 'SBS31': 65},\n",
       "  'SBS31_70': {'SBS1': 256, 'SBS5': 1634, 'SBS18': 272, 'SBS31': 70},\n",
       "  'SBS31_75': {'SBS1': 255, 'SBS5': 1630, 'SBS18': 271, 'SBS31': 75},\n",
       "  'SBS31_80': {'SBS1': 254, 'SBS5': 1626, 'SBS18': 270, 'SBS31': 80},\n",
       "  'SBS31_85': {'SBS1': 254, 'SBS5': 1622, 'SBS18': 270, 'SBS31': 85},\n",
       "  'SBS31_90': {'SBS1': 253, 'SBS5': 1619, 'SBS18': 269, 'SBS31': 90},\n",
       "  'SBS31_95': {'SBS1': 253, 'SBS5': 1615, 'SBS18': 269, 'SBS31': 95},\n",
       "  'SBS31_100': {'SBS1': 252, 'SBS5': 1611, 'SBS18': 268, 'SBS31': 100},\n",
       "  'SBS31_105': {'SBS1': 251, 'SBS5': 1607, 'SBS18': 267, 'SBS31': 105},\n",
       "  'SBS31_110': {'SBS1': 251, 'SBS5': 1604, 'SBS18': 267, 'SBS31': 110},\n",
       "  'SBS31_115': {'SBS1': 250, 'SBS5': 1600, 'SBS18': 266, 'SBS31': 115},\n",
       "  'SBS31_120': {'SBS1': 250, 'SBS5': 1596, 'SBS18': 265, 'SBS31': 120},\n",
       "  'SBS31_125': {'SBS1': 249, 'SBS5': 1592, 'SBS18': 265, 'SBS31': 125},\n",
       "  'SBS31_130': {'SBS1': 248, 'SBS5': 1588, 'SBS18': 264, 'SBS31': 130},\n",
       "  'SBS31_135': {'SBS1': 248, 'SBS5': 1585, 'SBS18': 264, 'SBS31': 135},\n",
       "  'SBS31_140': {'SBS1': 247, 'SBS5': 1581, 'SBS18': 263, 'SBS31': 140},\n",
       "  'SBS31_145': {'SBS1': 247, 'SBS5': 1577, 'SBS18': 262, 'SBS31': 145},\n",
       "  'SBS31_150': {'SBS1': 246, 'SBS5': 1573, 'SBS18': 262, 'SBS31': 150},\n",
       "  'SBS31_155': {'SBS1': 246, 'SBS5': 1569, 'SBS18': 261, 'SBS31': 155},\n",
       "  'SBS31_160': {'SBS1': 245, 'SBS5': 1566, 'SBS18': 260, 'SBS31': 160},\n",
       "  'SBS31_165': {'SBS1': 244, 'SBS5': 1562, 'SBS18': 260, 'SBS31': 165},\n",
       "  'SBS31_170': {'SBS1': 244, 'SBS5': 1558, 'SBS18': 259, 'SBS31': 170},\n",
       "  'SBS31_175': {'SBS1': 243, 'SBS5': 1554, 'SBS18': 258, 'SBS31': 175},\n",
       "  'SBS31_180': {'SBS1': 243, 'SBS5': 1551, 'SBS18': 258, 'SBS31': 180},\n",
       "  'SBS31_185': {'SBS1': 242, 'SBS5': 1547, 'SBS18': 257, 'SBS31': 185},\n",
       "  'SBS31_190': {'SBS1': 241, 'SBS5': 1543, 'SBS18': 257, 'SBS31': 190},\n",
       "  'SBS31_195': {'SBS1': 241, 'SBS5': 1539, 'SBS18': 256, 'SBS31': 195},\n",
       "  'SBS31_200': {'SBS1': 240, 'SBS5': 1535, 'SBS18': 255, 'SBS31': 200},\n",
       "  'SBS31_205': {'SBS1': 240, 'SBS5': 1532, 'SBS18': 255, 'SBS31': 205},\n",
       "  'SBS31_210': {'SBS1': 239, 'SBS5': 1528, 'SBS18': 254, 'SBS31': 210},\n",
       "  'SBS31_215': {'SBS1': 238, 'SBS5': 1524, 'SBS18': 253, 'SBS31': 215},\n",
       "  'SBS31_220': {'SBS1': 238, 'SBS5': 1520, 'SBS18': 253, 'SBS31': 220},\n",
       "  'SBS31_225': {'SBS1': 237, 'SBS5': 1517, 'SBS18': 252, 'SBS31': 225},\n",
       "  'SBS31_230': {'SBS1': 237, 'SBS5': 1513, 'SBS18': 252, 'SBS31': 230},\n",
       "  'SBS31_235': {'SBS1': 236, 'SBS5': 1509, 'SBS18': 251, 'SBS31': 235},\n",
       "  'SBS31_240': {'SBS1': 235, 'SBS5': 1505, 'SBS18': 250, 'SBS31': 240},\n",
       "  'SBS31_245': {'SBS1': 235, 'SBS5': 1501, 'SBS18': 250, 'SBS31': 245},\n",
       "  'SBS31_250': {'SBS1': 234, 'SBS5': 1498, 'SBS18': 249, 'SBS31': 250},\n",
       "  'SBS31_255': {'SBS1': 234, 'SBS5': 1494, 'SBS18': 248, 'SBS31': 255},\n",
       "  'SBS31_260': {'SBS1': 233, 'SBS5': 1490, 'SBS18': 248, 'SBS31': 260},\n",
       "  'SBS31_265': {'SBS1': 233, 'SBS5': 1486, 'SBS18': 247, 'SBS31': 265},\n",
       "  'SBS31_270': {'SBS1': 232, 'SBS5': 1483, 'SBS18': 247, 'SBS31': 270},\n",
       "  'SBS31_275': {'SBS1': 231, 'SBS5': 1479, 'SBS18': 246, 'SBS31': 275},\n",
       "  'SBS31_280': {'SBS1': 231, 'SBS5': 1475, 'SBS18': 245, 'SBS31': 280},\n",
       "  'SBS31_285': {'SBS1': 230, 'SBS5': 1471, 'SBS18': 245, 'SBS31': 285},\n",
       "  'SBS31_290': {'SBS1': 230, 'SBS5': 1467, 'SBS18': 244, 'SBS31': 290},\n",
       "  'SBS31_295': {'SBS1': 229, 'SBS5': 1464, 'SBS18': 243, 'SBS31': 295},\n",
       "  'SBS31_300': {'SBS1': 228, 'SBS5': 1460, 'SBS18': 243, 'SBS31': 300},\n",
       "  'SBS31_305': {'SBS1': 228, 'SBS5': 1456, 'SBS18': 242, 'SBS31': 305},\n",
       "  'SBS31_310': {'SBS1': 227, 'SBS5': 1452, 'SBS18': 242, 'SBS31': 310},\n",
       "  'SBS31_315': {'SBS1': 227, 'SBS5': 1449, 'SBS18': 241, 'SBS31': 315},\n",
       "  'SBS31_320': {'SBS1': 226, 'SBS5': 1445, 'SBS18': 240, 'SBS31': 320},\n",
       "  'SBS31_325': {'SBS1': 225, 'SBS5': 1441, 'SBS18': 240, 'SBS31': 325},\n",
       "  'SBS31_330': {'SBS1': 225, 'SBS5': 1437, 'SBS18': 239, 'SBS31': 330},\n",
       "  'SBS31_335': {'SBS1': 224, 'SBS5': 1433, 'SBS18': 238, 'SBS31': 335},\n",
       "  'SBS31_340': {'SBS1': 224, 'SBS5': 1430, 'SBS18': 238, 'SBS31': 340},\n",
       "  'SBS31_345': {'SBS1': 223, 'SBS5': 1426, 'SBS18': 237, 'SBS31': 345},\n",
       "  'SBS31_350': {'SBS1': 222, 'SBS5': 1422, 'SBS18': 236, 'SBS31': 350},\n",
       "  'SBS31_355': {'SBS1': 222, 'SBS5': 1418, 'SBS18': 236, 'SBS31': 355},\n",
       "  'SBS31_360': {'SBS1': 221, 'SBS5': 1415, 'SBS18': 235, 'SBS31': 360},\n",
       "  'SBS31_365': {'SBS1': 221, 'SBS5': 1411, 'SBS18': 235, 'SBS31': 365},\n",
       "  'SBS31_370': {'SBS1': 220, 'SBS5': 1407, 'SBS18': 234, 'SBS31': 370},\n",
       "  'SBS31_375': {'SBS1': 220, 'SBS5': 1403, 'SBS18': 233, 'SBS31': 375},\n",
       "  'SBS31_380': {'SBS1': 219, 'SBS5': 1399, 'SBS18': 233, 'SBS31': 380},\n",
       "  'SBS31_385': {'SBS1': 218, 'SBS5': 1396, 'SBS18': 232, 'SBS31': 385},\n",
       "  'SBS31_390': {'SBS1': 218, 'SBS5': 1392, 'SBS18': 231, 'SBS31': 390},\n",
       "  'SBS31_395': {'SBS1': 217, 'SBS5': 1388, 'SBS18': 231, 'SBS31': 395},\n",
       "  'SBS31_400': {'SBS1': 217, 'SBS5': 1384, 'SBS18': 230, 'SBS31': 400},\n",
       "  'SBS31_405': {'SBS1': 216, 'SBS5': 1380, 'SBS18': 230, 'SBS31': 405},\n",
       "  'SBS31_410': {'SBS1': 215, 'SBS5': 1377, 'SBS18': 229, 'SBS31': 410},\n",
       "  'SBS31_415': {'SBS1': 215, 'SBS5': 1373, 'SBS18': 228, 'SBS31': 415},\n",
       "  'SBS31_420': {'SBS1': 214, 'SBS5': 1369, 'SBS18': 228, 'SBS31': 420},\n",
       "  'SBS31_425': {'SBS1': 214, 'SBS5': 1365, 'SBS18': 227, 'SBS31': 425},\n",
       "  'SBS31_430': {'SBS1': 213, 'SBS5': 1362, 'SBS18': 226, 'SBS31': 430},\n",
       "  'SBS31_435': {'SBS1': 212, 'SBS5': 1358, 'SBS18': 226, 'SBS31': 435},\n",
       "  'SBS31_440': {'SBS1': 212, 'SBS5': 1354, 'SBS18': 225, 'SBS31': 440},\n",
       "  'SBS31_445': {'SBS1': 211, 'SBS5': 1350, 'SBS18': 225, 'SBS31': 445},\n",
       "  'SBS31_450': {'SBS1': 211, 'SBS5': 1346, 'SBS18': 224, 'SBS31': 450},\n",
       "  'SBS31_455': {'SBS1': 210, 'SBS5': 1343, 'SBS18': 223, 'SBS31': 455},\n",
       "  'SBS31_460': {'SBS1': 209, 'SBS5': 1339, 'SBS18': 223, 'SBS31': 460},\n",
       "  'SBS31_465': {'SBS1': 209, 'SBS5': 1335, 'SBS18': 222, 'SBS31': 465},\n",
       "  'SBS31_470': {'SBS1': 208, 'SBS5': 1331, 'SBS18': 221, 'SBS31': 470},\n",
       "  'SBS31_475': {'SBS1': 208, 'SBS5': 1328, 'SBS18': 221, 'SBS31': 475},\n",
       "  'SBS31_480': {'SBS1': 207, 'SBS5': 1324, 'SBS18': 220, 'SBS31': 480},\n",
       "  'SBS31_485': {'SBS1': 206, 'SBS5': 1320, 'SBS18': 220, 'SBS31': 485},\n",
       "  'SBS31_490': {'SBS1': 206, 'SBS5': 1316, 'SBS18': 219, 'SBS31': 490},\n",
       "  'SBS31_495': {'SBS1': 205, 'SBS5': 1312, 'SBS18': 218, 'SBS31': 495},\n",
       "  'SBS31_500': {'SBS1': 205, 'SBS5': 1309, 'SBS18': 218, 'SBS31': 500},\n",
       "  'SBS31_505': {'SBS1': 204, 'SBS5': 1305, 'SBS18': 217, 'SBS31': 505},\n",
       "  'SBS31_510': {'SBS1': 204, 'SBS5': 1301, 'SBS18': 216, 'SBS31': 510},\n",
       "  'SBS31_515': {'SBS1': 203, 'SBS5': 1297, 'SBS18': 216, 'SBS31': 515},\n",
       "  'SBS31_520': {'SBS1': 202, 'SBS5': 1294, 'SBS18': 215, 'SBS31': 520},\n",
       "  'SBS31_525': {'SBS1': 202, 'SBS5': 1290, 'SBS18': 214, 'SBS31': 525},\n",
       "  'SBS31_530': {'SBS1': 201, 'SBS5': 1286, 'SBS18': 214, 'SBS31': 530},\n",
       "  'SBS31_535': {'SBS1': 201, 'SBS5': 1282, 'SBS18': 213, 'SBS31': 535},\n",
       "  'SBS31_540': {'SBS1': 200, 'SBS5': 1278, 'SBS18': 213, 'SBS31': 540},\n",
       "  'SBS31_545': {'SBS1': 199, 'SBS5': 1275, 'SBS18': 212, 'SBS31': 545},\n",
       "  'SBS31_550': {'SBS1': 199, 'SBS5': 1271, 'SBS18': 211, 'SBS31': 550},\n",
       "  'SBS31_555': {'SBS1': 198, 'SBS5': 1267, 'SBS18': 211, 'SBS31': 555},\n",
       "  'SBS31_560': {'SBS1': 198, 'SBS5': 1263, 'SBS18': 210, 'SBS31': 560},\n",
       "  'SBS31_565': {'SBS1': 197, 'SBS5': 1260, 'SBS18': 209, 'SBS31': 565},\n",
       "  'SBS31_570': {'SBS1': 196, 'SBS5': 1256, 'SBS18': 209, 'SBS31': 570},\n",
       "  'SBS31_575': {'SBS1': 196, 'SBS5': 1252, 'SBS18': 208, 'SBS31': 575},\n",
       "  'SBS31_580': {'SBS1': 195, 'SBS5': 1248, 'SBS18': 208, 'SBS31': 580},\n",
       "  'SBS31_585': {'SBS1': 195, 'SBS5': 1244, 'SBS18': 207, 'SBS31': 585},\n",
       "  'SBS31_590': {'SBS1': 194, 'SBS5': 1241, 'SBS18': 206, 'SBS31': 590},\n",
       "  'SBS31_595': {'SBS1': 193, 'SBS5': 1237, 'SBS18': 206, 'SBS31': 595},\n",
       "  'SBS31_600': {'SBS1': 193, 'SBS5': 1233, 'SBS18': 205, 'SBS31': 600},\n",
       "  'SBS31_605': {'SBS1': 192, 'SBS5': 1229, 'SBS18': 204, 'SBS31': 605},\n",
       "  'SBS31_610': {'SBS1': 192, 'SBS5': 1226, 'SBS18': 204, 'SBS31': 610},\n",
       "  'SBS31_615': {'SBS1': 191, 'SBS5': 1222, 'SBS18': 203, 'SBS31': 615},\n",
       "  'SBS31_620': {'SBS1': 191, 'SBS5': 1218, 'SBS18': 203, 'SBS31': 620},\n",
       "  'SBS31_625': {'SBS1': 190, 'SBS5': 1214, 'SBS18': 202, 'SBS31': 625},\n",
       "  'SBS31_630': {'SBS1': 189, 'SBS5': 1210, 'SBS18': 201, 'SBS31': 630},\n",
       "  'SBS31_635': {'SBS1': 189, 'SBS5': 1207, 'SBS18': 201, 'SBS31': 635},\n",
       "  'SBS31_640': {'SBS1': 188, 'SBS5': 1203, 'SBS18': 200, 'SBS31': 640},\n",
       "  'SBS31_645': {'SBS1': 188, 'SBS5': 1199, 'SBS18': 199, 'SBS31': 645},\n",
       "  'SBS31_650': {'SBS1': 187, 'SBS5': 1195, 'SBS18': 199, 'SBS31': 650},\n",
       "  'SBS31_655': {'SBS1': 186, 'SBS5': 1191, 'SBS18': 198, 'SBS31': 655},\n",
       "  'SBS31_660': {'SBS1': 186, 'SBS5': 1188, 'SBS18': 198, 'SBS31': 660},\n",
       "  'SBS31_665': {'SBS1': 185, 'SBS5': 1184, 'SBS18': 197, 'SBS31': 665},\n",
       "  'SBS31_670': {'SBS1': 185, 'SBS5': 1180, 'SBS18': 196, 'SBS31': 670},\n",
       "  'SBS31_675': {'SBS1': 184, 'SBS5': 1176, 'SBS18': 196, 'SBS31': 675},\n",
       "  'SBS31_680': {'SBS1': 183, 'SBS5': 1173, 'SBS18': 195, 'SBS31': 680},\n",
       "  'SBS31_685': {'SBS1': 183, 'SBS5': 1169, 'SBS18': 194, 'SBS31': 685},\n",
       "  'SBS31_690': {'SBS1': 182, 'SBS5': 1165, 'SBS18': 194, 'SBS31': 690},\n",
       "  'SBS31_695': {'SBS1': 182, 'SBS5': 1161, 'SBS18': 193, 'SBS31': 695},\n",
       "  'SBS31_700': {'SBS1': 181, 'SBS5': 1157, 'SBS18': 192, 'SBS31': 700},\n",
       "  'SBS31_705': {'SBS1': 180, 'SBS5': 1154, 'SBS18': 192, 'SBS31': 705},\n",
       "  'SBS31_710': {'SBS1': 180, 'SBS5': 1150, 'SBS18': 191, 'SBS31': 710},\n",
       "  'SBS31_715': {'SBS1': 179, 'SBS5': 1146, 'SBS18': 191, 'SBS31': 715},\n",
       "  'SBS31_720': {'SBS1': 179, 'SBS5': 1142, 'SBS18': 190, 'SBS31': 720},\n",
       "  'SBS31_725': {'SBS1': 178, 'SBS5': 1139, 'SBS18': 189, 'SBS31': 725},\n",
       "  'SBS31_730': {'SBS1': 178, 'SBS5': 1135, 'SBS18': 189, 'SBS31': 730},\n",
       "  'SBS31_735': {'SBS1': 177, 'SBS5': 1131, 'SBS18': 188, 'SBS31': 735},\n",
       "  'SBS31_740': {'SBS1': 176, 'SBS5': 1127, 'SBS18': 187, 'SBS31': 740},\n",
       "  'SBS31_745': {'SBS1': 176, 'SBS5': 1123, 'SBS18': 187, 'SBS31': 745},\n",
       "  'SBS31_750': {'SBS1': 175, 'SBS5': 1120, 'SBS18': 186, 'SBS31': 750},\n",
       "  'SBS31_755': {'SBS1': 175, 'SBS5': 1116, 'SBS18': 186, 'SBS31': 755},\n",
       "  'SBS31_760': {'SBS1': 174, 'SBS5': 1112, 'SBS18': 185, 'SBS31': 760},\n",
       "  'SBS31_765': {'SBS1': 173, 'SBS5': 1108, 'SBS18': 184, 'SBS31': 765},\n",
       "  'SBS31_770': {'SBS1': 173, 'SBS5': 1105, 'SBS18': 184, 'SBS31': 770},\n",
       "  'SBS31_775': {'SBS1': 172, 'SBS5': 1101, 'SBS18': 183, 'SBS31': 775},\n",
       "  'SBS31_780': {'SBS1': 172, 'SBS5': 1097, 'SBS18': 182, 'SBS31': 780},\n",
       "  'SBS31_785': {'SBS1': 171, 'SBS5': 1093, 'SBS18': 182, 'SBS31': 785},\n",
       "  'SBS31_790': {'SBS1': 170, 'SBS5': 1089, 'SBS18': 181, 'SBS31': 790},\n",
       "  'SBS31_795': {'SBS1': 170, 'SBS5': 1086, 'SBS18': 181, 'SBS31': 795},\n",
       "  'SBS31_800': {'SBS1': 169, 'SBS5': 1082, 'SBS18': 180, 'SBS31': 800},\n",
       "  'SBS31_805': {'SBS1': 169, 'SBS5': 1078, 'SBS18': 179, 'SBS31': 805},\n",
       "  'SBS31_810': {'SBS1': 168, 'SBS5': 1074, 'SBS18': 179, 'SBS31': 810},\n",
       "  'SBS31_815': {'SBS1': 167, 'SBS5': 1071, 'SBS18': 178, 'SBS31': 815},\n",
       "  'SBS31_820': {'SBS1': 167, 'SBS5': 1067, 'SBS18': 177, 'SBS31': 820},\n",
       "  'SBS31_825': {'SBS1': 166, 'SBS5': 1063, 'SBS18': 177, 'SBS31': 825},\n",
       "  'SBS31_830': {'SBS1': 166, 'SBS5': 1059, 'SBS18': 176, 'SBS31': 830},\n",
       "  'SBS31_835': {'SBS1': 165, 'SBS5': 1055, 'SBS18': 176, 'SBS31': 835},\n",
       "  'SBS31_840': {'SBS1': 165, 'SBS5': 1052, 'SBS18': 175, 'SBS31': 840},\n",
       "  'SBS31_845': {'SBS1': 164, 'SBS5': 1048, 'SBS18': 174, 'SBS31': 845},\n",
       "  'SBS31_850': {'SBS1': 163, 'SBS5': 1044, 'SBS18': 174, 'SBS31': 850},\n",
       "  'SBS31_855': {'SBS1': 163, 'SBS5': 1040, 'SBS18': 173, 'SBS31': 855},\n",
       "  'SBS31_860': {'SBS1': 162, 'SBS5': 1036, 'SBS18': 172, 'SBS31': 860},\n",
       "  'SBS31_865': {'SBS1': 162, 'SBS5': 1033, 'SBS18': 172, 'SBS31': 865},\n",
       "  'SBS31_870': {'SBS1': 161, 'SBS5': 1029, 'SBS18': 171, 'SBS31': 870},\n",
       "  'SBS31_875': {'SBS1': 160, 'SBS5': 1025, 'SBS18': 170, 'SBS31': 875},\n",
       "  'SBS31_880': {'SBS1': 160, 'SBS5': 1021, 'SBS18': 170, 'SBS31': 880},\n",
       "  'SBS31_885': {'SBS1': 159, 'SBS5': 1018, 'SBS18': 169, 'SBS31': 885},\n",
       "  'SBS31_890': {'SBS1': 159, 'SBS5': 1014, 'SBS18': 169, 'SBS31': 890},\n",
       "  'SBS31_895': {'SBS1': 158, 'SBS5': 1010, 'SBS18': 168, 'SBS31': 895},\n",
       "  'SBS31_900': {'SBS1': 157, 'SBS5': 1006, 'SBS18': 167, 'SBS31': 900},\n",
       "  'SBS31_905': {'SBS1': 157, 'SBS5': 1002, 'SBS18': 167, 'SBS31': 905},\n",
       "  'SBS31_910': {'SBS1': 156, 'SBS5': 999, 'SBS18': 166, 'SBS31': 910},\n",
       "  'SBS31_915': {'SBS1': 156, 'SBS5': 995, 'SBS18': 165, 'SBS31': 915},\n",
       "  'SBS31_920': {'SBS1': 155, 'SBS5': 991, 'SBS18': 165, 'SBS31': 920},\n",
       "  'SBS31_925': {'SBS1': 154, 'SBS5': 987, 'SBS18': 164, 'SBS31': 925},\n",
       "  'SBS31_930': {'SBS1': 154, 'SBS5': 984, 'SBS18': 164, 'SBS31': 930},\n",
       "  'SBS31_935': {'SBS1': 153, 'SBS5': 980, 'SBS18': 163, 'SBS31': 935},\n",
       "  'SBS31_940': {'SBS1': 153, 'SBS5': 976, 'SBS18': 162, 'SBS31': 940},\n",
       "  'SBS31_945': {'SBS1': 152, 'SBS5': 972, 'SBS18': 162, 'SBS31': 945},\n",
       "  'SBS31_950': {'SBS1': 151, 'SBS5': 968, 'SBS18': 161, 'SBS31': 950},\n",
       "  'SBS31_955': {'SBS1': 151, 'SBS5': 965, 'SBS18': 160, 'SBS31': 955},\n",
       "  'SBS31_960': {'SBS1': 150, 'SBS5': 961, 'SBS18': 160, 'SBS31': 960},\n",
       "  'SBS31_965': {'SBS1': 150, 'SBS5': 957, 'SBS18': 159, 'SBS31': 965},\n",
       "  'SBS31_970': {'SBS1': 149, 'SBS5': 953, 'SBS18': 159, 'SBS31': 970},\n",
       "  'SBS31_975': {'SBS1': 149, 'SBS5': 950, 'SBS18': 158, 'SBS31': 975},\n",
       "  'SBS31_980': {'SBS1': 148, 'SBS5': 946, 'SBS18': 157, 'SBS31': 980},\n",
       "  'SBS31_985': {'SBS1': 147, 'SBS5': 942, 'SBS18': 157, 'SBS31': 985},\n",
       "  'SBS31_990': {'SBS1': 147, 'SBS5': 938, 'SBS18': 156, 'SBS31': 990},\n",
       "  'SBS31_995': {'SBS1': 146, 'SBS5': 934, 'SBS18': 155, 'SBS31': 995},\n",
       "  'SBS31_1000': {'SBS1': 146, 'SBS5': 931, 'SBS18': 155, 'SBS31': 1000},\n",
       "  'SBS31_1005': {'SBS1': 145, 'SBS5': 927, 'SBS18': 154, 'SBS31': 1005},\n",
       "  'SBS31_1010': {'SBS1': 144, 'SBS5': 923, 'SBS18': 154, 'SBS31': 1010},\n",
       "  'SBS31_1015': {'SBS1': 144, 'SBS5': 919, 'SBS18': 153, 'SBS31': 1015},\n",
       "  'SBS31_1020': {'SBS1': 143, 'SBS5': 916, 'SBS18': 152, 'SBS31': 1020},\n",
       "  'SBS31_1025': {'SBS1': 143, 'SBS5': 912, 'SBS18': 152, 'SBS31': 1025},\n",
       "  'SBS31_1030': {'SBS1': 142, 'SBS5': 908, 'SBS18': 151, 'SBS31': 1030},\n",
       "  'SBS31_1035': {'SBS1': 141, 'SBS5': 904, 'SBS18': 150, 'SBS31': 1035},\n",
       "  'SBS31_1040': {'SBS1': 141, 'SBS5': 900, 'SBS18': 150, 'SBS31': 1040},\n",
       "  'SBS31_1045': {'SBS1': 140, 'SBS5': 897, 'SBS18': 149, 'SBS31': 1045},\n",
       "  'SBS31_1050': {'SBS1': 140, 'SBS5': 893, 'SBS18': 148, 'SBS31': 1050},\n",
       "  'SBS31_1055': {'SBS1': 139, 'SBS5': 889, 'SBS18': 148, 'SBS31': 1055},\n",
       "  'SBS31_1060': {'SBS1': 138, 'SBS5': 885, 'SBS18': 147, 'SBS31': 1060},\n",
       "  'SBS31_1065': {'SBS1': 138, 'SBS5': 882, 'SBS18': 147, 'SBS31': 1065},\n",
       "  'SBS31_1070': {'SBS1': 137, 'SBS5': 878, 'SBS18': 146, 'SBS31': 1070},\n",
       "  'SBS31_1075': {'SBS1': 137, 'SBS5': 874, 'SBS18': 145, 'SBS31': 1075},\n",
       "  'SBS31_1080': {'SBS1': 136, 'SBS5': 870, 'SBS18': 145, 'SBS31': 1080},\n",
       "  'SBS31_1085': {'SBS1': 136, 'SBS5': 866, 'SBS18': 144, 'SBS31': 1085},\n",
       "  'SBS31_1090': {'SBS1': 135, 'SBS5': 863, 'SBS18': 143, 'SBS31': 1090},\n",
       "  'SBS31_1095': {'SBS1': 134, 'SBS5': 859, 'SBS18': 143, 'SBS31': 1095},\n",
       "  'SBS31_1100': {'SBS1': 134, 'SBS5': 855, 'SBS18': 142, 'SBS31': 1100},\n",
       "  'SBS31_1105': {'SBS1': 133, 'SBS5': 851, 'SBS18': 142, 'SBS31': 1105},\n",
       "  'SBS31_1110': {'SBS1': 133, 'SBS5': 847, 'SBS18': 141, 'SBS31': 1110},\n",
       "  'SBS31_1115': {'SBS1': 132, 'SBS5': 844, 'SBS18': 140, 'SBS31': 1115},\n",
       "  'SBS31_1120': {'SBS1': 131, 'SBS5': 840, 'SBS18': 140, 'SBS31': 1120},\n",
       "  'SBS31_1125': {'SBS1': 131, 'SBS5': 836, 'SBS18': 139, 'SBS31': 1125},\n",
       "  'SBS31_1130': {'SBS1': 130, 'SBS5': 832, 'SBS18': 138, 'SBS31': 1130},\n",
       "  'SBS31_1135': {'SBS1': 130, 'SBS5': 829, 'SBS18': 138, 'SBS31': 1135},\n",
       "  'SBS31_1140': {'SBS1': 129, 'SBS5': 825, 'SBS18': 137, 'SBS31': 1140},\n",
       "  'SBS31_1145': {'SBS1': 128, 'SBS5': 821, 'SBS18': 137, 'SBS31': 1145},\n",
       "  'SBS31_1150': {'SBS1': 128, 'SBS5': 817, 'SBS18': 136, 'SBS31': 1150},\n",
       "  'SBS31_1155': {'SBS1': 127, 'SBS5': 813, 'SBS18': 135, 'SBS31': 1155},\n",
       "  'SBS31_1160': {'SBS1': 127, 'SBS5': 810, 'SBS18': 135, 'SBS31': 1160},\n",
       "  'SBS31_1165': {'SBS1': 126, 'SBS5': 806, 'SBS18': 134, 'SBS31': 1165},\n",
       "  'SBS31_1170': {'SBS1': 125, 'SBS5': 802, 'SBS18': 133, 'SBS31': 1170},\n",
       "  'SBS31_1175': {'SBS1': 125, 'SBS5': 798, 'SBS18': 133, 'SBS31': 1175},\n",
       "  'SBS31_1180': {'SBS1': 124, 'SBS5': 795, 'SBS18': 132, 'SBS31': 1180},\n",
       "  'SBS31_1185': {'SBS1': 124, 'SBS5': 791, 'SBS18': 132, 'SBS31': 1185},\n",
       "  'SBS31_1190': {'SBS1': 123, 'SBS5': 787, 'SBS18': 131, 'SBS31': 1190},\n",
       "  'SBS31_1195': {'SBS1': 123, 'SBS5': 783, 'SBS18': 130, 'SBS31': 1195},\n",
       "  'SBS31_1200': {'SBS1': 122, 'SBS5': 779, 'SBS18': 130, 'SBS31': 1200},\n",
       "  'SBS31_1205': {'SBS1': 121, 'SBS5': 776, 'SBS18': 129, 'SBS31': 1205},\n",
       "  'SBS31_1210': {'SBS1': 121, 'SBS5': 772, 'SBS18': 128, 'SBS31': 1210},\n",
       "  'SBS31_1215': {'SBS1': 120, 'SBS5': 768, 'SBS18': 128, 'SBS31': 1215},\n",
       "  'SBS31_1220': {'SBS1': 120, 'SBS5': 764, 'SBS18': 127, 'SBS31': 1220},\n",
       "  'SBS31_1225': {'SBS1': 119, 'SBS5': 761, 'SBS18': 126, 'SBS31': 1225},\n",
       "  'SBS31_1230': {'SBS1': 118, 'SBS5': 757, 'SBS18': 126, 'SBS31': 1230},\n",
       "  'SBS31_1235': {'SBS1': 118, 'SBS5': 753, 'SBS18': 125, 'SBS31': 1235},\n",
       "  'SBS31_1240': {'SBS1': 117, 'SBS5': 749, 'SBS18': 125, 'SBS31': 1240},\n",
       "  'SBS31_1245': {'SBS1': 117, 'SBS5': 745, 'SBS18': 124, 'SBS31': 1245},\n",
       "  'SBS31_1250': {'SBS1': 116, 'SBS5': 742, 'SBS18': 123, 'SBS31': 1250},\n",
       "  'SBS31_1255': {'SBS1': 115, 'SBS5': 738, 'SBS18': 123, 'SBS31': 1255},\n",
       "  'SBS31_1260': {'SBS1': 115, 'SBS5': 734, 'SBS18': 122, 'SBS31': 1260},\n",
       "  'SBS31_1265': {'SBS1': 114, 'SBS5': 730, 'SBS18': 121, 'SBS31': 1265},\n",
       "  'SBS31_1270': {'SBS1': 114, 'SBS5': 727, 'SBS18': 121, 'SBS31': 1270},\n",
       "  'SBS31_1275': {'SBS1': 113, 'SBS5': 723, 'SBS18': 120, 'SBS31': 1275},\n",
       "  'SBS31_1280': {'SBS1': 112, 'SBS5': 719, 'SBS18': 120, 'SBS31': 1280},\n",
       "  'SBS31_1285': {'SBS1': 112, 'SBS5': 715, 'SBS18': 119, 'SBS31': 1285},\n",
       "  'SBS31_1290': {'SBS1': 111, 'SBS5': 711, 'SBS18': 118, 'SBS31': 1290},\n",
       "  'SBS31_1295': {'SBS1': 111, 'SBS5': 708, 'SBS18': 118, 'SBS31': 1295},\n",
       "  'SBS31_1300': {'SBS1': 110, 'SBS5': 704, 'SBS18': 117, 'SBS31': 1300},\n",
       "  'SBS31_1305': {'SBS1': 110, 'SBS5': 700, 'SBS18': 116, 'SBS31': 1305},\n",
       "  'SBS31_1310': {'SBS1': 109, 'SBS5': 696, 'SBS18': 116, 'SBS31': 1310},\n",
       "  'SBS31_1315': {'SBS1': 108, 'SBS5': 693, 'SBS18': 115, 'SBS31': 1315},\n",
       "  'SBS31_1320': {'SBS1': 108, 'SBS5': 689, 'SBS18': 115, 'SBS31': 1320},\n",
       "  'SBS31_1325': {'SBS1': 107, 'SBS5': 685, 'SBS18': 114, 'SBS31': 1325},\n",
       "  'SBS31_1330': {'SBS1': 107, 'SBS5': 681, 'SBS18': 113, 'SBS31': 1330},\n",
       "  'SBS31_1335': {'SBS1': 106, 'SBS5': 677, 'SBS18': 113, 'SBS31': 1335},\n",
       "  'SBS31_1340': {'SBS1': 105, 'SBS5': 674, 'SBS18': 112, 'SBS31': 1340},\n",
       "  'SBS31_1345': {'SBS1': 105, 'SBS5': 670, 'SBS18': 111, 'SBS31': 1345},\n",
       "  'SBS31_1350': {'SBS1': 104, 'SBS5': 666, 'SBS18': 111, 'SBS31': 1350},\n",
       "  'SBS31_1355': {'SBS1': 104, 'SBS5': 662, 'SBS18': 110, 'SBS31': 1355},\n",
       "  'SBS31_1360': {'SBS1': 103, 'SBS5': 658, 'SBS18': 110, 'SBS31': 1360},\n",
       "  'SBS31_1365': {'SBS1': 102, 'SBS5': 655, 'SBS18': 109, 'SBS31': 1365},\n",
       "  'SBS31_1370': {'SBS1': 102, 'SBS5': 651, 'SBS18': 108, 'SBS31': 1370},\n",
       "  'SBS31_1375': {'SBS1': 101, 'SBS5': 647, 'SBS18': 108, 'SBS31': 1375},\n",
       "  'SBS31_1380': {'SBS1': 101, 'SBS5': 643, 'SBS18': 107, 'SBS31': 1380},\n",
       "  'SBS31_1385': {'SBS1': 100, 'SBS5': 640, 'SBS18': 106, 'SBS31': 1385},\n",
       "  'SBS31_1390': {'SBS1': 99, 'SBS5': 636, 'SBS18': 106, 'SBS31': 1390},\n",
       "  'SBS31_1395': {'SBS1': 99, 'SBS5': 632, 'SBS18': 105, 'SBS31': 1395},\n",
       "  'SBS31_1400': {'SBS1': 98, 'SBS5': 628, 'SBS18': 104, 'SBS31': 1400},\n",
       "  'SBS31_1405': {'SBS1': 98, 'SBS5': 624, 'SBS18': 104, 'SBS31': 1405},\n",
       "  'SBS31_1410': {'SBS1': 97, 'SBS5': 621, 'SBS18': 103, 'SBS31': 1410},\n",
       "  'SBS31_1415': {'SBS1': 97, 'SBS5': 617, 'SBS18': 103, 'SBS31': 1415},\n",
       "  'SBS31_1420': {'SBS1': 96, 'SBS5': 613, 'SBS18': 102, 'SBS31': 1420},\n",
       "  'SBS31_1425': {'SBS1': 95, 'SBS5': 609, 'SBS18': 101, 'SBS31': 1425},\n",
       "  'SBS31_1430': {'SBS1': 95, 'SBS5': 606, 'SBS18': 101, 'SBS31': 1430},\n",
       "  'SBS31_1435': {'SBS1': 94, 'SBS5': 602, 'SBS18': 100, 'SBS31': 1435},\n",
       "  'SBS31_1440': {'SBS1': 94, 'SBS5': 598, 'SBS18': 99, 'SBS31': 1440},\n",
       "  'SBS31_1445': {'SBS1': 93, 'SBS5': 594, 'SBS18': 99, 'SBS31': 1445},\n",
       "  'SBS31_1450': {'SBS1': 92, 'SBS5': 590, 'SBS18': 98, 'SBS31': 1450},\n",
       "  'SBS31_1455': {'SBS1': 92, 'SBS5': 587, 'SBS18': 98, 'SBS31': 1455},\n",
       "  'SBS31_1460': {'SBS1': 91, 'SBS5': 583, 'SBS18': 97, 'SBS31': 1460},\n",
       "  'SBS31_1465': {'SBS1': 91, 'SBS5': 579, 'SBS18': 96, 'SBS31': 1465},\n",
       "  'SBS31_1470': {'SBS1': 90, 'SBS5': 575, 'SBS18': 96, 'SBS31': 1470},\n",
       "  'SBS31_1475': {'SBS1': 89, 'SBS5': 572, 'SBS18': 95, 'SBS31': 1475},\n",
       "  'SBS31_1480': {'SBS1': 89, 'SBS5': 568, 'SBS18': 94, 'SBS31': 1480},\n",
       "  'SBS31_1485': {'SBS1': 88, 'SBS5': 564, 'SBS18': 94, 'SBS31': 1485},\n",
       "  'SBS31_1490': {'SBS1': 88, 'SBS5': 560, 'SBS18': 93, 'SBS31': 1490},\n",
       "  'SBS31_1495': {'SBS1': 87, 'SBS5': 556, 'SBS18': 93, 'SBS31': 1495},\n",
       "  'SBS31_1500': {'SBS1': 86, 'SBS5': 553, 'SBS18': 92, 'SBS31': 1500},\n",
       "  'SBS31_1505': {'SBS1': 86, 'SBS5': 549, 'SBS18': 91, 'SBS31': 1505},\n",
       "  'SBS31_1510': {'SBS1': 85, 'SBS5': 545, 'SBS18': 91, 'SBS31': 1510},\n",
       "  'SBS31_1515': {'SBS1': 85, 'SBS5': 541, 'SBS18': 90, 'SBS31': 1515},\n",
       "  'SBS31_1520': {'SBS1': 84, 'SBS5': 538, 'SBS18': 89, 'SBS31': 1520},\n",
       "  'SBS31_1525': {'SBS1': 83, 'SBS5': 534, 'SBS18': 89, 'SBS31': 1525},\n",
       "  'SBS31_1530': {'SBS1': 83, 'SBS5': 530, 'SBS18': 88, 'SBS31': 1530},\n",
       "  'SBS31_1535': {'SBS1': 82, 'SBS5': 526, 'SBS18': 88, 'SBS31': 1535},\n",
       "  'SBS31_1540': {'SBS1': 82, 'SBS5': 522, 'SBS18': 87, 'SBS31': 1540},\n",
       "  'SBS31_1545': {'SBS1': 81, 'SBS5': 519, 'SBS18': 86, 'SBS31': 1545},\n",
       "  'SBS31_1550': {'SBS1': 81, 'SBS5': 515, 'SBS18': 86, 'SBS31': 1550},\n",
       "  'SBS31_1555': {'SBS1': 80, 'SBS5': 511, 'SBS18': 85, 'SBS31': 1555},\n",
       "  'SBS31_1560': {'SBS1': 79, 'SBS5': 507, 'SBS18': 84, 'SBS31': 1560},\n",
       "  'SBS31_1565': {'SBS1': 79, 'SBS5': 504, 'SBS18': 84, 'SBS31': 1565},\n",
       "  'SBS31_1570': {'SBS1': 78, 'SBS5': 500, 'SBS18': 83, 'SBS31': 1570},\n",
       "  'SBS31_1575': {'SBS1': 78, 'SBS5': 496, 'SBS18': 82, 'SBS31': 1575},\n",
       "  'SBS31_1580': {'SBS1': 77, 'SBS5': 492, 'SBS18': 82, 'SBS31': 1580},\n",
       "  'SBS31_1585': {'SBS1': 76, 'SBS5': 488, 'SBS18': 81, 'SBS31': 1585},\n",
       "  'SBS31_1590': {'SBS1': 76, 'SBS5': 485, 'SBS18': 81, 'SBS31': 1590},\n",
       "  'SBS31_1595': {'SBS1': 75, 'SBS5': 481, 'SBS18': 80, 'SBS31': 1595}}}"
      ]
     },
     "metadata": {},
     "output_type": "display_data"
    }
   ],
   "source": [
    "# samples from case1 (WGS analysis) need a bigger range for the injections (up to 1600)\n",
    "pt1_samples_dict = {}\n",
    "sample = 'AQ5187_vs_AQ5175'\n",
    "samples_dict = {}\n",
    "for muts in tqdm(range(0,1600,5)):\n",
    "    df1 = SBS31_df[SBS31_df.index==sample]\n",
    "    sig_cols = df1.columns\n",
    "    df1['Total_muts'] = df1[sig_cols].sum(axis=1)\n",
    "    if muts > df1['Total_muts'][0]:\n",
    "        break\n",
    "    else:\n",
    "        df1['SBS31'] = muts\n",
    "        sig_cols = [sig for sig in sig_cols if sig != 'SBS31']\n",
    "        df1['Total_muts_no_sbs31'] = df1[sig_cols].sum(axis=1)\n",
    "        df1['Total_muts_no_sbs31'] = df1['Total_muts_no_sbs31']\n",
    "\n",
    "        for sig in sig_cols:\n",
    "            df1[sig] = df1.apply(lambda row: int(round(row[sig]/row['Total_muts_no_sbs31']*(row['Total_muts']-muts),0)),axis=1)\n",
    "        sigs = ['SBS1', 'SBS2', 'SBS5', 'SBS13', 'SBS18', 'SBS40', 'SBS45', 'SBS31']\n",
    "        sample_dict = df1[sigs].to_dict(orient='list')\n",
    "        sample_dict = {s:sample_dict[s][0] for s in sample_dict.keys() if sample_dict[s][0]!=0}\n",
    "        samples_dict['SBS31_'+(str(muts))] = sample_dict\n",
    "pt1_samples_dict[sample] = samples_dict\n",
    "display(pt1_samples_dict)"
   ]
  },
  {
   "cell_type": "code",
   "execution_count": 16,
   "id": "3504546c",
   "metadata": {},
   "outputs": [],
   "source": [
    "file = './synthetic_samples_sensitibity/all_samples_dict.json'\n",
    "json.dump(all_samples_dict,open(file,'w'))\n",
    "file = './synthetic_samples_sensitibity/case1_samples_dict.json'\n",
    "json.dump(pt1_samples_dict,open(file,'w'))"
   ]
  },
  {
   "cell_type": "markdown",
   "id": "b46b421b",
   "metadata": {},
   "source": [
    "### COSMIC signature probabilities"
   ]
  },
  {
   "cell_type": "code",
   "execution_count": 13,
   "id": "0806c1e2",
   "metadata": {},
   "outputs": [
    {
     "data": {
      "text/html": [
       "<div>\n",
       "<style scoped>\n",
       "    .dataframe tbody tr th:only-of-type {\n",
       "        vertical-align: middle;\n",
       "    }\n",
       "\n",
       "    .dataframe tbody tr th {\n",
       "        vertical-align: top;\n",
       "    }\n",
       "\n",
       "    .dataframe thead th {\n",
       "        text-align: right;\n",
       "    }\n",
       "</style>\n",
       "<table border=\"1\" class=\"dataframe\">\n",
       "  <thead>\n",
       "    <tr style=\"text-align: right;\">\n",
       "      <th></th>\n",
       "      <th>SBS1</th>\n",
       "      <th>SBS2</th>\n",
       "      <th>SBS5</th>\n",
       "      <th>SBS13</th>\n",
       "      <th>SBS18</th>\n",
       "      <th>SBS40</th>\n",
       "      <th>SBS45</th>\n",
       "      <th>SBS31</th>\n",
       "    </tr>\n",
       "    <tr>\n",
       "      <th>channel</th>\n",
       "      <th></th>\n",
       "      <th></th>\n",
       "      <th></th>\n",
       "      <th></th>\n",
       "      <th></th>\n",
       "      <th></th>\n",
       "      <th></th>\n",
       "      <th></th>\n",
       "    </tr>\n",
       "  </thead>\n",
       "  <tbody>\n",
       "    <tr>\n",
       "      <th>ACAA</th>\n",
       "      <td>8.760229e-04</td>\n",
       "      <td>5.790059e-07</td>\n",
       "      <td>0.012052</td>\n",
       "      <td>1.816879e-03</td>\n",
       "      <td>0.051688</td>\n",
       "      <td>0.028323</td>\n",
       "      <td>0.009178</td>\n",
       "      <td>0.009609</td>\n",
       "    </tr>\n",
       "    <tr>\n",
       "      <th>ACCA</th>\n",
       "      <td>2.220120e-03</td>\n",
       "      <td>1.455045e-04</td>\n",
       "      <td>0.009337</td>\n",
       "      <td>7.088425e-04</td>\n",
       "      <td>0.015617</td>\n",
       "      <td>0.013254</td>\n",
       "      <td>0.002828</td>\n",
       "      <td>0.018351</td>\n",
       "    </tr>\n",
       "    <tr>\n",
       "      <th>ACGA</th>\n",
       "      <td>1.797272e-04</td>\n",
       "      <td>5.361861e-05</td>\n",
       "      <td>0.001908</td>\n",
       "      <td>2.706559e-04</td>\n",
       "      <td>0.002505</td>\n",
       "      <td>0.003012</td>\n",
       "      <td>0.001717</td>\n",
       "      <td>0.001717</td>\n",
       "    </tr>\n",
       "    <tr>\n",
       "      <th>ACTA</th>\n",
       "      <td>1.265053e-03</td>\n",
       "      <td>9.759122e-05</td>\n",
       "      <td>0.006636</td>\n",
       "      <td>3.472568e-04</td>\n",
       "      <td>0.021469</td>\n",
       "      <td>0.014858</td>\n",
       "      <td>0.009708</td>\n",
       "      <td>0.006323</td>\n",
       "    </tr>\n",
       "    <tr>\n",
       "      <th>CCAA</th>\n",
       "      <td>3.050262e-04</td>\n",
       "      <td>2.053143e-04</td>\n",
       "      <td>0.007379</td>\n",
       "      <td>1.381922e-03</td>\n",
       "      <td>0.073437</td>\n",
       "      <td>0.020657</td>\n",
       "      <td>0.237080</td>\n",
       "      <td>0.010657</td>\n",
       "    </tr>\n",
       "    <tr>\n",
       "      <th>...</th>\n",
       "      <td>...</td>\n",
       "      <td>...</td>\n",
       "      <td>...</td>\n",
       "      <td>...</td>\n",
       "      <td>...</td>\n",
       "      <td>...</td>\n",
       "      <td>...</td>\n",
       "      <td>...</td>\n",
       "    </tr>\n",
       "    <tr>\n",
       "      <th>GTTG</th>\n",
       "      <td>1.455855e-05</td>\n",
       "      <td>2.245140e-16</td>\n",
       "      <td>0.002380</td>\n",
       "      <td>2.909618e-06</td>\n",
       "      <td>0.002166</td>\n",
       "      <td>0.005551</td>\n",
       "      <td>0.000504</td>\n",
       "      <td>0.002854</td>\n",
       "    </tr>\n",
       "    <tr>\n",
       "      <th>TTAG</th>\n",
       "      <td>2.165410e-16</td>\n",
       "      <td>1.637288e-05</td>\n",
       "      <td>0.005149</td>\n",
       "      <td>1.803956e-04</td>\n",
       "      <td>0.000686</td>\n",
       "      <td>0.008345</td>\n",
       "      <td>0.000282</td>\n",
       "      <td>0.002226</td>\n",
       "    </tr>\n",
       "    <tr>\n",
       "      <th>TTCG</th>\n",
       "      <td>5.521334e-05</td>\n",
       "      <td>7.122596e-05</td>\n",
       "      <td>0.006677</td>\n",
       "      <td>2.246044e-16</td>\n",
       "      <td>0.002136</td>\n",
       "      <td>0.011604</td>\n",
       "      <td>0.000138</td>\n",
       "      <td>0.002430</td>\n",
       "    </tr>\n",
       "    <tr>\n",
       "      <th>TTGG</th>\n",
       "      <td>5.776138e-04</td>\n",
       "      <td>9.543127e-05</td>\n",
       "      <td>0.006984</td>\n",
       "      <td>3.671200e-05</td>\n",
       "      <td>0.001458</td>\n",
       "      <td>0.008716</td>\n",
       "      <td>0.000715</td>\n",
       "      <td>0.005400</td>\n",
       "    </tr>\n",
       "    <tr>\n",
       "      <th>TTTG</th>\n",
       "      <td>2.201263e-16</td>\n",
       "      <td>2.222518e-16</td>\n",
       "      <td>0.013536</td>\n",
       "      <td>1.883657e-05</td>\n",
       "      <td>0.005170</td>\n",
       "      <td>0.025068</td>\n",
       "      <td>0.000728</td>\n",
       "      <td>0.007341</td>\n",
       "    </tr>\n",
       "  </tbody>\n",
       "</table>\n",
       "<p>96 rows × 8 columns</p>\n",
       "</div>"
      ],
      "text/plain": [
       "                 SBS1          SBS2      SBS5         SBS13     SBS18  \\\n",
       "channel                                                                 \n",
       "ACAA     8.760229e-04  5.790059e-07  0.012052  1.816879e-03  0.051688   \n",
       "ACCA     2.220120e-03  1.455045e-04  0.009337  7.088425e-04  0.015617   \n",
       "ACGA     1.797272e-04  5.361861e-05  0.001908  2.706559e-04  0.002505   \n",
       "ACTA     1.265053e-03  9.759122e-05  0.006636  3.472568e-04  0.021469   \n",
       "CCAA     3.050262e-04  2.053143e-04  0.007379  1.381922e-03  0.073437   \n",
       "...               ...           ...       ...           ...       ...   \n",
       "GTTG     1.455855e-05  2.245140e-16  0.002380  2.909618e-06  0.002166   \n",
       "TTAG     2.165410e-16  1.637288e-05  0.005149  1.803956e-04  0.000686   \n",
       "TTCG     5.521334e-05  7.122596e-05  0.006677  2.246044e-16  0.002136   \n",
       "TTGG     5.776138e-04  9.543127e-05  0.006984  3.671200e-05  0.001458   \n",
       "TTTG     2.201263e-16  2.222518e-16  0.013536  1.883657e-05  0.005170   \n",
       "\n",
       "            SBS40     SBS45     SBS31  \n",
       "channel                                \n",
       "ACAA     0.028323  0.009178  0.009609  \n",
       "ACCA     0.013254  0.002828  0.018351  \n",
       "ACGA     0.003012  0.001717  0.001717  \n",
       "ACTA     0.014858  0.009708  0.006323  \n",
       "CCAA     0.020657  0.237080  0.010657  \n",
       "...           ...       ...       ...  \n",
       "GTTG     0.005551  0.000504  0.002854  \n",
       "TTAG     0.008345  0.000282  0.002226  \n",
       "TTCG     0.011604  0.000138  0.002430  \n",
       "TTGG     0.008716  0.000715  0.005400  \n",
       "TTTG     0.025068  0.000728  0.007341  \n",
       "\n",
       "[96 rows x 8 columns]"
      ]
     },
     "execution_count": 13,
     "metadata": {},
     "output_type": "execute_result"
    }
   ],
   "source": [
    "cosmic_df = pd.read_csv('../../wgs_analysis/tumor_vs_blood/signature_analysis/data/COSMIC_v3.3.1_SBS_GRCh38.txt',sep='\\t')\n",
    "cosmic_df['channel'] = cosmic_df['Type'].apply(lambda x: x[0]+x[2]+x[6]+x[4])\n",
    "cosmic_df.set_index('channel',inplace=True)\n",
    "cosmic_df.drop('Type',inplace=True,axis=1)\n",
    "df = pd.read_csv('./msigact/AU2198/count_matrix.tsv',sep='\\t')\n",
    "order_channels = df['Unnamed: 0'].tolist()\n",
    "cosmic_df = cosmic_df.reindex(order_channels)\n",
    "cosmic_df[sigs]"
   ]
  },
  {
   "cell_type": "markdown",
   "id": "59318785",
   "metadata": {},
   "source": [
    "### Generate synthetic samples"
   ]
  },
  {
   "cell_type": "code",
   "execution_count": 184,
   "id": "c646b0fb",
   "metadata": {
    "scrolled": true
   },
   "outputs": [
    {
     "data": {
      "application/vnd.jupyter.widget-view+json": {
       "model_id": "91470ecbc59a44239776286b258a108c",
       "version_major": 2,
       "version_minor": 0
      },
      "text/plain": [
       "HBox(children=(HTML(value=''), FloatProgress(value=0.0, max=9.0), HTML(value='')))"
      ]
     },
     "metadata": {},
     "output_type": "display_data"
    },
    {
     "name": "stdout",
     "output_type": "stream",
     "text": [
      "AU2198\n"
     ]
    },
    {
     "data": {
      "application/vnd.jupyter.widget-view+json": {
       "model_id": "a153499968e5477c8d9ad9d0ff718d02",
       "version_major": 2,
       "version_minor": 0
      },
      "text/plain": [
       "HBox(children=(HTML(value=''), FloatProgress(value=0.0, max=90.0), HTML(value='')))"
      ]
     },
     "metadata": {},
     "output_type": "display_data"
    },
    {
     "name": "stdout",
     "output_type": "stream",
     "text": [
      "\n",
      "Total number of muts per sample:\n"
     ]
    },
    {
     "data": {
      "text/plain": [
       "SAMPLE_SBS31_0_1        448\n",
       "SAMPLE_SBS31_0_2        448\n",
       "SAMPLE_SBS31_0_3        448\n",
       "SAMPLE_SBS31_0_4        448\n",
       "SAMPLE_SBS31_0_5        448\n",
       "                       ... \n",
       "SAMPLE_SBS31_445_96     447\n",
       "SAMPLE_SBS31_445_97     447\n",
       "SAMPLE_SBS31_445_98     447\n",
       "SAMPLE_SBS31_445_99     447\n",
       "SAMPLE_SBS31_445_100    447\n",
       "Length: 9000, dtype: int64"
      ]
     },
     "metadata": {},
     "output_type": "display_data"
    },
    {
     "name": "stdout",
     "output_type": "stream",
     "text": [
      "AZ4609\n"
     ]
    },
    {
     "data": {
      "application/vnd.jupyter.widget-view+json": {
       "model_id": "5e99089098ce4ffba938b6e8bfa788b1",
       "version_major": 2,
       "version_minor": 0
      },
      "text/plain": [
       "HBox(children=(HTML(value=''), FloatProgress(value=0.0), HTML(value='')))"
      ]
     },
     "metadata": {},
     "output_type": "display_data"
    },
    {
     "name": "stdout",
     "output_type": "stream",
     "text": [
      "\n",
      "Total number of muts per sample:\n"
     ]
    },
    {
     "data": {
      "text/plain": [
       "SAMPLE_SBS31_0_1        1106\n",
       "SAMPLE_SBS31_0_2        1106\n",
       "SAMPLE_SBS31_0_3        1106\n",
       "SAMPLE_SBS31_0_4        1106\n",
       "SAMPLE_SBS31_0_5        1106\n",
       "                        ... \n",
       "SAMPLE_SBS31_495_96     1106\n",
       "SAMPLE_SBS31_495_97     1106\n",
       "SAMPLE_SBS31_495_98     1106\n",
       "SAMPLE_SBS31_495_99     1106\n",
       "SAMPLE_SBS31_495_100    1106\n",
       "Length: 10000, dtype: int64"
      ]
     },
     "metadata": {},
     "output_type": "display_data"
    },
    {
     "name": "stdout",
     "output_type": "stream",
     "text": [
      "AZ4610\n"
     ]
    },
    {
     "data": {
      "application/vnd.jupyter.widget-view+json": {
       "model_id": "f25333044e8048fda5e718924169c269",
       "version_major": 2,
       "version_minor": 0
      },
      "text/plain": [
       "HBox(children=(HTML(value=''), FloatProgress(value=0.0), HTML(value='')))"
      ]
     },
     "metadata": {},
     "output_type": "display_data"
    },
    {
     "name": "stdout",
     "output_type": "stream",
     "text": [
      "\n",
      "Total number of muts per sample:\n"
     ]
    },
    {
     "data": {
      "text/plain": [
       "SAMPLE_SBS31_0_1        942\n",
       "SAMPLE_SBS31_0_2        942\n",
       "SAMPLE_SBS31_0_3        942\n",
       "SAMPLE_SBS31_0_4        942\n",
       "SAMPLE_SBS31_0_5        942\n",
       "                       ... \n",
       "SAMPLE_SBS31_495_96     942\n",
       "SAMPLE_SBS31_495_97     942\n",
       "SAMPLE_SBS31_495_98     942\n",
       "SAMPLE_SBS31_495_99     942\n",
       "SAMPLE_SBS31_495_100    942\n",
       "Length: 10000, dtype: int64"
      ]
     },
     "metadata": {},
     "output_type": "display_data"
    },
    {
     "name": "stdout",
     "output_type": "stream",
     "text": [
      "AZ4611\n"
     ]
    },
    {
     "data": {
      "application/vnd.jupyter.widget-view+json": {
       "model_id": "33f6fdaf026849778b59bb0b3ffc6eac",
       "version_major": 2,
       "version_minor": 0
      },
      "text/plain": [
       "HBox(children=(HTML(value=''), FloatProgress(value=0.0), HTML(value='')))"
      ]
     },
     "metadata": {},
     "output_type": "display_data"
    },
    {
     "name": "stdout",
     "output_type": "stream",
     "text": [
      "\n",
      "Total number of muts per sample:\n"
     ]
    },
    {
     "data": {
      "text/plain": [
       "SAMPLE_SBS31_0_1        512\n",
       "SAMPLE_SBS31_0_2        512\n",
       "SAMPLE_SBS31_0_3        512\n",
       "SAMPLE_SBS31_0_4        512\n",
       "SAMPLE_SBS31_0_5        512\n",
       "                       ... \n",
       "SAMPLE_SBS31_495_96     513\n",
       "SAMPLE_SBS31_495_97     513\n",
       "SAMPLE_SBS31_495_98     513\n",
       "SAMPLE_SBS31_495_99     513\n",
       "SAMPLE_SBS31_495_100    513\n",
       "Length: 10000, dtype: int64"
      ]
     },
     "metadata": {},
     "output_type": "display_data"
    },
    {
     "name": "stdout",
     "output_type": "stream",
     "text": [
      "AZ4612\n"
     ]
    },
    {
     "data": {
      "application/vnd.jupyter.widget-view+json": {
       "model_id": "6e106f2e467440be8a766f1ae14eb85e",
       "version_major": 2,
       "version_minor": 0
      },
      "text/plain": [
       "HBox(children=(HTML(value=''), FloatProgress(value=0.0), HTML(value='')))"
      ]
     },
     "metadata": {},
     "output_type": "display_data"
    },
    {
     "name": "stdout",
     "output_type": "stream",
     "text": [
      "\n",
      "Total number of muts per sample:\n"
     ]
    },
    {
     "data": {
      "text/plain": [
       "SAMPLE_SBS31_0_1        776\n",
       "SAMPLE_SBS31_0_2        776\n",
       "SAMPLE_SBS31_0_3        776\n",
       "SAMPLE_SBS31_0_4        776\n",
       "SAMPLE_SBS31_0_5        776\n",
       "                       ... \n",
       "SAMPLE_SBS31_495_96     776\n",
       "SAMPLE_SBS31_495_97     776\n",
       "SAMPLE_SBS31_495_98     776\n",
       "SAMPLE_SBS31_495_99     776\n",
       "SAMPLE_SBS31_495_100    776\n",
       "Length: 10000, dtype: int64"
      ]
     },
     "metadata": {},
     "output_type": "display_data"
    },
    {
     "name": "stdout",
     "output_type": "stream",
     "text": [
      "AZ4613\n"
     ]
    },
    {
     "data": {
      "application/vnd.jupyter.widget-view+json": {
       "model_id": "6d027eec467f4018b7120488ffac11fa",
       "version_major": 2,
       "version_minor": 0
      },
      "text/plain": [
       "HBox(children=(HTML(value=''), FloatProgress(value=0.0, max=80.0), HTML(value='')))"
      ]
     },
     "metadata": {},
     "output_type": "display_data"
    },
    {
     "name": "stdout",
     "output_type": "stream",
     "text": [
      "\n",
      "Total number of muts per sample:\n"
     ]
    },
    {
     "data": {
      "text/plain": [
       "SAMPLE_SBS31_0_1        398\n",
       "SAMPLE_SBS31_0_2        398\n",
       "SAMPLE_SBS31_0_3        398\n",
       "SAMPLE_SBS31_0_4        398\n",
       "SAMPLE_SBS31_0_5        398\n",
       "                       ... \n",
       "SAMPLE_SBS31_395_96     398\n",
       "SAMPLE_SBS31_395_97     398\n",
       "SAMPLE_SBS31_395_98     398\n",
       "SAMPLE_SBS31_395_99     398\n",
       "SAMPLE_SBS31_395_100    398\n",
       "Length: 8000, dtype: int64"
      ]
     },
     "metadata": {},
     "output_type": "display_data"
    },
    {
     "name": "stdout",
     "output_type": "stream",
     "text": [
      "AZ4614\n"
     ]
    },
    {
     "data": {
      "application/vnd.jupyter.widget-view+json": {
       "model_id": "8f508dd14fd74b219bd5e7a4090598bb",
       "version_major": 2,
       "version_minor": 0
      },
      "text/plain": [
       "HBox(children=(HTML(value=''), FloatProgress(value=0.0, max=67.0), HTML(value='')))"
      ]
     },
     "metadata": {},
     "output_type": "display_data"
    },
    {
     "name": "stdout",
     "output_type": "stream",
     "text": [
      "\n",
      "Total number of muts per sample:\n"
     ]
    },
    {
     "data": {
      "text/plain": [
       "SAMPLE_SBS31_0_1        333\n",
       "SAMPLE_SBS31_0_2        333\n",
       "SAMPLE_SBS31_0_3        333\n",
       "SAMPLE_SBS31_0_4        333\n",
       "SAMPLE_SBS31_0_5        333\n",
       "                       ... \n",
       "SAMPLE_SBS31_330_96     333\n",
       "SAMPLE_SBS31_330_97     333\n",
       "SAMPLE_SBS31_330_98     333\n",
       "SAMPLE_SBS31_330_99     333\n",
       "SAMPLE_SBS31_330_100    333\n",
       "Length: 6700, dtype: int64"
      ]
     },
     "metadata": {},
     "output_type": "display_data"
    },
    {
     "name": "stdout",
     "output_type": "stream",
     "text": [
      "AZ6342\n"
     ]
    },
    {
     "data": {
      "application/vnd.jupyter.widget-view+json": {
       "model_id": "bd7a6cd41e3643459930bc69e02840ce",
       "version_major": 2,
       "version_minor": 0
      },
      "text/plain": [
       "HBox(children=(HTML(value=''), FloatProgress(value=0.0, max=33.0), HTML(value='')))"
      ]
     },
     "metadata": {},
     "output_type": "display_data"
    },
    {
     "name": "stdout",
     "output_type": "stream",
     "text": [
      "\n",
      "Total number of muts per sample:\n"
     ]
    },
    {
     "data": {
      "text/plain": [
       "SAMPLE_SBS31_0_1        164\n",
       "SAMPLE_SBS31_0_2        164\n",
       "SAMPLE_SBS31_0_3        164\n",
       "SAMPLE_SBS31_0_4        164\n",
       "SAMPLE_SBS31_0_5        164\n",
       "                       ... \n",
       "SAMPLE_SBS31_160_96     164\n",
       "SAMPLE_SBS31_160_97     164\n",
       "SAMPLE_SBS31_160_98     164\n",
       "SAMPLE_SBS31_160_99     164\n",
       "SAMPLE_SBS31_160_100    164\n",
       "Length: 3300, dtype: int64"
      ]
     },
     "metadata": {},
     "output_type": "display_data"
    },
    {
     "name": "stdout",
     "output_type": "stream",
     "text": [
      "AZ6371\n"
     ]
    },
    {
     "data": {
      "application/vnd.jupyter.widget-view+json": {
       "model_id": "42d2ab2d4b914856aa9f26a401d8a3fd",
       "version_major": 2,
       "version_minor": 0
      },
      "text/plain": [
       "HBox(children=(HTML(value=''), FloatProgress(value=0.0, max=13.0), HTML(value='')))"
      ]
     },
     "metadata": {},
     "output_type": "display_data"
    },
    {
     "name": "stdout",
     "output_type": "stream",
     "text": [
      "\n",
      "Total number of muts per sample:\n"
     ]
    },
    {
     "data": {
      "text/plain": [
       "SAMPLE_SBS31_0_1       62\n",
       "SAMPLE_SBS31_0_2       62\n",
       "SAMPLE_SBS31_0_3       62\n",
       "SAMPLE_SBS31_0_4       62\n",
       "SAMPLE_SBS31_0_5       62\n",
       "                       ..\n",
       "SAMPLE_SBS31_60_96     62\n",
       "SAMPLE_SBS31_60_97     62\n",
       "SAMPLE_SBS31_60_98     62\n",
       "SAMPLE_SBS31_60_99     62\n",
       "SAMPLE_SBS31_60_100    62\n",
       "Length: 1300, dtype: int64"
      ]
     },
     "metadata": {},
     "output_type": "display_data"
    },
    {
     "name": "stdout",
     "output_type": "stream",
     "text": [
      "\n"
     ]
    }
   ],
   "source": [
    "#all samples (except case1)\n",
    "path = './synthetic_samples_sensitibity/'\n",
    "channels = cosmic_df.index\n",
    "synth_samples_dict = {}\n",
    "for sample_id in tqdm(all_samples_dict.keys()):\n",
    "    print(sample_id)\n",
    "    synth_samples_df = pd.DataFrame(index=channels)\n",
    "    synth_samples = []\n",
    "    samples_dict = all_samples_dict[sample_id]\n",
    "    for muts in tqdm(samples_dict.keys()):\n",
    "        for i in range(1,101):\n",
    "            synth_sample = {channel:0 for channel in channels}\n",
    "            muts_dict = samples_dict[muts]\n",
    "            for sig in muts_dict.keys():\n",
    "                num_muts = muts_dict[sig]\n",
    "                probability_vector = cosmic_df[sig].tolist()\n",
    "\n",
    "                counts = np.random.choice(channels,p=probability_vector,size=num_muts)\n",
    "                sig_counts = {channel:np.count_nonzero(counts==channel) for channel in channels}\n",
    "                synth_sample = {channel:(synth_sample[channel]+sig_counts[channel]) for channel in channels}\n",
    "            synth_samples_df['SAMPLE_'+str(muts)+'_'+str(i)] = synth_samples_df.index.map(synth_sample)\n",
    "            synth_samples.append(synth_sample)\n",
    "    synth_samples_dict[sample_id] = synth_samples\n",
    "    print('Total number of muts per sample:')\n",
    "    display(synth_samples_df.sum())\n",
    "    if not os.path.exists(path+sample_id):\n",
    "        os.makedirs(path+sample_id)\n",
    "    synth_samples_df.to_csv(path+sample_id+'/count_matrix.tsv',sep='\\t')"
   ]
  },
  {
   "cell_type": "code",
   "execution_count": 185,
   "id": "c172deb8",
   "metadata": {
    "scrolled": true
   },
   "outputs": [
    {
     "data": {
      "application/vnd.jupyter.widget-view+json": {
       "model_id": "c684c64a496d4f30af3bd0c0764640e8",
       "version_major": 2,
       "version_minor": 0
      },
      "text/plain": [
       "HBox(children=(HTML(value=''), FloatProgress(value=0.0, max=1.0), HTML(value='')))"
      ]
     },
     "metadata": {},
     "output_type": "display_data"
    },
    {
     "name": "stdout",
     "output_type": "stream",
     "text": [
      "AQ5187_vs_AQ5175\n"
     ]
    },
    {
     "data": {
      "application/vnd.jupyter.widget-view+json": {
       "model_id": "b5bccef7f3b847c593e650bae143c4e9",
       "version_major": 2,
       "version_minor": 0
      },
      "text/plain": [
       "HBox(children=(HTML(value=''), FloatProgress(value=0.0, max=320.0), HTML(value='')))"
      ]
     },
     "metadata": {},
     "output_type": "display_data"
    },
    {
     "name": "stdout",
     "output_type": "stream",
     "text": [
      "\n",
      "Total number of muts per sample:\n"
     ]
    },
    {
     "data": {
      "text/plain": [
       "SAMPLE_SBS31_0_1         2231\n",
       "SAMPLE_SBS31_0_2         2231\n",
       "SAMPLE_SBS31_0_3         2231\n",
       "SAMPLE_SBS31_0_4         2231\n",
       "SAMPLE_SBS31_0_5         2231\n",
       "                         ... \n",
       "SAMPLE_SBS31_1595_96     2231\n",
       "SAMPLE_SBS31_1595_97     2231\n",
       "SAMPLE_SBS31_1595_98     2231\n",
       "SAMPLE_SBS31_1595_99     2231\n",
       "SAMPLE_SBS31_1595_100    2231\n",
       "Length: 32000, dtype: int64"
      ]
     },
     "metadata": {},
     "output_type": "display_data"
    },
    {
     "name": "stdout",
     "output_type": "stream",
     "text": [
      "\n"
     ]
    }
   ],
   "source": [
    "#case1 samples\n",
    "path = './synthetic_samples_sensitibity/'\n",
    "channels = cosmic_df.index\n",
    "synth_samples_dict = {}\n",
    "for sample_id in tqdm(pt1_samples_dict.keys()):\n",
    "    print(sample_id)\n",
    "    synth_samples_df = pd.DataFrame(index=channels)\n",
    "    synth_samples = []\n",
    "    samples_dict = pt1_samples_dict[sample_id]\n",
    "    for muts in tqdm(samples_dict.keys()):\n",
    "        for i in range(1,101):\n",
    "            synth_sample = {channel:0 for channel in channels}\n",
    "            muts_dict = samples_dict[muts]\n",
    "            for sig in muts_dict.keys():\n",
    "                num_muts = muts_dict[sig]\n",
    "                probability_vector = cosmic_df[sig].tolist()\n",
    "\n",
    "                counts = np.random.choice(channels,p=probability_vector,size=num_muts)\n",
    "                sig_counts = {channel:np.count_nonzero(counts==channel) for channel in channels}\n",
    "                synth_sample = {channel:(synth_sample[channel]+sig_counts[channel]) for channel in channels}\n",
    "            synth_samples_df['SAMPLE_'+str(muts)+'_'+str(i)] = synth_samples_df.index.map(synth_sample)\n",
    "            synth_samples.append(synth_sample)\n",
    "    synth_samples_dict[sample_id] = synth_samples\n",
    "    print('Total number of muts per sample:')\n",
    "    display(synth_samples_df.sum())\n",
    "    if not os.path.exists(path+sample_id):\n",
    "        os.makedirs(path+sample_id)\n",
    "    synth_samples_df.to_csv(path+sample_id+'/count_matrix.tsv',sep='\\t')"
   ]
  },
  {
   "cell_type": "markdown",
   "id": "256f56db",
   "metadata": {},
   "source": [
    "### Run signature tables and mSigAct with qmap\n",
    "\n",
    "Run the qmaps prepared in this notebook (synthetic sensitibity): ```qmap_msigact.ipynb```"
   ]
  },
  {
   "cell_type": "markdown",
   "id": "57465fb3",
   "metadata": {},
   "source": [
    "### Check results msigact"
   ]
  },
  {
   "cell_type": "code",
   "execution_count": 17,
   "id": "eebd7b87",
   "metadata": {},
   "outputs": [],
   "source": [
    "import pandas as pd\n",
    "import seaborn as sns\n",
    "import matplotlib.pyplot as plt\n",
    "from scipy import stats"
   ]
  },
  {
   "cell_type": "code",
   "execution_count": 18,
   "id": "b9ea7a32",
   "metadata": {},
   "outputs": [],
   "source": [
    "samples_name_dict = {'AU2198':'Case 2, Blood',\n",
    "                    'AZ4609':'Case 3, Kidney',\n",
    "                    'AZ4610':'Case 3, Liver',\n",
    "                    'AZ4611':'Case 3, Pancreas',\n",
    "                    'AZ4612':'Case 3, Lung',\n",
    "                    'AZ4613':'Case 3, Spleen',\n",
    "                    'AZ4614':'Case 3, Bone Marrow',\n",
    "                    'AZ6342':'Non treated blood 1',\n",
    "                    'AZ6371':'Non treated blood 2',\n",
    "                    'AQ5187_vs_AQ5175':'Case 1, tAML'}"
   ]
  },
  {
   "cell_type": "markdown",
   "id": "3db3afa9",
   "metadata": {},
   "source": [
    "#### Check aging signatures"
   ]
  },
  {
   "cell_type": "code",
   "execution_count": 19,
   "id": "4d7f9ae5",
   "metadata": {},
   "outputs": [
    {
     "data": {
      "text/html": [
       "<div>\n",
       "<style scoped>\n",
       "    .dataframe tbody tr th:only-of-type {\n",
       "        vertical-align: middle;\n",
       "    }\n",
       "\n",
       "    .dataframe tbody tr th {\n",
       "        vertical-align: top;\n",
       "    }\n",
       "\n",
       "    .dataframe thead th {\n",
       "        text-align: right;\n",
       "    }\n",
       "</style>\n",
       "<table border=\"1\" class=\"dataframe\">\n",
       "  <thead>\n",
       "    <tr style=\"text-align: right;\">\n",
       "      <th></th>\n",
       "      <th>SBS1</th>\n",
       "      <th>SBS2</th>\n",
       "      <th>SBS5</th>\n",
       "      <th>SBS13</th>\n",
       "      <th>SBS18</th>\n",
       "      <th>SBS40</th>\n",
       "      <th>SBS45</th>\n",
       "      <th>SBS31</th>\n",
       "    </tr>\n",
       "    <tr>\n",
       "      <th>sample_id</th>\n",
       "      <th></th>\n",
       "      <th></th>\n",
       "      <th></th>\n",
       "      <th></th>\n",
       "      <th></th>\n",
       "      <th></th>\n",
       "      <th></th>\n",
       "      <th></th>\n",
       "    </tr>\n",
       "  </thead>\n",
       "  <tbody>\n",
       "    <tr>\n",
       "      <th>AU2198</th>\n",
       "      <td>24.976048</td>\n",
       "      <td>22.018771</td>\n",
       "      <td>0.000000</td>\n",
       "      <td>0.0</td>\n",
       "      <td>0.000000</td>\n",
       "      <td>0.000000</td>\n",
       "      <td>131.877055</td>\n",
       "      <td>269.128127</td>\n",
       "    </tr>\n",
       "    <tr>\n",
       "      <th>AZ4609</th>\n",
       "      <td>0.000000</td>\n",
       "      <td>0.000000</td>\n",
       "      <td>263.598884</td>\n",
       "      <td>0.0</td>\n",
       "      <td>235.830685</td>\n",
       "      <td>422.591756</td>\n",
       "      <td>0.000000</td>\n",
       "      <td>183.978674</td>\n",
       "    </tr>\n",
       "    <tr>\n",
       "      <th>AZ4610</th>\n",
       "      <td>0.000000</td>\n",
       "      <td>0.000000</td>\n",
       "      <td>238.573374</td>\n",
       "      <td>0.0</td>\n",
       "      <td>0.000000</td>\n",
       "      <td>346.897460</td>\n",
       "      <td>119.276185</td>\n",
       "      <td>237.252982</td>\n",
       "    </tr>\n",
       "    <tr>\n",
       "      <th>AZ4611</th>\n",
       "      <td>0.000000</td>\n",
       "      <td>0.000000</td>\n",
       "      <td>198.328457</td>\n",
       "      <td>0.0</td>\n",
       "      <td>0.000000</td>\n",
       "      <td>144.365381</td>\n",
       "      <td>70.154947</td>\n",
       "      <td>100.151215</td>\n",
       "    </tr>\n",
       "    <tr>\n",
       "      <th>AZ4612</th>\n",
       "      <td>28.012395</td>\n",
       "      <td>0.000000</td>\n",
       "      <td>0.000000</td>\n",
       "      <td>0.0</td>\n",
       "      <td>0.000000</td>\n",
       "      <td>641.733676</td>\n",
       "      <td>0.000000</td>\n",
       "      <td>106.253928</td>\n",
       "    </tr>\n",
       "    <tr>\n",
       "      <th>AZ4613</th>\n",
       "      <td>0.000000</td>\n",
       "      <td>18.440010</td>\n",
       "      <td>0.000000</td>\n",
       "      <td>0.0</td>\n",
       "      <td>0.000000</td>\n",
       "      <td>262.810710</td>\n",
       "      <td>0.000000</td>\n",
       "      <td>116.749280</td>\n",
       "    </tr>\n",
       "    <tr>\n",
       "      <th>AZ4614</th>\n",
       "      <td>0.000000</td>\n",
       "      <td>0.000000</td>\n",
       "      <td>0.000000</td>\n",
       "      <td>0.0</td>\n",
       "      <td>83.727583</td>\n",
       "      <td>210.395296</td>\n",
       "      <td>0.000000</td>\n",
       "      <td>38.877122</td>\n",
       "    </tr>\n",
       "    <tr>\n",
       "      <th>AZ6342</th>\n",
       "      <td>0.000000</td>\n",
       "      <td>0.000000</td>\n",
       "      <td>105.186404</td>\n",
       "      <td>0.0</td>\n",
       "      <td>58.813596</td>\n",
       "      <td>0.000000</td>\n",
       "      <td>0.000000</td>\n",
       "      <td>0.000000</td>\n",
       "    </tr>\n",
       "    <tr>\n",
       "      <th>AZ6371</th>\n",
       "      <td>3.879510</td>\n",
       "      <td>0.000000</td>\n",
       "      <td>0.000000</td>\n",
       "      <td>0.0</td>\n",
       "      <td>0.000000</td>\n",
       "      <td>46.808768</td>\n",
       "      <td>0.000000</td>\n",
       "      <td>11.311722</td>\n",
       "    </tr>\n",
       "    <tr>\n",
       "      <th>AQ5187_vs_AQ5175</th>\n",
       "      <td>153.632827</td>\n",
       "      <td>0.000000</td>\n",
       "      <td>982.093386</td>\n",
       "      <td>0.0</td>\n",
       "      <td>163.313380</td>\n",
       "      <td>0.000000</td>\n",
       "      <td>0.000000</td>\n",
       "      <td>931.960407</td>\n",
       "    </tr>\n",
       "  </tbody>\n",
       "</table>\n",
       "</div>"
      ],
      "text/plain": [
       "                        SBS1       SBS2        SBS5  SBS13       SBS18  \\\n",
       "sample_id                                                                \n",
       "AU2198             24.976048  22.018771    0.000000    0.0    0.000000   \n",
       "AZ4609              0.000000   0.000000  263.598884    0.0  235.830685   \n",
       "AZ4610              0.000000   0.000000  238.573374    0.0    0.000000   \n",
       "AZ4611              0.000000   0.000000  198.328457    0.0    0.000000   \n",
       "AZ4612             28.012395   0.000000    0.000000    0.0    0.000000   \n",
       "AZ4613              0.000000  18.440010    0.000000    0.0    0.000000   \n",
       "AZ4614              0.000000   0.000000    0.000000    0.0   83.727583   \n",
       "AZ6342              0.000000   0.000000  105.186404    0.0   58.813596   \n",
       "AZ6371              3.879510   0.000000    0.000000    0.0    0.000000   \n",
       "AQ5187_vs_AQ5175  153.632827   0.000000  982.093386    0.0  163.313380   \n",
       "\n",
       "                       SBS40       SBS45       SBS31  \n",
       "sample_id                                             \n",
       "AU2198              0.000000  131.877055  269.128127  \n",
       "AZ4609            422.591756    0.000000  183.978674  \n",
       "AZ4610            346.897460  119.276185  237.252982  \n",
       "AZ4611            144.365381   70.154947  100.151215  \n",
       "AZ4612            641.733676    0.000000  106.253928  \n",
       "AZ4613            262.810710    0.000000  116.749280  \n",
       "AZ4614            210.395296    0.000000   38.877122  \n",
       "AZ6342              0.000000    0.000000    0.000000  \n",
       "AZ6371             46.808768    0.000000   11.311722  \n",
       "AQ5187_vs_AQ5175    0.000000    0.000000  931.960407  "
      ]
     },
     "execution_count": 19,
     "metadata": {},
     "output_type": "execute_result"
    }
   ],
   "source": [
    "SBS31_df"
   ]
  },
  {
   "cell_type": "code",
   "execution_count": 20,
   "id": "1fddaed2",
   "metadata": {},
   "outputs": [],
   "source": [
    "def capped_kde_pdf(data, x):\n",
    "    \n",
    "    min_ = min(data)\n",
    "    max_ = max(data)\n",
    "    \n",
    "    kde = stats.gaussian_kde(data, bw_method=2)\n",
    "    \n",
    "    if (x < min_) or (x > max_):\n",
    "        return 0\n",
    "    else:\n",
    "        return kde.pdf(x)[0]\n",
    "\n",
    "    \n",
    "def discrete_confidence_interval(observed, lookup_df, confidence_level):\n",
    "    \n",
    "    true_injected = list(map(int, lookup_df.columns))\n",
    "    xs = [observed] * lookup_df.shape[0]\n",
    "    p = np.array(list(map(lambda x: capped_kde_pdf(*x), zip(lookup_df.values.T, xs))))\n",
    "    p = p / sum(p)\n",
    "\n",
    "    sortindex = np.argsort(p)[::-1]\n",
    "    \n",
    "    acc = 0\n",
    "    ci = []\n",
    "    for i, a in enumerate(p[sortindex]):\n",
    "        acc += a\n",
    "        ci += [true_injected[sortindex[i]]]\n",
    "        if acc > confidence_level:\n",
    "            break\n",
    "    \n",
    "    ci_low = min(ci)\n",
    "    ci_high = max(ci)\n",
    "    return ci_low, ci_high"
   ]
  },
  {
   "cell_type": "code",
   "execution_count": 21,
   "id": "b6f0ff11",
   "metadata": {},
   "outputs": [],
   "source": [
    "\n",
    "def plot_injections_aging(all_samples_dict,sample,text_loc_y1,text_loc_y2,interval=100,x_min=0,x_max=None,y_max=None):\n",
    "    aging_sigs = ['SBS1','SBS5','SBS40']\n",
    "    msigact_value_aging = SBS31_df[aging_sigs][SBS31_df.index==sample].sum(axis=1)[0]\n",
    "    msigact_value_sbs31 = SBS31_df['SBS31'][SBS31_df.index==sample][0]\n",
    "    df = pd.read_csv('./synthetic_samples_sensitibity/'+sample+'/SBS31/results.count_matrix.tsv.mSigAct.SBS31.tsv',sep='\\t')\n",
    "    df = df.reset_index()\n",
    "    df['SBS31_injected'] = df['index'].apply(lambda x: 'SBS31_' + x.split('_')[2])\n",
    "    for aging_sig in aging_sigs:\n",
    "        df[aging_sig+'_injected'] = df['SBS31_injected'].apply(lambda x: all_samples_dict[sample][x][aging_sig] if aging_sig in all_samples_dict[sample][x].keys() else 0)\n",
    "    aging_sigs_cols = [sig + '_injected' for sig in aging_sigs if sig in all_samples_dict[sample]['SBS31_0'].keys() ]\n",
    "    df['aging_sigs_injected'] = df[aging_sigs_cols].sum(axis=1)\n",
    "    aging_sigs_cols = [sig for sig in aging_sigs if sig in all_samples_dict[sample]['SBS31_0'].keys() ]\n",
    "    df['aging_sigs_extracted'] = df[aging_sigs_cols].sum(axis=1)\n",
    "    \n",
    "    df['SBS31_injected_int'] = df['SBS31_injected'].str.split('_',expand=True)[1]\n",
    "    \n",
    "    injections = df['SBS31_injected_int'].unique()\n",
    "    injections = [int(inj) for inj in injections]\n",
    "    injections = sorted(injections)\n",
    "    if x_max != None:\n",
    "        injections = injections[x_min:x_max]\n",
    "    \n",
    "    df1 = pd.DataFrame()\n",
    "    for inj in injections:\n",
    "        df1[inj] = df['SBS31'][df['SBS31_injected_int']==str(inj)].tolist()\n",
    "    df1.boxplot(figsize=(19,3),grid=False,color='r')\n",
    "    \n",
    "    df2 = pd.DataFrame()\n",
    "    for inj in injections:\n",
    "        df2[inj] = df['aging_sigs_extracted'][df['SBS31_injected_int']==str(inj)].tolist()\n",
    "    df2.boxplot(figsize=(19,3),grid=False,color='b')\n",
    "    plt.xticks(rotation=90,size=10)\n",
    "    if y_max == None:\n",
    "        y_max = max(injections)+100\n",
    "    plt.yticks(list(range(0,(y_max),interval)),size=10)\n",
    "    plt.xlabel('Number of injected SBS31 mutations',size=14)\n",
    "    plt.ylabel('Number of inferred\\n mutations',size=12)\n",
    "    plt.title(samples_name_dict[sample],size=20)\n",
    "\n",
    "    plt.axhline(msigact_value_sbs31,color='r')\n",
    "    plt.text(x=1,y=(msigact_value_sbs31)+20,s=int(round(msigact_value_sbs31,0)),ha='left',color='r',size=12)\n",
    "    plt.axhline(msigact_value_aging,color='b')\n",
    "    plt.text(x=1,y=(msigact_value_aging)+20,s=int(round(msigact_value_aging,0)),ha='left',color='b',size=12)\n",
    "\n",
    "    print('Confidence interval sbs31:')\n",
    "    ci = discrete_confidence_interval(observed=msigact_value_sbs31, lookup_df=df1, confidence_level=0.95)\n",
    "    print(ci)\n",
    "    \n",
    "    ci_aging_high = df['aging_sigs_injected'][df['SBS31_injected_int']==str(ci[0])].iloc[0]\n",
    "    ci_aging_low = df['aging_sigs_injected'][df['SBS31_injected_int']==str(ci[1])].iloc[0]\n",
    "    print('Confidence interval aging:')\n",
    "    print(ci_aging_low,ci_aging_high)\n",
    "    \n",
    "    plt.axvline((ci[0]/5)+1-x_min,color='k')\n",
    "    plt.text(x=((ci[0]/5)+1.5)-x_min,y=text_loc_y1,s='ci-low\\n'+str(ci[0]),ha='left',va='top',color='r',size=12)\n",
    "    plt.text(x=((ci[0]/5)+1.5)-x_min,y=text_loc_y2,s='ci-high\\n'+str(ci_aging_low),ha='left',va='top',color='b',size=12)    \n",
    "\n",
    "    plt.axvline((ci[1]/5)+1-x_min,color='k')\n",
    "    plt.text(x=((ci[1]/5)+1.5)-x_min,y=text_loc_y1,s='ci-high\\n'+str(ci[1]),ha='left',va='top',color='r',size=12)\n",
    "    plt.text(x=((ci[1]/5)+1.5)-x_min,y=text_loc_y2,s='ci-low\\n'+str(ci_aging_high),ha='left',va='top',color='b',size=12)\n",
    "#    plt.show()\n",
    "    \n",
    "    return ci, (int(ci_aging_low),int(ci_aging_high))"
   ]
  },
  {
   "cell_type": "code",
   "execution_count": 22,
   "id": "d3810cfa",
   "metadata": {},
   "outputs": [],
   "source": [
    "ci_sbs31_dict = {}\n",
    "ci_aging_dict = {}"
   ]
  },
  {
   "cell_type": "code",
   "execution_count": 23,
   "id": "243fa859",
   "metadata": {
    "scrolled": true
   },
   "outputs": [
    {
     "name": "stdout",
     "output_type": "stream",
     "text": [
      "Confidence interval sbs31:\n",
      "(800, 1065)\n",
      "Confidence interval aging:\n",
      "1020 1251\n"
     ]
    },
    {
     "data": {
      "image/png": "[encoded data removed]",
      "text/plain": [
       "<Figure size 1368x216 with 1 Axes>"
      ]
     },
     "metadata": {},
     "output_type": "display_data"
    }
   ],
   "source": [
    "sample = 'AQ5187_vs_AQ5175'\n",
    "text_loc_y1 = 600\n",
    "text_loc_y2 = 300\n",
    "interval = 200\n",
    "x_min = 150\n",
    "x_max = 250\n",
    "y_max = 1510\n",
    "ci_sbs31, ci_aging = plot_injections_aging(pt1_samples_dict,sample,text_loc_y1,text_loc_y2,interval,x_min,x_max,y_max)\n",
    "ci_sbs31_dict[sample] = ci_sbs31\n",
    "ci_aging_dict[sample] = ci_aging\n",
    "sample_id = samples_name_dict[sample].replace(' ','_')\n",
    "plt.savefig('./figures_paper/sensitibity_'+sample_id+'.png',dpi=300, format='png',transparent=True,bbox_inches='tight')\n"
   ]
  },
  {
   "cell_type": "code",
   "execution_count": 24,
   "id": "8d36d9f2",
   "metadata": {
    "scrolled": true
   },
   "outputs": [
    {
     "name": "stdout",
     "output_type": "stream",
     "text": [
      "Confidence interval sbs31:\n",
      "(250, 290)\n",
      "Confidence interval aging:\n",
      "22 28\n"
     ]
    },
    {
     "data": {
      "image/png": "[encoded data removed]",
      "text/plain": [
       "<Figure size 1368x216 with 1 Axes>"
      ]
     },
     "metadata": {},
     "output_type": "display_data"
    }
   ],
   "source": [
    "sample = 'AU2198'\n",
    "text_loc_y1 = 460\n",
    "text_loc_y2 = 180\n",
    "ci_sbs31, ci_aging = plot_injections_aging(all_samples_dict,sample,text_loc_y1, text_loc_y2)\n",
    "ci_sbs31_dict[sample] = ci_sbs31\n",
    "ci_aging_dict[sample] = ci_aging\n",
    "sample_id = samples_name_dict[sample].replace(' ','_')\n",
    "plt.savefig('./figures_paper/sensitibity_'+sample_id+'.png',dpi=300, format='png',transparent=True,bbox_inches='tight')\n"
   ]
  },
  {
   "cell_type": "code",
   "execution_count": 25,
   "id": "95958bfc",
   "metadata": {
    "scrolled": true
   },
   "outputs": [
    {
     "name": "stdout",
     "output_type": "stream",
     "text": [
      "Confidence interval sbs31:\n",
      "(125, 250)\n",
      "Confidence interval aging:\n",
      "637 730\n"
     ]
    },
    {
     "data": {
      "image/png": "[encoded data removed]",
      "text/plain": [
       "<Figure size 1368x216 with 1 Axes>"
      ]
     },
     "metadata": {},
     "output_type": "display_data"
    }
   ],
   "source": [
    "sample = 'AZ4609'\n",
    "text_loc_y1 = 1340\n",
    "text_loc_y2 = 1500\n",
    "interval = 200\n",
    "x_min = 0\n",
    "x_max = 500\n",
    "y_max = 1100\n",
    "ci_sbs31, ci_aging = plot_injections_aging(all_samples_dict,sample,text_loc_y1, text_loc_y2,interval,x_min,x_max,y_max)\n",
    "ci_sbs31_dict[sample] = ci_sbs31\n",
    "ci_aging_dict[sample] = ci_aging\n",
    "sample_id = samples_name_dict[sample].replace(' ','_')\n",
    "plt.savefig('./figures_paper/sensitibity_'+sample_id+'.png',dpi=300, format='png',transparent=True,bbox_inches='tight')\n"
   ]
  },
  {
   "cell_type": "code",
   "execution_count": 26,
   "id": "0b39c901",
   "metadata": {
    "scrolled": true
   },
   "outputs": [
    {
     "name": "stdout",
     "output_type": "stream",
     "text": [
      "Confidence interval sbs31:\n",
      "(165, 315)\n",
      "Confidence interval aging:\n",
      "521 645\n"
     ]
    },
    {
     "data": {
      "image/png": "[encoded data removed]",
      "text/plain": [
       "<Figure size 1368x216 with 1 Axes>"
      ]
     },
     "metadata": {},
     "output_type": "display_data"
    }
   ],
   "source": [
    "sample = 'AZ4610'\n",
    "text_loc_y1 = 950\n",
    "text_loc_y2 = 1200\n",
    "interval = 200\n",
    "x_min = 0\n",
    "x_max = 500\n",
    "y_max = 1100\n",
    "ci_sbs31, ci_aging = plot_injections_aging(all_samples_dict,sample,text_loc_y1, text_loc_y2,interval,x_min,x_max,y_max)\n",
    "ci_sbs31_dict[sample] = ci_sbs31\n",
    "ci_aging_dict[sample] = ci_aging\n",
    "sample_id = samples_name_dict[sample].replace(' ','_')\n",
    "plt.savefig('./figures_paper/sensitibity_'+sample_id+'.png',dpi=300, format='png',transparent=True,bbox_inches='tight')\n"
   ]
  },
  {
   "cell_type": "code",
   "execution_count": 27,
   "id": "400aa626",
   "metadata": {
    "scrolled": true
   },
   "outputs": [
    {
     "name": "stdout",
     "output_type": "stream",
     "text": [
      "Confidence interval sbs31:\n",
      "(60, 140)\n",
      "Confidence interval aging:\n",
      "309 376\n"
     ]
    },
    {
     "data": {
      "image/png": "[encoded data removed]",
      "text/plain": [
       "<Figure size 1368x216 with 1 Axes>"
      ]
     },
     "metadata": {},
     "output_type": "display_data"
    }
   ],
   "source": [
    "sample = 'AZ4611'\n",
    "text_loc_y1 = 650\n",
    "text_loc_y2 = 750\n",
    "interval = 100\n",
    "x_min = 0\n",
    "x_max = 500\n",
    "y_max = 550\n",
    "ci_sbs31, ci_aging = plot_injections_aging(all_samples_dict,sample,text_loc_y1, text_loc_y2,interval,x_min,x_max,y_max)\n",
    "ci_sbs31_dict[sample] = ci_sbs31\n",
    "ci_aging_dict[sample] = ci_aging\n",
    "sample_id = samples_name_dict[sample].replace(' ','_')\n",
    "plt.savefig('./figures_paper/sensitibity_'+sample_id+'.png',dpi=300, format='png',transparent=True,bbox_inches='tight')\n"
   ]
  },
  {
   "cell_type": "code",
   "execution_count": 28,
   "id": "cb65b6f2",
   "metadata": {
    "scrolled": true
   },
   "outputs": [
    {
     "name": "stdout",
     "output_type": "stream",
     "text": [
      "Confidence interval sbs31:\n",
      "(55, 155)\n",
      "Confidence interval aging:\n",
      "621 721\n"
     ]
    },
    {
     "ename": "NameError",
     "evalue": "name 'sample_i' is not defined",
     "output_type": "error",
     "traceback": [
      "\u001b[0;31m---------------------------------------------------------------------------\u001b[0m",
      "\u001b[0;31mNameError\u001b[0m                                 Traceback (most recent call last)",
      "\u001b[0;32m<ipython-input-28-a78adc8a3a78>\u001b[0m in \u001b[0;36m<module>\u001b[0;34m()\u001b[0m\n\u001b[1;32m     10\u001b[0m \u001b[0mci_aging_dict\u001b[0m\u001b[0;34m[\u001b[0m\u001b[0msample\u001b[0m\u001b[0;34m]\u001b[0m \u001b[0;34m=\u001b[0m \u001b[0mci_aging\u001b[0m\u001b[0;34m\u001b[0m\u001b[0;34m\u001b[0m\u001b[0m\n\u001b[1;32m     11\u001b[0m \u001b[0msample_id\u001b[0m \u001b[0;34m=\u001b[0m \u001b[0msamples_name_dict\u001b[0m\u001b[0;34m[\u001b[0m\u001b[0msample\u001b[0m\u001b[0;34m]\u001b[0m\u001b[0;34m.\u001b[0m\u001b[0mreplace\u001b[0m\u001b[0;34m(\u001b[0m\u001b[0;34m' '\u001b[0m\u001b[0;34m,\u001b[0m\u001b[0;34m'_'\u001b[0m\u001b[0;34m)\u001b[0m\u001b[0;34m\u001b[0m\u001b[0;34m\u001b[0m\u001b[0m\n\u001b[0;32m---> 12\u001b[0;31m \u001b[0mplt\u001b[0m\u001b[0;34m.\u001b[0m\u001b[0msavefig\u001b[0m\u001b[0;34m(\u001b[0m\u001b[0;34m'./figures_paper/sensitibity_'\u001b[0m\u001b[0;34m+\u001b[0m\u001b[0msample_i\u001b[0m\u001b[0;34m+\u001b[0m\u001b[0;34m'.png'\u001b[0m\u001b[0;34m,\u001b[0m\u001b[0mdpi\u001b[0m\u001b[0;34m=\u001b[0m\u001b[0;36m300\u001b[0m\u001b[0;34m,\u001b[0m \u001b[0mformat\u001b[0m\u001b[0;34m=\u001b[0m\u001b[0;34m'png'\u001b[0m\u001b[0;34m,\u001b[0m\u001b[0mtransparent\u001b[0m\u001b[0;34m=\u001b[0m\u001b[0;32mTrue\u001b[0m\u001b[0;34m,\u001b[0m\u001b[0mbbox_inches\u001b[0m\u001b[0;34m=\u001b[0m\u001b[0;34m'tight'\u001b[0m\u001b[0;34m)\u001b[0m\u001b[0;34m\u001b[0m\u001b[0;34m\u001b[0m\u001b[0m\n\u001b[0m",
      "\u001b[0;31mNameError\u001b[0m: name 'sample_i' is not defined"
     ]
    },
    {
     "data": {
      "image/png": "[encoded data removed]",
      "text/plain": [
       "<Figure size 1368x216 with 1 Axes>"
      ]
     },
     "metadata": {},
     "output_type": "display_data"
    }
   ],
   "source": [
    "sample = 'AZ4612'\n",
    "text_loc_y1 = 990\n",
    "text_loc_y2 = 1200\n",
    "interval = 200\n",
    "x_min = 0\n",
    "x_max = 500\n",
    "y_max = 1100\n",
    "ci_sbs31, ci_aging = plot_injections_aging(all_samples_dict,sample,text_loc_y1, text_loc_y2,interval,x_min,x_max,y_max)\n",
    "ci_sbs31_dict[sample] = ci_sbs31\n",
    "ci_aging_dict[sample] = ci_aging\n",
    "sample_id = samples_name_dict[sample].replace(' ','_')\n",
    "plt.savefig('./figures_paper/sensitibity_'+sample_i+'.png',dpi=300, format='png',transparent=True,bbox_inches='tight')\n"
   ]
  },
  {
   "cell_type": "code",
   "execution_count": null,
   "id": "795c611a",
   "metadata": {
    "scrolled": true
   },
   "outputs": [],
   "source": [
    "sample = 'AZ4613'\n",
    "text_loc_y1 = 520\n",
    "text_loc_y2 = 600\n",
    "interval = 100\n",
    "x_min = 0\n",
    "x_max = 500\n",
    "y_max = 410\n",
    "ci_sbs31, ci_aging = plot_injections_aging(all_samples_dict,sample,text_loc_y1, text_loc_y2,interval,x_min,x_max,y_max)\n",
    "ci_sbs31_dict[sample] = ci_sbs31\n",
    "ci_aging_dict[sample] = ci_aging\n",
    "sample_id = samples_name_dict[sample].replace(' ','_')\n",
    "plt.savefig('./figures_paper/sensitibity_'+sample_id+'.png',dpi=300, format='png',transparent=True,bbox_inches='tight')\n"
   ]
  },
  {
   "cell_type": "code",
   "execution_count": null,
   "id": "f7be752f",
   "metadata": {
    "scrolled": false
   },
   "outputs": [],
   "source": [
    "sample = 'AZ4614'\n",
    "text_loc_y1 = 380\n",
    "text_loc_y2 = 490\n",
    "interval = 100\n",
    "x_min = 0\n",
    "x_max = 500\n",
    "y_max = 410\n",
    "ci_sbs31, ci_aging = plot_injections_aging(all_samples_dict,sample,text_loc_y1, text_loc_y2,interval,x_min,x_max,y_max)\n",
    "ci_sbs31_dict[sample] = ci_sbs31\n",
    "ci_aging_dict[sample] = ci_aging\n",
    "sample_id = samples_name_dict[sample].replace(' ','_')\n",
    "plt.savefig('./figures_paper/sensitibity_'+sample_id+'.png',dpi=300, format='png',transparent=True,bbox_inches='tight')\n"
   ]
  },
  {
   "cell_type": "code",
   "execution_count": null,
   "id": "52b8ff5a",
   "metadata": {
    "scrolled": true
   },
   "outputs": [],
   "source": [
    "sample = 'AZ6342'\n",
    "text_loc_y1 = 190\n",
    "text_loc_y2 = 240\n",
    "interval = 50\n",
    "x_min = 0\n",
    "x_max = 500\n",
    "y_max = 210\n",
    "ci_sbs31, ci_aging = plot_injections_aging(all_samples_dict,sample,text_loc_y1, text_loc_y2,interval,x_min,x_max,y_max)\n",
    "ci_sbs31_dict[sample] = ci_sbs31\n",
    "ci_aging_dict[sample] = ci_aging\n",
    "sample_id = samples_name_dict[sample].replace(' ','_')\n",
    "plt.savefig('./figures_paper/sensitibity_'+sample_id+'.png',dpi=300, format='png',transparent=True,bbox_inches='tight')\n"
   ]
  },
  {
   "cell_type": "code",
   "execution_count": null,
   "id": "7ab20f5a",
   "metadata": {
    "scrolled": true
   },
   "outputs": [],
   "source": [
    "sample = 'AZ6371'\n",
    "text_loc_y1 = 100\n",
    "text_loc_y2 = 80\n",
    "interval = 20\n",
    "x_min = 0\n",
    "x_max = 500\n",
    "y_max = 110\n",
    "ci_sbs31, ci_aging = plot_injections_aging(all_samples_dict,sample,text_loc_y1, text_loc_y2,interval,x_min,x_max,y_max)\n",
    "ci_sbs31_dict[sample] = ci_sbs31\n",
    "ci_aging_dict[sample] = ci_aging\n",
    "sample_id = samples_name_dict[sample].replace(' ','_')\n",
    "plt.savefig('./figures_paper/sensitibity_'+sample_id+'.png',dpi=300, format='png',transparent=True,bbox_inches='tight')\n"
   ]
  },
  {
   "cell_type": "code",
   "execution_count": null,
   "id": "f8ec4b48",
   "metadata": {
    "scrolled": true
   },
   "outputs": [],
   "source": [
    "print(ci_sbs31_dict)\n",
    "print(ci_aging_dict)"
   ]
  },
  {
   "cell_type": "code",
   "execution_count": null,
   "id": "cbb0e629",
   "metadata": {},
   "outputs": [],
   "source": [
    "file = './confidence_intervals/ci_sbs31.json'\n",
    "json.dump(ci_sbs31_dict,open(file,'w'))\n",
    "file = './confidence_intervals/ci_aging.json'\n",
    "json.dump(ci_aging_dict,open(file,'w'))"
   ]
  }
 ],
 "metadata": {
  "kernelspec": {
   "display_name": "Python [conda env:process_vc]",
   "language": "python",
   "name": "conda-env-process_vc-py"
  },
  "language_info": {
   "codemirror_mode": {
    "name": "ipython",
    "version": 3
   },
   "file_extension": ".py",
   "mimetype": "text/x-python",
   "name": "python",
   "nbconvert_exporter": "python",
   "pygments_lexer": "ipython3",
   "version": "3.6.11"
  }
 },
 "nbformat": 4,
 "nbformat_minor": 5
}
