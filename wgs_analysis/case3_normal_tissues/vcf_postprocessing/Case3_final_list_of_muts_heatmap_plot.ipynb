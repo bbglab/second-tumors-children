{
 "cells": [
  {
   "cell_type": "markdown",
   "id": "1649be12",
   "metadata": {},
   "source": [
    "# Analyse final list of mutations"
   ]
  },
  {
   "cell_type": "code",
   "execution_count": 1,
   "id": "a2d4afce",
   "metadata": {},
   "outputs": [],
   "source": [
    "import pandas as pd\n",
    "import matplotlib.pyplot as plt\n",
    "import seaborn as sns\n",
    "import warnings\n",
    "warnings.filterwarnings('ignore', module='seaborn')\n",
    "from tqdm.notebook import tqdm\n",
    "tqdm.pandas()"
   ]
  },
  {
   "cell_type": "code",
   "execution_count": 2,
   "id": "22b715db",
   "metadata": {},
   "outputs": [],
   "source": [
    "samples = ['AQ5180','AQ5186','AQ5174','AX4954','AX4955','AX4956','AX4957','AX4962','AX4963','AX4964','AX4965','AX4966']\n",
    "tissues = ['tumor1', 'tumor2', 'blood', 'kidney', 'liver', 'pancreas', 'heart','lung','medulla','spleen','brain','bma']\n",
    "samples_dict = {samples[i]:tissues[i] for i in range(0,len(samples))}\n",
    "suffixes_dict = {'tumor1':'_t1','tumor2':'_t2','blood':'_b','kidney':'_k','liver':'_l','pancreas':'_p','heart':'_h','lung':'_lu','medulla':'_me','spleen':'_s','brain':'_br','bma':'_bm'}"
   ]
  },
  {
   "cell_type": "code",
   "execution_count": 7,
   "id": "5d1ad7d9",
   "metadata": {
    "scrolled": true
   },
   "outputs": [
    {
     "data": {
      "text/html": [
       "<div>\n",
       "<style scoped>\n",
       "    .dataframe tbody tr th:only-of-type {\n",
       "        vertical-align: middle;\n",
       "    }\n",
       "\n",
       "    .dataframe tbody tr th {\n",
       "        vertical-align: top;\n",
       "    }\n",
       "\n",
       "    .dataframe thead th {\n",
       "        text-align: right;\n",
       "    }\n",
       "</style>\n",
       "<table border=\"1\" class=\"dataframe\">\n",
       "  <thead>\n",
       "    <tr style=\"text-align: right;\">\n",
       "      <th></th>\n",
       "      <th>CHROM</th>\n",
       "      <th>POS</th>\n",
       "      <th>REF</th>\n",
       "      <th>ALT</th>\n",
       "      <th>parents</th>\n",
       "      <th>mut_type</th>\n",
       "      <th>depth_t1</th>\n",
       "      <th>depth_t2</th>\n",
       "      <th>depth_b</th>\n",
       "      <th>depth_k</th>\n",
       "      <th>...</th>\n",
       "      <th>qval_k</th>\n",
       "      <th>qval_l</th>\n",
       "      <th>qval_p</th>\n",
       "      <th>qval_h</th>\n",
       "      <th>qval_lu</th>\n",
       "      <th>qval_me</th>\n",
       "      <th>qval_s</th>\n",
       "      <th>qval_br</th>\n",
       "      <th>qval_bm</th>\n",
       "      <th>denovo_germline</th>\n",
       "    </tr>\n",
       "  </thead>\n",
       "  <tbody>\n",
       "    <tr>\n",
       "      <th>0</th>\n",
       "      <td>chr1</td>\n",
       "      <td>865445</td>\n",
       "      <td>G</td>\n",
       "      <td>C</td>\n",
       "      <td>False</td>\n",
       "      <td>snv</td>\n",
       "      <td>81.0</td>\n",
       "      <td>136.0</td>\n",
       "      <td>128.0</td>\n",
       "      <td>152.0</td>\n",
       "      <td>...</td>\n",
       "      <td>1.140146e-38</td>\n",
       "      <td>4.983417e-42</td>\n",
       "      <td>3.221510e-40</td>\n",
       "      <td>1.411108e-42</td>\n",
       "      <td>2.816809e-40</td>\n",
       "      <td>6.019900e-24</td>\n",
       "      <td>2.205815e-47</td>\n",
       "      <td>5.422803e-44</td>\n",
       "      <td>1.896295e-46</td>\n",
       "      <td>False</td>\n",
       "    </tr>\n",
       "    <tr>\n",
       "      <th>1</th>\n",
       "      <td>chr1</td>\n",
       "      <td>4101122</td>\n",
       "      <td>G</td>\n",
       "      <td>T</td>\n",
       "      <td>False</td>\n",
       "      <td>snv</td>\n",
       "      <td>81.0</td>\n",
       "      <td>117.0</td>\n",
       "      <td>134.0</td>\n",
       "      <td>124.0</td>\n",
       "      <td>...</td>\n",
       "      <td>1.080279e-33</td>\n",
       "      <td>6.229271e-43</td>\n",
       "      <td>8.247065e-38</td>\n",
       "      <td>2.266049e-30</td>\n",
       "      <td>2.682705e-37</td>\n",
       "      <td>9.863003e-20</td>\n",
       "      <td>2.205815e-47</td>\n",
       "      <td>4.548977e-37</td>\n",
       "      <td>2.485512e-41</td>\n",
       "      <td>False</td>\n",
       "    </tr>\n",
       "    <tr>\n",
       "      <th>2</th>\n",
       "      <td>chr1</td>\n",
       "      <td>4352976</td>\n",
       "      <td>G</td>\n",
       "      <td>A</td>\n",
       "      <td>False</td>\n",
       "      <td>snv</td>\n",
       "      <td>73.0</td>\n",
       "      <td>121.0</td>\n",
       "      <td>126.0</td>\n",
       "      <td>143.0</td>\n",
       "      <td>...</td>\n",
       "      <td>3.827991e-41</td>\n",
       "      <td>1.240120e-47</td>\n",
       "      <td>1.649413e-37</td>\n",
       "      <td>9.517816e-38</td>\n",
       "      <td>3.304770e-35</td>\n",
       "      <td>1.232875e-20</td>\n",
       "      <td>4.517508e-44</td>\n",
       "      <td>1.037111e-42</td>\n",
       "      <td>2.545165e-38</td>\n",
       "      <td>False</td>\n",
       "    </tr>\n",
       "    <tr>\n",
       "      <th>3</th>\n",
       "      <td>chr1</td>\n",
       "      <td>7591505</td>\n",
       "      <td>T</td>\n",
       "      <td>C</td>\n",
       "      <td>False</td>\n",
       "      <td>snv</td>\n",
       "      <td>75.0</td>\n",
       "      <td>121.0</td>\n",
       "      <td>129.0</td>\n",
       "      <td>122.0</td>\n",
       "      <td>...</td>\n",
       "      <td>6.857147e-35</td>\n",
       "      <td>8.360786e-35</td>\n",
       "      <td>1.288604e-39</td>\n",
       "      <td>4.082971e-32</td>\n",
       "      <td>3.151674e-41</td>\n",
       "      <td>5.171054e-14</td>\n",
       "      <td>1.515824e-36</td>\n",
       "      <td>2.776475e-41</td>\n",
       "      <td>1.213629e-44</td>\n",
       "      <td>False</td>\n",
       "    </tr>\n",
       "    <tr>\n",
       "      <th>4</th>\n",
       "      <td>chr1</td>\n",
       "      <td>7983849</td>\n",
       "      <td>G</td>\n",
       "      <td>T</td>\n",
       "      <td>False</td>\n",
       "      <td>snv</td>\n",
       "      <td>76.0</td>\n",
       "      <td>125.0</td>\n",
       "      <td>127.0</td>\n",
       "      <td>130.0</td>\n",
       "      <td>...</td>\n",
       "      <td>2.852789e-37</td>\n",
       "      <td>7.026617e-40</td>\n",
       "      <td>3.298826e-37</td>\n",
       "      <td>4.223600e-31</td>\n",
       "      <td>2.165814e-30</td>\n",
       "      <td>1.926368e-22</td>\n",
       "      <td>3.446585e-49</td>\n",
       "      <td>9.316304e-34</td>\n",
       "      <td>5.212497e-35</td>\n",
       "      <td>False</td>\n",
       "    </tr>\n",
       "    <tr>\n",
       "      <th>...</th>\n",
       "      <td>...</td>\n",
       "      <td>...</td>\n",
       "      <td>...</td>\n",
       "      <td>...</td>\n",
       "      <td>...</td>\n",
       "      <td>...</td>\n",
       "      <td>...</td>\n",
       "      <td>...</td>\n",
       "      <td>...</td>\n",
       "      <td>...</td>\n",
       "      <td>...</td>\n",
       "      <td>...</td>\n",
       "      <td>...</td>\n",
       "      <td>...</td>\n",
       "      <td>...</td>\n",
       "      <td>...</td>\n",
       "      <td>...</td>\n",
       "      <td>...</td>\n",
       "      <td>...</td>\n",
       "      <td>...</td>\n",
       "      <td>...</td>\n",
       "    </tr>\n",
       "    <tr>\n",
       "      <th>2433</th>\n",
       "      <td>chr6</td>\n",
       "      <td>165412639</td>\n",
       "      <td>T</td>\n",
       "      <td>G</td>\n",
       "      <td>False</td>\n",
       "      <td>snv</td>\n",
       "      <td>113.0</td>\n",
       "      <td>126.0</td>\n",
       "      <td>132.0</td>\n",
       "      <td>139.0</td>\n",
       "      <td>...</td>\n",
       "      <td>4.253323e-42</td>\n",
       "      <td>2.612746e-36</td>\n",
       "      <td>1.623022e-34</td>\n",
       "      <td>4.867281e-39</td>\n",
       "      <td>1.290926e-37</td>\n",
       "      <td>2.351523e-26</td>\n",
       "      <td>3.641464e-21</td>\n",
       "      <td>1.863261e-33</td>\n",
       "      <td>9.942049e-41</td>\n",
       "      <td>False</td>\n",
       "    </tr>\n",
       "    <tr>\n",
       "      <th>2434</th>\n",
       "      <td>chr7</td>\n",
       "      <td>57050159</td>\n",
       "      <td>C</td>\n",
       "      <td>G</td>\n",
       "      <td>False</td>\n",
       "      <td>snv</td>\n",
       "      <td>115.0</td>\n",
       "      <td>133.0</td>\n",
       "      <td>155.0</td>\n",
       "      <td>108.0</td>\n",
       "      <td>...</td>\n",
       "      <td>5.086819e-26</td>\n",
       "      <td>3.826070e-26</td>\n",
       "      <td>2.337539e-27</td>\n",
       "      <td>1.436593e-27</td>\n",
       "      <td>9.028329e-28</td>\n",
       "      <td>7.349397e-12</td>\n",
       "      <td>3.215020e-39</td>\n",
       "      <td>5.309906e-27</td>\n",
       "      <td>3.716271e-36</td>\n",
       "      <td>False</td>\n",
       "    </tr>\n",
       "    <tr>\n",
       "      <th>2435</th>\n",
       "      <td>chr7</td>\n",
       "      <td>57107156</td>\n",
       "      <td>G</td>\n",
       "      <td>A</td>\n",
       "      <td>False</td>\n",
       "      <td>snv</td>\n",
       "      <td>127.0</td>\n",
       "      <td>127.0</td>\n",
       "      <td>162.0</td>\n",
       "      <td>159.0</td>\n",
       "      <td>...</td>\n",
       "      <td>8.607259e-38</td>\n",
       "      <td>1.869165e-26</td>\n",
       "      <td>7.896844e-25</td>\n",
       "      <td>1.642169e-22</td>\n",
       "      <td>1.174473e-28</td>\n",
       "      <td>4.957144e-09</td>\n",
       "      <td>1.700112e-28</td>\n",
       "      <td>1.904664e-21</td>\n",
       "      <td>6.376770e-33</td>\n",
       "      <td>False</td>\n",
       "    </tr>\n",
       "    <tr>\n",
       "      <th>2436</th>\n",
       "      <td>chr7</td>\n",
       "      <td>65173952</td>\n",
       "      <td>GGGTAACAGACCT</td>\n",
       "      <td>-</td>\n",
       "      <td>False</td>\n",
       "      <td>indel</td>\n",
       "      <td>120.0</td>\n",
       "      <td>103.0</td>\n",
       "      <td>121.0</td>\n",
       "      <td>131.0</td>\n",
       "      <td>...</td>\n",
       "      <td>2.436825e-28</td>\n",
       "      <td>9.333663e-18</td>\n",
       "      <td>1.562210e-16</td>\n",
       "      <td>4.621489e-16</td>\n",
       "      <td>2.144070e-20</td>\n",
       "      <td>1.258474e-14</td>\n",
       "      <td>7.546196e-26</td>\n",
       "      <td>7.171056e-14</td>\n",
       "      <td>2.596092e-35</td>\n",
       "      <td>False</td>\n",
       "    </tr>\n",
       "    <tr>\n",
       "      <th>2437</th>\n",
       "      <td>chrX</td>\n",
       "      <td>99346349</td>\n",
       "      <td>A</td>\n",
       "      <td>G</td>\n",
       "      <td>False</td>\n",
       "      <td>snv</td>\n",
       "      <td>162.0</td>\n",
       "      <td>150.0</td>\n",
       "      <td>154.0</td>\n",
       "      <td>148.0</td>\n",
       "      <td>...</td>\n",
       "      <td>9.109543e-30</td>\n",
       "      <td>1.186988e-29</td>\n",
       "      <td>3.462205e-20</td>\n",
       "      <td>2.973161e-22</td>\n",
       "      <td>1.767064e-33</td>\n",
       "      <td>2.300665e-11</td>\n",
       "      <td>7.730344e-27</td>\n",
       "      <td>4.731161e-17</td>\n",
       "      <td>8.553047e-22</td>\n",
       "      <td>False</td>\n",
       "    </tr>\n",
       "  </tbody>\n",
       "</table>\n",
       "<p>2438 rows × 222 columns</p>\n",
       "</div>"
      ],
      "text/plain": [
       "     CHROM        POS            REF ALT  parents mut_type  depth_t1  \\\n",
       "0     chr1     865445              G   C    False      snv      81.0   \n",
       "1     chr1    4101122              G   T    False      snv      81.0   \n",
       "2     chr1    4352976              G   A    False      snv      73.0   \n",
       "3     chr1    7591505              T   C    False      snv      75.0   \n",
       "4     chr1    7983849              G   T    False      snv      76.0   \n",
       "...    ...        ...            ...  ..      ...      ...       ...   \n",
       "2433  chr6  165412639              T   G    False      snv     113.0   \n",
       "2434  chr7   57050159              C   G    False      snv     115.0   \n",
       "2435  chr7   57107156              G   A    False      snv     127.0   \n",
       "2436  chr7   65173952  GGGTAACAGACCT   -    False    indel     120.0   \n",
       "2437  chrX   99346349              A   G    False      snv     162.0   \n",
       "\n",
       "      depth_t2  depth_b  depth_k  ...        qval_k        qval_l  \\\n",
       "0        136.0    128.0    152.0  ...  1.140146e-38  4.983417e-42   \n",
       "1        117.0    134.0    124.0  ...  1.080279e-33  6.229271e-43   \n",
       "2        121.0    126.0    143.0  ...  3.827991e-41  1.240120e-47   \n",
       "3        121.0    129.0    122.0  ...  6.857147e-35  8.360786e-35   \n",
       "4        125.0    127.0    130.0  ...  2.852789e-37  7.026617e-40   \n",
       "...        ...      ...      ...  ...           ...           ...   \n",
       "2433     126.0    132.0    139.0  ...  4.253323e-42  2.612746e-36   \n",
       "2434     133.0    155.0    108.0  ...  5.086819e-26  3.826070e-26   \n",
       "2435     127.0    162.0    159.0  ...  8.607259e-38  1.869165e-26   \n",
       "2436     103.0    121.0    131.0  ...  2.436825e-28  9.333663e-18   \n",
       "2437     150.0    154.0    148.0  ...  9.109543e-30  1.186988e-29   \n",
       "\n",
       "            qval_p        qval_h       qval_lu       qval_me        qval_s  \\\n",
       "0     3.221510e-40  1.411108e-42  2.816809e-40  6.019900e-24  2.205815e-47   \n",
       "1     8.247065e-38  2.266049e-30  2.682705e-37  9.863003e-20  2.205815e-47   \n",
       "2     1.649413e-37  9.517816e-38  3.304770e-35  1.232875e-20  4.517508e-44   \n",
       "3     1.288604e-39  4.082971e-32  3.151674e-41  5.171054e-14  1.515824e-36   \n",
       "4     3.298826e-37  4.223600e-31  2.165814e-30  1.926368e-22  3.446585e-49   \n",
       "...            ...           ...           ...           ...           ...   \n",
       "2433  1.623022e-34  4.867281e-39  1.290926e-37  2.351523e-26  3.641464e-21   \n",
       "2434  2.337539e-27  1.436593e-27  9.028329e-28  7.349397e-12  3.215020e-39   \n",
       "2435  7.896844e-25  1.642169e-22  1.174473e-28  4.957144e-09  1.700112e-28   \n",
       "2436  1.562210e-16  4.621489e-16  2.144070e-20  1.258474e-14  7.546196e-26   \n",
       "2437  3.462205e-20  2.973161e-22  1.767064e-33  2.300665e-11  7.730344e-27   \n",
       "\n",
       "           qval_br       qval_bm  denovo_germline  \n",
       "0     5.422803e-44  1.896295e-46            False  \n",
       "1     4.548977e-37  2.485512e-41            False  \n",
       "2     1.037111e-42  2.545165e-38            False  \n",
       "3     2.776475e-41  1.213629e-44            False  \n",
       "4     9.316304e-34  5.212497e-35            False  \n",
       "...            ...           ...              ...  \n",
       "2433  1.863261e-33  9.942049e-41            False  \n",
       "2434  5.309906e-27  3.716271e-36            False  \n",
       "2435  1.904664e-21  6.376770e-33            False  \n",
       "2436  7.171056e-14  2.596092e-35            False  \n",
       "2437  4.731161e-17  8.553047e-22            False  \n",
       "\n",
       "[2438 rows x 222 columns]"
      ]
     },
     "execution_count": 7,
     "metadata": {},
     "output_type": "execute_result"
    }
   ],
   "source": [
    "df = pd.read_csv('./output/08_final_list_muts.tsv.gz',sep='\\t')\n",
    "df"
   ]
  },
  {
   "cell_type": "markdown",
   "id": "d18058b1",
   "metadata": {},
   "source": [
    "## Density plots to establish clonality threshold"
   ]
  },
  {
   "cell_type": "code",
   "execution_count": 8,
   "id": "21b491b0",
   "metadata": {},
   "outputs": [
    {
     "data": {
      "text/plain": [
       "{'AQ5180': 'tumor1',\n",
       " 'AQ5186': 'tumor2',\n",
       " 'AQ5174': 'blood',\n",
       " 'AX4954': 'kidney',\n",
       " 'AX4955': 'liver',\n",
       " 'AX4956': 'pancreas',\n",
       " 'AX4957': 'heart',\n",
       " 'AX4962': 'lung',\n",
       " 'AX4963': 'medulla',\n",
       " 'AX4964': 'spleen',\n",
       " 'AX4965': 'brain',\n",
       " 'AX4966': 'bma'}"
      ]
     },
     "execution_count": 8,
     "metadata": {},
     "output_type": "execute_result"
    }
   ],
   "source": [
    "samples_dict"
   ]
  },
  {
   "cell_type": "code",
   "execution_count": 9,
   "id": "a9704d1f",
   "metadata": {},
   "outputs": [
    {
     "data": {
      "text/plain": [
       "{'_t1': 'tumor1',\n",
       " '_t2': 'tumor2',\n",
       " '_b': 'blood',\n",
       " '_k': 'kidney',\n",
       " '_l': 'liver',\n",
       " '_p': 'pancreas',\n",
       " '_h': 'heart',\n",
       " '_lu': 'lung',\n",
       " '_me': 'medulla',\n",
       " '_s': 'spleen',\n",
       " '_br': 'brain',\n",
       " '_bm': 'bma'}"
      ]
     },
     "execution_count": 9,
     "metadata": {},
     "output_type": "execute_result"
    }
   ],
   "source": [
    "suffixes_dict2 = {suffixes_dict[tissue]:tissue for tissue in suffixes_dict.keys()}\n",
    "suffixes_dict2"
   ]
  },
  {
   "cell_type": "code",
   "execution_count": 10,
   "id": "245d975a",
   "metadata": {},
   "outputs": [],
   "source": [
    "def density_plot (data,y_var,title,xlim_min,xlim_max, bins=100):\n",
    "    '''Create density plot for CCF\n",
    "    input: tumor data, title and xlim max\n",
    "    output: plot()'''\n",
    "    \n",
    "    data = data[(~data[y_var].isnull())]\n",
    "    data = data[y_var]\n",
    "    fig, ax = plt.subplots()\n",
    "    fig.set_size_inches(4, 2)\n",
    "    ax = sns.distplot(data,rug=True,bins=bins)\n",
    "    ax.set_title(title,size=20,pad=20)\n",
    "    ax.set_xlim(xlim_min,xlim_max)"
   ]
  },
  {
   "cell_type": "code",
   "execution_count": 11,
   "id": "4ee25ce9",
   "metadata": {
    "scrolled": true
   },
   "outputs": [
    {
     "data": {
      "image/png": "[encoded data removed]",
      "text/plain": [
       "<Figure size 288x144 with 1 Axes>"
      ]
     },
     "metadata": {
      "needs_background": "light"
     },
     "output_type": "display_data"
    },
    {
     "data": {
      "image/png": "[encoded data removed]",
      "text/plain": [
       "<Figure size 288x144 with 1 Axes>"
      ]
     },
     "metadata": {
      "needs_background": "light"
     },
     "output_type": "display_data"
    },
    {
     "data": {
      "image/png": "[encoded data removed]",
      "text/plain": [
       "<Figure size 288x144 with 1 Axes>"
      ]
     },
     "metadata": {
      "needs_background": "light"
     },
     "output_type": "display_data"
    },
    {
     "data": {
      "image/png": "[encoded data removed]",
      "text/plain": [
       "<Figure size 288x144 with 1 Axes>"
      ]
     },
     "metadata": {
      "needs_background": "light"
     },
     "output_type": "display_data"
    },
    {
     "data": {
      "image/png": "[encoded data removed]",
      "text/plain": [
       "<Figure size 288x144 with 1 Axes>"
      ]
     },
     "metadata": {
      "needs_background": "light"
     },
     "output_type": "display_data"
    },
    {
     "data": {
      "image/png": "[encoded data removed]",
      "text/plain": [
       "<Figure size 288x144 with 1 Axes>"
      ]
     },
     "metadata": {
      "needs_background": "light"
     },
     "output_type": "display_data"
    },
    {
     "data": {
      "image/png": "[encoded data removed]",
      "text/plain": [
       "<Figure size 288x144 with 1 Axes>"
      ]
     },
     "metadata": {
      "needs_background": "light"
     },
     "output_type": "display_data"
    },
    {
     "data": {
      "image/png": "[encoded data removed]",
      "text/plain": [
       "<Figure size 288x144 with 1 Axes>"
      ]
     },
     "metadata": {
      "needs_background": "light"
     },
     "output_type": "display_data"
    },
    {
     "data": {
      "image/png": "[encoded data removed]",
      "text/plain": [
       "<Figure size 288x144 with 1 Axes>"
      ]
     },
     "metadata": {
      "needs_background": "light"
     },
     "output_type": "display_data"
    },
    {
     "data": {
      "image/png": "[encoded data removed]",
      "text/plain": [
       "<Figure size 288x144 with 1 Axes>"
      ]
     },
     "metadata": {
      "needs_background": "light"
     },
     "output_type": "display_data"
    },
    {
     "data": {
      "image/png": "[encoded data removed]",
      "text/plain": [
       "<Figure size 288x144 with 1 Axes>"
      ]
     },
     "metadata": {
      "needs_background": "light"
     },
     "output_type": "display_data"
    },
    {
     "data": {
      "image/png": "[encoded data removed]",
      "text/plain": [
       "<Figure size 288x144 with 1 Axes>"
      ]
     },
     "metadata": {
      "needs_background": "light"
     },
     "output_type": "display_data"
    }
   ],
   "source": [
    "for tissue in tissues:\n",
    "    suffix = suffixes_dict[tissue]\n",
    "    col = 'AF'+suffix\n",
    "    data = df[(df[col]!=0)&(df['denovo_germline']==False)&(df['n_tissues']!=len(tissues))]\n",
    "    y_var = col\n",
    "    if tissue == 'tumor1':\n",
    "        title = 'NB'\n",
    "    elif tissue == 'tumor2':\n",
    "        title = 'RT'\n",
    "    else:\n",
    "        title = tissue\n",
    "    xlim = 1\n",
    "    bins = 10\n",
    "    density_plot(data=data,y_var=y_var,title=title,xlim_min=-0.1,xlim_max=0.8,bins=50)\n",
    "    plt.xlabel('Variant Allele Frequency',size=14)\n",
    "    plt.ylabel('Density',size=14)\n",
    "    if tissue == 'tumor1':\n",
    "        plt.axvline(x = 0.25, color = 'b', label = 'clonal')\n",
    "    elif tissue == 'tumor2':\n",
    "        plt.axvline(x = 0.2, color = 'b', label = 'clonal')\n",
    "\n",
    "    "
   ]
  },
  {
   "cell_type": "code",
   "execution_count": 12,
   "id": "52c2d592",
   "metadata": {
    "scrolled": true
   },
   "outputs": [
    {
     "data": {
      "image/png": "[encoded data removed]",
      "text/plain": [
       "<Figure size 288x144 with 1 Axes>"
      ]
     },
     "metadata": {
      "needs_background": "light"
     },
     "output_type": "display_data"
    },
    {
     "data": {
      "image/png": "[encoded data removed]",
      "text/plain": [
       "<Figure size 288x144 with 1 Axes>"
      ]
     },
     "metadata": {
      "needs_background": "light"
     },
     "output_type": "display_data"
    }
   ],
   "source": [
    "for tissue in ['tumor1','tumor2']:\n",
    "    suffix = suffixes_dict[tissue]\n",
    "    col = 'AF'+suffix\n",
    "    if tissue == 'tumor1':\n",
    "        title = 'NB'\n",
    "        threshold = 0.25\n",
    "    elif tissue == 'tumor2':\n",
    "        title = 'RT'\n",
    "        threshold = 0.2\n",
    "    else:\n",
    "        title = tissue\n",
    "    data = df[(df[col]>threshold)&(df['denovo_germline']==False)&(df['n_tissues']!=len(tissues))]\n",
    "    y_var = col\n",
    "    if tissue == 'tumor1':\n",
    "        title = 'NB'\n",
    "    elif tissue == 'tumor2':\n",
    "        title = 'MRT'\n",
    "    else:\n",
    "        title = tissue\n",
    "    xlim = 1\n",
    "    bins = 10\n",
    "    density_plot(data=data,y_var=y_var,title=title,xlim_min=-0.1,xlim_max=0.8,bins=50)\n",
    "    plt.xlabel('Variant Allele Frequency',size=14)\n",
    "    plt.ylabel('Density',size=14)\n",
    "\n",
    "    plt.axvline(x = threshold, color = 'b', label = 'clonal')\n",
    "    \n",
    "    plt.savefig('./figures_paper/'+title+'_VAF_clonal_selection.png',dpi=300, format='png',transparent=True,bbox_inches='tight')\n",
    "\n",
    "    plt.show()"
   ]
  },
  {
   "cell_type": "markdown",
   "id": "62c0c114",
   "metadata": {},
   "source": [
    "## Density plot with sequencing depth from chrom1 blood sample"
   ]
  },
  {
   "cell_type": "code",
   "execution_count": 29,
   "id": "d9370854",
   "metadata": {},
   "outputs": [],
   "source": [
    "import gzip\n",
    "import numpy as np\n",
    "from scipy.stats import t"
   ]
  },
  {
   "cell_type": "code",
   "execution_count": 30,
   "id": "4525de40",
   "metadata": {},
   "outputs": [
    {
     "data": {
      "application/vnd.jupyter.widget-view+json": {
       "model_id": "a1d4645f51ca4fe2ba4d5dfe30fad152",
       "version_major": 2,
       "version_minor": 0
      },
      "text/plain": [
       "HBox(children=(HTML(value=''), FloatProgress(value=1.0, bar_style='info', layout=Layout(width='20px'), max=1.0…"
      ]
     },
     "metadata": {},
     "output_type": "display_data"
    },
    {
     "name": "stdout",
     "output_type": "stream",
     "text": [
      "\n"
     ]
    }
   ],
   "source": [
    "input_file = './depth/AQ5174/chr1_depth.txt.gz'\n",
    "\n",
    "counts = []\n",
    "with gzip.open(input_file,'r') as file:\n",
    "    for line in tqdm(file):\n",
    "        line = str(line)\n",
    "        count = line.split('\\\\t')[2].split('\\\\n')[0]\n",
    "        if int(count) < 400:\n",
    "            counts.append(int(count))\n",
    "    file.close()"
   ]
  },
  {
   "cell_type": "code",
   "execution_count": 31,
   "id": "bd551a8c",
   "metadata": {},
   "outputs": [],
   "source": [
    "mean = np.mean (counts)\n",
    "sd = np.std (counts)\n",
    "\n",
    "dof = len(counts)-1 \n",
    "confidence = 0.95\n",
    "t_crit = np.abs(t.ppf((1-confidence)/2,dof))\n",
    "left_ci_95 = mean-sd*t_crit/np.sqrt(len(count))\n",
    "right_ci_95 = mean+sd*t_crit/np.sqrt(len(count))"
   ]
  },
  {
   "cell_type": "code",
   "execution_count": 32,
   "id": "c92bcfe0",
   "metadata": {},
   "outputs": [
    {
     "data": {
      "application/vnd.jupyter.widget-view+json": {
       "model_id": "ee3695cace814cf69bea164e76409225",
       "version_major": 2,
       "version_minor": 0
      },
      "text/plain": [
       "HBox(children=(HTML(value=''), FloatProgress(value=0.0, max=229247627.0), HTML(value='')))"
      ]
     },
     "metadata": {},
     "output_type": "display_data"
    },
    {
     "name": "stdout",
     "output_type": "stream",
     "text": [
      "\n"
     ]
    }
   ],
   "source": [
    "#exclude positions with very high depth (>300 reads)\n",
    "counts2 =[count for count in tqdm(counts) if count<300 ]"
   ]
  },
  {
   "cell_type": "code",
   "execution_count": 33,
   "id": "ae5dea50",
   "metadata": {},
   "outputs": [
    {
     "name": "stdout",
     "output_type": "stream",
     "text": [
      "229247627\n",
      "228930910\n"
     ]
    }
   ],
   "source": [
    "print(len(counts))\n",
    "print(len(counts2))"
   ]
  },
  {
   "cell_type": "code",
   "execution_count": 35,
   "id": "1b61f980",
   "metadata": {},
   "outputs": [
    {
     "data": {
      "image/png": "[encoded data removed]",
      "text/plain": [
       "<Figure size 288x144 with 1 Axes>"
      ]
     },
     "metadata": {
      "needs_background": "light"
     },
     "output_type": "display_data"
    }
   ],
   "source": [
    "bins = 100\n",
    "title = 'Depth Chromosome 1\\nBlood sample'\n",
    "xlim_min = 0\n",
    "xlim_max = 300\n",
    "data = counts2[10000000:15000000]\n",
    "fig, ax = plt.subplots()\n",
    "fig.set_size_inches(4, 2)\n",
    "ax = sns.distplot(data,rug=True,bins=bins)\n",
    "ax.set_title(title,size=20,pad=20)\n",
    "ax.set_xlim(xlim_min,xlim_max)\n",
    "plt.xlabel('Depth',size=14)\n",
    "plt.ylabel('Density',size=14)\n",
    "\n",
    "plt.axvline(mean,color='black')\n",
    "\n",
    "plt.axvline(left_ci_95,color='red')\n",
    "plt.axvline(right_ci_95,color='red')\n",
    "plt.text(x=.8,y=0.85,s='CI=0.95',transform = ax.transAxes,color='red')\n",
    "\n",
    "plt.axvline(mean-2*sd,color='blue')\n",
    "plt.axvline(mean+2*sd,color='blue')\n",
    "plt.text(x=.8,y=0.75,s='2SD',transform = ax.transAxes,color='blue')\n",
    "\n",
    "plt.savefig('./figures_paper/depth_chr1_blood_sample.png',dpi=300, format='png',transparent=True,bbox_inches='tight')\n",
    "\n",
    "plt.show()"
   ]
  },
  {
   "cell_type": "markdown",
   "id": "f68a68d8",
   "metadata": {},
   "source": [
    "## Calculate Clonal Fraction (CF)"
   ]
  },
  {
   "cell_type": "code",
   "execution_count": 14,
   "id": "ee3abd6f",
   "metadata": {},
   "outputs": [
    {
     "data": {
      "text/plain": [
       "{'tumor1': 0.79, 'tumor2': 0.58}"
      ]
     },
     "execution_count": 14,
     "metadata": {},
     "output_type": "execute_result"
    }
   ],
   "source": [
    "#get tumors purity from purple output\n",
    "\n",
    "path_to_platinum = '/workspace/datasets/sjd_seq/platinum_results/20220809/pt1-t1-allsamples-t1/'\n",
    "# path_to_platinum = '/path/to/platinum/' #fix at the end\n",
    "sample_id = 'AQ5180'\n",
    "cnv_df1 = pd.read_csv(path_to_platinum+'purple/'+sample_id+'.purple.cnv.somatic.tsv',sep='\\t')\n",
    "cnv_df1[['chromosome','start','end','copyNumber']]\n",
    "cnv_df1['SAMPLE'] = 'tumor1'\n",
    "\n",
    "purity1 = pd.read_csv(path_to_platinum+'purple/'+sample_id+'.purple.purity.tsv',sep='\\t')\n",
    "purity1 = purity1.iloc[0,0]\n",
    "purity_dict = {}\n",
    "purity_dict['tumor1'] = purity1\n",
    "\n",
    "\n",
    "path_to_platinum ='/workspace/datasets/sjd_seq/platinum_results/20220809/pt1-t2-allsamples-t2/'\n",
    "# path_to_platinum = '/path/to/platinum/' #fix  the end\n",
    "sample_id = 'AQ5186'\n",
    "cnv_df2 = pd.read_csv(path_to_platinum+'purple/'+sample_id+'.purple.cnv.somatic.tsv',sep='\\t')\n",
    "cnv_df2[['chromosome','start','end','copyNumber']]\n",
    "cnv_df2['SAMPLE'] = 'tumor2'\n",
    "cnv_df = pd.concat([cnv_df1,cnv_df2],ignore_index=True)\n",
    "\n",
    "purity2 = pd.read_csv(path_to_platinum+'purple/'+sample_id+'.purple.purity.tsv',sep='\\t')\n",
    "purity2 = purity2.iloc[0,0]\n",
    "purity_dict['tumor2'] = purity2\n",
    "purity_dict"
   ]
  },
  {
   "cell_type": "code",
   "execution_count": 15,
   "id": "aa39eadc",
   "metadata": {},
   "outputs": [
    {
     "data": {
      "text/html": [
       "<div>\n",
       "<style scoped>\n",
       "    .dataframe tbody tr th:only-of-type {\n",
       "        vertical-align: middle;\n",
       "    }\n",
       "\n",
       "    .dataframe tbody tr th {\n",
       "        vertical-align: top;\n",
       "    }\n",
       "\n",
       "    .dataframe thead th {\n",
       "        text-align: right;\n",
       "    }\n",
       "</style>\n",
       "<table border=\"1\" class=\"dataframe\">\n",
       "  <thead>\n",
       "    <tr style=\"text-align: right;\">\n",
       "      <th></th>\n",
       "      <th>CHROM</th>\n",
       "      <th>POS</th>\n",
       "      <th>REF</th>\n",
       "      <th>ALT</th>\n",
       "      <th>parents</th>\n",
       "      <th>mut_type</th>\n",
       "      <th>depth_t1</th>\n",
       "      <th>depth_t2</th>\n",
       "      <th>depth_b</th>\n",
       "      <th>depth_k</th>\n",
       "      <th>...</th>\n",
       "      <th>CF_b</th>\n",
       "      <th>CF_k</th>\n",
       "      <th>CF_l</th>\n",
       "      <th>CF_p</th>\n",
       "      <th>CF_h</th>\n",
       "      <th>CF_lu</th>\n",
       "      <th>CF_me</th>\n",
       "      <th>CF_s</th>\n",
       "      <th>CF_br</th>\n",
       "      <th>CF_bm</th>\n",
       "    </tr>\n",
       "  </thead>\n",
       "  <tbody>\n",
       "    <tr>\n",
       "      <th>0</th>\n",
       "      <td>chr1</td>\n",
       "      <td>865445</td>\n",
       "      <td>G</td>\n",
       "      <td>C</td>\n",
       "      <td>False</td>\n",
       "      <td>snv</td>\n",
       "      <td>81.0</td>\n",
       "      <td>136.0</td>\n",
       "      <td>128.0</td>\n",
       "      <td>152.0</td>\n",
       "      <td>...</td>\n",
       "      <td>0.0000</td>\n",
       "      <td>0.0526</td>\n",
       "      <td>0.0000</td>\n",
       "      <td>0.0000</td>\n",
       "      <td>0.0132</td>\n",
       "      <td>0.0140</td>\n",
       "      <td>0.0000</td>\n",
       "      <td>0.0000</td>\n",
       "      <td>0.0000</td>\n",
       "      <td>0.0000</td>\n",
       "    </tr>\n",
       "    <tr>\n",
       "      <th>1</th>\n",
       "      <td>chr1</td>\n",
       "      <td>4101122</td>\n",
       "      <td>G</td>\n",
       "      <td>T</td>\n",
       "      <td>False</td>\n",
       "      <td>snv</td>\n",
       "      <td>81.0</td>\n",
       "      <td>117.0</td>\n",
       "      <td>134.0</td>\n",
       "      <td>124.0</td>\n",
       "      <td>...</td>\n",
       "      <td>0.0000</td>\n",
       "      <td>0.0322</td>\n",
       "      <td>0.0000</td>\n",
       "      <td>0.0000</td>\n",
       "      <td>0.0182</td>\n",
       "      <td>0.0152</td>\n",
       "      <td>0.0000</td>\n",
       "      <td>0.0000</td>\n",
       "      <td>0.0000</td>\n",
       "      <td>0.0000</td>\n",
       "    </tr>\n",
       "    <tr>\n",
       "      <th>2</th>\n",
       "      <td>chr1</td>\n",
       "      <td>4352976</td>\n",
       "      <td>G</td>\n",
       "      <td>A</td>\n",
       "      <td>False</td>\n",
       "      <td>snv</td>\n",
       "      <td>73.0</td>\n",
       "      <td>121.0</td>\n",
       "      <td>126.0</td>\n",
       "      <td>143.0</td>\n",
       "      <td>...</td>\n",
       "      <td>0.0000</td>\n",
       "      <td>0.0140</td>\n",
       "      <td>0.0120</td>\n",
       "      <td>0.0000</td>\n",
       "      <td>0.0284</td>\n",
       "      <td>0.0000</td>\n",
       "      <td>0.0000</td>\n",
       "      <td>0.0000</td>\n",
       "      <td>0.0132</td>\n",
       "      <td>0.0000</td>\n",
       "    </tr>\n",
       "    <tr>\n",
       "      <th>3</th>\n",
       "      <td>chr1</td>\n",
       "      <td>7591505</td>\n",
       "      <td>T</td>\n",
       "      <td>C</td>\n",
       "      <td>False</td>\n",
       "      <td>snv</td>\n",
       "      <td>75.0</td>\n",
       "      <td>121.0</td>\n",
       "      <td>129.0</td>\n",
       "      <td>122.0</td>\n",
       "      <td>...</td>\n",
       "      <td>0.0000</td>\n",
       "      <td>0.0164</td>\n",
       "      <td>0.0000</td>\n",
       "      <td>0.0000</td>\n",
       "      <td>0.0000</td>\n",
       "      <td>0.0000</td>\n",
       "      <td>0.0000</td>\n",
       "      <td>0.0000</td>\n",
       "      <td>0.0000</td>\n",
       "      <td>0.0000</td>\n",
       "    </tr>\n",
       "    <tr>\n",
       "      <th>4</th>\n",
       "      <td>chr1</td>\n",
       "      <td>7983849</td>\n",
       "      <td>G</td>\n",
       "      <td>T</td>\n",
       "      <td>False</td>\n",
       "      <td>snv</td>\n",
       "      <td>76.0</td>\n",
       "      <td>125.0</td>\n",
       "      <td>127.0</td>\n",
       "      <td>130.0</td>\n",
       "      <td>...</td>\n",
       "      <td>0.0000</td>\n",
       "      <td>0.0154</td>\n",
       "      <td>0.0142</td>\n",
       "      <td>0.0000</td>\n",
       "      <td>0.0746</td>\n",
       "      <td>0.0000</td>\n",
       "      <td>0.0000</td>\n",
       "      <td>0.0000</td>\n",
       "      <td>0.0000</td>\n",
       "      <td>0.0000</td>\n",
       "    </tr>\n",
       "    <tr>\n",
       "      <th>...</th>\n",
       "      <td>...</td>\n",
       "      <td>...</td>\n",
       "      <td>...</td>\n",
       "      <td>...</td>\n",
       "      <td>...</td>\n",
       "      <td>...</td>\n",
       "      <td>...</td>\n",
       "      <td>...</td>\n",
       "      <td>...</td>\n",
       "      <td>...</td>\n",
       "      <td>...</td>\n",
       "      <td>...</td>\n",
       "      <td>...</td>\n",
       "      <td>...</td>\n",
       "      <td>...</td>\n",
       "      <td>...</td>\n",
       "      <td>...</td>\n",
       "      <td>...</td>\n",
       "      <td>...</td>\n",
       "      <td>...</td>\n",
       "      <td>...</td>\n",
       "    </tr>\n",
       "    <tr>\n",
       "      <th>2433</th>\n",
       "      <td>chr6</td>\n",
       "      <td>165412639</td>\n",
       "      <td>T</td>\n",
       "      <td>G</td>\n",
       "      <td>False</td>\n",
       "      <td>snv</td>\n",
       "      <td>113.0</td>\n",
       "      <td>126.0</td>\n",
       "      <td>132.0</td>\n",
       "      <td>139.0</td>\n",
       "      <td>...</td>\n",
       "      <td>0.0000</td>\n",
       "      <td>0.0000</td>\n",
       "      <td>0.0000</td>\n",
       "      <td>0.0164</td>\n",
       "      <td>0.0000</td>\n",
       "      <td>0.0000</td>\n",
       "      <td>0.0000</td>\n",
       "      <td>0.2206</td>\n",
       "      <td>0.0000</td>\n",
       "      <td>0.0000</td>\n",
       "    </tr>\n",
       "    <tr>\n",
       "      <th>2434</th>\n",
       "      <td>chr7</td>\n",
       "      <td>57050159</td>\n",
       "      <td>C</td>\n",
       "      <td>G</td>\n",
       "      <td>False</td>\n",
       "      <td>snv</td>\n",
       "      <td>115.0</td>\n",
       "      <td>133.0</td>\n",
       "      <td>155.0</td>\n",
       "      <td>108.0</td>\n",
       "      <td>...</td>\n",
       "      <td>0.0774</td>\n",
       "      <td>0.0740</td>\n",
       "      <td>0.1008</td>\n",
       "      <td>0.0702</td>\n",
       "      <td>0.1186</td>\n",
       "      <td>0.1076</td>\n",
       "      <td>0.2134</td>\n",
       "      <td>0.0144</td>\n",
       "      <td>0.0380</td>\n",
       "      <td>0.0666</td>\n",
       "    </tr>\n",
       "    <tr>\n",
       "      <th>2435</th>\n",
       "      <td>chr7</td>\n",
       "      <td>57107156</td>\n",
       "      <td>G</td>\n",
       "      <td>A</td>\n",
       "      <td>False</td>\n",
       "      <td>snv</td>\n",
       "      <td>127.0</td>\n",
       "      <td>127.0</td>\n",
       "      <td>162.0</td>\n",
       "      <td>159.0</td>\n",
       "      <td>...</td>\n",
       "      <td>0.3210</td>\n",
       "      <td>0.0754</td>\n",
       "      <td>0.1354</td>\n",
       "      <td>0.1630</td>\n",
       "      <td>0.1912</td>\n",
       "      <td>0.1370</td>\n",
       "      <td>0.2686</td>\n",
       "      <td>0.1568</td>\n",
       "      <td>0.1284</td>\n",
       "      <td>0.1146</td>\n",
       "    </tr>\n",
       "    <tr>\n",
       "      <th>2436</th>\n",
       "      <td>chr7</td>\n",
       "      <td>65173952</td>\n",
       "      <td>GGGTAACAGACCT</td>\n",
       "      <td>-</td>\n",
       "      <td>False</td>\n",
       "      <td>indel</td>\n",
       "      <td>120.0</td>\n",
       "      <td>103.0</td>\n",
       "      <td>121.0</td>\n",
       "      <td>131.0</td>\n",
       "      <td>...</td>\n",
       "      <td>0.1770</td>\n",
       "      <td>0.1076</td>\n",
       "      <td>0.2260</td>\n",
       "      <td>0.2136</td>\n",
       "      <td>0.2456</td>\n",
       "      <td>0.2336</td>\n",
       "      <td>0.1708</td>\n",
       "      <td>0.1374</td>\n",
       "      <td>0.2752</td>\n",
       "      <td>0.0564</td>\n",
       "    </tr>\n",
       "    <tr>\n",
       "      <th>2437</th>\n",
       "      <td>chrX</td>\n",
       "      <td>99346349</td>\n",
       "      <td>A</td>\n",
       "      <td>G</td>\n",
       "      <td>False</td>\n",
       "      <td>snv</td>\n",
       "      <td>162.0</td>\n",
       "      <td>150.0</td>\n",
       "      <td>154.0</td>\n",
       "      <td>148.0</td>\n",
       "      <td>...</td>\n",
       "      <td>0.1688</td>\n",
       "      <td>0.1352</td>\n",
       "      <td>0.0656</td>\n",
       "      <td>0.1984</td>\n",
       "      <td>0.1926</td>\n",
       "      <td>0.0710</td>\n",
       "      <td>0.2500</td>\n",
       "      <td>0.1976</td>\n",
       "      <td>0.2636</td>\n",
       "      <td>0.2074</td>\n",
       "    </tr>\n",
       "  </tbody>\n",
       "</table>\n",
       "<p>2438 rows × 234 columns</p>\n",
       "</div>"
      ],
      "text/plain": [
       "     CHROM        POS            REF ALT  parents mut_type  depth_t1  \\\n",
       "0     chr1     865445              G   C    False      snv      81.0   \n",
       "1     chr1    4101122              G   T    False      snv      81.0   \n",
       "2     chr1    4352976              G   A    False      snv      73.0   \n",
       "3     chr1    7591505              T   C    False      snv      75.0   \n",
       "4     chr1    7983849              G   T    False      snv      76.0   \n",
       "...    ...        ...            ...  ..      ...      ...       ...   \n",
       "2433  chr6  165412639              T   G    False      snv     113.0   \n",
       "2434  chr7   57050159              C   G    False      snv     115.0   \n",
       "2435  chr7   57107156              G   A    False      snv     127.0   \n",
       "2436  chr7   65173952  GGGTAACAGACCT   -    False    indel     120.0   \n",
       "2437  chrX   99346349              A   G    False      snv     162.0   \n",
       "\n",
       "      depth_t2  depth_b  depth_k  ...    CF_b    CF_k    CF_l    CF_p    CF_h  \\\n",
       "0        136.0    128.0    152.0  ...  0.0000  0.0526  0.0000  0.0000  0.0132   \n",
       "1        117.0    134.0    124.0  ...  0.0000  0.0322  0.0000  0.0000  0.0182   \n",
       "2        121.0    126.0    143.0  ...  0.0000  0.0140  0.0120  0.0000  0.0284   \n",
       "3        121.0    129.0    122.0  ...  0.0000  0.0164  0.0000  0.0000  0.0000   \n",
       "4        125.0    127.0    130.0  ...  0.0000  0.0154  0.0142  0.0000  0.0746   \n",
       "...        ...      ...      ...  ...     ...     ...     ...     ...     ...   \n",
       "2433     126.0    132.0    139.0  ...  0.0000  0.0000  0.0000  0.0164  0.0000   \n",
       "2434     133.0    155.0    108.0  ...  0.0774  0.0740  0.1008  0.0702  0.1186   \n",
       "2435     127.0    162.0    159.0  ...  0.3210  0.0754  0.1354  0.1630  0.1912   \n",
       "2436     103.0    121.0    131.0  ...  0.1770  0.1076  0.2260  0.2136  0.2456   \n",
       "2437     150.0    154.0    148.0  ...  0.1688  0.1352  0.0656  0.1984  0.1926   \n",
       "\n",
       "       CF_lu   CF_me    CF_s   CF_br   CF_bm  \n",
       "0     0.0140  0.0000  0.0000  0.0000  0.0000  \n",
       "1     0.0152  0.0000  0.0000  0.0000  0.0000  \n",
       "2     0.0000  0.0000  0.0000  0.0132  0.0000  \n",
       "3     0.0000  0.0000  0.0000  0.0000  0.0000  \n",
       "4     0.0000  0.0000  0.0000  0.0000  0.0000  \n",
       "...      ...     ...     ...     ...     ...  \n",
       "2433  0.0000  0.0000  0.2206  0.0000  0.0000  \n",
       "2434  0.1076  0.2134  0.0144  0.0380  0.0666  \n",
       "2435  0.1370  0.2686  0.1568  0.1284  0.1146  \n",
       "2436  0.2336  0.1708  0.1374  0.2752  0.0564  \n",
       "2437  0.0710  0.2500  0.1976  0.2636  0.2074  \n",
       "\n",
       "[2438 rows x 234 columns]"
      ]
     },
     "execution_count": 15,
     "metadata": {},
     "output_type": "execute_result"
    }
   ],
   "source": [
    "def calculate_ccf (row,tissue,suffix):\n",
    "    if row['AF'+suffix] == 0:\n",
    "        ccf = 0\n",
    "    else:\n",
    "        chrom_mut = row['CHROM']\n",
    "        pos_mut = int(row['POS'])\n",
    "        vaf = row['AF'+suffix]\n",
    "        purity = purity_dict[tissue]\n",
    "        cnv_df1 = cnv_df[(cnv_df['SAMPLE']==tissue)&(cnv_df['chromosome']==chrom_mut)] \n",
    "        for row2 in cnv_df1.iterrows():\n",
    "            pos1_cnv = int(row2[1][1])\n",
    "            pos2_cnv = int(row2[1][2])\n",
    "            cnv = row2[1][3]\n",
    "            if pos1_cnv < pos_mut and pos2_cnv > pos_mut:\n",
    "                ccf = vaf*(purity*cnv+ (1-purity)*2)/purity\n",
    "            else:\n",
    "                ccf = vaf*(purity* 2 + (1-purity)*2)/purity\n",
    "    return ccf\n",
    "\n",
    "for tissue in tissues:\n",
    "    suffix = suffixes_dict[tissue]\n",
    "    if tissue == 'tumor1' or tissue == 'tumor2':\n",
    "        df['CF'+suffix] = df.apply(lambda row: calculate_ccf (row,tissue,suffix),axis=1)\n",
    "    else:\n",
    "        df['CF'+suffix] = df['AF'+suffix].apply(lambda x: x*2)\n",
    "df"
   ]
  },
  {
   "cell_type": "code",
   "execution_count": 16,
   "id": "b6482318",
   "metadata": {
    "scrolled": true
   },
   "outputs": [
    {
     "data": {
      "image/png": "[encoded data removed]",
      "text/plain": [
       "<Figure size 288x144 with 1 Axes>"
      ]
     },
     "metadata": {
      "needs_background": "light"
     },
     "output_type": "display_data"
    },
    {
     "data": {
      "image/png": "[encoded data removed]",
      "text/plain": [
       "<Figure size 288x144 with 1 Axes>"
      ]
     },
     "metadata": {
      "needs_background": "light"
     },
     "output_type": "display_data"
    },
    {
     "data": {
      "image/png": "[encoded data removed]",
      "text/plain": [
       "<Figure size 288x144 with 1 Axes>"
      ]
     },
     "metadata": {
      "needs_background": "light"
     },
     "output_type": "display_data"
    },
    {
     "data": {
      "image/png": "[encoded data removed]",
      "text/plain": [
       "<Figure size 288x144 with 1 Axes>"
      ]
     },
     "metadata": {
      "needs_background": "light"
     },
     "output_type": "display_data"
    },
    {
     "data": {
      "image/png": "[encoded data removed]",
      "text/plain": [
       "<Figure size 288x144 with 1 Axes>"
      ]
     },
     "metadata": {
      "needs_background": "light"
     },
     "output_type": "display_data"
    },
    {
     "data": {
      "image/png": "[encoded data removed]",
      "text/plain": [
       "<Figure size 288x144 with 1 Axes>"
      ]
     },
     "metadata": {
      "needs_background": "light"
     },
     "output_type": "display_data"
    },
    {
     "data": {
      "image/png": "[encoded data removed]",
      "text/plain": [
       "<Figure size 288x144 with 1 Axes>"
      ]
     },
     "metadata": {
      "needs_background": "light"
     },
     "output_type": "display_data"
    },
    {
     "data": {
      "image/png": "[encoded data removed]",
      "text/plain": [
       "<Figure size 288x144 with 1 Axes>"
      ]
     },
     "metadata": {
      "needs_background": "light"
     },
     "output_type": "display_data"
    },
    {
     "data": {
      "image/png": "[encoded data removed]",
      "text/plain": [
       "<Figure size 288x144 with 1 Axes>"
      ]
     },
     "metadata": {
      "needs_background": "light"
     },
     "output_type": "display_data"
    },
    {
     "data": {
      "image/png": "[encoded data removed]",
      "text/plain": [
       "<Figure size 288x144 with 1 Axes>"
      ]
     },
     "metadata": {
      "needs_background": "light"
     },
     "output_type": "display_data"
    },
    {
     "data": {
      "image/png": "[encoded data removed]",
      "text/plain": [
       "<Figure size 288x144 with 1 Axes>"
      ]
     },
     "metadata": {
      "needs_background": "light"
     },
     "output_type": "display_data"
    },
    {
     "data": {
      "image/png": "[encoded data removed]",
      "text/plain": [
       "<Figure size 288x144 with 1 Axes>"
      ]
     },
     "metadata": {
      "needs_background": "light"
     },
     "output_type": "display_data"
    }
   ],
   "source": [
    "#check Clonal Fraction distribution\n",
    "for tissue in tissues:\n",
    "    suffix = suffixes_dict[tissue]\n",
    "    col = 'CF'+suffix\n",
    "    data = df[(df[col]!=0)&(df['n_tissues']!=7)]\n",
    "    y_var = col\n",
    "    title = col\n",
    "    xlim = 1.5\n",
    "    bins = 100\n",
    "    density_plot(data=data,y_var=y_var,title=title,xlim_min=-0.1,xlim_max=xlim,bins=bins)"
   ]
  },
  {
   "cell_type": "markdown",
   "id": "21e91c48",
   "metadata": {},
   "source": [
    " ## Clustermap / heatmap"
   ]
  },
  {
   "cell_type": "code",
   "execution_count": 17,
   "id": "3fb53db7",
   "metadata": {},
   "outputs": [],
   "source": [
    "suffixes = [ suffixes_dict[tissue] for tissue in tissues]\n",
    "cf_cols = ['CF'+suffix for suffix in suffixes]\n",
    "suffixes3_dict = {suffix[1]:suffix[0] for suffix in suffixes_dict.items()}\n",
    "label_cols_dict = {col:suffixes3_dict[col.split('CF')[1]] for col in cf_cols}\n",
    "label_cols_dict['CF_t1'] = 'NB'\n",
    "label_cols_dict['CF_t2'] = 'RT'\n",
    "label_cols = [label_cols_dict[af] for af in label_cols_dict.keys()]\n"
   ]
  },
  {
   "cell_type": "markdown",
   "id": "a2a1fc83",
   "metadata": {},
   "source": [
    "Important notes:\n",
    "- Removed alterations clonal in 1 tumor and subclonal in the other (likely artifacts)\n",
    "- Mutations are grouped by `['CHROM','POS','REF','ALT']`"
   ]
  },
  {
   "cell_type": "code",
   "execution_count": 18,
   "id": "b7d697d3",
   "metadata": {},
   "outputs": [
    {
     "data": {
      "image/png": "[encoded data removed]",
      "text/plain": [
       "<Figure size 1152x720 with 2 Axes>"
      ]
     },
     "metadata": {
      "needs_background": "light"
     },
     "output_type": "display_data"
    }
   ],
   "source": [
    "order_cols = ['CF_t1','CF_t2','CF_k','CF_h','CF_lu','CF_p','CF_l','CF_br','CF_me','CF_s','CF_bm','CF_b']\n",
    "order_cols2 = ['denovo_germline','tumor1','tumor2','kidney','heart','lung','pancreas','liver','brain','medulla','spleen','bma','blood']\n",
    "x_labels = ['NB','RT','Kidney','Heart','Lung','Pancreas','Liver','Brain','Medulla','Spleen','Bone\\nMarrow','Blood']\n",
    "data = df[((df['AF_t1']>=0.25)&(df['AF_t2']==0))|((df['AF_t2']>=0.2)&(df['AF_t1']==0))|((df['AF_t1']>=0.25)&(df['AF_t2']>=0.2))].sort_values(by=order_cols2,ascending=False)\n",
    "data = data.drop_duplicates(subset=['CHROM','POS','REF','ALT'])\n",
    "data = data.set_index(['SYMBOL','Consequence'])\n",
    "data.index_name = ''\n",
    "data[order_cols] = data[order_cols].replace(0,-0.2)\n",
    "fig, ax = plt.subplots(figsize=(16,10)) \n",
    "ax = sns.heatmap(data[order_cols],xticklabels=x_labels,cmap='Blues',vmin=-0.2,vmax=1,yticklabels='')\n",
    "plt.xticks(fontsize=14,rotation=0)\n",
    "plt.ylabel('')\n",
    "plt.savefig('./figures_paper/heatmap_blue_nb_rt_plot.png',dpi=300, format='png')\n",
    "plt.show()"
   ]
  },
  {
   "cell_type": "code",
   "execution_count": 65,
   "id": "8ce78f9b",
   "metadata": {},
   "outputs": [
    {
     "name": "stdout",
     "output_type": "stream",
     "text": [
      "Total muts\n",
      "79 denovo germline\n",
      "1 somatic shared with all tissues\n",
      "805 somatic NB \n",
      "0 somatic NB shared with 11 tissues, not in MRT\n",
      "805 somatic NB shared with less than 11 tissues, not in MRT\n",
      "269 somatic NB shared with some tissues\n",
      "536 somatic unique NB\n",
      "1298 somatic MRT\n",
      "0 somatic MRT shared with 9 tissues, not in NB\n",
      "1298 somatic MRT, shared with less than 9 tissues\n",
      "1213 somatic MRT shared with some tissues\n",
      "85 somatic unique MRT\n"
     ]
    }
   ],
   "source": [
    "print('Total muts')\n",
    "print(len(data[data['denovo_germline']==True]),'denovo germline')\n",
    "print(len(data[(data['denovo_germline']==False)&(data['n_tissues']==12)]),'somatic shared with all tissues')\n",
    "print(len(data[(data['denovo_germline']==False)&(data['AF_t1']!=0)&(data['AF_t2']==0)]),'somatic NB ')\n",
    "print(len(data[(data['denovo_germline']==False)&(data['AF_t1']!=0)&(data['AF_t2']==0)&(data['n_tissues']==11)]),'somatic NB shared with 11 tissues, not in MRT')\n",
    "print(len(data[(data['denovo_germline']==False)&(data['AF_t1']!=0)&(data['AF_t2']==0)&(data['n_tissues']<11)]),'somatic NB shared with less than 11 tissues, not in MRT')\n",
    "print(len(data[(data['denovo_germline']==False)&(data['AF_t1']!=0)&(data['AF_t2']==0)&(data['n_tissues']>1)]),'somatic NB shared with some tissues')\n",
    "print(len(data[(data['denovo_germline']==False)&(data['AF_t1']!=0)&(data['AF_t2']==0)&(data['n_tissues']==1)]),'somatic unique NB')\n",
    "print(len(data[(data['denovo_germline']==False)&(data['AF_t2']!=0)&(data['AF_t1']==0)]),'somatic MRT')\n",
    "print(len(data[(data['denovo_germline']==False)&(data['AF_t2']!=0)&(data['AF_t1']==0)&(data['n_tissues']==9)]),'somatic MRT shared with 9 tissues, not in NB')\n",
    "print(len(data[(data['denovo_germline']==False)&(data['AF_t2']!=0)&(data['AF_t1']==0)&(data['n_tissues']<9)]),'somatic MRT, shared with less than 9 tissues')\n",
    "print(len(data[(data['denovo_germline']==False)&(data['AF_t2']!=0)&(data['AF_t1']==0)&(data['n_tissues']>1)]),'somatic MRT shared with some tissues')\n",
    "print(len(data[(data['denovo_germline']==False)&(data['AF_t2']!=0)&(data['AF_t1']==0)&(data['n_tissues']==1)]),'somatic unique MRT')"
   ]
  },
  {
   "cell_type": "code",
   "execution_count": 58,
   "id": "626cd780",
   "metadata": {},
   "outputs": [],
   "source": [
    "snv_data = data[data['mut_type']=='snv']"
   ]
  },
  {
   "cell_type": "code",
   "execution_count": 85,
   "id": "97c2affc",
   "metadata": {
    "scrolled": true
   },
   "outputs": [
    {
     "name": "stdout",
     "output_type": "stream",
     "text": [
      "SNVs\n",
      "78 denovo germline\n",
      "1 somatic shared with all tissues\n",
      "768 somatic NB \n",
      "6 somatic NB shared with 4 tissues, not in MRT\n",
      "762 somatic NB shared with less than 4 tissues, not in MRT\n",
      "258 somatic NB shared with some tissues\n",
      "510 somatic unique NB\n",
      "1149 somatic MRT\n",
      "1 somatic MRT shared with 7 tissues, not in NB\n",
      "1148 somatic MRT, shared with less than 7 tissues\n",
      "1071 somatic MRT shared with some tissues\n",
      "78 somatic unique MRT\n"
     ]
    }
   ],
   "source": [
    "print('SNVs')\n",
    "print(len(snv_data[snv_data['denovo_germline']==True]),'denovo germline')\n",
    "print(len(snv_data[(snv_data['denovo_germline']==False)&(snv_data['n_tissues']==12)]),'somatic shared with all tissues')\n",
    "print(len(snv_data[(snv_data['denovo_germline']==False)&(snv_data['AF_t1']!=0)&(snv_data['AF_t2']==0)]),'somatic NB ')\n",
    "print(len(snv_data[(snv_data['denovo_germline']==False)&(snv_data['AF_t1']!=0)&(snv_data['AF_t2']==0)&(snv_data['n_tissues']==5)]),'somatic NB shared with 4 tissues, not in MRT')\n",
    "print(len(snv_data[(snv_data['denovo_germline']==False)&(snv_data['AF_t1']!=0)&(snv_data['AF_t2']==0)&(snv_data['n_tissues']<5)]),'somatic NB shared with less than 4 tissues, not in MRT')\n",
    "print(len(snv_data[(snv_data['denovo_germline']==False)&(snv_data['AF_t1']!=0)&(snv_data['AF_t2']==0)&(snv_data['n_tissues']>1)]),'somatic NB shared with some tissues')\n",
    "print(len(snv_data[(snv_data['denovo_germline']==False)&(snv_data['AF_t1']!=0)&(snv_data['AF_t2']==0)&(snv_data['n_tissues']==1)]),'somatic unique NB')\n",
    "print(len(snv_data[(snv_data['denovo_germline']==False)&(snv_data['AF_t2']!=0)&(snv_data['AF_t1']==0)]),'somatic MRT')\n",
    "print(len(snv_data[(snv_data['denovo_germline']==False)&(snv_data['AF_t2']!=0)&(snv_data['AF_t1']==0)&(snv_data['n_tissues']==8)]),'somatic MRT shared with 7 tissues, not in NB')\n",
    "print(len(snv_data[(snv_data['denovo_germline']==False)&(snv_data['AF_t2']!=0)&(snv_data['AF_t1']==0)&(snv_data['n_tissues']<8)]),'somatic MRT, shared with less than 7 tissues')\n",
    "print(len(snv_data[(snv_data['denovo_germline']==False)&(snv_data['AF_t2']!=0)&(snv_data['AF_t1']==0)&(snv_data['n_tissues']>1)]),'somatic MRT shared with some tissues')\n",
    "print(len(snv_data[(snv_data['denovo_germline']==False)&(snv_data['AF_t2']!=0)&(snv_data['AF_t1']==0)&(snv_data['n_tissues']==1)]),'somatic unique MRT')"
   ]
  },
  {
   "cell_type": "code",
   "execution_count": 88,
   "id": "310a10f2",
   "metadata": {},
   "outputs": [
    {
     "data": {
      "text/plain": [
       "768"
      ]
     },
     "execution_count": 88,
     "metadata": {},
     "output_type": "execute_result"
    }
   ],
   "source": [
    "#check number of somatic mutations in NB\n",
    "768\n",
    "258+510"
   ]
  },
  {
   "cell_type": "code",
   "execution_count": 89,
   "id": "c5cff109",
   "metadata": {},
   "outputs": [
    {
     "data": {
      "text/plain": [
       "1149"
      ]
     },
     "execution_count": 89,
     "metadata": {},
     "output_type": "execute_result"
    }
   ],
   "source": [
    "#check number of somatic mutations in MRT\n",
    "1149\n",
    "1071+78"
   ]
  },
  {
   "cell_type": "code",
   "execution_count": 54,
   "id": "9abe2396",
   "metadata": {},
   "outputs": [],
   "source": [
    "indel_data = data[data['mut_type']=='indel']"
   ]
  },
  {
   "cell_type": "code",
   "execution_count": 63,
   "id": "7565d921",
   "metadata": {},
   "outputs": [
    {
     "name": "stdout",
     "output_type": "stream",
     "text": [
      "Indels\n",
      "1 denovo germline\n",
      "0 somatic shared with all tissues\n",
      "37 somatic NB \n",
      "0 somatic NB shared with 11 tissues, not in MRT\n",
      "37 somatic NB shared with less than 11 tissues, not in MRT\n",
      "11 somatic NB shared with some tissues\n",
      "26 somatic unique NB\n",
      "149 somatic MRT\n",
      "0 somatic MRT shared with 9 tissues, not in NB\n",
      "149 somatic MRT, shared with less than 9 tissues\n",
      "142 somatic MRT shared with some tissues\n",
      "7 somatic unique MRT\n"
     ]
    }
   ],
   "source": [
    "print('Indels')\n",
    "print(len(indel_data[indel_data['denovo_germline']==True]),'denovo germline')\n",
    "print(len(indel_data[(indel_data['denovo_germline']==False)&(indel_data['n_tissues']==12)]),'somatic shared with all tissues')\n",
    "print(len(indel_data[(indel_data['denovo_germline']==False)&(indel_data['AF_t1']!=0)&(indel_data['AF_t2']==0)]),'somatic NB ')\n",
    "print(len(indel_data[(indel_data['denovo_germline']==False)&(indel_data['AF_t1']!=0)&(indel_data['AF_t2']==0)&(indel_data['n_tissues']==11)]),'somatic NB shared with 11 tissues, not in MRT')\n",
    "print(len(indel_data[(indel_data['denovo_germline']==False)&(indel_data['AF_t1']!=0)&(indel_data['AF_t2']==0)&(indel_data['n_tissues']<11)]),'somatic NB shared with less than 11 tissues, not in MRT')\n",
    "print(len(indel_data[(indel_data['denovo_germline']==False)&(indel_data['AF_t1']!=0)&(indel_data['AF_t2']==0)&(indel_data['n_tissues']>1)]),'somatic NB shared with some tissues')\n",
    "print(len(indel_data[(indel_data['denovo_germline']==False)&(indel_data['AF_t1']!=0)&(indel_data['AF_t2']==0)&(indel_data['n_tissues']==1)]),'somatic unique NB')\n",
    "print(len(indel_data[(indel_data['denovo_germline']==False)&(indel_data['AF_t2']!=0)&(indel_data['AF_t1']==0)]),'somatic MRT')\n",
    "print(len(indel_data[(indel_data['denovo_germline']==False)&(indel_data['AF_t2']!=0)&(indel_data['AF_t1']==0)&(indel_data['n_tissues']==9)]),'somatic MRT shared with 9 tissues, not in NB')\n",
    "print(len(indel_data[(indel_data['denovo_germline']==False)&(indel_data['AF_t2']!=0)&(indel_data['AF_t1']==0)&(indel_data['n_tissues']<9)]),'somatic MRT, shared with less than 9 tissues')\n",
    "print(len(indel_data[(indel_data['denovo_germline']==False)&(indel_data['AF_t2']!=0)&(indel_data['AF_t1']==0)&(indel_data['n_tissues']>1)]),'somatic MRT shared with some tissues')\n",
    "print(len(indel_data[(indel_data['denovo_germline']==False)&(indel_data['AF_t2']!=0)&(indel_data['AF_t1']==0)&(indel_data['n_tissues']==1)]),'somatic unique MRT')"
   ]
  }
 ],
 "metadata": {
  "kernelspec": {
   "display_name": "Python [conda env:process_vc]",
   "language": "python",
   "name": "conda-env-process_vc-py"
  },
  "language_info": {
   "codemirror_mode": {
    "name": "ipython",
    "version": 3
   },
   "file_extension": ".py",
   "mimetype": "text/x-python",
   "name": "python",
   "nbconvert_exporter": "python",
   "pygments_lexer": "ipython3",
   "version": "3.6.11"
  }
 },
 "nbformat": 4,
 "nbformat_minor": 5
}
