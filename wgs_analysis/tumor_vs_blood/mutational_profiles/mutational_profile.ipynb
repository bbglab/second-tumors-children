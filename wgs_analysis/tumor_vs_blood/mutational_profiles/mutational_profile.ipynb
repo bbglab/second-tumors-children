{
 "cells": [
  {
   "cell_type": "markdown",
   "metadata": {},
   "source": [
    "# Mutational profile"
   ]
  },
  {
   "cell_type": "code",
   "execution_count": 27,
   "metadata": {},
   "outputs": [],
   "source": [
    "%run ./functions_to_plot_profiles.py"
   ]
  },
  {
   "cell_type": "code",
   "execution_count": 14,
   "metadata": {
    "scrolled": true
   },
   "outputs": [
    {
     "data": {
      "text/plain": [
       "{'pt1': {'normal': 'AQ5174',\n",
       "  'tumor1': 'AQ5180',\n",
       "  'tumor2': 'AQ5186',\n",
       "  'sex': 'female',\n",
       "  'kidney': 'AX4954',\n",
       "  'liver': 'AX4955',\n",
       "  'pancreas': 'AX4956',\n",
       "  'heart': 'AX4957',\n",
       "  'clone1': 'AX4958',\n",
       "  'clone2': 'AX4961',\n",
       "  'mother': 'AW8063',\n",
       "  'father': 'AW8064',\n",
       "  'lung': 'AX4962',\n",
       "  'medulla': 'AX4963',\n",
       "  'spleen': 'AX4964',\n",
       "  'brain': 'AX4965',\n",
       "  'bma': 'AX4966'},\n",
       " 'pt2': {'normal': 'AQ5175',\n",
       "  'tumor1': 'AQ5181',\n",
       "  'tumor2': 'AQ5187',\n",
       "  'sex': 'female'},\n",
       " 'pt3': {'normal': 'AQ5176',\n",
       "  'tumor1': 'AQ5182',\n",
       "  'tumor2': 'AQ5188',\n",
       "  'sex': 'male'},\n",
       " 'pt4': {'normal': 'AQ5177',\n",
       "  'tumor1': 'AQ5183',\n",
       "  'tumor2': 'AQ5189',\n",
       "  'sex': 'female'},\n",
       " 'pt5': {'normal': 'AQ5178',\n",
       "  'tumor1': 'AQ5184',\n",
       "  'tumor2': 'AQ5190',\n",
       "  'sex': 'male'},\n",
       " 'pt6': {'normal': 'AQ5179',\n",
       "  'tumor1': 'AQ5185',\n",
       "  'tumor2': 'AQ5191',\n",
       "  'sex': 'female'},\n",
       " 'pt7': {'normal': 'AW8058',\n",
       "  'tumor1': 'AW8048',\n",
       "  'tumor2': 'AW8049',\n",
       "  'sex': 'female'},\n",
       " 'pt8': {'normal': 'AW8061',\n",
       "  'tumor1': 'AW8050',\n",
       "  'tumor2': 'AW8051',\n",
       "  'sex': 'female'},\n",
       " 'pt9': {'normal': 'AW8062',\n",
       "  'tumor1': 'AW8052',\n",
       "  'tumor2': 'AW8053',\n",
       "  'sex': 'female'},\n",
       " 'pt10': {'normal': 'AW8059',\n",
       "  'tumor1': 'AW8054',\n",
       "  'tumor2': 'AW8055',\n",
       "  'sex': 'female'},\n",
       " 'pt11': {'normal': 'AW8060',\n",
       "  'tumor1': 'AW8056',\n",
       "  'tumor2': 'AW8057',\n",
       "  'sex': 'female'}}"
      ]
     },
     "execution_count": 14,
     "metadata": {},
     "output_type": "execute_result"
    }
   ],
   "source": [
    "import json\n",
    "samples_dict = json.load(open('../../../cases_ids.json','rb'))\n",
    "samples_dict"
   ]
  },
  {
   "cell_type": "markdown",
   "metadata": {},
   "source": [
    "## Clonal vs. subclonals mutations"
   ]
  },
  {
   "cell_type": "code",
   "execution_count": null,
   "metadata": {},
   "outputs": [],
   "source": [
    "#change at the end\n",
    "pt_to_case = {'case1':'pt2','case2':'pt3','case3':'pt1','case4':'pt8'}\n",
    "root_out = \"/workspace/projects/sjd_pediatric_tumors/mafs_platinum/20220809/\"\n",
    "# root_out = '../vcf_postprocessing/output/'"
   ]
  },
  {
   "cell_type": "code",
   "execution_count": null,
   "metadata": {},
   "outputs": [],
   "source": [
    "title_dict = {'case1_tumor1':'Case 1, ARMS',\n",
    "             'case1_tumor2':'Case 1, tAML',\n",
    "             'case2_tumor1':'Case 2, EPN',\n",
    "             'case2_tumor2':'Case 2, DMG',\n",
    "             'case3_tumor1':'Case 3, NB',\n",
    "             'case3_tumor2':'Case 3, MRT',\n",
    "             'case4_tumor1':'Case 4, BL',\n",
    "             'case4_tumor2':'Case 4, THC'}"
   ]
  },
  {
   "cell_type": "code",
   "execution_count": null,
   "metadata": {},
   "outputs": [],
   "source": [
    "for case in samples_dict.keys():\n",
    "    pt = pt_to_case[case]  #remove at the end\n",
    "    root_out_pt = root_out+pt #remove at the end\n",
    "    for tumor in ['tumor1','tumor2']:\n",
    "        normal_id = samples_dict[case]['normal']\n",
    "        tumor_id = samples_dict[case][tumor]\n",
    "        df1 = pd.read_csv(root_out_pt+\"/\"+tumor_id+\"_vs_\"+normal_id+\"/filter_and_annot/\"+tumor_id+\"_vs_\"+normal_id+\"_filt.maf.gz\", sep='\\t')\n",
    "        for setting in ['clonal','subclonal']:\n",
    "            if setting == 'clonal':\n",
    "                df = df1[(df1['mut_type']=='snv')&(df1['clonal']==True)]\n",
    "            else:\n",
    "                df = df1[(df1['mut_type']=='snv')&(df1['clonal']==False)]\n",
    "            dictionary = df_to_dict(df)\n",
    "\n",
    "            dict_counts = change_dct_format(dictionary)\n",
    "            fig, ax = plt.subplots()\n",
    "            title = title_dict[case+'_'+tumor] +' '+ setting + ' SNVs'\n",
    "            plot_signature(dict_counts, title=title ,fig=fig,ax=ax,figsize=(15,3),pad=50,labels=[])\n",
    "            plt.ylabel('Percentage of\\nSingle Base Substitutions',size=14)\n",
    "            ax.yaxis.set_label_coords(-.05, .5)\n",
    "            ymin, ymax = ax.get_ylim()\n",
    "            plt.yticks(np.arange(int(ymin), int(ymax)+2, 2.0))\n",
    "            for pos in range(0,int(ymax)+2,2):\n",
    "                plt.text(x=-2.8,y=pos-0.3,s='%',size=13)\n",
    "            for pos in range(0,int(ymax)+2,2):\n",
    "                plt.text(x=-1,y=pos-0.2,s='-',size=16)\n",
    "            ax.spines['left'].set_color('lightgrey')        \n",
    "            ax.spines['top'].set_color('lightgrey')  \n",
    "            ax.spines['bottom'].set_color('lightgrey')        \n",
    "            ax.spines['right'].set_color('lightgrey') \n",
    "            ax.grid(False)\n",
    "            plt.savefig(\"./figures_papers/\"+case+\"_\"+tumor+\"_\"+setting+\"_profile.png\",dpi=300, format='png',transparent=True,bbox_inches='tight')\n",
    "\n",
    "            plt.show()"
   ]
  }
 ],
 "metadata": {
  "kernelspec": {
   "display_name": "Python [conda env:process_vc]",
   "language": "python",
   "name": "conda-env-process_vc-py"
  },
  "language_info": {
   "codemirror_mode": {
    "name": "ipython",
    "version": 3
   },
   "file_extension": ".py",
   "mimetype": "text/x-python",
   "name": "python",
   "nbconvert_exporter": "python",
   "pygments_lexer": "ipython3",
   "version": "3.6.11"
  }
 },
 "nbformat": 4,
 "nbformat_minor": 2
}
