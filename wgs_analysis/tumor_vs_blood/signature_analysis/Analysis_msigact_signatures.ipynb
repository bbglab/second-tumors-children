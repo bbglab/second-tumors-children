{
 "cells": [
  {
   "cell_type": "markdown",
   "metadata": {},
   "source": [
    "# Mutational signatures analysis with mSigAct"
   ]
  },
  {
   "cell_type": "code",
   "execution_count": 5,
   "metadata": {
    "scrolled": true
   },
   "outputs": [],
   "source": [
    "import pandas as pd\n",
    "import json\n",
    "import matplotlib.pyplot as plt\n",
    "import matplotlib as mpl\n",
    "import numpy as np\n",
    "import os\n",
    "\n",
    "samples_dict = json.load(open('../../../cases_ids.json','rb'))"
   ]
  },
  {
   "cell_type": "code",
   "execution_count": 6,
   "metadata": {},
   "outputs": [],
   "source": [
    "#change at the end\n",
    "pt_to_case = {'case1':'pt2','case2':'pt3','case3':'pt1','case4':'pt8'}\n",
    "root_out = \"/workspace/projects/sjd_pediatric_tumors/mafs_platinum/20220809/\"\n",
    "# root_out = '../vcf_postprocessing/output/'"
   ]
  },
  {
   "cell_type": "markdown",
   "metadata": {},
   "source": [
    "## Create input for mSigAct\n",
    "A file containing all SNV mutations from all samples. There are 2 files cretaed:\n",
    "- Clonal mutations.\n",
    "- Subclonal mutations."
   ]
  },
  {
   "cell_type": "code",
   "execution_count": 6,
   "metadata": {},
   "outputs": [],
   "source": [
    "folder = './input/'\n",
    "if not os.path.exists(folder):\n",
    "    os.mkdir(folder)"
   ]
  },
  {
   "cell_type": "markdown",
   "metadata": {},
   "source": [
    "### Clonals"
   ]
  },
  {
   "cell_type": "code",
   "execution_count": 7,
   "metadata": {},
   "outputs": [
    {
     "data": {
      "text/html": [
       "<div>\n",
       "<style scoped>\n",
       "    .dataframe tbody tr th:only-of-type {\n",
       "        vertical-align: middle;\n",
       "    }\n",
       "\n",
       "    .dataframe tbody tr th {\n",
       "        vertical-align: top;\n",
       "    }\n",
       "\n",
       "    .dataframe thead th {\n",
       "        text-align: right;\n",
       "    }\n",
       "</style>\n",
       "<table border=\"1\" class=\"dataframe\">\n",
       "  <thead>\n",
       "    <tr style=\"text-align: right;\">\n",
       "      <th></th>\n",
       "      <th>CHROM</th>\n",
       "      <th>POS</th>\n",
       "      <th>REF</th>\n",
       "      <th>ALT</th>\n",
       "      <th>SAMPLE</th>\n",
       "    </tr>\n",
       "  </thead>\n",
       "  <tbody>\n",
       "    <tr>\n",
       "      <th>0</th>\n",
       "      <td>chr1</td>\n",
       "      <td>2124674</td>\n",
       "      <td>G</td>\n",
       "      <td>A</td>\n",
       "      <td>AQ5181_vs_AQ5175</td>\n",
       "    </tr>\n",
       "    <tr>\n",
       "      <th>1</th>\n",
       "      <td>chr1</td>\n",
       "      <td>10680552</td>\n",
       "      <td>C</td>\n",
       "      <td>G</td>\n",
       "      <td>AQ5181_vs_AQ5175</td>\n",
       "    </tr>\n",
       "    <tr>\n",
       "      <th>2</th>\n",
       "      <td>chr1</td>\n",
       "      <td>16443082</td>\n",
       "      <td>C</td>\n",
       "      <td>A</td>\n",
       "      <td>AQ5181_vs_AQ5175</td>\n",
       "    </tr>\n",
       "    <tr>\n",
       "      <th>3</th>\n",
       "      <td>chr1</td>\n",
       "      <td>24524785</td>\n",
       "      <td>G</td>\n",
       "      <td>T</td>\n",
       "      <td>AQ5181_vs_AQ5175</td>\n",
       "    </tr>\n",
       "    <tr>\n",
       "      <th>4</th>\n",
       "      <td>chr1</td>\n",
       "      <td>29334170</td>\n",
       "      <td>G</td>\n",
       "      <td>T</td>\n",
       "      <td>AQ5181_vs_AQ5175</td>\n",
       "    </tr>\n",
       "    <tr>\n",
       "      <th>...</th>\n",
       "      <td>...</td>\n",
       "      <td>...</td>\n",
       "      <td>...</td>\n",
       "      <td>...</td>\n",
       "      <td>...</td>\n",
       "    </tr>\n",
       "    <tr>\n",
       "      <th>8762</th>\n",
       "      <td>chrX</td>\n",
       "      <td>114639288</td>\n",
       "      <td>A</td>\n",
       "      <td>G</td>\n",
       "      <td>AW8051_vs_AW8061</td>\n",
       "    </tr>\n",
       "    <tr>\n",
       "      <th>8763</th>\n",
       "      <td>chrX</td>\n",
       "      <td>127052622</td>\n",
       "      <td>G</td>\n",
       "      <td>A</td>\n",
       "      <td>AW8051_vs_AW8061</td>\n",
       "    </tr>\n",
       "    <tr>\n",
       "      <th>8764</th>\n",
       "      <td>chrX</td>\n",
       "      <td>143856134</td>\n",
       "      <td>G</td>\n",
       "      <td>A</td>\n",
       "      <td>AW8051_vs_AW8061</td>\n",
       "    </tr>\n",
       "    <tr>\n",
       "      <th>8765</th>\n",
       "      <td>chrX</td>\n",
       "      <td>145440422</td>\n",
       "      <td>T</td>\n",
       "      <td>A</td>\n",
       "      <td>AW8051_vs_AW8061</td>\n",
       "    </tr>\n",
       "    <tr>\n",
       "      <th>8766</th>\n",
       "      <td>chrX</td>\n",
       "      <td>151137618</td>\n",
       "      <td>C</td>\n",
       "      <td>T</td>\n",
       "      <td>AW8051_vs_AW8061</td>\n",
       "    </tr>\n",
       "  </tbody>\n",
       "</table>\n",
       "<p>8767 rows × 5 columns</p>\n",
       "</div>"
      ],
      "text/plain": [
       "     CHROM        POS REF ALT            SAMPLE\n",
       "0     chr1    2124674   G   A  AQ5181_vs_AQ5175\n",
       "1     chr1   10680552   C   G  AQ5181_vs_AQ5175\n",
       "2     chr1   16443082   C   A  AQ5181_vs_AQ5175\n",
       "3     chr1   24524785   G   T  AQ5181_vs_AQ5175\n",
       "4     chr1   29334170   G   T  AQ5181_vs_AQ5175\n",
       "...    ...        ...  ..  ..               ...\n",
       "8762  chrX  114639288   A   G  AW8051_vs_AW8061\n",
       "8763  chrX  127052622   G   A  AW8051_vs_AW8061\n",
       "8764  chrX  143856134   G   A  AW8051_vs_AW8061\n",
       "8765  chrX  145440422   T   A  AW8051_vs_AW8061\n",
       "8766  chrX  151137618   C   T  AW8051_vs_AW8061\n",
       "\n",
       "[8767 rows x 5 columns]"
      ]
     },
     "execution_count": 7,
     "metadata": {},
     "output_type": "execute_result"
    }
   ],
   "source": [
    "df = pd.DataFrame()\n",
    "for case in samples_dict.keys():\n",
    "    pt = pt_to_case[case] # remove at the end\n",
    "    root_out_pt = root_out + pt\n",
    "    for tumor in ['tumor1','tumor2']:\n",
    "        tumor_id = samples_dict[case][tumor]\n",
    "        normal_id = samples_dict[case]['normal']\n",
    "        df1 = pd.read_csv(root_out_pt+'/'+tumor_id+'_vs_'+normal_id+'/filter_and_annot/'+tumor_id+'_vs_'+normal_id+'_filt.maf.gz', sep='\\t')\n",
    "        \n",
    "        df1 = df1[['#CHROM','POS','REF','ALT','SAMPLE']][(df1['mut_type']=='snv')&(df1['clonal']==True)]\n",
    "        df = pd.concat([df,df1],ignore_index=True)\n",
    "df = df.rename(columns={'#CHROM':'CHROM'})\n",
    "df"
   ]
  },
  {
   "cell_type": "code",
   "execution_count": 5,
   "metadata": {},
   "outputs": [
    {
     "data": {
      "text/html": [
       "<div>\n",
       "<style scoped>\n",
       "    .dataframe tbody tr th:only-of-type {\n",
       "        vertical-align: middle;\n",
       "    }\n",
       "\n",
       "    .dataframe tbody tr th {\n",
       "        vertical-align: top;\n",
       "    }\n",
       "\n",
       "    .dataframe thead th {\n",
       "        text-align: right;\n",
       "    }\n",
       "</style>\n",
       "<table border=\"1\" class=\"dataframe\">\n",
       "  <thead>\n",
       "    <tr style=\"text-align: right;\">\n",
       "      <th></th>\n",
       "      <th>CHROM</th>\n",
       "      <th>POS</th>\n",
       "      <th>REF</th>\n",
       "      <th>SAMPLE</th>\n",
       "    </tr>\n",
       "    <tr>\n",
       "      <th>ALT</th>\n",
       "      <th></th>\n",
       "      <th></th>\n",
       "      <th></th>\n",
       "      <th></th>\n",
       "    </tr>\n",
       "  </thead>\n",
       "  <tbody>\n",
       "    <tr>\n",
       "      <th>A</th>\n",
       "      <td>2934</td>\n",
       "      <td>2934</td>\n",
       "      <td>2934</td>\n",
       "      <td>2934</td>\n",
       "    </tr>\n",
       "    <tr>\n",
       "      <th>C</th>\n",
       "      <td>1502</td>\n",
       "      <td>1502</td>\n",
       "      <td>1502</td>\n",
       "      <td>1502</td>\n",
       "    </tr>\n",
       "    <tr>\n",
       "      <th>G</th>\n",
       "      <td>1413</td>\n",
       "      <td>1413</td>\n",
       "      <td>1413</td>\n",
       "      <td>1413</td>\n",
       "    </tr>\n",
       "    <tr>\n",
       "      <th>T</th>\n",
       "      <td>2918</td>\n",
       "      <td>2918</td>\n",
       "      <td>2918</td>\n",
       "      <td>2918</td>\n",
       "    </tr>\n",
       "  </tbody>\n",
       "</table>\n",
       "</div>"
      ],
      "text/plain": [
       "     CHROM   POS   REF  SAMPLE\n",
       "ALT                           \n",
       "A     2934  2934  2934    2934\n",
       "C     1502  1502  1502    1502\n",
       "G     1413  1413  1413    1413\n",
       "T     2918  2918  2918    2918"
      ]
     },
     "execution_count": 5,
     "metadata": {},
     "output_type": "execute_result"
    }
   ],
   "source": [
    "df.groupby('ALT').count()  # check that there are no indels"
   ]
  },
  {
   "cell_type": "code",
   "execution_count": 6,
   "metadata": {},
   "outputs": [],
   "source": [
    "df.to_csv('./input/mutations_clonals.tsv.gz',sep='\\t',index=None,compression='gzip')"
   ]
  },
  {
   "cell_type": "markdown",
   "metadata": {},
   "source": [
    "### Subclonals"
   ]
  },
  {
   "cell_type": "code",
   "execution_count": 7,
   "metadata": {},
   "outputs": [
    {
     "data": {
      "text/html": [
       "<div>\n",
       "<style scoped>\n",
       "    .dataframe tbody tr th:only-of-type {\n",
       "        vertical-align: middle;\n",
       "    }\n",
       "\n",
       "    .dataframe tbody tr th {\n",
       "        vertical-align: top;\n",
       "    }\n",
       "\n",
       "    .dataframe thead th {\n",
       "        text-align: right;\n",
       "    }\n",
       "</style>\n",
       "<table border=\"1\" class=\"dataframe\">\n",
       "  <thead>\n",
       "    <tr style=\"text-align: right;\">\n",
       "      <th></th>\n",
       "      <th>CHROM</th>\n",
       "      <th>POS</th>\n",
       "      <th>REF</th>\n",
       "      <th>ALT</th>\n",
       "      <th>SAMPLE</th>\n",
       "    </tr>\n",
       "  </thead>\n",
       "  <tbody>\n",
       "    <tr>\n",
       "      <th>0</th>\n",
       "      <td>chr1</td>\n",
       "      <td>3812176</td>\n",
       "      <td>T</td>\n",
       "      <td>C</td>\n",
       "      <td>AQ5181_vs_AQ5175</td>\n",
       "    </tr>\n",
       "    <tr>\n",
       "      <th>1</th>\n",
       "      <td>chr1</td>\n",
       "      <td>6993922</td>\n",
       "      <td>G</td>\n",
       "      <td>T</td>\n",
       "      <td>AQ5181_vs_AQ5175</td>\n",
       "    </tr>\n",
       "    <tr>\n",
       "      <th>2</th>\n",
       "      <td>chr1</td>\n",
       "      <td>14917188</td>\n",
       "      <td>G</td>\n",
       "      <td>T</td>\n",
       "      <td>AQ5181_vs_AQ5175</td>\n",
       "    </tr>\n",
       "    <tr>\n",
       "      <th>3</th>\n",
       "      <td>chr1</td>\n",
       "      <td>15453875</td>\n",
       "      <td>G</td>\n",
       "      <td>C</td>\n",
       "      <td>AQ5181_vs_AQ5175</td>\n",
       "    </tr>\n",
       "    <tr>\n",
       "      <th>4</th>\n",
       "      <td>chr1</td>\n",
       "      <td>20795865</td>\n",
       "      <td>G</td>\n",
       "      <td>C</td>\n",
       "      <td>AQ5181_vs_AQ5175</td>\n",
       "    </tr>\n",
       "    <tr>\n",
       "      <th>...</th>\n",
       "      <td>...</td>\n",
       "      <td>...</td>\n",
       "      <td>...</td>\n",
       "      <td>...</td>\n",
       "      <td>...</td>\n",
       "    </tr>\n",
       "    <tr>\n",
       "      <th>4010</th>\n",
       "      <td>chrX</td>\n",
       "      <td>108814008</td>\n",
       "      <td>G</td>\n",
       "      <td>A</td>\n",
       "      <td>AW8051_vs_AW8061</td>\n",
       "    </tr>\n",
       "    <tr>\n",
       "      <th>4011</th>\n",
       "      <td>chrX</td>\n",
       "      <td>118499583</td>\n",
       "      <td>C</td>\n",
       "      <td>T</td>\n",
       "      <td>AW8051_vs_AW8061</td>\n",
       "    </tr>\n",
       "    <tr>\n",
       "      <th>4012</th>\n",
       "      <td>chrX</td>\n",
       "      <td>119447007</td>\n",
       "      <td>G</td>\n",
       "      <td>A</td>\n",
       "      <td>AW8051_vs_AW8061</td>\n",
       "    </tr>\n",
       "    <tr>\n",
       "      <th>4013</th>\n",
       "      <td>chrX</td>\n",
       "      <td>144321775</td>\n",
       "      <td>C</td>\n",
       "      <td>T</td>\n",
       "      <td>AW8051_vs_AW8061</td>\n",
       "    </tr>\n",
       "    <tr>\n",
       "      <th>4014</th>\n",
       "      <td>chrX</td>\n",
       "      <td>145672788</td>\n",
       "      <td>G</td>\n",
       "      <td>A</td>\n",
       "      <td>AW8051_vs_AW8061</td>\n",
       "    </tr>\n",
       "  </tbody>\n",
       "</table>\n",
       "<p>4015 rows × 5 columns</p>\n",
       "</div>"
      ],
      "text/plain": [
       "     CHROM        POS REF ALT            SAMPLE\n",
       "0     chr1    3812176   T   C  AQ5181_vs_AQ5175\n",
       "1     chr1    6993922   G   T  AQ5181_vs_AQ5175\n",
       "2     chr1   14917188   G   T  AQ5181_vs_AQ5175\n",
       "3     chr1   15453875   G   C  AQ5181_vs_AQ5175\n",
       "4     chr1   20795865   G   C  AQ5181_vs_AQ5175\n",
       "...    ...        ...  ..  ..               ...\n",
       "4010  chrX  108814008   G   A  AW8051_vs_AW8061\n",
       "4011  chrX  118499583   C   T  AW8051_vs_AW8061\n",
       "4012  chrX  119447007   G   A  AW8051_vs_AW8061\n",
       "4013  chrX  144321775   C   T  AW8051_vs_AW8061\n",
       "4014  chrX  145672788   G   A  AW8051_vs_AW8061\n",
       "\n",
       "[4015 rows x 5 columns]"
      ]
     },
     "execution_count": 7,
     "metadata": {},
     "output_type": "execute_result"
    }
   ],
   "source": [
    "df = pd.DataFrame()\n",
    "for case in samples_dict.keys():\n",
    "    pt = pt_to_case[case] # remove at the end\n",
    "    root_out_pt = root_out + pt\n",
    "    for tumor in ['tumor1','tumor2']:\n",
    "        tumor_id = samples_dict[case][tumor]\n",
    "        normal_id = samples_dict[case]['normal']\n",
    "        df1 = pd.read_csv(root_out_pt+'/'+tumor_id+'_vs_'+normal_id+'/filter_and_annot/'+tumor_id+'_vs_'+normal_id+'_filt.maf.gz', sep='\\t')\n",
    "        \n",
    "        df1 = df1[['#CHROM','POS','REF','ALT','SAMPLE']][(df1['mut_type']=='snv')&(df1['clonal']==False)]\n",
    "        df = pd.concat([df,df1],ignore_index=True)\n",
    "df = df.rename(columns={'#CHROM':'CHROM'})\n",
    "df"
   ]
  },
  {
   "cell_type": "code",
   "execution_count": 8,
   "metadata": {},
   "outputs": [
    {
     "data": {
      "text/html": [
       "<div>\n",
       "<style scoped>\n",
       "    .dataframe tbody tr th:only-of-type {\n",
       "        vertical-align: middle;\n",
       "    }\n",
       "\n",
       "    .dataframe tbody tr th {\n",
       "        vertical-align: top;\n",
       "    }\n",
       "\n",
       "    .dataframe thead th {\n",
       "        text-align: right;\n",
       "    }\n",
       "</style>\n",
       "<table border=\"1\" class=\"dataframe\">\n",
       "  <thead>\n",
       "    <tr style=\"text-align: right;\">\n",
       "      <th></th>\n",
       "      <th>CHROM</th>\n",
       "      <th>POS</th>\n",
       "      <th>REF</th>\n",
       "      <th>SAMPLE</th>\n",
       "    </tr>\n",
       "    <tr>\n",
       "      <th>ALT</th>\n",
       "      <th></th>\n",
       "      <th></th>\n",
       "      <th></th>\n",
       "      <th></th>\n",
       "    </tr>\n",
       "  </thead>\n",
       "  <tbody>\n",
       "    <tr>\n",
       "      <th>A</th>\n",
       "      <td>1294</td>\n",
       "      <td>1294</td>\n",
       "      <td>1294</td>\n",
       "      <td>1294</td>\n",
       "    </tr>\n",
       "    <tr>\n",
       "      <th>C</th>\n",
       "      <td>733</td>\n",
       "      <td>733</td>\n",
       "      <td>733</td>\n",
       "      <td>733</td>\n",
       "    </tr>\n",
       "    <tr>\n",
       "      <th>G</th>\n",
       "      <td>667</td>\n",
       "      <td>667</td>\n",
       "      <td>667</td>\n",
       "      <td>667</td>\n",
       "    </tr>\n",
       "    <tr>\n",
       "      <th>T</th>\n",
       "      <td>1321</td>\n",
       "      <td>1321</td>\n",
       "      <td>1321</td>\n",
       "      <td>1321</td>\n",
       "    </tr>\n",
       "  </tbody>\n",
       "</table>\n",
       "</div>"
      ],
      "text/plain": [
       "     CHROM   POS   REF  SAMPLE\n",
       "ALT                           \n",
       "A     1294  1294  1294    1294\n",
       "C      733   733   733     733\n",
       "G      667   667   667     667\n",
       "T     1321  1321  1321    1321"
      ]
     },
     "execution_count": 8,
     "metadata": {},
     "output_type": "execute_result"
    }
   ],
   "source": [
    "df.groupby('ALT').count()  # check that there are no indels"
   ]
  },
  {
   "cell_type": "code",
   "execution_count": 9,
   "metadata": {},
   "outputs": [],
   "source": [
    "df.to_csv('./input/mutations_subclonals.tsv.gz',sep='\\t',index=None,compression='gzip')"
   ]
  },
  {
   "cell_type": "markdown",
   "metadata": {},
   "source": [
    "## Execute mSigAct\n",
    "Follow the instructions at the ```./mSigAct/``` folder.\\\n",
    "Once obtained the output, it can be read in the following code and the plots can be created."
   ]
  },
  {
   "cell_type": "markdown",
   "metadata": {},
   "source": [
    "## Functions to plot signature fitting analysis"
   ]
  },
  {
   "cell_type": "code",
   "execution_count": 9,
   "metadata": {},
   "outputs": [],
   "source": [
    "#define a list with sample ids with CNAG barcode\n",
    "df = pd.read_csv('./input/mutations_clonals.tsv.gz',sep='\\t')\n",
    "order_list = df['SAMPLE'].unique().tolist()"
   ]
  },
  {
   "cell_type": "code",
   "execution_count": 9,
   "metadata": {},
   "outputs": [],
   "source": [
    "def color_sigs (sigs):\n",
    "\n",
    "    colors_dict = {}\n",
    "    colors_list = []\n",
    "    greys = ['gainsboro','darkgrey','gray','lightgrey','lightgray','silver','dimgrey','dimgray','slategrey']\n",
    "    i = 0\n",
    "    for sig in sigs:\n",
    "        if 'potential' in sig:\n",
    "            color = greys[i]\n",
    "            i+=1\n",
    "        elif 'SBS1-' in sig or sig=='SBS1':\n",
    "            color = 'orange'\n",
    "        elif 'SBS2-' in sig or sig=='SBS2':\n",
    "            color = 'olive'\n",
    "        elif 'SBS3-' in sig or sig=='SBS3':\n",
    "            color = 'mediumpurple'\n",
    "        elif 'SBS5-' in sig or sig=='SBS5':\n",
    "            color = 'skyblue'\n",
    "        elif 'SBS7a' in sig:\n",
    "            color = 'teal'\n",
    "        elif 'SBS12' in sig:\n",
    "            color = 'seagreen'\n",
    "        elif 'SBS13' in sig:\n",
    "            color = 'purple'\n",
    "        elif 'SBS17b' in sig:\n",
    "            color = 'pink'\n",
    "        elif 'SBS18' in sig:\n",
    "            color = 'royalblue'\n",
    "        elif 'SBS31' in sig:\n",
    "            color = 'firebrick'\n",
    "        elif 'SBS32' in sig:\n",
    "            color = 'plum'\n",
    "        elif 'SBS35' in sig:\n",
    "            color = 'lightcoral'\n",
    "        elif 'SBS40' in sig:\n",
    "            color = 'turquoise'\n",
    "        elif 'SBS60' in sig:\n",
    "            color = 'darkseagreen'\n",
    "        else:\n",
    "            color = greys[i]\n",
    "            i+=1\n",
    "            pass\n",
    "        colors_dict[sig] = color\n",
    "        colors_list.append(color)\n",
    "    return colors_dict,colors_list"
   ]
  },
  {
   "cell_type": "code",
   "execution_count": 10,
   "metadata": {},
   "outputs": [],
   "source": [
    "mpl.rcParams['axes.spines.right'] = False\n",
    "mpl.rcParams['axes.spines.top'] = False\n",
    "\n",
    "def plot_fitting_per_pt (df,title,ylim,legend,labels=['Subclonal','Clonal'],figsize=(3,2),text_pos=200,pos1=1,pos2=1,x_ticks_size=14):\n",
    "    \n",
    "    sigs = [sig for sig in df.columns.tolist() if sig != 'clonal']\n",
    "    colors_dict,colors_list = color_sigs(sigs)\n",
    "    df.plot(kind='bar', stacked=True, figsize=figsize,color=colors_list,legend=legend)\n",
    "    \n",
    "    if legend == True:\n",
    "        plt.legend(title='Signatures', bbox_to_anchor=(pos1, pos2), loc='upper left')\n",
    "        \n",
    "    muts_subclonal = df1[sigs].sum(axis=1)[0]\n",
    "    muts_clonal = df1[sigs].sum(axis=1)[1]\n",
    "\n",
    "    plt.text(0,muts_subclonal+text_pos,str(int(round(muts_subclonal,0))),color='black', fontweight='normal',ha='center',va='center',size=15)\n",
    "    plt.text(1,muts_clonal+text_pos,str(int(round(muts_clonal,0))),color='black', fontweight='normal',ha='center',va='center',size=15)\n",
    "\n",
    "    plt.ylabel('Number of\\nmutations',size=16)\n",
    "\n",
    "    plt.axvline(0.5,linestyle='--',c='black')\n",
    "\n",
    "    plt.xticks(range(0,len(df)), labels, rotation=0, size=x_ticks_size)\n",
    "    plt.title(title,size=20,pad=20)\n",
    "    plt.ylim(0,ylim)\n",
    "\n",
    "    plt.xlabel(' ')"
   ]
  },
  {
   "cell_type": "markdown",
   "metadata": {},
   "source": [
    "## Check mSigAct results"
   ]
  },
  {
   "cell_type": "markdown",
   "metadata": {},
   "source": [
    "### mSigAct"
   ]
  },
  {
   "cell_type": "code",
   "execution_count": 7,
   "metadata": {},
   "outputs": [],
   "source": [
    "#fix it at the end\n",
    "# root_to_msigact_clonals = '/workspace/projects/sjd_pediatric_tumors/signatures/fitting/msigact/230220_allsamples_run20220809_clonals_SBS40/'\n",
    "# root_to_msigact_subclonals = '/workspace/projects/sjd_pediatric_tumors/signatures/fitting/msigact/230220_allsamples_run20220809_subclonals_SBS40/'\n",
    "root_to_msigact_clonals = './msigact/clonals/'\n",
    "root_to_msigact_subclonals = './msigact/subclonals/'\n",
    "\n",
    "# path_sbs31_clonals = root_to_msigact_clonals+'output_sbs31/results.all_samples_run_20220809_clonals.matrix.tsv.mSigAct.SBS31.tsv'\n",
    "# path_sbs31_subclonals = root_to_msigact_subclonals+'output_sbs31/results.all_samples_run_20220809_subclonals.matrix.tsv.mSigAct.SBS31.tsv'\n",
    "path_sbs31_clonals = root_to_msigact_clonals+'output_sbs31/results.clonals.matrix.tsv.mSigAct.SBS31.tsv'\n",
    "path_sbs31_subclonals = root_to_msigact_subclonals+'output_sbs31/results.subclonals.matrix.tsv.mSigAct.SBS31.tsv'\n",
    "\n",
    "# path_sbs35_clonals = root_to_msigact_clonals+'output_sbs35/results.all_samples_run_20220809_clonals.matrix.tsv.mSigAct.SBS35.tsv'\n",
    "# path_sbs35_subclonals = root_to_msigact_subclonals+'output_sbs35/results.all_samples_run_20220809_subclonals.matrix.tsv.mSigAct.SBS35.tsv'\n",
    "path_sbs35_clonals = root_to_msigact_clonals+'output_sbs35/results.clonals.matrix.tsv.mSigAct.SBS35.tsv'\n",
    "path_sbs35_subclonals = root_to_msigact_subclonals+'output_sbs35/results.subclonals.matrix.tsv.mSigAct.SBS35.tsv'"
   ]
  },
  {
   "cell_type": "markdown",
   "metadata": {},
   "source": [
    "### Prepare plots for paper figure"
   ]
  },
  {
   "cell_type": "code",
   "execution_count": 10,
   "metadata": {},
   "outputs": [],
   "source": [
    "#Prepare lists with pvalues\n",
    "clonals_df = pd.read_csv(path_sbs31_clonals,sep='\\t')\n",
    "clonals_df = clonals_df.reindex(order_list)\n",
    "clonals_df = clonals_df[['SBS1','SBS5','SBS18','SBS40','SBS31']]\n",
    "clonals_df['clonal'] = True\n",
    "\n",
    "subclonals_df = pd.read_csv(path_sbs31_subclonals,sep='\\t')\n",
    "subclonals_df = subclonals_df.reindex(order_list)\n",
    "subclonals_df = subclonals_df[['SBS1','SBS5','SBS18','SBS40','SBS31']]\n",
    "subclonals_df['clonal'] = False\n",
    "\n",
    "df31 = pd.concat([subclonals_df,clonals_df],ignore_index=False)"
   ]
  },
  {
   "cell_type": "code",
   "execution_count": 15,
   "metadata": {
    "scrolled": true
   },
   "outputs": [],
   "source": [
    "#Prepare lists with pvalues\n",
    "clonals_df = pd.read_csv(path_sbs35_clonals,sep='\\t')\n",
    "clonals_df = clonals_df.reindex(order_list)\n",
    "clonals_df = clonals_df[['SBS1','SBS5','SBS18','SBS40','SBS35']]\n",
    "clonals_df['clonal'] = True\n",
    "\n",
    "subclonals_df = pd.read_csv(path_sbs35_subclonals,sep='\\t')\n",
    "subclonals_df = subclonals_df.reindex(order_list)\n",
    "subclonals_df = subclonals_df[['SBS1','SBS5','SBS18','SBS40','SBS35']]\n",
    "subclonals_df['clonal'] = False\n",
    "\n",
    "df35 = pd.concat([subclonals_df,clonals_df],ignore_index=False)"
   ]
  },
  {
   "cell_type": "markdown",
   "metadata": {},
   "source": [
    "## Plots separating clonal vs. subclonal, including all signatures (stacked)"
   ]
  },
  {
   "cell_type": "markdown",
   "metadata": {},
   "source": [
    "### Case 1"
   ]
  },
  {
   "cell_type": "markdown",
   "metadata": {},
   "source": [
    "#### ARMS, SBS31"
   ]
  },
  {
   "cell_type": "code",
   "execution_count": 16,
   "metadata": {},
   "outputs": [
    {
     "data": {
      "image/png": "[encoded data removed]",
      "text/plain": [
       "<Figure size 216x144 with 1 Axes>"
      ]
     },
     "metadata": {
      "needs_background": "light"
     },
     "output_type": "display_data"
    }
   ],
   "source": [
    "df = df31.copy()\n",
    "case = 'case1'\n",
    "tumor1_id = samples_dict[case]['tumor1']\n",
    "tumor2_id = samples_dict[case]['tumor2']\n",
    "normal_id = samples_dict[case]['normal']\n",
    "df1 = df[df.index.isin([tumor1_id+'_vs_'+normal_id])]\n",
    "\n",
    "title = 'ARMS'\n",
    "ylim = 2000\n",
    "legend = False\n",
    "x_ticks_size = 11\n",
    "\n",
    "plot_fitting_per_pt(df1,title,ylim,legend,x_ticks_size=x_ticks_size)\n",
    "\n",
    "plt.savefig('./figures_paper/case1_arms_sbs31_all_signatures.png',dpi=300, format='png',transparent=True,bbox_inches='tight')\n",
    "\n",
    "plt.show()"
   ]
  },
  {
   "cell_type": "markdown",
   "metadata": {},
   "source": [
    "#### ARMS, SBS35"
   ]
  },
  {
   "cell_type": "code",
   "execution_count": 17,
   "metadata": {
    "scrolled": true
   },
   "outputs": [
    {
     "data": {
      "image/png": "[encoded data removed]",
      "text/plain": [
       "<Figure size 216x144 with 1 Axes>"
      ]
     },
     "metadata": {
      "needs_background": "light"
     },
     "output_type": "display_data"
    }
   ],
   "source": [
    "df = df35.copy()\n",
    "case = 'case1'\n",
    "tumor1_id = samples_dict[case]['tumor1']\n",
    "tumor2_id = samples_dict[case]['tumor2']\n",
    "normal_id = samples_dict[case]['normal']\n",
    "df1 = df[df.index.isin([tumor1_id+'_vs_'+normal_id])]\n",
    "\n",
    "title = ''\n",
    "ylim = 2000\n",
    "legend = False\n",
    "x_ticks_size = 11\n",
    "\n",
    "plot_fitting_per_pt(df1,title,ylim,legend,x_ticks_size=x_ticks_size)\n",
    "\n",
    "plt.savefig('./figures_paper/case1_arms_sbs35_all_signatures.png',dpi=300, format='png',transparent=True,bbox_inches='tight')\n",
    "\n",
    "plt.show()"
   ]
  },
  {
   "cell_type": "markdown",
   "metadata": {},
   "source": [
    "#### tAML, SBS31"
   ]
  },
  {
   "cell_type": "code",
   "execution_count": 18,
   "metadata": {},
   "outputs": [
    {
     "data": {
      "image/png": "[encoded data removed]",
      "text/plain": [
       "<Figure size 216x144 with 1 Axes>"
      ]
     },
     "metadata": {
      "needs_background": "light"
     },
     "output_type": "display_data"
    }
   ],
   "source": [
    "df = df31.copy()\n",
    "case = 'case1'\n",
    "tumor1_id = samples_dict[case]['tumor1']\n",
    "tumor2_id = samples_dict[case]['tumor2']\n",
    "normal_id = samples_dict[case]['normal']\n",
    "df1 = df[df.index.isin([tumor2_id+'_vs_'+normal_id])]\n",
    "\n",
    "title = 'tAML'\n",
    "ylim = 2500\n",
    "legend=True\n",
    "x_ticks_size = 11\n",
    "\n",
    "plot_fitting_per_pt(df1,title,ylim,legend,x_ticks_size=x_ticks_size)\n",
    "\n",
    "plt.ylabel('')\n",
    "\n",
    "plt.savefig('./figures_paper/case1_taml_sbs31_all_signatures.png',dpi=300, format='png',transparent=True,bbox_inches='tight')\n",
    "\n",
    "plt.show()"
   ]
  },
  {
   "cell_type": "markdown",
   "metadata": {},
   "source": [
    "#### tAML, SBS35"
   ]
  },
  {
   "cell_type": "code",
   "execution_count": 19,
   "metadata": {},
   "outputs": [
    {
     "data": {
      "image/png": "[encoded data removed]",
      "text/plain": [
       "<Figure size 216x144 with 1 Axes>"
      ]
     },
     "metadata": {
      "needs_background": "light"
     },
     "output_type": "display_data"
    }
   ],
   "source": [
    "df = df35.copy()\n",
    "case = 'case1'\n",
    "tumor1_id = samples_dict[case]['tumor1']\n",
    "tumor2_id = samples_dict[case]['tumor2']\n",
    "normal_id = samples_dict[case]['normal']\n",
    "df1 = df[df.index.isin([tumor2_id+'_vs_'+normal_id])]\n",
    "\n",
    "title = ''\n",
    "ylim = 2500\n",
    "legend = True\n",
    "x_ticks_size = 11\n",
    "\n",
    "plot_fitting_per_pt(df1,title,ylim,legend,x_ticks_size=x_ticks_size)\n",
    "\n",
    "plt.ylabel('')\n",
    "\n",
    "plt.savefig('./figures_paper/case1_taml_sbs35_all_signatures.png',dpi=300, format='png',transparent=True,bbox_inches='tight')\n",
    "\n",
    "plt.show()"
   ]
  },
  {
   "cell_type": "markdown",
   "metadata": {},
   "source": [
    "### Case 2"
   ]
  },
  {
   "cell_type": "markdown",
   "metadata": {},
   "source": [
    "#### EPN, SBS31"
   ]
  },
  {
   "cell_type": "code",
   "execution_count": 20,
   "metadata": {
    "scrolled": true
   },
   "outputs": [
    {
     "data": {
      "image/png": "[encoded data removed]",
      "text/plain": [
       "<Figure size 216x144 with 1 Axes>"
      ]
     },
     "metadata": {
      "needs_background": "light"
     },
     "output_type": "display_data"
    }
   ],
   "source": [
    "df = df31.copy()\n",
    "case = 'case2'\n",
    "tumor1_id = samples_dict[case]['tumor1']\n",
    "tumor2_id = samples_dict[case]['tumor2']\n",
    "normal_id = samples_dict[case]['normal']\n",
    "df1 = df[df.index.isin([tumor1_id+'_vs_'+normal_id])]\n",
    "\n",
    "title = 'EPN'\n",
    "ylim = 200\n",
    "legend = False\n",
    "text_pos = 30\n",
    "\n",
    "plot_fitting_per_pt(df1,title,ylim,legend,text_pos=text_pos)\n",
    "\n",
    "plt.savefig('./figures_paper/case2_epn_sbs31_all_signatures.png',dpi=300, format='png',transparent=True,bbox_inches='tight')\n",
    "\n",
    "plt.show()"
   ]
  },
  {
   "cell_type": "markdown",
   "metadata": {},
   "source": [
    "#### EPN, SBS35"
   ]
  },
  {
   "cell_type": "code",
   "execution_count": 21,
   "metadata": {
    "scrolled": true
   },
   "outputs": [
    {
     "data": {
      "image/png": "[encoded data removed]",
      "text/plain": [
       "<Figure size 216x144 with 1 Axes>"
      ]
     },
     "metadata": {
      "needs_background": "light"
     },
     "output_type": "display_data"
    }
   ],
   "source": [
    "df = df35.copy()\n",
    "case = 'case2'\n",
    "tumor1_id = samples_dict[case]['tumor1']\n",
    "tumor2_id = samples_dict[case]['tumor2']\n",
    "normal_id = samples_dict[case]['normal']\n",
    "df1 = df[df.index.isin([tumor1_id+'_vs_'+normal_id])]\n",
    "\n",
    "title = ''\n",
    "ylim = 200\n",
    "legend = False\n",
    "text_pos = 30\n",
    "\n",
    "plot_fitting_per_pt(df1,title,ylim,legend,text_pos=text_pos)\n",
    "\n",
    "plt.savefig('./figures_paper/case2_epn_sbs35_all_signatures.png',dpi=300, format='png',transparent=True,bbox_inches='tight')\n",
    "\n",
    "plt.show()"
   ]
  },
  {
   "cell_type": "markdown",
   "metadata": {},
   "source": [
    "#### DMG, SBS31"
   ]
  },
  {
   "cell_type": "code",
   "execution_count": 22,
   "metadata": {},
   "outputs": [
    {
     "data": {
      "image/png": "[encoded data removed]",
      "text/plain": [
       "<Figure size 216x144 with 1 Axes>"
      ]
     },
     "metadata": {
      "needs_background": "light"
     },
     "output_type": "display_data"
    }
   ],
   "source": [
    "df = df31.copy()\n",
    "case = 'case2'\n",
    "tumor1_id = samples_dict[case]['tumor1']\n",
    "tumor2_id = samples_dict[case]['tumor2']\n",
    "normal_id = samples_dict[case]['normal']\n",
    "df1 = df[df.index.isin([tumor2_id+'_vs_'+normal_id])]\n",
    "\n",
    "title = 'DMG'\n",
    "ylim = 1300\n",
    "legend=True\n",
    "\n",
    "plot_fitting_per_pt(df1,title,ylim,legend)\n",
    "\n",
    "plt.yticks(np.arange(0,1400,400))\n",
    "plt.ylabel('')\n",
    "\n",
    "plt.savefig('./figures_paper/case2_dmg_sbs31_all_signatures.png',dpi=300, format='png',transparent=True,bbox_inches='tight')\n",
    "\n",
    "plt.show()"
   ]
  },
  {
   "cell_type": "markdown",
   "metadata": {},
   "source": [
    "#### DMG, SBS35"
   ]
  },
  {
   "cell_type": "code",
   "execution_count": 23,
   "metadata": {
    "scrolled": false
   },
   "outputs": [
    {
     "data": {
      "image/png": "[encoded data removed]",
      "text/plain": [
       "<Figure size 216x144 with 1 Axes>"
      ]
     },
     "metadata": {
      "needs_background": "light"
     },
     "output_type": "display_data"
    }
   ],
   "source": [
    "df = df35.copy()\n",
    "case = 'case2'\n",
    "tumor1_id = samples_dict[case]['tumor1']\n",
    "tumor2_id = samples_dict[case]['tumor2']\n",
    "normal_id = samples_dict[case]['normal']\n",
    "df1 = df[df.index.isin([tumor2_id+'_vs_'+normal_id])]\n",
    "\n",
    "title = ''\n",
    "ylim = 1300\n",
    "legend = True\n",
    "\n",
    "plot_fitting_per_pt(df1,title,ylim,legend)\n",
    "\n",
    "plt.yticks(np.arange(0,1400,400))\n",
    "plt.ylabel('')\n",
    "\n",
    "plt.savefig('./figures_paper/case2_dmg_sbs35_all_signatures.png',dpi=300, format='png',transparent=True,bbox_inches='tight')\n",
    "\n",
    "plt.show()"
   ]
  },
  {
   "cell_type": "markdown",
   "metadata": {},
   "source": [
    "### Case 3"
   ]
  },
  {
   "cell_type": "markdown",
   "metadata": {},
   "source": [
    "#### NB, SBS31"
   ]
  },
  {
   "cell_type": "code",
   "execution_count": 24,
   "metadata": {
    "scrolled": true
   },
   "outputs": [
    {
     "data": {
      "image/png": "[encoded data removed]",
      "text/plain": [
       "<Figure size 216x144 with 1 Axes>"
      ]
     },
     "metadata": {
      "needs_background": "light"
     },
     "output_type": "display_data"
    }
   ],
   "source": [
    "df = df31.copy()\n",
    "case = 'case3'\n",
    "tumor1_id = samples_dict[case]['tumor1']\n",
    "tumor2_id = samples_dict[case]['tumor2']\n",
    "normal_id = samples_dict[case]['normal']\n",
    "df1 = df[df.index.isin([tumor1_id+'_vs_'+normal_id])]\n",
    "\n",
    "title=''\n",
    "ylim = 1800\n",
    "legend=False\n",
    "\n",
    "plot_fitting_per_pt(df1,title,ylim,legend)\n",
    "\n",
    "plt.savefig('./figures_paper/case3_nb_sbs31_all_signatures.png',dpi=300, format='png',transparent=True,bbox_inches='tight')\n",
    "\n",
    "plt.show()"
   ]
  },
  {
   "cell_type": "markdown",
   "metadata": {},
   "source": [
    "#### NB, SBS35"
   ]
  },
  {
   "cell_type": "code",
   "execution_count": 25,
   "metadata": {
    "scrolled": true
   },
   "outputs": [
    {
     "data": {
      "image/png": "[encoded data removed]",
      "text/plain": [
       "<Figure size 216x144 with 1 Axes>"
      ]
     },
     "metadata": {
      "needs_background": "light"
     },
     "output_type": "display_data"
    }
   ],
   "source": [
    "df = df35.copy()\n",
    "case = 'case3'\n",
    "tumor1_id = samples_dict[case]['tumor1']\n",
    "tumor2_id = samples_dict[case]['tumor2']\n",
    "normal_id = samples_dict[case]['normal']\n",
    "df1 = df[df.index.isin([tumor1_id+'_vs_'+normal_id])]\n",
    "\n",
    "title=''\n",
    "ylim = 1800\n",
    "legend=False\n",
    "\n",
    "plot_fitting_per_pt(df1,title,ylim,legend)\n",
    "\n",
    "plt.savefig('./figures_paper/case3_nb_sbs35_all_signatures.png',dpi=300, format='png',transparent=True,bbox_inches='tight')\n",
    "\n",
    "plt.show()"
   ]
  },
  {
   "cell_type": "markdown",
   "metadata": {},
   "source": [
    "#### MRT, SBS31"
   ]
  },
  {
   "cell_type": "code",
   "execution_count": 26,
   "metadata": {},
   "outputs": [
    {
     "data": {
      "image/png": "[encoded data removed]",
      "text/plain": [
       "<Figure size 216x144 with 1 Axes>"
      ]
     },
     "metadata": {
      "needs_background": "light"
     },
     "output_type": "display_data"
    }
   ],
   "source": [
    "df = df31.copy()\n",
    "case = 'case3'\n",
    "tumor1_id = samples_dict[case]['tumor1']\n",
    "tumor2_id = samples_dict[case]['tumor2']\n",
    "normal_id = samples_dict[case]['normal']\n",
    "df1 = df[df.index.isin([tumor2_id+'_vs_'+normal_id])]\n",
    "\n",
    "title = ''\n",
    "ylim = 1800\n",
    "legend = True\n",
    "\n",
    "plot_fitting_per_pt(df1,title,ylim,legend)\n",
    "\n",
    "plt.ylabel('')\n",
    "\n",
    "plt.savefig('./figures_paper/case3_mrt_sbs31_all_signatures.png',dpi=300, format='png',transparent=True,bbox_inches='tight')\n",
    "\n",
    "plt.show()"
   ]
  },
  {
   "cell_type": "markdown",
   "metadata": {},
   "source": [
    "#### MRT, SBS35"
   ]
  },
  {
   "cell_type": "code",
   "execution_count": 27,
   "metadata": {},
   "outputs": [
    {
     "data": {
      "image/png": "[encoded data removed]",
      "text/plain": [
       "<Figure size 216x144 with 1 Axes>"
      ]
     },
     "metadata": {
      "needs_background": "light"
     },
     "output_type": "display_data"
    }
   ],
   "source": [
    "df = df35.copy()\n",
    "case = 'case3'\n",
    "tumor1_id = samples_dict[case]['tumor1']\n",
    "tumor2_id = samples_dict[case]['tumor2']\n",
    "normal_id = samples_dict[case]['normal']\n",
    "df1 = df[df.index.isin([tumor2_id+'_vs_'+normal_id])]\n",
    "\n",
    "title = ''\n",
    "ylim = 1800\n",
    "legend = True\n",
    "\n",
    "plot_fitting_per_pt(df1,title,ylim,legend)\n",
    "\n",
    "plt.ylabel('')\n",
    "\n",
    "plt.savefig('./figures_paper/case3_mrt_sbs35_all_signatures.png',dpi=300, format='png',transparent=True,bbox_inches='tight')\n",
    "\n",
    "plt.show()"
   ]
  },
  {
   "cell_type": "markdown",
   "metadata": {},
   "source": [
    "## Plots with 2 bars, separating platinum vs. aging signatures"
   ]
  },
  {
   "cell_type": "code",
   "execution_count": 11,
   "metadata": {},
   "outputs": [],
   "source": [
    "def plot_2_bars (sample_id,title,ylim,y_val):\n",
    "    \n",
    "    sigs = [sig for sig in df.columns.tolist() if sig != 'clonal']\n",
    "    df1 = df[df.index.isin([sample_id])]\n",
    "\n",
    "    other_sigs = ['SBS1','SBS5','SBS18','SBS40']\n",
    "\n",
    "    df1['other_sigs'] = df1[other_sigs].sum(axis=1)\n",
    "    df1 = df1[['SBS31','other_sigs','clonal']]\n",
    "\n",
    "    colors_dict,colors_list = color_sigs(sigs)\n",
    "\n",
    "    figsize = (3,2)\n",
    "    legend=False\n",
    "    pos1=1\n",
    "    pos2=1\n",
    "\n",
    "    pos1=0.05\n",
    "    pos2=-0.2\n",
    "\n",
    "    fig, ax = plt.subplots(figsize=figsize)\n",
    "\n",
    "    for x,val in enumerate(df1['SBS31'].tolist()):\n",
    "        pos = x-0.2\n",
    "        ax.bar(pos, val,color='firebrick',width=0.2)\n",
    "\n",
    "\n",
    "    for x,val in enumerate(df1['other_sigs'].tolist()):\n",
    "        pos = x +0.2\n",
    "        ax.bar(pos, val,color='grey',width=0.2)\n",
    "\n",
    "\n",
    "    if legend == True:\n",
    "        plt.legend(title='Signatures', bbox_to_anchor=(pos1, pos2), loc='upper left')\n",
    "        \n",
    "    labels = ['Subclonals','Clonals']\n",
    "    plt.xticks(range(0,len(df1)), labels, rotation=0,size=14)\n",
    "    plt.title(title,size=20,pad=20)\n",
    "    plt.ylim(0,ylim)\n",
    "\n",
    "    plt.xlabel(' ')\n",
    "    plt.ylabel('Number of\\nmutations',size=16)\n",
    "\n",
    "    mpl.rcParams['axes.spines.right'] = False\n",
    "    mpl.rcParams['axes.spines.top'] = False\n",
    "\n",
    "    plt.axvline(0.5,linestyle='--',c='black')\n",
    "    \n",
    "    for i, v in enumerate(df1['SBS31']):\n",
    "        plt.text(i-0.2, v+y_val, str(int(round(v,0))), color='firebrick', fontweight='normal',ha='center',va='center',size=15)\n",
    "    for i, v in enumerate(df1['other_sigs']):\n",
    "        plt.text(i+0.2, v+y_val, str(int(round(v,0))), color='grey', fontweight='normal',ha='center',va='center',size=15)\n",
    "\n"
   ]
  },
  {
   "cell_type": "markdown",
   "metadata": {},
   "source": [
    "### Plot legend"
   ]
  },
  {
   "cell_type": "code",
   "execution_count": 29,
   "metadata": {
    "scrolled": true
   },
   "outputs": [
    {
     "data": {
      "image/png": "[encoded data removed]",
      "text/plain": [
       "<Figure size 72x72 with 1 Axes>"
      ]
     },
     "metadata": {},
     "output_type": "display_data"
    }
   ],
   "source": [
    "import matplotlib.lines as mlines\n",
    "fig, ax = plt.subplots(figsize=(1,1))\n",
    "plt.xticks([])\n",
    "plt.yticks([])\n",
    "ax.spines['top'].set_visible(False)\n",
    "ax.spines['right'].set_visible(False)\n",
    "ax.spines['bottom'].set_visible(False)\n",
    "ax.spines['left'].set_visible(False)\n",
    "\n",
    "sbs31 = mlines.Line2D([], [], color='firebrick', marker='o', linestyle='None',\n",
    "                          markersize=8, label='Platinum')\n",
    "other_signatures = mlines.Line2D([], [], color='grey', marker='o', linestyle='None',\n",
    "                          markersize=8, label='Other')\n",
    "\n",
    "plt.legend(handles=[sbs31,other_signatures],bbox_to_anchor=(1,0.05,1,1),fontsize=14,title='Mutation type',title_fontsize=15)\n",
    "plt.savefig('./figures_paper/legend_platinum_vs_other.png',dpi=300, format='png',transparent=True,bbox_inches='tight')\n"
   ]
  },
  {
   "cell_type": "markdown",
   "metadata": {},
   "source": [
    "## Case 1"
   ]
  },
  {
   "cell_type": "markdown",
   "metadata": {},
   "source": [
    "### ARMS, SBS31"
   ]
  },
  {
   "cell_type": "code",
   "execution_count": 30,
   "metadata": {},
   "outputs": [
    {
     "name": "stderr",
     "output_type": "stream",
     "text": [
      "/home/msanchezg/miniconda3/envs/process_vc/lib/python3.6/site-packages/ipykernel_launcher.py:8: SettingWithCopyWarning: \n",
      "A value is trying to be set on a copy of a slice from a DataFrame.\n",
      "Try using .loc[row_indexer,col_indexer] = value instead\n",
      "\n",
      "See the caveats in the documentation: https://pandas.pydata.org/pandas-docs/stable/user_guide/indexing.html#returning-a-view-versus-a-copy\n",
      "  \n"
     ]
    },
    {
     "data": {
      "image/png": "[encoded data removed]",
      "text/plain": [
       "<Figure size 216x144 with 1 Axes>"
      ]
     },
     "metadata": {
      "needs_background": "light"
     },
     "output_type": "display_data"
    }
   ],
   "source": [
    "df = df31.copy()\n",
    "case = 'case1'\n",
    "tumor1_id = samples_dict[case]['tumor1']\n",
    "tumor2_id = samples_dict[case]['tumor2']\n",
    "normal_id = samples_dict[case]['normal']\n",
    "\n",
    "sample_id = tumor1_id + '_vs_'+normal_id\n",
    "\n",
    "ylim = 2000\n",
    "title='ARMS'\n",
    "y_val = 200\n",
    "plot_2_bars (sample_id,title,ylim,y_val)\n",
    "plt.savefig('./figures_paper/case1_arms_sbs31_vs_others.png',dpi=300, format='png',transparent=True,bbox_inches='tight')\n",
    "\n",
    "plt.show()"
   ]
  },
  {
   "cell_type": "markdown",
   "metadata": {},
   "source": [
    "### tAML, SBS31"
   ]
  },
  {
   "cell_type": "code",
   "execution_count": 31,
   "metadata": {},
   "outputs": [
    {
     "name": "stderr",
     "output_type": "stream",
     "text": [
      "/home/msanchezg/miniconda3/envs/process_vc/lib/python3.6/site-packages/ipykernel_launcher.py:8: SettingWithCopyWarning: \n",
      "A value is trying to be set on a copy of a slice from a DataFrame.\n",
      "Try using .loc[row_indexer,col_indexer] = value instead\n",
      "\n",
      "See the caveats in the documentation: https://pandas.pydata.org/pandas-docs/stable/user_guide/indexing.html#returning-a-view-versus-a-copy\n",
      "  \n"
     ]
    },
    {
     "data": {
      "image/png": "[encoded data removed]",
      "text/plain": [
       "<Figure size 216x144 with 1 Axes>"
      ]
     },
     "metadata": {
      "needs_background": "light"
     },
     "output_type": "display_data"
    }
   ],
   "source": [
    "df = df31.copy()\n",
    "case = 'case1'\n",
    "tumor1_id = samples_dict[case]['tumor1']\n",
    "tumor2_id = samples_dict[case]['tumor2']\n",
    "normal_id = samples_dict[case]['normal']\n",
    "\n",
    "sample_id = tumor2_id + '_vs_'+normal_id\n",
    "\n",
    "ylim = 1500\n",
    "title='tAML'\n",
    "y_val = 200\n",
    "plot_2_bars (sample_id,title,ylim,y_val)\n",
    "plt.ylabel('')\n",
    "plt.savefig('./figures_paper/case1_taml_sbs31_vs_others.png',dpi=300, format='png',transparent=True,bbox_inches='tight')\n",
    "\n",
    "plt.show()"
   ]
  },
  {
   "cell_type": "markdown",
   "metadata": {},
   "source": [
    "## Case 2"
   ]
  },
  {
   "cell_type": "markdown",
   "metadata": {},
   "source": [
    "### EPN, SBS31"
   ]
  },
  {
   "cell_type": "code",
   "execution_count": 32,
   "metadata": {
    "scrolled": true
   },
   "outputs": [
    {
     "name": "stderr",
     "output_type": "stream",
     "text": [
      "/home/msanchezg/miniconda3/envs/process_vc/lib/python3.6/site-packages/ipykernel_launcher.py:8: SettingWithCopyWarning: \n",
      "A value is trying to be set on a copy of a slice from a DataFrame.\n",
      "Try using .loc[row_indexer,col_indexer] = value instead\n",
      "\n",
      "See the caveats in the documentation: https://pandas.pydata.org/pandas-docs/stable/user_guide/indexing.html#returning-a-view-versus-a-copy\n",
      "  \n"
     ]
    },
    {
     "data": {
      "image/png": "[encoded data removed]",
      "text/plain": [
       "<Figure size 216x144 with 1 Axes>"
      ]
     },
     "metadata": {
      "needs_background": "light"
     },
     "output_type": "display_data"
    }
   ],
   "source": [
    "df = df31.copy()\n",
    "case = 'case2'\n",
    "tumor1_id = samples_dict[case]['tumor1']\n",
    "tumor2_id = samples_dict[case]['tumor2']\n",
    "normal_id = samples_dict[case]['normal']\n",
    "\n",
    "sample_id = tumor1_id + '_vs_'+normal_id\n",
    "\n",
    "ylim = 200\n",
    "title='EPN'\n",
    "y_val = 20\n",
    "plot_2_bars (sample_id,title,ylim,y_val)\n",
    "plt.savefig('./figures_paper/case2_epn_sbs31_vs_others.png',dpi=300, format='png',transparent=True,bbox_inches='tight')\n",
    "\n",
    "plt.show()"
   ]
  },
  {
   "cell_type": "markdown",
   "metadata": {},
   "source": [
    "### DMG, SBS31"
   ]
  },
  {
   "cell_type": "code",
   "execution_count": 33,
   "metadata": {
    "scrolled": true
   },
   "outputs": [
    {
     "name": "stderr",
     "output_type": "stream",
     "text": [
      "/home/msanchezg/miniconda3/envs/process_vc/lib/python3.6/site-packages/ipykernel_launcher.py:8: SettingWithCopyWarning: \n",
      "A value is trying to be set on a copy of a slice from a DataFrame.\n",
      "Try using .loc[row_indexer,col_indexer] = value instead\n",
      "\n",
      "See the caveats in the documentation: https://pandas.pydata.org/pandas-docs/stable/user_guide/indexing.html#returning-a-view-versus-a-copy\n",
      "  \n"
     ]
    },
    {
     "data": {
      "image/png": "[encoded data removed]",
      "text/plain": [
       "<Figure size 216x144 with 1 Axes>"
      ]
     },
     "metadata": {
      "needs_background": "light"
     },
     "output_type": "display_data"
    }
   ],
   "source": [
    "df = df31.copy()\n",
    "case = 'case2'\n",
    "tumor1_id = samples_dict[case]['tumor1']\n",
    "tumor2_id = samples_dict[case]['tumor2']\n",
    "normal_id = samples_dict[case]['normal']\n",
    "\n",
    "sample_id = tumor2_id + '_vs_'+normal_id\n",
    "\n",
    "ylim = 1000\n",
    "title='DMG'\n",
    "y_val = 100\n",
    "plot_2_bars (sample_id,title,ylim,y_val)\n",
    "plt.ylabel('')\n",
    "plt.savefig('./figures_paper/case2_dmg_sbs31_vs_others.png',dpi=300, format='png',transparent=True,bbox_inches='tight')\n",
    "\n",
    "plt.show()"
   ]
  },
  {
   "cell_type": "markdown",
   "metadata": {},
   "source": [
    "## Case 3"
   ]
  },
  {
   "cell_type": "markdown",
   "metadata": {},
   "source": [
    "### NB, SBS31"
   ]
  },
  {
   "cell_type": "code",
   "execution_count": 34,
   "metadata": {},
   "outputs": [
    {
     "name": "stderr",
     "output_type": "stream",
     "text": [
      "/home/msanchezg/miniconda3/envs/process_vc/lib/python3.6/site-packages/ipykernel_launcher.py:8: SettingWithCopyWarning: \n",
      "A value is trying to be set on a copy of a slice from a DataFrame.\n",
      "Try using .loc[row_indexer,col_indexer] = value instead\n",
      "\n",
      "See the caveats in the documentation: https://pandas.pydata.org/pandas-docs/stable/user_guide/indexing.html#returning-a-view-versus-a-copy\n",
      "  \n"
     ]
    },
    {
     "data": {
      "image/png": "[encoded data removed]",
      "text/plain": [
       "<Figure size 216x144 with 1 Axes>"
      ]
     },
     "metadata": {
      "needs_background": "light"
     },
     "output_type": "display_data"
    }
   ],
   "source": [
    "df = df31.copy()\n",
    "case = 'case3'\n",
    "tumor1_id = samples_dict[case]['tumor1']\n",
    "tumor2_id = samples_dict[case]['tumor2']\n",
    "normal_id = samples_dict[case]['normal']\n",
    "\n",
    "sample_id = tumor1_id + '_vs_'+normal_id\n",
    "\n",
    "ylim = 1500\n",
    "title = 'NB'\n",
    "y_val = 200\n",
    "plot_2_bars (sample_id,title,ylim,y_val)\n",
    "plt.savefig('./figures_paper/case3_nb_sbs31_vs_others.png',dpi=300, format='png',transparent=True,bbox_inches='tight')\n",
    "\n",
    "plt.show()"
   ]
  },
  {
   "cell_type": "markdown",
   "metadata": {},
   "source": [
    "### MRT, SBS31"
   ]
  },
  {
   "cell_type": "code",
   "execution_count": 35,
   "metadata": {},
   "outputs": [
    {
     "name": "stderr",
     "output_type": "stream",
     "text": [
      "/home/msanchezg/miniconda3/envs/process_vc/lib/python3.6/site-packages/ipykernel_launcher.py:8: SettingWithCopyWarning: \n",
      "A value is trying to be set on a copy of a slice from a DataFrame.\n",
      "Try using .loc[row_indexer,col_indexer] = value instead\n",
      "\n",
      "See the caveats in the documentation: https://pandas.pydata.org/pandas-docs/stable/user_guide/indexing.html#returning-a-view-versus-a-copy\n",
      "  \n"
     ]
    },
    {
     "data": {
      "image/png": "[encoded data removed]",
      "text/plain": [
       "<Figure size 216x144 with 1 Axes>"
      ]
     },
     "metadata": {
      "needs_background": "light"
     },
     "output_type": "display_data"
    }
   ],
   "source": [
    "df = df31.copy()\n",
    "case = 'case3'\n",
    "tumor1_id = samples_dict[case]['tumor1']\n",
    "tumor2_id = samples_dict[case]['tumor2']\n",
    "normal_id = samples_dict[case]['normal']\n",
    "\n",
    "sample_id = tumor2_id + '_vs_'+normal_id\n",
    "\n",
    "ylim = 2000\n",
    "title='MRT'\n",
    "y_val=200\n",
    "plot_2_bars (sample_id,title,ylim,y_val)\n",
    "plt.ylabel('')\n",
    "plt.savefig('./figures_paper/case_mrt_sbs31_vs_others.png',dpi=300, format='png',transparent=True,bbox_inches='tight')\n",
    "\n",
    "plt.show()"
   ]
  }
 ],
 "metadata": {
  "kernelspec": {
   "display_name": "Python [conda env:process_vc]",
   "language": "python",
   "name": "conda-env-process_vc-py"
  },
  "language_info": {
   "codemirror_mode": {
    "name": "ipython",
    "version": 3
   },
   "file_extension": ".py",
   "mimetype": "text/x-python",
   "name": "python",
   "nbconvert_exporter": "python",
   "pygments_lexer": "ipython3",
   "version": "3.6.11"
  }
 },
 "nbformat": 4,
 "nbformat_minor": 4
}
