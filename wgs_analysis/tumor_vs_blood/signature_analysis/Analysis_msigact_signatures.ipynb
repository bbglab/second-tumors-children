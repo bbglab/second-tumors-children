{
 "cells": [
  {
   "cell_type": "markdown",
   "metadata": {},
   "source": [
    "# Mutational signatures analysis with mSigAct"
   ]
  },
  {
   "cell_type": "code",
   "execution_count": 1,
   "metadata": {
    "scrolled": true
   },
   "outputs": [],
   "source": [
    "import pandas as pd\n",
    "import json\n",
    "import matplotlib.pyplot as plt\n",
    "import matplotlib as mpl\n",
    "import numpy as np\n",
    "\n",
    "samples_dict = json.load(open('../../../cases_ids.json','rb'))"
   ]
  },
  {
   "cell_type": "code",
   "execution_count": 2,
   "metadata": {},
   "outputs": [],
   "source": [
    "#change at the end\n",
    "pt_to_case = {'case1':'pt2','case2':'pt3','case3':'pt1','case4':'pt8'}\n",
    "root_out = \"/workspace/projects/sjd_pediatric_tumors/mafs_platinum/20220809/\"\n",
    "# root_out = '../vcf_postprocessing/output/'"
   ]
  },
  {
   "cell_type": "markdown",
   "metadata": {},
   "source": [
    "## Create input for mSigAct\n",
    "A file containing all SNV mutations from all samples. There are 2 files cretaed:\n",
    "- Clonal mutations.\n",
    "- Subclonal mutations."
   ]
  },
  {
   "cell_type": "markdown",
   "metadata": {},
   "source": [
    "### Clonals"
   ]
  },
  {
   "cell_type": "code",
   "execution_count": 3,
   "metadata": {},
   "outputs": [
    {
     "data": {
      "text/html": [
       "<div>\n",
       "<style scoped>\n",
       "    .dataframe tbody tr th:only-of-type {\n",
       "        vertical-align: middle;\n",
       "    }\n",
       "\n",
       "    .dataframe tbody tr th {\n",
       "        vertical-align: top;\n",
       "    }\n",
       "\n",
       "    .dataframe thead th {\n",
       "        text-align: right;\n",
       "    }\n",
       "</style>\n",
       "<table border=\"1\" class=\"dataframe\">\n",
       "  <thead>\n",
       "    <tr style=\"text-align: right;\">\n",
       "      <th></th>\n",
       "      <th>CHROM</th>\n",
       "      <th>POS</th>\n",
       "      <th>REF</th>\n",
       "      <th>ALT</th>\n",
       "      <th>SAMPLE</th>\n",
       "    </tr>\n",
       "  </thead>\n",
       "  <tbody>\n",
       "    <tr>\n",
       "      <th>0</th>\n",
       "      <td>chr1</td>\n",
       "      <td>2124674</td>\n",
       "      <td>G</td>\n",
       "      <td>A</td>\n",
       "      <td>AQ5181_vs_AQ5175</td>\n",
       "    </tr>\n",
       "    <tr>\n",
       "      <th>1</th>\n",
       "      <td>chr1</td>\n",
       "      <td>10680552</td>\n",
       "      <td>C</td>\n",
       "      <td>G</td>\n",
       "      <td>AQ5181_vs_AQ5175</td>\n",
       "    </tr>\n",
       "    <tr>\n",
       "      <th>2</th>\n",
       "      <td>chr1</td>\n",
       "      <td>16443082</td>\n",
       "      <td>C</td>\n",
       "      <td>A</td>\n",
       "      <td>AQ5181_vs_AQ5175</td>\n",
       "    </tr>\n",
       "    <tr>\n",
       "      <th>3</th>\n",
       "      <td>chr1</td>\n",
       "      <td>24524785</td>\n",
       "      <td>G</td>\n",
       "      <td>T</td>\n",
       "      <td>AQ5181_vs_AQ5175</td>\n",
       "    </tr>\n",
       "    <tr>\n",
       "      <th>4</th>\n",
       "      <td>chr1</td>\n",
       "      <td>29334170</td>\n",
       "      <td>G</td>\n",
       "      <td>T</td>\n",
       "      <td>AQ5181_vs_AQ5175</td>\n",
       "    </tr>\n",
       "    <tr>\n",
       "      <th>...</th>\n",
       "      <td>...</td>\n",
       "      <td>...</td>\n",
       "      <td>...</td>\n",
       "      <td>...</td>\n",
       "      <td>...</td>\n",
       "    </tr>\n",
       "    <tr>\n",
       "      <th>8762</th>\n",
       "      <td>chrX</td>\n",
       "      <td>114639288</td>\n",
       "      <td>A</td>\n",
       "      <td>G</td>\n",
       "      <td>AW8051_vs_AW8061</td>\n",
       "    </tr>\n",
       "    <tr>\n",
       "      <th>8763</th>\n",
       "      <td>chrX</td>\n",
       "      <td>127052622</td>\n",
       "      <td>G</td>\n",
       "      <td>A</td>\n",
       "      <td>AW8051_vs_AW8061</td>\n",
       "    </tr>\n",
       "    <tr>\n",
       "      <th>8764</th>\n",
       "      <td>chrX</td>\n",
       "      <td>143856134</td>\n",
       "      <td>G</td>\n",
       "      <td>A</td>\n",
       "      <td>AW8051_vs_AW8061</td>\n",
       "    </tr>\n",
       "    <tr>\n",
       "      <th>8765</th>\n",
       "      <td>chrX</td>\n",
       "      <td>145440422</td>\n",
       "      <td>T</td>\n",
       "      <td>A</td>\n",
       "      <td>AW8051_vs_AW8061</td>\n",
       "    </tr>\n",
       "    <tr>\n",
       "      <th>8766</th>\n",
       "      <td>chrX</td>\n",
       "      <td>151137618</td>\n",
       "      <td>C</td>\n",
       "      <td>T</td>\n",
       "      <td>AW8051_vs_AW8061</td>\n",
       "    </tr>\n",
       "  </tbody>\n",
       "</table>\n",
       "<p>8767 rows × 5 columns</p>\n",
       "</div>"
      ],
      "text/plain": [
       "     CHROM        POS REF ALT            SAMPLE\n",
       "0     chr1    2124674   G   A  AQ5181_vs_AQ5175\n",
       "1     chr1   10680552   C   G  AQ5181_vs_AQ5175\n",
       "2     chr1   16443082   C   A  AQ5181_vs_AQ5175\n",
       "3     chr1   24524785   G   T  AQ5181_vs_AQ5175\n",
       "4     chr1   29334170   G   T  AQ5181_vs_AQ5175\n",
       "...    ...        ...  ..  ..               ...\n",
       "8762  chrX  114639288   A   G  AW8051_vs_AW8061\n",
       "8763  chrX  127052622   G   A  AW8051_vs_AW8061\n",
       "8764  chrX  143856134   G   A  AW8051_vs_AW8061\n",
       "8765  chrX  145440422   T   A  AW8051_vs_AW8061\n",
       "8766  chrX  151137618   C   T  AW8051_vs_AW8061\n",
       "\n",
       "[8767 rows x 5 columns]"
      ]
     },
     "execution_count": 3,
     "metadata": {},
     "output_type": "execute_result"
    }
   ],
   "source": [
    "df = pd.DataFrame()\n",
    "for case in samples_dict.keys():\n",
    "    pt = pt_to_case[case] # remove at the end\n",
    "    root_out_pt = root_out + pt\n",
    "    for tumor in ['tumor1','tumor2']:\n",
    "        tumor_id = samples_dict[case][tumor]\n",
    "        normal_id = samples_dict[case]['normal']\n",
    "        df1 = pd.read_csv(root_out_pt+'/'+tumor_id+'_vs_'+normal_id+'/filter_and_annot/'+tumor_id+'_vs_'+normal_id+'_filt.maf.gz', sep='\\t')\n",
    "        \n",
    "        df1 = df1[['#CHROM','POS','REF','ALT','SAMPLE']][(df1['mut_type']=='snv')&(df1['clonal']==True)]\n",
    "        df = pd.concat([df,df1],ignore_index=True)\n",
    "df = df.rename(columns={'#CHROM':'CHROM'})\n",
    "df"
   ]
  },
  {
   "cell_type": "code",
   "execution_count": 4,
   "metadata": {},
   "outputs": [
    {
     "data": {
      "text/html": [
       "<div>\n",
       "<style scoped>\n",
       "    .dataframe tbody tr th:only-of-type {\n",
       "        vertical-align: middle;\n",
       "    }\n",
       "\n",
       "    .dataframe tbody tr th {\n",
       "        vertical-align: top;\n",
       "    }\n",
       "\n",
       "    .dataframe thead th {\n",
       "        text-align: right;\n",
       "    }\n",
       "</style>\n",
       "<table border=\"1\" class=\"dataframe\">\n",
       "  <thead>\n",
       "    <tr style=\"text-align: right;\">\n",
       "      <th></th>\n",
       "      <th>CHROM</th>\n",
       "      <th>POS</th>\n",
       "      <th>REF</th>\n",
       "      <th>SAMPLE</th>\n",
       "    </tr>\n",
       "    <tr>\n",
       "      <th>ALT</th>\n",
       "      <th></th>\n",
       "      <th></th>\n",
       "      <th></th>\n",
       "      <th></th>\n",
       "    </tr>\n",
       "  </thead>\n",
       "  <tbody>\n",
       "    <tr>\n",
       "      <th>A</th>\n",
       "      <td>2934</td>\n",
       "      <td>2934</td>\n",
       "      <td>2934</td>\n",
       "      <td>2934</td>\n",
       "    </tr>\n",
       "    <tr>\n",
       "      <th>C</th>\n",
       "      <td>1502</td>\n",
       "      <td>1502</td>\n",
       "      <td>1502</td>\n",
       "      <td>1502</td>\n",
       "    </tr>\n",
       "    <tr>\n",
       "      <th>G</th>\n",
       "      <td>1413</td>\n",
       "      <td>1413</td>\n",
       "      <td>1413</td>\n",
       "      <td>1413</td>\n",
       "    </tr>\n",
       "    <tr>\n",
       "      <th>T</th>\n",
       "      <td>2918</td>\n",
       "      <td>2918</td>\n",
       "      <td>2918</td>\n",
       "      <td>2918</td>\n",
       "    </tr>\n",
       "  </tbody>\n",
       "</table>\n",
       "</div>"
      ],
      "text/plain": [
       "     CHROM   POS   REF  SAMPLE\n",
       "ALT                           \n",
       "A     2934  2934  2934    2934\n",
       "C     1502  1502  1502    1502\n",
       "G     1413  1413  1413    1413\n",
       "T     2918  2918  2918    2918"
      ]
     },
     "execution_count": 4,
     "metadata": {},
     "output_type": "execute_result"
    }
   ],
   "source": [
    "df.groupby('ALT').count()  # check that there are no indels"
   ]
  },
  {
   "cell_type": "code",
   "execution_count": 5,
   "metadata": {},
   "outputs": [],
   "source": [
    "df.to_csv('./input/mutations_clonals.tsv.gz',sep='\\t',index=None,compression='gzip')"
   ]
  },
  {
   "cell_type": "markdown",
   "metadata": {},
   "source": [
    "### Subclonals"
   ]
  },
  {
   "cell_type": "code",
   "execution_count": 19,
   "metadata": {},
   "outputs": [
    {
     "data": {
      "text/html": [
       "<div>\n",
       "<style scoped>\n",
       "    .dataframe tbody tr th:only-of-type {\n",
       "        vertical-align: middle;\n",
       "    }\n",
       "\n",
       "    .dataframe tbody tr th {\n",
       "        vertical-align: top;\n",
       "    }\n",
       "\n",
       "    .dataframe thead th {\n",
       "        text-align: right;\n",
       "    }\n",
       "</style>\n",
       "<table border=\"1\" class=\"dataframe\">\n",
       "  <thead>\n",
       "    <tr style=\"text-align: right;\">\n",
       "      <th></th>\n",
       "      <th>CHROM</th>\n",
       "      <th>POS</th>\n",
       "      <th>REF</th>\n",
       "      <th>ALT</th>\n",
       "      <th>SAMPLE</th>\n",
       "    </tr>\n",
       "  </thead>\n",
       "  <tbody>\n",
       "    <tr>\n",
       "      <th>0</th>\n",
       "      <td>chr1</td>\n",
       "      <td>3812176</td>\n",
       "      <td>T</td>\n",
       "      <td>C</td>\n",
       "      <td>AQ5181_vs_AQ5175</td>\n",
       "    </tr>\n",
       "    <tr>\n",
       "      <th>1</th>\n",
       "      <td>chr1</td>\n",
       "      <td>6993922</td>\n",
       "      <td>G</td>\n",
       "      <td>T</td>\n",
       "      <td>AQ5181_vs_AQ5175</td>\n",
       "    </tr>\n",
       "    <tr>\n",
       "      <th>2</th>\n",
       "      <td>chr1</td>\n",
       "      <td>14917188</td>\n",
       "      <td>G</td>\n",
       "      <td>T</td>\n",
       "      <td>AQ5181_vs_AQ5175</td>\n",
       "    </tr>\n",
       "    <tr>\n",
       "      <th>3</th>\n",
       "      <td>chr1</td>\n",
       "      <td>15453875</td>\n",
       "      <td>G</td>\n",
       "      <td>C</td>\n",
       "      <td>AQ5181_vs_AQ5175</td>\n",
       "    </tr>\n",
       "    <tr>\n",
       "      <th>4</th>\n",
       "      <td>chr1</td>\n",
       "      <td>20795865</td>\n",
       "      <td>G</td>\n",
       "      <td>C</td>\n",
       "      <td>AQ5181_vs_AQ5175</td>\n",
       "    </tr>\n",
       "    <tr>\n",
       "      <th>...</th>\n",
       "      <td>...</td>\n",
       "      <td>...</td>\n",
       "      <td>...</td>\n",
       "      <td>...</td>\n",
       "      <td>...</td>\n",
       "    </tr>\n",
       "    <tr>\n",
       "      <th>4010</th>\n",
       "      <td>chrX</td>\n",
       "      <td>108814008</td>\n",
       "      <td>G</td>\n",
       "      <td>A</td>\n",
       "      <td>AW8051_vs_AW8061</td>\n",
       "    </tr>\n",
       "    <tr>\n",
       "      <th>4011</th>\n",
       "      <td>chrX</td>\n",
       "      <td>118499583</td>\n",
       "      <td>C</td>\n",
       "      <td>T</td>\n",
       "      <td>AW8051_vs_AW8061</td>\n",
       "    </tr>\n",
       "    <tr>\n",
       "      <th>4012</th>\n",
       "      <td>chrX</td>\n",
       "      <td>119447007</td>\n",
       "      <td>G</td>\n",
       "      <td>A</td>\n",
       "      <td>AW8051_vs_AW8061</td>\n",
       "    </tr>\n",
       "    <tr>\n",
       "      <th>4013</th>\n",
       "      <td>chrX</td>\n",
       "      <td>144321775</td>\n",
       "      <td>C</td>\n",
       "      <td>T</td>\n",
       "      <td>AW8051_vs_AW8061</td>\n",
       "    </tr>\n",
       "    <tr>\n",
       "      <th>4014</th>\n",
       "      <td>chrX</td>\n",
       "      <td>145672788</td>\n",
       "      <td>G</td>\n",
       "      <td>A</td>\n",
       "      <td>AW8051_vs_AW8061</td>\n",
       "    </tr>\n",
       "  </tbody>\n",
       "</table>\n",
       "<p>4015 rows × 5 columns</p>\n",
       "</div>"
      ],
      "text/plain": [
       "     CHROM        POS REF ALT            SAMPLE\n",
       "0     chr1    3812176   T   C  AQ5181_vs_AQ5175\n",
       "1     chr1    6993922   G   T  AQ5181_vs_AQ5175\n",
       "2     chr1   14917188   G   T  AQ5181_vs_AQ5175\n",
       "3     chr1   15453875   G   C  AQ5181_vs_AQ5175\n",
       "4     chr1   20795865   G   C  AQ5181_vs_AQ5175\n",
       "...    ...        ...  ..  ..               ...\n",
       "4010  chrX  108814008   G   A  AW8051_vs_AW8061\n",
       "4011  chrX  118499583   C   T  AW8051_vs_AW8061\n",
       "4012  chrX  119447007   G   A  AW8051_vs_AW8061\n",
       "4013  chrX  144321775   C   T  AW8051_vs_AW8061\n",
       "4014  chrX  145672788   G   A  AW8051_vs_AW8061\n",
       "\n",
       "[4015 rows x 5 columns]"
      ]
     },
     "execution_count": 19,
     "metadata": {},
     "output_type": "execute_result"
    }
   ],
   "source": [
    "df = pd.DataFrame()\n",
    "for case in samples_dict.keys():\n",
    "    pt = pt_to_case[case] # remove at the end\n",
    "    root_out_pt = root_out + pt\n",
    "    for tumor in ['tumor1','tumor2']:\n",
    "        tumor_id = samples_dict[case][tumor]\n",
    "        normal_id = samples_dict[case]['normal']\n",
    "        df1 = pd.read_csv(root_out_pt+'/'+tumor_id+'_vs_'+normal_id+'/filter_and_annot/'+tumor_id+'_vs_'+normal_id+'_filt.maf.gz', sep='\\t')\n",
    "        \n",
    "        df1 = df1[['#CHROM','POS','REF','ALT','SAMPLE']][(df1['mut_type']=='snv')&(df1['clonal']==False)]\n",
    "        df = pd.concat([df,df1],ignore_index=True)\n",
    "df = df.rename(columns={'#CHROM':'CHROM'})\n",
    "df"
   ]
  },
  {
   "cell_type": "code",
   "execution_count": 20,
   "metadata": {},
   "outputs": [
    {
     "data": {
      "text/html": [
       "<div>\n",
       "<style scoped>\n",
       "    .dataframe tbody tr th:only-of-type {\n",
       "        vertical-align: middle;\n",
       "    }\n",
       "\n",
       "    .dataframe tbody tr th {\n",
       "        vertical-align: top;\n",
       "    }\n",
       "\n",
       "    .dataframe thead th {\n",
       "        text-align: right;\n",
       "    }\n",
       "</style>\n",
       "<table border=\"1\" class=\"dataframe\">\n",
       "  <thead>\n",
       "    <tr style=\"text-align: right;\">\n",
       "      <th></th>\n",
       "      <th>CHROM</th>\n",
       "      <th>POS</th>\n",
       "      <th>REF</th>\n",
       "      <th>SAMPLE</th>\n",
       "    </tr>\n",
       "    <tr>\n",
       "      <th>ALT</th>\n",
       "      <th></th>\n",
       "      <th></th>\n",
       "      <th></th>\n",
       "      <th></th>\n",
       "    </tr>\n",
       "  </thead>\n",
       "  <tbody>\n",
       "    <tr>\n",
       "      <th>A</th>\n",
       "      <td>1294</td>\n",
       "      <td>1294</td>\n",
       "      <td>1294</td>\n",
       "      <td>1294</td>\n",
       "    </tr>\n",
       "    <tr>\n",
       "      <th>C</th>\n",
       "      <td>733</td>\n",
       "      <td>733</td>\n",
       "      <td>733</td>\n",
       "      <td>733</td>\n",
       "    </tr>\n",
       "    <tr>\n",
       "      <th>G</th>\n",
       "      <td>667</td>\n",
       "      <td>667</td>\n",
       "      <td>667</td>\n",
       "      <td>667</td>\n",
       "    </tr>\n",
       "    <tr>\n",
       "      <th>T</th>\n",
       "      <td>1321</td>\n",
       "      <td>1321</td>\n",
       "      <td>1321</td>\n",
       "      <td>1321</td>\n",
       "    </tr>\n",
       "  </tbody>\n",
       "</table>\n",
       "</div>"
      ],
      "text/plain": [
       "     CHROM   POS   REF  SAMPLE\n",
       "ALT                           \n",
       "A     1294  1294  1294    1294\n",
       "C      733   733   733     733\n",
       "G      667   667   667     667\n",
       "T     1321  1321  1321    1321"
      ]
     },
     "execution_count": 20,
     "metadata": {},
     "output_type": "execute_result"
    }
   ],
   "source": [
    "df.groupby('ALT').count()  # check that there are no indels"
   ]
  },
  {
   "cell_type": "code",
   "execution_count": 8,
   "metadata": {},
   "outputs": [],
   "source": [
    "df.to_csv('./input/mutations_subclonals.tsv.gz',sep='\\t',index=None,compression='gzip')"
   ]
  },
  {
   "cell_type": "markdown",
   "metadata": {},
   "source": [
    "## Execute mSigAct\n",
    "Follow the instructions at the ```./mSigAct/``` folder.\\\n",
    "Once obtained the output, it can be read in the following code and the plots can be created."
   ]
  },
  {
   "cell_type": "markdown",
   "metadata": {},
   "source": [
    "## Functions to plot signature fitting analysis"
   ]
  },
  {
   "cell_type": "code",
   "execution_count": 21,
   "metadata": {},
   "outputs": [],
   "source": [
    "#define a list with sample ids with CNAG barcode\n",
    "order_list = df['SAMPLE'].unique().tolist()"
   ]
  },
  {
   "cell_type": "code",
   "execution_count": 9,
   "metadata": {},
   "outputs": [],
   "source": [
    "def color_sigs (sigs):\n",
    "\n",
    "    colors_dict = {}\n",
    "    colors_list = []\n",
    "    greys = ['gainsboro','darkgrey','gray','lightgrey','lightgray','silver','dimgrey','dimgray','slategrey']\n",
    "    i = 0\n",
    "    for sig in sigs:\n",
    "        if 'potential' in sig:\n",
    "            color = greys[i]\n",
    "            i+=1\n",
    "        elif 'SBS1-' in sig or sig=='SBS1':\n",
    "            color = 'orange'\n",
    "        elif 'SBS2-' in sig or sig=='SBS2':\n",
    "            color = 'olive'\n",
    "        elif 'SBS3-' in sig or sig=='SBS3':\n",
    "            color = 'mediumpurple'\n",
    "        elif 'SBS5-' in sig or sig=='SBS5':\n",
    "            color = 'skyblue'\n",
    "        elif 'SBS7a' in sig:\n",
    "            color = 'teal'\n",
    "        elif 'SBS12' in sig:\n",
    "            color = 'seagreen'\n",
    "        elif 'SBS13' in sig:\n",
    "            color = 'purple'\n",
    "        elif 'SBS17b' in sig:\n",
    "            color = 'pink'\n",
    "        elif 'SBS18' in sig:\n",
    "            color = 'royalblue'\n",
    "        elif 'SBS31' in sig:\n",
    "            color = 'firebrick'\n",
    "        elif 'SBS32' in sig:\n",
    "            color = 'plum'\n",
    "        elif 'SBS35' in sig:\n",
    "            color = 'lightcoral'\n",
    "        elif 'SBS40' in sig:\n",
    "            color = 'turquoise'\n",
    "        elif 'SBS60' in sig:\n",
    "            color = 'darkseagreen'\n",
    "        else:\n",
    "            color = greys[i]\n",
    "            i+=1\n",
    "            pass\n",
    "        colors_dict[sig] = color\n",
    "        colors_list.append(color)\n",
    "    return colors_dict,colors_list"
   ]
  },
  {
   "cell_type": "code",
   "execution_count": 106,
   "metadata": {},
   "outputs": [],
   "source": [
    "mpl.rcParams['axes.spines.right'] = False\n",
    "mpl.rcParams['axes.spines.top'] = False\n",
    "\n",
    "def plot_fitting_per_pt (df,title,ylim,legend,labels=['Subclonal','Clonal'],figsize=(3,2),text_pos=200,pos1=1,pos2=1,x_ticks_size=14):\n",
    "    \n",
    "    sigs = [sig for sig in df.columns.tolist() if sig != 'clonal']\n",
    "    colors_dict,colors_list = color_sigs(sigs)\n",
    "    df.plot(kind='bar', stacked=True, figsize=figsize,color=colors_list,legend=legend)\n",
    "    \n",
    "    if legend == True:\n",
    "        plt.legend(title='Signatures', bbox_to_anchor=(pos1, pos2), loc='upper left')\n",
    "        \n",
    "    muts_subclonal = df1[sigs].sum(axis=1)[0]\n",
    "    muts_clonal = df1[sigs].sum(axis=1)[1]\n",
    "\n",
    "    plt.text(0,muts_subclonal+text_pos,str(int(round(muts_subclonal,0))),color='black', fontweight='normal',ha='center',va='center',size=15)\n",
    "    plt.text(1,muts_clonal+text_pos,str(int(round(muts_clonal,0))),color='black', fontweight='normal',ha='center',va='center',size=15)\n",
    "\n",
    "    plt.ylabel('Number of\\nmutations',size=16)\n",
    "\n",
    "    plt.axvline(0.5,linestyle='--',c='black')\n",
    "\n",
    "    plt.xticks(range(0,len(df)), labels, rotation=0, size=x_ticks_size)\n",
    "    plt.title(title,size=20,pad=20)\n",
    "    plt.ylim(0,ylim)\n",
    "\n",
    "    plt.xlabel(' ')"
   ]
  },
  {
   "cell_type": "markdown",
   "metadata": {},
   "source": [
    "## Check mSigAct results"
   ]
  },
  {
   "cell_type": "markdown",
   "metadata": {},
   "source": [
    "### mSigAct"
   ]
  },
  {
   "cell_type": "code",
   "execution_count": 11,
   "metadata": {},
   "outputs": [],
   "source": [
    "#fix it at the end\n",
    "root_to_msigact_clonals = '/workspace/projects/sjd_pediatric_tumors/signatures/fitting/msigact/230220_allsamples_run20220809_clonals_SBS40/'\n",
    "root_to_msigact_subclonals = '/workspace/projects/sjd_pediatric_tumors/signatures/fitting/msigact/230220_allsamples_run20220809_subclonals_SBS40/'\n",
    "# root_to_misgact_clonals = './msigact/clonals/'\n",
    "# root_to_misgact_subclonals = './msigact/subclonals/'\n",
    "\n",
    "path_sbs31_clonals = root_to_msigact_clonals+'output_sbs31/results.all_samples_run_20220809_clonals.matrix.tsv.mSigAct.SBS31.tsv'\n",
    "path_sbs31_subclonals = root_to_msigact_subclonals+'output_sbs31/results.all_samples_run_20220809_subclonals.matrix.tsv.mSigAct.SBS31.tsv'\n",
    "# path_sbs31_clonals = root_to_msigact_clonals+'output_sbs31/results.clonals.matrix.tsv.mSigAct.SBS31.tsv'\n",
    "# path_sbs31_subclonals = root_to_msigact_subclonals+'output_sbs31/results.subclonals.matrix.tsv.mSigAct.SBS31.tsv'\n",
    "\n",
    "path_sbs35_clonals = root_to_msigact_clonals+'output_sbs35/results.all_samples_run_20220809_clonals.matrix.tsv.mSigAct.SBS35.tsv'\n",
    "path_sbs35_subclonals = root_to_msigact_subclonals+'output_sbs35/results.all_samples_run_20220809_subclonals.matrix.tsv.mSigAct.SBS35.tsv'\n",
    "# path_sbs35_clonals = root_to_msigact_clonals+'output_sbs35/results.clonals.matrix.tsv.mSigAct.SBS35.tsv'\n",
    "# path_sbs35_subclonals = root_to_msigact_subclonals+'output_sbs35/results.subclonals.matrix.tsv.mSigAct.SBS35.tsv'"
   ]
  },
  {
   "cell_type": "markdown",
   "metadata": {},
   "source": [
    "### Prepare plots for paper figure"
   ]
  },
  {
   "cell_type": "code",
   "execution_count": 14,
   "metadata": {},
   "outputs": [],
   "source": [
    "#Prepare lists with pvalues\n",
    "clonals_df = pd.read_csv(path_sbs31_clonals,sep='\\t')\n",
    "clonals_df = clonals_df.reindex(order_list)\n",
    "clonals_df = clonals_df[['SBS1','SBS5','SBS18','SBS40','SBS31']]\n",
    "clonals_df['clonal'] = True\n",
    "\n",
    "subclonals_df = pd.read_csv(path_sbs31_subclonals,sep='\\t')\n",
    "subclonals_df = subclonals_df.reindex(order_list)\n",
    "subclonals_df = subclonals_df[['SBS1','SBS5','SBS18','SBS40','SBS31']]\n",
    "subclonals_df['clonal'] = False\n",
    "\n",
    "df31 = pd.concat([subclonals_df,clonals_df],ignore_index=False)"
   ]
  },
  {
   "cell_type": "code",
   "execution_count": 15,
   "metadata": {
    "scrolled": true
   },
   "outputs": [],
   "source": [
    "#Prepare lists with pvalues\n",
    "clonals_df = pd.read_csv(path_sbs35_clonals,sep='\\t')\n",
    "clonals_df = clonals_df.reindex(order_list)\n",
    "clonals_df = clonals_df[['SBS1','SBS5','SBS18','SBS40','SBS35']]\n",
    "clonals_df['clonal'] = True\n",
    "\n",
    "subclonals_df = pd.read_csv(path_sbs35_subclonals,sep='\\t')\n",
    "subclonals_df = subclonals_df.reindex(order_list)\n",
    "subclonals_df = subclonals_df[['SBS1','SBS5','SBS18','SBS40','SBS35']]\n",
    "subclonals_df['clonal'] = False\n",
    "\n",
    "df35 = pd.concat([subclonals_df,clonals_df],ignore_index=False)"
   ]
  },
  {
   "cell_type": "markdown",
   "metadata": {},
   "source": [
    "## Plots separating clonal vs. subclonal, including all signatures (stacked)"
   ]
  },
  {
   "cell_type": "markdown",
   "metadata": {},
   "source": [
    "### Case 1"
   ]
  },
  {
   "cell_type": "markdown",
   "metadata": {},
   "source": [
    "#### ARMS, SBS31"
   ]
  },
  {
   "cell_type": "code",
   "execution_count": 108,
   "metadata": {},
   "outputs": [
    {
     "data": {
      "image/png": "[encoded data removed]",
      "text/plain": [
       "<Figure size 216x144 with 1 Axes>"
      ]
     },
     "metadata": {
      "needs_background": "light"
     },
     "output_type": "display_data"
    }
   ],
   "source": [
    "df = df31.copy()\n",
    "case = 'case1'\n",
    "tumor1_id = samples_dict[case]['tumor1']\n",
    "tumor2_id = samples_dict[case]['tumor2']\n",
    "normal_id = samples_dict[case]['normal']\n",
    "df1 = df[df.index.isin([tumor1_id+'_vs_'+normal_id])]\n",
    "\n",
    "title = 'ARMS'\n",
    "ylim = 2000\n",
    "legend = False\n",
    "x_ticks_size = 11\n",
    "\n",
    "plot_fitting_per_pt(df1,title,ylim,legend,x_ticks_size=x_ticks_size)\n",
    "\n",
    "plt.savefig('./figures_paper/case1_arms_sbs31_all_signatures.png',dpi=300, format='png',transparent=True,bbox_inches='tight')\n",
    "\n",
    "plt.show()"
   ]
  },
  {
   "cell_type": "markdown",
   "metadata": {},
   "source": [
    "#### ARMS, SBS35"
   ]
  },
  {
   "cell_type": "code",
   "execution_count": 98,
   "metadata": {
    "scrolled": true
   },
   "outputs": [
    {
     "data": {
      "image/png": "[encoded data removed]",
      "text/plain": [
       "<Figure size 216x144 with 1 Axes>"
      ]
     },
     "metadata": {
      "needs_background": "light"
     },
     "output_type": "display_data"
    }
   ],
   "source": [
    "df = df35.copy()\n",
    "case = 'case1'\n",
    "tumor1_id = samples_dict[case]['tumor1']\n",
    "tumor2_id = samples_dict[case]['tumor2']\n",
    "normal_id = samples_dict[case]['normal']\n",
    "df1 = df[df.index.isin([tumor1_id+'_vs_'+normal_id])]\n",
    "\n",
    "title = ''\n",
    "ylim = 2000\n",
    "legend = False\n",
    "x_ticks_size = 11\n",
    "\n",
    "plot_fitting_per_pt(df1,title,ylim,legend,x_ticks_size=x_ticks_size)\n",
    "\n",
    "plt.savefig('./figures_paper/case1_arms_sbs35_all_signatures.png',dpi=300, format='png',transparent=True,bbox_inches='tight')\n",
    "\n",
    "plt.show()"
   ]
  },
  {
   "cell_type": "markdown",
   "metadata": {},
   "source": [
    "#### tAML, SBS31"
   ]
  },
  {
   "cell_type": "code",
   "execution_count": 107,
   "metadata": {},
   "outputs": [
    {
     "data": {
      "image/png": "[encoded data removed]",
      "text/plain": [
       "<Figure size 216x144 with 1 Axes>"
      ]
     },
     "metadata": {
      "needs_background": "light"
     },
     "output_type": "display_data"
    }
   ],
   "source": [
    "df = df31.copy()\n",
    "case = 'case1'\n",
    "tumor1_id = samples_dict[case]['tumor1']\n",
    "tumor2_id = samples_dict[case]['tumor2']\n",
    "normal_id = samples_dict[case]['normal']\n",
    "df1 = df[df.index.isin([tumor2_id+'_vs_'+normal_id])]\n",
    "\n",
    "title = 'tAML'\n",
    "ylim = 2500\n",
    "legend=True\n",
    "x_ticks_size = 11\n",
    "\n",
    "plot_fitting_per_pt(df1,title,ylim,legend,x_ticks_size=x_ticks_size)\n",
    "\n",
    "plt.ylabel('')\n",
    "\n",
    "plt.savefig('./figures_paper/case1_taml_sbs31_all_signatures.png',dpi=300, format='png',transparent=True,bbox_inches='tight')\n",
    "\n",
    "plt.show()"
   ]
  },
  {
   "cell_type": "markdown",
   "metadata": {},
   "source": [
    "#### tAML, SBS35"
   ]
  },
  {
   "cell_type": "code",
   "execution_count": 101,
   "metadata": {},
   "outputs": [
    {
     "data": {
      "image/png": "[encoded data removed]",
      "text/plain": [
       "<Figure size 216x144 with 1 Axes>"
      ]
     },
     "metadata": {
      "needs_background": "light"
     },
     "output_type": "display_data"
    }
   ],
   "source": [
    "df = df35.copy()\n",
    "case = 'case1'\n",
    "tumor1_id = samples_dict[case]['tumor1']\n",
    "tumor2_id = samples_dict[case]['tumor2']\n",
    "normal_id = samples_dict[case]['normal']\n",
    "df1 = df[df.index.isin([tumor2_id+'_vs_'+normal_id])]\n",
    "\n",
    "title = ''\n",
    "ylim = 2500\n",
    "legend = True\n",
    "x_ticks_size = 11\n",
    "\n",
    "plot_fitting_per_pt(df1,title,ylim,legend,x_ticks_size=x_ticks_size)\n",
    "\n",
    "plt.ylabel('')\n",
    "\n",
    "plt.savefig('./figures_paper/case1_taml_sbs35_all_signatures.png',dpi=300, format='png',transparent=True,bbox_inches='tight')\n",
    "\n",
    "plt.show()"
   ]
  },
  {
   "cell_type": "markdown",
   "metadata": {},
   "source": [
    "### Case 2"
   ]
  },
  {
   "cell_type": "markdown",
   "metadata": {},
   "source": [
    "#### EPN, SBS31"
   ]
  },
  {
   "cell_type": "code",
   "execution_count": 109,
   "metadata": {
    "scrolled": true
   },
   "outputs": [
    {
     "data": {
      "image/png": "[encoded data removed]",
      "text/plain": [
       "<Figure size 216x144 with 1 Axes>"
      ]
     },
     "metadata": {
      "needs_background": "light"
     },
     "output_type": "display_data"
    }
   ],
   "source": [
    "df = df31.copy()\n",
    "case = 'case2'\n",
    "tumor1_id = samples_dict[case]['tumor1']\n",
    "tumor2_id = samples_dict[case]['tumor2']\n",
    "normal_id = samples_dict[case]['normal']\n",
    "df1 = df[df.index.isin([tumor1_id+'_vs_'+normal_id])]\n",
    "\n",
    "title = 'EPN'\n",
    "ylim = 200\n",
    "legend = False\n",
    "text_pos = 30\n",
    "\n",
    "plot_fitting_per_pt(df1,title,ylim,legend,text_pos=text_pos)\n",
    "\n",
    "plt.savefig('./figures_paper/case2_epn_sbs31_all_signatures.png',dpi=300, format='png',transparent=True,bbox_inches='tight')\n",
    "\n",
    "plt.show()"
   ]
  },
  {
   "cell_type": "markdown",
   "metadata": {},
   "source": [
    "#### EPN, SBS35"
   ]
  },
  {
   "cell_type": "code",
   "execution_count": 104,
   "metadata": {
    "scrolled": true
   },
   "outputs": [
    {
     "data": {
      "image/png": "[encoded data removed]",
      "text/plain": [
       "<Figure size 216x144 with 1 Axes>"
      ]
     },
     "metadata": {
      "needs_background": "light"
     },
     "output_type": "display_data"
    }
   ],
   "source": [
    "df = df35.copy()\n",
    "case = 'case2'\n",
    "tumor1_id = samples_dict[case]['tumor1']\n",
    "tumor2_id = samples_dict[case]['tumor2']\n",
    "normal_id = samples_dict[case]['normal']\n",
    "df1 = df[df.index.isin([tumor1_id+'_vs_'+normal_id])]\n",
    "\n",
    "title = ''\n",
    "ylim = 200\n",
    "legend = False\n",
    "text_pos = 30\n",
    "\n",
    "plot_fitting_per_pt(df1,title,ylim,legend,text_pos=text_pos)\n",
    "\n",
    "plt.savefig('./figures_paper/case2_epn_sbs35_all_signatures.png',dpi=300, format='png',transparent=True,bbox_inches='tight')\n",
    "\n",
    "plt.show()"
   ]
  },
  {
   "cell_type": "markdown",
   "metadata": {},
   "source": [
    "#### DMG, SBS31"
   ]
  },
  {
   "cell_type": "code",
   "execution_count": 110,
   "metadata": {},
   "outputs": [
    {
     "data": {
      "image/png": "[encoded data removed]",
      "text/plain": [
       "<Figure size 216x144 with 1 Axes>"
      ]
     },
     "metadata": {
      "needs_background": "light"
     },
     "output_type": "display_data"
    }
   ],
   "source": [
    "df = df31.copy()\n",
    "case = 'case2'\n",
    "tumor1_id = samples_dict[case]['tumor1']\n",
    "tumor2_id = samples_dict[case]['tumor2']\n",
    "normal_id = samples_dict[case]['normal']\n",
    "df1 = df[df.index.isin([tumor2_id+'_vs_'+normal_id])]\n",
    "\n",
    "title = 'DMG'\n",
    "ylim = 1300\n",
    "legend=True\n",
    "\n",
    "plot_fitting_per_pt(df1,title,ylim,legend)\n",
    "\n",
    "plt.yticks(np.arange(0,1400,400))\n",
    "plt.ylabel('')\n",
    "\n",
    "plt.savefig('./figures_paper/case2_dmg_sbs31_all_signatures.png',dpi=300, format='png',transparent=True,bbox_inches='tight')\n",
    "\n",
    "plt.show()"
   ]
  },
  {
   "cell_type": "markdown",
   "metadata": {},
   "source": [
    "#### DMG, SBS35"
   ]
  },
  {
   "cell_type": "code",
   "execution_count": 112,
   "metadata": {
    "scrolled": false
   },
   "outputs": [
    {
     "data": {
      "image/png": "[encoded data removed]",
      "text/plain": [
       "<Figure size 216x144 with 1 Axes>"
      ]
     },
     "metadata": {
      "needs_background": "light"
     },
     "output_type": "display_data"
    }
   ],
   "source": [
    "df = df35.copy()\n",
    "case = 'case2'\n",
    "tumor1_id = samples_dict[case]['tumor1']\n",
    "tumor2_id = samples_dict[case]['tumor2']\n",
    "normal_id = samples_dict[case]['normal']\n",
    "df1 = df[df.index.isin([tumor2_id+'_vs_'+normal_id])]\n",
    "\n",
    "title = ''\n",
    "ylim = 1300\n",
    "legend = True\n",
    "\n",
    "plot_fitting_per_pt(df1,title,ylim,legend,labels)\n",
    "\n",
    "plt.yticks(np.arange(0,1400,400))\n",
    "plt.ylabel('')\n",
    "\n",
    "plt.savefig('./figures_paper/case2_dmg_sbs35_all_signatures.png',dpi=300, format='png',transparent=True,bbox_inches='tight')\n",
    "\n",
    "plt.show()"
   ]
  },
  {
   "cell_type": "markdown",
   "metadata": {},
   "source": [
    "### Case 3"
   ]
  },
  {
   "cell_type": "markdown",
   "metadata": {},
   "source": [
    "#### NB, SBS31"
   ]
  },
  {
   "cell_type": "code",
   "execution_count": 113,
   "metadata": {
    "scrolled": true
   },
   "outputs": [
    {
     "data": {
      "image/png": "[encoded data removed]",
      "text/plain": [
       "<Figure size 216x144 with 1 Axes>"
      ]
     },
     "metadata": {
      "needs_background": "light"
     },
     "output_type": "display_data"
    }
   ],
   "source": [
    "df = df31.copy()\n",
    "case = 'case3'\n",
    "tumor1_id = samples_dict[case]['tumor1']\n",
    "tumor2_id = samples_dict[case]['tumor2']\n",
    "normal_id = samples_dict[case]['normal']\n",
    "df1 = df[df.index.isin([tumor1_id+'_vs_'+normal_id])]\n",
    "\n",
    "title=''\n",
    "ylim = 1800\n",
    "legend=False\n",
    "\n",
    "plot_fitting_per_pt(df1,title,ylim,legend)\n",
    "\n",
    "plt.savefig('./figures_paper/case3_nb_sbs31_all_signatures.png',dpi=300, format='png',transparent=True,bbox_inches='tight')\n",
    "\n",
    "plt.show()"
   ]
  },
  {
   "cell_type": "markdown",
   "metadata": {},
   "source": [
    "#### NB, SBS35"
   ]
  },
  {
   "cell_type": "code",
   "execution_count": 115,
   "metadata": {
    "scrolled": true
   },
   "outputs": [
    {
     "data": {
      "image/png": "[encoded data removed]",
      "text/plain": [
       "<Figure size 216x144 with 1 Axes>"
      ]
     },
     "metadata": {
      "needs_background": "light"
     },
     "output_type": "display_data"
    }
   ],
   "source": [
    "df = df35.copy()\n",
    "case = 'case3'\n",
    "tumor1_id = samples_dict[case]['tumor1']\n",
    "tumor2_id = samples_dict[case]['tumor2']\n",
    "normal_id = samples_dict[case]['normal']\n",
    "df1 = df[df.index.isin([tumor1_id+'_vs_'+normal_id])]\n",
    "\n",
    "title=''\n",
    "ylim = 1800\n",
    "legend=False\n",
    "\n",
    "plot_fitting_per_pt(df1,title,ylim,legend)\n",
    "\n",
    "plt.savefig('./figures_paper/case3_nb_sbs35_all_signatures.png',dpi=300, format='png',transparent=True,bbox_inches='tight')\n",
    "\n",
    "plt.show()"
   ]
  },
  {
   "cell_type": "markdown",
   "metadata": {},
   "source": [
    "#### MRT, SBS31"
   ]
  },
  {
   "cell_type": "code",
   "execution_count": 119,
   "metadata": {},
   "outputs": [
    {
     "data": {
      "image/png": "[encoded data removed]",
      "text/plain": [
       "<Figure size 216x144 with 1 Axes>"
      ]
     },
     "metadata": {
      "needs_background": "light"
     },
     "output_type": "display_data"
    }
   ],
   "source": [
    "df = df31.copy()\n",
    "case = 'case3'\n",
    "tumor1_id = samples_dict[case]['tumor1']\n",
    "tumor2_id = samples_dict[case]['tumor2']\n",
    "normal_id = samples_dict[case]['normal']\n",
    "df1 = df[df.index.isin([tumor2_id+'_vs_'+normal_id])]\n",
    "\n",
    "title = ''\n",
    "ylim = 1800\n",
    "legend = True\n",
    "\n",
    "plot_fitting_per_pt(df1,title,ylim,legend)\n",
    "\n",
    "plt.ylabel('')\n",
    "\n",
    "plt.savefig('./figures_paper/case3_mrt_sbs31_all_signatures.png',dpi=300, format='png',transparent=True,bbox_inches='tight')\n",
    "\n",
    "plt.show()"
   ]
  },
  {
   "cell_type": "markdown",
   "metadata": {},
   "source": [
    "#### MRT, SBS35"
   ]
  },
  {
   "cell_type": "code",
   "execution_count": 120,
   "metadata": {},
   "outputs": [
    {
     "data": {
      "image/png": "[encoded data removed]",
      "text/plain": [
       "<Figure size 216x144 with 1 Axes>"
      ]
     },
     "metadata": {
      "needs_background": "light"
     },
     "output_type": "display_data"
    }
   ],
   "source": [
    "df = df35.copy()\n",
    "case = 'case3'\n",
    "tumor1_id = samples_dict[case]['tumor1']\n",
    "tumor2_id = samples_dict[case]['tumor2']\n",
    "normal_id = samples_dict[case]['normal']\n",
    "df1 = df[df.index.isin([tumor2_id+'_vs_'+normal_id])]\n",
    "\n",
    "title = ''\n",
    "ylim = 1800\n",
    "legend = True\n",
    "\n",
    "plot_fitting_per_pt(df1,title,ylim,legend)\n",
    "\n",
    "plt.ylabel('')\n",
    "\n",
    "plt.savefig('./figures_paper/case3_mrt_sbs35_all_signatures.png',dpi=300, format='png',transparent=True,bbox_inches='tight')\n",
    "\n",
    "plt.show()"
   ]
  },
  {
   "cell_type": "markdown",
   "metadata": {},
   "source": [
    "## Plots with 2 bars, separating platinum vs. aging signatures"
   ]
  },
  {
   "cell_type": "code",
   "execution_count": 129,
   "metadata": {},
   "outputs": [],
   "source": [
    "def plot_2_bars (sample_id,title,ylim,y_val):\n",
    "    \n",
    "    df1 = df[df.index.isin([sample_id])]\n",
    "\n",
    "    other_sigs = ['SBS1','SBS5','SBS18','SBS40']\n",
    "\n",
    "    df1['other_sigs'] = df1[other_sigs].sum(axis=1)\n",
    "    df1 = df1[['SBS31','other_sigs','clonal']]\n",
    "\n",
    "    colors_dict,colors_list = color_sigs(sigs)\n",
    "\n",
    "    figsize = (3,2)\n",
    "    legend=False\n",
    "    pos1=1\n",
    "    pos2=1\n",
    "\n",
    "    pos1=0.05\n",
    "    pos2=-0.2\n",
    "\n",
    "    fig, ax = plt.subplots(figsize=figsize)\n",
    "\n",
    "    for x,val in enumerate(df1['SBS31'].tolist()):\n",
    "        pos = x-0.2\n",
    "        ax.bar(pos, val,color='firebrick',width=0.2)\n",
    "\n",
    "\n",
    "    for x,val in enumerate(df1['other_sigs'].tolist()):\n",
    "        pos = x +0.2\n",
    "        ax.bar(pos, val,color='grey',width=0.2)\n",
    "\n",
    "\n",
    "    if legend == True:\n",
    "        plt.legend(title='Signatures', bbox_to_anchor=(pos1, pos2), loc='upper left')\n",
    "\n",
    "    plt.xticks(range(0,len(df1)), labels, rotation=0)\n",
    "    plt.title(title,size=20,pad=20)\n",
    "    plt.ylabel('Number of mutations')\n",
    "    plt.ylim(0,ylim)\n",
    "\n",
    "    plt.xlabel(' ')\n",
    "\n",
    "    plt.ylabel('Number of\\nmutations',size=16)\n",
    "    plt.xticks(size=14)\n",
    "\n",
    "    mpl.rcParams['axes.spines.right'] = False\n",
    "    mpl.rcParams['axes.spines.top'] = False\n",
    "\n",
    "    plt.axvline(0.5,linestyle='--',c='black')\n",
    "    \n",
    "    for i, v in enumerate(df1['SBS31']):\n",
    "        plt.text(i-0.2, v+y_val, str(int(round(v,0))), color='firebrick', fontweight='normal',ha='center',va='center',size=15)\n",
    "    for i, v in enumerate(df1['other_sigs']):\n",
    "        plt.text(i+0.2, v+y_val, str(int(round(v,0))), color='grey', fontweight='normal',ha='center',va='center',size=15)\n",
    "\n"
   ]
  },
  {
   "cell_type": "markdown",
   "metadata": {},
   "source": [
    "### Plot legend"
   ]
  },
  {
   "cell_type": "code",
   "execution_count": 135,
   "metadata": {
    "scrolled": true
   },
   "outputs": [
    {
     "data": {
      "image/png": "[encoded data removed]",
      "text/plain": [
       "<Figure size 72x72 with 1 Axes>"
      ]
     },
     "metadata": {},
     "output_type": "display_data"
    }
   ],
   "source": [
    "import matplotlib.lines as mlines\n",
    "fig, ax = plt.subplots(figsize=(1,1))\n",
    "plt.xticks([])\n",
    "plt.yticks([])\n",
    "ax.spines['top'].set_visible(False)\n",
    "ax.spines['right'].set_visible(False)\n",
    "ax.spines['bottom'].set_visible(False)\n",
    "ax.spines['left'].set_visible(False)\n",
    "\n",
    "sbs31 = mlines.Line2D([], [], color='firebrick', marker='o', linestyle='None',\n",
    "                          markersize=8, label='Platinum')\n",
    "other_signatures = mlines.Line2D([], [], color='grey', marker='o', linestyle='None',\n",
    "                          markersize=8, label='Other')\n",
    "\n",
    "plt.legend(handles=[sbs31,other_signatures],bbox_to_anchor=(1,0.05,1,1),fontsize=14,title='Mutation type',title_fontsize=15)\n",
    "plt.savefig('./figures_paper/legend_platinum_vs_other.png',dpi=300, format='png',transparent=True,bbox_inches='tight')\n"
   ]
  },
  {
   "cell_type": "markdown",
   "metadata": {},
   "source": [
    "## Case 1"
   ]
  },
  {
   "cell_type": "markdown",
   "metadata": {},
   "source": [
    "### ARMS, SBS31"
   ]
  },
  {
   "cell_type": "code",
   "execution_count": 136,
   "metadata": {},
   "outputs": [
    {
     "name": "stderr",
     "output_type": "stream",
     "text": [
      "/home/msanchezg/miniconda3/envs/process_vc/lib/python3.6/site-packages/ipykernel_launcher.py:7: SettingWithCopyWarning: \n",
      "A value is trying to be set on a copy of a slice from a DataFrame.\n",
      "Try using .loc[row_indexer,col_indexer] = value instead\n",
      "\n",
      "See the caveats in the documentation: https://pandas.pydata.org/pandas-docs/stable/user_guide/indexing.html#returning-a-view-versus-a-copy\n",
      "  import sys\n"
     ]
    },
    {
     "data": {
      "image/png": "[encoded data removed]",
      "text/plain": [
       "<Figure size 216x144 with 1 Axes>"
      ]
     },
     "metadata": {
      "needs_background": "light"
     },
     "output_type": "display_data"
    }
   ],
   "source": [
    "df = df31.copy()\n",
    "case = 'case1'\n",
    "tumor1_id = samples_dict[case]['tumor1']\n",
    "tumor2_id = samples_dict[case]['tumor2']\n",
    "normal_id = samples_dict[case]['normal']\n",
    "\n",
    "sample_id = tumor1_id + '_vs_'+normal_id\n",
    "\n",
    "ylim = 2000\n",
    "title='ARMS'\n",
    "y_val = 200\n",
    "plot_2_bars (sample_id,title,ylim,y_val)\n",
    "plt.savefig('./figures_paper/case1_arms_sbs31_vs_others.png',dpi=300, format='png',transparent=True,bbox_inches='tight')\n",
    "\n",
    "plt.show()"
   ]
  },
  {
   "cell_type": "markdown",
   "metadata": {},
   "source": [
    "### tAML, SBS31"
   ]
  },
  {
   "cell_type": "code",
   "execution_count": 137,
   "metadata": {},
   "outputs": [
    {
     "name": "stderr",
     "output_type": "stream",
     "text": [
      "/home/msanchezg/miniconda3/envs/process_vc/lib/python3.6/site-packages/ipykernel_launcher.py:7: SettingWithCopyWarning: \n",
      "A value is trying to be set on a copy of a slice from a DataFrame.\n",
      "Try using .loc[row_indexer,col_indexer] = value instead\n",
      "\n",
      "See the caveats in the documentation: https://pandas.pydata.org/pandas-docs/stable/user_guide/indexing.html#returning-a-view-versus-a-copy\n",
      "  import sys\n"
     ]
    },
    {
     "data": {
      "image/png": "[encoded data removed]",
      "text/plain": [
       "<Figure size 216x144 with 1 Axes>"
      ]
     },
     "metadata": {
      "needs_background": "light"
     },
     "output_type": "display_data"
    }
   ],
   "source": [
    "df = df31.copy()\n",
    "case = 'case1'\n",
    "tumor1_id = samples_dict[case]['tumor1']\n",
    "tumor2_id = samples_dict[case]['tumor2']\n",
    "normal_id = samples_dict[case]['normal']\n",
    "\n",
    "sample_id = tumor2_id + '_vs_'+normal_id\n",
    "\n",
    "ylim = 1500\n",
    "title='tAML'\n",
    "y_val = 200\n",
    "plot_2_bars (sample_id,title,ylim,y_val)\n",
    "plt.ylabel('')\n",
    "plt.savefig('./figures_paper/case1_taml_sbs31_vs_others.png',dpi=300, format='png',transparent=True,bbox_inches='tight')\n",
    "\n",
    "plt.show()"
   ]
  },
  {
   "cell_type": "markdown",
   "metadata": {},
   "source": [
    "## Case 2"
   ]
  },
  {
   "cell_type": "markdown",
   "metadata": {},
   "source": [
    "### EPN, SBS31"
   ]
  },
  {
   "cell_type": "code",
   "execution_count": 133,
   "metadata": {
    "scrolled": true
   },
   "outputs": [
    {
     "name": "stderr",
     "output_type": "stream",
     "text": [
      "/home/msanchezg/miniconda3/envs/process_vc/lib/python3.6/site-packages/ipykernel_launcher.py:7: SettingWithCopyWarning: \n",
      "A value is trying to be set on a copy of a slice from a DataFrame.\n",
      "Try using .loc[row_indexer,col_indexer] = value instead\n",
      "\n",
      "See the caveats in the documentation: https://pandas.pydata.org/pandas-docs/stable/user_guide/indexing.html#returning-a-view-versus-a-copy\n",
      "  import sys\n"
     ]
    },
    {
     "data": {
      "image/png": "[encoded data removed]",
      "text/plain": [
       "<Figure size 216x144 with 1 Axes>"
      ]
     },
     "metadata": {
      "needs_background": "light"
     },
     "output_type": "display_data"
    }
   ],
   "source": [
    "df = df31.copy()\n",
    "case = 'case2'\n",
    "tumor1_id = samples_dict[case]['tumor1']\n",
    "tumor2_id = samples_dict[case]['tumor2']\n",
    "normal_id = samples_dict[case]['normal']\n",
    "\n",
    "sample_id = tumor1_id + '_vs_'+normal_id\n",
    "\n",
    "ylim = 200\n",
    "title='EPN'\n",
    "y_val = 20\n",
    "plot_2_bars (sample_id,title,ylim,y_val)\n",
    "plt.savefig('./figures_paper/case2_epn_sbs31_vs_others.png',dpi=300, format='png',transparent=True,bbox_inches='tight')\n",
    "\n",
    "plt.show()"
   ]
  },
  {
   "cell_type": "markdown",
   "metadata": {},
   "source": [
    "### DMG, SBS31"
   ]
  },
  {
   "cell_type": "code",
   "execution_count": 134,
   "metadata": {
    "scrolled": true
   },
   "outputs": [
    {
     "name": "stderr",
     "output_type": "stream",
     "text": [
      "/home/msanchezg/miniconda3/envs/process_vc/lib/python3.6/site-packages/ipykernel_launcher.py:7: SettingWithCopyWarning: \n",
      "A value is trying to be set on a copy of a slice from a DataFrame.\n",
      "Try using .loc[row_indexer,col_indexer] = value instead\n",
      "\n",
      "See the caveats in the documentation: https://pandas.pydata.org/pandas-docs/stable/user_guide/indexing.html#returning-a-view-versus-a-copy\n",
      "  import sys\n"
     ]
    },
    {
     "data": {
      "image/png": "[encoded data removed]",
      "text/plain": [
       "<Figure size 216x144 with 1 Axes>"
      ]
     },
     "metadata": {
      "needs_background": "light"
     },
     "output_type": "display_data"
    }
   ],
   "source": [
    "df = df31.copy()\n",
    "case = 'case2'\n",
    "tumor1_id = samples_dict[case]['tumor1']\n",
    "tumor2_id = samples_dict[case]['tumor2']\n",
    "normal_id = samples_dict[case]['normal']\n",
    "\n",
    "sample_id = tumor2_id + '_vs_'+normal_id\n",
    "\n",
    "ylim = 1000\n",
    "title='DMG'\n",
    "y_val = 100\n",
    "plot_2_bars (sample_id,title,ylim,y_val)\n",
    "plt.ylabel('')\n",
    "plt.savefig('./figures_paper/case2_dmg_sbs31_vs_others.png',dpi=300, format='png',transparent=True,bbox_inches='tight')\n",
    "\n",
    "plt.show()"
   ]
  },
  {
   "cell_type": "markdown",
   "metadata": {},
   "source": [
    "## Case 3"
   ]
  },
  {
   "cell_type": "markdown",
   "metadata": {},
   "source": [
    "### NB, SBS31"
   ]
  },
  {
   "cell_type": "code",
   "execution_count": 131,
   "metadata": {},
   "outputs": [
    {
     "name": "stderr",
     "output_type": "stream",
     "text": [
      "/home/msanchezg/miniconda3/envs/process_vc/lib/python3.6/site-packages/ipykernel_launcher.py:7: SettingWithCopyWarning: \n",
      "A value is trying to be set on a copy of a slice from a DataFrame.\n",
      "Try using .loc[row_indexer,col_indexer] = value instead\n",
      "\n",
      "See the caveats in the documentation: https://pandas.pydata.org/pandas-docs/stable/user_guide/indexing.html#returning-a-view-versus-a-copy\n",
      "  import sys\n"
     ]
    },
    {
     "data": {
      "image/png": "[encoded data removed]",
      "text/plain": [
       "<Figure size 216x144 with 1 Axes>"
      ]
     },
     "metadata": {
      "needs_background": "light"
     },
     "output_type": "display_data"
    }
   ],
   "source": [
    "df = df31.copy()\n",
    "case = 'case3'\n",
    "tumor1_id = samples_dict[case]['tumor1']\n",
    "tumor2_id = samples_dict[case]['tumor2']\n",
    "normal_id = samples_dict[case]['normal']\n",
    "\n",
    "sample_id = tumor1_id + '_vs_'+normal_id\n",
    "\n",
    "ylim = 1500\n",
    "title = 'NB'\n",
    "y_val = 200\n",
    "plot_2_bars (sample_id,title,ylim,y_val)\n",
    "plt.savefig('./figures_paper/case3_nb_sbs31_vs_others.png',dpi=300, format='png',transparent=True,bbox_inches='tight')\n",
    "\n",
    "plt.show()"
   ]
  },
  {
   "cell_type": "markdown",
   "metadata": {},
   "source": [
    "### MRT, SBS31"
   ]
  },
  {
   "cell_type": "code",
   "execution_count": 132,
   "metadata": {},
   "outputs": [
    {
     "name": "stderr",
     "output_type": "stream",
     "text": [
      "/home/msanchezg/miniconda3/envs/process_vc/lib/python3.6/site-packages/ipykernel_launcher.py:7: SettingWithCopyWarning: \n",
      "A value is trying to be set on a copy of a slice from a DataFrame.\n",
      "Try using .loc[row_indexer,col_indexer] = value instead\n",
      "\n",
      "See the caveats in the documentation: https://pandas.pydata.org/pandas-docs/stable/user_guide/indexing.html#returning-a-view-versus-a-copy\n",
      "  import sys\n"
     ]
    },
    {
     "data": {
      "image/png": "[encoded data removed]",
      "text/plain": [
       "<Figure size 216x144 with 1 Axes>"
      ]
     },
     "metadata": {
      "needs_background": "light"
     },
     "output_type": "display_data"
    }
   ],
   "source": [
    "df = df31.copy()\n",
    "case = 'case3'\n",
    "tumor1_id = samples_dict[case]['tumor1']\n",
    "tumor2_id = samples_dict[case]['tumor2']\n",
    "normal_id = samples_dict[case]['normal']\n",
    "\n",
    "sample_id = tumor2_id + '_vs_'+normal_id\n",
    "\n",
    "ylim = 2000\n",
    "title='MRT'\n",
    "y_val=200\n",
    "plot_2_bars (sample_id,title,ylim,y_val)\n",
    "plt.ylabel('')\n",
    "plt.savefig('./figures_paper/case_mrt_sbs31_vs_others.png',dpi=300, format='png',transparent=True,bbox_inches='tight')\n",
    "\n",
    "plt.show()"
   ]
  },
  {
   "cell_type": "markdown",
   "metadata": {},
   "source": [
    "-------------------------------"
   ]
  },
  {
   "cell_type": "markdown",
   "metadata": {},
   "source": [
    "## Platinum vs. aging\n",
    "\n",
    "To be able to run this part, first the duplex sequencing part needs to be executed"
   ]
  },
  {
   "cell_type": "code",
   "execution_count": 39,
   "metadata": {},
   "outputs": [],
   "source": [
    "import json"
   ]
  },
  {
   "cell_type": "code",
   "execution_count": 40,
   "metadata": {},
   "outputs": [],
   "source": [
    "file = '/workspace/projects/sjd_pediatric_tumors/twinstrand_analysis/20230414_all_samples/signatures/msigact/sigs_from_combinatorial_refitting_curated_recalculated_counts/ci_sbs31.json'\n",
    "ci_sbs31_dict = json.load(open(file,'rb'))\n",
    "file = '/workspace/projects/sjd_pediatric_tumors/twinstrand_analysis/20230414_all_samples/signatures/msigact/sigs_from_combinatorial_refitting_curated_recalculated_counts/ci_aging.json'\n",
    "ci_aging_dict = json.load(open(file,'rb'))"
   ]
  },
  {
   "cell_type": "code",
   "execution_count": 41,
   "metadata": {},
   "outputs": [],
   "source": [
    "def small_barplot (SBS31_df,selected_sample,figsize=(1,2),ylim=400,x_val1=150,x_val2=150,range_val=200):\n",
    "    print(selected_sample)\n",
    "    s = selected_sample[0]\n",
    "    aging_sigs = ['SBS1','SBS5','SBS40']\n",
    "    df = SBS31_df[SBS31_df.index.isin(selected_sample)]\n",
    "    df['aging_sigs'] = df[aging_sigs].sum(axis=1)\n",
    "    df = df[['SBS31','aging_sigs']]\n",
    "    sigs = df.columns.tolist()\n",
    "    labels = []\n",
    "    title = ''\n",
    "    xlabel=''\n",
    "    ylabel='Number of\\nmutations'\n",
    "    loc=-80\n",
    "    legend=False\n",
    "\n",
    "    rotation_xtick=0\n",
    "    rotation_pvals=0\n",
    "    ha='center'\n",
    "    \n",
    "    display(df)\n",
    "\n",
    "    ci_low = [ df['SBS31'][df.index==s].iloc[0] - ci_sbs31_dict[s][0] for s in selected_sample]\n",
    "    ci_high = [ ci_sbs31_dict[s][1] - df['SBS31'][df.index==s].iloc[0] for s in selected_sample]\n",
    "\n",
    "    horizontal_line_width = 0.04\n",
    "\n",
    "    fig, ax = plt.subplots(figsize=figsize)\n",
    "\n",
    "    for x,val in enumerate(df['SBS31'].tolist()):\n",
    "#         if s in ['AZ6342','AZ6371']:\n",
    "#             ax.plot(x, 0, 'o',color='white',markersize=10)\n",
    "#         else:\n",
    "        pos = x\n",
    "        left = pos - horizontal_line_width / 2\n",
    "        top = val + ci_high[x]\n",
    "        right = pos + horizontal_line_width / 2\n",
    "        bottom = val - ci_low[x]\n",
    "        ax.bar(pos, val, color='firebrick',width=0.1,edgecolor='firebrick')\n",
    "        ax.plot([pos, pos], [top, bottom], color='k',linewidth=1.5)\n",
    "        ax.plot([left, right], [top, top], color='k',linewidth=1.5)\n",
    "        ax.plot([left, right], [bottom, bottom], color='k',linewidth=1.5)\n",
    "\n",
    "    ci_low = [ df['aging_sigs'][df.index==s].iloc[0] - ci_aging_dict[s][0] for s in selected_sample]\n",
    "    ci_high = [ ci_aging_dict[s][1] - df['aging_sigs'][df.index==s].iloc[0] for s in selected_sample]\n",
    "\n",
    "    for x,val in enumerate(df['aging_sigs'].tolist()):\n",
    "        pos = x +0.2\n",
    "        left = pos - horizontal_line_width / 2\n",
    "        top = val + ci_high[x]\n",
    "        right = pos + horizontal_line_width / 2\n",
    "        bottom = val - ci_low[x]\n",
    "        ax.bar(pos, val, color='cornflowerblue',width=0.1,edgecolor='cornflowerblue')\n",
    "        ax.plot([pos, pos], [top, bottom], color='k',linewidth=1.5)\n",
    "        ax.plot([left, right], [top, top], color='k',linewidth=1.5)\n",
    "        ax.plot([left, right], [bottom, bottom], color='k',linewidth=1.5)\n",
    "\n",
    "    plt.title(title,size=20,pad=20)\n",
    "    plt.margins(0.22,0)\n",
    "\n",
    "    #y-axis\n",
    "    plt.ylabel(ylabel,size=14)\n",
    "    plt.ylim(0,ylim)\n",
    "\n",
    "    #x-axis\n",
    "    plt.xlabel(xlabel)\n",
    "    ticks = range(0,len(df))\n",
    "    plt.xticks(ticks,[])\n",
    "    plt.yticks(np.arange(0, ylim+100, range_val),size=14)\n",
    "\n",
    "    for i, v in enumerate(df['SBS31']):\n",
    "        plt.text(i+0.02, v+x_val1, str(int(round(v,0))), color='firebrick', fontweight='normal',ha='center',va='center',size=15)\n",
    "    \n",
    "    for i, v in enumerate(df['aging_sigs']):\n",
    "        plt.text(i+0.2, v+x_val2, str(int(round(v,0))), color='cornflowerblue', fontweight='normal',ha='center',va='center',size=15)\n",
    "\n",
    "    ax.spines['top'].set_visible(False)\n",
    "    ax.spines['right'].set_visible(False)\n",
    "    ax.get_xaxis().tick_bottom()\n",
    "    ax.get_yaxis().tick_left()\n",
    "    ax.spines['left'].set_linewidth(2) \n",
    "    ax.spines['bottom'].set_linewidth(2)\n",
    "    ax.xaxis.set_tick_params(width=0)\n",
    "    ax.yaxis.set_tick_params(width=2,length=7)\n",
    "\n",
    "\n",
    "    ax.grid(False)\n",
    "    #plt.savefig('/workspace/projects/sjd_pediatric_tumors/twinstrand_analysis/20230414_all_samples/'+selected_sample[0]+'_platinumn_vs_aging_num_muts.png',dpi=300, format='png',transparent=True,bbox_inches='tight')"
   ]
  },
  {
   "cell_type": "code",
   "execution_count": 42,
   "metadata": {
    "scrolled": true
   },
   "outputs": [
    {
     "data": {
      "text/html": [
       "<div>\n",
       "<style scoped>\n",
       "    .dataframe tbody tr th:only-of-type {\n",
       "        vertical-align: middle;\n",
       "    }\n",
       "\n",
       "    .dataframe tbody tr th {\n",
       "        vertical-align: top;\n",
       "    }\n",
       "\n",
       "    .dataframe thead th {\n",
       "        text-align: right;\n",
       "    }\n",
       "</style>\n",
       "<table border=\"1\" class=\"dataframe\">\n",
       "  <thead>\n",
       "    <tr style=\"text-align: right;\">\n",
       "      <th></th>\n",
       "      <th>SBS1</th>\n",
       "      <th>SBS5</th>\n",
       "      <th>SBS18</th>\n",
       "      <th>SBS40</th>\n",
       "      <th>SBS31</th>\n",
       "      <th>clonal</th>\n",
       "    </tr>\n",
       "  </thead>\n",
       "  <tbody>\n",
       "    <tr>\n",
       "      <th>AQ5180_vs_AQ5174</th>\n",
       "      <td>0.000000e+00</td>\n",
       "      <td>29.230568</td>\n",
       "      <td>9.876943e+01</td>\n",
       "      <td>0.000000e+00</td>\n",
       "      <td>0.000000e+00</td>\n",
       "      <td>False</td>\n",
       "    </tr>\n",
       "    <tr>\n",
       "      <th>AQ5186_vs_AQ5174</th>\n",
       "      <td>3.179263e+01</td>\n",
       "      <td>0.000000</td>\n",
       "      <td>0.000000e+00</td>\n",
       "      <td>9.020737e+01</td>\n",
       "      <td>0.000000e+00</td>\n",
       "      <td>False</td>\n",
       "    </tr>\n",
       "    <tr>\n",
       "      <th>AQ5181_vs_AQ5175</th>\n",
       "      <td>1.593222e+02</td>\n",
       "      <td>489.909243</td>\n",
       "      <td>4.288937e+02</td>\n",
       "      <td>5.658748e+02</td>\n",
       "      <td>0.000000e+00</td>\n",
       "      <td>False</td>\n",
       "    </tr>\n",
       "    <tr>\n",
       "      <th>AQ5187_vs_AQ5175</th>\n",
       "      <td>4.939701e+01</td>\n",
       "      <td>56.040103</td>\n",
       "      <td>0.000000e+00</td>\n",
       "      <td>5.956288e+01</td>\n",
       "      <td>0.000000e+00</td>\n",
       "      <td>False</td>\n",
       "    </tr>\n",
       "    <tr>\n",
       "      <th>AQ5182_vs_AQ5176</th>\n",
       "      <td>2.397885e+01</td>\n",
       "      <td>35.336415</td>\n",
       "      <td>7.684735e+00</td>\n",
       "      <td>4.534318e-27</td>\n",
       "      <td>1.059910e-28</td>\n",
       "      <td>False</td>\n",
       "    </tr>\n",
       "    <tr>\n",
       "      <th>AQ5188_vs_AQ5176</th>\n",
       "      <td>9.832108e+01</td>\n",
       "      <td>428.225007</td>\n",
       "      <td>0.000000e+00</td>\n",
       "      <td>2.866437e+02</td>\n",
       "      <td>2.108102e+02</td>\n",
       "      <td>False</td>\n",
       "    </tr>\n",
       "    <tr>\n",
       "      <th>AQ5183_vs_AQ5177</th>\n",
       "      <td>5.517848e+01</td>\n",
       "      <td>149.635014</td>\n",
       "      <td>7.187244e+01</td>\n",
       "      <td>1.213141e+02</td>\n",
       "      <td>0.000000e+00</td>\n",
       "      <td>False</td>\n",
       "    </tr>\n",
       "    <tr>\n",
       "      <th>AQ5189_vs_AQ5177</th>\n",
       "      <td>NaN</td>\n",
       "      <td>NaN</td>\n",
       "      <td>NaN</td>\n",
       "      <td>NaN</td>\n",
       "      <td>NaN</td>\n",
       "      <td>False</td>\n",
       "    </tr>\n",
       "    <tr>\n",
       "      <th>AQ5184_vs_AQ5178</th>\n",
       "      <td>1.815046e+02</td>\n",
       "      <td>94.333329</td>\n",
       "      <td>1.845946e+02</td>\n",
       "      <td>1.275675e+02</td>\n",
       "      <td>0.000000e+00</td>\n",
       "      <td>False</td>\n",
       "    </tr>\n",
       "    <tr>\n",
       "      <th>AQ5190_vs_AQ5178</th>\n",
       "      <td>4.536078e+01</td>\n",
       "      <td>471.859355</td>\n",
       "      <td>0.000000e+00</td>\n",
       "      <td>6.743936e+02</td>\n",
       "      <td>3.203863e+02</td>\n",
       "      <td>False</td>\n",
       "    </tr>\n",
       "    <tr>\n",
       "      <th>AQ5185_vs_AQ5179</th>\n",
       "      <td>0.000000e+00</td>\n",
       "      <td>149.650878</td>\n",
       "      <td>4.501742e+02</td>\n",
       "      <td>1.451749e+02</td>\n",
       "      <td>0.000000e+00</td>\n",
       "      <td>False</td>\n",
       "    </tr>\n",
       "    <tr>\n",
       "      <th>AQ5191_vs_AQ5179</th>\n",
       "      <td>5.642595e+01</td>\n",
       "      <td>79.133799</td>\n",
       "      <td>2.944025e+01</td>\n",
       "      <td>0.000000e+00</td>\n",
       "      <td>0.000000e+00</td>\n",
       "      <td>False</td>\n",
       "    </tr>\n",
       "    <tr>\n",
       "      <th>AW8048_vs_AW8058</th>\n",
       "      <td>0.000000e+00</td>\n",
       "      <td>787.662409</td>\n",
       "      <td>4.194027e+02</td>\n",
       "      <td>0.000000e+00</td>\n",
       "      <td>1.522935e+03</td>\n",
       "      <td>False</td>\n",
       "    </tr>\n",
       "    <tr>\n",
       "      <th>AW8049_vs_AW8058</th>\n",
       "      <td>NaN</td>\n",
       "      <td>NaN</td>\n",
       "      <td>NaN</td>\n",
       "      <td>NaN</td>\n",
       "      <td>NaN</td>\n",
       "      <td>False</td>\n",
       "    </tr>\n",
       "    <tr>\n",
       "      <th>AW8050_vs_AW8061</th>\n",
       "      <td>4.590066e+01</td>\n",
       "      <td>204.047328</td>\n",
       "      <td>0.000000e+00</td>\n",
       "      <td>5.140520e+02</td>\n",
       "      <td>0.000000e+00</td>\n",
       "      <td>False</td>\n",
       "    </tr>\n",
       "    <tr>\n",
       "      <th>AW8051_vs_AW8061</th>\n",
       "      <td>1.739412e+01</td>\n",
       "      <td>83.605885</td>\n",
       "      <td>0.000000e+00</td>\n",
       "      <td>0.000000e+00</td>\n",
       "      <td>0.000000e+00</td>\n",
       "      <td>False</td>\n",
       "    </tr>\n",
       "    <tr>\n",
       "      <th>AW8054_vs_AW8059</th>\n",
       "      <td>6.381086e+01</td>\n",
       "      <td>83.215795</td>\n",
       "      <td>2.773238e+01</td>\n",
       "      <td>1.108969e+02</td>\n",
       "      <td>3.434408e+01</td>\n",
       "      <td>False</td>\n",
       "    </tr>\n",
       "    <tr>\n",
       "      <th>AW8055_vs_AW8059</th>\n",
       "      <td>4.980901e+01</td>\n",
       "      <td>442.809134</td>\n",
       "      <td>0.000000e+00</td>\n",
       "      <td>2.512482e+02</td>\n",
       "      <td>9.313366e+01</td>\n",
       "      <td>False</td>\n",
       "    </tr>\n",
       "    <tr>\n",
       "      <th>AW8056_vs_AW8060</th>\n",
       "      <td>6.829964e+01</td>\n",
       "      <td>161.206361</td>\n",
       "      <td>0.000000e+00</td>\n",
       "      <td>4.864940e+02</td>\n",
       "      <td>0.000000e+00</td>\n",
       "      <td>False</td>\n",
       "    </tr>\n",
       "    <tr>\n",
       "      <th>AW8057_vs_AW8060</th>\n",
       "      <td>7.233851e+01</td>\n",
       "      <td>274.986542</td>\n",
       "      <td>0.000000e+00</td>\n",
       "      <td>3.770100e+02</td>\n",
       "      <td>1.286650e+02</td>\n",
       "      <td>False</td>\n",
       "    </tr>\n",
       "    <tr>\n",
       "      <th>AQ5180_vs_AQ5174</th>\n",
       "      <td>9.195630e+01</td>\n",
       "      <td>0.000000</td>\n",
       "      <td>7.118592e+02</td>\n",
       "      <td>4.481845e+02</td>\n",
       "      <td>0.000000e+00</td>\n",
       "      <td>True</td>\n",
       "    </tr>\n",
       "    <tr>\n",
       "      <th>AQ5186_vs_AQ5174</th>\n",
       "      <td>8.494274e+01</td>\n",
       "      <td>1114.162469</td>\n",
       "      <td>1.115201e+02</td>\n",
       "      <td>2.683747e+02</td>\n",
       "      <td>1.027702e-21</td>\n",
       "      <td>True</td>\n",
       "    </tr>\n",
       "    <tr>\n",
       "      <th>AQ5181_vs_AQ5175</th>\n",
       "      <td>2.235518e+02</td>\n",
       "      <td>551.265396</td>\n",
       "      <td>2.677806e+02</td>\n",
       "      <td>2.164022e+02</td>\n",
       "      <td>0.000000e+00</td>\n",
       "      <td>True</td>\n",
       "    </tr>\n",
       "    <tr>\n",
       "      <th>AQ5187_vs_AQ5175</th>\n",
       "      <td>1.536328e+02</td>\n",
       "      <td>982.093386</td>\n",
       "      <td>1.633134e+02</td>\n",
       "      <td>0.000000e+00</td>\n",
       "      <td>9.319604e+02</td>\n",
       "      <td>True</td>\n",
       "    </tr>\n",
       "    <tr>\n",
       "      <th>AQ5182_vs_AQ5176</th>\n",
       "      <td>4.383870e+01</td>\n",
       "      <td>57.923325</td>\n",
       "      <td>9.237971e+00</td>\n",
       "      <td>0.000000e+00</td>\n",
       "      <td>0.000000e+00</td>\n",
       "      <td>True</td>\n",
       "    </tr>\n",
       "    <tr>\n",
       "      <th>AQ5188_vs_AQ5176</th>\n",
       "      <td>4.079470e+01</td>\n",
       "      <td>0.000000</td>\n",
       "      <td>0.000000e+00</td>\n",
       "      <td>5.320530e+01</td>\n",
       "      <td>0.000000e+00</td>\n",
       "      <td>True</td>\n",
       "    </tr>\n",
       "    <tr>\n",
       "      <th>AQ5183_vs_AQ5177</th>\n",
       "      <td>7.152645e+01</td>\n",
       "      <td>0.000000</td>\n",
       "      <td>0.000000e+00</td>\n",
       "      <td>1.563627e+02</td>\n",
       "      <td>4.211084e+01</td>\n",
       "      <td>True</td>\n",
       "    </tr>\n",
       "    <tr>\n",
       "      <th>AQ5189_vs_AQ5177</th>\n",
       "      <td>7.058499e+01</td>\n",
       "      <td>492.088071</td>\n",
       "      <td>4.957422e+01</td>\n",
       "      <td>1.587527e+02</td>\n",
       "      <td>0.000000e+00</td>\n",
       "      <td>True</td>\n",
       "    </tr>\n",
       "    <tr>\n",
       "      <th>AQ5184_vs_AQ5178</th>\n",
       "      <td>1.198476e+02</td>\n",
       "      <td>232.089242</td>\n",
       "      <td>9.300757e+01</td>\n",
       "      <td>0.000000e+00</td>\n",
       "      <td>8.605556e+01</td>\n",
       "      <td>True</td>\n",
       "    </tr>\n",
       "    <tr>\n",
       "      <th>AQ5190_vs_AQ5178</th>\n",
       "      <td>3.116648e+01</td>\n",
       "      <td>934.090965</td>\n",
       "      <td>7.425104e+01</td>\n",
       "      <td>0.000000e+00</td>\n",
       "      <td>1.364915e+02</td>\n",
       "      <td>True</td>\n",
       "    </tr>\n",
       "    <tr>\n",
       "      <th>AQ5185_vs_AQ5179</th>\n",
       "      <td>9.108713e+01</td>\n",
       "      <td>0.000000</td>\n",
       "      <td>1.012686e+03</td>\n",
       "      <td>1.089345e+03</td>\n",
       "      <td>1.448815e+02</td>\n",
       "      <td>True</td>\n",
       "    </tr>\n",
       "    <tr>\n",
       "      <th>AQ5191_vs_AQ5179</th>\n",
       "      <td>1.116841e+02</td>\n",
       "      <td>878.562377</td>\n",
       "      <td>0.000000e+00</td>\n",
       "      <td>3.767536e+02</td>\n",
       "      <td>0.000000e+00</td>\n",
       "      <td>True</td>\n",
       "    </tr>\n",
       "    <tr>\n",
       "      <th>AW8048_vs_AW8058</th>\n",
       "      <td>3.754999e-27</td>\n",
       "      <td>4317.833555</td>\n",
       "      <td>2.048627e+03</td>\n",
       "      <td>1.820345e-23</td>\n",
       "      <td>1.238540e+03</td>\n",
       "      <td>True</td>\n",
       "    </tr>\n",
       "    <tr>\n",
       "      <th>AW8049_vs_AW8058</th>\n",
       "      <td>0.000000e+00</td>\n",
       "      <td>3010.256993</td>\n",
       "      <td>0.000000e+00</td>\n",
       "      <td>0.000000e+00</td>\n",
       "      <td>3.409743e+03</td>\n",
       "      <td>True</td>\n",
       "    </tr>\n",
       "    <tr>\n",
       "      <th>AW8050_vs_AW8061</th>\n",
       "      <td>2.158486e+02</td>\n",
       "      <td>425.502623</td>\n",
       "      <td>0.000000e+00</td>\n",
       "      <td>1.193596e+03</td>\n",
       "      <td>1.360528e+02</td>\n",
       "      <td>True</td>\n",
       "    </tr>\n",
       "    <tr>\n",
       "      <th>AW8051_vs_AW8061</th>\n",
       "      <td>3.834818e+01</td>\n",
       "      <td>181.125839</td>\n",
       "      <td>5.052599e+01</td>\n",
       "      <td>0.000000e+00</td>\n",
       "      <td>0.000000e+00</td>\n",
       "      <td>True</td>\n",
       "    </tr>\n",
       "    <tr>\n",
       "      <th>AW8054_vs_AW8059</th>\n",
       "      <td>8.304924e+01</td>\n",
       "      <td>0.000000</td>\n",
       "      <td>0.000000e+00</td>\n",
       "      <td>2.869508e+02</td>\n",
       "      <td>0.000000e+00</td>\n",
       "      <td>True</td>\n",
       "    </tr>\n",
       "    <tr>\n",
       "      <th>AW8055_vs_AW8059</th>\n",
       "      <td>0.000000e+00</td>\n",
       "      <td>1663.765446</td>\n",
       "      <td>1.662558e+02</td>\n",
       "      <td>8.309788e+02</td>\n",
       "      <td>0.000000e+00</td>\n",
       "      <td>True</td>\n",
       "    </tr>\n",
       "    <tr>\n",
       "      <th>AW8056_vs_AW8060</th>\n",
       "      <td>2.458018e+02</td>\n",
       "      <td>394.571121</td>\n",
       "      <td>5.018888e-24</td>\n",
       "      <td>1.375627e+03</td>\n",
       "      <td>3.357685e-24</td>\n",
       "      <td>True</td>\n",
       "    </tr>\n",
       "    <tr>\n",
       "      <th>AW8057_vs_AW8060</th>\n",
       "      <td>2.901540e+01</td>\n",
       "      <td>145.647941</td>\n",
       "      <td>1.644945e+01</td>\n",
       "      <td>1.099224e-22</td>\n",
       "      <td>5.188720e+01</td>\n",
       "      <td>True</td>\n",
       "    </tr>\n",
       "  </tbody>\n",
       "</table>\n",
       "</div>"
      ],
      "text/plain": [
       "                          SBS1         SBS5         SBS18         SBS40  \\\n",
       "AQ5180_vs_AQ5174  0.000000e+00    29.230568  9.876943e+01  0.000000e+00   \n",
       "AQ5186_vs_AQ5174  3.179263e+01     0.000000  0.000000e+00  9.020737e+01   \n",
       "AQ5181_vs_AQ5175  1.593222e+02   489.909243  4.288937e+02  5.658748e+02   \n",
       "AQ5187_vs_AQ5175  4.939701e+01    56.040103  0.000000e+00  5.956288e+01   \n",
       "AQ5182_vs_AQ5176  2.397885e+01    35.336415  7.684735e+00  4.534318e-27   \n",
       "AQ5188_vs_AQ5176  9.832108e+01   428.225007  0.000000e+00  2.866437e+02   \n",
       "AQ5183_vs_AQ5177  5.517848e+01   149.635014  7.187244e+01  1.213141e+02   \n",
       "AQ5189_vs_AQ5177           NaN          NaN           NaN           NaN   \n",
       "AQ5184_vs_AQ5178  1.815046e+02    94.333329  1.845946e+02  1.275675e+02   \n",
       "AQ5190_vs_AQ5178  4.536078e+01   471.859355  0.000000e+00  6.743936e+02   \n",
       "AQ5185_vs_AQ5179  0.000000e+00   149.650878  4.501742e+02  1.451749e+02   \n",
       "AQ5191_vs_AQ5179  5.642595e+01    79.133799  2.944025e+01  0.000000e+00   \n",
       "AW8048_vs_AW8058  0.000000e+00   787.662409  4.194027e+02  0.000000e+00   \n",
       "AW8049_vs_AW8058           NaN          NaN           NaN           NaN   \n",
       "AW8050_vs_AW8061  4.590066e+01   204.047328  0.000000e+00  5.140520e+02   \n",
       "AW8051_vs_AW8061  1.739412e+01    83.605885  0.000000e+00  0.000000e+00   \n",
       "AW8054_vs_AW8059  6.381086e+01    83.215795  2.773238e+01  1.108969e+02   \n",
       "AW8055_vs_AW8059  4.980901e+01   442.809134  0.000000e+00  2.512482e+02   \n",
       "AW8056_vs_AW8060  6.829964e+01   161.206361  0.000000e+00  4.864940e+02   \n",
       "AW8057_vs_AW8060  7.233851e+01   274.986542  0.000000e+00  3.770100e+02   \n",
       "AQ5180_vs_AQ5174  9.195630e+01     0.000000  7.118592e+02  4.481845e+02   \n",
       "AQ5186_vs_AQ5174  8.494274e+01  1114.162469  1.115201e+02  2.683747e+02   \n",
       "AQ5181_vs_AQ5175  2.235518e+02   551.265396  2.677806e+02  2.164022e+02   \n",
       "AQ5187_vs_AQ5175  1.536328e+02   982.093386  1.633134e+02  0.000000e+00   \n",
       "AQ5182_vs_AQ5176  4.383870e+01    57.923325  9.237971e+00  0.000000e+00   \n",
       "AQ5188_vs_AQ5176  4.079470e+01     0.000000  0.000000e+00  5.320530e+01   \n",
       "AQ5183_vs_AQ5177  7.152645e+01     0.000000  0.000000e+00  1.563627e+02   \n",
       "AQ5189_vs_AQ5177  7.058499e+01   492.088071  4.957422e+01  1.587527e+02   \n",
       "AQ5184_vs_AQ5178  1.198476e+02   232.089242  9.300757e+01  0.000000e+00   \n",
       "AQ5190_vs_AQ5178  3.116648e+01   934.090965  7.425104e+01  0.000000e+00   \n",
       "AQ5185_vs_AQ5179  9.108713e+01     0.000000  1.012686e+03  1.089345e+03   \n",
       "AQ5191_vs_AQ5179  1.116841e+02   878.562377  0.000000e+00  3.767536e+02   \n",
       "AW8048_vs_AW8058  3.754999e-27  4317.833555  2.048627e+03  1.820345e-23   \n",
       "AW8049_vs_AW8058  0.000000e+00  3010.256993  0.000000e+00  0.000000e+00   \n",
       "AW8050_vs_AW8061  2.158486e+02   425.502623  0.000000e+00  1.193596e+03   \n",
       "AW8051_vs_AW8061  3.834818e+01   181.125839  5.052599e+01  0.000000e+00   \n",
       "AW8054_vs_AW8059  8.304924e+01     0.000000  0.000000e+00  2.869508e+02   \n",
       "AW8055_vs_AW8059  0.000000e+00  1663.765446  1.662558e+02  8.309788e+02   \n",
       "AW8056_vs_AW8060  2.458018e+02   394.571121  5.018888e-24  1.375627e+03   \n",
       "AW8057_vs_AW8060  2.901540e+01   145.647941  1.644945e+01  1.099224e-22   \n",
       "\n",
       "                         SBS31  clonal  \n",
       "AQ5180_vs_AQ5174  0.000000e+00   False  \n",
       "AQ5186_vs_AQ5174  0.000000e+00   False  \n",
       "AQ5181_vs_AQ5175  0.000000e+00   False  \n",
       "AQ5187_vs_AQ5175  0.000000e+00   False  \n",
       "AQ5182_vs_AQ5176  1.059910e-28   False  \n",
       "AQ5188_vs_AQ5176  2.108102e+02   False  \n",
       "AQ5183_vs_AQ5177  0.000000e+00   False  \n",
       "AQ5189_vs_AQ5177           NaN   False  \n",
       "AQ5184_vs_AQ5178  0.000000e+00   False  \n",
       "AQ5190_vs_AQ5178  3.203863e+02   False  \n",
       "AQ5185_vs_AQ5179  0.000000e+00   False  \n",
       "AQ5191_vs_AQ5179  0.000000e+00   False  \n",
       "AW8048_vs_AW8058  1.522935e+03   False  \n",
       "AW8049_vs_AW8058           NaN   False  \n",
       "AW8050_vs_AW8061  0.000000e+00   False  \n",
       "AW8051_vs_AW8061  0.000000e+00   False  \n",
       "AW8054_vs_AW8059  3.434408e+01   False  \n",
       "AW8055_vs_AW8059  9.313366e+01   False  \n",
       "AW8056_vs_AW8060  0.000000e+00   False  \n",
       "AW8057_vs_AW8060  1.286650e+02   False  \n",
       "AQ5180_vs_AQ5174  0.000000e+00    True  \n",
       "AQ5186_vs_AQ5174  1.027702e-21    True  \n",
       "AQ5181_vs_AQ5175  0.000000e+00    True  \n",
       "AQ5187_vs_AQ5175  9.319604e+02    True  \n",
       "AQ5182_vs_AQ5176  0.000000e+00    True  \n",
       "AQ5188_vs_AQ5176  0.000000e+00    True  \n",
       "AQ5183_vs_AQ5177  4.211084e+01    True  \n",
       "AQ5189_vs_AQ5177  0.000000e+00    True  \n",
       "AQ5184_vs_AQ5178  8.605556e+01    True  \n",
       "AQ5190_vs_AQ5178  1.364915e+02    True  \n",
       "AQ5185_vs_AQ5179  1.448815e+02    True  \n",
       "AQ5191_vs_AQ5179  0.000000e+00    True  \n",
       "AW8048_vs_AW8058  1.238540e+03    True  \n",
       "AW8049_vs_AW8058  3.409743e+03    True  \n",
       "AW8050_vs_AW8061  1.360528e+02    True  \n",
       "AW8051_vs_AW8061  0.000000e+00    True  \n",
       "AW8054_vs_AW8059  0.000000e+00    True  \n",
       "AW8055_vs_AW8059  0.000000e+00    True  \n",
       "AW8056_vs_AW8060  3.357685e-24    True  \n",
       "AW8057_vs_AW8060  5.188720e+01    True  "
      ]
     },
     "execution_count": 42,
     "metadata": {},
     "output_type": "execute_result"
    }
   ],
   "source": [
    "df31"
   ]
  },
  {
   "cell_type": "code",
   "execution_count": 43,
   "metadata": {
    "scrolled": true
   },
   "outputs": [
    {
     "name": "stdout",
     "output_type": "stream",
     "text": [
      "['AQ5181_vs_AQ5175']\n"
     ]
    },
    {
     "name": "stderr",
     "output_type": "stream",
     "text": [
      "/home/msanchezg/miniconda3/envs/process_vc/lib/python3.6/site-packages/ipykernel_launcher.py:6: SettingWithCopyWarning: \n",
      "A value is trying to be set on a copy of a slice from a DataFrame.\n",
      "Try using .loc[row_indexer,col_indexer] = value instead\n",
      "\n",
      "See the caveats in the documentation: https://pandas.pydata.org/pandas-docs/stable/user_guide/indexing.html#returning-a-view-versus-a-copy\n",
      "  \n"
     ]
    },
    {
     "data": {
      "text/html": [
       "<div>\n",
       "<style scoped>\n",
       "    .dataframe tbody tr th:only-of-type {\n",
       "        vertical-align: middle;\n",
       "    }\n",
       "\n",
       "    .dataframe tbody tr th {\n",
       "        vertical-align: top;\n",
       "    }\n",
       "\n",
       "    .dataframe thead th {\n",
       "        text-align: right;\n",
       "    }\n",
       "</style>\n",
       "<table border=\"1\" class=\"dataframe\">\n",
       "  <thead>\n",
       "    <tr style=\"text-align: right;\">\n",
       "      <th></th>\n",
       "      <th>SBS31</th>\n",
       "      <th>aging_sigs</th>\n",
       "    </tr>\n",
       "  </thead>\n",
       "  <tbody>\n",
       "    <tr>\n",
       "      <th>AQ5181_vs_AQ5175</th>\n",
       "      <td>0.0</td>\n",
       "      <td>991.219395</td>\n",
       "    </tr>\n",
       "  </tbody>\n",
       "</table>\n",
       "</div>"
      ],
      "text/plain": [
       "                  SBS31  aging_sigs\n",
       "AQ5181_vs_AQ5175    0.0  991.219395"
      ]
     },
     "metadata": {},
     "output_type": "display_data"
    },
    {
     "data": {
      "image/png": "[encoded data removed]",
      "text/plain": [
       "<Figure size 72x144 with 1 Axes>"
      ]
     },
     "metadata": {
      "needs_background": "light"
     },
     "output_type": "display_data"
    }
   ],
   "source": [
    "selected_sample = ['AQ5181_vs_AQ5175']\n",
    "df = df31[df31['clonal']==True]\n",
    "small_barplot(df,selected_sample,figsize=(1,2),ylim=1000,x_val1=100,x_val2=100,range_val=250)\n",
    "plt.savefig('/workspace/projects/sjd_pediatric_tumors/signatures/fitting/msigact/'+selected_sample[0]+'_platinumn_vs_aging_num_muts.png',dpi=300, format='png',transparent=True,bbox_inches='tight')\n"
   ]
  },
  {
   "cell_type": "code",
   "execution_count": 44,
   "metadata": {
    "scrolled": true
   },
   "outputs": [
    {
     "name": "stdout",
     "output_type": "stream",
     "text": [
      "['AQ5187_vs_AQ5175']\n"
     ]
    },
    {
     "name": "stderr",
     "output_type": "stream",
     "text": [
      "/home/msanchezg/miniconda3/envs/process_vc/lib/python3.6/site-packages/ipykernel_launcher.py:6: SettingWithCopyWarning: \n",
      "A value is trying to be set on a copy of a slice from a DataFrame.\n",
      "Try using .loc[row_indexer,col_indexer] = value instead\n",
      "\n",
      "See the caveats in the documentation: https://pandas.pydata.org/pandas-docs/stable/user_guide/indexing.html#returning-a-view-versus-a-copy\n",
      "  \n"
     ]
    },
    {
     "data": {
      "text/html": [
       "<div>\n",
       "<style scoped>\n",
       "    .dataframe tbody tr th:only-of-type {\n",
       "        vertical-align: middle;\n",
       "    }\n",
       "\n",
       "    .dataframe tbody tr th {\n",
       "        vertical-align: top;\n",
       "    }\n",
       "\n",
       "    .dataframe thead th {\n",
       "        text-align: right;\n",
       "    }\n",
       "</style>\n",
       "<table border=\"1\" class=\"dataframe\">\n",
       "  <thead>\n",
       "    <tr style=\"text-align: right;\">\n",
       "      <th></th>\n",
       "      <th>SBS31</th>\n",
       "      <th>aging_sigs</th>\n",
       "    </tr>\n",
       "  </thead>\n",
       "  <tbody>\n",
       "    <tr>\n",
       "      <th>AQ5187_vs_AQ5175</th>\n",
       "      <td>931.960407</td>\n",
       "      <td>1135.726213</td>\n",
       "    </tr>\n",
       "  </tbody>\n",
       "</table>\n",
       "</div>"
      ],
      "text/plain": [
       "                       SBS31   aging_sigs\n",
       "AQ5187_vs_AQ5175  931.960407  1135.726213"
      ]
     },
     "metadata": {},
     "output_type": "display_data"
    },
    {
     "data": {
      "image/png": "[encoded data removed]",
      "text/plain": [
       "<Figure size 72x144 with 1 Axes>"
      ]
     },
     "metadata": {
      "needs_background": "light"
     },
     "output_type": "display_data"
    }
   ],
   "source": [
    "selected_sample = ['AQ5187_vs_AQ5175']\n",
    "df = df31[df31['clonal']==True]\n",
    "small_barplot(df,selected_sample,figsize=(1,2),ylim=1500,x_val1=250,x_val2=300,range_val=500)\n",
    "plt.savefig('/workspace/projects/sjd_pediatric_tumors/signatures/fitting/msigact/'+selected_sample[0]+'_platinumn_vs_aging_num_muts.png',dpi=300, format='png',transparent=True,bbox_inches='tight')\n"
   ]
  },
  {
   "cell_type": "code",
   "execution_count": 45,
   "metadata": {},
   "outputs": [],
   "source": [
    "dates_dict = {'pt2':{'DOB':'08-05-2000',\n",
    "                     'AQ5181_vs_AQ5175':'13-12-2013',\n",
    "                   'AQ5187_vs_AQ5175':'23-12-2013'}} #second neoplasm date we put the start of the treatment\n",
    "\n",
    "\n",
    "def calculate_time(row,samples):\n",
    "    date_dob = row['DOB']\n",
    "    day_dob = date_dob.split('-')[0]\n",
    "    month_dob = date_dob.split('-')[1]\n",
    "    year_dob = date_dob.split('-')[2]\n",
    "    for sample in samples:\n",
    "        date_sample = row[sample]\n",
    "        day_sample = date_sample.split('-')[0]\n",
    "        month_sample = date_sample.split('-')[1]\n",
    "        year_sample = date_sample.split('-')[2]\n",
    "        \n",
    "        years_diff = int(year_sample) - int(year_dob)\n",
    "        months_diff = int(month_sample) - int(month_dob)\n",
    "        days_diff = int(day_sample) - int(day_dob)\n",
    "        \n",
    "        all_years_diff = years_diff + (months_diff/12) + ((days_diff/30)/12)\n",
    "        \n",
    "        row[sample+'_t'] = all_years_diff\n",
    "        \n",
    "    return row\n",
    "\n",
    "def time_table (dates_dict,pt,selected_samples,time_unit,ttmt_days):\n",
    "    dates1_df = pd.DataFrame.from_dict(dates_dict[pt],orient='index')\n",
    "    dates1_df = dates1_df.T\n",
    "\n",
    "\n",
    "    dates1_df = dates1_df.apply(lambda row: calculate_time(row,selected_samples),axis=1)\n",
    "    cols = [sample + '_t' for sample in selected_samples]\n",
    "\n",
    "    df1 = dates1_df[cols]\n",
    "    df1 = df1.rename(columns={col:col.split('_t')[0] for col in cols})\n",
    "    if time_unit == 'days':        \n",
    "        for sample in selected_samples:\n",
    "            df1[sample] = df1[sample].apply(lambda x: x*365)\n",
    "    \n",
    "    df1 = df1.T\n",
    "    if time_unit == 'days':\n",
    "        df1['time_ttmt'] = ttmt_days\n",
    "    elif time_unit == 'years':\n",
    "        ttmt_years = ttmt_days/365\n",
    "        df1['time_ttmt'] = ttmt_years\n",
    "        \n",
    "    df1 = df1.rename(columns={0:'time_birth'})\n",
    "\n",
    "    return df1"
   ]
  },
  {
   "cell_type": "code",
   "execution_count": 46,
   "metadata": {},
   "outputs": [
    {
     "data": {
      "text/html": [
       "<div>\n",
       "<style scoped>\n",
       "    .dataframe tbody tr th:only-of-type {\n",
       "        vertical-align: middle;\n",
       "    }\n",
       "\n",
       "    .dataframe tbody tr th {\n",
       "        vertical-align: top;\n",
       "    }\n",
       "\n",
       "    .dataframe thead th {\n",
       "        text-align: right;\n",
       "    }\n",
       "</style>\n",
       "<table border=\"1\" class=\"dataframe\">\n",
       "  <thead>\n",
       "    <tr style=\"text-align: right;\">\n",
       "      <th></th>\n",
       "      <th>SBS1</th>\n",
       "      <th>SBS5</th>\n",
       "      <th>SBS18</th>\n",
       "      <th>SBS40</th>\n",
       "      <th>SBS31</th>\n",
       "      <th>clonal</th>\n",
       "    </tr>\n",
       "  </thead>\n",
       "  <tbody>\n",
       "    <tr>\n",
       "      <th>AQ5187_vs_AQ5175</th>\n",
       "      <td>153.632827</td>\n",
       "      <td>982.093386</td>\n",
       "      <td>163.31338</td>\n",
       "      <td>0.0</td>\n",
       "      <td>931.960407</td>\n",
       "      <td>True</td>\n",
       "    </tr>\n",
       "  </tbody>\n",
       "</table>\n",
       "</div>"
      ],
      "text/plain": [
       "                        SBS1        SBS5      SBS18  SBS40       SBS31  clonal\n",
       "AQ5187_vs_AQ5175  153.632827  982.093386  163.31338    0.0  931.960407    True"
      ]
     },
     "execution_count": 46,
     "metadata": {},
     "output_type": "execute_result"
    }
   ],
   "source": [
    "df = df31[(df31.index=='AQ5187_vs_AQ5175')&(df31['clonal']==True)]\n",
    "df"
   ]
  },
  {
   "cell_type": "code",
   "execution_count": 47,
   "metadata": {},
   "outputs": [
    {
     "data": {
      "text/html": [
       "<div>\n",
       "<style scoped>\n",
       "    .dataframe tbody tr th:only-of-type {\n",
       "        vertical-align: middle;\n",
       "    }\n",
       "\n",
       "    .dataframe tbody tr th {\n",
       "        vertical-align: top;\n",
       "    }\n",
       "\n",
       "    .dataframe thead th {\n",
       "        text-align: right;\n",
       "    }\n",
       "</style>\n",
       "<table border=\"1\" class=\"dataframe\">\n",
       "  <thead>\n",
       "    <tr style=\"text-align: right;\">\n",
       "      <th></th>\n",
       "      <th>time_birth</th>\n",
       "      <th>time_ttmt</th>\n",
       "    </tr>\n",
       "  </thead>\n",
       "  <tbody>\n",
       "    <tr>\n",
       "      <th>AQ5181_vs_AQ5175</th>\n",
       "      <td>4962.986111</td>\n",
       "      <td>0</td>\n",
       "    </tr>\n",
       "    <tr>\n",
       "      <th>AQ5187_vs_AQ5175</th>\n",
       "      <td>4973.125000</td>\n",
       "      <td>4</td>\n",
       "    </tr>\n",
       "  </tbody>\n",
       "</table>\n",
       "</div>"
      ],
      "text/plain": [
       "                   time_birth  time_ttmt\n",
       "AQ5181_vs_AQ5175  4962.986111          0\n",
       "AQ5187_vs_AQ5175  4973.125000          4"
      ]
     },
     "execution_count": 47,
     "metadata": {},
     "output_type": "execute_result"
    }
   ],
   "source": [
    "selected_samples = ['AQ5181_vs_AQ5175','AQ5187_vs_AQ5175']\n",
    "pt='pt2'\n",
    "time_unit='days'\n",
    "ttmt_days = [0,4]\n",
    "time_days_dose_adj_df = time_table (dates_dict,pt,selected_samples,time_unit,ttmt_days)\n",
    "time_days_dose_adj_df"
   ]
  },
  {
   "cell_type": "code",
   "execution_count": 48,
   "metadata": {},
   "outputs": [],
   "source": [
    "#mutations /day administered\n",
    "def small_barplot_mut_rate (SBS31_df,selected_sample,figsize=(1,2),ylim=26,yticks = np.arange(-5, ylim, 5), x_val1=1, x_val2=1,log_scale=False):\n",
    "    aging_sigs = ['SBS1','SBS5','SBS40']\n",
    "    df = pd.merge(SBS31_df,time_days_dose_adj_df,left_index=True,right_index=True)\n",
    "    df = df[df.index.isin(selected_sample)]\n",
    "    df['aging_sigs'] = df[aging_sigs].sum(axis=1)\n",
    "    df['SBS31_rate'] = df['SBS31'] / df['time_ttmt']\n",
    "    df['aging_rate'] = df['aging_sigs'] / df['time_birth']\n",
    "    sigs = df.columns.tolist()\n",
    "    labels = []\n",
    "    title = ''\n",
    "    xlabel=''\n",
    "    ylabel='Mutation rate\\n(muts/day)'\n",
    "    loc=-80\n",
    "    legend=False\n",
    "    rotation_xtick=0\n",
    "    rotation_pvals=0\n",
    "    ha='center'\n",
    "    \n",
    "    ci_low = []\n",
    "    ci_high = []\n",
    "    \n",
    "    s = selected_sample[0]\n",
    "    \n",
    "    horizontal_line_width = 0.04\n",
    "    fig,ax = plt.subplots(figsize=figsize)\n",
    "    \n",
    "    if s in ['AZ6342','AZ6371','AQ5181_vs_AQ5175']:\n",
    "        pass\n",
    "    else:\n",
    "        cl = (df['SBS31'][df.index==s].iloc[0] - ci_sbs31_dict[s][0]) / df['time_ttmt'][df.index==s].iloc[0]\n",
    "        ch = (ci_sbs31_dict[s][1] - df['SBS31'][df.index==s].iloc[0]) / df['time_ttmt'][df.index==s].iloc[0]\n",
    "        ci_low.append(cl)\n",
    "        ci_high.append(ch)\n",
    "\n",
    "    for x,val in enumerate(df['SBS31_rate'].tolist()):\n",
    "        if s in ['AZ6342','AZ6371','AQ5181_vs_AQ5175']:\n",
    "            ax.plot(x, 0, color='white')\n",
    "        else:\n",
    "            pos = x\n",
    "            left = pos - horizontal_line_width / 2\n",
    "            top = val + ci_high[x]\n",
    "            right = pos + horizontal_line_width / 2\n",
    "            bottom = val - ci_low[x]\n",
    "            ax.bar(pos, val, color='firebrick',width=0.1,edgecolor='firebrick')\n",
    "            ax.plot([pos, pos], [top, bottom], color='k',linewidth=1.5)\n",
    "            ax.plot([left, right], [top, top], color='k',linewidth=1.5)\n",
    "            ax.plot([left, right], [bottom, bottom], color='k',linewidth=1.5)\n",
    "\n",
    "    ci_low = []\n",
    "    ci_high = []\n",
    "    for s in selected_sample:\n",
    "        cl = (df['aging_sigs'][df.index==s].iloc[0] - ci_aging_dict[s][0]) / df['time_birth'][df.index==s].iloc[0]\n",
    "        ch = (ci_aging_dict[s][1] - df['aging_sigs'][df.index==s].iloc[0]) / df['time_birth'][df.index==s].iloc[0]\n",
    "        ci_low.append(cl)\n",
    "        ci_high.append(ch)\n",
    "\n",
    "    for x,val in enumerate(df['aging_rate'].tolist()):   \n",
    "        pos = x +0.2\n",
    "        left = pos - horizontal_line_width / 2\n",
    "        top = val + ci_high[x]\n",
    "        right = pos + horizontal_line_width / 2\n",
    "        bottom = val - ci_low[x]\n",
    "        ax.bar(pos, val, color='cornflowerblue',width=0.1,edgecolor='cornflowerblue')\n",
    "        ax.plot([pos, pos], [top, bottom], color='k',linewidth=1.5)\n",
    "        ax.plot([left, right], [top, top], color='k',linewidth=1.5)\n",
    "        ax.plot([left, right], [bottom, bottom], color='k',linewidth=1.5)\n",
    "\n",
    "    plt.title(title,size=20,pad=20)\n",
    "    plt.margins(0.2,0)\n",
    "\n",
    "    #y-axis\n",
    "    plt.ylabel(ylabel,size=14)\n",
    "    plt.ylim(0,ylim)\n",
    "\n",
    "    #x-axis\n",
    "    plt.xlabel(xlabel)\n",
    "    ticks = range(0,len(df))\n",
    "    plt.xticks(ticks,[])\n",
    "    yticklabels = [str('') if tick == -5 else str(tick) for tick in yticks ]\n",
    "    plt.yticks(ticks = yticks,labels= yticklabels,size=14)\n",
    "    if log_scale==True:\n",
    "        plt.yscale('log')\n",
    "\n",
    "    for i, v in enumerate(df['SBS31_rate']):\n",
    "        if selected_sample[0] in  ['AZ6342','AZ6371']:\n",
    "            pass\n",
    "        else:\n",
    "            plt.text(i+0.1, v+x_val1, str(round(v,2)), color='firebrick', fontweight='normal',ha='center',va='center',size=15)\n",
    "    for i, v in enumerate(df['aging_rate']):\n",
    "        plt.text(i+0.25, v+x_val2, str(round(v,2)), color='cornflowerblue', fontweight='normal',ha='center',va='center',size=15)\n",
    "\n",
    "    ax.spines['top'].set_visible(False)\n",
    "    ax.spines['right'].set_visible(False)\n",
    "    ax.get_xaxis().tick_bottom()\n",
    "    ax.get_yaxis().tick_left()\n",
    "    ax.spines['left'].set_linewidth(2) \n",
    "    ax.spines['bottom'].set_linewidth(2)\n",
    "    ax.xaxis.set_tick_params(width=0)\n",
    "    ax.yaxis.set_tick_params(width=2,length=7)\n",
    "    \n",
    "    ax.grid(False)\n",
    "#    plt.savefig('/workspace/projects/sjd_pediatric_tumors/twinstrand_analysis/20230414_all_samples/'+selected_sample[0]+'_mut_rate.png',dpi=300, format='png',transparent=True,bbox_inches='tight')\n"
   ]
  },
  {
   "cell_type": "code",
   "execution_count": 49,
   "metadata": {
    "scrolled": false
   },
   "outputs": [
    {
     "data": {
      "image/png": "[encoded data removed]",
      "text/plain": [
       "<Figure size 72x144 with 1 Axes>"
      ]
     },
     "metadata": {
      "needs_background": "light"
     },
     "output_type": "display_data"
    }
   ],
   "source": [
    "selected_sample = ['AQ5187_vs_AQ5175']\n",
    "df = df31[df31['clonal']==True]\n",
    "small_barplot_mut_rate(df,selected_sample,ylim=300,yticks = np.arange(0, 310, 100),x_val1=65,x_val2=30)\n",
    "plt.savefig('/workspace/projects/sjd_pediatric_tumors/signatures/fitting/msigact/'+selected_sample[0]+'_mut_rate.png',dpi=300, format='png',transparent=True,bbox_inches='tight')\n"
   ]
  },
  {
   "cell_type": "code",
   "execution_count": 50,
   "metadata": {
    "scrolled": false
   },
   "outputs": [
    {
     "name": "stderr",
     "output_type": "stream",
     "text": [
      "posx and posy should be finite values\n",
      "posx and posy should be finite values\n",
      "posx and posy should be finite values\n",
      "posx and posy should be finite values\n",
      "posx and posy should be finite values\n"
     ]
    },
    {
     "data": {
      "image/png": "[encoded data removed]",
      "text/plain": [
       "<Figure size 72x144 with 1 Axes>"
      ]
     },
     "metadata": {
      "needs_background": "light"
     },
     "output_type": "display_data"
    }
   ],
   "source": [
    "selected_sample = ['AQ5181_vs_AQ5175']\n",
    "df = df31[df31['clonal']==True]\n",
    "small_barplot_mut_rate(df,selected_sample,ylim=1,yticks = np.arange(0, 1.1, 0.5),x_val1=10,x_val2=0.2)\n",
    "plt.savefig('/workspace/projects/sjd_pediatric_tumors/signatures/fitting/msigact/'+selected_sample[0]+'_mut_rate.png',dpi=300, format='png',transparent=True,bbox_inches='tight')\n"
   ]
  }
 ],
 "metadata": {
  "kernelspec": {
   "display_name": "Python [conda env:process_vc]",
   "language": "python",
   "name": "conda-env-process_vc-py"
  },
  "language_info": {
   "codemirror_mode": {
    "name": "ipython",
    "version": 3
   },
   "file_extension": ".py",
   "mimetype": "text/x-python",
   "name": "python",
   "nbconvert_exporter": "python",
   "pygments_lexer": "ipython3",
   "version": "3.6.11"
  }
 },
 "nbformat": 4,
 "nbformat_minor": 4
}
