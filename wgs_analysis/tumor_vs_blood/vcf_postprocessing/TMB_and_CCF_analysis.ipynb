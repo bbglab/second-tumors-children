{
 "cells": [
  {
   "cell_type": "markdown",
   "metadata": {},
   "source": [
    "# TMB and CCF analysis"
   ]
  },
  {
   "cell_type": "code",
   "execution_count": 1,
   "metadata": {},
   "outputs": [],
   "source": [
    "import pandas as pd\n",
    "import json\n",
    "import pybedtools\n",
    "from tqdm.notebook import trange, tqdm\n",
    "import seaborn as sns\n",
    "import matplotlib.pyplot as plt\n",
    "from matplotlib_venn import venn2\n",
    "from matplotlib_venn import venn3\n",
    "%matplotlib inline "
   ]
  },
  {
   "cell_type": "code",
   "execution_count": 2,
   "metadata": {},
   "outputs": [],
   "source": [
    "import warnings\n",
    "warnings.filterwarnings('ignore')"
   ]
  },
  {
   "cell_type": "code",
   "execution_count": 3,
   "metadata": {},
   "outputs": [],
   "source": [
    "samples = json.load( open( \"../../../cases_ids.json\", \"rb\" ) )"
   ]
  },
  {
   "cell_type": "code",
   "execution_count": 4,
   "metadata": {},
   "outputs": [],
   "source": [
    "root_in_hmf = '/path/to/hmf_pipeline/output/'\n",
    "root_in_sarek = '/path/to/sarek/output/'\n",
    "root_out = './output/'"
   ]
  },
  {
   "cell_type": "markdown",
   "metadata": {},
   "source": [
    "## Functions"
   ]
  },
  {
   "cell_type": "code",
   "execution_count": 5,
   "metadata": {},
   "outputs": [],
   "source": [
    "def cnv_snvs_intersect (cnv_df,snvs_df):\n",
    "    '''Adds CN information in snvs/indels mafs\n",
    "    input: cn dataframe from ASCAT output (.cnvs.txt) and snvs/indels dataframe from maf files\n",
    "    output: dataframe with integrated CN info to vc mafs'''\n",
    "    \n",
    "\n",
    "    cnv_bt_df = cnv_df.copy(deep=True)\n",
    "    cnv_bt_df = cnv_bt_df.rename(columns={'chromosome':'chrom','copyNumber':'CN'})\n",
    "    cnv_bt_df = cnv_bt_df[['chrom','start','end','CN']]\n",
    "    #Prepare snvs_df\n",
    "    snvs_bt_df = snvs_df.copy(deep=True)\n",
    "    snvs_bt_df['POS2'] = snvs_bt_df['POS'] + 1\n",
    "    snvs_bt_df = snvs_bt_df[['#CHROM','POS','POS2','REF','ALT']]\n",
    "\n",
    "    #pybedtools cnv + snvs\n",
    "    cnv_bt = pybedtools.BedTool.from_dataframe(cnv_bt_df)\n",
    "    snvs_bt = pybedtools.BedTool.from_dataframe(snvs_bt_df)\n",
    "\n",
    "    cnv_and_snvs = cnv_bt.intersect(snvs_bt)\n",
    "\n",
    "    #Pass intersection to dataframe\n",
    "    snvs_cnv_df = cnv_and_snvs.to_dataframe(header=None)\n",
    "    columns= ['#CHROM','POS','POS2','CN'] \n",
    "    snvs_cnv_df = snvs_cnv_df.rename(columns={'chrom':'#CHROM','start':'POS','end':'POS2',\n",
    "                                              'name':'CN'})\n",
    "    snvs_cnv_df = snvs_cnv_df.drop(columns=['POS2'])\n",
    "\n",
    "    #Merge intersect with snvs_df\n",
    "    snvs_cnv_df = pd.merge(snvs_df,snvs_cnv_df,how='left')\n",
    "    \n",
    "    return snvs_cnv_df\n",
    "\n",
    "def calculate_VAF(reads_alt,reads_ref):\n",
    "    '''Calculate VAF from number of reads\n",
    "    input: number of reads alternate allele, number of reads reference allele\n",
    "    output: variant allele frequency'''\n",
    "    if reads_alt == reads_ref == 0:\n",
    "        return 0\n",
    "    else:\n",
    "        vaf = round (reads_alt/(reads_alt+reads_ref),3)\n",
    "        return vaf\n",
    "\n",
    "def calculate_ccf (vaf,cnv,purity):\n",
    "    '''Calculate CCF from VAF, CN and purity\n",
    "    input: variant allele frequency, copy number, purity\n",
    "    output: cancer cell fraction'''\n",
    "    ccf = vaf*(purity*cnv+ (1-purity)*2)/purity\n",
    "    return ccf\n",
    "\n",
    "def final_dataframe (root_in_sarek,root_in_hmf,root_out,tumor,normal):\n",
    "    '''Reads vc mafs and ASCAT output, makes intersect snvs and CN and adds columns calculated \n",
    "    with VAF and CCF\n",
    "    input: patient, tumor sample id, normal sample id and caller type\n",
    "    output: final dataframe with CN, VAF and CCF information added'''\n",
    "    \n",
    "    #Read cnv callings (purple)\n",
    "    \n",
    "    cnv_df = pd.read_csv(root_in_hmf+'/purple/'+tumor+'.purple.cnv.somatic.tsv',sep='\\t')          \n",
    "        \n",
    "    purity = pd.read_csv(root_in_hmf+'/purple/'\n",
    "                         +tumor+'.purple.purity.tsv',sep='\\t')\n",
    "    #Get purity\n",
    "    purity = purity['purity'][0]\n",
    "    \n",
    "\n",
    "    snvs_df = pd.read_csv(root_out\n",
    "                              +tumor+'_vs_'+normal+'/process_vep_output/'\n",
    "                              +tumor+'_vs_'+normal+'.maf.gz',sep='\\t')\n",
    "    \n",
    "    #Get df with cn and snv intersect\n",
    "\n",
    "    df = cnv_snvs_intersect(cnv_df,snvs_df)    \n",
    "\n",
    "    #Calculate AF and CCF\n",
    "    df['t_AF'] = df.apply(lambda row: calculate_VAF(row['t_alt_reads'],row['t_ref_reads']),axis=1)\n",
    "    df['n_AF'] = df.apply(lambda row: calculate_VAF(row['n_alt_reads'],row['n_ref_reads']),axis=1)\n",
    "    df['t_CCF'] = df.apply(lambda row: calculate_ccf(row['t_AF'],row['CN'],purity),axis=1)\n",
    "    df['n_CCF'] = df.apply(lambda row: calculate_ccf(row['n_AF'],row['CN'],purity),axis=1)\n",
    "    df['purity'] = purity\n",
    "    \n",
    "    return df"
   ]
  },
  {
   "cell_type": "markdown",
   "metadata": {},
   "source": [
    "### Case 1"
   ]
  },
  {
   "cell_type": "code",
   "execution_count": 6,
   "metadata": {},
   "outputs": [],
   "source": [
    "#Tumor1\n",
    "\n",
    "root_in_sarek = '/workspace/datasets/sjd_seq/platinum_results/20220809/pt2-t1-allsamples-t1/sarek_results/results/'\n",
    "root_in_hmf = '/workspace/datasets/sjd_seq/platinum_results/20220809/pt2-t1-allsamples-t1/'\n",
    "root_out = '/workspace/projects/sjd_pediatric_tumors/mafs_platinum/20220809/pt2/' #root_out + 'case1'\n",
    "\n",
    "pt = 'case1'\n",
    "tumor = samples[pt]['tumor1']\n",
    "normal = samples[pt]['normal']\n",
    "case1_t1_df = final_dataframe(root_in_sarek,root_in_hmf,root_out,tumor,normal)\n",
    "\n",
    "#Tumor2\n",
    "\n",
    "root_in_sarek = '/workspace/datasets/sjd_seq/platinum_results/20220809/pt2-t2-allsamples-t2/sarek_results/results/'\n",
    "root_in_hmf = '/workspace/datasets/sjd_seq/platinum_results/20220809/pt2-t2-allsamples-t2/'\n",
    "\n",
    "tumor = samples[pt]['tumor2']\n",
    "case1_t2_df = final_dataframe(root_in_sarek,root_in_hmf,root_out,tumor,normal)"
   ]
  },
  {
   "cell_type": "markdown",
   "metadata": {},
   "source": [
    "### Case 2"
   ]
  },
  {
   "cell_type": "code",
   "execution_count": 7,
   "metadata": {},
   "outputs": [],
   "source": [
    "#Tumor1\n",
    "\n",
    "root_in_sarek = '/workspace/datasets/sjd_seq/platinum_results/20220809/pt3-t1-allsamples-t1/sarek_results/results/'\n",
    "root_in_hmf = '/workspace/datasets/sjd_seq/platinum_results/20220809/pt3-t1-allsamples-t1/'\n",
    "root_out = '/workspace/projects/sjd_pediatric_tumors/mafs_platinum/20220809/pt3/' #root_out + 'case1'\n",
    "\n",
    "pt = 'case2'\n",
    "tumor = samples[pt]['tumor1']\n",
    "normal = samples[pt]['normal']\n",
    "case2_t1_df = final_dataframe(root_in_sarek,root_in_hmf,root_out,tumor,normal)\n",
    "\n",
    "#Tumor2\n",
    "\n",
    "root_in_sarek = '/workspace/datasets/sjd_seq/platinum_results/20220809/pt3-t2-allsamples-t2/sarek_results/results/'\n",
    "root_in_hmf = '/workspace/datasets/sjd_seq/platinum_results/20220809/pt3-t2-allsamples-t2/'\n",
    "\n",
    "tumor = samples[pt]['tumor2']\n",
    "case2_t2_df = final_dataframe(root_in_sarek,root_in_hmf,root_out,tumor,normal)"
   ]
  },
  {
   "cell_type": "markdown",
   "metadata": {},
   "source": [
    "### Case 3"
   ]
  },
  {
   "cell_type": "code",
   "execution_count": 8,
   "metadata": {},
   "outputs": [],
   "source": [
    "#Tumor1\n",
    "\n",
    "root_in_sarek = '/workspace/datasets/sjd_seq/platinum_results/20220809/pt1-t1-allsamples-t1/sarek_results/results/'\n",
    "root_in_hmf = '/workspace/datasets/sjd_seq/platinum_results/20220809/pt1-t1-allsamples-t1/'\n",
    "root_out = '/workspace/projects/sjd_pediatric_tumors/mafs_platinum/20220809/pt1/' #root_out + 'case1'\n",
    "\n",
    "pt = 'case3'\n",
    "tumor = samples[pt]['tumor1']\n",
    "normal = samples[pt]['normal']\n",
    "case3_t1_df = final_dataframe(root_in_sarek,root_in_hmf,root_out,tumor,normal)\n",
    "\n",
    "#Tumor2\n",
    "\n",
    "root_in_sarek = '/workspace/datasets/sjd_seq/platinum_results/20220809/pt1-t2-allsamples-t2/sarek_results/results/'\n",
    "root_in_hmf = '/workspace/datasets/sjd_seq/platinum_results/20220809/pt1-t2-allsamples-t2/'\n",
    "\n",
    "tumor = samples[pt]['tumor2']\n",
    "case3_t2_df = final_dataframe(root_in_sarek,root_in_hmf,root_out,tumor,normal)"
   ]
  },
  {
   "cell_type": "markdown",
   "metadata": {},
   "source": [
    "### Case 4"
   ]
  },
  {
   "cell_type": "code",
   "execution_count": 9,
   "metadata": {},
   "outputs": [],
   "source": [
    "#Tumor1\n",
    "\n",
    "root_in_sarek = '/workspace/datasets/sjd_seq/platinum_results/20220809/pt8-t1-allsamples-t1/sarek_results/results/'\n",
    "root_in_hmf = '/workspace/datasets/sjd_seq/platinum_results/20220809/pt8-t1-allsamples-t1/'\n",
    "root_out = '/workspace/projects/sjd_pediatric_tumors/mafs_platinum/20220809/pt8/' #root_out + 'case1'\n",
    "\n",
    "pt = 'case4'\n",
    "tumor = samples[pt]['tumor1']\n",
    "normal = samples[pt]['normal']\n",
    "case4_t1_df = final_dataframe(root_in_sarek,root_in_hmf,root_out,tumor,normal)\n",
    "\n",
    "#Tumor2\n",
    "\n",
    "root_in_sarek = '/workspace/datasets/sjd_seq/platinum_results/20220809/pt8-t2-allsamples-t2/sarek_results/results/'\n",
    "root_in_hmf = '/workspace/datasets/sjd_seq/platinum_results/20220809/pt8-t2-allsamples-t2/'\n",
    "\n",
    "tumor = samples[pt]['tumor2']\n",
    "case4_t2_df = final_dataframe(root_in_sarek,root_in_hmf,root_out,tumor,normal)"
   ]
  },
  {
   "cell_type": "markdown",
   "metadata": {},
   "source": [
    "## Plots"
   ]
  },
  {
   "cell_type": "markdown",
   "metadata": {},
   "source": [
    "### Tumor mutational burden"
   ]
  },
  {
   "cell_type": "code",
   "execution_count": 10,
   "metadata": {},
   "outputs": [],
   "source": [
    "import os"
   ]
  },
  {
   "cell_type": "code",
   "execution_count": 11,
   "metadata": {},
   "outputs": [],
   "source": [
    "samples_list = [case1_t1_df,case1_t2_df,\n",
    "                case2_t1_df,case2_t2_df,\n",
    "                case3_t1_df,case3_t2_df,\n",
    "                case4_t1_df,case4_t2_df]"
   ]
  },
  {
   "cell_type": "code",
   "execution_count": 12,
   "metadata": {},
   "outputs": [
    {
     "data": {
      "image/png": "[encoded data removed]",
      "text/plain": [
       "<Figure size 1080x432 with 1 Axes>"
      ]
     },
     "metadata": {
      "needs_background": "light"
     },
     "output_type": "display_data"
    }
   ],
   "source": [
    "import inspect\n",
    "\n",
    "def retrieve_name(var):\n",
    "    callers_local_vars = inspect.currentframe().f_back.f_locals.items()\n",
    "    return [var_name for var_name, var_val in callers_local_vars if var_val is var]\n",
    "\n",
    "tum_burden = []\n",
    "for df in samples_list:\n",
    "    sample_name = [ n for n in retrieve_name(df) if 'case' in n]\n",
    "    sample_name = sample_name[0].split('_df')[0]\n",
    "    sample_final = []\n",
    "    sample_final.append(sample_name)\n",
    "    sample_final.append(len(df[df['gnomADg_AF']<0.001]))\n",
    "    tum_burden.append(sample_final)\n",
    "tum_burden_df = pd.DataFrame(tum_burden,columns=['Sample','Number of mutations'])\n",
    "plt.figure(figsize=(15,6))\n",
    "sns.barplot(tum_burden_df['Sample'],tum_burden_df['Number of mutations'])\n",
    "plt.title('TMB',size=25,pad=20)\n",
    "pos=1.5\n",
    "while pos<8:\n",
    "    plt.axvline(x=pos,color='k',linestyle='--')\n",
    "    pos = pos + 2"
   ]
  },
  {
   "cell_type": "markdown",
   "metadata": {},
   "source": [
    "### Density plots"
   ]
  },
  {
   "cell_type": "code",
   "execution_count": 13,
   "metadata": {},
   "outputs": [],
   "source": [
    "def get_ccf_threshold (data,sample,title):\n",
    "    '''get threshold for clonal fraction of the variants\n",
    "    input: data table per sample\n",
    "    output: float, t_CCF value'''\n",
    "    purity = data['purity'][0]\n",
    "    def slope(data_y,data_x,i):\n",
    "        slope = (data_y[i+1] - data_y[i]) / (data_x[i+1] - data_x[i])\n",
    "        return slope\n",
    "    y_var='t_CCF'\n",
    "    xlim=3\n",
    "    data = data[(~data[y_var].isnull())&(data['t_CCF']<xlim)]\n",
    "    data = data[y_var]\n",
    "    fig, ax = plt.subplots()\n",
    "    fig.set_size_inches(4, 2)\n",
    "    ax = sns.distplot(data,rug=True,bins=50)\n",
    "    data_x, data_y = ax.lines[0].get_data()\n",
    "\n",
    "    poss = []\n",
    "    for i in range(len(data_y)):\n",
    "        if i == 0 or i == (len(data_y)-1):\n",
    "            pass\n",
    "        else:\n",
    "            if sample == 'case3_t2':\n",
    "                if  slope(data_y,data_x,i)<0.8 and slope(data_y,data_x,i)>0.7:\n",
    "                    pos = i\n",
    "                    poss.append(pos)\n",
    "            elif sample == 'case2_t2':\n",
    "                if  slope(data_y,data_x,i)<-0.8 and slope(data_y,data_x,i)>-0.9:\n",
    "                    pos = i\n",
    "                    poss.append(pos)\n",
    "            else:\n",
    "                if (data_y[i] < data_y[i+1]) and (data_y[i] < data_y[i-1]):\n",
    "                    poss.append(i)\n",
    "#                     print(data_y[i],i)\n",
    "    poss = [pos for pos in poss if data_x[pos] <1]\n",
    "    if poss == []:\n",
    "        pos = 0\n",
    "    else:\n",
    "        pos = max(poss)\n",
    "        \n",
    "    plt.axhline(y = data_y[pos],color='k',linewidth=1,linestyle='--')\n",
    "    plt.axvline(x = data_x[pos],color='k',linewidth=1,linestyle='--')\n",
    "    plt.text(data_x[pos]+0.1,data_y.max(),'Clonal',size=14)\n",
    "    plt.text(data_x.max()*0.7,data_y.max(),'Purity = '+str(purity))\n",
    "    ax.set_title(title,size=20,pad=20)\n",
    "\n",
    "    return data_x[pos]"
   ]
  },
  {
   "cell_type": "code",
   "execution_count": 14,
   "metadata": {
    "scrolled": true
   },
   "outputs": [
    {
     "data": {
      "text/plain": [
       "{'case1_t1': 0.6057787222048805,\n",
       " 'case1_t2': 0.5363311165234896,\n",
       " 'case2_t1': 0.4880408661925021,\n",
       " 'case2_t2': 0.6594260071476463,\n",
       " 'case3_t1': 0.4795411737486141,\n",
       " 'case3_t2': 0.5113676352736383,\n",
       " 'case4_t1': 0.49050357099165653,\n",
       " 'case4_t2': 0.4758741534200194}"
      ]
     },
     "execution_count": 14,
     "metadata": {},
     "output_type": "execute_result"
    },
    {
     "data": {
      "image/png": "[encoded data removed]",
      "text/plain": [
       "<Figure size 288x144 with 1 Axes>"
      ]
     },
     "metadata": {
      "needs_background": "light"
     },
     "output_type": "display_data"
    },
    {
     "data": {
      "image/png": "[encoded data removed]",
      "text/plain": [
       "<Figure size 288x144 with 1 Axes>"
      ]
     },
     "metadata": {
      "needs_background": "light"
     },
     "output_type": "display_data"
    },
    {
     "data": {
      "image/png": "[encoded data removed]",
      "text/plain": [
       "<Figure size 288x144 with 1 Axes>"
      ]
     },
     "metadata": {
      "needs_background": "light"
     },
     "output_type": "display_data"
    },
    {
     "data": {
      "image/png": "[encoded data removed]",
      "text/plain": [
       "<Figure size 288x144 with 1 Axes>"
      ]
     },
     "metadata": {
      "needs_background": "light"
     },
     "output_type": "display_data"
    },
    {
     "data": {
      "image/png": "[encoded data removed]",
      "text/plain": [
       "<Figure size 288x144 with 1 Axes>"
      ]
     },
     "metadata": {
      "needs_background": "light"
     },
     "output_type": "display_data"
    },
    {
     "data": {
      "image/png": "[encoded data removed]",
      "text/plain": [
       "<Figure size 288x144 with 1 Axes>"
      ]
     },
     "metadata": {
      "needs_background": "light"
     },
     "output_type": "display_data"
    },
    {
     "data": {
      "image/png": "[encoded data removed]",
      "text/plain": [
       "<Figure size 288x144 with 1 Axes>"
      ]
     },
     "metadata": {
      "needs_background": "light"
     },
     "output_type": "display_data"
    },
    {
     "data": {
      "image/png": "[encoded data removed]",
      "text/plain": [
       "<Figure size 288x144 with 1 Axes>"
      ]
     },
     "metadata": {
      "needs_background": "light"
     },
     "output_type": "display_data"
    }
   ],
   "source": [
    "thresholds = {}\n",
    "for df in samples_list:\n",
    "    sample_name = [ n for n in retrieve_name(df) if 'case' in n]\n",
    "    sample_name = sample_name[0].split('_df')[0]\n",
    "    threshold = get_ccf_threshold(df,sample_name,sample_name)\n",
    "    thresholds[sample_name] = threshold\n",
    "thresholds"
   ]
  },
  {
   "cell_type": "code",
   "execution_count": 15,
   "metadata": {},
   "outputs": [
    {
     "data": {
      "text/plain": [
       "{'case1_t1': 0.6057787222048805,\n",
       " 'case1_t2': 0.5363311165234896,\n",
       " 'case2_t1': 0.4880408661925021,\n",
       " 'case2_t2': 0.6594260071476463,\n",
       " 'case3_t1': 0.4795411737486141,\n",
       " 'case3_t2': 0.5113676352736383,\n",
       " 'case4_t1': 0.49050357099165653,\n",
       " 'case4_t2': 0.4758741534200194}"
      ]
     },
     "execution_count": 15,
     "metadata": {},
     "output_type": "execute_result"
    }
   ],
   "source": [
    "thresholds"
   ]
  },
  {
   "cell_type": "code",
   "execution_count": 16,
   "metadata": {},
   "outputs": [],
   "source": [
    "json.dump(thresholds, open( \"ccf_thresholds.json\", \"w\" ) )"
   ]
  },
  {
   "cell_type": "markdown",
   "metadata": {},
   "source": [
    "### Check TMB separating clonals vs. subclonals\n",
    "y axis is on the same length (3000 mutations)"
   ]
  },
  {
   "cell_type": "code",
   "execution_count": 20,
   "metadata": {},
   "outputs": [
    {
     "data": {
      "image/png": "[encoded data removed]",
      "text/plain": [
       "<Figure size 1080x432 with 1 Axes>"
      ]
     },
     "metadata": {
      "needs_background": "light"
     },
     "output_type": "display_data"
    }
   ],
   "source": [
    "tum_burden = []\n",
    "for df in samples_list:\n",
    "    sample_name = [ n for n in retrieve_name(df) if 'case' in n]\n",
    "    sample_name = sample_name[0].split('_df')[0]\n",
    "    sample_final = []\n",
    "    sample_final.append(sample_name)\n",
    "    ccf_threshold = thresholds[sample_name]\n",
    "    sample_final.append(len(df[(df['gnomADg_AF']<0.001)&(df['t_CCF']>ccf_threshold)]))\n",
    "    tum_burden.append(sample_final)\n",
    "tum_burden_df = pd.DataFrame(tum_burden,columns=['Sample','Number of mutations'])\n",
    "plt.figure(figsize=(15,6))\n",
    "sns.barplot(tum_burden_df['Sample'],tum_burden_df['Number of mutations'])\n",
    "plt.title('TMB Clonals',size=25,pad=20)\n",
    "plt.ylim(0,3000)\n",
    "pos=1.5\n",
    "while pos<8:\n",
    "    plt.axvline(x=pos,color='k',linestyle='--')\n",
    "    pos = pos + 2"
   ]
  },
  {
   "cell_type": "code",
   "execution_count": 21,
   "metadata": {},
   "outputs": [
    {
     "data": {
      "image/png": "[encoded data removed]",
      "text/plain": [
       "<Figure size 1080x432 with 1 Axes>"
      ]
     },
     "metadata": {
      "needs_background": "light"
     },
     "output_type": "display_data"
    }
   ],
   "source": [
    "tum_burden = []\n",
    "for df in samples_list:\n",
    "    sample_name = [ n for n in retrieve_name(df) if 'case' in n]\n",
    "    sample_name = sample_name[0].split('_df')[0]\n",
    "    sample_final = []\n",
    "    sample_final.append(sample_name)\n",
    "    ccf_threshold = thresholds[sample_name]\n",
    "    sample_final.append(len(df[(df['gnomADg_AF']<0.001)&(df['t_CCF']<ccf_threshold)]))\n",
    "    tum_burden.append(sample_final)\n",
    "tum_burden_df = pd.DataFrame(tum_burden,columns=['Sample','Number of mutations'])\n",
    "plt.figure(figsize=(15,6))\n",
    "sns.barplot(tum_burden_df['Sample'],tum_burden_df['Number of mutations'])\n",
    "plt.title('TMB Sublonals',size=25,pad=20)\n",
    "plt.ylim(0,3000)\n",
    "pos=1.5\n",
    "while pos<8:\n",
    "    plt.axvline(x=pos,color='k',linestyle='--')\n",
    "    pos = pos + 2"
   ]
  },
  {
   "cell_type": "markdown",
   "metadata": {},
   "source": [
    "### Density plots for figures"
   ]
  },
  {
   "cell_type": "code",
   "execution_count": 22,
   "metadata": {},
   "outputs": [],
   "source": [
    "import matplotlib as mpl\n",
    "import numpy as np"
   ]
  },
  {
   "cell_type": "code",
   "execution_count": 23,
   "metadata": {},
   "outputs": [],
   "source": [
    "def density_plot_paper (df,y_var,xlim1,xlim2,ylim1,ylim2,yticks,xticks,sample_id,bins=100,position=2):\n",
    "    '''Create density plot for CCF\n",
    "    input: tumor data, title and xlim max\n",
    "    output: plot()'''\n",
    "    \n",
    "    def slope(data_y,data_x,i):\n",
    "        slope = (data_y[i+1] - data_y[i]) / (data_x[i+1] - data_x[i])\n",
    "        return slope\n",
    "    purity = df['purity'][0]    \n",
    "    df = df[(~df[y_var].isnull())&(df['t_CCF']<xlim2)]\n",
    "    df = df[y_var]\n",
    "    plt.figure(figsize=(3, 2))\n",
    "    ax = sns.distplot(df,rug=True,bins=bins)\n",
    "    plt.xlim(xlim1,xlim2)\n",
    "    plt.yticks(yticks)\n",
    "    plt.xticks(xticks)\n",
    "    plt.ylabel('Density', fontsize=16)\n",
    "    plt.xlabel('CCF', fontsize=16)\n",
    "\n",
    "    data_x, data_y = ax.lines[0].get_data()\n",
    "\n",
    "    poss = []\n",
    "    for i in range(len(data_y)):\n",
    "        if i == 0 or i == (len(data_y)-1):\n",
    "            pass\n",
    "        else:\n",
    "            if sample_id == 'case3_t2':\n",
    "                if  slope(data_y,data_x,i)<0.8 and slope(data_y,data_x,i)>0.7:\n",
    "                    pos = i\n",
    "                    poss.append(pos)\n",
    "            elif sample_id == 'case2_t2':\n",
    "                if  slope(data_y,data_x,i)<-0.8 and slope(data_y,data_x,i)>-0.9:\n",
    "                    pos = i\n",
    "                    poss.append(pos)\n",
    "            else:\n",
    "                if (data_y[i] < data_y[i+1]) and (data_y[i] < data_y[i-1]):\n",
    "                    poss.append(i)\n",
    "\n",
    "    poss = [pos for pos in poss if data_x[pos] <1]\n",
    "    if poss == []:\n",
    "        pos = 0\n",
    "    else:\n",
    "        pos = max(poss)\n",
    "\n",
    "\n",
    "    plt.axvline(x = data_x[pos],color='k',linewidth=1.5,linestyle='--')\n",
    "\n",
    "    mpl.rcParams['axes.spines.right'] = False\n",
    "    mpl.rcParams['axes.spines.top'] = False"
   ]
  },
  {
   "cell_type": "markdown",
   "metadata": {},
   "source": [
    "### Case 1"
   ]
  },
  {
   "cell_type": "code",
   "execution_count": 26,
   "metadata": {
    "scrolled": true
   },
   "outputs": [
    {
     "data": {
      "image/png": "[encoded data removed]",
      "text/plain": [
       "<Figure size 216x144 with 1 Axes>"
      ]
     },
     "metadata": {
      "needs_background": "light"
     },
     "output_type": "display_data"
    }
   ],
   "source": [
    "sample_id='case1_t1'\n",
    "df = case1_t1_df.copy(deep=False)\n",
    "y_var = 't_CCF'\n",
    "xlim1 = -0.8\n",
    "xlim2 = 2\n",
    "ylim2 = 3\n",
    "yticks = np.arange (0, 3, 1)\n",
    "xticks = np.arange(0, 3, 1)\n",
    "\n",
    "density_plot_paper(df=df,y_var=y_var,xlim1=xlim1,xlim2=xlim2,ylim1=0,ylim2=ylim2,xticks=xticks,yticks=yticks,sample_id=sample_id,bins=50, position=0)        \n",
    "plt.savefig(sample_id+'_ccf_distr.png',dpi=300, format='png',transparent=True,bbox_inches='tight')\n",
    "\n",
    "plt.show()\n"
   ]
  },
  {
   "cell_type": "code",
   "execution_count": 27,
   "metadata": {},
   "outputs": [
    {
     "data": {
      "text/html": [
       "<div>\n",
       "<style scoped>\n",
       "    .dataframe tbody tr th:only-of-type {\n",
       "        vertical-align: middle;\n",
       "    }\n",
       "\n",
       "    .dataframe tbody tr th {\n",
       "        vertical-align: top;\n",
       "    }\n",
       "\n",
       "    .dataframe thead th {\n",
       "        text-align: right;\n",
       "    }\n",
       "</style>\n",
       "<table border=\"1\" class=\"dataframe\">\n",
       "  <thead>\n",
       "    <tr style=\"text-align: right;\">\n",
       "      <th></th>\n",
       "      <th>#CHROM</th>\n",
       "      <th>POS</th>\n",
       "      <th>REF</th>\n",
       "      <th>ALT</th>\n",
       "    </tr>\n",
       "    <tr>\n",
       "      <th>clonal</th>\n",
       "      <th></th>\n",
       "      <th></th>\n",
       "      <th></th>\n",
       "      <th></th>\n",
       "    </tr>\n",
       "  </thead>\n",
       "  <tbody>\n",
       "    <tr>\n",
       "      <th>False</th>\n",
       "      <td>1644</td>\n",
       "      <td>1644</td>\n",
       "      <td>1644</td>\n",
       "      <td>1644</td>\n",
       "    </tr>\n",
       "    <tr>\n",
       "      <th>True</th>\n",
       "      <td>1259</td>\n",
       "      <td>1259</td>\n",
       "      <td>1259</td>\n",
       "      <td>1259</td>\n",
       "    </tr>\n",
       "  </tbody>\n",
       "</table>\n",
       "</div>"
      ],
      "text/plain": [
       "        #CHROM   POS   REF   ALT\n",
       "clonal                          \n",
       "False     1644  1644  1644  1644\n",
       "True      1259  1259  1259  1259"
      ]
     },
     "execution_count": 27,
     "metadata": {},
     "output_type": "execute_result"
    }
   ],
   "source": [
    "#Check number of clonal and subclonal snv mutations\n",
    "\n",
    "threshold = thresholds['case1_t1']\n",
    "\n",
    "df = case1_t1_df.copy()\n",
    "\n",
    "df['clonal'] = df['t_CCF'].apply(lambda x: True if x > threshold else False)\n",
    "\n",
    "df = df[(df['mut_type']=='snv')&(df['gnomADg_AF']<1)].drop_duplicates(subset=['#CHROM','POS','REF','ALT'])\n",
    "df[['#CHROM','POS','REF','ALT','clonal']].groupby('clonal').count()"
   ]
  },
  {
   "cell_type": "code",
   "execution_count": 28,
   "metadata": {
    "scrolled": true
   },
   "outputs": [
    {
     "data": {
      "image/png": "[encoded data removed]",
      "text/plain": [
       "<Figure size 216x144 with 1 Axes>"
      ]
     },
     "metadata": {
      "needs_background": "light"
     },
     "output_type": "display_data"
    }
   ],
   "source": [
    "sample_id='case1_t2'\n",
    "df = case1_t2_df.copy(deep=False)\n",
    "y_var = 't_CCF'\n",
    "xlim1 = -0.5\n",
    "xlim2 = 1.5\n",
    "ylim2 = 3\n",
    "yticks = np.arange (0, 3+1, 1)\n",
    "xticks = np.arange(0, 2, 0.5)\n",
    "\n",
    "density_plot_paper(df=df,y_var=y_var,xlim1=xlim1,xlim2=xlim2,ylim1=0,ylim2=ylim2,xticks=xticks,yticks=yticks,sample_id=sample_id,bins=50, position=0)        \n",
    "plt.ylabel('')\n",
    "plt.savefig(sample_id+'_ccf_distr.png',dpi=300, format='png',transparent=True,bbox_inches='tight')\n",
    "\n",
    "plt.show()\n"
   ]
  },
  {
   "cell_type": "code",
   "execution_count": 29,
   "metadata": {},
   "outputs": [
    {
     "data": {
      "text/html": [
       "<div>\n",
       "<style scoped>\n",
       "    .dataframe tbody tr th:only-of-type {\n",
       "        vertical-align: middle;\n",
       "    }\n",
       "\n",
       "    .dataframe tbody tr th {\n",
       "        vertical-align: top;\n",
       "    }\n",
       "\n",
       "    .dataframe thead th {\n",
       "        text-align: right;\n",
       "    }\n",
       "</style>\n",
       "<table border=\"1\" class=\"dataframe\">\n",
       "  <thead>\n",
       "    <tr style=\"text-align: right;\">\n",
       "      <th></th>\n",
       "      <th>#CHROM</th>\n",
       "      <th>POS</th>\n",
       "      <th>REF</th>\n",
       "      <th>ALT</th>\n",
       "    </tr>\n",
       "    <tr>\n",
       "      <th>clonal</th>\n",
       "      <th></th>\n",
       "      <th></th>\n",
       "      <th></th>\n",
       "      <th></th>\n",
       "    </tr>\n",
       "  </thead>\n",
       "  <tbody>\n",
       "    <tr>\n",
       "      <th>False</th>\n",
       "      <td>165</td>\n",
       "      <td>165</td>\n",
       "      <td>165</td>\n",
       "      <td>165</td>\n",
       "    </tr>\n",
       "    <tr>\n",
       "      <th>True</th>\n",
       "      <td>2231</td>\n",
       "      <td>2231</td>\n",
       "      <td>2231</td>\n",
       "      <td>2231</td>\n",
       "    </tr>\n",
       "  </tbody>\n",
       "</table>\n",
       "</div>"
      ],
      "text/plain": [
       "        #CHROM   POS   REF   ALT\n",
       "clonal                          \n",
       "False      165   165   165   165\n",
       "True      2231  2231  2231  2231"
      ]
     },
     "execution_count": 29,
     "metadata": {},
     "output_type": "execute_result"
    }
   ],
   "source": [
    "#Check number of clonal and subclonal snv mutations\n",
    "\n",
    "threshold = thresholds['case1_t2']\n",
    "\n",
    "df = case1_t2_df.copy()\n",
    "\n",
    "df['clonal'] = df['t_CCF'].apply(lambda x: True if x > threshold else False)\n",
    "\n",
    "df = df[(df['mut_type']=='snv')&(df['gnomADg_AF']<1)].drop_duplicates(subset=['#CHROM','POS','REF','ALT'])\n",
    "df[['#CHROM','POS','REF','ALT','clonal']].groupby('clonal').count()"
   ]
  },
  {
   "cell_type": "markdown",
   "metadata": {},
   "source": [
    "### Case 2"
   ]
  },
  {
   "cell_type": "code",
   "execution_count": 30,
   "metadata": {
    "scrolled": true
   },
   "outputs": [
    {
     "data": {
      "image/png": "[encoded data removed]",
      "text/plain": [
       "<Figure size 216x144 with 1 Axes>"
      ]
     },
     "metadata": {
      "needs_background": "light"
     },
     "output_type": "display_data"
    }
   ],
   "source": [
    "sample_id='case2_t1'\n",
    "df = case2_t1_df.copy(deep=False)\n",
    "y_var = 't_CCF'\n",
    "xlim2 = 1.9\n",
    "ylim2 = 3\n",
    "yticks = np.arange (0, 3, 1)\n",
    "xticks = np.arange(0, 2, 0.5)\n",
    "\n",
    "density_plot_paper(df=df,y_var=y_var,xlim1=xlim1,xlim2=xlim2,ylim1=0,ylim2=ylim2,xticks=xticks,yticks=yticks,sample_id=sample_id,bins=50, position=0)        \n",
    "plt.savefig(sample_id+'_ccf_distr.png',dpi=300, format='png',transparent=True,bbox_inches='tight')\n",
    "\n",
    "plt.show()\n"
   ]
  },
  {
   "cell_type": "code",
   "execution_count": 31,
   "metadata": {},
   "outputs": [
    {
     "data": {
      "text/html": [
       "<div>\n",
       "<style scoped>\n",
       "    .dataframe tbody tr th:only-of-type {\n",
       "        vertical-align: middle;\n",
       "    }\n",
       "\n",
       "    .dataframe tbody tr th {\n",
       "        vertical-align: top;\n",
       "    }\n",
       "\n",
       "    .dataframe thead th {\n",
       "        text-align: right;\n",
       "    }\n",
       "</style>\n",
       "<table border=\"1\" class=\"dataframe\">\n",
       "  <thead>\n",
       "    <tr style=\"text-align: right;\">\n",
       "      <th></th>\n",
       "      <th>#CHROM</th>\n",
       "      <th>POS</th>\n",
       "      <th>REF</th>\n",
       "      <th>ALT</th>\n",
       "    </tr>\n",
       "    <tr>\n",
       "      <th>clonal</th>\n",
       "      <th></th>\n",
       "      <th></th>\n",
       "      <th></th>\n",
       "      <th></th>\n",
       "    </tr>\n",
       "  </thead>\n",
       "  <tbody>\n",
       "    <tr>\n",
       "      <th>False</th>\n",
       "      <td>67</td>\n",
       "      <td>67</td>\n",
       "      <td>67</td>\n",
       "      <td>67</td>\n",
       "    </tr>\n",
       "    <tr>\n",
       "      <th>True</th>\n",
       "      <td>111</td>\n",
       "      <td>111</td>\n",
       "      <td>111</td>\n",
       "      <td>111</td>\n",
       "    </tr>\n",
       "  </tbody>\n",
       "</table>\n",
       "</div>"
      ],
      "text/plain": [
       "        #CHROM  POS  REF  ALT\n",
       "clonal                       \n",
       "False       67   67   67   67\n",
       "True       111  111  111  111"
      ]
     },
     "execution_count": 31,
     "metadata": {},
     "output_type": "execute_result"
    }
   ],
   "source": [
    "#Check number of clonal and subclonal snv mutations\n",
    "\n",
    "threshold = thresholds['case2_t1']\n",
    "\n",
    "df = case2_t1_df.copy()\n",
    "\n",
    "df['clonal'] = df['t_CCF'].apply(lambda x: True if x > threshold else False)\n",
    "\n",
    "df = df[(df['mut_type']=='snv')&(df['gnomADg_AF']<1)].drop_duplicates(subset=['#CHROM','POS','REF','ALT'])\n",
    "df[['#CHROM','POS','REF','ALT','clonal']].groupby('clonal').count()"
   ]
  },
  {
   "cell_type": "code",
   "execution_count": 32,
   "metadata": {
    "scrolled": true
   },
   "outputs": [
    {
     "data": {
      "image/png": "[encoded data removed]",
      "text/plain": [
       "<Figure size 216x144 with 1 Axes>"
      ]
     },
     "metadata": {
      "needs_background": "light"
     },
     "output_type": "display_data"
    }
   ],
   "source": [
    "sample_id='case2_t2'\n",
    "df = case2_t2_df.copy(deep=False)\n",
    "y_var = 't_CCF'\n",
    "\n",
    "xlim1 = -0.2\n",
    "xlim2 = 1.9\n",
    "ylim2 = 3\n",
    "yticks = np.arange (0, 6+1, 2)\n",
    "xticks = np.arange(0, 2, 0.5)\n",
    "\n",
    "density_plot_paper(df=df,y_var=y_var,xlim1=xlim1,xlim2=xlim2,ylim1=0,ylim2=ylim2,xticks=xticks,yticks=yticks,sample_id=sample_id,bins=50, position=0)        \n",
    "plt.ylabel('')\n",
    "plt.savefig(sample_id+'_ccf_distr.png',dpi=300, format='png',transparent=True,bbox_inches='tight')\n",
    "\n",
    "plt.show()\n"
   ]
  },
  {
   "cell_type": "code",
   "execution_count": 33,
   "metadata": {},
   "outputs": [
    {
     "data": {
      "text/html": [
       "<div>\n",
       "<style scoped>\n",
       "    .dataframe tbody tr th:only-of-type {\n",
       "        vertical-align: middle;\n",
       "    }\n",
       "\n",
       "    .dataframe tbody tr th {\n",
       "        vertical-align: top;\n",
       "    }\n",
       "\n",
       "    .dataframe thead th {\n",
       "        text-align: right;\n",
       "    }\n",
       "</style>\n",
       "<table border=\"1\" class=\"dataframe\">\n",
       "  <thead>\n",
       "    <tr style=\"text-align: right;\">\n",
       "      <th></th>\n",
       "      <th>#CHROM</th>\n",
       "      <th>POS</th>\n",
       "      <th>REF</th>\n",
       "      <th>ALT</th>\n",
       "    </tr>\n",
       "    <tr>\n",
       "      <th>clonal</th>\n",
       "      <th></th>\n",
       "      <th></th>\n",
       "      <th></th>\n",
       "      <th></th>\n",
       "    </tr>\n",
       "  </thead>\n",
       "  <tbody>\n",
       "    <tr>\n",
       "      <th>False</th>\n",
       "      <td>1024</td>\n",
       "      <td>1024</td>\n",
       "      <td>1024</td>\n",
       "      <td>1024</td>\n",
       "    </tr>\n",
       "    <tr>\n",
       "      <th>True</th>\n",
       "      <td>94</td>\n",
       "      <td>94</td>\n",
       "      <td>94</td>\n",
       "      <td>94</td>\n",
       "    </tr>\n",
       "  </tbody>\n",
       "</table>\n",
       "</div>"
      ],
      "text/plain": [
       "        #CHROM   POS   REF   ALT\n",
       "clonal                          \n",
       "False     1024  1024  1024  1024\n",
       "True        94    94    94    94"
      ]
     },
     "execution_count": 33,
     "metadata": {},
     "output_type": "execute_result"
    }
   ],
   "source": [
    "#Check number of clonal and subclonal snv mutations\n",
    "\n",
    "threshold = thresholds['case2_t2']\n",
    "\n",
    "df = case2_t2_df.copy()\n",
    "\n",
    "df['clonal'] = df['t_CCF'].apply(lambda x: True if x > threshold else False)\n",
    "\n",
    "df = df[(df['mut_type']=='snv')&(df['gnomADg_AF']<1)].drop_duplicates(subset=['#CHROM','POS','REF','ALT'])\n",
    "df[['#CHROM','POS','REF','ALT','clonal']].groupby('clonal').count()"
   ]
  },
  {
   "cell_type": "markdown",
   "metadata": {},
   "source": [
    "### Case 3"
   ]
  },
  {
   "cell_type": "code",
   "execution_count": 34,
   "metadata": {
    "scrolled": true
   },
   "outputs": [
    {
     "data": {
      "image/png": "[encoded data removed]",
      "text/plain": [
       "<Figure size 216x144 with 1 Axes>"
      ]
     },
     "metadata": {
      "needs_background": "light"
     },
     "output_type": "display_data"
    }
   ],
   "source": [
    "sample_id='case3_t1'\n",
    "df = case3_t1_df.copy(deep=False)\n",
    "y_var = 't_CCF'\n",
    "xlim1 = -0.6\n",
    "xlim2 = 1.5\n",
    "ylim2 = 3\n",
    "yticks = np.arange (0, 3, 1)\n",
    "xticks = np.arange(0, 2, 0.5)\n",
    "\n",
    "density_plot_paper(df=df,y_var=y_var,xlim1=xlim1,xlim2=xlim2,ylim1=0,ylim2=ylim2,xticks=xticks,yticks=yticks,sample_id=sample_id,bins=50, position=0)        \n",
    "plt.savefig(sample_id+'_ccf_distr.png',dpi=300, format='png',transparent=True,bbox_inches='tight')\n",
    "\n",
    "plt.show()\n"
   ]
  },
  {
   "cell_type": "code",
   "execution_count": 35,
   "metadata": {},
   "outputs": [
    {
     "data": {
      "text/html": [
       "<div>\n",
       "<style scoped>\n",
       "    .dataframe tbody tr th:only-of-type {\n",
       "        vertical-align: middle;\n",
       "    }\n",
       "\n",
       "    .dataframe tbody tr th {\n",
       "        vertical-align: top;\n",
       "    }\n",
       "\n",
       "    .dataframe thead th {\n",
       "        text-align: right;\n",
       "    }\n",
       "</style>\n",
       "<table border=\"1\" class=\"dataframe\">\n",
       "  <thead>\n",
       "    <tr style=\"text-align: right;\">\n",
       "      <th></th>\n",
       "      <th>#CHROM</th>\n",
       "      <th>POS</th>\n",
       "      <th>REF</th>\n",
       "      <th>ALT</th>\n",
       "    </tr>\n",
       "    <tr>\n",
       "      <th>clonal</th>\n",
       "      <th></th>\n",
       "      <th></th>\n",
       "      <th></th>\n",
       "      <th></th>\n",
       "    </tr>\n",
       "  </thead>\n",
       "  <tbody>\n",
       "    <tr>\n",
       "      <th>False</th>\n",
       "      <td>128</td>\n",
       "      <td>128</td>\n",
       "      <td>128</td>\n",
       "      <td>128</td>\n",
       "    </tr>\n",
       "    <tr>\n",
       "      <th>True</th>\n",
       "      <td>1252</td>\n",
       "      <td>1252</td>\n",
       "      <td>1252</td>\n",
       "      <td>1252</td>\n",
       "    </tr>\n",
       "  </tbody>\n",
       "</table>\n",
       "</div>"
      ],
      "text/plain": [
       "        #CHROM   POS   REF   ALT\n",
       "clonal                          \n",
       "False      128   128   128   128\n",
       "True      1252  1252  1252  1252"
      ]
     },
     "execution_count": 35,
     "metadata": {},
     "output_type": "execute_result"
    }
   ],
   "source": [
    "#Check number of clonal and subclonal snv mutations\n",
    "\n",
    "threshold = thresholds['case3_t1']\n",
    "\n",
    "df = case3_t1_df.copy()\n",
    "\n",
    "df['clonal'] = df['t_CCF'].apply(lambda x: True if x > threshold else False)\n",
    "\n",
    "df = df[(df['mut_type']=='snv')&(df['gnomADg_AF']<1)].drop_duplicates(subset=['#CHROM','POS','REF','ALT'])\n",
    "df[['#CHROM','POS','REF','ALT','clonal']].groupby('clonal').count()"
   ]
  },
  {
   "cell_type": "code",
   "execution_count": 36,
   "metadata": {
    "scrolled": true
   },
   "outputs": [
    {
     "data": {
      "image/png": "[encoded data removed]",
      "text/plain": [
       "<Figure size 216x144 with 1 Axes>"
      ]
     },
     "metadata": {
      "needs_background": "light"
     },
     "output_type": "display_data"
    }
   ],
   "source": [
    "sample_id='case3_t2'\n",
    "df = case3_t2_df.copy(deep=False)\n",
    "y_var = 't_CCF'\n",
    "xlim1 = -0.8\n",
    "xlim2 = 1.6\n",
    "yticks = np.arange (0, 3+1, 1)\n",
    "xticks = np.arange(0, 2, 0.5)\n",
    "\n",
    "density_plot_paper(df=df,y_var=y_var,xlim1=xlim1,xlim2=xlim2,ylim1=0,ylim2=ylim2,xticks=xticks,yticks=yticks,sample_id=sample_id,bins=50, position=0)        \n",
    "plt.ylabel('')\n",
    "plt.savefig(sample_id+'_ccf_distr.png',dpi=300, format='png',transparent=True,bbox_inches='tight')\n",
    "\n",
    "plt.show()\n"
   ]
  },
  {
   "cell_type": "code",
   "execution_count": 38,
   "metadata": {},
   "outputs": [
    {
     "data": {
      "text/html": [
       "<div>\n",
       "<style scoped>\n",
       "    .dataframe tbody tr th:only-of-type {\n",
       "        vertical-align: middle;\n",
       "    }\n",
       "\n",
       "    .dataframe tbody tr th {\n",
       "        vertical-align: top;\n",
       "    }\n",
       "\n",
       "    .dataframe thead th {\n",
       "        text-align: right;\n",
       "    }\n",
       "</style>\n",
       "<table border=\"1\" class=\"dataframe\">\n",
       "  <thead>\n",
       "    <tr style=\"text-align: right;\">\n",
       "      <th></th>\n",
       "      <th>#CHROM</th>\n",
       "      <th>POS</th>\n",
       "      <th>REF</th>\n",
       "      <th>ALT</th>\n",
       "    </tr>\n",
       "    <tr>\n",
       "      <th>clonal</th>\n",
       "      <th></th>\n",
       "      <th></th>\n",
       "      <th></th>\n",
       "      <th></th>\n",
       "    </tr>\n",
       "  </thead>\n",
       "  <tbody>\n",
       "    <tr>\n",
       "      <th>False</th>\n",
       "      <td>122</td>\n",
       "      <td>122</td>\n",
       "      <td>122</td>\n",
       "      <td>122</td>\n",
       "    </tr>\n",
       "    <tr>\n",
       "      <th>True</th>\n",
       "      <td>1579</td>\n",
       "      <td>1579</td>\n",
       "      <td>1579</td>\n",
       "      <td>1579</td>\n",
       "    </tr>\n",
       "  </tbody>\n",
       "</table>\n",
       "</div>"
      ],
      "text/plain": [
       "        #CHROM   POS   REF   ALT\n",
       "clonal                          \n",
       "False      122   122   122   122\n",
       "True      1579  1579  1579  1579"
      ]
     },
     "execution_count": 38,
     "metadata": {},
     "output_type": "execute_result"
    }
   ],
   "source": [
    "#Check number of clonal and subclonal snv mutations\n",
    "\n",
    "threshold = thresholds['case3_t2']\n",
    "\n",
    "df = case3_t2_df.copy()\n",
    "\n",
    "df['clonal'] = df['t_CCF'].apply(lambda x: True if x > threshold else False)\n",
    "\n",
    "df = df[(df['mut_type']=='snv')&(df['gnomADg_AF']<1)].drop_duplicates(subset=['#CHROM','POS','REF','ALT'])\n",
    "df[['#CHROM','POS','REF','ALT','clonal']].groupby('clonal').count()"
   ]
  }
 ],
 "metadata": {
  "kernelspec": {
   "display_name": "Python [conda env:process_vc]",
   "language": "python",
   "name": "conda-env-process_vc-py"
  },
  "language_info": {
   "codemirror_mode": {
    "name": "ipython",
    "version": 3
   },
   "file_extension": ".py",
   "mimetype": "text/x-python",
   "name": "python",
   "nbconvert_exporter": "python",
   "pygments_lexer": "ipython3",
   "version": "3.6.11"
  }
 },
 "nbformat": 4,
 "nbformat_minor": 4
}
