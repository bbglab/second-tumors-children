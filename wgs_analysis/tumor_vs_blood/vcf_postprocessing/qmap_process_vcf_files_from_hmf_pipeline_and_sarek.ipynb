{
 "cells": [
  {
   "cell_type": "markdown",
   "metadata": {},
   "source": [
    "# Prepare qmaps for variant callers results postprocessing"
   ]
  },
  {
   "cell_type": "code",
   "execution_count": 1,
   "metadata": {},
   "outputs": [],
   "source": [
    "import json\n",
    "import pandas as pd\n",
    "import os"
   ]
  },
  {
   "cell_type": "code",
   "execution_count": 2,
   "metadata": {
    "scrolled": true
   },
   "outputs": [
    {
     "data": {
      "text/plain": [
       "{'case1': {'normal': 'AQ5175',\n",
       "  'tumor1': 'AQ5181',\n",
       "  'tumor2': 'AQ5187',\n",
       "  'sex': 'female'},\n",
       " 'case2': {'normal': 'AQ5176',\n",
       "  'tumor1': 'AQ5182',\n",
       "  'tumor2': 'AQ5188',\n",
       "  'sex': 'male'},\n",
       " 'case3': {'normal': 'AQ5174',\n",
       "  'tumor1': 'AQ5180',\n",
       "  'tumor2': 'AQ5186',\n",
       "  'sex': 'female',\n",
       "  'kidney': 'AX4954',\n",
       "  'liver': 'AX4955',\n",
       "  'pancreas': 'AX4956',\n",
       "  'heart': 'AX4957',\n",
       "  'clone1': 'AX4958',\n",
       "  'clone2': 'AX4961',\n",
       "  'mother': 'AW8063',\n",
       "  'father': 'AW8064',\n",
       "  'lung': 'AX4962',\n",
       "  'medulla': 'AX4963',\n",
       "  'spleen': 'AX4964',\n",
       "  'brain': 'AX4965',\n",
       "  'bma': 'AX4966'},\n",
       " 'case4': {'normal': 'AW8061',\n",
       "  'tumor1': 'AW8050',\n",
       "  'tumor2': 'AW8051',\n",
       "  'sex': 'female'}}"
      ]
     },
     "execution_count": 2,
     "metadata": {},
     "output_type": "execute_result"
    }
   ],
   "source": [
    "samples = json.load( open( \"../../../cases_ids.json\", \"rb\" ) )\n",
    "samples"
   ]
  },
  {
   "cell_type": "markdown",
   "metadata": {},
   "source": [
    "# Create folder tree for output\n"
   ]
  },
  {
   "cell_type": "code",
   "execution_count": 3,
   "metadata": {},
   "outputs": [
    {
     "data": {
      "text/plain": [
       "['./output/',\n",
       " './output/case1/',\n",
       " './output/case1/AQ5181_vs_AQ5175/',\n",
       " './output/case1/AQ5181_vs_AQ5175/vcf_processing/',\n",
       " './output/case1/AQ5181_vs_AQ5175/vcf_processing/mutect',\n",
       " './output/case1/AQ5181_vs_AQ5175/vcf_processing/strelka',\n",
       " './output/case1/AQ5181_vs_AQ5175/vcf_processing/sage',\n",
       " './output/case1/AQ5181_vs_AQ5175/vcf_processing/intersect',\n",
       " './output/case1/AQ5181_vs_AQ5175/process_vep_output/',\n",
       " './output/case1/AQ5181_vs_AQ5175/vep_processing',\n",
       " './output/case1/AQ5181_vs_AQ5175/process_cnv/',\n",
       " './output/case1/AQ5181_vs_AQ5175/process_cnv/purple/',\n",
       " './output/case1/AQ5181_vs_AQ5175/process_sv/',\n",
       " './output/case1/AQ5181_vs_AQ5175/process_sv/gridds/',\n",
       " './output/case1/AQ5181_vs_AQ5175/filter_and_annot/',\n",
       " './output/case1/AQ5187_vs_AQ5175/',\n",
       " './output/case1/AQ5187_vs_AQ5175/vcf_processing/',\n",
       " './output/case1/AQ5187_vs_AQ5175/vcf_processing/mutect',\n",
       " './output/case1/AQ5187_vs_AQ5175/vcf_processing/strelka',\n",
       " './output/case1/AQ5187_vs_AQ5175/vcf_processing/sage',\n",
       " './output/case1/AQ5187_vs_AQ5175/vcf_processing/intersect',\n",
       " './output/case1/AQ5187_vs_AQ5175/process_vep_output/',\n",
       " './output/case1/AQ5187_vs_AQ5175/vep_processing',\n",
       " './output/case1/AQ5187_vs_AQ5175/process_cnv/',\n",
       " './output/case1/AQ5187_vs_AQ5175/process_cnv/purple/',\n",
       " './output/case1/AQ5187_vs_AQ5175/process_sv/',\n",
       " './output/case1/AQ5187_vs_AQ5175/process_sv/gridds/',\n",
       " './output/case1/AQ5187_vs_AQ5175/filter_and_annot/',\n",
       " './output/case1/AQ5175/',\n",
       " './output/case1/AQ5175/vcf_processing/',\n",
       " './output/case1/AQ5175/vcf_processing/haplotype_caller/',\n",
       " './output/case1/AQ5175/vep_processing/',\n",
       " './output/case1/AQ5175/vep_processing/haplotype_caller/',\n",
       " './output/case1/AQ5175/process_vep_output/',\n",
       " './output/case1/AQ5175/process_vep_output/haplotype_caller/',\n",
       " './output/case1/AQ5175/filter_and_annot/',\n",
       " './output/case1/AQ5175/filter_and_annot/haplotype_caller/',\n",
       " './output/case1/AQ5175/process_sv/',\n",
       " './output/case1/AQ5175/process_sv/gripss/',\n",
       " './output/case1/AQ5175/process_sv/gripss/t1/',\n",
       " './output/case1/AQ5175/process_sv/gripss/t2/',\n",
       " './output/case2/',\n",
       " './output/case2/AQ5182_vs_AQ5176/',\n",
       " './output/case2/AQ5182_vs_AQ5176/vcf_processing/',\n",
       " './output/case2/AQ5182_vs_AQ5176/vcf_processing/mutect',\n",
       " './output/case2/AQ5182_vs_AQ5176/vcf_processing/strelka',\n",
       " './output/case2/AQ5182_vs_AQ5176/vcf_processing/sage',\n",
       " './output/case2/AQ5182_vs_AQ5176/vcf_processing/intersect',\n",
       " './output/case2/AQ5182_vs_AQ5176/process_vep_output/',\n",
       " './output/case2/AQ5182_vs_AQ5176/vep_processing',\n",
       " './output/case2/AQ5182_vs_AQ5176/process_cnv/',\n",
       " './output/case2/AQ5182_vs_AQ5176/process_cnv/purple/',\n",
       " './output/case2/AQ5182_vs_AQ5176/process_sv/',\n",
       " './output/case2/AQ5182_vs_AQ5176/process_sv/gridds/',\n",
       " './output/case2/AQ5182_vs_AQ5176/filter_and_annot/',\n",
       " './output/case2/AQ5188_vs_AQ5176/',\n",
       " './output/case2/AQ5188_vs_AQ5176/vcf_processing/',\n",
       " './output/case2/AQ5188_vs_AQ5176/vcf_processing/mutect',\n",
       " './output/case2/AQ5188_vs_AQ5176/vcf_processing/strelka',\n",
       " './output/case2/AQ5188_vs_AQ5176/vcf_processing/sage',\n",
       " './output/case2/AQ5188_vs_AQ5176/vcf_processing/intersect',\n",
       " './output/case2/AQ5188_vs_AQ5176/process_vep_output/',\n",
       " './output/case2/AQ5188_vs_AQ5176/vep_processing',\n",
       " './output/case2/AQ5188_vs_AQ5176/process_cnv/',\n",
       " './output/case2/AQ5188_vs_AQ5176/process_cnv/purple/',\n",
       " './output/case2/AQ5188_vs_AQ5176/process_sv/',\n",
       " './output/case2/AQ5188_vs_AQ5176/process_sv/gridds/',\n",
       " './output/case2/AQ5188_vs_AQ5176/filter_and_annot/',\n",
       " './output/case2/AQ5176/',\n",
       " './output/case2/AQ5176/vcf_processing/',\n",
       " './output/case2/AQ5176/vcf_processing/haplotype_caller/',\n",
       " './output/case2/AQ5176/vep_processing/',\n",
       " './output/case2/AQ5176/vep_processing/haplotype_caller/',\n",
       " './output/case2/AQ5176/process_vep_output/',\n",
       " './output/case2/AQ5176/process_vep_output/haplotype_caller/',\n",
       " './output/case2/AQ5176/filter_and_annot/',\n",
       " './output/case2/AQ5176/filter_and_annot/haplotype_caller/',\n",
       " './output/case2/AQ5176/process_sv/',\n",
       " './output/case2/AQ5176/process_sv/gripss/',\n",
       " './output/case2/AQ5176/process_sv/gripss/t1/',\n",
       " './output/case2/AQ5176/process_sv/gripss/t2/',\n",
       " './output/case3/',\n",
       " './output/case3/AQ5180_vs_AQ5174/',\n",
       " './output/case3/AQ5180_vs_AQ5174/vcf_processing/',\n",
       " './output/case3/AQ5180_vs_AQ5174/vcf_processing/mutect',\n",
       " './output/case3/AQ5180_vs_AQ5174/vcf_processing/strelka',\n",
       " './output/case3/AQ5180_vs_AQ5174/vcf_processing/sage',\n",
       " './output/case3/AQ5180_vs_AQ5174/vcf_processing/intersect',\n",
       " './output/case3/AQ5180_vs_AQ5174/process_vep_output/',\n",
       " './output/case3/AQ5180_vs_AQ5174/vep_processing',\n",
       " './output/case3/AQ5180_vs_AQ5174/process_cnv/',\n",
       " './output/case3/AQ5180_vs_AQ5174/process_cnv/purple/',\n",
       " './output/case3/AQ5180_vs_AQ5174/process_sv/',\n",
       " './output/case3/AQ5180_vs_AQ5174/process_sv/gridds/',\n",
       " './output/case3/AQ5180_vs_AQ5174/filter_and_annot/',\n",
       " './output/case3/AQ5186_vs_AQ5174/',\n",
       " './output/case3/AQ5186_vs_AQ5174/vcf_processing/',\n",
       " './output/case3/AQ5186_vs_AQ5174/vcf_processing/mutect',\n",
       " './output/case3/AQ5186_vs_AQ5174/vcf_processing/strelka',\n",
       " './output/case3/AQ5186_vs_AQ5174/vcf_processing/sage',\n",
       " './output/case3/AQ5186_vs_AQ5174/vcf_processing/intersect',\n",
       " './output/case3/AQ5186_vs_AQ5174/process_vep_output/',\n",
       " './output/case3/AQ5186_vs_AQ5174/vep_processing',\n",
       " './output/case3/AQ5186_vs_AQ5174/process_cnv/',\n",
       " './output/case3/AQ5186_vs_AQ5174/process_cnv/purple/',\n",
       " './output/case3/AQ5186_vs_AQ5174/process_sv/',\n",
       " './output/case3/AQ5186_vs_AQ5174/process_sv/gridds/',\n",
       " './output/case3/AQ5186_vs_AQ5174/filter_and_annot/',\n",
       " './output/case3/AQ5174/',\n",
       " './output/case3/AQ5174/vcf_processing/',\n",
       " './output/case3/AQ5174/vcf_processing/haplotype_caller/',\n",
       " './output/case3/AQ5174/vep_processing/',\n",
       " './output/case3/AQ5174/vep_processing/haplotype_caller/',\n",
       " './output/case3/AQ5174/process_vep_output/',\n",
       " './output/case3/AQ5174/process_vep_output/haplotype_caller/',\n",
       " './output/case3/AQ5174/filter_and_annot/',\n",
       " './output/case3/AQ5174/filter_and_annot/haplotype_caller/',\n",
       " './output/case3/AQ5174/process_sv/',\n",
       " './output/case3/AQ5174/process_sv/gripss/',\n",
       " './output/case3/AQ5174/process_sv/gripss/t1/',\n",
       " './output/case3/AQ5174/process_sv/gripss/t2/',\n",
       " './output/case4/',\n",
       " './output/case4/AW8050_vs_AW8061/',\n",
       " './output/case4/AW8050_vs_AW8061/vcf_processing/',\n",
       " './output/case4/AW8050_vs_AW8061/vcf_processing/mutect',\n",
       " './output/case4/AW8050_vs_AW8061/vcf_processing/strelka',\n",
       " './output/case4/AW8050_vs_AW8061/vcf_processing/sage',\n",
       " './output/case4/AW8050_vs_AW8061/vcf_processing/intersect',\n",
       " './output/case4/AW8050_vs_AW8061/process_vep_output/',\n",
       " './output/case4/AW8050_vs_AW8061/vep_processing',\n",
       " './output/case4/AW8050_vs_AW8061/process_cnv/',\n",
       " './output/case4/AW8050_vs_AW8061/process_cnv/purple/',\n",
       " './output/case4/AW8050_vs_AW8061/process_sv/',\n",
       " './output/case4/AW8050_vs_AW8061/process_sv/gridds/',\n",
       " './output/case4/AW8050_vs_AW8061/filter_and_annot/',\n",
       " './output/case4/AW8051_vs_AW8061/',\n",
       " './output/case4/AW8051_vs_AW8061/vcf_processing/',\n",
       " './output/case4/AW8051_vs_AW8061/vcf_processing/mutect',\n",
       " './output/case4/AW8051_vs_AW8061/vcf_processing/strelka',\n",
       " './output/case4/AW8051_vs_AW8061/vcf_processing/sage',\n",
       " './output/case4/AW8051_vs_AW8061/vcf_processing/intersect',\n",
       " './output/case4/AW8051_vs_AW8061/process_vep_output/',\n",
       " './output/case4/AW8051_vs_AW8061/vep_processing',\n",
       " './output/case4/AW8051_vs_AW8061/process_cnv/',\n",
       " './output/case4/AW8051_vs_AW8061/process_cnv/purple/',\n",
       " './output/case4/AW8051_vs_AW8061/process_sv/',\n",
       " './output/case4/AW8051_vs_AW8061/process_sv/gridds/',\n",
       " './output/case4/AW8051_vs_AW8061/filter_and_annot/',\n",
       " './output/case4/AW8061/',\n",
       " './output/case4/AW8061/vcf_processing/',\n",
       " './output/case4/AW8061/vcf_processing/haplotype_caller/',\n",
       " './output/case4/AW8061/vep_processing/',\n",
       " './output/case4/AW8061/vep_processing/haplotype_caller/',\n",
       " './output/case4/AW8061/process_vep_output/',\n",
       " './output/case4/AW8061/process_vep_output/haplotype_caller/',\n",
       " './output/case4/AW8061/filter_and_annot/',\n",
       " './output/case4/AW8061/filter_and_annot/haplotype_caller/',\n",
       " './output/case4/AW8061/process_sv/',\n",
       " './output/case4/AW8061/process_sv/gripss/',\n",
       " './output/case4/AW8061/process_sv/gripss/t1/',\n",
       " './output/case4/AW8061/process_sv/gripss/t2/']"
      ]
     },
     "execution_count": 3,
     "metadata": {},
     "output_type": "execute_result"
    }
   ],
   "source": [
    "# create a list with all the necessary folders for all the processed files\n",
    "\n",
    "path = './output/' #change accordingly to another directory if needed\n",
    "folders = []\n",
    "folders.append(path)\n",
    "for pt in samples.keys():\n",
    "    pt_folder = path+pt+'/'\n",
    "    folders.append(pt_folder)\n",
    "    for t in ['tumor1','tumor2']:\n",
    "        tumor = samples[pt][t]\n",
    "        normal = samples[pt]['normal']\n",
    "        t_vs_n = tumor + '_vs_' + normal\n",
    "        t_folder = pt_folder + t_vs_n + '/'\n",
    "        vcf_folder = t_folder +'vcf_processing/'\n",
    "        folders.append(t_folder)\n",
    "        folders.append(vcf_folder)\n",
    "        for caller in ['mutect','strelka','sage','intersect']:\n",
    "            caller_folder = vcf_folder + caller\n",
    "            folders.append(caller_folder)\n",
    "        vep_folder = t_folder +'process_vep_output/'\n",
    "        vep2_folder = t_folder +'vep_processing'\n",
    "        cnv_folder = t_folder +'process_cnv/'\n",
    "        purple_folder = cnv_folder +'purple/'\n",
    "        sv_folder = t_folder +'process_sv/'\n",
    "        gridds_folder = sv_folder +'gridds/'\n",
    "        folders.append(vep_folder)\n",
    "        folders.append(vep2_folder)\n",
    "        folders.append(cnv_folder)\n",
    "        folders.append(purple_folder)\n",
    "        folders.append(sv_folder)\n",
    "        folders.append(gridds_folder)\n",
    "        filter_folder = t_folder +'filter_and_annot/'\n",
    "        folders.append(filter_folder)\n",
    "    n_folder = pt_folder+samples[pt]['normal']+'/'\n",
    "    folders.append(n_folder)\n",
    "    for step in ['vcf_processing/','vep_processing/', 'process_vep_output/','filter_and_annot/']:\n",
    "        step_folder = n_folder + step\n",
    "        haplo_folder = step_folder+'haplotype_caller/'\n",
    "        folders.append(step_folder)\n",
    "        folders.append(haplo_folder)\n",
    "    sv_folder = n_folder+'process_sv/'\n",
    "    gripss_folder = sv_folder+'gripss/'\n",
    "    t1_folder = gripss_folder+'t1/'\n",
    "    t2_folder = gripss_folder+'t2/'\n",
    "    folders.append(sv_folder)\n",
    "    folders.append(gripss_folder)\n",
    "    folders.append(t1_folder)\n",
    "    folders.append(t2_folder)\n",
    "folders"
   ]
  },
  {
   "cell_type": "code",
   "execution_count": 4,
   "metadata": {},
   "outputs": [],
   "source": [
    "#create folders\n",
    "for folder in folders:\n",
    "    if not os.path.exists(folder):\n",
    "        os.mkdir(folder)"
   ]
  },
  {
   "cell_type": "markdown",
   "metadata": {},
   "source": [
    "# Somatic processing"
   ]
  },
  {
   "cell_type": "markdown",
   "metadata": {},
   "source": [
    "## Process Mutect and SAGE vcf files"
   ]
  },
  {
   "cell_type": "code",
   "execution_count": 5,
   "metadata": {},
   "outputs": [],
   "source": [
    "# These paths need to be accordongly adapted\n",
    "\n",
    "root_in_hmf = '/path/to/hmf_pipeline/output/'\n",
    "root_in_sarek = '/path/to/sarek/output/'\n",
    "root_out = '../output/'"
   ]
  },
  {
   "cell_type": "code",
   "execution_count": 6,
   "metadata": {},
   "outputs": [
    {
     "data": {
      "text/plain": [
       "['python ../python_scripts/process_mutect_vcf.py -i /path/to/hmf_pipeline/output/sage_somatic/AQ5181.sage.somatic.filtered.vcf.gz -o ../output/case1/AQ5181_vs_AQ5175/vcf_processing/sage/ -t_id AQ5181 -n_id AQ5175',\n",
       " 'python ../python_scripts/process_mutect_vcf.py -i /path/to/hmf_pipeline/output/sage_somatic/AQ5187.sage.somatic.filtered.vcf.gz -o ../output/case1/AQ5187_vs_AQ5175/vcf_processing/sage/ -t_id AQ5187 -n_id AQ5175',\n",
       " 'python ../python_scripts/process_mutect_vcf.py -i /path/to/hmf_pipeline/output/sage_somatic/AQ5182.sage.somatic.filtered.vcf.gz -o ../output/case2/AQ5182_vs_AQ5176/vcf_processing/sage/ -t_id AQ5182 -n_id AQ5176',\n",
       " 'python ../python_scripts/process_mutect_vcf.py -i /path/to/hmf_pipeline/output/sage_somatic/AQ5188.sage.somatic.filtered.vcf.gz -o ../output/case2/AQ5188_vs_AQ5176/vcf_processing/sage/ -t_id AQ5188 -n_id AQ5176',\n",
       " 'python ../python_scripts/process_mutect_vcf.py -i /path/to/hmf_pipeline/output/sage_somatic/AQ5180.sage.somatic.filtered.vcf.gz -o ../output/case3/AQ5180_vs_AQ5174/vcf_processing/sage/ -t_id AQ5180 -n_id AQ5174',\n",
       " 'python ../python_scripts/process_mutect_vcf.py -i /path/to/hmf_pipeline/output/sage_somatic/AQ5186.sage.somatic.filtered.vcf.gz -o ../output/case3/AQ5186_vs_AQ5174/vcf_processing/sage/ -t_id AQ5186 -n_id AQ5174',\n",
       " 'python ../python_scripts/process_mutect_vcf.py -i /path/to/hmf_pipeline/output/sage_somatic/AW8050.sage.somatic.filtered.vcf.gz -o ../output/case4/AW8050_vs_AW8061/vcf_processing/sage/ -t_id AW8050 -n_id AW8061',\n",
       " 'python ../python_scripts/process_mutect_vcf.py -i /path/to/hmf_pipeline/output/sage_somatic/AW8051.sage.somatic.filtered.vcf.gz -o ../output/case4/AW8051_vs_AW8061/vcf_processing/sage/ -t_id AW8051 -n_id AW8061',\n",
       " 'python ../python_scripts/process_mutect_vcf.py -i /path/to/sarek/output/variant_calling/mutect2/AQ5181_vs_AQ5175/AQ5181_vs_AQ5175.mutect2.filtered.vcf.gz -o ../output/case1/AQ5181_vs_AQ5175/vcf_processing/mutect/ -t_id AQ5181 -n_id AQ5175',\n",
       " 'python ../python_scripts/process_mutect_vcf.py -i /path/to/sarek/output/variant_calling/mutect2/AQ5187_vs_AQ5175/AQ5187_vs_AQ5175.mutect2.filtered.vcf.gz -o ../output/case1/AQ5187_vs_AQ5175/vcf_processing/mutect/ -t_id AQ5187 -n_id AQ5175',\n",
       " 'python ../python_scripts/process_mutect_vcf.py -i /path/to/sarek/output/variant_calling/mutect2/AQ5182_vs_AQ5176/AQ5182_vs_AQ5176.mutect2.filtered.vcf.gz -o ../output/case2/AQ5182_vs_AQ5176/vcf_processing/mutect/ -t_id AQ5182 -n_id AQ5176',\n",
       " 'python ../python_scripts/process_mutect_vcf.py -i /path/to/sarek/output/variant_calling/mutect2/AQ5188_vs_AQ5176/AQ5188_vs_AQ5176.mutect2.filtered.vcf.gz -o ../output/case2/AQ5188_vs_AQ5176/vcf_processing/mutect/ -t_id AQ5188 -n_id AQ5176',\n",
       " 'python ../python_scripts/process_mutect_vcf.py -i /path/to/sarek/output/variant_calling/mutect2/AQ5180_vs_AQ5174/AQ5180_vs_AQ5174.mutect2.filtered.vcf.gz -o ../output/case3/AQ5180_vs_AQ5174/vcf_processing/mutect/ -t_id AQ5180 -n_id AQ5174',\n",
       " 'python ../python_scripts/process_mutect_vcf.py -i /path/to/sarek/output/variant_calling/mutect2/AQ5186_vs_AQ5174/AQ5186_vs_AQ5174.mutect2.filtered.vcf.gz -o ../output/case3/AQ5186_vs_AQ5174/vcf_processing/mutect/ -t_id AQ5186 -n_id AQ5174',\n",
       " 'python ../python_scripts/process_mutect_vcf.py -i /path/to/sarek/output/variant_calling/mutect2/AW8050_vs_AW8061/AW8050_vs_AW8061.mutect2.filtered.vcf.gz -o ../output/case4/AW8050_vs_AW8061/vcf_processing/mutect/ -t_id AW8050 -n_id AW8061',\n",
       " 'python ../python_scripts/process_mutect_vcf.py -i /path/to/sarek/output/variant_calling/mutect2/AW8051_vs_AW8061/AW8051_vs_AW8061.mutect2.filtered.vcf.gz -o ../output/case4/AW8051_vs_AW8061/vcf_processing/mutect/ -t_id AW8051 -n_id AW8061']"
      ]
     },
     "execution_count": 6,
     "metadata": {},
     "output_type": "execute_result"
    }
   ],
   "source": [
    "#commands for process vcfs from mutect and sage\n",
    "\n",
    "python_file = '../python_scripts/process_mutect_vcf.py'\n",
    "\n",
    "commands = []\n",
    "\n",
    "#SAGE\n",
    "for pt in samples.keys():\n",
    "    tumor1 = samples[pt]['tumor1']\n",
    "    tumor2 = samples[pt]['tumor2']\n",
    "    normal = samples[pt]['normal']\n",
    "    sample = tumor1 + '_vs_' + normal\n",
    "    in_file = os.path.join(root_in_hmf,'sage_somatic',tumor1+'.sage.somatic.filtered.vcf.gz')\n",
    "    out_dir = os.path.join(root_out,pt,sample,'vcf_processing','sage'+'/')\n",
    "    command = 'python ' + python_file + ' -i ' + in_file + ' -o ' + out_dir + ' -t_id ' + tumor1 + ' -n_id ' + normal\n",
    "    commands.append(command)\n",
    "    sample = tumor2 + '_vs_' + normal\n",
    "    in_file = os.path.join(root_in_hmf,'sage_somatic',tumor2+'.sage.somatic.filtered.vcf.gz')\n",
    "    out_dir = os.path.join(root_out,pt,sample,'vcf_processing','sage'+'/')\n",
    "    command = 'python ' + python_file + ' -i ' + in_file + ' -o ' + out_dir + ' -t_id ' + tumor2 + ' -n_id ' + normal\n",
    "    commands.append(command)\n",
    "    \n",
    "#Mutect\n",
    "for pt in samples.keys():\n",
    "    tumor1 = samples[pt]['tumor1']\n",
    "    tumor2 = samples[pt]['tumor2']\n",
    "    normal = samples[pt]['normal']\n",
    "    sample = tumor1 + '_vs_' + normal\n",
    "    in_file = os.path.join(root_in_sarek,'variant_calling','mutect2',sample,sample+'.mutect2.filtered.vcf.gz')\n",
    "    out_dir = os.path.join(root_out,pt,sample,'vcf_processing','mutect'+'/')\n",
    "    command = 'python ' + python_file + ' -i ' + in_file + ' -o ' + out_dir + ' -t_id ' + tumor1 + ' -n_id ' + normal\n",
    "    commands.append(command)\n",
    "    tumor = samples[pt]['tumor2']\n",
    "    sample = tumor2 + '_vs_' + normal\n",
    "    in_file = os.path.join(root_in_sarek,'variant_calling','mutect2',sample,sample+'.mutect2.filtered.vcf.gz')\n",
    "    out_dir = os.path.join(root_out,pt,sample,'vcf_processing','mutect'+'/')\n",
    "    command = 'python ' + python_file + ' -i ' + in_file + ' -o ' + out_dir + ' -t_id ' + tumor2 + ' -n_id ' + normal\n",
    "    commands.append(command)\n",
    "commands"
   ]
  },
  {
   "cell_type": "code",
   "execution_count": 7,
   "metadata": {},
   "outputs": [],
   "source": [
    "qmap_pre_params = ['[pre]','. \"/home/$USER/miniconda3/etc/profile.d/conda.sh\"','conda activate process_vc','[params]','cores = 1','memory = 20G','[jobs]']\n",
    "qmap_file = qmap_pre_params + commands"
   ]
  },
  {
   "cell_type": "code",
   "execution_count": 8,
   "metadata": {},
   "outputs": [],
   "source": [
    "#Save qmap file\n",
    "\n",
    "with open('./qmap_files/01_mutect_sage_process.qmap', 'w') as f:\n",
    "    for item in qmap_file:\n",
    "        f.write('%s\\n' % item)"
   ]
  },
  {
   "cell_type": "markdown",
   "metadata": {},
   "source": [
    "## Process strelka vcf"
   ]
  },
  {
   "cell_type": "code",
   "execution_count": 9,
   "metadata": {
    "scrolled": true
   },
   "outputs": [
    {
     "data": {
      "text/plain": [
       "['python ../python_scripts/process_strelka_v2.9.10_vcf.py -i /path/to/sarek/output/variant_calling/strelka/AQ5181_vs_AQ5175/AQ5181_vs_AQ5175.strelka.somatic_snvs.vcf.gz -o ../output/case1/AQ5181_vs_AQ5175/vcf_processing/strelka/ -t_id AQ5181 -n_id AQ5175',\n",
       " 'python ../python_scripts/process_strelka_v2.9.10_vcf.py -i /path/to/sarek/output/variant_calling/strelka/AQ5187_vs_AQ5175/AQ5187_vs_AQ5175.strelka.somatic_snvs.vcf.gz -o ../output/case1/AQ5187_vs_AQ5175/vcf_processing/strelka/ -t_id AQ5187 -n_id AQ5175',\n",
       " 'python ../python_scripts/process_strelka_v2.9.10_vcf.py -i /path/to/sarek/output/variant_calling/strelka/AQ5182_vs_AQ5176/AQ5182_vs_AQ5176.strelka.somatic_snvs.vcf.gz -o ../output/case2/AQ5182_vs_AQ5176/vcf_processing/strelka/ -t_id AQ5182 -n_id AQ5176',\n",
       " 'python ../python_scripts/process_strelka_v2.9.10_vcf.py -i /path/to/sarek/output/variant_calling/strelka/AQ5188_vs_AQ5176/AQ5188_vs_AQ5176.strelka.somatic_snvs.vcf.gz -o ../output/case2/AQ5188_vs_AQ5176/vcf_processing/strelka/ -t_id AQ5188 -n_id AQ5176',\n",
       " 'python ../python_scripts/process_strelka_v2.9.10_vcf.py -i /path/to/sarek/output/variant_calling/strelka/AQ5180_vs_AQ5174/AQ5180_vs_AQ5174.strelka.somatic_snvs.vcf.gz -o ../output/case3/AQ5180_vs_AQ5174/vcf_processing/strelka/ -t_id AQ5180 -n_id AQ5174',\n",
       " 'python ../python_scripts/process_strelka_v2.9.10_vcf.py -i /path/to/sarek/output/variant_calling/strelka/AQ5186_vs_AQ5174/AQ5186_vs_AQ5174.strelka.somatic_snvs.vcf.gz -o ../output/case3/AQ5186_vs_AQ5174/vcf_processing/strelka/ -t_id AQ5186 -n_id AQ5174',\n",
       " 'python ../python_scripts/process_strelka_v2.9.10_vcf.py -i /path/to/sarek/output/variant_calling/strelka/AW8050_vs_AW8061/AW8050_vs_AW8061.strelka.somatic_snvs.vcf.gz -o ../output/case4/AW8050_vs_AW8061/vcf_processing/strelka/ -t_id AW8050 -n_id AW8061',\n",
       " 'python ../python_scripts/process_strelka_v2.9.10_vcf.py -i /path/to/sarek/output/variant_calling/strelka/AW8051_vs_AW8061/AW8051_vs_AW8061.strelka.somatic_snvs.vcf.gz -o ../output/case4/AW8051_vs_AW8061/vcf_processing/strelka/ -t_id AW8051 -n_id AW8061']"
      ]
     },
     "execution_count": 9,
     "metadata": {},
     "output_type": "execute_result"
    }
   ],
   "source": [
    "#commands for process vcfs from strelka\n",
    "\n",
    "python_file = '../python_scripts/process_strelka_v2.9.10_vcf.py'\n",
    "\n",
    "commands = []\n",
    "\n",
    "#Strelka\n",
    "for pt in samples.keys():\n",
    "    tumor1 = samples[pt]['tumor1']\n",
    "    tumor2 = samples[pt]['tumor2']\n",
    "    normal = samples[pt]['normal']\n",
    "    sample = tumor1 + '_vs_' + normal\n",
    "    in_file = os.path.join(root_in_sarek,'variant_calling','strelka',sample,sample+'.strelka.somatic_snvs.vcf.gz')\n",
    "    out_dir = os.path.join(root_out,pt,sample,'vcf_processing','strelka'+'/')\n",
    "    command = 'python ' + python_file + ' -i ' + in_file + ' -o ' + out_dir + ' -t_id ' + tumor1 + ' -n_id ' + normal\n",
    "    commands.append(command)\n",
    "    tumor = samples[pt]['tumor2']\n",
    "    sample = tumor2 + '_vs_' + normal\n",
    "    in_file = os.path.join(root_in_sarek,'variant_calling','strelka',sample,sample+'.strelka.somatic_snvs.vcf.gz')\n",
    "    out_dir = os.path.join(root_out,pt,sample,'vcf_processing','strelka'+'/')\n",
    "    command = 'python ' + python_file + ' -i ' + in_file + ' -o ' + out_dir + ' -t_id ' + tumor2 + ' -n_id ' + normal\n",
    "    commands.append(command)\n",
    "commands"
   ]
  },
  {
   "cell_type": "code",
   "execution_count": 10,
   "metadata": {
    "scrolled": true
   },
   "outputs": [
    {
     "data": {
      "text/plain": [
       "['[pre]',\n",
       " '. \"/home/$USER/miniconda3/etc/profile.d/conda.sh\"',\n",
       " 'conda activate process_vc',\n",
       " '[params]',\n",
       " 'cores = 1',\n",
       " 'memory = 20G',\n",
       " '[jobs]',\n",
       " 'python ../python_scripts/process_strelka_v2.9.10_vcf.py -i /path/to/sarek/output/variant_calling/strelka/AQ5181_vs_AQ5175/AQ5181_vs_AQ5175.strelka.somatic_snvs.vcf.gz -o ../output/case1/AQ5181_vs_AQ5175/vcf_processing/strelka/ -t_id AQ5181 -n_id AQ5175',\n",
       " 'python ../python_scripts/process_strelka_v2.9.10_vcf.py -i /path/to/sarek/output/variant_calling/strelka/AQ5187_vs_AQ5175/AQ5187_vs_AQ5175.strelka.somatic_snvs.vcf.gz -o ../output/case1/AQ5187_vs_AQ5175/vcf_processing/strelka/ -t_id AQ5187 -n_id AQ5175',\n",
       " 'python ../python_scripts/process_strelka_v2.9.10_vcf.py -i /path/to/sarek/output/variant_calling/strelka/AQ5182_vs_AQ5176/AQ5182_vs_AQ5176.strelka.somatic_snvs.vcf.gz -o ../output/case2/AQ5182_vs_AQ5176/vcf_processing/strelka/ -t_id AQ5182 -n_id AQ5176',\n",
       " 'python ../python_scripts/process_strelka_v2.9.10_vcf.py -i /path/to/sarek/output/variant_calling/strelka/AQ5188_vs_AQ5176/AQ5188_vs_AQ5176.strelka.somatic_snvs.vcf.gz -o ../output/case2/AQ5188_vs_AQ5176/vcf_processing/strelka/ -t_id AQ5188 -n_id AQ5176',\n",
       " 'python ../python_scripts/process_strelka_v2.9.10_vcf.py -i /path/to/sarek/output/variant_calling/strelka/AQ5180_vs_AQ5174/AQ5180_vs_AQ5174.strelka.somatic_snvs.vcf.gz -o ../output/case3/AQ5180_vs_AQ5174/vcf_processing/strelka/ -t_id AQ5180 -n_id AQ5174',\n",
       " 'python ../python_scripts/process_strelka_v2.9.10_vcf.py -i /path/to/sarek/output/variant_calling/strelka/AQ5186_vs_AQ5174/AQ5186_vs_AQ5174.strelka.somatic_snvs.vcf.gz -o ../output/case3/AQ5186_vs_AQ5174/vcf_processing/strelka/ -t_id AQ5186 -n_id AQ5174',\n",
       " 'python ../python_scripts/process_strelka_v2.9.10_vcf.py -i /path/to/sarek/output/variant_calling/strelka/AW8050_vs_AW8061/AW8050_vs_AW8061.strelka.somatic_snvs.vcf.gz -o ../output/case4/AW8050_vs_AW8061/vcf_processing/strelka/ -t_id AW8050 -n_id AW8061',\n",
       " 'python ../python_scripts/process_strelka_v2.9.10_vcf.py -i /path/to/sarek/output/variant_calling/strelka/AW8051_vs_AW8061/AW8051_vs_AW8061.strelka.somatic_snvs.vcf.gz -o ../output/case4/AW8051_vs_AW8061/vcf_processing/strelka/ -t_id AW8051 -n_id AW8061']"
      ]
     },
     "execution_count": 10,
     "metadata": {},
     "output_type": "execute_result"
    }
   ],
   "source": [
    "qmap_pre_params = ['[pre]','. \"/home/$USER/miniconda3/etc/profile.d/conda.sh\"','conda activate process_vc','[params]','cores = 1','memory = 20G','[jobs]']\n",
    "qmap_file = qmap_pre_params + commands\n",
    "qmap_file"
   ]
  },
  {
   "cell_type": "code",
   "execution_count": 11,
   "metadata": {},
   "outputs": [],
   "source": [
    "#Save qmap file\n",
    "\n",
    "with open('./qmap_files/02_strelka_process.qmap', 'w') as f:\n",
    "    for item in qmap_file:\n",
    "        f.write('%s\\n' % item)"
   ]
  },
  {
   "cell_type": "markdown",
   "metadata": {},
   "source": [
    "## Intersect 3 callers and output by chromosome"
   ]
  },
  {
   "cell_type": "code",
   "execution_count": 12,
   "metadata": {
    "scrolled": true
   },
   "outputs": [
    {
     "data": {
      "text/plain": [
       "['python ../python_scripts/intersect_callers.py -sa ../output/case1/AQ5181_vs_AQ5175/vcf_processing/sage/AQ5181_vs_AQ5175_process.maf.gz -mu ../output/case1/AQ5181_vs_AQ5175/vcf_processing/mutect/AQ5181_vs_AQ5175_process.maf.gz -st ../output/case1/AQ5181_vs_AQ5175/vcf_processing/strelka/AQ5181_vs_AQ5175_process.maf.gz -o ../output/case1/AQ5181_vs_AQ5175/vcf_processing/intersect/ -sn AQ5181_vs_AQ5175 -c ',\n",
       " 'python ../python_scripts/intersect_callers.py -sa ../output/case1/AQ5187_vs_AQ5175/vcf_processing/sage/AQ5187_vs_AQ5175_process.maf.gz -mu ../output/case1/AQ5187_vs_AQ5175/vcf_processing/mutect/AQ5187_vs_AQ5175_process.maf.gz -st ../output/case1/AQ5187_vs_AQ5175/vcf_processing/strelka/AQ5187_vs_AQ5175_process.maf.gz -o ../output/case1/AQ5187_vs_AQ5175/vcf_processing/intersect/ -sn AQ5187_vs_AQ5175 -c ',\n",
       " 'python ../python_scripts/intersect_callers.py -sa ../output/case2/AQ5182_vs_AQ5176/vcf_processing/sage/AQ5182_vs_AQ5176_process.maf.gz -mu ../output/case2/AQ5182_vs_AQ5176/vcf_processing/mutect/AQ5182_vs_AQ5176_process.maf.gz -st ../output/case2/AQ5182_vs_AQ5176/vcf_processing/strelka/AQ5182_vs_AQ5176_process.maf.gz -o ../output/case2/AQ5182_vs_AQ5176/vcf_processing/intersect/ -sn AQ5182_vs_AQ5176 -c ',\n",
       " 'python ../python_scripts/intersect_callers.py -sa ../output/case2/AQ5188_vs_AQ5176/vcf_processing/sage/AQ5188_vs_AQ5176_process.maf.gz -mu ../output/case2/AQ5188_vs_AQ5176/vcf_processing/mutect/AQ5188_vs_AQ5176_process.maf.gz -st ../output/case2/AQ5188_vs_AQ5176/vcf_processing/strelka/AQ5188_vs_AQ5176_process.maf.gz -o ../output/case2/AQ5188_vs_AQ5176/vcf_processing/intersect/ -sn AQ5188_vs_AQ5176 -c ',\n",
       " 'python ../python_scripts/intersect_callers.py -sa ../output/case3/AQ5180_vs_AQ5174/vcf_processing/sage/AQ5180_vs_AQ5174_process.maf.gz -mu ../output/case3/AQ5180_vs_AQ5174/vcf_processing/mutect/AQ5180_vs_AQ5174_process.maf.gz -st ../output/case3/AQ5180_vs_AQ5174/vcf_processing/strelka/AQ5180_vs_AQ5174_process.maf.gz -o ../output/case3/AQ5180_vs_AQ5174/vcf_processing/intersect/ -sn AQ5180_vs_AQ5174 -c ',\n",
       " 'python ../python_scripts/intersect_callers.py -sa ../output/case3/AQ5186_vs_AQ5174/vcf_processing/sage/AQ5186_vs_AQ5174_process.maf.gz -mu ../output/case3/AQ5186_vs_AQ5174/vcf_processing/mutect/AQ5186_vs_AQ5174_process.maf.gz -st ../output/case3/AQ5186_vs_AQ5174/vcf_processing/strelka/AQ5186_vs_AQ5174_process.maf.gz -o ../output/case3/AQ5186_vs_AQ5174/vcf_processing/intersect/ -sn AQ5186_vs_AQ5174 -c ',\n",
       " 'python ../python_scripts/intersect_callers.py -sa ../output/case4/AW8050_vs_AW8061/vcf_processing/sage/AW8050_vs_AW8061_process.maf.gz -mu ../output/case4/AW8050_vs_AW8061/vcf_processing/mutect/AW8050_vs_AW8061_process.maf.gz -st ../output/case4/AW8050_vs_AW8061/vcf_processing/strelka/AW8050_vs_AW8061_process.maf.gz -o ../output/case4/AW8050_vs_AW8061/vcf_processing/intersect/ -sn AW8050_vs_AW8061 -c ',\n",
       " 'python ../python_scripts/intersect_callers.py -sa ../output/case4/AW8051_vs_AW8061/vcf_processing/sage/AW8051_vs_AW8061_process.maf.gz -mu ../output/case4/AW8051_vs_AW8061/vcf_processing/mutect/AW8051_vs_AW8061_process.maf.gz -st ../output/case4/AW8051_vs_AW8061/vcf_processing/strelka/AW8051_vs_AW8061_process.maf.gz -o ../output/case4/AW8051_vs_AW8061/vcf_processing/intersect/ -sn AW8051_vs_AW8061 -c ']"
      ]
     },
     "execution_count": 12,
     "metadata": {},
     "output_type": "execute_result"
    }
   ],
   "source": [
    "#commands for process vcfs\n",
    "\n",
    "python_file = '../python_scripts/intersect_callers.py'\n",
    "\n",
    "commands = []\n",
    "\n",
    "for pt in samples.keys():\n",
    "    tumor = samples[pt]['tumor1']\n",
    "    normal = samples[pt]['normal']\n",
    "    sample = tumor + '_vs_' + normal\n",
    "    in_file_sage = os.path.join(root_out,pt,sample,'vcf_processing','sage',sample+'_process.maf.gz')\n",
    "    in_file_mutect = os.path.join(root_out,pt,sample,'vcf_processing','mutect',sample+'_process.maf.gz')\n",
    "    in_file_strelka = os.path.join(root_out,pt,sample,'vcf_processing','strelka',sample+'_process.maf.gz')\n",
    "    out_dir = os.path.join(root_out,pt,sample,'vcf_processing','intersect'+'/')\n",
    "    command = 'python ' + python_file + ' -sa ' + in_file_sage + ' -mu ' + in_file_mutect + ' -st ' + in_file_strelka + ' -o ' + out_dir + ' -sn ' + sample + ' -c '\n",
    "    commands.append(command)\n",
    "    tumor = samples[pt]['tumor2']\n",
    "    sample = tumor + '_vs_' + normal\n",
    "    in_file_sage = os.path.join(root_out,pt,sample,'vcf_processing','sage',sample+'_process.maf.gz')\n",
    "    in_file_mutect = os.path.join(root_out,pt,sample,'vcf_processing','mutect',sample+'_process.maf.gz')\n",
    "    in_file_strelka = os.path.join(root_out,pt,sample,'vcf_processing','strelka',sample+'_process.maf.gz')\n",
    "    out_dir = os.path.join(root_out,pt,sample,'vcf_processing','intersect'+'/')\n",
    "    command = 'python ' + python_file + ' -sa ' + in_file_sage + ' -mu ' + in_file_mutect + ' -st ' + in_file_strelka + ' -o ' + out_dir + ' -sn ' + sample + ' -c '\n",
    "    commands.append(command)\n",
    "    \n",
    "commands"
   ]
  },
  {
   "cell_type": "code",
   "execution_count": 13,
   "metadata": {
    "scrolled": true
   },
   "outputs": [
    {
     "data": {
      "text/plain": [
       "['[pre]',\n",
       " '. \"/home/$USER/miniconda3/etc/profile.d/conda.sh\"',\n",
       " 'conda activate process_vc',\n",
       " '[params]',\n",
       " 'cores = 1',\n",
       " 'memory = 20G',\n",
       " '[jobs]',\n",
       " 'python ../python_scripts/intersect_callers.py -sa ../output/case1/AQ5181_vs_AQ5175/vcf_processing/sage/AQ5181_vs_AQ5175_process.maf.gz -mu ../output/case1/AQ5181_vs_AQ5175/vcf_processing/mutect/AQ5181_vs_AQ5175_process.maf.gz -st ../output/case1/AQ5181_vs_AQ5175/vcf_processing/strelka/AQ5181_vs_AQ5175_process.maf.gz -o ../output/case1/AQ5181_vs_AQ5175/vcf_processing/intersect/ -sn AQ5181_vs_AQ5175 -c ',\n",
       " 'python ../python_scripts/intersect_callers.py -sa ../output/case1/AQ5187_vs_AQ5175/vcf_processing/sage/AQ5187_vs_AQ5175_process.maf.gz -mu ../output/case1/AQ5187_vs_AQ5175/vcf_processing/mutect/AQ5187_vs_AQ5175_process.maf.gz -st ../output/case1/AQ5187_vs_AQ5175/vcf_processing/strelka/AQ5187_vs_AQ5175_process.maf.gz -o ../output/case1/AQ5187_vs_AQ5175/vcf_processing/intersect/ -sn AQ5187_vs_AQ5175 -c ',\n",
       " 'python ../python_scripts/intersect_callers.py -sa ../output/case2/AQ5182_vs_AQ5176/vcf_processing/sage/AQ5182_vs_AQ5176_process.maf.gz -mu ../output/case2/AQ5182_vs_AQ5176/vcf_processing/mutect/AQ5182_vs_AQ5176_process.maf.gz -st ../output/case2/AQ5182_vs_AQ5176/vcf_processing/strelka/AQ5182_vs_AQ5176_process.maf.gz -o ../output/case2/AQ5182_vs_AQ5176/vcf_processing/intersect/ -sn AQ5182_vs_AQ5176 -c ',\n",
       " 'python ../python_scripts/intersect_callers.py -sa ../output/case2/AQ5188_vs_AQ5176/vcf_processing/sage/AQ5188_vs_AQ5176_process.maf.gz -mu ../output/case2/AQ5188_vs_AQ5176/vcf_processing/mutect/AQ5188_vs_AQ5176_process.maf.gz -st ../output/case2/AQ5188_vs_AQ5176/vcf_processing/strelka/AQ5188_vs_AQ5176_process.maf.gz -o ../output/case2/AQ5188_vs_AQ5176/vcf_processing/intersect/ -sn AQ5188_vs_AQ5176 -c ',\n",
       " 'python ../python_scripts/intersect_callers.py -sa ../output/case3/AQ5180_vs_AQ5174/vcf_processing/sage/AQ5180_vs_AQ5174_process.maf.gz -mu ../output/case3/AQ5180_vs_AQ5174/vcf_processing/mutect/AQ5180_vs_AQ5174_process.maf.gz -st ../output/case3/AQ5180_vs_AQ5174/vcf_processing/strelka/AQ5180_vs_AQ5174_process.maf.gz -o ../output/case3/AQ5180_vs_AQ5174/vcf_processing/intersect/ -sn AQ5180_vs_AQ5174 -c ',\n",
       " 'python ../python_scripts/intersect_callers.py -sa ../output/case3/AQ5186_vs_AQ5174/vcf_processing/sage/AQ5186_vs_AQ5174_process.maf.gz -mu ../output/case3/AQ5186_vs_AQ5174/vcf_processing/mutect/AQ5186_vs_AQ5174_process.maf.gz -st ../output/case3/AQ5186_vs_AQ5174/vcf_processing/strelka/AQ5186_vs_AQ5174_process.maf.gz -o ../output/case3/AQ5186_vs_AQ5174/vcf_processing/intersect/ -sn AQ5186_vs_AQ5174 -c ',\n",
       " 'python ../python_scripts/intersect_callers.py -sa ../output/case4/AW8050_vs_AW8061/vcf_processing/sage/AW8050_vs_AW8061_process.maf.gz -mu ../output/case4/AW8050_vs_AW8061/vcf_processing/mutect/AW8050_vs_AW8061_process.maf.gz -st ../output/case4/AW8050_vs_AW8061/vcf_processing/strelka/AW8050_vs_AW8061_process.maf.gz -o ../output/case4/AW8050_vs_AW8061/vcf_processing/intersect/ -sn AW8050_vs_AW8061 -c ',\n",
       " 'python ../python_scripts/intersect_callers.py -sa ../output/case4/AW8051_vs_AW8061/vcf_processing/sage/AW8051_vs_AW8061_process.maf.gz -mu ../output/case4/AW8051_vs_AW8061/vcf_processing/mutect/AW8051_vs_AW8061_process.maf.gz -st ../output/case4/AW8051_vs_AW8061/vcf_processing/strelka/AW8051_vs_AW8061_process.maf.gz -o ../output/case4/AW8051_vs_AW8061/vcf_processing/intersect/ -sn AW8051_vs_AW8061 -c ']"
      ]
     },
     "execution_count": 13,
     "metadata": {},
     "output_type": "execute_result"
    }
   ],
   "source": [
    "qmap_pre_params = ['[pre]','. \"/home/$USER/miniconda3/etc/profile.d/conda.sh\"','conda activate process_vc','[params]','cores = 1','memory = 20G','[jobs]']\n",
    "qmap_file = qmap_pre_params + commands\n",
    "qmap_file"
   ]
  },
  {
   "cell_type": "code",
   "execution_count": 14,
   "metadata": {},
   "outputs": [],
   "source": [
    "#Save qmap file\n",
    "\n",
    "with open('./qmap_files/03_intersect.qmap', 'w') as f:\n",
    "    for item in qmap_file:\n",
    "        f.write('%s\\n' % item)"
   ]
  },
  {
   "cell_type": "markdown",
   "metadata": {},
   "source": [
    "## Run VEP 101 from intersect"
   ]
  },
  {
   "cell_type": "code",
   "execution_count": 15,
   "metadata": {},
   "outputs": [
    {
     "data": {
      "text/plain": [
       "['vep -i ../output/case1/AQ5181_vs_AQ5175/vcf_processing/intersect/AQ5181_vs_AQ5175_chr1.maf.gz -o STDOUT -tab --assembly GRCh38 --no_stats --cache --symbol --protein --canonical --offline --af_1kg --dir /path/to/vep  --custom /path/to/gnomad/data/v3.0.0/hg38/gnomad.genomes.r3.0.sites.chr1.vcf.bgz,gnomADg,vcf,exact,0,AF,NFE > ../output/case1/AQ5181_vs_AQ5175/vep_processing/AQ5181_vs_AQ5175_chr1_vep.txt',\n",
       " 'vep -i ../output/case1/AQ5181_vs_AQ5175/vcf_processing/intersect/AQ5181_vs_AQ5175_chr2.maf.gz -o STDOUT -tab --assembly GRCh38 --no_stats --cache --symbol --protein --canonical --offline --af_1kg --dir /path/to/vep  --custom /path/to/gnomad/data/v3.0.0/hg38/gnomad.genomes.r3.0.sites.chr2.vcf.bgz,gnomADg,vcf,exact,0,AF,NFE > ../output/case1/AQ5181_vs_AQ5175/vep_processing/AQ5181_vs_AQ5175_chr2_vep.txt',\n",
       " 'vep -i ../output/case1/AQ5181_vs_AQ5175/vcf_processing/intersect/AQ5181_vs_AQ5175_chr3.maf.gz -o STDOUT -tab --assembly GRCh38 --no_stats --cache --symbol --protein --canonical --offline --af_1kg --dir /path/to/vep  --custom /path/to/gnomad/data/v3.0.0/hg38/gnomad.genomes.r3.0.sites.chr3.vcf.bgz,gnomADg,vcf,exact,0,AF,NFE > ../output/case1/AQ5181_vs_AQ5175/vep_processing/AQ5181_vs_AQ5175_chr3_vep.txt',\n",
       " 'vep -i ../output/case1/AQ5181_vs_AQ5175/vcf_processing/intersect/AQ5181_vs_AQ5175_chr4.maf.gz -o STDOUT -tab --assembly GRCh38 --no_stats --cache --symbol --protein --canonical --offline --af_1kg --dir /path/to/vep  --custom /path/to/gnomad/data/v3.0.0/hg38/gnomad.genomes.r3.0.sites.chr4.vcf.bgz,gnomADg,vcf,exact,0,AF,NFE > ../output/case1/AQ5181_vs_AQ5175/vep_processing/AQ5181_vs_AQ5175_chr4_vep.txt',\n",
       " 'vep -i ../output/case1/AQ5181_vs_AQ5175/vcf_processing/intersect/AQ5181_vs_AQ5175_chr5.maf.gz -o STDOUT -tab --assembly GRCh38 --no_stats --cache --symbol --protein --canonical --offline --af_1kg --dir /path/to/vep  --custom /path/to/gnomad/data/v3.0.0/hg38/gnomad.genomes.r3.0.sites.chr5.vcf.bgz,gnomADg,vcf,exact,0,AF,NFE > ../output/case1/AQ5181_vs_AQ5175/vep_processing/AQ5181_vs_AQ5175_chr5_vep.txt',\n",
       " 'vep -i ../output/case1/AQ5181_vs_AQ5175/vcf_processing/intersect/AQ5181_vs_AQ5175_chr6.maf.gz -o STDOUT -tab --assembly GRCh38 --no_stats --cache --symbol --protein --canonical --offline --af_1kg --dir /path/to/vep  --custom /path/to/gnomad/data/v3.0.0/hg38/gnomad.genomes.r3.0.sites.chr6.vcf.bgz,gnomADg,vcf,exact,0,AF,NFE > ../output/case1/AQ5181_vs_AQ5175/vep_processing/AQ5181_vs_AQ5175_chr6_vep.txt',\n",
       " 'vep -i ../output/case1/AQ5181_vs_AQ5175/vcf_processing/intersect/AQ5181_vs_AQ5175_chr7.maf.gz -o STDOUT -tab --assembly GRCh38 --no_stats --cache --symbol --protein --canonical --offline --af_1kg --dir /path/to/vep  --custom /path/to/gnomad/data/v3.0.0/hg38/gnomad.genomes.r3.0.sites.chr7.vcf.bgz,gnomADg,vcf,exact,0,AF,NFE > ../output/case1/AQ5181_vs_AQ5175/vep_processing/AQ5181_vs_AQ5175_chr7_vep.txt',\n",
       " 'vep -i ../output/case1/AQ5181_vs_AQ5175/vcf_processing/intersect/AQ5181_vs_AQ5175_chr8.maf.gz -o STDOUT -tab --assembly GRCh38 --no_stats --cache --symbol --protein --canonical --offline --af_1kg --dir /path/to/vep  --custom /path/to/gnomad/data/v3.0.0/hg38/gnomad.genomes.r3.0.sites.chr8.vcf.bgz,gnomADg,vcf,exact,0,AF,NFE > ../output/case1/AQ5181_vs_AQ5175/vep_processing/AQ5181_vs_AQ5175_chr8_vep.txt',\n",
       " 'vep -i ../output/case1/AQ5181_vs_AQ5175/vcf_processing/intersect/AQ5181_vs_AQ5175_chr9.maf.gz -o STDOUT -tab --assembly GRCh38 --no_stats --cache --symbol --protein --canonical --offline --af_1kg --dir /path/to/vep  --custom /path/to/gnomad/data/v3.0.0/hg38/gnomad.genomes.r3.0.sites.chr9.vcf.bgz,gnomADg,vcf,exact,0,AF,NFE > ../output/case1/AQ5181_vs_AQ5175/vep_processing/AQ5181_vs_AQ5175_chr9_vep.txt',\n",
       " 'vep -i ../output/case1/AQ5181_vs_AQ5175/vcf_processing/intersect/AQ5181_vs_AQ5175_chr10.maf.gz -o STDOUT -tab --assembly GRCh38 --no_stats --cache --symbol --protein --canonical --offline --af_1kg --dir /path/to/vep  --custom /path/to/gnomad/data/v3.0.0/hg38/gnomad.genomes.r3.0.sites.chr10.vcf.bgz,gnomADg,vcf,exact,0,AF,NFE > ../output/case1/AQ5181_vs_AQ5175/vep_processing/AQ5181_vs_AQ5175_chr10_vep.txt',\n",
       " 'vep -i ../output/case1/AQ5181_vs_AQ5175/vcf_processing/intersect/AQ5181_vs_AQ5175_chr11.maf.gz -o STDOUT -tab --assembly GRCh38 --no_stats --cache --symbol --protein --canonical --offline --af_1kg --dir /path/to/vep  --custom /path/to/gnomad/data/v3.0.0/hg38/gnomad.genomes.r3.0.sites.chr11.vcf.bgz,gnomADg,vcf,exact,0,AF,NFE > ../output/case1/AQ5181_vs_AQ5175/vep_processing/AQ5181_vs_AQ5175_chr11_vep.txt',\n",
       " 'vep -i ../output/case1/AQ5181_vs_AQ5175/vcf_processing/intersect/AQ5181_vs_AQ5175_chr12.maf.gz -o STDOUT -tab --assembly GRCh38 --no_stats --cache --symbol --protein --canonical --offline --af_1kg --dir /path/to/vep  --custom /path/to/gnomad/data/v3.0.0/hg38/gnomad.genomes.r3.0.sites.chr12.vcf.bgz,gnomADg,vcf,exact,0,AF,NFE > ../output/case1/AQ5181_vs_AQ5175/vep_processing/AQ5181_vs_AQ5175_chr12_vep.txt',\n",
       " 'vep -i ../output/case1/AQ5181_vs_AQ5175/vcf_processing/intersect/AQ5181_vs_AQ5175_chr13.maf.gz -o STDOUT -tab --assembly GRCh38 --no_stats --cache --symbol --protein --canonical --offline --af_1kg --dir /path/to/vep  --custom /path/to/gnomad/data/v3.0.0/hg38/gnomad.genomes.r3.0.sites.chr13.vcf.bgz,gnomADg,vcf,exact,0,AF,NFE > ../output/case1/AQ5181_vs_AQ5175/vep_processing/AQ5181_vs_AQ5175_chr13_vep.txt',\n",
       " 'vep -i ../output/case1/AQ5181_vs_AQ5175/vcf_processing/intersect/AQ5181_vs_AQ5175_chr14.maf.gz -o STDOUT -tab --assembly GRCh38 --no_stats --cache --symbol --protein --canonical --offline --af_1kg --dir /path/to/vep  --custom /path/to/gnomad/data/v3.0.0/hg38/gnomad.genomes.r3.0.sites.chr14.vcf.bgz,gnomADg,vcf,exact,0,AF,NFE > ../output/case1/AQ5181_vs_AQ5175/vep_processing/AQ5181_vs_AQ5175_chr14_vep.txt',\n",
       " 'vep -i ../output/case1/AQ5181_vs_AQ5175/vcf_processing/intersect/AQ5181_vs_AQ5175_chr15.maf.gz -o STDOUT -tab --assembly GRCh38 --no_stats --cache --symbol --protein --canonical --offline --af_1kg --dir /path/to/vep  --custom /path/to/gnomad/data/v3.0.0/hg38/gnomad.genomes.r3.0.sites.chr15.vcf.bgz,gnomADg,vcf,exact,0,AF,NFE > ../output/case1/AQ5181_vs_AQ5175/vep_processing/AQ5181_vs_AQ5175_chr15_vep.txt',\n",
       " 'vep -i ../output/case1/AQ5181_vs_AQ5175/vcf_processing/intersect/AQ5181_vs_AQ5175_chr16.maf.gz -o STDOUT -tab --assembly GRCh38 --no_stats --cache --symbol --protein --canonical --offline --af_1kg --dir /path/to/vep  --custom /path/to/gnomad/data/v3.0.0/hg38/gnomad.genomes.r3.0.sites.chr16.vcf.bgz,gnomADg,vcf,exact,0,AF,NFE > ../output/case1/AQ5181_vs_AQ5175/vep_processing/AQ5181_vs_AQ5175_chr16_vep.txt',\n",
       " 'vep -i ../output/case1/AQ5181_vs_AQ5175/vcf_processing/intersect/AQ5181_vs_AQ5175_chr17.maf.gz -o STDOUT -tab --assembly GRCh38 --no_stats --cache --symbol --protein --canonical --offline --af_1kg --dir /path/to/vep  --custom /path/to/gnomad/data/v3.0.0/hg38/gnomad.genomes.r3.0.sites.chr17.vcf.bgz,gnomADg,vcf,exact,0,AF,NFE > ../output/case1/AQ5181_vs_AQ5175/vep_processing/AQ5181_vs_AQ5175_chr17_vep.txt',\n",
       " 'vep -i ../output/case1/AQ5181_vs_AQ5175/vcf_processing/intersect/AQ5181_vs_AQ5175_chr18.maf.gz -o STDOUT -tab --assembly GRCh38 --no_stats --cache --symbol --protein --canonical --offline --af_1kg --dir /path/to/vep  --custom /path/to/gnomad/data/v3.0.0/hg38/gnomad.genomes.r3.0.sites.chr18.vcf.bgz,gnomADg,vcf,exact,0,AF,NFE > ../output/case1/AQ5181_vs_AQ5175/vep_processing/AQ5181_vs_AQ5175_chr18_vep.txt',\n",
       " 'vep -i ../output/case1/AQ5181_vs_AQ5175/vcf_processing/intersect/AQ5181_vs_AQ5175_chr19.maf.gz -o STDOUT -tab --assembly GRCh38 --no_stats --cache --symbol --protein --canonical --offline --af_1kg --dir /path/to/vep  --custom /path/to/gnomad/data/v3.0.0/hg38/gnomad.genomes.r3.0.sites.chr19.vcf.bgz,gnomADg,vcf,exact,0,AF,NFE > ../output/case1/AQ5181_vs_AQ5175/vep_processing/AQ5181_vs_AQ5175_chr19_vep.txt',\n",
       " 'vep -i ../output/case1/AQ5181_vs_AQ5175/vcf_processing/intersect/AQ5181_vs_AQ5175_chr20.maf.gz -o STDOUT -tab --assembly GRCh38 --no_stats --cache --symbol --protein --canonical --offline --af_1kg --dir /path/to/vep  --custom /path/to/gnomad/data/v3.0.0/hg38/gnomad.genomes.r3.0.sites.chr20.vcf.bgz,gnomADg,vcf,exact,0,AF,NFE > ../output/case1/AQ5181_vs_AQ5175/vep_processing/AQ5181_vs_AQ5175_chr20_vep.txt',\n",
       " 'vep -i ../output/case1/AQ5181_vs_AQ5175/vcf_processing/intersect/AQ5181_vs_AQ5175_chr21.maf.gz -o STDOUT -tab --assembly GRCh38 --no_stats --cache --symbol --protein --canonical --offline --af_1kg --dir /path/to/vep  --custom /path/to/gnomad/data/v3.0.0/hg38/gnomad.genomes.r3.0.sites.chr21.vcf.bgz,gnomADg,vcf,exact,0,AF,NFE > ../output/case1/AQ5181_vs_AQ5175/vep_processing/AQ5181_vs_AQ5175_chr21_vep.txt',\n",
       " 'vep -i ../output/case1/AQ5181_vs_AQ5175/vcf_processing/intersect/AQ5181_vs_AQ5175_chr22.maf.gz -o STDOUT -tab --assembly GRCh38 --no_stats --cache --symbol --protein --canonical --offline --af_1kg --dir /path/to/vep  --custom /path/to/gnomad/data/v3.0.0/hg38/gnomad.genomes.r3.0.sites.chr22.vcf.bgz,gnomADg,vcf,exact,0,AF,NFE > ../output/case1/AQ5181_vs_AQ5175/vep_processing/AQ5181_vs_AQ5175_chr22_vep.txt',\n",
       " 'vep -i ../output/case1/AQ5181_vs_AQ5175/vcf_processing/intersect/AQ5181_vs_AQ5175_chrX.maf.gz -o STDOUT -tab --assembly GRCh38 --no_stats --cache --symbol --protein --canonical --offline --af_1kg --dir /path/to/vep  --custom /path/to/gnomad/data/v3.0.0/hg38/gnomad.genomes.r3.0.sites.chrX.vcf.bgz,gnomADg,vcf,exact,0,AF,NFE > ../output/case1/AQ5181_vs_AQ5175/vep_processing/AQ5181_vs_AQ5175_chrX_vep.txt',\n",
       " 'vep -i ../output/case1/AQ5181_vs_AQ5175/vcf_processing/intersect/AQ5181_vs_AQ5175_chrY.maf.gz -o STDOUT -tab --assembly GRCh38 --no_stats --cache --symbol --protein --canonical --offline --af_1kg --dir /path/to/vep  --custom /path/to/gnomad/data/v3.0.0/hg38/gnomad.genomes.r3.0.sites.chrY.vcf.bgz,gnomADg,vcf,exact,0,AF,NFE > ../output/case1/AQ5181_vs_AQ5175/vep_processing/AQ5181_vs_AQ5175_chrY_vep.txt',\n",
       " 'vep -i ../output/case1/AQ5187_vs_AQ5175/vcf_processing/intersect/AQ5187_vs_AQ5175_chr1.maf.gz -o STDOUT -tab --assembly GRCh38 --no_stats --cache --symbol --protein --canonical --offline --af_1kg --dir /path/to/vep  --custom /path/to/gnomad/data/v3.0.0/hg38/gnomad.genomes.r3.0.sites.chr1.vcf.bgz,gnomADg,vcf,exact,0,AF,NFE > ../output/case1/AQ5187_vs_AQ5175/vep_processing/AQ5187_vs_AQ5175_chr1_vep.txt',\n",
       " 'vep -i ../output/case1/AQ5187_vs_AQ5175/vcf_processing/intersect/AQ5187_vs_AQ5175_chr2.maf.gz -o STDOUT -tab --assembly GRCh38 --no_stats --cache --symbol --protein --canonical --offline --af_1kg --dir /path/to/vep  --custom /path/to/gnomad/data/v3.0.0/hg38/gnomad.genomes.r3.0.sites.chr2.vcf.bgz,gnomADg,vcf,exact,0,AF,NFE > ../output/case1/AQ5187_vs_AQ5175/vep_processing/AQ5187_vs_AQ5175_chr2_vep.txt',\n",
       " 'vep -i ../output/case1/AQ5187_vs_AQ5175/vcf_processing/intersect/AQ5187_vs_AQ5175_chr3.maf.gz -o STDOUT -tab --assembly GRCh38 --no_stats --cache --symbol --protein --canonical --offline --af_1kg --dir /path/to/vep  --custom /path/to/gnomad/data/v3.0.0/hg38/gnomad.genomes.r3.0.sites.chr3.vcf.bgz,gnomADg,vcf,exact,0,AF,NFE > ../output/case1/AQ5187_vs_AQ5175/vep_processing/AQ5187_vs_AQ5175_chr3_vep.txt',\n",
       " 'vep -i ../output/case1/AQ5187_vs_AQ5175/vcf_processing/intersect/AQ5187_vs_AQ5175_chr4.maf.gz -o STDOUT -tab --assembly GRCh38 --no_stats --cache --symbol --protein --canonical --offline --af_1kg --dir /path/to/vep  --custom /path/to/gnomad/data/v3.0.0/hg38/gnomad.genomes.r3.0.sites.chr4.vcf.bgz,gnomADg,vcf,exact,0,AF,NFE > ../output/case1/AQ5187_vs_AQ5175/vep_processing/AQ5187_vs_AQ5175_chr4_vep.txt',\n",
       " 'vep -i ../output/case1/AQ5187_vs_AQ5175/vcf_processing/intersect/AQ5187_vs_AQ5175_chr5.maf.gz -o STDOUT -tab --assembly GRCh38 --no_stats --cache --symbol --protein --canonical --offline --af_1kg --dir /path/to/vep  --custom /path/to/gnomad/data/v3.0.0/hg38/gnomad.genomes.r3.0.sites.chr5.vcf.bgz,gnomADg,vcf,exact,0,AF,NFE > ../output/case1/AQ5187_vs_AQ5175/vep_processing/AQ5187_vs_AQ5175_chr5_vep.txt',\n",
       " 'vep -i ../output/case1/AQ5187_vs_AQ5175/vcf_processing/intersect/AQ5187_vs_AQ5175_chr6.maf.gz -o STDOUT -tab --assembly GRCh38 --no_stats --cache --symbol --protein --canonical --offline --af_1kg --dir /path/to/vep  --custom /path/to/gnomad/data/v3.0.0/hg38/gnomad.genomes.r3.0.sites.chr6.vcf.bgz,gnomADg,vcf,exact,0,AF,NFE > ../output/case1/AQ5187_vs_AQ5175/vep_processing/AQ5187_vs_AQ5175_chr6_vep.txt',\n",
       " 'vep -i ../output/case1/AQ5187_vs_AQ5175/vcf_processing/intersect/AQ5187_vs_AQ5175_chr7.maf.gz -o STDOUT -tab --assembly GRCh38 --no_stats --cache --symbol --protein --canonical --offline --af_1kg --dir /path/to/vep  --custom /path/to/gnomad/data/v3.0.0/hg38/gnomad.genomes.r3.0.sites.chr7.vcf.bgz,gnomADg,vcf,exact,0,AF,NFE > ../output/case1/AQ5187_vs_AQ5175/vep_processing/AQ5187_vs_AQ5175_chr7_vep.txt',\n",
       " 'vep -i ../output/case1/AQ5187_vs_AQ5175/vcf_processing/intersect/AQ5187_vs_AQ5175_chr8.maf.gz -o STDOUT -tab --assembly GRCh38 --no_stats --cache --symbol --protein --canonical --offline --af_1kg --dir /path/to/vep  --custom /path/to/gnomad/data/v3.0.0/hg38/gnomad.genomes.r3.0.sites.chr8.vcf.bgz,gnomADg,vcf,exact,0,AF,NFE > ../output/case1/AQ5187_vs_AQ5175/vep_processing/AQ5187_vs_AQ5175_chr8_vep.txt',\n",
       " 'vep -i ../output/case1/AQ5187_vs_AQ5175/vcf_processing/intersect/AQ5187_vs_AQ5175_chr9.maf.gz -o STDOUT -tab --assembly GRCh38 --no_stats --cache --symbol --protein --canonical --offline --af_1kg --dir /path/to/vep  --custom /path/to/gnomad/data/v3.0.0/hg38/gnomad.genomes.r3.0.sites.chr9.vcf.bgz,gnomADg,vcf,exact,0,AF,NFE > ../output/case1/AQ5187_vs_AQ5175/vep_processing/AQ5187_vs_AQ5175_chr9_vep.txt',\n",
       " 'vep -i ../output/case1/AQ5187_vs_AQ5175/vcf_processing/intersect/AQ5187_vs_AQ5175_chr10.maf.gz -o STDOUT -tab --assembly GRCh38 --no_stats --cache --symbol --protein --canonical --offline --af_1kg --dir /path/to/vep  --custom /path/to/gnomad/data/v3.0.0/hg38/gnomad.genomes.r3.0.sites.chr10.vcf.bgz,gnomADg,vcf,exact,0,AF,NFE > ../output/case1/AQ5187_vs_AQ5175/vep_processing/AQ5187_vs_AQ5175_chr10_vep.txt',\n",
       " 'vep -i ../output/case1/AQ5187_vs_AQ5175/vcf_processing/intersect/AQ5187_vs_AQ5175_chr11.maf.gz -o STDOUT -tab --assembly GRCh38 --no_stats --cache --symbol --protein --canonical --offline --af_1kg --dir /path/to/vep  --custom /path/to/gnomad/data/v3.0.0/hg38/gnomad.genomes.r3.0.sites.chr11.vcf.bgz,gnomADg,vcf,exact,0,AF,NFE > ../output/case1/AQ5187_vs_AQ5175/vep_processing/AQ5187_vs_AQ5175_chr11_vep.txt',\n",
       " 'vep -i ../output/case1/AQ5187_vs_AQ5175/vcf_processing/intersect/AQ5187_vs_AQ5175_chr12.maf.gz -o STDOUT -tab --assembly GRCh38 --no_stats --cache --symbol --protein --canonical --offline --af_1kg --dir /path/to/vep  --custom /path/to/gnomad/data/v3.0.0/hg38/gnomad.genomes.r3.0.sites.chr12.vcf.bgz,gnomADg,vcf,exact,0,AF,NFE > ../output/case1/AQ5187_vs_AQ5175/vep_processing/AQ5187_vs_AQ5175_chr12_vep.txt',\n",
       " 'vep -i ../output/case1/AQ5187_vs_AQ5175/vcf_processing/intersect/AQ5187_vs_AQ5175_chr13.maf.gz -o STDOUT -tab --assembly GRCh38 --no_stats --cache --symbol --protein --canonical --offline --af_1kg --dir /path/to/vep  --custom /path/to/gnomad/data/v3.0.0/hg38/gnomad.genomes.r3.0.sites.chr13.vcf.bgz,gnomADg,vcf,exact,0,AF,NFE > ../output/case1/AQ5187_vs_AQ5175/vep_processing/AQ5187_vs_AQ5175_chr13_vep.txt',\n",
       " 'vep -i ../output/case1/AQ5187_vs_AQ5175/vcf_processing/intersect/AQ5187_vs_AQ5175_chr14.maf.gz -o STDOUT -tab --assembly GRCh38 --no_stats --cache --symbol --protein --canonical --offline --af_1kg --dir /path/to/vep  --custom /path/to/gnomad/data/v3.0.0/hg38/gnomad.genomes.r3.0.sites.chr14.vcf.bgz,gnomADg,vcf,exact,0,AF,NFE > ../output/case1/AQ5187_vs_AQ5175/vep_processing/AQ5187_vs_AQ5175_chr14_vep.txt',\n",
       " 'vep -i ../output/case1/AQ5187_vs_AQ5175/vcf_processing/intersect/AQ5187_vs_AQ5175_chr15.maf.gz -o STDOUT -tab --assembly GRCh38 --no_stats --cache --symbol --protein --canonical --offline --af_1kg --dir /path/to/vep  --custom /path/to/gnomad/data/v3.0.0/hg38/gnomad.genomes.r3.0.sites.chr15.vcf.bgz,gnomADg,vcf,exact,0,AF,NFE > ../output/case1/AQ5187_vs_AQ5175/vep_processing/AQ5187_vs_AQ5175_chr15_vep.txt',\n",
       " 'vep -i ../output/case1/AQ5187_vs_AQ5175/vcf_processing/intersect/AQ5187_vs_AQ5175_chr16.maf.gz -o STDOUT -tab --assembly GRCh38 --no_stats --cache --symbol --protein --canonical --offline --af_1kg --dir /path/to/vep  --custom /path/to/gnomad/data/v3.0.0/hg38/gnomad.genomes.r3.0.sites.chr16.vcf.bgz,gnomADg,vcf,exact,0,AF,NFE > ../output/case1/AQ5187_vs_AQ5175/vep_processing/AQ5187_vs_AQ5175_chr16_vep.txt',\n",
       " 'vep -i ../output/case1/AQ5187_vs_AQ5175/vcf_processing/intersect/AQ5187_vs_AQ5175_chr17.maf.gz -o STDOUT -tab --assembly GRCh38 --no_stats --cache --symbol --protein --canonical --offline --af_1kg --dir /path/to/vep  --custom /path/to/gnomad/data/v3.0.0/hg38/gnomad.genomes.r3.0.sites.chr17.vcf.bgz,gnomADg,vcf,exact,0,AF,NFE > ../output/case1/AQ5187_vs_AQ5175/vep_processing/AQ5187_vs_AQ5175_chr17_vep.txt',\n",
       " 'vep -i ../output/case1/AQ5187_vs_AQ5175/vcf_processing/intersect/AQ5187_vs_AQ5175_chr18.maf.gz -o STDOUT -tab --assembly GRCh38 --no_stats --cache --symbol --protein --canonical --offline --af_1kg --dir /path/to/vep  --custom /path/to/gnomad/data/v3.0.0/hg38/gnomad.genomes.r3.0.sites.chr18.vcf.bgz,gnomADg,vcf,exact,0,AF,NFE > ../output/case1/AQ5187_vs_AQ5175/vep_processing/AQ5187_vs_AQ5175_chr18_vep.txt',\n",
       " 'vep -i ../output/case1/AQ5187_vs_AQ5175/vcf_processing/intersect/AQ5187_vs_AQ5175_chr19.maf.gz -o STDOUT -tab --assembly GRCh38 --no_stats --cache --symbol --protein --canonical --offline --af_1kg --dir /path/to/vep  --custom /path/to/gnomad/data/v3.0.0/hg38/gnomad.genomes.r3.0.sites.chr19.vcf.bgz,gnomADg,vcf,exact,0,AF,NFE > ../output/case1/AQ5187_vs_AQ5175/vep_processing/AQ5187_vs_AQ5175_chr19_vep.txt',\n",
       " 'vep -i ../output/case1/AQ5187_vs_AQ5175/vcf_processing/intersect/AQ5187_vs_AQ5175_chr20.maf.gz -o STDOUT -tab --assembly GRCh38 --no_stats --cache --symbol --protein --canonical --offline --af_1kg --dir /path/to/vep  --custom /path/to/gnomad/data/v3.0.0/hg38/gnomad.genomes.r3.0.sites.chr20.vcf.bgz,gnomADg,vcf,exact,0,AF,NFE > ../output/case1/AQ5187_vs_AQ5175/vep_processing/AQ5187_vs_AQ5175_chr20_vep.txt',\n",
       " 'vep -i ../output/case1/AQ5187_vs_AQ5175/vcf_processing/intersect/AQ5187_vs_AQ5175_chr21.maf.gz -o STDOUT -tab --assembly GRCh38 --no_stats --cache --symbol --protein --canonical --offline --af_1kg --dir /path/to/vep  --custom /path/to/gnomad/data/v3.0.0/hg38/gnomad.genomes.r3.0.sites.chr21.vcf.bgz,gnomADg,vcf,exact,0,AF,NFE > ../output/case1/AQ5187_vs_AQ5175/vep_processing/AQ5187_vs_AQ5175_chr21_vep.txt',\n",
       " 'vep -i ../output/case1/AQ5187_vs_AQ5175/vcf_processing/intersect/AQ5187_vs_AQ5175_chr22.maf.gz -o STDOUT -tab --assembly GRCh38 --no_stats --cache --symbol --protein --canonical --offline --af_1kg --dir /path/to/vep  --custom /path/to/gnomad/data/v3.0.0/hg38/gnomad.genomes.r3.0.sites.chr22.vcf.bgz,gnomADg,vcf,exact,0,AF,NFE > ../output/case1/AQ5187_vs_AQ5175/vep_processing/AQ5187_vs_AQ5175_chr22_vep.txt',\n",
       " 'vep -i ../output/case1/AQ5187_vs_AQ5175/vcf_processing/intersect/AQ5187_vs_AQ5175_chrX.maf.gz -o STDOUT -tab --assembly GRCh38 --no_stats --cache --symbol --protein --canonical --offline --af_1kg --dir /path/to/vep  --custom /path/to/gnomad/data/v3.0.0/hg38/gnomad.genomes.r3.0.sites.chrX.vcf.bgz,gnomADg,vcf,exact,0,AF,NFE > ../output/case1/AQ5187_vs_AQ5175/vep_processing/AQ5187_vs_AQ5175_chrX_vep.txt',\n",
       " 'vep -i ../output/case1/AQ5187_vs_AQ5175/vcf_processing/intersect/AQ5187_vs_AQ5175_chrY.maf.gz -o STDOUT -tab --assembly GRCh38 --no_stats --cache --symbol --protein --canonical --offline --af_1kg --dir /path/to/vep  --custom /path/to/gnomad/data/v3.0.0/hg38/gnomad.genomes.r3.0.sites.chrY.vcf.bgz,gnomADg,vcf,exact,0,AF,NFE > ../output/case1/AQ5187_vs_AQ5175/vep_processing/AQ5187_vs_AQ5175_chrY_vep.txt',\n",
       " 'vep -i ../output/case2/AQ5182_vs_AQ5176/vcf_processing/intersect/AQ5182_vs_AQ5176_chr1.maf.gz -o STDOUT -tab --assembly GRCh38 --no_stats --cache --symbol --protein --canonical --offline --af_1kg --dir /path/to/vep  --custom /path/to/gnomad/data/v3.0.0/hg38/gnomad.genomes.r3.0.sites.chr1.vcf.bgz,gnomADg,vcf,exact,0,AF,NFE > ../output/case2/AQ5182_vs_AQ5176/vep_processing/AQ5182_vs_AQ5176_chr1_vep.txt',\n",
       " 'vep -i ../output/case2/AQ5182_vs_AQ5176/vcf_processing/intersect/AQ5182_vs_AQ5176_chr2.maf.gz -o STDOUT -tab --assembly GRCh38 --no_stats --cache --symbol --protein --canonical --offline --af_1kg --dir /path/to/vep  --custom /path/to/gnomad/data/v3.0.0/hg38/gnomad.genomes.r3.0.sites.chr2.vcf.bgz,gnomADg,vcf,exact,0,AF,NFE > ../output/case2/AQ5182_vs_AQ5176/vep_processing/AQ5182_vs_AQ5176_chr2_vep.txt',\n",
       " 'vep -i ../output/case2/AQ5182_vs_AQ5176/vcf_processing/intersect/AQ5182_vs_AQ5176_chr3.maf.gz -o STDOUT -tab --assembly GRCh38 --no_stats --cache --symbol --protein --canonical --offline --af_1kg --dir /path/to/vep  --custom /path/to/gnomad/data/v3.0.0/hg38/gnomad.genomes.r3.0.sites.chr3.vcf.bgz,gnomADg,vcf,exact,0,AF,NFE > ../output/case2/AQ5182_vs_AQ5176/vep_processing/AQ5182_vs_AQ5176_chr3_vep.txt',\n",
       " 'vep -i ../output/case2/AQ5182_vs_AQ5176/vcf_processing/intersect/AQ5182_vs_AQ5176_chr4.maf.gz -o STDOUT -tab --assembly GRCh38 --no_stats --cache --symbol --protein --canonical --offline --af_1kg --dir /path/to/vep  --custom /path/to/gnomad/data/v3.0.0/hg38/gnomad.genomes.r3.0.sites.chr4.vcf.bgz,gnomADg,vcf,exact,0,AF,NFE > ../output/case2/AQ5182_vs_AQ5176/vep_processing/AQ5182_vs_AQ5176_chr4_vep.txt',\n",
       " 'vep -i ../output/case2/AQ5182_vs_AQ5176/vcf_processing/intersect/AQ5182_vs_AQ5176_chr5.maf.gz -o STDOUT -tab --assembly GRCh38 --no_stats --cache --symbol --protein --canonical --offline --af_1kg --dir /path/to/vep  --custom /path/to/gnomad/data/v3.0.0/hg38/gnomad.genomes.r3.0.sites.chr5.vcf.bgz,gnomADg,vcf,exact,0,AF,NFE > ../output/case2/AQ5182_vs_AQ5176/vep_processing/AQ5182_vs_AQ5176_chr5_vep.txt',\n",
       " 'vep -i ../output/case2/AQ5182_vs_AQ5176/vcf_processing/intersect/AQ5182_vs_AQ5176_chr6.maf.gz -o STDOUT -tab --assembly GRCh38 --no_stats --cache --symbol --protein --canonical --offline --af_1kg --dir /path/to/vep  --custom /path/to/gnomad/data/v3.0.0/hg38/gnomad.genomes.r3.0.sites.chr6.vcf.bgz,gnomADg,vcf,exact,0,AF,NFE > ../output/case2/AQ5182_vs_AQ5176/vep_processing/AQ5182_vs_AQ5176_chr6_vep.txt',\n",
       " 'vep -i ../output/case2/AQ5182_vs_AQ5176/vcf_processing/intersect/AQ5182_vs_AQ5176_chr7.maf.gz -o STDOUT -tab --assembly GRCh38 --no_stats --cache --symbol --protein --canonical --offline --af_1kg --dir /path/to/vep  --custom /path/to/gnomad/data/v3.0.0/hg38/gnomad.genomes.r3.0.sites.chr7.vcf.bgz,gnomADg,vcf,exact,0,AF,NFE > ../output/case2/AQ5182_vs_AQ5176/vep_processing/AQ5182_vs_AQ5176_chr7_vep.txt',\n",
       " 'vep -i ../output/case2/AQ5182_vs_AQ5176/vcf_processing/intersect/AQ5182_vs_AQ5176_chr8.maf.gz -o STDOUT -tab --assembly GRCh38 --no_stats --cache --symbol --protein --canonical --offline --af_1kg --dir /path/to/vep  --custom /path/to/gnomad/data/v3.0.0/hg38/gnomad.genomes.r3.0.sites.chr8.vcf.bgz,gnomADg,vcf,exact,0,AF,NFE > ../output/case2/AQ5182_vs_AQ5176/vep_processing/AQ5182_vs_AQ5176_chr8_vep.txt',\n",
       " 'vep -i ../output/case2/AQ5182_vs_AQ5176/vcf_processing/intersect/AQ5182_vs_AQ5176_chr9.maf.gz -o STDOUT -tab --assembly GRCh38 --no_stats --cache --symbol --protein --canonical --offline --af_1kg --dir /path/to/vep  --custom /path/to/gnomad/data/v3.0.0/hg38/gnomad.genomes.r3.0.sites.chr9.vcf.bgz,gnomADg,vcf,exact,0,AF,NFE > ../output/case2/AQ5182_vs_AQ5176/vep_processing/AQ5182_vs_AQ5176_chr9_vep.txt',\n",
       " 'vep -i ../output/case2/AQ5182_vs_AQ5176/vcf_processing/intersect/AQ5182_vs_AQ5176_chr10.maf.gz -o STDOUT -tab --assembly GRCh38 --no_stats --cache --symbol --protein --canonical --offline --af_1kg --dir /path/to/vep  --custom /path/to/gnomad/data/v3.0.0/hg38/gnomad.genomes.r3.0.sites.chr10.vcf.bgz,gnomADg,vcf,exact,0,AF,NFE > ../output/case2/AQ5182_vs_AQ5176/vep_processing/AQ5182_vs_AQ5176_chr10_vep.txt',\n",
       " 'vep -i ../output/case2/AQ5182_vs_AQ5176/vcf_processing/intersect/AQ5182_vs_AQ5176_chr11.maf.gz -o STDOUT -tab --assembly GRCh38 --no_stats --cache --symbol --protein --canonical --offline --af_1kg --dir /path/to/vep  --custom /path/to/gnomad/data/v3.0.0/hg38/gnomad.genomes.r3.0.sites.chr11.vcf.bgz,gnomADg,vcf,exact,0,AF,NFE > ../output/case2/AQ5182_vs_AQ5176/vep_processing/AQ5182_vs_AQ5176_chr11_vep.txt',\n",
       " 'vep -i ../output/case2/AQ5182_vs_AQ5176/vcf_processing/intersect/AQ5182_vs_AQ5176_chr12.maf.gz -o STDOUT -tab --assembly GRCh38 --no_stats --cache --symbol --protein --canonical --offline --af_1kg --dir /path/to/vep  --custom /path/to/gnomad/data/v3.0.0/hg38/gnomad.genomes.r3.0.sites.chr12.vcf.bgz,gnomADg,vcf,exact,0,AF,NFE > ../output/case2/AQ5182_vs_AQ5176/vep_processing/AQ5182_vs_AQ5176_chr12_vep.txt',\n",
       " 'vep -i ../output/case2/AQ5182_vs_AQ5176/vcf_processing/intersect/AQ5182_vs_AQ5176_chr13.maf.gz -o STDOUT -tab --assembly GRCh38 --no_stats --cache --symbol --protein --canonical --offline --af_1kg --dir /path/to/vep  --custom /path/to/gnomad/data/v3.0.0/hg38/gnomad.genomes.r3.0.sites.chr13.vcf.bgz,gnomADg,vcf,exact,0,AF,NFE > ../output/case2/AQ5182_vs_AQ5176/vep_processing/AQ5182_vs_AQ5176_chr13_vep.txt',\n",
       " 'vep -i ../output/case2/AQ5182_vs_AQ5176/vcf_processing/intersect/AQ5182_vs_AQ5176_chr14.maf.gz -o STDOUT -tab --assembly GRCh38 --no_stats --cache --symbol --protein --canonical --offline --af_1kg --dir /path/to/vep  --custom /path/to/gnomad/data/v3.0.0/hg38/gnomad.genomes.r3.0.sites.chr14.vcf.bgz,gnomADg,vcf,exact,0,AF,NFE > ../output/case2/AQ5182_vs_AQ5176/vep_processing/AQ5182_vs_AQ5176_chr14_vep.txt',\n",
       " 'vep -i ../output/case2/AQ5182_vs_AQ5176/vcf_processing/intersect/AQ5182_vs_AQ5176_chr15.maf.gz -o STDOUT -tab --assembly GRCh38 --no_stats --cache --symbol --protein --canonical --offline --af_1kg --dir /path/to/vep  --custom /path/to/gnomad/data/v3.0.0/hg38/gnomad.genomes.r3.0.sites.chr15.vcf.bgz,gnomADg,vcf,exact,0,AF,NFE > ../output/case2/AQ5182_vs_AQ5176/vep_processing/AQ5182_vs_AQ5176_chr15_vep.txt',\n",
       " 'vep -i ../output/case2/AQ5182_vs_AQ5176/vcf_processing/intersect/AQ5182_vs_AQ5176_chr16.maf.gz -o STDOUT -tab --assembly GRCh38 --no_stats --cache --symbol --protein --canonical --offline --af_1kg --dir /path/to/vep  --custom /path/to/gnomad/data/v3.0.0/hg38/gnomad.genomes.r3.0.sites.chr16.vcf.bgz,gnomADg,vcf,exact,0,AF,NFE > ../output/case2/AQ5182_vs_AQ5176/vep_processing/AQ5182_vs_AQ5176_chr16_vep.txt',\n",
       " 'vep -i ../output/case2/AQ5182_vs_AQ5176/vcf_processing/intersect/AQ5182_vs_AQ5176_chr17.maf.gz -o STDOUT -tab --assembly GRCh38 --no_stats --cache --symbol --protein --canonical --offline --af_1kg --dir /path/to/vep  --custom /path/to/gnomad/data/v3.0.0/hg38/gnomad.genomes.r3.0.sites.chr17.vcf.bgz,gnomADg,vcf,exact,0,AF,NFE > ../output/case2/AQ5182_vs_AQ5176/vep_processing/AQ5182_vs_AQ5176_chr17_vep.txt',\n",
       " 'vep -i ../output/case2/AQ5182_vs_AQ5176/vcf_processing/intersect/AQ5182_vs_AQ5176_chr18.maf.gz -o STDOUT -tab --assembly GRCh38 --no_stats --cache --symbol --protein --canonical --offline --af_1kg --dir /path/to/vep  --custom /path/to/gnomad/data/v3.0.0/hg38/gnomad.genomes.r3.0.sites.chr18.vcf.bgz,gnomADg,vcf,exact,0,AF,NFE > ../output/case2/AQ5182_vs_AQ5176/vep_processing/AQ5182_vs_AQ5176_chr18_vep.txt',\n",
       " 'vep -i ../output/case2/AQ5182_vs_AQ5176/vcf_processing/intersect/AQ5182_vs_AQ5176_chr19.maf.gz -o STDOUT -tab --assembly GRCh38 --no_stats --cache --symbol --protein --canonical --offline --af_1kg --dir /path/to/vep  --custom /path/to/gnomad/data/v3.0.0/hg38/gnomad.genomes.r3.0.sites.chr19.vcf.bgz,gnomADg,vcf,exact,0,AF,NFE > ../output/case2/AQ5182_vs_AQ5176/vep_processing/AQ5182_vs_AQ5176_chr19_vep.txt',\n",
       " 'vep -i ../output/case2/AQ5182_vs_AQ5176/vcf_processing/intersect/AQ5182_vs_AQ5176_chr20.maf.gz -o STDOUT -tab --assembly GRCh38 --no_stats --cache --symbol --protein --canonical --offline --af_1kg --dir /path/to/vep  --custom /path/to/gnomad/data/v3.0.0/hg38/gnomad.genomes.r3.0.sites.chr20.vcf.bgz,gnomADg,vcf,exact,0,AF,NFE > ../output/case2/AQ5182_vs_AQ5176/vep_processing/AQ5182_vs_AQ5176_chr20_vep.txt',\n",
       " 'vep -i ../output/case2/AQ5182_vs_AQ5176/vcf_processing/intersect/AQ5182_vs_AQ5176_chr21.maf.gz -o STDOUT -tab --assembly GRCh38 --no_stats --cache --symbol --protein --canonical --offline --af_1kg --dir /path/to/vep  --custom /path/to/gnomad/data/v3.0.0/hg38/gnomad.genomes.r3.0.sites.chr21.vcf.bgz,gnomADg,vcf,exact,0,AF,NFE > ../output/case2/AQ5182_vs_AQ5176/vep_processing/AQ5182_vs_AQ5176_chr21_vep.txt',\n",
       " 'vep -i ../output/case2/AQ5182_vs_AQ5176/vcf_processing/intersect/AQ5182_vs_AQ5176_chr22.maf.gz -o STDOUT -tab --assembly GRCh38 --no_stats --cache --symbol --protein --canonical --offline --af_1kg --dir /path/to/vep  --custom /path/to/gnomad/data/v3.0.0/hg38/gnomad.genomes.r3.0.sites.chr22.vcf.bgz,gnomADg,vcf,exact,0,AF,NFE > ../output/case2/AQ5182_vs_AQ5176/vep_processing/AQ5182_vs_AQ5176_chr22_vep.txt',\n",
       " 'vep -i ../output/case2/AQ5182_vs_AQ5176/vcf_processing/intersect/AQ5182_vs_AQ5176_chrX.maf.gz -o STDOUT -tab --assembly GRCh38 --no_stats --cache --symbol --protein --canonical --offline --af_1kg --dir /path/to/vep  --custom /path/to/gnomad/data/v3.0.0/hg38/gnomad.genomes.r3.0.sites.chrX.vcf.bgz,gnomADg,vcf,exact,0,AF,NFE > ../output/case2/AQ5182_vs_AQ5176/vep_processing/AQ5182_vs_AQ5176_chrX_vep.txt',\n",
       " 'vep -i ../output/case2/AQ5182_vs_AQ5176/vcf_processing/intersect/AQ5182_vs_AQ5176_chrY.maf.gz -o STDOUT -tab --assembly GRCh38 --no_stats --cache --symbol --protein --canonical --offline --af_1kg --dir /path/to/vep  --custom /path/to/gnomad/data/v3.0.0/hg38/gnomad.genomes.r3.0.sites.chrY.vcf.bgz,gnomADg,vcf,exact,0,AF,NFE > ../output/case2/AQ5182_vs_AQ5176/vep_processing/AQ5182_vs_AQ5176_chrY_vep.txt',\n",
       " 'vep -i ../output/case2/AQ5188_vs_AQ5176/vcf_processing/intersect/AQ5188_vs_AQ5176_chr1.maf.gz -o STDOUT -tab --assembly GRCh38 --no_stats --cache --symbol --protein --canonical --offline --af_1kg --dir /path/to/vep  --custom /path/to/gnomad/data/v3.0.0/hg38/gnomad.genomes.r3.0.sites.chr1.vcf.bgz,gnomADg,vcf,exact,0,AF,NFE > ../output/case2/AQ5188_vs_AQ5176/vep_processing/AQ5188_vs_AQ5176_chr1_vep.txt',\n",
       " 'vep -i ../output/case2/AQ5188_vs_AQ5176/vcf_processing/intersect/AQ5188_vs_AQ5176_chr2.maf.gz -o STDOUT -tab --assembly GRCh38 --no_stats --cache --symbol --protein --canonical --offline --af_1kg --dir /path/to/vep  --custom /path/to/gnomad/data/v3.0.0/hg38/gnomad.genomes.r3.0.sites.chr2.vcf.bgz,gnomADg,vcf,exact,0,AF,NFE > ../output/case2/AQ5188_vs_AQ5176/vep_processing/AQ5188_vs_AQ5176_chr2_vep.txt',\n",
       " 'vep -i ../output/case2/AQ5188_vs_AQ5176/vcf_processing/intersect/AQ5188_vs_AQ5176_chr3.maf.gz -o STDOUT -tab --assembly GRCh38 --no_stats --cache --symbol --protein --canonical --offline --af_1kg --dir /path/to/vep  --custom /path/to/gnomad/data/v3.0.0/hg38/gnomad.genomes.r3.0.sites.chr3.vcf.bgz,gnomADg,vcf,exact,0,AF,NFE > ../output/case2/AQ5188_vs_AQ5176/vep_processing/AQ5188_vs_AQ5176_chr3_vep.txt',\n",
       " 'vep -i ../output/case2/AQ5188_vs_AQ5176/vcf_processing/intersect/AQ5188_vs_AQ5176_chr4.maf.gz -o STDOUT -tab --assembly GRCh38 --no_stats --cache --symbol --protein --canonical --offline --af_1kg --dir /path/to/vep  --custom /path/to/gnomad/data/v3.0.0/hg38/gnomad.genomes.r3.0.sites.chr4.vcf.bgz,gnomADg,vcf,exact,0,AF,NFE > ../output/case2/AQ5188_vs_AQ5176/vep_processing/AQ5188_vs_AQ5176_chr4_vep.txt',\n",
       " 'vep -i ../output/case2/AQ5188_vs_AQ5176/vcf_processing/intersect/AQ5188_vs_AQ5176_chr5.maf.gz -o STDOUT -tab --assembly GRCh38 --no_stats --cache --symbol --protein --canonical --offline --af_1kg --dir /path/to/vep  --custom /path/to/gnomad/data/v3.0.0/hg38/gnomad.genomes.r3.0.sites.chr5.vcf.bgz,gnomADg,vcf,exact,0,AF,NFE > ../output/case2/AQ5188_vs_AQ5176/vep_processing/AQ5188_vs_AQ5176_chr5_vep.txt',\n",
       " 'vep -i ../output/case2/AQ5188_vs_AQ5176/vcf_processing/intersect/AQ5188_vs_AQ5176_chr6.maf.gz -o STDOUT -tab --assembly GRCh38 --no_stats --cache --symbol --protein --canonical --offline --af_1kg --dir /path/to/vep  --custom /path/to/gnomad/data/v3.0.0/hg38/gnomad.genomes.r3.0.sites.chr6.vcf.bgz,gnomADg,vcf,exact,0,AF,NFE > ../output/case2/AQ5188_vs_AQ5176/vep_processing/AQ5188_vs_AQ5176_chr6_vep.txt',\n",
       " 'vep -i ../output/case2/AQ5188_vs_AQ5176/vcf_processing/intersect/AQ5188_vs_AQ5176_chr7.maf.gz -o STDOUT -tab --assembly GRCh38 --no_stats --cache --symbol --protein --canonical --offline --af_1kg --dir /path/to/vep  --custom /path/to/gnomad/data/v3.0.0/hg38/gnomad.genomes.r3.0.sites.chr7.vcf.bgz,gnomADg,vcf,exact,0,AF,NFE > ../output/case2/AQ5188_vs_AQ5176/vep_processing/AQ5188_vs_AQ5176_chr7_vep.txt',\n",
       " 'vep -i ../output/case2/AQ5188_vs_AQ5176/vcf_processing/intersect/AQ5188_vs_AQ5176_chr8.maf.gz -o STDOUT -tab --assembly GRCh38 --no_stats --cache --symbol --protein --canonical --offline --af_1kg --dir /path/to/vep  --custom /path/to/gnomad/data/v3.0.0/hg38/gnomad.genomes.r3.0.sites.chr8.vcf.bgz,gnomADg,vcf,exact,0,AF,NFE > ../output/case2/AQ5188_vs_AQ5176/vep_processing/AQ5188_vs_AQ5176_chr8_vep.txt',\n",
       " 'vep -i ../output/case2/AQ5188_vs_AQ5176/vcf_processing/intersect/AQ5188_vs_AQ5176_chr9.maf.gz -o STDOUT -tab --assembly GRCh38 --no_stats --cache --symbol --protein --canonical --offline --af_1kg --dir /path/to/vep  --custom /path/to/gnomad/data/v3.0.0/hg38/gnomad.genomes.r3.0.sites.chr9.vcf.bgz,gnomADg,vcf,exact,0,AF,NFE > ../output/case2/AQ5188_vs_AQ5176/vep_processing/AQ5188_vs_AQ5176_chr9_vep.txt',\n",
       " 'vep -i ../output/case2/AQ5188_vs_AQ5176/vcf_processing/intersect/AQ5188_vs_AQ5176_chr10.maf.gz -o STDOUT -tab --assembly GRCh38 --no_stats --cache --symbol --protein --canonical --offline --af_1kg --dir /path/to/vep  --custom /path/to/gnomad/data/v3.0.0/hg38/gnomad.genomes.r3.0.sites.chr10.vcf.bgz,gnomADg,vcf,exact,0,AF,NFE > ../output/case2/AQ5188_vs_AQ5176/vep_processing/AQ5188_vs_AQ5176_chr10_vep.txt',\n",
       " 'vep -i ../output/case2/AQ5188_vs_AQ5176/vcf_processing/intersect/AQ5188_vs_AQ5176_chr11.maf.gz -o STDOUT -tab --assembly GRCh38 --no_stats --cache --symbol --protein --canonical --offline --af_1kg --dir /path/to/vep  --custom /path/to/gnomad/data/v3.0.0/hg38/gnomad.genomes.r3.0.sites.chr11.vcf.bgz,gnomADg,vcf,exact,0,AF,NFE > ../output/case2/AQ5188_vs_AQ5176/vep_processing/AQ5188_vs_AQ5176_chr11_vep.txt',\n",
       " 'vep -i ../output/case2/AQ5188_vs_AQ5176/vcf_processing/intersect/AQ5188_vs_AQ5176_chr12.maf.gz -o STDOUT -tab --assembly GRCh38 --no_stats --cache --symbol --protein --canonical --offline --af_1kg --dir /path/to/vep  --custom /path/to/gnomad/data/v3.0.0/hg38/gnomad.genomes.r3.0.sites.chr12.vcf.bgz,gnomADg,vcf,exact,0,AF,NFE > ../output/case2/AQ5188_vs_AQ5176/vep_processing/AQ5188_vs_AQ5176_chr12_vep.txt',\n",
       " 'vep -i ../output/case2/AQ5188_vs_AQ5176/vcf_processing/intersect/AQ5188_vs_AQ5176_chr13.maf.gz -o STDOUT -tab --assembly GRCh38 --no_stats --cache --symbol --protein --canonical --offline --af_1kg --dir /path/to/vep  --custom /path/to/gnomad/data/v3.0.0/hg38/gnomad.genomes.r3.0.sites.chr13.vcf.bgz,gnomADg,vcf,exact,0,AF,NFE > ../output/case2/AQ5188_vs_AQ5176/vep_processing/AQ5188_vs_AQ5176_chr13_vep.txt',\n",
       " 'vep -i ../output/case2/AQ5188_vs_AQ5176/vcf_processing/intersect/AQ5188_vs_AQ5176_chr14.maf.gz -o STDOUT -tab --assembly GRCh38 --no_stats --cache --symbol --protein --canonical --offline --af_1kg --dir /path/to/vep  --custom /path/to/gnomad/data/v3.0.0/hg38/gnomad.genomes.r3.0.sites.chr14.vcf.bgz,gnomADg,vcf,exact,0,AF,NFE > ../output/case2/AQ5188_vs_AQ5176/vep_processing/AQ5188_vs_AQ5176_chr14_vep.txt',\n",
       " 'vep -i ../output/case2/AQ5188_vs_AQ5176/vcf_processing/intersect/AQ5188_vs_AQ5176_chr15.maf.gz -o STDOUT -tab --assembly GRCh38 --no_stats --cache --symbol --protein --canonical --offline --af_1kg --dir /path/to/vep  --custom /path/to/gnomad/data/v3.0.0/hg38/gnomad.genomes.r3.0.sites.chr15.vcf.bgz,gnomADg,vcf,exact,0,AF,NFE > ../output/case2/AQ5188_vs_AQ5176/vep_processing/AQ5188_vs_AQ5176_chr15_vep.txt',\n",
       " 'vep -i ../output/case2/AQ5188_vs_AQ5176/vcf_processing/intersect/AQ5188_vs_AQ5176_chr16.maf.gz -o STDOUT -tab --assembly GRCh38 --no_stats --cache --symbol --protein --canonical --offline --af_1kg --dir /path/to/vep  --custom /path/to/gnomad/data/v3.0.0/hg38/gnomad.genomes.r3.0.sites.chr16.vcf.bgz,gnomADg,vcf,exact,0,AF,NFE > ../output/case2/AQ5188_vs_AQ5176/vep_processing/AQ5188_vs_AQ5176_chr16_vep.txt',\n",
       " 'vep -i ../output/case2/AQ5188_vs_AQ5176/vcf_processing/intersect/AQ5188_vs_AQ5176_chr17.maf.gz -o STDOUT -tab --assembly GRCh38 --no_stats --cache --symbol --protein --canonical --offline --af_1kg --dir /path/to/vep  --custom /path/to/gnomad/data/v3.0.0/hg38/gnomad.genomes.r3.0.sites.chr17.vcf.bgz,gnomADg,vcf,exact,0,AF,NFE > ../output/case2/AQ5188_vs_AQ5176/vep_processing/AQ5188_vs_AQ5176_chr17_vep.txt',\n",
       " 'vep -i ../output/case2/AQ5188_vs_AQ5176/vcf_processing/intersect/AQ5188_vs_AQ5176_chr18.maf.gz -o STDOUT -tab --assembly GRCh38 --no_stats --cache --symbol --protein --canonical --offline --af_1kg --dir /path/to/vep  --custom /path/to/gnomad/data/v3.0.0/hg38/gnomad.genomes.r3.0.sites.chr18.vcf.bgz,gnomADg,vcf,exact,0,AF,NFE > ../output/case2/AQ5188_vs_AQ5176/vep_processing/AQ5188_vs_AQ5176_chr18_vep.txt',\n",
       " 'vep -i ../output/case2/AQ5188_vs_AQ5176/vcf_processing/intersect/AQ5188_vs_AQ5176_chr19.maf.gz -o STDOUT -tab --assembly GRCh38 --no_stats --cache --symbol --protein --canonical --offline --af_1kg --dir /path/to/vep  --custom /path/to/gnomad/data/v3.0.0/hg38/gnomad.genomes.r3.0.sites.chr19.vcf.bgz,gnomADg,vcf,exact,0,AF,NFE > ../output/case2/AQ5188_vs_AQ5176/vep_processing/AQ5188_vs_AQ5176_chr19_vep.txt',\n",
       " 'vep -i ../output/case2/AQ5188_vs_AQ5176/vcf_processing/intersect/AQ5188_vs_AQ5176_chr20.maf.gz -o STDOUT -tab --assembly GRCh38 --no_stats --cache --symbol --protein --canonical --offline --af_1kg --dir /path/to/vep  --custom /path/to/gnomad/data/v3.0.0/hg38/gnomad.genomes.r3.0.sites.chr20.vcf.bgz,gnomADg,vcf,exact,0,AF,NFE > ../output/case2/AQ5188_vs_AQ5176/vep_processing/AQ5188_vs_AQ5176_chr20_vep.txt',\n",
       " 'vep -i ../output/case2/AQ5188_vs_AQ5176/vcf_processing/intersect/AQ5188_vs_AQ5176_chr21.maf.gz -o STDOUT -tab --assembly GRCh38 --no_stats --cache --symbol --protein --canonical --offline --af_1kg --dir /path/to/vep  --custom /path/to/gnomad/data/v3.0.0/hg38/gnomad.genomes.r3.0.sites.chr21.vcf.bgz,gnomADg,vcf,exact,0,AF,NFE > ../output/case2/AQ5188_vs_AQ5176/vep_processing/AQ5188_vs_AQ5176_chr21_vep.txt',\n",
       " 'vep -i ../output/case2/AQ5188_vs_AQ5176/vcf_processing/intersect/AQ5188_vs_AQ5176_chr22.maf.gz -o STDOUT -tab --assembly GRCh38 --no_stats --cache --symbol --protein --canonical --offline --af_1kg --dir /path/to/vep  --custom /path/to/gnomad/data/v3.0.0/hg38/gnomad.genomes.r3.0.sites.chr22.vcf.bgz,gnomADg,vcf,exact,0,AF,NFE > ../output/case2/AQ5188_vs_AQ5176/vep_processing/AQ5188_vs_AQ5176_chr22_vep.txt',\n",
       " 'vep -i ../output/case2/AQ5188_vs_AQ5176/vcf_processing/intersect/AQ5188_vs_AQ5176_chrX.maf.gz -o STDOUT -tab --assembly GRCh38 --no_stats --cache --symbol --protein --canonical --offline --af_1kg --dir /path/to/vep  --custom /path/to/gnomad/data/v3.0.0/hg38/gnomad.genomes.r3.0.sites.chrX.vcf.bgz,gnomADg,vcf,exact,0,AF,NFE > ../output/case2/AQ5188_vs_AQ5176/vep_processing/AQ5188_vs_AQ5176_chrX_vep.txt',\n",
       " 'vep -i ../output/case2/AQ5188_vs_AQ5176/vcf_processing/intersect/AQ5188_vs_AQ5176_chrY.maf.gz -o STDOUT -tab --assembly GRCh38 --no_stats --cache --symbol --protein --canonical --offline --af_1kg --dir /path/to/vep  --custom /path/to/gnomad/data/v3.0.0/hg38/gnomad.genomes.r3.0.sites.chrY.vcf.bgz,gnomADg,vcf,exact,0,AF,NFE > ../output/case2/AQ5188_vs_AQ5176/vep_processing/AQ5188_vs_AQ5176_chrY_vep.txt',\n",
       " 'vep -i ../output/case3/AQ5180_vs_AQ5174/vcf_processing/intersect/AQ5180_vs_AQ5174_chr1.maf.gz -o STDOUT -tab --assembly GRCh38 --no_stats --cache --symbol --protein --canonical --offline --af_1kg --dir /path/to/vep  --custom /path/to/gnomad/data/v3.0.0/hg38/gnomad.genomes.r3.0.sites.chr1.vcf.bgz,gnomADg,vcf,exact,0,AF,NFE > ../output/case3/AQ5180_vs_AQ5174/vep_processing/AQ5180_vs_AQ5174_chr1_vep.txt',\n",
       " 'vep -i ../output/case3/AQ5180_vs_AQ5174/vcf_processing/intersect/AQ5180_vs_AQ5174_chr2.maf.gz -o STDOUT -tab --assembly GRCh38 --no_stats --cache --symbol --protein --canonical --offline --af_1kg --dir /path/to/vep  --custom /path/to/gnomad/data/v3.0.0/hg38/gnomad.genomes.r3.0.sites.chr2.vcf.bgz,gnomADg,vcf,exact,0,AF,NFE > ../output/case3/AQ5180_vs_AQ5174/vep_processing/AQ5180_vs_AQ5174_chr2_vep.txt',\n",
       " 'vep -i ../output/case3/AQ5180_vs_AQ5174/vcf_processing/intersect/AQ5180_vs_AQ5174_chr3.maf.gz -o STDOUT -tab --assembly GRCh38 --no_stats --cache --symbol --protein --canonical --offline --af_1kg --dir /path/to/vep  --custom /path/to/gnomad/data/v3.0.0/hg38/gnomad.genomes.r3.0.sites.chr3.vcf.bgz,gnomADg,vcf,exact,0,AF,NFE > ../output/case3/AQ5180_vs_AQ5174/vep_processing/AQ5180_vs_AQ5174_chr3_vep.txt',\n",
       " 'vep -i ../output/case3/AQ5180_vs_AQ5174/vcf_processing/intersect/AQ5180_vs_AQ5174_chr4.maf.gz -o STDOUT -tab --assembly GRCh38 --no_stats --cache --symbol --protein --canonical --offline --af_1kg --dir /path/to/vep  --custom /path/to/gnomad/data/v3.0.0/hg38/gnomad.genomes.r3.0.sites.chr4.vcf.bgz,gnomADg,vcf,exact,0,AF,NFE > ../output/case3/AQ5180_vs_AQ5174/vep_processing/AQ5180_vs_AQ5174_chr4_vep.txt',\n",
       " 'vep -i ../output/case3/AQ5180_vs_AQ5174/vcf_processing/intersect/AQ5180_vs_AQ5174_chr5.maf.gz -o STDOUT -tab --assembly GRCh38 --no_stats --cache --symbol --protein --canonical --offline --af_1kg --dir /path/to/vep  --custom /path/to/gnomad/data/v3.0.0/hg38/gnomad.genomes.r3.0.sites.chr5.vcf.bgz,gnomADg,vcf,exact,0,AF,NFE > ../output/case3/AQ5180_vs_AQ5174/vep_processing/AQ5180_vs_AQ5174_chr5_vep.txt',\n",
       " 'vep -i ../output/case3/AQ5180_vs_AQ5174/vcf_processing/intersect/AQ5180_vs_AQ5174_chr6.maf.gz -o STDOUT -tab --assembly GRCh38 --no_stats --cache --symbol --protein --canonical --offline --af_1kg --dir /path/to/vep  --custom /path/to/gnomad/data/v3.0.0/hg38/gnomad.genomes.r3.0.sites.chr6.vcf.bgz,gnomADg,vcf,exact,0,AF,NFE > ../output/case3/AQ5180_vs_AQ5174/vep_processing/AQ5180_vs_AQ5174_chr6_vep.txt',\n",
       " 'vep -i ../output/case3/AQ5180_vs_AQ5174/vcf_processing/intersect/AQ5180_vs_AQ5174_chr7.maf.gz -o STDOUT -tab --assembly GRCh38 --no_stats --cache --symbol --protein --canonical --offline --af_1kg --dir /path/to/vep  --custom /path/to/gnomad/data/v3.0.0/hg38/gnomad.genomes.r3.0.sites.chr7.vcf.bgz,gnomADg,vcf,exact,0,AF,NFE > ../output/case3/AQ5180_vs_AQ5174/vep_processing/AQ5180_vs_AQ5174_chr7_vep.txt',\n",
       " 'vep -i ../output/case3/AQ5180_vs_AQ5174/vcf_processing/intersect/AQ5180_vs_AQ5174_chr8.maf.gz -o STDOUT -tab --assembly GRCh38 --no_stats --cache --symbol --protein --canonical --offline --af_1kg --dir /path/to/vep  --custom /path/to/gnomad/data/v3.0.0/hg38/gnomad.genomes.r3.0.sites.chr8.vcf.bgz,gnomADg,vcf,exact,0,AF,NFE > ../output/case3/AQ5180_vs_AQ5174/vep_processing/AQ5180_vs_AQ5174_chr8_vep.txt',\n",
       " 'vep -i ../output/case3/AQ5180_vs_AQ5174/vcf_processing/intersect/AQ5180_vs_AQ5174_chr9.maf.gz -o STDOUT -tab --assembly GRCh38 --no_stats --cache --symbol --protein --canonical --offline --af_1kg --dir /path/to/vep  --custom /path/to/gnomad/data/v3.0.0/hg38/gnomad.genomes.r3.0.sites.chr9.vcf.bgz,gnomADg,vcf,exact,0,AF,NFE > ../output/case3/AQ5180_vs_AQ5174/vep_processing/AQ5180_vs_AQ5174_chr9_vep.txt',\n",
       " 'vep -i ../output/case3/AQ5180_vs_AQ5174/vcf_processing/intersect/AQ5180_vs_AQ5174_chr10.maf.gz -o STDOUT -tab --assembly GRCh38 --no_stats --cache --symbol --protein --canonical --offline --af_1kg --dir /path/to/vep  --custom /path/to/gnomad/data/v3.0.0/hg38/gnomad.genomes.r3.0.sites.chr10.vcf.bgz,gnomADg,vcf,exact,0,AF,NFE > ../output/case3/AQ5180_vs_AQ5174/vep_processing/AQ5180_vs_AQ5174_chr10_vep.txt',\n",
       " 'vep -i ../output/case3/AQ5180_vs_AQ5174/vcf_processing/intersect/AQ5180_vs_AQ5174_chr11.maf.gz -o STDOUT -tab --assembly GRCh38 --no_stats --cache --symbol --protein --canonical --offline --af_1kg --dir /path/to/vep  --custom /path/to/gnomad/data/v3.0.0/hg38/gnomad.genomes.r3.0.sites.chr11.vcf.bgz,gnomADg,vcf,exact,0,AF,NFE > ../output/case3/AQ5180_vs_AQ5174/vep_processing/AQ5180_vs_AQ5174_chr11_vep.txt',\n",
       " 'vep -i ../output/case3/AQ5180_vs_AQ5174/vcf_processing/intersect/AQ5180_vs_AQ5174_chr12.maf.gz -o STDOUT -tab --assembly GRCh38 --no_stats --cache --symbol --protein --canonical --offline --af_1kg --dir /path/to/vep  --custom /path/to/gnomad/data/v3.0.0/hg38/gnomad.genomes.r3.0.sites.chr12.vcf.bgz,gnomADg,vcf,exact,0,AF,NFE > ../output/case3/AQ5180_vs_AQ5174/vep_processing/AQ5180_vs_AQ5174_chr12_vep.txt',\n",
       " 'vep -i ../output/case3/AQ5180_vs_AQ5174/vcf_processing/intersect/AQ5180_vs_AQ5174_chr13.maf.gz -o STDOUT -tab --assembly GRCh38 --no_stats --cache --symbol --protein --canonical --offline --af_1kg --dir /path/to/vep  --custom /path/to/gnomad/data/v3.0.0/hg38/gnomad.genomes.r3.0.sites.chr13.vcf.bgz,gnomADg,vcf,exact,0,AF,NFE > ../output/case3/AQ5180_vs_AQ5174/vep_processing/AQ5180_vs_AQ5174_chr13_vep.txt',\n",
       " 'vep -i ../output/case3/AQ5180_vs_AQ5174/vcf_processing/intersect/AQ5180_vs_AQ5174_chr14.maf.gz -o STDOUT -tab --assembly GRCh38 --no_stats --cache --symbol --protein --canonical --offline --af_1kg --dir /path/to/vep  --custom /path/to/gnomad/data/v3.0.0/hg38/gnomad.genomes.r3.0.sites.chr14.vcf.bgz,gnomADg,vcf,exact,0,AF,NFE > ../output/case3/AQ5180_vs_AQ5174/vep_processing/AQ5180_vs_AQ5174_chr14_vep.txt',\n",
       " 'vep -i ../output/case3/AQ5180_vs_AQ5174/vcf_processing/intersect/AQ5180_vs_AQ5174_chr15.maf.gz -o STDOUT -tab --assembly GRCh38 --no_stats --cache --symbol --protein --canonical --offline --af_1kg --dir /path/to/vep  --custom /path/to/gnomad/data/v3.0.0/hg38/gnomad.genomes.r3.0.sites.chr15.vcf.bgz,gnomADg,vcf,exact,0,AF,NFE > ../output/case3/AQ5180_vs_AQ5174/vep_processing/AQ5180_vs_AQ5174_chr15_vep.txt',\n",
       " 'vep -i ../output/case3/AQ5180_vs_AQ5174/vcf_processing/intersect/AQ5180_vs_AQ5174_chr16.maf.gz -o STDOUT -tab --assembly GRCh38 --no_stats --cache --symbol --protein --canonical --offline --af_1kg --dir /path/to/vep  --custom /path/to/gnomad/data/v3.0.0/hg38/gnomad.genomes.r3.0.sites.chr16.vcf.bgz,gnomADg,vcf,exact,0,AF,NFE > ../output/case3/AQ5180_vs_AQ5174/vep_processing/AQ5180_vs_AQ5174_chr16_vep.txt',\n",
       " 'vep -i ../output/case3/AQ5180_vs_AQ5174/vcf_processing/intersect/AQ5180_vs_AQ5174_chr17.maf.gz -o STDOUT -tab --assembly GRCh38 --no_stats --cache --symbol --protein --canonical --offline --af_1kg --dir /path/to/vep  --custom /path/to/gnomad/data/v3.0.0/hg38/gnomad.genomes.r3.0.sites.chr17.vcf.bgz,gnomADg,vcf,exact,0,AF,NFE > ../output/case3/AQ5180_vs_AQ5174/vep_processing/AQ5180_vs_AQ5174_chr17_vep.txt',\n",
       " 'vep -i ../output/case3/AQ5180_vs_AQ5174/vcf_processing/intersect/AQ5180_vs_AQ5174_chr18.maf.gz -o STDOUT -tab --assembly GRCh38 --no_stats --cache --symbol --protein --canonical --offline --af_1kg --dir /path/to/vep  --custom /path/to/gnomad/data/v3.0.0/hg38/gnomad.genomes.r3.0.sites.chr18.vcf.bgz,gnomADg,vcf,exact,0,AF,NFE > ../output/case3/AQ5180_vs_AQ5174/vep_processing/AQ5180_vs_AQ5174_chr18_vep.txt',\n",
       " 'vep -i ../output/case3/AQ5180_vs_AQ5174/vcf_processing/intersect/AQ5180_vs_AQ5174_chr19.maf.gz -o STDOUT -tab --assembly GRCh38 --no_stats --cache --symbol --protein --canonical --offline --af_1kg --dir /path/to/vep  --custom /path/to/gnomad/data/v3.0.0/hg38/gnomad.genomes.r3.0.sites.chr19.vcf.bgz,gnomADg,vcf,exact,0,AF,NFE > ../output/case3/AQ5180_vs_AQ5174/vep_processing/AQ5180_vs_AQ5174_chr19_vep.txt',\n",
       " 'vep -i ../output/case3/AQ5180_vs_AQ5174/vcf_processing/intersect/AQ5180_vs_AQ5174_chr20.maf.gz -o STDOUT -tab --assembly GRCh38 --no_stats --cache --symbol --protein --canonical --offline --af_1kg --dir /path/to/vep  --custom /path/to/gnomad/data/v3.0.0/hg38/gnomad.genomes.r3.0.sites.chr20.vcf.bgz,gnomADg,vcf,exact,0,AF,NFE > ../output/case3/AQ5180_vs_AQ5174/vep_processing/AQ5180_vs_AQ5174_chr20_vep.txt',\n",
       " 'vep -i ../output/case3/AQ5180_vs_AQ5174/vcf_processing/intersect/AQ5180_vs_AQ5174_chr21.maf.gz -o STDOUT -tab --assembly GRCh38 --no_stats --cache --symbol --protein --canonical --offline --af_1kg --dir /path/to/vep  --custom /path/to/gnomad/data/v3.0.0/hg38/gnomad.genomes.r3.0.sites.chr21.vcf.bgz,gnomADg,vcf,exact,0,AF,NFE > ../output/case3/AQ5180_vs_AQ5174/vep_processing/AQ5180_vs_AQ5174_chr21_vep.txt',\n",
       " 'vep -i ../output/case3/AQ5180_vs_AQ5174/vcf_processing/intersect/AQ5180_vs_AQ5174_chr22.maf.gz -o STDOUT -tab --assembly GRCh38 --no_stats --cache --symbol --protein --canonical --offline --af_1kg --dir /path/to/vep  --custom /path/to/gnomad/data/v3.0.0/hg38/gnomad.genomes.r3.0.sites.chr22.vcf.bgz,gnomADg,vcf,exact,0,AF,NFE > ../output/case3/AQ5180_vs_AQ5174/vep_processing/AQ5180_vs_AQ5174_chr22_vep.txt',\n",
       " 'vep -i ../output/case3/AQ5180_vs_AQ5174/vcf_processing/intersect/AQ5180_vs_AQ5174_chrX.maf.gz -o STDOUT -tab --assembly GRCh38 --no_stats --cache --symbol --protein --canonical --offline --af_1kg --dir /path/to/vep  --custom /path/to/gnomad/data/v3.0.0/hg38/gnomad.genomes.r3.0.sites.chrX.vcf.bgz,gnomADg,vcf,exact,0,AF,NFE > ../output/case3/AQ5180_vs_AQ5174/vep_processing/AQ5180_vs_AQ5174_chrX_vep.txt',\n",
       " 'vep -i ../output/case3/AQ5180_vs_AQ5174/vcf_processing/intersect/AQ5180_vs_AQ5174_chrY.maf.gz -o STDOUT -tab --assembly GRCh38 --no_stats --cache --symbol --protein --canonical --offline --af_1kg --dir /path/to/vep  --custom /path/to/gnomad/data/v3.0.0/hg38/gnomad.genomes.r3.0.sites.chrY.vcf.bgz,gnomADg,vcf,exact,0,AF,NFE > ../output/case3/AQ5180_vs_AQ5174/vep_processing/AQ5180_vs_AQ5174_chrY_vep.txt',\n",
       " 'vep -i ../output/case3/AQ5186_vs_AQ5174/vcf_processing/intersect/AQ5186_vs_AQ5174_chr1.maf.gz -o STDOUT -tab --assembly GRCh38 --no_stats --cache --symbol --protein --canonical --offline --af_1kg --dir /path/to/vep  --custom /path/to/gnomad/data/v3.0.0/hg38/gnomad.genomes.r3.0.sites.chr1.vcf.bgz,gnomADg,vcf,exact,0,AF,NFE > ../output/case3/AQ5186_vs_AQ5174/vep_processing/AQ5186_vs_AQ5174_chr1_vep.txt',\n",
       " 'vep -i ../output/case3/AQ5186_vs_AQ5174/vcf_processing/intersect/AQ5186_vs_AQ5174_chr2.maf.gz -o STDOUT -tab --assembly GRCh38 --no_stats --cache --symbol --protein --canonical --offline --af_1kg --dir /path/to/vep  --custom /path/to/gnomad/data/v3.0.0/hg38/gnomad.genomes.r3.0.sites.chr2.vcf.bgz,gnomADg,vcf,exact,0,AF,NFE > ../output/case3/AQ5186_vs_AQ5174/vep_processing/AQ5186_vs_AQ5174_chr2_vep.txt',\n",
       " 'vep -i ../output/case3/AQ5186_vs_AQ5174/vcf_processing/intersect/AQ5186_vs_AQ5174_chr3.maf.gz -o STDOUT -tab --assembly GRCh38 --no_stats --cache --symbol --protein --canonical --offline --af_1kg --dir /path/to/vep  --custom /path/to/gnomad/data/v3.0.0/hg38/gnomad.genomes.r3.0.sites.chr3.vcf.bgz,gnomADg,vcf,exact,0,AF,NFE > ../output/case3/AQ5186_vs_AQ5174/vep_processing/AQ5186_vs_AQ5174_chr3_vep.txt',\n",
       " 'vep -i ../output/case3/AQ5186_vs_AQ5174/vcf_processing/intersect/AQ5186_vs_AQ5174_chr4.maf.gz -o STDOUT -tab --assembly GRCh38 --no_stats --cache --symbol --protein --canonical --offline --af_1kg --dir /path/to/vep  --custom /path/to/gnomad/data/v3.0.0/hg38/gnomad.genomes.r3.0.sites.chr4.vcf.bgz,gnomADg,vcf,exact,0,AF,NFE > ../output/case3/AQ5186_vs_AQ5174/vep_processing/AQ5186_vs_AQ5174_chr4_vep.txt',\n",
       " 'vep -i ../output/case3/AQ5186_vs_AQ5174/vcf_processing/intersect/AQ5186_vs_AQ5174_chr5.maf.gz -o STDOUT -tab --assembly GRCh38 --no_stats --cache --symbol --protein --canonical --offline --af_1kg --dir /path/to/vep  --custom /path/to/gnomad/data/v3.0.0/hg38/gnomad.genomes.r3.0.sites.chr5.vcf.bgz,gnomADg,vcf,exact,0,AF,NFE > ../output/case3/AQ5186_vs_AQ5174/vep_processing/AQ5186_vs_AQ5174_chr5_vep.txt',\n",
       " 'vep -i ../output/case3/AQ5186_vs_AQ5174/vcf_processing/intersect/AQ5186_vs_AQ5174_chr6.maf.gz -o STDOUT -tab --assembly GRCh38 --no_stats --cache --symbol --protein --canonical --offline --af_1kg --dir /path/to/vep  --custom /path/to/gnomad/data/v3.0.0/hg38/gnomad.genomes.r3.0.sites.chr6.vcf.bgz,gnomADg,vcf,exact,0,AF,NFE > ../output/case3/AQ5186_vs_AQ5174/vep_processing/AQ5186_vs_AQ5174_chr6_vep.txt',\n",
       " 'vep -i ../output/case3/AQ5186_vs_AQ5174/vcf_processing/intersect/AQ5186_vs_AQ5174_chr7.maf.gz -o STDOUT -tab --assembly GRCh38 --no_stats --cache --symbol --protein --canonical --offline --af_1kg --dir /path/to/vep  --custom /path/to/gnomad/data/v3.0.0/hg38/gnomad.genomes.r3.0.sites.chr7.vcf.bgz,gnomADg,vcf,exact,0,AF,NFE > ../output/case3/AQ5186_vs_AQ5174/vep_processing/AQ5186_vs_AQ5174_chr7_vep.txt',\n",
       " 'vep -i ../output/case3/AQ5186_vs_AQ5174/vcf_processing/intersect/AQ5186_vs_AQ5174_chr8.maf.gz -o STDOUT -tab --assembly GRCh38 --no_stats --cache --symbol --protein --canonical --offline --af_1kg --dir /path/to/vep  --custom /path/to/gnomad/data/v3.0.0/hg38/gnomad.genomes.r3.0.sites.chr8.vcf.bgz,gnomADg,vcf,exact,0,AF,NFE > ../output/case3/AQ5186_vs_AQ5174/vep_processing/AQ5186_vs_AQ5174_chr8_vep.txt',\n",
       " 'vep -i ../output/case3/AQ5186_vs_AQ5174/vcf_processing/intersect/AQ5186_vs_AQ5174_chr9.maf.gz -o STDOUT -tab --assembly GRCh38 --no_stats --cache --symbol --protein --canonical --offline --af_1kg --dir /path/to/vep  --custom /path/to/gnomad/data/v3.0.0/hg38/gnomad.genomes.r3.0.sites.chr9.vcf.bgz,gnomADg,vcf,exact,0,AF,NFE > ../output/case3/AQ5186_vs_AQ5174/vep_processing/AQ5186_vs_AQ5174_chr9_vep.txt',\n",
       " 'vep -i ../output/case3/AQ5186_vs_AQ5174/vcf_processing/intersect/AQ5186_vs_AQ5174_chr10.maf.gz -o STDOUT -tab --assembly GRCh38 --no_stats --cache --symbol --protein --canonical --offline --af_1kg --dir /path/to/vep  --custom /path/to/gnomad/data/v3.0.0/hg38/gnomad.genomes.r3.0.sites.chr10.vcf.bgz,gnomADg,vcf,exact,0,AF,NFE > ../output/case3/AQ5186_vs_AQ5174/vep_processing/AQ5186_vs_AQ5174_chr10_vep.txt',\n",
       " 'vep -i ../output/case3/AQ5186_vs_AQ5174/vcf_processing/intersect/AQ5186_vs_AQ5174_chr11.maf.gz -o STDOUT -tab --assembly GRCh38 --no_stats --cache --symbol --protein --canonical --offline --af_1kg --dir /path/to/vep  --custom /path/to/gnomad/data/v3.0.0/hg38/gnomad.genomes.r3.0.sites.chr11.vcf.bgz,gnomADg,vcf,exact,0,AF,NFE > ../output/case3/AQ5186_vs_AQ5174/vep_processing/AQ5186_vs_AQ5174_chr11_vep.txt',\n",
       " 'vep -i ../output/case3/AQ5186_vs_AQ5174/vcf_processing/intersect/AQ5186_vs_AQ5174_chr12.maf.gz -o STDOUT -tab --assembly GRCh38 --no_stats --cache --symbol --protein --canonical --offline --af_1kg --dir /path/to/vep  --custom /path/to/gnomad/data/v3.0.0/hg38/gnomad.genomes.r3.0.sites.chr12.vcf.bgz,gnomADg,vcf,exact,0,AF,NFE > ../output/case3/AQ5186_vs_AQ5174/vep_processing/AQ5186_vs_AQ5174_chr12_vep.txt',\n",
       " 'vep -i ../output/case3/AQ5186_vs_AQ5174/vcf_processing/intersect/AQ5186_vs_AQ5174_chr13.maf.gz -o STDOUT -tab --assembly GRCh38 --no_stats --cache --symbol --protein --canonical --offline --af_1kg --dir /path/to/vep  --custom /path/to/gnomad/data/v3.0.0/hg38/gnomad.genomes.r3.0.sites.chr13.vcf.bgz,gnomADg,vcf,exact,0,AF,NFE > ../output/case3/AQ5186_vs_AQ5174/vep_processing/AQ5186_vs_AQ5174_chr13_vep.txt',\n",
       " 'vep -i ../output/case3/AQ5186_vs_AQ5174/vcf_processing/intersect/AQ5186_vs_AQ5174_chr14.maf.gz -o STDOUT -tab --assembly GRCh38 --no_stats --cache --symbol --protein --canonical --offline --af_1kg --dir /path/to/vep  --custom /path/to/gnomad/data/v3.0.0/hg38/gnomad.genomes.r3.0.sites.chr14.vcf.bgz,gnomADg,vcf,exact,0,AF,NFE > ../output/case3/AQ5186_vs_AQ5174/vep_processing/AQ5186_vs_AQ5174_chr14_vep.txt',\n",
       " 'vep -i ../output/case3/AQ5186_vs_AQ5174/vcf_processing/intersect/AQ5186_vs_AQ5174_chr15.maf.gz -o STDOUT -tab --assembly GRCh38 --no_stats --cache --symbol --protein --canonical --offline --af_1kg --dir /path/to/vep  --custom /path/to/gnomad/data/v3.0.0/hg38/gnomad.genomes.r3.0.sites.chr15.vcf.bgz,gnomADg,vcf,exact,0,AF,NFE > ../output/case3/AQ5186_vs_AQ5174/vep_processing/AQ5186_vs_AQ5174_chr15_vep.txt',\n",
       " 'vep -i ../output/case3/AQ5186_vs_AQ5174/vcf_processing/intersect/AQ5186_vs_AQ5174_chr16.maf.gz -o STDOUT -tab --assembly GRCh38 --no_stats --cache --symbol --protein --canonical --offline --af_1kg --dir /path/to/vep  --custom /path/to/gnomad/data/v3.0.0/hg38/gnomad.genomes.r3.0.sites.chr16.vcf.bgz,gnomADg,vcf,exact,0,AF,NFE > ../output/case3/AQ5186_vs_AQ5174/vep_processing/AQ5186_vs_AQ5174_chr16_vep.txt',\n",
       " 'vep -i ../output/case3/AQ5186_vs_AQ5174/vcf_processing/intersect/AQ5186_vs_AQ5174_chr17.maf.gz -o STDOUT -tab --assembly GRCh38 --no_stats --cache --symbol --protein --canonical --offline --af_1kg --dir /path/to/vep  --custom /path/to/gnomad/data/v3.0.0/hg38/gnomad.genomes.r3.0.sites.chr17.vcf.bgz,gnomADg,vcf,exact,0,AF,NFE > ../output/case3/AQ5186_vs_AQ5174/vep_processing/AQ5186_vs_AQ5174_chr17_vep.txt',\n",
       " 'vep -i ../output/case3/AQ5186_vs_AQ5174/vcf_processing/intersect/AQ5186_vs_AQ5174_chr18.maf.gz -o STDOUT -tab --assembly GRCh38 --no_stats --cache --symbol --protein --canonical --offline --af_1kg --dir /path/to/vep  --custom /path/to/gnomad/data/v3.0.0/hg38/gnomad.genomes.r3.0.sites.chr18.vcf.bgz,gnomADg,vcf,exact,0,AF,NFE > ../output/case3/AQ5186_vs_AQ5174/vep_processing/AQ5186_vs_AQ5174_chr18_vep.txt',\n",
       " 'vep -i ../output/case3/AQ5186_vs_AQ5174/vcf_processing/intersect/AQ5186_vs_AQ5174_chr19.maf.gz -o STDOUT -tab --assembly GRCh38 --no_stats --cache --symbol --protein --canonical --offline --af_1kg --dir /path/to/vep  --custom /path/to/gnomad/data/v3.0.0/hg38/gnomad.genomes.r3.0.sites.chr19.vcf.bgz,gnomADg,vcf,exact,0,AF,NFE > ../output/case3/AQ5186_vs_AQ5174/vep_processing/AQ5186_vs_AQ5174_chr19_vep.txt',\n",
       " 'vep -i ../output/case3/AQ5186_vs_AQ5174/vcf_processing/intersect/AQ5186_vs_AQ5174_chr20.maf.gz -o STDOUT -tab --assembly GRCh38 --no_stats --cache --symbol --protein --canonical --offline --af_1kg --dir /path/to/vep  --custom /path/to/gnomad/data/v3.0.0/hg38/gnomad.genomes.r3.0.sites.chr20.vcf.bgz,gnomADg,vcf,exact,0,AF,NFE > ../output/case3/AQ5186_vs_AQ5174/vep_processing/AQ5186_vs_AQ5174_chr20_vep.txt',\n",
       " 'vep -i ../output/case3/AQ5186_vs_AQ5174/vcf_processing/intersect/AQ5186_vs_AQ5174_chr21.maf.gz -o STDOUT -tab --assembly GRCh38 --no_stats --cache --symbol --protein --canonical --offline --af_1kg --dir /path/to/vep  --custom /path/to/gnomad/data/v3.0.0/hg38/gnomad.genomes.r3.0.sites.chr21.vcf.bgz,gnomADg,vcf,exact,0,AF,NFE > ../output/case3/AQ5186_vs_AQ5174/vep_processing/AQ5186_vs_AQ5174_chr21_vep.txt',\n",
       " 'vep -i ../output/case3/AQ5186_vs_AQ5174/vcf_processing/intersect/AQ5186_vs_AQ5174_chr22.maf.gz -o STDOUT -tab --assembly GRCh38 --no_stats --cache --symbol --protein --canonical --offline --af_1kg --dir /path/to/vep  --custom /path/to/gnomad/data/v3.0.0/hg38/gnomad.genomes.r3.0.sites.chr22.vcf.bgz,gnomADg,vcf,exact,0,AF,NFE > ../output/case3/AQ5186_vs_AQ5174/vep_processing/AQ5186_vs_AQ5174_chr22_vep.txt',\n",
       " 'vep -i ../output/case3/AQ5186_vs_AQ5174/vcf_processing/intersect/AQ5186_vs_AQ5174_chrX.maf.gz -o STDOUT -tab --assembly GRCh38 --no_stats --cache --symbol --protein --canonical --offline --af_1kg --dir /path/to/vep  --custom /path/to/gnomad/data/v3.0.0/hg38/gnomad.genomes.r3.0.sites.chrX.vcf.bgz,gnomADg,vcf,exact,0,AF,NFE > ../output/case3/AQ5186_vs_AQ5174/vep_processing/AQ5186_vs_AQ5174_chrX_vep.txt',\n",
       " 'vep -i ../output/case3/AQ5186_vs_AQ5174/vcf_processing/intersect/AQ5186_vs_AQ5174_chrY.maf.gz -o STDOUT -tab --assembly GRCh38 --no_stats --cache --symbol --protein --canonical --offline --af_1kg --dir /path/to/vep  --custom /path/to/gnomad/data/v3.0.0/hg38/gnomad.genomes.r3.0.sites.chrY.vcf.bgz,gnomADg,vcf,exact,0,AF,NFE > ../output/case3/AQ5186_vs_AQ5174/vep_processing/AQ5186_vs_AQ5174_chrY_vep.txt',\n",
       " 'vep -i ../output/case4/AW8050_vs_AW8061/vcf_processing/intersect/AW8050_vs_AW8061_chr1.maf.gz -o STDOUT -tab --assembly GRCh38 --no_stats --cache --symbol --protein --canonical --offline --af_1kg --dir /path/to/vep  --custom /path/to/gnomad/data/v3.0.0/hg38/gnomad.genomes.r3.0.sites.chr1.vcf.bgz,gnomADg,vcf,exact,0,AF,NFE > ../output/case4/AW8050_vs_AW8061/vep_processing/AW8050_vs_AW8061_chr1_vep.txt',\n",
       " 'vep -i ../output/case4/AW8050_vs_AW8061/vcf_processing/intersect/AW8050_vs_AW8061_chr2.maf.gz -o STDOUT -tab --assembly GRCh38 --no_stats --cache --symbol --protein --canonical --offline --af_1kg --dir /path/to/vep  --custom /path/to/gnomad/data/v3.0.0/hg38/gnomad.genomes.r3.0.sites.chr2.vcf.bgz,gnomADg,vcf,exact,0,AF,NFE > ../output/case4/AW8050_vs_AW8061/vep_processing/AW8050_vs_AW8061_chr2_vep.txt',\n",
       " 'vep -i ../output/case4/AW8050_vs_AW8061/vcf_processing/intersect/AW8050_vs_AW8061_chr3.maf.gz -o STDOUT -tab --assembly GRCh38 --no_stats --cache --symbol --protein --canonical --offline --af_1kg --dir /path/to/vep  --custom /path/to/gnomad/data/v3.0.0/hg38/gnomad.genomes.r3.0.sites.chr3.vcf.bgz,gnomADg,vcf,exact,0,AF,NFE > ../output/case4/AW8050_vs_AW8061/vep_processing/AW8050_vs_AW8061_chr3_vep.txt',\n",
       " 'vep -i ../output/case4/AW8050_vs_AW8061/vcf_processing/intersect/AW8050_vs_AW8061_chr4.maf.gz -o STDOUT -tab --assembly GRCh38 --no_stats --cache --symbol --protein --canonical --offline --af_1kg --dir /path/to/vep  --custom /path/to/gnomad/data/v3.0.0/hg38/gnomad.genomes.r3.0.sites.chr4.vcf.bgz,gnomADg,vcf,exact,0,AF,NFE > ../output/case4/AW8050_vs_AW8061/vep_processing/AW8050_vs_AW8061_chr4_vep.txt',\n",
       " 'vep -i ../output/case4/AW8050_vs_AW8061/vcf_processing/intersect/AW8050_vs_AW8061_chr5.maf.gz -o STDOUT -tab --assembly GRCh38 --no_stats --cache --symbol --protein --canonical --offline --af_1kg --dir /path/to/vep  --custom /path/to/gnomad/data/v3.0.0/hg38/gnomad.genomes.r3.0.sites.chr5.vcf.bgz,gnomADg,vcf,exact,0,AF,NFE > ../output/case4/AW8050_vs_AW8061/vep_processing/AW8050_vs_AW8061_chr5_vep.txt',\n",
       " 'vep -i ../output/case4/AW8050_vs_AW8061/vcf_processing/intersect/AW8050_vs_AW8061_chr6.maf.gz -o STDOUT -tab --assembly GRCh38 --no_stats --cache --symbol --protein --canonical --offline --af_1kg --dir /path/to/vep  --custom /path/to/gnomad/data/v3.0.0/hg38/gnomad.genomes.r3.0.sites.chr6.vcf.bgz,gnomADg,vcf,exact,0,AF,NFE > ../output/case4/AW8050_vs_AW8061/vep_processing/AW8050_vs_AW8061_chr6_vep.txt',\n",
       " 'vep -i ../output/case4/AW8050_vs_AW8061/vcf_processing/intersect/AW8050_vs_AW8061_chr7.maf.gz -o STDOUT -tab --assembly GRCh38 --no_stats --cache --symbol --protein --canonical --offline --af_1kg --dir /path/to/vep  --custom /path/to/gnomad/data/v3.0.0/hg38/gnomad.genomes.r3.0.sites.chr7.vcf.bgz,gnomADg,vcf,exact,0,AF,NFE > ../output/case4/AW8050_vs_AW8061/vep_processing/AW8050_vs_AW8061_chr7_vep.txt',\n",
       " 'vep -i ../output/case4/AW8050_vs_AW8061/vcf_processing/intersect/AW8050_vs_AW8061_chr8.maf.gz -o STDOUT -tab --assembly GRCh38 --no_stats --cache --symbol --protein --canonical --offline --af_1kg --dir /path/to/vep  --custom /path/to/gnomad/data/v3.0.0/hg38/gnomad.genomes.r3.0.sites.chr8.vcf.bgz,gnomADg,vcf,exact,0,AF,NFE > ../output/case4/AW8050_vs_AW8061/vep_processing/AW8050_vs_AW8061_chr8_vep.txt',\n",
       " 'vep -i ../output/case4/AW8050_vs_AW8061/vcf_processing/intersect/AW8050_vs_AW8061_chr9.maf.gz -o STDOUT -tab --assembly GRCh38 --no_stats --cache --symbol --protein --canonical --offline --af_1kg --dir /path/to/vep  --custom /path/to/gnomad/data/v3.0.0/hg38/gnomad.genomes.r3.0.sites.chr9.vcf.bgz,gnomADg,vcf,exact,0,AF,NFE > ../output/case4/AW8050_vs_AW8061/vep_processing/AW8050_vs_AW8061_chr9_vep.txt',\n",
       " 'vep -i ../output/case4/AW8050_vs_AW8061/vcf_processing/intersect/AW8050_vs_AW8061_chr10.maf.gz -o STDOUT -tab --assembly GRCh38 --no_stats --cache --symbol --protein --canonical --offline --af_1kg --dir /path/to/vep  --custom /path/to/gnomad/data/v3.0.0/hg38/gnomad.genomes.r3.0.sites.chr10.vcf.bgz,gnomADg,vcf,exact,0,AF,NFE > ../output/case4/AW8050_vs_AW8061/vep_processing/AW8050_vs_AW8061_chr10_vep.txt',\n",
       " 'vep -i ../output/case4/AW8050_vs_AW8061/vcf_processing/intersect/AW8050_vs_AW8061_chr11.maf.gz -o STDOUT -tab --assembly GRCh38 --no_stats --cache --symbol --protein --canonical --offline --af_1kg --dir /path/to/vep  --custom /path/to/gnomad/data/v3.0.0/hg38/gnomad.genomes.r3.0.sites.chr11.vcf.bgz,gnomADg,vcf,exact,0,AF,NFE > ../output/case4/AW8050_vs_AW8061/vep_processing/AW8050_vs_AW8061_chr11_vep.txt',\n",
       " 'vep -i ../output/case4/AW8050_vs_AW8061/vcf_processing/intersect/AW8050_vs_AW8061_chr12.maf.gz -o STDOUT -tab --assembly GRCh38 --no_stats --cache --symbol --protein --canonical --offline --af_1kg --dir /path/to/vep  --custom /path/to/gnomad/data/v3.0.0/hg38/gnomad.genomes.r3.0.sites.chr12.vcf.bgz,gnomADg,vcf,exact,0,AF,NFE > ../output/case4/AW8050_vs_AW8061/vep_processing/AW8050_vs_AW8061_chr12_vep.txt',\n",
       " 'vep -i ../output/case4/AW8050_vs_AW8061/vcf_processing/intersect/AW8050_vs_AW8061_chr13.maf.gz -o STDOUT -tab --assembly GRCh38 --no_stats --cache --symbol --protein --canonical --offline --af_1kg --dir /path/to/vep  --custom /path/to/gnomad/data/v3.0.0/hg38/gnomad.genomes.r3.0.sites.chr13.vcf.bgz,gnomADg,vcf,exact,0,AF,NFE > ../output/case4/AW8050_vs_AW8061/vep_processing/AW8050_vs_AW8061_chr13_vep.txt',\n",
       " 'vep -i ../output/case4/AW8050_vs_AW8061/vcf_processing/intersect/AW8050_vs_AW8061_chr14.maf.gz -o STDOUT -tab --assembly GRCh38 --no_stats --cache --symbol --protein --canonical --offline --af_1kg --dir /path/to/vep  --custom /path/to/gnomad/data/v3.0.0/hg38/gnomad.genomes.r3.0.sites.chr14.vcf.bgz,gnomADg,vcf,exact,0,AF,NFE > ../output/case4/AW8050_vs_AW8061/vep_processing/AW8050_vs_AW8061_chr14_vep.txt',\n",
       " 'vep -i ../output/case4/AW8050_vs_AW8061/vcf_processing/intersect/AW8050_vs_AW8061_chr15.maf.gz -o STDOUT -tab --assembly GRCh38 --no_stats --cache --symbol --protein --canonical --offline --af_1kg --dir /path/to/vep  --custom /path/to/gnomad/data/v3.0.0/hg38/gnomad.genomes.r3.0.sites.chr15.vcf.bgz,gnomADg,vcf,exact,0,AF,NFE > ../output/case4/AW8050_vs_AW8061/vep_processing/AW8050_vs_AW8061_chr15_vep.txt',\n",
       " 'vep -i ../output/case4/AW8050_vs_AW8061/vcf_processing/intersect/AW8050_vs_AW8061_chr16.maf.gz -o STDOUT -tab --assembly GRCh38 --no_stats --cache --symbol --protein --canonical --offline --af_1kg --dir /path/to/vep  --custom /path/to/gnomad/data/v3.0.0/hg38/gnomad.genomes.r3.0.sites.chr16.vcf.bgz,gnomADg,vcf,exact,0,AF,NFE > ../output/case4/AW8050_vs_AW8061/vep_processing/AW8050_vs_AW8061_chr16_vep.txt',\n",
       " 'vep -i ../output/case4/AW8050_vs_AW8061/vcf_processing/intersect/AW8050_vs_AW8061_chr17.maf.gz -o STDOUT -tab --assembly GRCh38 --no_stats --cache --symbol --protein --canonical --offline --af_1kg --dir /path/to/vep  --custom /path/to/gnomad/data/v3.0.0/hg38/gnomad.genomes.r3.0.sites.chr17.vcf.bgz,gnomADg,vcf,exact,0,AF,NFE > ../output/case4/AW8050_vs_AW8061/vep_processing/AW8050_vs_AW8061_chr17_vep.txt',\n",
       " 'vep -i ../output/case4/AW8050_vs_AW8061/vcf_processing/intersect/AW8050_vs_AW8061_chr18.maf.gz -o STDOUT -tab --assembly GRCh38 --no_stats --cache --symbol --protein --canonical --offline --af_1kg --dir /path/to/vep  --custom /path/to/gnomad/data/v3.0.0/hg38/gnomad.genomes.r3.0.sites.chr18.vcf.bgz,gnomADg,vcf,exact,0,AF,NFE > ../output/case4/AW8050_vs_AW8061/vep_processing/AW8050_vs_AW8061_chr18_vep.txt',\n",
       " 'vep -i ../output/case4/AW8050_vs_AW8061/vcf_processing/intersect/AW8050_vs_AW8061_chr19.maf.gz -o STDOUT -tab --assembly GRCh38 --no_stats --cache --symbol --protein --canonical --offline --af_1kg --dir /path/to/vep  --custom /path/to/gnomad/data/v3.0.0/hg38/gnomad.genomes.r3.0.sites.chr19.vcf.bgz,gnomADg,vcf,exact,0,AF,NFE > ../output/case4/AW8050_vs_AW8061/vep_processing/AW8050_vs_AW8061_chr19_vep.txt',\n",
       " 'vep -i ../output/case4/AW8050_vs_AW8061/vcf_processing/intersect/AW8050_vs_AW8061_chr20.maf.gz -o STDOUT -tab --assembly GRCh38 --no_stats --cache --symbol --protein --canonical --offline --af_1kg --dir /path/to/vep  --custom /path/to/gnomad/data/v3.0.0/hg38/gnomad.genomes.r3.0.sites.chr20.vcf.bgz,gnomADg,vcf,exact,0,AF,NFE > ../output/case4/AW8050_vs_AW8061/vep_processing/AW8050_vs_AW8061_chr20_vep.txt',\n",
       " 'vep -i ../output/case4/AW8050_vs_AW8061/vcf_processing/intersect/AW8050_vs_AW8061_chr21.maf.gz -o STDOUT -tab --assembly GRCh38 --no_stats --cache --symbol --protein --canonical --offline --af_1kg --dir /path/to/vep  --custom /path/to/gnomad/data/v3.0.0/hg38/gnomad.genomes.r3.0.sites.chr21.vcf.bgz,gnomADg,vcf,exact,0,AF,NFE > ../output/case4/AW8050_vs_AW8061/vep_processing/AW8050_vs_AW8061_chr21_vep.txt',\n",
       " 'vep -i ../output/case4/AW8050_vs_AW8061/vcf_processing/intersect/AW8050_vs_AW8061_chr22.maf.gz -o STDOUT -tab --assembly GRCh38 --no_stats --cache --symbol --protein --canonical --offline --af_1kg --dir /path/to/vep  --custom /path/to/gnomad/data/v3.0.0/hg38/gnomad.genomes.r3.0.sites.chr22.vcf.bgz,gnomADg,vcf,exact,0,AF,NFE > ../output/case4/AW8050_vs_AW8061/vep_processing/AW8050_vs_AW8061_chr22_vep.txt',\n",
       " 'vep -i ../output/case4/AW8050_vs_AW8061/vcf_processing/intersect/AW8050_vs_AW8061_chrX.maf.gz -o STDOUT -tab --assembly GRCh38 --no_stats --cache --symbol --protein --canonical --offline --af_1kg --dir /path/to/vep  --custom /path/to/gnomad/data/v3.0.0/hg38/gnomad.genomes.r3.0.sites.chrX.vcf.bgz,gnomADg,vcf,exact,0,AF,NFE > ../output/case4/AW8050_vs_AW8061/vep_processing/AW8050_vs_AW8061_chrX_vep.txt',\n",
       " 'vep -i ../output/case4/AW8050_vs_AW8061/vcf_processing/intersect/AW8050_vs_AW8061_chrY.maf.gz -o STDOUT -tab --assembly GRCh38 --no_stats --cache --symbol --protein --canonical --offline --af_1kg --dir /path/to/vep  --custom /path/to/gnomad/data/v3.0.0/hg38/gnomad.genomes.r3.0.sites.chrY.vcf.bgz,gnomADg,vcf,exact,0,AF,NFE > ../output/case4/AW8050_vs_AW8061/vep_processing/AW8050_vs_AW8061_chrY_vep.txt',\n",
       " 'vep -i ../output/case4/AW8051_vs_AW8061/vcf_processing/intersect/AW8051_vs_AW8061_chr1.maf.gz -o STDOUT -tab --assembly GRCh38 --no_stats --cache --symbol --protein --canonical --offline --af_1kg --dir /path/to/vep  --custom /path/to/gnomad/data/v3.0.0/hg38/gnomad.genomes.r3.0.sites.chr1.vcf.bgz,gnomADg,vcf,exact,0,AF,NFE > ../output/case4/AW8051_vs_AW8061/vep_processing/AW8051_vs_AW8061_chr1_vep.txt',\n",
       " 'vep -i ../output/case4/AW8051_vs_AW8061/vcf_processing/intersect/AW8051_vs_AW8061_chr2.maf.gz -o STDOUT -tab --assembly GRCh38 --no_stats --cache --symbol --protein --canonical --offline --af_1kg --dir /path/to/vep  --custom /path/to/gnomad/data/v3.0.0/hg38/gnomad.genomes.r3.0.sites.chr2.vcf.bgz,gnomADg,vcf,exact,0,AF,NFE > ../output/case4/AW8051_vs_AW8061/vep_processing/AW8051_vs_AW8061_chr2_vep.txt',\n",
       " 'vep -i ../output/case4/AW8051_vs_AW8061/vcf_processing/intersect/AW8051_vs_AW8061_chr3.maf.gz -o STDOUT -tab --assembly GRCh38 --no_stats --cache --symbol --protein --canonical --offline --af_1kg --dir /path/to/vep  --custom /path/to/gnomad/data/v3.0.0/hg38/gnomad.genomes.r3.0.sites.chr3.vcf.bgz,gnomADg,vcf,exact,0,AF,NFE > ../output/case4/AW8051_vs_AW8061/vep_processing/AW8051_vs_AW8061_chr3_vep.txt',\n",
       " 'vep -i ../output/case4/AW8051_vs_AW8061/vcf_processing/intersect/AW8051_vs_AW8061_chr4.maf.gz -o STDOUT -tab --assembly GRCh38 --no_stats --cache --symbol --protein --canonical --offline --af_1kg --dir /path/to/vep  --custom /path/to/gnomad/data/v3.0.0/hg38/gnomad.genomes.r3.0.sites.chr4.vcf.bgz,gnomADg,vcf,exact,0,AF,NFE > ../output/case4/AW8051_vs_AW8061/vep_processing/AW8051_vs_AW8061_chr4_vep.txt',\n",
       " 'vep -i ../output/case4/AW8051_vs_AW8061/vcf_processing/intersect/AW8051_vs_AW8061_chr5.maf.gz -o STDOUT -tab --assembly GRCh38 --no_stats --cache --symbol --protein --canonical --offline --af_1kg --dir /path/to/vep  --custom /path/to/gnomad/data/v3.0.0/hg38/gnomad.genomes.r3.0.sites.chr5.vcf.bgz,gnomADg,vcf,exact,0,AF,NFE > ../output/case4/AW8051_vs_AW8061/vep_processing/AW8051_vs_AW8061_chr5_vep.txt',\n",
       " 'vep -i ../output/case4/AW8051_vs_AW8061/vcf_processing/intersect/AW8051_vs_AW8061_chr6.maf.gz -o STDOUT -tab --assembly GRCh38 --no_stats --cache --symbol --protein --canonical --offline --af_1kg --dir /path/to/vep  --custom /path/to/gnomad/data/v3.0.0/hg38/gnomad.genomes.r3.0.sites.chr6.vcf.bgz,gnomADg,vcf,exact,0,AF,NFE > ../output/case4/AW8051_vs_AW8061/vep_processing/AW8051_vs_AW8061_chr6_vep.txt',\n",
       " 'vep -i ../output/case4/AW8051_vs_AW8061/vcf_processing/intersect/AW8051_vs_AW8061_chr7.maf.gz -o STDOUT -tab --assembly GRCh38 --no_stats --cache --symbol --protein --canonical --offline --af_1kg --dir /path/to/vep  --custom /path/to/gnomad/data/v3.0.0/hg38/gnomad.genomes.r3.0.sites.chr7.vcf.bgz,gnomADg,vcf,exact,0,AF,NFE > ../output/case4/AW8051_vs_AW8061/vep_processing/AW8051_vs_AW8061_chr7_vep.txt',\n",
       " 'vep -i ../output/case4/AW8051_vs_AW8061/vcf_processing/intersect/AW8051_vs_AW8061_chr8.maf.gz -o STDOUT -tab --assembly GRCh38 --no_stats --cache --symbol --protein --canonical --offline --af_1kg --dir /path/to/vep  --custom /path/to/gnomad/data/v3.0.0/hg38/gnomad.genomes.r3.0.sites.chr8.vcf.bgz,gnomADg,vcf,exact,0,AF,NFE > ../output/case4/AW8051_vs_AW8061/vep_processing/AW8051_vs_AW8061_chr8_vep.txt',\n",
       " 'vep -i ../output/case4/AW8051_vs_AW8061/vcf_processing/intersect/AW8051_vs_AW8061_chr9.maf.gz -o STDOUT -tab --assembly GRCh38 --no_stats --cache --symbol --protein --canonical --offline --af_1kg --dir /path/to/vep  --custom /path/to/gnomad/data/v3.0.0/hg38/gnomad.genomes.r3.0.sites.chr9.vcf.bgz,gnomADg,vcf,exact,0,AF,NFE > ../output/case4/AW8051_vs_AW8061/vep_processing/AW8051_vs_AW8061_chr9_vep.txt',\n",
       " 'vep -i ../output/case4/AW8051_vs_AW8061/vcf_processing/intersect/AW8051_vs_AW8061_chr10.maf.gz -o STDOUT -tab --assembly GRCh38 --no_stats --cache --symbol --protein --canonical --offline --af_1kg --dir /path/to/vep  --custom /path/to/gnomad/data/v3.0.0/hg38/gnomad.genomes.r3.0.sites.chr10.vcf.bgz,gnomADg,vcf,exact,0,AF,NFE > ../output/case4/AW8051_vs_AW8061/vep_processing/AW8051_vs_AW8061_chr10_vep.txt',\n",
       " 'vep -i ../output/case4/AW8051_vs_AW8061/vcf_processing/intersect/AW8051_vs_AW8061_chr11.maf.gz -o STDOUT -tab --assembly GRCh38 --no_stats --cache --symbol --protein --canonical --offline --af_1kg --dir /path/to/vep  --custom /path/to/gnomad/data/v3.0.0/hg38/gnomad.genomes.r3.0.sites.chr11.vcf.bgz,gnomADg,vcf,exact,0,AF,NFE > ../output/case4/AW8051_vs_AW8061/vep_processing/AW8051_vs_AW8061_chr11_vep.txt',\n",
       " 'vep -i ../output/case4/AW8051_vs_AW8061/vcf_processing/intersect/AW8051_vs_AW8061_chr12.maf.gz -o STDOUT -tab --assembly GRCh38 --no_stats --cache --symbol --protein --canonical --offline --af_1kg --dir /path/to/vep  --custom /path/to/gnomad/data/v3.0.0/hg38/gnomad.genomes.r3.0.sites.chr12.vcf.bgz,gnomADg,vcf,exact,0,AF,NFE > ../output/case4/AW8051_vs_AW8061/vep_processing/AW8051_vs_AW8061_chr12_vep.txt',\n",
       " 'vep -i ../output/case4/AW8051_vs_AW8061/vcf_processing/intersect/AW8051_vs_AW8061_chr13.maf.gz -o STDOUT -tab --assembly GRCh38 --no_stats --cache --symbol --protein --canonical --offline --af_1kg --dir /path/to/vep  --custom /path/to/gnomad/data/v3.0.0/hg38/gnomad.genomes.r3.0.sites.chr13.vcf.bgz,gnomADg,vcf,exact,0,AF,NFE > ../output/case4/AW8051_vs_AW8061/vep_processing/AW8051_vs_AW8061_chr13_vep.txt',\n",
       " 'vep -i ../output/case4/AW8051_vs_AW8061/vcf_processing/intersect/AW8051_vs_AW8061_chr14.maf.gz -o STDOUT -tab --assembly GRCh38 --no_stats --cache --symbol --protein --canonical --offline --af_1kg --dir /path/to/vep  --custom /path/to/gnomad/data/v3.0.0/hg38/gnomad.genomes.r3.0.sites.chr14.vcf.bgz,gnomADg,vcf,exact,0,AF,NFE > ../output/case4/AW8051_vs_AW8061/vep_processing/AW8051_vs_AW8061_chr14_vep.txt',\n",
       " 'vep -i ../output/case4/AW8051_vs_AW8061/vcf_processing/intersect/AW8051_vs_AW8061_chr15.maf.gz -o STDOUT -tab --assembly GRCh38 --no_stats --cache --symbol --protein --canonical --offline --af_1kg --dir /path/to/vep  --custom /path/to/gnomad/data/v3.0.0/hg38/gnomad.genomes.r3.0.sites.chr15.vcf.bgz,gnomADg,vcf,exact,0,AF,NFE > ../output/case4/AW8051_vs_AW8061/vep_processing/AW8051_vs_AW8061_chr15_vep.txt',\n",
       " 'vep -i ../output/case4/AW8051_vs_AW8061/vcf_processing/intersect/AW8051_vs_AW8061_chr16.maf.gz -o STDOUT -tab --assembly GRCh38 --no_stats --cache --symbol --protein --canonical --offline --af_1kg --dir /path/to/vep  --custom /path/to/gnomad/data/v3.0.0/hg38/gnomad.genomes.r3.0.sites.chr16.vcf.bgz,gnomADg,vcf,exact,0,AF,NFE > ../output/case4/AW8051_vs_AW8061/vep_processing/AW8051_vs_AW8061_chr16_vep.txt',\n",
       " 'vep -i ../output/case4/AW8051_vs_AW8061/vcf_processing/intersect/AW8051_vs_AW8061_chr17.maf.gz -o STDOUT -tab --assembly GRCh38 --no_stats --cache --symbol --protein --canonical --offline --af_1kg --dir /path/to/vep  --custom /path/to/gnomad/data/v3.0.0/hg38/gnomad.genomes.r3.0.sites.chr17.vcf.bgz,gnomADg,vcf,exact,0,AF,NFE > ../output/case4/AW8051_vs_AW8061/vep_processing/AW8051_vs_AW8061_chr17_vep.txt',\n",
       " 'vep -i ../output/case4/AW8051_vs_AW8061/vcf_processing/intersect/AW8051_vs_AW8061_chr18.maf.gz -o STDOUT -tab --assembly GRCh38 --no_stats --cache --symbol --protein --canonical --offline --af_1kg --dir /path/to/vep  --custom /path/to/gnomad/data/v3.0.0/hg38/gnomad.genomes.r3.0.sites.chr18.vcf.bgz,gnomADg,vcf,exact,0,AF,NFE > ../output/case4/AW8051_vs_AW8061/vep_processing/AW8051_vs_AW8061_chr18_vep.txt',\n",
       " 'vep -i ../output/case4/AW8051_vs_AW8061/vcf_processing/intersect/AW8051_vs_AW8061_chr19.maf.gz -o STDOUT -tab --assembly GRCh38 --no_stats --cache --symbol --protein --canonical --offline --af_1kg --dir /path/to/vep  --custom /path/to/gnomad/data/v3.0.0/hg38/gnomad.genomes.r3.0.sites.chr19.vcf.bgz,gnomADg,vcf,exact,0,AF,NFE > ../output/case4/AW8051_vs_AW8061/vep_processing/AW8051_vs_AW8061_chr19_vep.txt',\n",
       " 'vep -i ../output/case4/AW8051_vs_AW8061/vcf_processing/intersect/AW8051_vs_AW8061_chr20.maf.gz -o STDOUT -tab --assembly GRCh38 --no_stats --cache --symbol --protein --canonical --offline --af_1kg --dir /path/to/vep  --custom /path/to/gnomad/data/v3.0.0/hg38/gnomad.genomes.r3.0.sites.chr20.vcf.bgz,gnomADg,vcf,exact,0,AF,NFE > ../output/case4/AW8051_vs_AW8061/vep_processing/AW8051_vs_AW8061_chr20_vep.txt',\n",
       " 'vep -i ../output/case4/AW8051_vs_AW8061/vcf_processing/intersect/AW8051_vs_AW8061_chr21.maf.gz -o STDOUT -tab --assembly GRCh38 --no_stats --cache --symbol --protein --canonical --offline --af_1kg --dir /path/to/vep  --custom /path/to/gnomad/data/v3.0.0/hg38/gnomad.genomes.r3.0.sites.chr21.vcf.bgz,gnomADg,vcf,exact,0,AF,NFE > ../output/case4/AW8051_vs_AW8061/vep_processing/AW8051_vs_AW8061_chr21_vep.txt',\n",
       " 'vep -i ../output/case4/AW8051_vs_AW8061/vcf_processing/intersect/AW8051_vs_AW8061_chr22.maf.gz -o STDOUT -tab --assembly GRCh38 --no_stats --cache --symbol --protein --canonical --offline --af_1kg --dir /path/to/vep  --custom /path/to/gnomad/data/v3.0.0/hg38/gnomad.genomes.r3.0.sites.chr22.vcf.bgz,gnomADg,vcf,exact,0,AF,NFE > ../output/case4/AW8051_vs_AW8061/vep_processing/AW8051_vs_AW8061_chr22_vep.txt',\n",
       " 'vep -i ../output/case4/AW8051_vs_AW8061/vcf_processing/intersect/AW8051_vs_AW8061_chrX.maf.gz -o STDOUT -tab --assembly GRCh38 --no_stats --cache --symbol --protein --canonical --offline --af_1kg --dir /path/to/vep  --custom /path/to/gnomad/data/v3.0.0/hg38/gnomad.genomes.r3.0.sites.chrX.vcf.bgz,gnomADg,vcf,exact,0,AF,NFE > ../output/case4/AW8051_vs_AW8061/vep_processing/AW8051_vs_AW8061_chrX_vep.txt',\n",
       " 'vep -i ../output/case4/AW8051_vs_AW8061/vcf_processing/intersect/AW8051_vs_AW8061_chrY.maf.gz -o STDOUT -tab --assembly GRCh38 --no_stats --cache --symbol --protein --canonical --offline --af_1kg --dir /path/to/vep  --custom /path/to/gnomad/data/v3.0.0/hg38/gnomad.genomes.r3.0.sites.chrY.vcf.bgz,gnomADg,vcf,exact,0,AF,NFE > ../output/case4/AW8051_vs_AW8061/vep_processing/AW8051_vs_AW8061_chrY_vep.txt']"
      ]
     },
     "execution_count": 15,
     "metadata": {},
     "output_type": "execute_result"
    }
   ],
   "source": [
    "gnomad_url = '/path/to/gnomad/data/v3.0.0/hg38/'\n",
    "#run vep command\n",
    "\n",
    "chroms = list(range(1,23))\n",
    "chroms = ['chr'+str(chrom) for chrom in chroms]\n",
    "sex_chroms = ['chrX','chrY']\n",
    "chroms = chroms + sex_chroms\n",
    "\n",
    "vep_commands = []\n",
    "for pt in samples.keys():\n",
    "    tumor1 = samples[pt]['tumor1']\n",
    "    normal = samples[pt]['normal']\n",
    "    sample = tumor1 + '_vs_' + normal\n",
    "    for chrom in chroms:\n",
    "        pt_url = os.path.join(root_out,pt,sample,'vcf_processing','intersect',sample + '_' + chrom + '.maf.gz')\n",
    "        chr_file = 'gnomad.genomes.r3.0.sites.'+chrom+'.vcf.bgz'\n",
    "        gnomad_chr_file = os.path.join(gnomad_url,chr_file)\n",
    "        out_file = pt_url.replace('vcf_processing/intersect/', 'vep_processing/')\n",
    "        out_file = out_file.replace('.maf.gz', '_vep.txt')\n",
    "        vep_command = 'vep -i '+ pt_url + ' -o STDOUT -tab --assembly GRCh38 --no_stats --cache --symbol --protein --canonical --offline --af_1kg --dir /path/to/vep  --custom ' + gnomad_chr_file + ',gnomADg,vcf,exact,0,AF,NFE > ' + out_file\n",
    "        vep_commands.append(vep_command)\n",
    "    tumor2 = samples[pt]['tumor2']\n",
    "    sample = tumor2 + '_vs_' + normal\n",
    "    for chrom in chroms:\n",
    "        pt_url = os.path.join(root_out,pt,sample,'vcf_processing','intersect',sample + '_' + chrom + '.maf.gz')\n",
    "        chr_file = 'gnomad.genomes.r3.0.sites.'+chrom+'.vcf.bgz'\n",
    "        gnomad_chr_file = os.path.join(gnomad_url,chr_file)\n",
    "        out_file = pt_url.replace('vcf_processing/intersect/', 'vep_processing/')\n",
    "        out_file = out_file.replace('.maf.gz', '_vep.txt')\n",
    "        vep_command = 'vep -i '+ pt_url + ' -o STDOUT -tab --assembly GRCh38 --no_stats --cache --symbol --protein --canonical --offline --af_1kg --dir /path/to/vep  --custom ' + gnomad_chr_file + ',gnomADg,vcf,exact,0,AF,NFE > ' + out_file\n",
    "        vep_commands.append(vep_command)\n",
    "        \n",
    "vep_commands"
   ]
  },
  {
   "cell_type": "code",
   "execution_count": 16,
   "metadata": {},
   "outputs": [],
   "source": [
    "qmap_pre_params = ['[pre]','. \"/home/$USER/miniconda3/etc/profile.d/conda.sh\"','conda activate vep101','[params]','cores = 1','memory = 8G','[jobs]']\n",
    "qmap_file = qmap_pre_params + vep_commands\n",
    "qmap_file\n",
    "with open('./qmap_files/04_vep_gnomad_v3.qmap', 'w') as f:\n",
    "    for item in qmap_file:\n",
    "        f.write('%s\\n' % item)"
   ]
  },
  {
   "cell_type": "markdown",
   "metadata": {},
   "source": [
    "## process_vep101.py"
   ]
  },
  {
   "cell_type": "code",
   "execution_count": 17,
   "metadata": {
    "scrolled": true
   },
   "outputs": [
    {
     "data": {
      "text/plain": [
       "['[pre]',\n",
       " '. \"/home/$USER/miniconda3/etc/profile.d/conda.sh\"',\n",
       " 'conda activate process_vc',\n",
       " '[params]',\n",
       " 'cores = 8',\n",
       " 'memory = 15G',\n",
       " '[jobs]',\n",
       " 'python ../python_scripts/process_vep101.py --path_input_vep ../output/case1/AQ5181_vs_AQ5175/vep_processing/ --path_input_maf ../output/case1/AQ5181_vs_AQ5175/vcf_processing/intersect/ --file_name AQ5181_vs_AQ5175 --cores 8',\n",
       " 'python ../python_scripts/process_vep101.py --path_input_vep ../output/case1/AQ5187_vs_AQ5175/vep_processing/ --path_input_maf ../output/case1/AQ5187_vs_AQ5175/vcf_processing/intersect/ --file_name AQ5187_vs_AQ5175 --cores 8',\n",
       " 'python ../python_scripts/process_vep101.py --path_input_vep ../output/case2/AQ5182_vs_AQ5176/vep_processing/ --path_input_maf ../output/case2/AQ5182_vs_AQ5176/vcf_processing/intersect/ --file_name AQ5182_vs_AQ5176 --cores 8',\n",
       " 'python ../python_scripts/process_vep101.py --path_input_vep ../output/case2/AQ5188_vs_AQ5176/vep_processing/ --path_input_maf ../output/case2/AQ5188_vs_AQ5176/vcf_processing/intersect/ --file_name AQ5188_vs_AQ5176 --cores 8',\n",
       " 'python ../python_scripts/process_vep101.py --path_input_vep ../output/case3/AQ5180_vs_AQ5174/vep_processing/ --path_input_maf ../output/case3/AQ5180_vs_AQ5174/vcf_processing/intersect/ --file_name AQ5180_vs_AQ5174 --cores 8',\n",
       " 'python ../python_scripts/process_vep101.py --path_input_vep ../output/case3/AQ5186_vs_AQ5174/vep_processing/ --path_input_maf ../output/case3/AQ5186_vs_AQ5174/vcf_processing/intersect/ --file_name AQ5186_vs_AQ5174 --cores 8',\n",
       " 'python ../python_scripts/process_vep101.py --path_input_vep ../output/case4/AW8050_vs_AW8061/vep_processing/ --path_input_maf ../output/case4/AW8050_vs_AW8061/vcf_processing/intersect/ --file_name AW8050_vs_AW8061 --cores 8',\n",
       " 'python ../python_scripts/process_vep101.py --path_input_vep ../output/case4/AW8051_vs_AW8061/vep_processing/ --path_input_maf ../output/case4/AW8051_vs_AW8061/vcf_processing/intersect/ --file_name AW8051_vs_AW8061 --cores 8']"
      ]
     },
     "execution_count": 17,
     "metadata": {},
     "output_type": "execute_result"
    }
   ],
   "source": [
    "#run process_vep command\n",
    "\n",
    "python_script = '../python_scripts/process_vep101.py'\n",
    "process_vep_commands = []\n",
    "for pt in samples.keys():\n",
    "    tumor1 = samples[pt]['tumor1']\n",
    "    tumor2 = samples[pt]['tumor2']\n",
    "    normal = samples[pt]['normal']\n",
    "    t1_vs_n = tumor1 + '_vs_' + normal\n",
    "    t2_vs_n = tumor2 + '_vs_' + normal\n",
    "    maf_url = os.path.join(root_out,pt,t1_vs_n,'vcf_processing','intersect/')\n",
    "    vep_url = os.path.join(root_out,pt,t1_vs_n,'vep_processing/')\n",
    "    command = 'python '+python_script+' --path_input_vep '+vep_url+' --path_input_maf '+maf_url+' --file_name '+t1_vs_n +' --cores 8'\n",
    "    process_vep_commands.append(command)\n",
    "    maf_url = os.path.join(root_out,pt,t2_vs_n,'vcf_processing','intersect/')\n",
    "    vep_url = os.path.join(root_out,pt,t2_vs_n,'vep_processing/')\n",
    "    command = 'python '+python_script+' --path_input_vep '+vep_url+' --path_input_maf '+maf_url+' --file_name '+t2_vs_n +' --cores 8'\n",
    "    process_vep_commands.append(command)\n",
    "    \n",
    "    \n",
    "qmap_pre_params = ['[pre]','. \"/home/$USER/miniconda3/etc/profile.d/conda.sh\"','conda activate process_vc','[params]','cores = 8','memory = 15G','[jobs]']\n",
    "qmap_file = qmap_pre_params + process_vep_commands\n",
    "qmap_file"
   ]
  },
  {
   "cell_type": "code",
   "execution_count": 18,
   "metadata": {},
   "outputs": [],
   "source": [
    "with open('./qmap_files/05_process_vep.qmap', 'w') as f:\n",
    "    for item in qmap_file:\n",
    "        f.write('%s\\n' % item)"
   ]
  },
  {
   "cell_type": "markdown",
   "metadata": {},
   "source": [
    "Before proceding, we need to calculate the CCF and establish the threshold for clonality.\\\n",
    "This is performed in this notebook: ```TMB_and_CCF_analysis.ipynb```"
   ]
  },
  {
   "cell_type": "markdown",
   "metadata": {},
   "source": [
    "##  filter_and_annot.py"
   ]
  },
  {
   "cell_type": "code",
   "execution_count": 19,
   "metadata": {
    "scrolled": true
   },
   "outputs": [
    {
     "data": {
      "text/plain": [
       "['[pre]',\n",
       " '. \"/home/$USER/miniconda3/etc/profile.d/conda.sh\"',\n",
       " 'conda activate process_vc',\n",
       " '[params]',\n",
       " 'cores = 8',\n",
       " 'memory = 15G',\n",
       " '[jobs]',\n",
       " 'python ../python_scripts/filter_and_annot_muts.py -i ../output/case1/AQ5181_vs_AQ5175/process_vep_output/ -o ../output/case1/AQ5181_vs_AQ5175/filter_and_annot/ -t_id AQ5181 -n_id AQ5175 -ccf 0.6057787222048805 -c intersect -cnv /path/to/hmf_pipeline/output/purple/AQ5181.purple.cnv.somatic.tsv -pur /path/to/hmf_pipeline/output/purple/AQ5181.purple.purity.tsv',\n",
       " 'python ../python_scripts/filter_and_annot_muts.py -i ../output/case1/AQ5187_vs_AQ5175/process_vep_output/ -o ../output/case1/AQ5187_vs_AQ5175/filter_and_annot/ -t_id AQ5187 -n_id AQ5175 -ccf 0.5363311165234896 -c intersect -cnv /path/to/hmf_pipeline/output/purple/AQ5187.purple.cnv.somatic.tsv -pur /path/to/hmf_pipeline/output/purple/AQ5187.purple.purity.tsv',\n",
       " 'python ../python_scripts/filter_and_annot_muts.py -i ../output/case2/AQ5182_vs_AQ5176/process_vep_output/ -o ../output/case2/AQ5182_vs_AQ5176/filter_and_annot/ -t_id AQ5182 -n_id AQ5176 -ccf 0.4880408661925021 -c intersect -cnv /path/to/hmf_pipeline/output/purple/AQ5182.purple.cnv.somatic.tsv -pur /path/to/hmf_pipeline/output/purple/AQ5182.purple.purity.tsv',\n",
       " 'python ../python_scripts/filter_and_annot_muts.py -i ../output/case2/AQ5188_vs_AQ5176/process_vep_output/ -o ../output/case2/AQ5188_vs_AQ5176/filter_and_annot/ -t_id AQ5188 -n_id AQ5176 -ccf 0.6594260071476463 -c intersect -cnv /path/to/hmf_pipeline/output/purple/AQ5188.purple.cnv.somatic.tsv -pur /path/to/hmf_pipeline/output/purple/AQ5188.purple.purity.tsv',\n",
       " 'python ../python_scripts/filter_and_annot_muts.py -i ../output/case3/AQ5180_vs_AQ5174/process_vep_output/ -o ../output/case3/AQ5180_vs_AQ5174/filter_and_annot/ -t_id AQ5180 -n_id AQ5174 -ccf 0.4795411737486141 -c intersect -cnv /path/to/hmf_pipeline/output/purple/AQ5180.purple.cnv.somatic.tsv -pur /path/to/hmf_pipeline/output/purple/AQ5180.purple.purity.tsv',\n",
       " 'python ../python_scripts/filter_and_annot_muts.py -i ../output/case3/AQ5186_vs_AQ5174/process_vep_output/ -o ../output/case3/AQ5186_vs_AQ5174/filter_and_annot/ -t_id AQ5186 -n_id AQ5174 -ccf 0.5113676352736383 -c intersect -cnv /path/to/hmf_pipeline/output/purple/AQ5186.purple.cnv.somatic.tsv -pur /path/to/hmf_pipeline/output/purple/AQ5186.purple.purity.tsv',\n",
       " 'python ../python_scripts/filter_and_annot_muts.py -i ../output/case4/AW8050_vs_AW8061/process_vep_output/ -o ../output/case4/AW8050_vs_AW8061/filter_and_annot/ -t_id AW8050 -n_id AW8061 -ccf 0.49050357099165653 -c intersect -cnv /path/to/hmf_pipeline/output/purple/AW8050.purple.cnv.somatic.tsv -pur /path/to/hmf_pipeline/output/purple/AW8050.purple.purity.tsv',\n",
       " 'python ../python_scripts/filter_and_annot_muts.py -i ../output/case4/AW8051_vs_AW8061/process_vep_output/ -o ../output/case4/AW8051_vs_AW8061/filter_and_annot/ -t_id AW8051 -n_id AW8061 -ccf 0.4758741534200194 -c intersect -cnv /path/to/hmf_pipeline/output/purple/AW8051.purple.cnv.somatic.tsv -pur /path/to/hmf_pipeline/output/purple/AW8051.purple.purity.tsv']"
      ]
     },
     "execution_count": 19,
     "metadata": {},
     "output_type": "execute_result"
    }
   ],
   "source": [
    "#run process_vep command\n",
    "\n",
    "ccf_json_path = 'ccf_thresholds.json'\n",
    "ccf_dict = json.load(open(ccf_json_path,'r'))\n",
    "process_vep_commands = []\n",
    "for pt in samples.keys():\n",
    "    tumor = samples[pt]['tumor1']\n",
    "    normal = samples[pt]['normal']\n",
    "    t_vs_n = tumor + '_vs_' + normal\n",
    "    #tumor1\n",
    "    sample = pt + '_t1'\n",
    "    ccf = ccf_dict[sample]\n",
    "    vep_url = os.path.join(root_out,pt,t_vs_n,'process_vep_output/')\n",
    "    cnv_url = root_in_hmf+'purple/'+tumor+'.purple.cnv.somatic.tsv'\n",
    "    purity_url = root_in_hmf+'purple/'+tumor+'.purple.purity.tsv'\n",
    "    output_url = os.path.join(root_out,pt,t_vs_n,'filter_and_annot/')\n",
    "    script =  '../python_scripts/filter_and_annot_muts.py'\n",
    "    command = 'python '+script+' -i '+vep_url+' -o '+output_url+' -t_id '+tumor + ' -n_id ' +normal + ' -ccf '+str(ccf) + ' -c intersect' + ' -cnv ' +cnv_url + ' -pur '+purity_url\n",
    "    process_vep_commands.append(command)\n",
    "    #tumor2\n",
    "    tumor = samples[pt]['tumor2']\n",
    "    t_vs_n = tumor + '_vs_' + normal\n",
    "    sample = pt + '_t2'\n",
    "    ccf = ccf_dict[sample]\n",
    "    vep_url = os.path.join(root_out,pt,t_vs_n,'process_vep_output/')\n",
    "    cnv_url = root_in_hmf +'purple/'+tumor+'.purple.cnv.somatic.tsv'\n",
    "    purity_url = root_in_hmf +'purple/'+tumor+'.purple.purity.tsv'\n",
    "    output_url = os.path.join(root_out,pt,t_vs_n,'filter_and_annot/')\n",
    "    command = 'python '+script+' -i '+vep_url+' -o '+output_url+' -t_id '+tumor + ' -n_id ' +normal + ' -ccf '+str(ccf) + ' -c intersect'+ ' -cnv ' +cnv_url + ' -pur '+purity_url\n",
    "    process_vep_commands.append(command)\n",
    "    \n",
    "    \n",
    "qmap_pre_params = ['[pre]','. \"/home/$USER/miniconda3/etc/profile.d/conda.sh\"','conda activate process_vc','[params]','cores = 8','memory = 15G','[jobs]']\n",
    "qmap_file = qmap_pre_params + process_vep_commands\n",
    "qmap_file"
   ]
  },
  {
   "cell_type": "code",
   "execution_count": 20,
   "metadata": {},
   "outputs": [],
   "source": [
    "with open('./qmap_files/06_filter_and_annot.qmap', 'w') as f:\n",
    "    for item in qmap_file:\n",
    "        f.write('%s\\n' % item)"
   ]
  },
  {
   "cell_type": "markdown",
   "metadata": {},
   "source": [
    "## Process vcf from GRIDDS (SV)"
   ]
  },
  {
   "cell_type": "code",
   "execution_count": 21,
   "metadata": {
    "scrolled": true
   },
   "outputs": [
    {
     "data": {
      "text/plain": [
       "['python ../python_scripts/process_gridds.py -i /path/to/hmf_pipeline/output/purple/AQ5181.purple.sv.vcf.gz -o ../output/AQ5181_vs_AQ5175/process_sv/gridds/ -gp ../data/genomic_positions_ensembl.txt.gz -ct ../data/ensembl_canonical_transcripts.tsv -t_id AQ5181 -n_id AQ5175',\n",
       " 'python ../python_scripts/process_gridds.py -i /path/to/hmf_pipeline/output/purple/AQ5187.purple.sv.vcf.gz -o ../output/case1/AQ5187_vs_AQ5175/process_sv/gridds/ -gp ../data/genomic_positions_ensembl.txt.gz -ct ../data/ensembl_canonical_transcripts.tsv -t_id AQ5187 -n_id AQ5175',\n",
       " 'python ../python_scripts/process_gridds.py -i /path/to/hmf_pipeline/output/purple/AQ5182.purple.sv.vcf.gz -o ../output/AQ5182_vs_AQ5176/process_sv/gridds/ -gp ../data/genomic_positions_ensembl.txt.gz -ct ../data/ensembl_canonical_transcripts.tsv -t_id AQ5182 -n_id AQ5176',\n",
       " 'python ../python_scripts/process_gridds.py -i /path/to/hmf_pipeline/output/purple/AQ5188.purple.sv.vcf.gz -o ../output/case2/AQ5188_vs_AQ5176/process_sv/gridds/ -gp ../data/genomic_positions_ensembl.txt.gz -ct ../data/ensembl_canonical_transcripts.tsv -t_id AQ5188 -n_id AQ5176',\n",
       " 'python ../python_scripts/process_gridds.py -i /path/to/hmf_pipeline/output/purple/AQ5180.purple.sv.vcf.gz -o ../output/AQ5180_vs_AQ5174/process_sv/gridds/ -gp ../data/genomic_positions_ensembl.txt.gz -ct ../data/ensembl_canonical_transcripts.tsv -t_id AQ5180 -n_id AQ5174',\n",
       " 'python ../python_scripts/process_gridds.py -i /path/to/hmf_pipeline/output/purple/AQ5186.purple.sv.vcf.gz -o ../output/case3/AQ5186_vs_AQ5174/process_sv/gridds/ -gp ../data/genomic_positions_ensembl.txt.gz -ct ../data/ensembl_canonical_transcripts.tsv -t_id AQ5186 -n_id AQ5174',\n",
       " 'python ../python_scripts/process_gridds.py -i /path/to/hmf_pipeline/output/purple/AW8050.purple.sv.vcf.gz -o ../output/AW8050_vs_AW8061/process_sv/gridds/ -gp ../data/genomic_positions_ensembl.txt.gz -ct ../data/ensembl_canonical_transcripts.tsv -t_id AW8050 -n_id AW8061',\n",
       " 'python ../python_scripts/process_gridds.py -i /path/to/hmf_pipeline/output/purple/AW8051.purple.sv.vcf.gz -o ../output/case4/AW8051_vs_AW8061/process_sv/gridds/ -gp ../data/genomic_positions_ensembl.txt.gz -ct ../data/ensembl_canonical_transcripts.tsv -t_id AW8051 -n_id AW8061']"
      ]
     },
     "execution_count": 21,
     "metadata": {},
     "output_type": "execute_result"
    }
   ],
   "source": [
    "python_file = '../python_scripts/process_gridds.py'\n",
    "genomic_positions = '../data/genomic_positions_ensembl.txt.gz'\n",
    "canonical_transcripts = '../data/ensembl_canonical_transcripts.tsv'\n",
    "\n",
    "commands = []\n",
    "for pt in samples.keys():\n",
    "    #tumor1\n",
    "    tumor = samples[pt]['tumor1']\n",
    "    normal = samples[pt]['normal']\n",
    "    input_vcf = root_in_hmf+'purple/'+tumor+'.purple.sv.vcf.gz'\n",
    "    output_dir = root_out+tumor+'_vs_'+normal+'/process_sv/gridds/'\n",
    "    command = 'python '+python_file+' -i '+input_vcf+' -o '+output_dir+' -gp '+genomic_positions+' -ct '+canonical_transcripts+' -t_id '+tumor+' -n_id '+normal\n",
    "    commands.append(command)\n",
    "    #tumor2\n",
    "    tumor = samples[pt]['tumor2']\n",
    "    input_vcf = root_in_hmf+'purple/'+tumor+'.purple.sv.vcf.gz'\n",
    "    output_dir = root_out+pt+'/'+tumor+'_vs_'+normal+'/process_sv/gridds/'\n",
    "    command = 'python '+python_file+' -i '+input_vcf+' -o '+output_dir+' -gp '+genomic_positions+' -ct '+canonical_transcripts+' -t_id '+tumor+' -n_id '+normal\n",
    "    commands.append(command)\n",
    "commands"
   ]
  },
  {
   "cell_type": "code",
   "execution_count": 22,
   "metadata": {
    "scrolled": true
   },
   "outputs": [
    {
     "data": {
      "text/plain": [
       "['[pre]',\n",
       " '. \"/home/$USER/miniconda3/etc/profile.d/conda.sh\"',\n",
       " 'conda activate process_vc',\n",
       " '[params]',\n",
       " 'cores = 1',\n",
       " 'memory = 8G',\n",
       " '[jobs]',\n",
       " 'python ../python_scripts/process_gridds.py -i /path/to/hmf_pipeline/output/purple/AQ5181.purple.sv.vcf.gz -o ../output/AQ5181_vs_AQ5175/process_sv/gridds/ -gp ../data/genomic_positions_ensembl.txt.gz -ct ../data/ensembl_canonical_transcripts.tsv -t_id AQ5181 -n_id AQ5175',\n",
       " 'python ../python_scripts/process_gridds.py -i /path/to/hmf_pipeline/output/purple/AQ5187.purple.sv.vcf.gz -o ../output/case1/AQ5187_vs_AQ5175/process_sv/gridds/ -gp ../data/genomic_positions_ensembl.txt.gz -ct ../data/ensembl_canonical_transcripts.tsv -t_id AQ5187 -n_id AQ5175',\n",
       " 'python ../python_scripts/process_gridds.py -i /path/to/hmf_pipeline/output/purple/AQ5182.purple.sv.vcf.gz -o ../output/AQ5182_vs_AQ5176/process_sv/gridds/ -gp ../data/genomic_positions_ensembl.txt.gz -ct ../data/ensembl_canonical_transcripts.tsv -t_id AQ5182 -n_id AQ5176',\n",
       " 'python ../python_scripts/process_gridds.py -i /path/to/hmf_pipeline/output/purple/AQ5188.purple.sv.vcf.gz -o ../output/case2/AQ5188_vs_AQ5176/process_sv/gridds/ -gp ../data/genomic_positions_ensembl.txt.gz -ct ../data/ensembl_canonical_transcripts.tsv -t_id AQ5188 -n_id AQ5176',\n",
       " 'python ../python_scripts/process_gridds.py -i /path/to/hmf_pipeline/output/purple/AQ5180.purple.sv.vcf.gz -o ../output/AQ5180_vs_AQ5174/process_sv/gridds/ -gp ../data/genomic_positions_ensembl.txt.gz -ct ../data/ensembl_canonical_transcripts.tsv -t_id AQ5180 -n_id AQ5174',\n",
       " 'python ../python_scripts/process_gridds.py -i /path/to/hmf_pipeline/output/purple/AQ5186.purple.sv.vcf.gz -o ../output/case3/AQ5186_vs_AQ5174/process_sv/gridds/ -gp ../data/genomic_positions_ensembl.txt.gz -ct ../data/ensembl_canonical_transcripts.tsv -t_id AQ5186 -n_id AQ5174',\n",
       " 'python ../python_scripts/process_gridds.py -i /path/to/hmf_pipeline/output/purple/AW8050.purple.sv.vcf.gz -o ../output/AW8050_vs_AW8061/process_sv/gridds/ -gp ../data/genomic_positions_ensembl.txt.gz -ct ../data/ensembl_canonical_transcripts.tsv -t_id AW8050 -n_id AW8061',\n",
       " 'python ../python_scripts/process_gridds.py -i /path/to/hmf_pipeline/output/purple/AW8051.purple.sv.vcf.gz -o ../output/case4/AW8051_vs_AW8061/process_sv/gridds/ -gp ../data/genomic_positions_ensembl.txt.gz -ct ../data/ensembl_canonical_transcripts.tsv -t_id AW8051 -n_id AW8061']"
      ]
     },
     "execution_count": 22,
     "metadata": {},
     "output_type": "execute_result"
    }
   ],
   "source": [
    "qmap_pre_params = ['[pre]','. \"/home/$USER/miniconda3/etc/profile.d/conda.sh\"','conda activate process_vc','[params]','cores = 1','memory = 8G','[jobs]']\n",
    "qmap_file = qmap_pre_params + commands\n",
    "qmap_file"
   ]
  },
  {
   "cell_type": "code",
   "execution_count": 23,
   "metadata": {},
   "outputs": [],
   "source": [
    "#Save qmap file\n",
    "\n",
    "with open('./qmap_files/07_process_gridds.qmap', 'w') as f:\n",
    "    for item in qmap_file:\n",
    "        f.write('%s\\n' % item)"
   ]
  },
  {
   "cell_type": "markdown",
   "metadata": {},
   "source": [
    "## Process cnv vcf from purple"
   ]
  },
  {
   "cell_type": "code",
   "execution_count": 24,
   "metadata": {
    "scrolled": true
   },
   "outputs": [
    {
     "data": {
      "text/plain": [
       "['python ../python_scripts/process_cnv_purple.py -i /path/to/hmf_pipeline/output/purple/AQ5181.purple.cnv.gene.tsv -o ../output/case1/AQ5181_vs_AQ5175/process_cnv/purple/ -t_id AQ5181 -n_id AQ5175',\n",
       " 'python ../python_scripts/process_cnv_purple.py -i /path/to/hmf_pipeline/output/purple/AQ5187.purple.cnv.gene.tsv -o ../output/case1/AQ5187_vs_AQ5175/process_cnv/purple/ -t_id AQ5187 -n_id AQ5175',\n",
       " 'python ../python_scripts/process_cnv_purple.py -i /path/to/hmf_pipeline/output/purple/AQ5182.purple.cnv.gene.tsv -o ../output/case2/AQ5182_vs_AQ5176/process_cnv/purple/ -t_id AQ5182 -n_id AQ5176',\n",
       " 'python ../python_scripts/process_cnv_purple.py -i /path/to/hmf_pipeline/output/purple/AQ5188.purple.cnv.gene.tsv -o ../output/case2/AQ5188_vs_AQ5176/process_cnv/purple/ -t_id AQ5188 -n_id AQ5176',\n",
       " 'python ../python_scripts/process_cnv_purple.py -i /path/to/hmf_pipeline/output/purple/AQ5180.purple.cnv.gene.tsv -o ../output/case3/AQ5180_vs_AQ5174/process_cnv/purple/ -t_id AQ5180 -n_id AQ5174',\n",
       " 'python ../python_scripts/process_cnv_purple.py -i /path/to/hmf_pipeline/output/purple/AQ5186.purple.cnv.gene.tsv -o ../output/case3/AQ5186_vs_AQ5174/process_cnv/purple/ -t_id AQ5186 -n_id AQ5174',\n",
       " 'python ../python_scripts/process_cnv_purple.py -i /path/to/hmf_pipeline/output/purple/AW8050.purple.cnv.gene.tsv -o ../output/case4/AW8050_vs_AW8061/process_cnv/purple/ -t_id AW8050 -n_id AW8061',\n",
       " 'python ../python_scripts/process_cnv_purple.py -i /path/to/hmf_pipeline/output/purple/AW8051.purple.cnv.gene.tsv -o ../output/case4/AW8051_vs_AW8061/process_cnv/purple/ -t_id AW8051 -n_id AW8061']"
      ]
     },
     "execution_count": 24,
     "metadata": {},
     "output_type": "execute_result"
    }
   ],
   "source": [
    "python_file = '../python_scripts/process_cnv_purple.py'\n",
    "\n",
    "commands = []\n",
    "for pt in samples.keys():\n",
    "    #tumor1\n",
    "    tumor = samples[pt]['tumor1']\n",
    "    normal = samples[pt]['normal']\n",
    "    input_tsv = root_in_hmf+'purple/'+tumor+'.purple.cnv.gene.tsv'\n",
    "    output_dir = root_out+pt+'/'+tumor+'_vs_'+normal+'/process_cnv/purple/'\n",
    "    command = 'python '+python_file+' -i '+input_tsv+' -o '+output_dir+' -t_id '+tumor+' -n_id '+normal\n",
    "    commands.append(command)\n",
    "    #tumor2\n",
    "    tumor = samples[pt]['tumor2']\n",
    "    input_tsv = root_in_hmf+'purple/'+tumor+'.purple.cnv.gene.tsv'\n",
    "    output_dir = root_out+pt+'/'+tumor+'_vs_'+normal+'/process_cnv/purple/'\n",
    "    command = 'python '+python_file+' -i '+input_tsv+' -o '+output_dir+' -t_id '+tumor+' -n_id '+normal\n",
    "    commands.append(command)\n",
    "commands"
   ]
  },
  {
   "cell_type": "code",
   "execution_count": 25,
   "metadata": {
    "scrolled": true
   },
   "outputs": [
    {
     "data": {
      "text/plain": [
       "['[pre]',\n",
       " '. \"/home/$USER/miniconda3/etc/profile.d/conda.sh\"',\n",
       " 'conda activate process_vc',\n",
       " '[params]',\n",
       " 'cores = 1',\n",
       " 'memory = 8G',\n",
       " '[jobs]',\n",
       " 'python ../python_scripts/process_cnv_purple.py -i /path/to/hmf_pipeline/output/purple/AQ5181.purple.cnv.gene.tsv -o ../output/case1/AQ5181_vs_AQ5175/process_cnv/purple/ -t_id AQ5181 -n_id AQ5175',\n",
       " 'python ../python_scripts/process_cnv_purple.py -i /path/to/hmf_pipeline/output/purple/AQ5187.purple.cnv.gene.tsv -o ../output/case1/AQ5187_vs_AQ5175/process_cnv/purple/ -t_id AQ5187 -n_id AQ5175',\n",
       " 'python ../python_scripts/process_cnv_purple.py -i /path/to/hmf_pipeline/output/purple/AQ5182.purple.cnv.gene.tsv -o ../output/case2/AQ5182_vs_AQ5176/process_cnv/purple/ -t_id AQ5182 -n_id AQ5176',\n",
       " 'python ../python_scripts/process_cnv_purple.py -i /path/to/hmf_pipeline/output/purple/AQ5188.purple.cnv.gene.tsv -o ../output/case2/AQ5188_vs_AQ5176/process_cnv/purple/ -t_id AQ5188 -n_id AQ5176',\n",
       " 'python ../python_scripts/process_cnv_purple.py -i /path/to/hmf_pipeline/output/purple/AQ5180.purple.cnv.gene.tsv -o ../output/case3/AQ5180_vs_AQ5174/process_cnv/purple/ -t_id AQ5180 -n_id AQ5174',\n",
       " 'python ../python_scripts/process_cnv_purple.py -i /path/to/hmf_pipeline/output/purple/AQ5186.purple.cnv.gene.tsv -o ../output/case3/AQ5186_vs_AQ5174/process_cnv/purple/ -t_id AQ5186 -n_id AQ5174',\n",
       " 'python ../python_scripts/process_cnv_purple.py -i /path/to/hmf_pipeline/output/purple/AW8050.purple.cnv.gene.tsv -o ../output/case4/AW8050_vs_AW8061/process_cnv/purple/ -t_id AW8050 -n_id AW8061',\n",
       " 'python ../python_scripts/process_cnv_purple.py -i /path/to/hmf_pipeline/output/purple/AW8051.purple.cnv.gene.tsv -o ../output/case4/AW8051_vs_AW8061/process_cnv/purple/ -t_id AW8051 -n_id AW8061']"
      ]
     },
     "execution_count": 25,
     "metadata": {},
     "output_type": "execute_result"
    }
   ],
   "source": [
    "qmap_pre_params = ['[pre]','. \"/home/$USER/miniconda3/etc/profile.d/conda.sh\"','conda activate process_vc','[params]','cores = 1','memory = 8G','[jobs]']\n",
    "qmap_file = qmap_pre_params + commands\n",
    "qmap_file"
   ]
  },
  {
   "cell_type": "code",
   "execution_count": 26,
   "metadata": {},
   "outputs": [],
   "source": [
    "#Save qmap file\n",
    "\n",
    "with open('./qmap_files/08_process_cnv_purple.qmap', 'w') as f:\n",
    "    for item in qmap_file:\n",
    "        f.write('%s\\n' % item)"
   ]
  },
  {
   "cell_type": "markdown",
   "metadata": {},
   "source": [
    "# Germline processing"
   ]
  },
  {
   "cell_type": "markdown",
   "metadata": {},
   "source": [
    "## HaplotypeCaller vcf processing"
   ]
  },
  {
   "cell_type": "code",
   "execution_count": 27,
   "metadata": {
    "scrolled": true
   },
   "outputs": [
    {
     "data": {
      "text/plain": [
       "['python ../python_scripts/process_haplotype_caller.py -i /path/to/hmf_pipeline/output/AQ5175/germline_caller/AQ5175.germline.vcf.gz -o ../output/case1/AQ5175/vcf_processing/haplotype_caller/ -n_id AQ5175 -c 24',\n",
       " 'python ../python_scripts/process_haplotype_caller.py -i /path/to/hmf_pipeline/output/AQ5176/germline_caller/AQ5176.germline.vcf.gz -o ../output/case2/AQ5176/vcf_processing/haplotype_caller/ -n_id AQ5176 -c 24',\n",
       " 'python ../python_scripts/process_haplotype_caller.py -i /path/to/hmf_pipeline/output/AQ5174/germline_caller/AQ5174.germline.vcf.gz -o ../output/case3/AQ5174/vcf_processing/haplotype_caller/ -n_id AQ5174 -c 24',\n",
       " 'python ../python_scripts/process_haplotype_caller.py -i /path/to/hmf_pipeline/output/AW8061/germline_caller/AW8061.germline.vcf.gz -o ../output/case4/AW8061/vcf_processing/haplotype_caller/ -n_id AW8061 -c 24']"
      ]
     },
     "execution_count": 27,
     "metadata": {},
     "output_type": "execute_result"
    }
   ],
   "source": [
    "#commands for process vcfs from HMF\n",
    "\n",
    "python_file = '../python_scripts/process_haplotype_caller.py'\n",
    "\n",
    "commands = []\n",
    "\n",
    "#SAGE\n",
    "for pt in samples.keys():\n",
    "    tumor = samples[pt]['tumor1']\n",
    "    normal = samples[pt]['normal']\n",
    "    sample = tumor + '_vs_' + normal\n",
    "    in_file = os.path.join(root_in_hmf,normal,'germline_caller',normal+'.germline.vcf.gz')\n",
    "    out_dir = os.path.join(root_out,pt,normal,'vcf_processing','haplotype_caller'+'/')\n",
    "    command = 'python ' + python_file + ' -i ' + in_file + ' -o ' + out_dir + ' -n_id ' + normal + ' -c 24'\n",
    "    commands.append(command)\n",
    "    \n",
    "commands"
   ]
  },
  {
   "cell_type": "code",
   "execution_count": 28,
   "metadata": {
    "scrolled": true
   },
   "outputs": [
    {
     "data": {
      "text/plain": [
       "['[pre]',\n",
       " '. \"/home/$USER/miniconda3/etc/profile.d/conda.sh\"',\n",
       " 'conda activate process_vc',\n",
       " '[params]',\n",
       " 'cores = 24',\n",
       " 'memory = 100G',\n",
       " '[jobs]',\n",
       " 'python ../python_scripts/process_haplotype_caller.py -i /path/to/hmf_pipeline/output/AQ5175/germline_caller/AQ5175.germline.vcf.gz -o ../output/case1/AQ5175/vcf_processing/haplotype_caller/ -n_id AQ5175 -c 24',\n",
       " 'python ../python_scripts/process_haplotype_caller.py -i /path/to/hmf_pipeline/output/AQ5176/germline_caller/AQ5176.germline.vcf.gz -o ../output/case2/AQ5176/vcf_processing/haplotype_caller/ -n_id AQ5176 -c 24',\n",
       " 'python ../python_scripts/process_haplotype_caller.py -i /path/to/hmf_pipeline/output/AQ5174/germline_caller/AQ5174.germline.vcf.gz -o ../output/case3/AQ5174/vcf_processing/haplotype_caller/ -n_id AQ5174 -c 24',\n",
       " 'python ../python_scripts/process_haplotype_caller.py -i /path/to/hmf_pipeline/output/AW8061/germline_caller/AW8061.germline.vcf.gz -o ../output/case4/AW8061/vcf_processing/haplotype_caller/ -n_id AW8061 -c 24']"
      ]
     },
     "execution_count": 28,
     "metadata": {},
     "output_type": "execute_result"
    }
   ],
   "source": [
    "qmap_pre_params = ['[pre]','. \"/home/$USER/miniconda3/etc/profile.d/conda.sh\"','conda activate process_vc','[params]','cores = 24','memory = 100G','[jobs]']\n",
    "qmap_file = qmap_pre_params + commands\n",
    "qmap_file"
   ]
  },
  {
   "cell_type": "code",
   "execution_count": 29,
   "metadata": {},
   "outputs": [],
   "source": [
    "#Save qmap file\n",
    "\n",
    "with open('./qmap_files/09_haplocall_germline_process.qmap', 'w') as f:\n",
    "    for item in qmap_file:\n",
    "        f.write('%s\\n' % item)"
   ]
  },
  {
   "cell_type": "markdown",
   "metadata": {},
   "source": [
    "## Run vep on HaplotypeCaller"
   ]
  },
  {
   "cell_type": "code",
   "execution_count": 30,
   "metadata": {},
   "outputs": [
    {
     "data": {
      "text/plain": [
       "['vep -i ../output/case1/AQ5175/vcf_processing/haplotype_caller/AQ5175_chr1.maf.gz -o STDOUT -tab --assembly GRCh38 --no_stats --cache --symbol --protein --canonical --offline --af_1kg --dir /path/to/vep  --custom /path/to/gnomad/data/v3.0.0/hg38/gnomad.genomes.r3.0.sites.chr1.vcf.bgz,gnomADg,vcf,exact,0,AF,NFE > ../output/case1/AQ5175/vep_processing/haplotype_caller/AQ5175_chr1_vep.txt',\n",
       " 'vep -i ../output/case1/AQ5175/vcf_processing/haplotype_caller/AQ5175_chr2.maf.gz -o STDOUT -tab --assembly GRCh38 --no_stats --cache --symbol --protein --canonical --offline --af_1kg --dir /path/to/vep  --custom /path/to/gnomad/data/v3.0.0/hg38/gnomad.genomes.r3.0.sites.chr2.vcf.bgz,gnomADg,vcf,exact,0,AF,NFE > ../output/case1/AQ5175/vep_processing/haplotype_caller/AQ5175_chr2_vep.txt',\n",
       " 'vep -i ../output/case1/AQ5175/vcf_processing/haplotype_caller/AQ5175_chr3.maf.gz -o STDOUT -tab --assembly GRCh38 --no_stats --cache --symbol --protein --canonical --offline --af_1kg --dir /path/to/vep  --custom /path/to/gnomad/data/v3.0.0/hg38/gnomad.genomes.r3.0.sites.chr3.vcf.bgz,gnomADg,vcf,exact,0,AF,NFE > ../output/case1/AQ5175/vep_processing/haplotype_caller/AQ5175_chr3_vep.txt',\n",
       " 'vep -i ../output/case1/AQ5175/vcf_processing/haplotype_caller/AQ5175_chr4.maf.gz -o STDOUT -tab --assembly GRCh38 --no_stats --cache --symbol --protein --canonical --offline --af_1kg --dir /path/to/vep  --custom /path/to/gnomad/data/v3.0.0/hg38/gnomad.genomes.r3.0.sites.chr4.vcf.bgz,gnomADg,vcf,exact,0,AF,NFE > ../output/case1/AQ5175/vep_processing/haplotype_caller/AQ5175_chr4_vep.txt',\n",
       " 'vep -i ../output/case1/AQ5175/vcf_processing/haplotype_caller/AQ5175_chr5.maf.gz -o STDOUT -tab --assembly GRCh38 --no_stats --cache --symbol --protein --canonical --offline --af_1kg --dir /path/to/vep  --custom /path/to/gnomad/data/v3.0.0/hg38/gnomad.genomes.r3.0.sites.chr5.vcf.bgz,gnomADg,vcf,exact,0,AF,NFE > ../output/case1/AQ5175/vep_processing/haplotype_caller/AQ5175_chr5_vep.txt',\n",
       " 'vep -i ../output/case1/AQ5175/vcf_processing/haplotype_caller/AQ5175_chr6.maf.gz -o STDOUT -tab --assembly GRCh38 --no_stats --cache --symbol --protein --canonical --offline --af_1kg --dir /path/to/vep  --custom /path/to/gnomad/data/v3.0.0/hg38/gnomad.genomes.r3.0.sites.chr6.vcf.bgz,gnomADg,vcf,exact,0,AF,NFE > ../output/case1/AQ5175/vep_processing/haplotype_caller/AQ5175_chr6_vep.txt',\n",
       " 'vep -i ../output/case1/AQ5175/vcf_processing/haplotype_caller/AQ5175_chr7.maf.gz -o STDOUT -tab --assembly GRCh38 --no_stats --cache --symbol --protein --canonical --offline --af_1kg --dir /path/to/vep  --custom /path/to/gnomad/data/v3.0.0/hg38/gnomad.genomes.r3.0.sites.chr7.vcf.bgz,gnomADg,vcf,exact,0,AF,NFE > ../output/case1/AQ5175/vep_processing/haplotype_caller/AQ5175_chr7_vep.txt',\n",
       " 'vep -i ../output/case1/AQ5175/vcf_processing/haplotype_caller/AQ5175_chr8.maf.gz -o STDOUT -tab --assembly GRCh38 --no_stats --cache --symbol --protein --canonical --offline --af_1kg --dir /path/to/vep  --custom /path/to/gnomad/data/v3.0.0/hg38/gnomad.genomes.r3.0.sites.chr8.vcf.bgz,gnomADg,vcf,exact,0,AF,NFE > ../output/case1/AQ5175/vep_processing/haplotype_caller/AQ5175_chr8_vep.txt',\n",
       " 'vep -i ../output/case1/AQ5175/vcf_processing/haplotype_caller/AQ5175_chr9.maf.gz -o STDOUT -tab --assembly GRCh38 --no_stats --cache --symbol --protein --canonical --offline --af_1kg --dir /path/to/vep  --custom /path/to/gnomad/data/v3.0.0/hg38/gnomad.genomes.r3.0.sites.chr9.vcf.bgz,gnomADg,vcf,exact,0,AF,NFE > ../output/case1/AQ5175/vep_processing/haplotype_caller/AQ5175_chr9_vep.txt',\n",
       " 'vep -i ../output/case1/AQ5175/vcf_processing/haplotype_caller/AQ5175_chr10.maf.gz -o STDOUT -tab --assembly GRCh38 --no_stats --cache --symbol --protein --canonical --offline --af_1kg --dir /path/to/vep  --custom /path/to/gnomad/data/v3.0.0/hg38/gnomad.genomes.r3.0.sites.chr10.vcf.bgz,gnomADg,vcf,exact,0,AF,NFE > ../output/case1/AQ5175/vep_processing/haplotype_caller/AQ5175_chr10_vep.txt',\n",
       " 'vep -i ../output/case1/AQ5175/vcf_processing/haplotype_caller/AQ5175_chr11.maf.gz -o STDOUT -tab --assembly GRCh38 --no_stats --cache --symbol --protein --canonical --offline --af_1kg --dir /path/to/vep  --custom /path/to/gnomad/data/v3.0.0/hg38/gnomad.genomes.r3.0.sites.chr11.vcf.bgz,gnomADg,vcf,exact,0,AF,NFE > ../output/case1/AQ5175/vep_processing/haplotype_caller/AQ5175_chr11_vep.txt',\n",
       " 'vep -i ../output/case1/AQ5175/vcf_processing/haplotype_caller/AQ5175_chr12.maf.gz -o STDOUT -tab --assembly GRCh38 --no_stats --cache --symbol --protein --canonical --offline --af_1kg --dir /path/to/vep  --custom /path/to/gnomad/data/v3.0.0/hg38/gnomad.genomes.r3.0.sites.chr12.vcf.bgz,gnomADg,vcf,exact,0,AF,NFE > ../output/case1/AQ5175/vep_processing/haplotype_caller/AQ5175_chr12_vep.txt',\n",
       " 'vep -i ../output/case1/AQ5175/vcf_processing/haplotype_caller/AQ5175_chr13.maf.gz -o STDOUT -tab --assembly GRCh38 --no_stats --cache --symbol --protein --canonical --offline --af_1kg --dir /path/to/vep  --custom /path/to/gnomad/data/v3.0.0/hg38/gnomad.genomes.r3.0.sites.chr13.vcf.bgz,gnomADg,vcf,exact,0,AF,NFE > ../output/case1/AQ5175/vep_processing/haplotype_caller/AQ5175_chr13_vep.txt',\n",
       " 'vep -i ../output/case1/AQ5175/vcf_processing/haplotype_caller/AQ5175_chr14.maf.gz -o STDOUT -tab --assembly GRCh38 --no_stats --cache --symbol --protein --canonical --offline --af_1kg --dir /path/to/vep  --custom /path/to/gnomad/data/v3.0.0/hg38/gnomad.genomes.r3.0.sites.chr14.vcf.bgz,gnomADg,vcf,exact,0,AF,NFE > ../output/case1/AQ5175/vep_processing/haplotype_caller/AQ5175_chr14_vep.txt',\n",
       " 'vep -i ../output/case1/AQ5175/vcf_processing/haplotype_caller/AQ5175_chr15.maf.gz -o STDOUT -tab --assembly GRCh38 --no_stats --cache --symbol --protein --canonical --offline --af_1kg --dir /path/to/vep  --custom /path/to/gnomad/data/v3.0.0/hg38/gnomad.genomes.r3.0.sites.chr15.vcf.bgz,gnomADg,vcf,exact,0,AF,NFE > ../output/case1/AQ5175/vep_processing/haplotype_caller/AQ5175_chr15_vep.txt',\n",
       " 'vep -i ../output/case1/AQ5175/vcf_processing/haplotype_caller/AQ5175_chr16.maf.gz -o STDOUT -tab --assembly GRCh38 --no_stats --cache --symbol --protein --canonical --offline --af_1kg --dir /path/to/vep  --custom /path/to/gnomad/data/v3.0.0/hg38/gnomad.genomes.r3.0.sites.chr16.vcf.bgz,gnomADg,vcf,exact,0,AF,NFE > ../output/case1/AQ5175/vep_processing/haplotype_caller/AQ5175_chr16_vep.txt',\n",
       " 'vep -i ../output/case1/AQ5175/vcf_processing/haplotype_caller/AQ5175_chr17.maf.gz -o STDOUT -tab --assembly GRCh38 --no_stats --cache --symbol --protein --canonical --offline --af_1kg --dir /path/to/vep  --custom /path/to/gnomad/data/v3.0.0/hg38/gnomad.genomes.r3.0.sites.chr17.vcf.bgz,gnomADg,vcf,exact,0,AF,NFE > ../output/case1/AQ5175/vep_processing/haplotype_caller/AQ5175_chr17_vep.txt',\n",
       " 'vep -i ../output/case1/AQ5175/vcf_processing/haplotype_caller/AQ5175_chr18.maf.gz -o STDOUT -tab --assembly GRCh38 --no_stats --cache --symbol --protein --canonical --offline --af_1kg --dir /path/to/vep  --custom /path/to/gnomad/data/v3.0.0/hg38/gnomad.genomes.r3.0.sites.chr18.vcf.bgz,gnomADg,vcf,exact,0,AF,NFE > ../output/case1/AQ5175/vep_processing/haplotype_caller/AQ5175_chr18_vep.txt',\n",
       " 'vep -i ../output/case1/AQ5175/vcf_processing/haplotype_caller/AQ5175_chr19.maf.gz -o STDOUT -tab --assembly GRCh38 --no_stats --cache --symbol --protein --canonical --offline --af_1kg --dir /path/to/vep  --custom /path/to/gnomad/data/v3.0.0/hg38/gnomad.genomes.r3.0.sites.chr19.vcf.bgz,gnomADg,vcf,exact,0,AF,NFE > ../output/case1/AQ5175/vep_processing/haplotype_caller/AQ5175_chr19_vep.txt',\n",
       " 'vep -i ../output/case1/AQ5175/vcf_processing/haplotype_caller/AQ5175_chr20.maf.gz -o STDOUT -tab --assembly GRCh38 --no_stats --cache --symbol --protein --canonical --offline --af_1kg --dir /path/to/vep  --custom /path/to/gnomad/data/v3.0.0/hg38/gnomad.genomes.r3.0.sites.chr20.vcf.bgz,gnomADg,vcf,exact,0,AF,NFE > ../output/case1/AQ5175/vep_processing/haplotype_caller/AQ5175_chr20_vep.txt',\n",
       " 'vep -i ../output/case1/AQ5175/vcf_processing/haplotype_caller/AQ5175_chr21.maf.gz -o STDOUT -tab --assembly GRCh38 --no_stats --cache --symbol --protein --canonical --offline --af_1kg --dir /path/to/vep  --custom /path/to/gnomad/data/v3.0.0/hg38/gnomad.genomes.r3.0.sites.chr21.vcf.bgz,gnomADg,vcf,exact,0,AF,NFE > ../output/case1/AQ5175/vep_processing/haplotype_caller/AQ5175_chr21_vep.txt',\n",
       " 'vep -i ../output/case1/AQ5175/vcf_processing/haplotype_caller/AQ5175_chr22.maf.gz -o STDOUT -tab --assembly GRCh38 --no_stats --cache --symbol --protein --canonical --offline --af_1kg --dir /path/to/vep  --custom /path/to/gnomad/data/v3.0.0/hg38/gnomad.genomes.r3.0.sites.chr22.vcf.bgz,gnomADg,vcf,exact,0,AF,NFE > ../output/case1/AQ5175/vep_processing/haplotype_caller/AQ5175_chr22_vep.txt',\n",
       " 'vep -i ../output/case1/AQ5175/vcf_processing/haplotype_caller/AQ5175_chrX.maf.gz -o STDOUT -tab --assembly GRCh38 --no_stats --cache --symbol --protein --canonical --offline --af_1kg --dir /path/to/vep  --custom /path/to/gnomad/data/v3.0.0/hg38/gnomad.genomes.r3.0.sites.chrX.vcf.bgz,gnomADg,vcf,exact,0,AF,NFE > ../output/case1/AQ5175/vep_processing/haplotype_caller/AQ5175_chrX_vep.txt',\n",
       " 'vep -i ../output/case1/AQ5175/vcf_processing/haplotype_caller/AQ5175_chrY.maf.gz -o STDOUT -tab --assembly GRCh38 --no_stats --cache --symbol --protein --canonical --offline --af_1kg --dir /path/to/vep  --custom /path/to/gnomad/data/v3.0.0/hg38/gnomad.genomes.r3.0.sites.chrY.vcf.bgz,gnomADg,vcf,exact,0,AF,NFE > ../output/case1/AQ5175/vep_processing/haplotype_caller/AQ5175_chrY_vep.txt',\n",
       " 'vep -i ../output/case2/AQ5176/vcf_processing/haplotype_caller/AQ5176_chr1.maf.gz -o STDOUT -tab --assembly GRCh38 --no_stats --cache --symbol --protein --canonical --offline --af_1kg --dir /path/to/vep  --custom /path/to/gnomad/data/v3.0.0/hg38/gnomad.genomes.r3.0.sites.chr1.vcf.bgz,gnomADg,vcf,exact,0,AF,NFE > ../output/case2/AQ5176/vep_processing/haplotype_caller/AQ5176_chr1_vep.txt',\n",
       " 'vep -i ../output/case2/AQ5176/vcf_processing/haplotype_caller/AQ5176_chr2.maf.gz -o STDOUT -tab --assembly GRCh38 --no_stats --cache --symbol --protein --canonical --offline --af_1kg --dir /path/to/vep  --custom /path/to/gnomad/data/v3.0.0/hg38/gnomad.genomes.r3.0.sites.chr2.vcf.bgz,gnomADg,vcf,exact,0,AF,NFE > ../output/case2/AQ5176/vep_processing/haplotype_caller/AQ5176_chr2_vep.txt',\n",
       " 'vep -i ../output/case2/AQ5176/vcf_processing/haplotype_caller/AQ5176_chr3.maf.gz -o STDOUT -tab --assembly GRCh38 --no_stats --cache --symbol --protein --canonical --offline --af_1kg --dir /path/to/vep  --custom /path/to/gnomad/data/v3.0.0/hg38/gnomad.genomes.r3.0.sites.chr3.vcf.bgz,gnomADg,vcf,exact,0,AF,NFE > ../output/case2/AQ5176/vep_processing/haplotype_caller/AQ5176_chr3_vep.txt',\n",
       " 'vep -i ../output/case2/AQ5176/vcf_processing/haplotype_caller/AQ5176_chr4.maf.gz -o STDOUT -tab --assembly GRCh38 --no_stats --cache --symbol --protein --canonical --offline --af_1kg --dir /path/to/vep  --custom /path/to/gnomad/data/v3.0.0/hg38/gnomad.genomes.r3.0.sites.chr4.vcf.bgz,gnomADg,vcf,exact,0,AF,NFE > ../output/case2/AQ5176/vep_processing/haplotype_caller/AQ5176_chr4_vep.txt',\n",
       " 'vep -i ../output/case2/AQ5176/vcf_processing/haplotype_caller/AQ5176_chr5.maf.gz -o STDOUT -tab --assembly GRCh38 --no_stats --cache --symbol --protein --canonical --offline --af_1kg --dir /path/to/vep  --custom /path/to/gnomad/data/v3.0.0/hg38/gnomad.genomes.r3.0.sites.chr5.vcf.bgz,gnomADg,vcf,exact,0,AF,NFE > ../output/case2/AQ5176/vep_processing/haplotype_caller/AQ5176_chr5_vep.txt',\n",
       " 'vep -i ../output/case2/AQ5176/vcf_processing/haplotype_caller/AQ5176_chr6.maf.gz -o STDOUT -tab --assembly GRCh38 --no_stats --cache --symbol --protein --canonical --offline --af_1kg --dir /path/to/vep  --custom /path/to/gnomad/data/v3.0.0/hg38/gnomad.genomes.r3.0.sites.chr6.vcf.bgz,gnomADg,vcf,exact,0,AF,NFE > ../output/case2/AQ5176/vep_processing/haplotype_caller/AQ5176_chr6_vep.txt',\n",
       " 'vep -i ../output/case2/AQ5176/vcf_processing/haplotype_caller/AQ5176_chr7.maf.gz -o STDOUT -tab --assembly GRCh38 --no_stats --cache --symbol --protein --canonical --offline --af_1kg --dir /path/to/vep  --custom /path/to/gnomad/data/v3.0.0/hg38/gnomad.genomes.r3.0.sites.chr7.vcf.bgz,gnomADg,vcf,exact,0,AF,NFE > ../output/case2/AQ5176/vep_processing/haplotype_caller/AQ5176_chr7_vep.txt',\n",
       " 'vep -i ../output/case2/AQ5176/vcf_processing/haplotype_caller/AQ5176_chr8.maf.gz -o STDOUT -tab --assembly GRCh38 --no_stats --cache --symbol --protein --canonical --offline --af_1kg --dir /path/to/vep  --custom /path/to/gnomad/data/v3.0.0/hg38/gnomad.genomes.r3.0.sites.chr8.vcf.bgz,gnomADg,vcf,exact,0,AF,NFE > ../output/case2/AQ5176/vep_processing/haplotype_caller/AQ5176_chr8_vep.txt',\n",
       " 'vep -i ../output/case2/AQ5176/vcf_processing/haplotype_caller/AQ5176_chr9.maf.gz -o STDOUT -tab --assembly GRCh38 --no_stats --cache --symbol --protein --canonical --offline --af_1kg --dir /path/to/vep  --custom /path/to/gnomad/data/v3.0.0/hg38/gnomad.genomes.r3.0.sites.chr9.vcf.bgz,gnomADg,vcf,exact,0,AF,NFE > ../output/case2/AQ5176/vep_processing/haplotype_caller/AQ5176_chr9_vep.txt',\n",
       " 'vep -i ../output/case2/AQ5176/vcf_processing/haplotype_caller/AQ5176_chr10.maf.gz -o STDOUT -tab --assembly GRCh38 --no_stats --cache --symbol --protein --canonical --offline --af_1kg --dir /path/to/vep  --custom /path/to/gnomad/data/v3.0.0/hg38/gnomad.genomes.r3.0.sites.chr10.vcf.bgz,gnomADg,vcf,exact,0,AF,NFE > ../output/case2/AQ5176/vep_processing/haplotype_caller/AQ5176_chr10_vep.txt',\n",
       " 'vep -i ../output/case2/AQ5176/vcf_processing/haplotype_caller/AQ5176_chr11.maf.gz -o STDOUT -tab --assembly GRCh38 --no_stats --cache --symbol --protein --canonical --offline --af_1kg --dir /path/to/vep  --custom /path/to/gnomad/data/v3.0.0/hg38/gnomad.genomes.r3.0.sites.chr11.vcf.bgz,gnomADg,vcf,exact,0,AF,NFE > ../output/case2/AQ5176/vep_processing/haplotype_caller/AQ5176_chr11_vep.txt',\n",
       " 'vep -i ../output/case2/AQ5176/vcf_processing/haplotype_caller/AQ5176_chr12.maf.gz -o STDOUT -tab --assembly GRCh38 --no_stats --cache --symbol --protein --canonical --offline --af_1kg --dir /path/to/vep  --custom /path/to/gnomad/data/v3.0.0/hg38/gnomad.genomes.r3.0.sites.chr12.vcf.bgz,gnomADg,vcf,exact,0,AF,NFE > ../output/case2/AQ5176/vep_processing/haplotype_caller/AQ5176_chr12_vep.txt',\n",
       " 'vep -i ../output/case2/AQ5176/vcf_processing/haplotype_caller/AQ5176_chr13.maf.gz -o STDOUT -tab --assembly GRCh38 --no_stats --cache --symbol --protein --canonical --offline --af_1kg --dir /path/to/vep  --custom /path/to/gnomad/data/v3.0.0/hg38/gnomad.genomes.r3.0.sites.chr13.vcf.bgz,gnomADg,vcf,exact,0,AF,NFE > ../output/case2/AQ5176/vep_processing/haplotype_caller/AQ5176_chr13_vep.txt',\n",
       " 'vep -i ../output/case2/AQ5176/vcf_processing/haplotype_caller/AQ5176_chr14.maf.gz -o STDOUT -tab --assembly GRCh38 --no_stats --cache --symbol --protein --canonical --offline --af_1kg --dir /path/to/vep  --custom /path/to/gnomad/data/v3.0.0/hg38/gnomad.genomes.r3.0.sites.chr14.vcf.bgz,gnomADg,vcf,exact,0,AF,NFE > ../output/case2/AQ5176/vep_processing/haplotype_caller/AQ5176_chr14_vep.txt',\n",
       " 'vep -i ../output/case2/AQ5176/vcf_processing/haplotype_caller/AQ5176_chr15.maf.gz -o STDOUT -tab --assembly GRCh38 --no_stats --cache --symbol --protein --canonical --offline --af_1kg --dir /path/to/vep  --custom /path/to/gnomad/data/v3.0.0/hg38/gnomad.genomes.r3.0.sites.chr15.vcf.bgz,gnomADg,vcf,exact,0,AF,NFE > ../output/case2/AQ5176/vep_processing/haplotype_caller/AQ5176_chr15_vep.txt',\n",
       " 'vep -i ../output/case2/AQ5176/vcf_processing/haplotype_caller/AQ5176_chr16.maf.gz -o STDOUT -tab --assembly GRCh38 --no_stats --cache --symbol --protein --canonical --offline --af_1kg --dir /path/to/vep  --custom /path/to/gnomad/data/v3.0.0/hg38/gnomad.genomes.r3.0.sites.chr16.vcf.bgz,gnomADg,vcf,exact,0,AF,NFE > ../output/case2/AQ5176/vep_processing/haplotype_caller/AQ5176_chr16_vep.txt',\n",
       " 'vep -i ../output/case2/AQ5176/vcf_processing/haplotype_caller/AQ5176_chr17.maf.gz -o STDOUT -tab --assembly GRCh38 --no_stats --cache --symbol --protein --canonical --offline --af_1kg --dir /path/to/vep  --custom /path/to/gnomad/data/v3.0.0/hg38/gnomad.genomes.r3.0.sites.chr17.vcf.bgz,gnomADg,vcf,exact,0,AF,NFE > ../output/case2/AQ5176/vep_processing/haplotype_caller/AQ5176_chr17_vep.txt',\n",
       " 'vep -i ../output/case2/AQ5176/vcf_processing/haplotype_caller/AQ5176_chr18.maf.gz -o STDOUT -tab --assembly GRCh38 --no_stats --cache --symbol --protein --canonical --offline --af_1kg --dir /path/to/vep  --custom /path/to/gnomad/data/v3.0.0/hg38/gnomad.genomes.r3.0.sites.chr18.vcf.bgz,gnomADg,vcf,exact,0,AF,NFE > ../output/case2/AQ5176/vep_processing/haplotype_caller/AQ5176_chr18_vep.txt',\n",
       " 'vep -i ../output/case2/AQ5176/vcf_processing/haplotype_caller/AQ5176_chr19.maf.gz -o STDOUT -tab --assembly GRCh38 --no_stats --cache --symbol --protein --canonical --offline --af_1kg --dir /path/to/vep  --custom /path/to/gnomad/data/v3.0.0/hg38/gnomad.genomes.r3.0.sites.chr19.vcf.bgz,gnomADg,vcf,exact,0,AF,NFE > ../output/case2/AQ5176/vep_processing/haplotype_caller/AQ5176_chr19_vep.txt',\n",
       " 'vep -i ../output/case2/AQ5176/vcf_processing/haplotype_caller/AQ5176_chr20.maf.gz -o STDOUT -tab --assembly GRCh38 --no_stats --cache --symbol --protein --canonical --offline --af_1kg --dir /path/to/vep  --custom /path/to/gnomad/data/v3.0.0/hg38/gnomad.genomes.r3.0.sites.chr20.vcf.bgz,gnomADg,vcf,exact,0,AF,NFE > ../output/case2/AQ5176/vep_processing/haplotype_caller/AQ5176_chr20_vep.txt',\n",
       " 'vep -i ../output/case2/AQ5176/vcf_processing/haplotype_caller/AQ5176_chr21.maf.gz -o STDOUT -tab --assembly GRCh38 --no_stats --cache --symbol --protein --canonical --offline --af_1kg --dir /path/to/vep  --custom /path/to/gnomad/data/v3.0.0/hg38/gnomad.genomes.r3.0.sites.chr21.vcf.bgz,gnomADg,vcf,exact,0,AF,NFE > ../output/case2/AQ5176/vep_processing/haplotype_caller/AQ5176_chr21_vep.txt',\n",
       " 'vep -i ../output/case2/AQ5176/vcf_processing/haplotype_caller/AQ5176_chr22.maf.gz -o STDOUT -tab --assembly GRCh38 --no_stats --cache --symbol --protein --canonical --offline --af_1kg --dir /path/to/vep  --custom /path/to/gnomad/data/v3.0.0/hg38/gnomad.genomes.r3.0.sites.chr22.vcf.bgz,gnomADg,vcf,exact,0,AF,NFE > ../output/case2/AQ5176/vep_processing/haplotype_caller/AQ5176_chr22_vep.txt',\n",
       " 'vep -i ../output/case2/AQ5176/vcf_processing/haplotype_caller/AQ5176_chrX.maf.gz -o STDOUT -tab --assembly GRCh38 --no_stats --cache --symbol --protein --canonical --offline --af_1kg --dir /path/to/vep  --custom /path/to/gnomad/data/v3.0.0/hg38/gnomad.genomes.r3.0.sites.chrX.vcf.bgz,gnomADg,vcf,exact,0,AF,NFE > ../output/case2/AQ5176/vep_processing/haplotype_caller/AQ5176_chrX_vep.txt',\n",
       " 'vep -i ../output/case2/AQ5176/vcf_processing/haplotype_caller/AQ5176_chrY.maf.gz -o STDOUT -tab --assembly GRCh38 --no_stats --cache --symbol --protein --canonical --offline --af_1kg --dir /path/to/vep  --custom /path/to/gnomad/data/v3.0.0/hg38/gnomad.genomes.r3.0.sites.chrY.vcf.bgz,gnomADg,vcf,exact,0,AF,NFE > ../output/case2/AQ5176/vep_processing/haplotype_caller/AQ5176_chrY_vep.txt',\n",
       " 'vep -i ../output/case3/AQ5174/vcf_processing/haplotype_caller/AQ5174_chr1.maf.gz -o STDOUT -tab --assembly GRCh38 --no_stats --cache --symbol --protein --canonical --offline --af_1kg --dir /path/to/vep  --custom /path/to/gnomad/data/v3.0.0/hg38/gnomad.genomes.r3.0.sites.chr1.vcf.bgz,gnomADg,vcf,exact,0,AF,NFE > ../output/case3/AQ5174/vep_processing/haplotype_caller/AQ5174_chr1_vep.txt',\n",
       " 'vep -i ../output/case3/AQ5174/vcf_processing/haplotype_caller/AQ5174_chr2.maf.gz -o STDOUT -tab --assembly GRCh38 --no_stats --cache --symbol --protein --canonical --offline --af_1kg --dir /path/to/vep  --custom /path/to/gnomad/data/v3.0.0/hg38/gnomad.genomes.r3.0.sites.chr2.vcf.bgz,gnomADg,vcf,exact,0,AF,NFE > ../output/case3/AQ5174/vep_processing/haplotype_caller/AQ5174_chr2_vep.txt',\n",
       " 'vep -i ../output/case3/AQ5174/vcf_processing/haplotype_caller/AQ5174_chr3.maf.gz -o STDOUT -tab --assembly GRCh38 --no_stats --cache --symbol --protein --canonical --offline --af_1kg --dir /path/to/vep  --custom /path/to/gnomad/data/v3.0.0/hg38/gnomad.genomes.r3.0.sites.chr3.vcf.bgz,gnomADg,vcf,exact,0,AF,NFE > ../output/case3/AQ5174/vep_processing/haplotype_caller/AQ5174_chr3_vep.txt',\n",
       " 'vep -i ../output/case3/AQ5174/vcf_processing/haplotype_caller/AQ5174_chr4.maf.gz -o STDOUT -tab --assembly GRCh38 --no_stats --cache --symbol --protein --canonical --offline --af_1kg --dir /path/to/vep  --custom /path/to/gnomad/data/v3.0.0/hg38/gnomad.genomes.r3.0.sites.chr4.vcf.bgz,gnomADg,vcf,exact,0,AF,NFE > ../output/case3/AQ5174/vep_processing/haplotype_caller/AQ5174_chr4_vep.txt',\n",
       " 'vep -i ../output/case3/AQ5174/vcf_processing/haplotype_caller/AQ5174_chr5.maf.gz -o STDOUT -tab --assembly GRCh38 --no_stats --cache --symbol --protein --canonical --offline --af_1kg --dir /path/to/vep  --custom /path/to/gnomad/data/v3.0.0/hg38/gnomad.genomes.r3.0.sites.chr5.vcf.bgz,gnomADg,vcf,exact,0,AF,NFE > ../output/case3/AQ5174/vep_processing/haplotype_caller/AQ5174_chr5_vep.txt',\n",
       " 'vep -i ../output/case3/AQ5174/vcf_processing/haplotype_caller/AQ5174_chr6.maf.gz -o STDOUT -tab --assembly GRCh38 --no_stats --cache --symbol --protein --canonical --offline --af_1kg --dir /path/to/vep  --custom /path/to/gnomad/data/v3.0.0/hg38/gnomad.genomes.r3.0.sites.chr6.vcf.bgz,gnomADg,vcf,exact,0,AF,NFE > ../output/case3/AQ5174/vep_processing/haplotype_caller/AQ5174_chr6_vep.txt',\n",
       " 'vep -i ../output/case3/AQ5174/vcf_processing/haplotype_caller/AQ5174_chr7.maf.gz -o STDOUT -tab --assembly GRCh38 --no_stats --cache --symbol --protein --canonical --offline --af_1kg --dir /path/to/vep  --custom /path/to/gnomad/data/v3.0.0/hg38/gnomad.genomes.r3.0.sites.chr7.vcf.bgz,gnomADg,vcf,exact,0,AF,NFE > ../output/case3/AQ5174/vep_processing/haplotype_caller/AQ5174_chr7_vep.txt',\n",
       " 'vep -i ../output/case3/AQ5174/vcf_processing/haplotype_caller/AQ5174_chr8.maf.gz -o STDOUT -tab --assembly GRCh38 --no_stats --cache --symbol --protein --canonical --offline --af_1kg --dir /path/to/vep  --custom /path/to/gnomad/data/v3.0.0/hg38/gnomad.genomes.r3.0.sites.chr8.vcf.bgz,gnomADg,vcf,exact,0,AF,NFE > ../output/case3/AQ5174/vep_processing/haplotype_caller/AQ5174_chr8_vep.txt',\n",
       " 'vep -i ../output/case3/AQ5174/vcf_processing/haplotype_caller/AQ5174_chr9.maf.gz -o STDOUT -tab --assembly GRCh38 --no_stats --cache --symbol --protein --canonical --offline --af_1kg --dir /path/to/vep  --custom /path/to/gnomad/data/v3.0.0/hg38/gnomad.genomes.r3.0.sites.chr9.vcf.bgz,gnomADg,vcf,exact,0,AF,NFE > ../output/case3/AQ5174/vep_processing/haplotype_caller/AQ5174_chr9_vep.txt',\n",
       " 'vep -i ../output/case3/AQ5174/vcf_processing/haplotype_caller/AQ5174_chr10.maf.gz -o STDOUT -tab --assembly GRCh38 --no_stats --cache --symbol --protein --canonical --offline --af_1kg --dir /path/to/vep  --custom /path/to/gnomad/data/v3.0.0/hg38/gnomad.genomes.r3.0.sites.chr10.vcf.bgz,gnomADg,vcf,exact,0,AF,NFE > ../output/case3/AQ5174/vep_processing/haplotype_caller/AQ5174_chr10_vep.txt',\n",
       " 'vep -i ../output/case3/AQ5174/vcf_processing/haplotype_caller/AQ5174_chr11.maf.gz -o STDOUT -tab --assembly GRCh38 --no_stats --cache --symbol --protein --canonical --offline --af_1kg --dir /path/to/vep  --custom /path/to/gnomad/data/v3.0.0/hg38/gnomad.genomes.r3.0.sites.chr11.vcf.bgz,gnomADg,vcf,exact,0,AF,NFE > ../output/case3/AQ5174/vep_processing/haplotype_caller/AQ5174_chr11_vep.txt',\n",
       " 'vep -i ../output/case3/AQ5174/vcf_processing/haplotype_caller/AQ5174_chr12.maf.gz -o STDOUT -tab --assembly GRCh38 --no_stats --cache --symbol --protein --canonical --offline --af_1kg --dir /path/to/vep  --custom /path/to/gnomad/data/v3.0.0/hg38/gnomad.genomes.r3.0.sites.chr12.vcf.bgz,gnomADg,vcf,exact,0,AF,NFE > ../output/case3/AQ5174/vep_processing/haplotype_caller/AQ5174_chr12_vep.txt',\n",
       " 'vep -i ../output/case3/AQ5174/vcf_processing/haplotype_caller/AQ5174_chr13.maf.gz -o STDOUT -tab --assembly GRCh38 --no_stats --cache --symbol --protein --canonical --offline --af_1kg --dir /path/to/vep  --custom /path/to/gnomad/data/v3.0.0/hg38/gnomad.genomes.r3.0.sites.chr13.vcf.bgz,gnomADg,vcf,exact,0,AF,NFE > ../output/case3/AQ5174/vep_processing/haplotype_caller/AQ5174_chr13_vep.txt',\n",
       " 'vep -i ../output/case3/AQ5174/vcf_processing/haplotype_caller/AQ5174_chr14.maf.gz -o STDOUT -tab --assembly GRCh38 --no_stats --cache --symbol --protein --canonical --offline --af_1kg --dir /path/to/vep  --custom /path/to/gnomad/data/v3.0.0/hg38/gnomad.genomes.r3.0.sites.chr14.vcf.bgz,gnomADg,vcf,exact,0,AF,NFE > ../output/case3/AQ5174/vep_processing/haplotype_caller/AQ5174_chr14_vep.txt',\n",
       " 'vep -i ../output/case3/AQ5174/vcf_processing/haplotype_caller/AQ5174_chr15.maf.gz -o STDOUT -tab --assembly GRCh38 --no_stats --cache --symbol --protein --canonical --offline --af_1kg --dir /path/to/vep  --custom /path/to/gnomad/data/v3.0.0/hg38/gnomad.genomes.r3.0.sites.chr15.vcf.bgz,gnomADg,vcf,exact,0,AF,NFE > ../output/case3/AQ5174/vep_processing/haplotype_caller/AQ5174_chr15_vep.txt',\n",
       " 'vep -i ../output/case3/AQ5174/vcf_processing/haplotype_caller/AQ5174_chr16.maf.gz -o STDOUT -tab --assembly GRCh38 --no_stats --cache --symbol --protein --canonical --offline --af_1kg --dir /path/to/vep  --custom /path/to/gnomad/data/v3.0.0/hg38/gnomad.genomes.r3.0.sites.chr16.vcf.bgz,gnomADg,vcf,exact,0,AF,NFE > ../output/case3/AQ5174/vep_processing/haplotype_caller/AQ5174_chr16_vep.txt',\n",
       " 'vep -i ../output/case3/AQ5174/vcf_processing/haplotype_caller/AQ5174_chr17.maf.gz -o STDOUT -tab --assembly GRCh38 --no_stats --cache --symbol --protein --canonical --offline --af_1kg --dir /path/to/vep  --custom /path/to/gnomad/data/v3.0.0/hg38/gnomad.genomes.r3.0.sites.chr17.vcf.bgz,gnomADg,vcf,exact,0,AF,NFE > ../output/case3/AQ5174/vep_processing/haplotype_caller/AQ5174_chr17_vep.txt',\n",
       " 'vep -i ../output/case3/AQ5174/vcf_processing/haplotype_caller/AQ5174_chr18.maf.gz -o STDOUT -tab --assembly GRCh38 --no_stats --cache --symbol --protein --canonical --offline --af_1kg --dir /path/to/vep  --custom /path/to/gnomad/data/v3.0.0/hg38/gnomad.genomes.r3.0.sites.chr18.vcf.bgz,gnomADg,vcf,exact,0,AF,NFE > ../output/case3/AQ5174/vep_processing/haplotype_caller/AQ5174_chr18_vep.txt',\n",
       " 'vep -i ../output/case3/AQ5174/vcf_processing/haplotype_caller/AQ5174_chr19.maf.gz -o STDOUT -tab --assembly GRCh38 --no_stats --cache --symbol --protein --canonical --offline --af_1kg --dir /path/to/vep  --custom /path/to/gnomad/data/v3.0.0/hg38/gnomad.genomes.r3.0.sites.chr19.vcf.bgz,gnomADg,vcf,exact,0,AF,NFE > ../output/case3/AQ5174/vep_processing/haplotype_caller/AQ5174_chr19_vep.txt',\n",
       " 'vep -i ../output/case3/AQ5174/vcf_processing/haplotype_caller/AQ5174_chr20.maf.gz -o STDOUT -tab --assembly GRCh38 --no_stats --cache --symbol --protein --canonical --offline --af_1kg --dir /path/to/vep  --custom /path/to/gnomad/data/v3.0.0/hg38/gnomad.genomes.r3.0.sites.chr20.vcf.bgz,gnomADg,vcf,exact,0,AF,NFE > ../output/case3/AQ5174/vep_processing/haplotype_caller/AQ5174_chr20_vep.txt',\n",
       " 'vep -i ../output/case3/AQ5174/vcf_processing/haplotype_caller/AQ5174_chr21.maf.gz -o STDOUT -tab --assembly GRCh38 --no_stats --cache --symbol --protein --canonical --offline --af_1kg --dir /path/to/vep  --custom /path/to/gnomad/data/v3.0.0/hg38/gnomad.genomes.r3.0.sites.chr21.vcf.bgz,gnomADg,vcf,exact,0,AF,NFE > ../output/case3/AQ5174/vep_processing/haplotype_caller/AQ5174_chr21_vep.txt',\n",
       " 'vep -i ../output/case3/AQ5174/vcf_processing/haplotype_caller/AQ5174_chr22.maf.gz -o STDOUT -tab --assembly GRCh38 --no_stats --cache --symbol --protein --canonical --offline --af_1kg --dir /path/to/vep  --custom /path/to/gnomad/data/v3.0.0/hg38/gnomad.genomes.r3.0.sites.chr22.vcf.bgz,gnomADg,vcf,exact,0,AF,NFE > ../output/case3/AQ5174/vep_processing/haplotype_caller/AQ5174_chr22_vep.txt',\n",
       " 'vep -i ../output/case3/AQ5174/vcf_processing/haplotype_caller/AQ5174_chrX.maf.gz -o STDOUT -tab --assembly GRCh38 --no_stats --cache --symbol --protein --canonical --offline --af_1kg --dir /path/to/vep  --custom /path/to/gnomad/data/v3.0.0/hg38/gnomad.genomes.r3.0.sites.chrX.vcf.bgz,gnomADg,vcf,exact,0,AF,NFE > ../output/case3/AQ5174/vep_processing/haplotype_caller/AQ5174_chrX_vep.txt',\n",
       " 'vep -i ../output/case3/AQ5174/vcf_processing/haplotype_caller/AQ5174_chrY.maf.gz -o STDOUT -tab --assembly GRCh38 --no_stats --cache --symbol --protein --canonical --offline --af_1kg --dir /path/to/vep  --custom /path/to/gnomad/data/v3.0.0/hg38/gnomad.genomes.r3.0.sites.chrY.vcf.bgz,gnomADg,vcf,exact,0,AF,NFE > ../output/case3/AQ5174/vep_processing/haplotype_caller/AQ5174_chrY_vep.txt',\n",
       " 'vep -i ../output/case4/AW8061/vcf_processing/haplotype_caller/AW8061_chr1.maf.gz -o STDOUT -tab --assembly GRCh38 --no_stats --cache --symbol --protein --canonical --offline --af_1kg --dir /path/to/vep  --custom /path/to/gnomad/data/v3.0.0/hg38/gnomad.genomes.r3.0.sites.chr1.vcf.bgz,gnomADg,vcf,exact,0,AF,NFE > ../output/case4/AW8061/vep_processing/haplotype_caller/AW8061_chr1_vep.txt',\n",
       " 'vep -i ../output/case4/AW8061/vcf_processing/haplotype_caller/AW8061_chr2.maf.gz -o STDOUT -tab --assembly GRCh38 --no_stats --cache --symbol --protein --canonical --offline --af_1kg --dir /path/to/vep  --custom /path/to/gnomad/data/v3.0.0/hg38/gnomad.genomes.r3.0.sites.chr2.vcf.bgz,gnomADg,vcf,exact,0,AF,NFE > ../output/case4/AW8061/vep_processing/haplotype_caller/AW8061_chr2_vep.txt',\n",
       " 'vep -i ../output/case4/AW8061/vcf_processing/haplotype_caller/AW8061_chr3.maf.gz -o STDOUT -tab --assembly GRCh38 --no_stats --cache --symbol --protein --canonical --offline --af_1kg --dir /path/to/vep  --custom /path/to/gnomad/data/v3.0.0/hg38/gnomad.genomes.r3.0.sites.chr3.vcf.bgz,gnomADg,vcf,exact,0,AF,NFE > ../output/case4/AW8061/vep_processing/haplotype_caller/AW8061_chr3_vep.txt',\n",
       " 'vep -i ../output/case4/AW8061/vcf_processing/haplotype_caller/AW8061_chr4.maf.gz -o STDOUT -tab --assembly GRCh38 --no_stats --cache --symbol --protein --canonical --offline --af_1kg --dir /path/to/vep  --custom /path/to/gnomad/data/v3.0.0/hg38/gnomad.genomes.r3.0.sites.chr4.vcf.bgz,gnomADg,vcf,exact,0,AF,NFE > ../output/case4/AW8061/vep_processing/haplotype_caller/AW8061_chr4_vep.txt',\n",
       " 'vep -i ../output/case4/AW8061/vcf_processing/haplotype_caller/AW8061_chr5.maf.gz -o STDOUT -tab --assembly GRCh38 --no_stats --cache --symbol --protein --canonical --offline --af_1kg --dir /path/to/vep  --custom /path/to/gnomad/data/v3.0.0/hg38/gnomad.genomes.r3.0.sites.chr5.vcf.bgz,gnomADg,vcf,exact,0,AF,NFE > ../output/case4/AW8061/vep_processing/haplotype_caller/AW8061_chr5_vep.txt',\n",
       " 'vep -i ../output/case4/AW8061/vcf_processing/haplotype_caller/AW8061_chr6.maf.gz -o STDOUT -tab --assembly GRCh38 --no_stats --cache --symbol --protein --canonical --offline --af_1kg --dir /path/to/vep  --custom /path/to/gnomad/data/v3.0.0/hg38/gnomad.genomes.r3.0.sites.chr6.vcf.bgz,gnomADg,vcf,exact,0,AF,NFE > ../output/case4/AW8061/vep_processing/haplotype_caller/AW8061_chr6_vep.txt',\n",
       " 'vep -i ../output/case4/AW8061/vcf_processing/haplotype_caller/AW8061_chr7.maf.gz -o STDOUT -tab --assembly GRCh38 --no_stats --cache --symbol --protein --canonical --offline --af_1kg --dir /path/to/vep  --custom /path/to/gnomad/data/v3.0.0/hg38/gnomad.genomes.r3.0.sites.chr7.vcf.bgz,gnomADg,vcf,exact,0,AF,NFE > ../output/case4/AW8061/vep_processing/haplotype_caller/AW8061_chr7_vep.txt',\n",
       " 'vep -i ../output/case4/AW8061/vcf_processing/haplotype_caller/AW8061_chr8.maf.gz -o STDOUT -tab --assembly GRCh38 --no_stats --cache --symbol --protein --canonical --offline --af_1kg --dir /path/to/vep  --custom /path/to/gnomad/data/v3.0.0/hg38/gnomad.genomes.r3.0.sites.chr8.vcf.bgz,gnomADg,vcf,exact,0,AF,NFE > ../output/case4/AW8061/vep_processing/haplotype_caller/AW8061_chr8_vep.txt',\n",
       " 'vep -i ../output/case4/AW8061/vcf_processing/haplotype_caller/AW8061_chr9.maf.gz -o STDOUT -tab --assembly GRCh38 --no_stats --cache --symbol --protein --canonical --offline --af_1kg --dir /path/to/vep  --custom /path/to/gnomad/data/v3.0.0/hg38/gnomad.genomes.r3.0.sites.chr9.vcf.bgz,gnomADg,vcf,exact,0,AF,NFE > ../output/case4/AW8061/vep_processing/haplotype_caller/AW8061_chr9_vep.txt',\n",
       " 'vep -i ../output/case4/AW8061/vcf_processing/haplotype_caller/AW8061_chr10.maf.gz -o STDOUT -tab --assembly GRCh38 --no_stats --cache --symbol --protein --canonical --offline --af_1kg --dir /path/to/vep  --custom /path/to/gnomad/data/v3.0.0/hg38/gnomad.genomes.r3.0.sites.chr10.vcf.bgz,gnomADg,vcf,exact,0,AF,NFE > ../output/case4/AW8061/vep_processing/haplotype_caller/AW8061_chr10_vep.txt',\n",
       " 'vep -i ../output/case4/AW8061/vcf_processing/haplotype_caller/AW8061_chr11.maf.gz -o STDOUT -tab --assembly GRCh38 --no_stats --cache --symbol --protein --canonical --offline --af_1kg --dir /path/to/vep  --custom /path/to/gnomad/data/v3.0.0/hg38/gnomad.genomes.r3.0.sites.chr11.vcf.bgz,gnomADg,vcf,exact,0,AF,NFE > ../output/case4/AW8061/vep_processing/haplotype_caller/AW8061_chr11_vep.txt',\n",
       " 'vep -i ../output/case4/AW8061/vcf_processing/haplotype_caller/AW8061_chr12.maf.gz -o STDOUT -tab --assembly GRCh38 --no_stats --cache --symbol --protein --canonical --offline --af_1kg --dir /path/to/vep  --custom /path/to/gnomad/data/v3.0.0/hg38/gnomad.genomes.r3.0.sites.chr12.vcf.bgz,gnomADg,vcf,exact,0,AF,NFE > ../output/case4/AW8061/vep_processing/haplotype_caller/AW8061_chr12_vep.txt',\n",
       " 'vep -i ../output/case4/AW8061/vcf_processing/haplotype_caller/AW8061_chr13.maf.gz -o STDOUT -tab --assembly GRCh38 --no_stats --cache --symbol --protein --canonical --offline --af_1kg --dir /path/to/vep  --custom /path/to/gnomad/data/v3.0.0/hg38/gnomad.genomes.r3.0.sites.chr13.vcf.bgz,gnomADg,vcf,exact,0,AF,NFE > ../output/case4/AW8061/vep_processing/haplotype_caller/AW8061_chr13_vep.txt',\n",
       " 'vep -i ../output/case4/AW8061/vcf_processing/haplotype_caller/AW8061_chr14.maf.gz -o STDOUT -tab --assembly GRCh38 --no_stats --cache --symbol --protein --canonical --offline --af_1kg --dir /path/to/vep  --custom /path/to/gnomad/data/v3.0.0/hg38/gnomad.genomes.r3.0.sites.chr14.vcf.bgz,gnomADg,vcf,exact,0,AF,NFE > ../output/case4/AW8061/vep_processing/haplotype_caller/AW8061_chr14_vep.txt',\n",
       " 'vep -i ../output/case4/AW8061/vcf_processing/haplotype_caller/AW8061_chr15.maf.gz -o STDOUT -tab --assembly GRCh38 --no_stats --cache --symbol --protein --canonical --offline --af_1kg --dir /path/to/vep  --custom /path/to/gnomad/data/v3.0.0/hg38/gnomad.genomes.r3.0.sites.chr15.vcf.bgz,gnomADg,vcf,exact,0,AF,NFE > ../output/case4/AW8061/vep_processing/haplotype_caller/AW8061_chr15_vep.txt',\n",
       " 'vep -i ../output/case4/AW8061/vcf_processing/haplotype_caller/AW8061_chr16.maf.gz -o STDOUT -tab --assembly GRCh38 --no_stats --cache --symbol --protein --canonical --offline --af_1kg --dir /path/to/vep  --custom /path/to/gnomad/data/v3.0.0/hg38/gnomad.genomes.r3.0.sites.chr16.vcf.bgz,gnomADg,vcf,exact,0,AF,NFE > ../output/case4/AW8061/vep_processing/haplotype_caller/AW8061_chr16_vep.txt',\n",
       " 'vep -i ../output/case4/AW8061/vcf_processing/haplotype_caller/AW8061_chr17.maf.gz -o STDOUT -tab --assembly GRCh38 --no_stats --cache --symbol --protein --canonical --offline --af_1kg --dir /path/to/vep  --custom /path/to/gnomad/data/v3.0.0/hg38/gnomad.genomes.r3.0.sites.chr17.vcf.bgz,gnomADg,vcf,exact,0,AF,NFE > ../output/case4/AW8061/vep_processing/haplotype_caller/AW8061_chr17_vep.txt',\n",
       " 'vep -i ../output/case4/AW8061/vcf_processing/haplotype_caller/AW8061_chr18.maf.gz -o STDOUT -tab --assembly GRCh38 --no_stats --cache --symbol --protein --canonical --offline --af_1kg --dir /path/to/vep  --custom /path/to/gnomad/data/v3.0.0/hg38/gnomad.genomes.r3.0.sites.chr18.vcf.bgz,gnomADg,vcf,exact,0,AF,NFE > ../output/case4/AW8061/vep_processing/haplotype_caller/AW8061_chr18_vep.txt',\n",
       " 'vep -i ../output/case4/AW8061/vcf_processing/haplotype_caller/AW8061_chr19.maf.gz -o STDOUT -tab --assembly GRCh38 --no_stats --cache --symbol --protein --canonical --offline --af_1kg --dir /path/to/vep  --custom /path/to/gnomad/data/v3.0.0/hg38/gnomad.genomes.r3.0.sites.chr19.vcf.bgz,gnomADg,vcf,exact,0,AF,NFE > ../output/case4/AW8061/vep_processing/haplotype_caller/AW8061_chr19_vep.txt',\n",
       " 'vep -i ../output/case4/AW8061/vcf_processing/haplotype_caller/AW8061_chr20.maf.gz -o STDOUT -tab --assembly GRCh38 --no_stats --cache --symbol --protein --canonical --offline --af_1kg --dir /path/to/vep  --custom /path/to/gnomad/data/v3.0.0/hg38/gnomad.genomes.r3.0.sites.chr20.vcf.bgz,gnomADg,vcf,exact,0,AF,NFE > ../output/case4/AW8061/vep_processing/haplotype_caller/AW8061_chr20_vep.txt',\n",
       " 'vep -i ../output/case4/AW8061/vcf_processing/haplotype_caller/AW8061_chr21.maf.gz -o STDOUT -tab --assembly GRCh38 --no_stats --cache --symbol --protein --canonical --offline --af_1kg --dir /path/to/vep  --custom /path/to/gnomad/data/v3.0.0/hg38/gnomad.genomes.r3.0.sites.chr21.vcf.bgz,gnomADg,vcf,exact,0,AF,NFE > ../output/case4/AW8061/vep_processing/haplotype_caller/AW8061_chr21_vep.txt',\n",
       " 'vep -i ../output/case4/AW8061/vcf_processing/haplotype_caller/AW8061_chr22.maf.gz -o STDOUT -tab --assembly GRCh38 --no_stats --cache --symbol --protein --canonical --offline --af_1kg --dir /path/to/vep  --custom /path/to/gnomad/data/v3.0.0/hg38/gnomad.genomes.r3.0.sites.chr22.vcf.bgz,gnomADg,vcf,exact,0,AF,NFE > ../output/case4/AW8061/vep_processing/haplotype_caller/AW8061_chr22_vep.txt',\n",
       " 'vep -i ../output/case4/AW8061/vcf_processing/haplotype_caller/AW8061_chrX.maf.gz -o STDOUT -tab --assembly GRCh38 --no_stats --cache --symbol --protein --canonical --offline --af_1kg --dir /path/to/vep  --custom /path/to/gnomad/data/v3.0.0/hg38/gnomad.genomes.r3.0.sites.chrX.vcf.bgz,gnomADg,vcf,exact,0,AF,NFE > ../output/case4/AW8061/vep_processing/haplotype_caller/AW8061_chrX_vep.txt',\n",
       " 'vep -i ../output/case4/AW8061/vcf_processing/haplotype_caller/AW8061_chrY.maf.gz -o STDOUT -tab --assembly GRCh38 --no_stats --cache --symbol --protein --canonical --offline --af_1kg --dir /path/to/vep  --custom /path/to/gnomad/data/v3.0.0/hg38/gnomad.genomes.r3.0.sites.chrY.vcf.bgz,gnomADg,vcf,exact,0,AF,NFE > ../output/case4/AW8061/vep_processing/haplotype_caller/AW8061_chrY_vep.txt']"
      ]
     },
     "execution_count": 30,
     "metadata": {},
     "output_type": "execute_result"
    }
   ],
   "source": [
    "#run vep command\n",
    "\n",
    "vep_commands = []\n",
    "for pt in samples.keys():\n",
    "    tumor1 = samples[pt]['tumor1']\n",
    "    normal = samples[pt]['normal']\n",
    "    for chrom in chroms:\n",
    "        pt_url = os.path.join(root_out,pt,normal,'vcf_processing','haplotype_caller',normal + '_' + chrom + '.maf.gz')\n",
    "        chr_file = 'gnomad.genomes.r3.0.sites.'+chrom+'.vcf.bgz'\n",
    "        gnomad_chr_file = os.path.join(gnomad_url,chr_file)\n",
    "        out_file = pt_url.replace('vcf_processing/haplotype_caller/', 'vep_processing/haplotype_caller/')\n",
    "        out_file = out_file.replace('.maf.gz', '_vep.txt')\n",
    "        vep_command = 'vep -i '+ pt_url + ' -o STDOUT -tab --assembly GRCh38 --no_stats --cache --symbol --protein --canonical --offline --af_1kg --dir /path/to/vep  --custom ' + gnomad_chr_file + ',gnomADg,vcf,exact,0,AF,NFE > ' + out_file\n",
    "        vep_commands.append(vep_command)\n",
    "        \n",
    "vep_commands"
   ]
  },
  {
   "cell_type": "code",
   "execution_count": 31,
   "metadata": {},
   "outputs": [
    {
     "data": {
      "text/plain": [
       "['[pre]',\n",
       " '. \"/home/$USER/miniconda3/etc/profile.d/conda.sh\"',\n",
       " 'conda activate vep101',\n",
       " '[params]',\n",
       " 'cores = 1',\n",
       " 'memory = 8G',\n",
       " '[jobs]',\n",
       " 'vep -i ../output/case1/AQ5175/vcf_processing/haplotype_caller/AQ5175_chr1.maf.gz -o STDOUT -tab --assembly GRCh38 --no_stats --cache --symbol --protein --canonical --offline --af_1kg --dir /path/to/vep  --custom /path/to/gnomad/data/v3.0.0/hg38/gnomad.genomes.r3.0.sites.chr1.vcf.bgz,gnomADg,vcf,exact,0,AF,NFE > ../output/case1/AQ5175/vep_processing/haplotype_caller/AQ5175_chr1_vep.txt',\n",
       " 'vep -i ../output/case1/AQ5175/vcf_processing/haplotype_caller/AQ5175_chr2.maf.gz -o STDOUT -tab --assembly GRCh38 --no_stats --cache --symbol --protein --canonical --offline --af_1kg --dir /path/to/vep  --custom /path/to/gnomad/data/v3.0.0/hg38/gnomad.genomes.r3.0.sites.chr2.vcf.bgz,gnomADg,vcf,exact,0,AF,NFE > ../output/case1/AQ5175/vep_processing/haplotype_caller/AQ5175_chr2_vep.txt',\n",
       " 'vep -i ../output/case1/AQ5175/vcf_processing/haplotype_caller/AQ5175_chr3.maf.gz -o STDOUT -tab --assembly GRCh38 --no_stats --cache --symbol --protein --canonical --offline --af_1kg --dir /path/to/vep  --custom /path/to/gnomad/data/v3.0.0/hg38/gnomad.genomes.r3.0.sites.chr3.vcf.bgz,gnomADg,vcf,exact,0,AF,NFE > ../output/case1/AQ5175/vep_processing/haplotype_caller/AQ5175_chr3_vep.txt',\n",
       " 'vep -i ../output/case1/AQ5175/vcf_processing/haplotype_caller/AQ5175_chr4.maf.gz -o STDOUT -tab --assembly GRCh38 --no_stats --cache --symbol --protein --canonical --offline --af_1kg --dir /path/to/vep  --custom /path/to/gnomad/data/v3.0.0/hg38/gnomad.genomes.r3.0.sites.chr4.vcf.bgz,gnomADg,vcf,exact,0,AF,NFE > ../output/case1/AQ5175/vep_processing/haplotype_caller/AQ5175_chr4_vep.txt',\n",
       " 'vep -i ../output/case1/AQ5175/vcf_processing/haplotype_caller/AQ5175_chr5.maf.gz -o STDOUT -tab --assembly GRCh38 --no_stats --cache --symbol --protein --canonical --offline --af_1kg --dir /path/to/vep  --custom /path/to/gnomad/data/v3.0.0/hg38/gnomad.genomes.r3.0.sites.chr5.vcf.bgz,gnomADg,vcf,exact,0,AF,NFE > ../output/case1/AQ5175/vep_processing/haplotype_caller/AQ5175_chr5_vep.txt',\n",
       " 'vep -i ../output/case1/AQ5175/vcf_processing/haplotype_caller/AQ5175_chr6.maf.gz -o STDOUT -tab --assembly GRCh38 --no_stats --cache --symbol --protein --canonical --offline --af_1kg --dir /path/to/vep  --custom /path/to/gnomad/data/v3.0.0/hg38/gnomad.genomes.r3.0.sites.chr6.vcf.bgz,gnomADg,vcf,exact,0,AF,NFE > ../output/case1/AQ5175/vep_processing/haplotype_caller/AQ5175_chr6_vep.txt',\n",
       " 'vep -i ../output/case1/AQ5175/vcf_processing/haplotype_caller/AQ5175_chr7.maf.gz -o STDOUT -tab --assembly GRCh38 --no_stats --cache --symbol --protein --canonical --offline --af_1kg --dir /path/to/vep  --custom /path/to/gnomad/data/v3.0.0/hg38/gnomad.genomes.r3.0.sites.chr7.vcf.bgz,gnomADg,vcf,exact,0,AF,NFE > ../output/case1/AQ5175/vep_processing/haplotype_caller/AQ5175_chr7_vep.txt',\n",
       " 'vep -i ../output/case1/AQ5175/vcf_processing/haplotype_caller/AQ5175_chr8.maf.gz -o STDOUT -tab --assembly GRCh38 --no_stats --cache --symbol --protein --canonical --offline --af_1kg --dir /path/to/vep  --custom /path/to/gnomad/data/v3.0.0/hg38/gnomad.genomes.r3.0.sites.chr8.vcf.bgz,gnomADg,vcf,exact,0,AF,NFE > ../output/case1/AQ5175/vep_processing/haplotype_caller/AQ5175_chr8_vep.txt',\n",
       " 'vep -i ../output/case1/AQ5175/vcf_processing/haplotype_caller/AQ5175_chr9.maf.gz -o STDOUT -tab --assembly GRCh38 --no_stats --cache --symbol --protein --canonical --offline --af_1kg --dir /path/to/vep  --custom /path/to/gnomad/data/v3.0.0/hg38/gnomad.genomes.r3.0.sites.chr9.vcf.bgz,gnomADg,vcf,exact,0,AF,NFE > ../output/case1/AQ5175/vep_processing/haplotype_caller/AQ5175_chr9_vep.txt',\n",
       " 'vep -i ../output/case1/AQ5175/vcf_processing/haplotype_caller/AQ5175_chr10.maf.gz -o STDOUT -tab --assembly GRCh38 --no_stats --cache --symbol --protein --canonical --offline --af_1kg --dir /path/to/vep  --custom /path/to/gnomad/data/v3.0.0/hg38/gnomad.genomes.r3.0.sites.chr10.vcf.bgz,gnomADg,vcf,exact,0,AF,NFE > ../output/case1/AQ5175/vep_processing/haplotype_caller/AQ5175_chr10_vep.txt',\n",
       " 'vep -i ../output/case1/AQ5175/vcf_processing/haplotype_caller/AQ5175_chr11.maf.gz -o STDOUT -tab --assembly GRCh38 --no_stats --cache --symbol --protein --canonical --offline --af_1kg --dir /path/to/vep  --custom /path/to/gnomad/data/v3.0.0/hg38/gnomad.genomes.r3.0.sites.chr11.vcf.bgz,gnomADg,vcf,exact,0,AF,NFE > ../output/case1/AQ5175/vep_processing/haplotype_caller/AQ5175_chr11_vep.txt',\n",
       " 'vep -i ../output/case1/AQ5175/vcf_processing/haplotype_caller/AQ5175_chr12.maf.gz -o STDOUT -tab --assembly GRCh38 --no_stats --cache --symbol --protein --canonical --offline --af_1kg --dir /path/to/vep  --custom /path/to/gnomad/data/v3.0.0/hg38/gnomad.genomes.r3.0.sites.chr12.vcf.bgz,gnomADg,vcf,exact,0,AF,NFE > ../output/case1/AQ5175/vep_processing/haplotype_caller/AQ5175_chr12_vep.txt',\n",
       " 'vep -i ../output/case1/AQ5175/vcf_processing/haplotype_caller/AQ5175_chr13.maf.gz -o STDOUT -tab --assembly GRCh38 --no_stats --cache --symbol --protein --canonical --offline --af_1kg --dir /path/to/vep  --custom /path/to/gnomad/data/v3.0.0/hg38/gnomad.genomes.r3.0.sites.chr13.vcf.bgz,gnomADg,vcf,exact,0,AF,NFE > ../output/case1/AQ5175/vep_processing/haplotype_caller/AQ5175_chr13_vep.txt',\n",
       " 'vep -i ../output/case1/AQ5175/vcf_processing/haplotype_caller/AQ5175_chr14.maf.gz -o STDOUT -tab --assembly GRCh38 --no_stats --cache --symbol --protein --canonical --offline --af_1kg --dir /path/to/vep  --custom /path/to/gnomad/data/v3.0.0/hg38/gnomad.genomes.r3.0.sites.chr14.vcf.bgz,gnomADg,vcf,exact,0,AF,NFE > ../output/case1/AQ5175/vep_processing/haplotype_caller/AQ5175_chr14_vep.txt',\n",
       " 'vep -i ../output/case1/AQ5175/vcf_processing/haplotype_caller/AQ5175_chr15.maf.gz -o STDOUT -tab --assembly GRCh38 --no_stats --cache --symbol --protein --canonical --offline --af_1kg --dir /path/to/vep  --custom /path/to/gnomad/data/v3.0.0/hg38/gnomad.genomes.r3.0.sites.chr15.vcf.bgz,gnomADg,vcf,exact,0,AF,NFE > ../output/case1/AQ5175/vep_processing/haplotype_caller/AQ5175_chr15_vep.txt',\n",
       " 'vep -i ../output/case1/AQ5175/vcf_processing/haplotype_caller/AQ5175_chr16.maf.gz -o STDOUT -tab --assembly GRCh38 --no_stats --cache --symbol --protein --canonical --offline --af_1kg --dir /path/to/vep  --custom /path/to/gnomad/data/v3.0.0/hg38/gnomad.genomes.r3.0.sites.chr16.vcf.bgz,gnomADg,vcf,exact,0,AF,NFE > ../output/case1/AQ5175/vep_processing/haplotype_caller/AQ5175_chr16_vep.txt',\n",
       " 'vep -i ../output/case1/AQ5175/vcf_processing/haplotype_caller/AQ5175_chr17.maf.gz -o STDOUT -tab --assembly GRCh38 --no_stats --cache --symbol --protein --canonical --offline --af_1kg --dir /path/to/vep  --custom /path/to/gnomad/data/v3.0.0/hg38/gnomad.genomes.r3.0.sites.chr17.vcf.bgz,gnomADg,vcf,exact,0,AF,NFE > ../output/case1/AQ5175/vep_processing/haplotype_caller/AQ5175_chr17_vep.txt',\n",
       " 'vep -i ../output/case1/AQ5175/vcf_processing/haplotype_caller/AQ5175_chr18.maf.gz -o STDOUT -tab --assembly GRCh38 --no_stats --cache --symbol --protein --canonical --offline --af_1kg --dir /path/to/vep  --custom /path/to/gnomad/data/v3.0.0/hg38/gnomad.genomes.r3.0.sites.chr18.vcf.bgz,gnomADg,vcf,exact,0,AF,NFE > ../output/case1/AQ5175/vep_processing/haplotype_caller/AQ5175_chr18_vep.txt',\n",
       " 'vep -i ../output/case1/AQ5175/vcf_processing/haplotype_caller/AQ5175_chr19.maf.gz -o STDOUT -tab --assembly GRCh38 --no_stats --cache --symbol --protein --canonical --offline --af_1kg --dir /path/to/vep  --custom /path/to/gnomad/data/v3.0.0/hg38/gnomad.genomes.r3.0.sites.chr19.vcf.bgz,gnomADg,vcf,exact,0,AF,NFE > ../output/case1/AQ5175/vep_processing/haplotype_caller/AQ5175_chr19_vep.txt',\n",
       " 'vep -i ../output/case1/AQ5175/vcf_processing/haplotype_caller/AQ5175_chr20.maf.gz -o STDOUT -tab --assembly GRCh38 --no_stats --cache --symbol --protein --canonical --offline --af_1kg --dir /path/to/vep  --custom /path/to/gnomad/data/v3.0.0/hg38/gnomad.genomes.r3.0.sites.chr20.vcf.bgz,gnomADg,vcf,exact,0,AF,NFE > ../output/case1/AQ5175/vep_processing/haplotype_caller/AQ5175_chr20_vep.txt',\n",
       " 'vep -i ../output/case1/AQ5175/vcf_processing/haplotype_caller/AQ5175_chr21.maf.gz -o STDOUT -tab --assembly GRCh38 --no_stats --cache --symbol --protein --canonical --offline --af_1kg --dir /path/to/vep  --custom /path/to/gnomad/data/v3.0.0/hg38/gnomad.genomes.r3.0.sites.chr21.vcf.bgz,gnomADg,vcf,exact,0,AF,NFE > ../output/case1/AQ5175/vep_processing/haplotype_caller/AQ5175_chr21_vep.txt',\n",
       " 'vep -i ../output/case1/AQ5175/vcf_processing/haplotype_caller/AQ5175_chr22.maf.gz -o STDOUT -tab --assembly GRCh38 --no_stats --cache --symbol --protein --canonical --offline --af_1kg --dir /path/to/vep  --custom /path/to/gnomad/data/v3.0.0/hg38/gnomad.genomes.r3.0.sites.chr22.vcf.bgz,gnomADg,vcf,exact,0,AF,NFE > ../output/case1/AQ5175/vep_processing/haplotype_caller/AQ5175_chr22_vep.txt',\n",
       " 'vep -i ../output/case1/AQ5175/vcf_processing/haplotype_caller/AQ5175_chrX.maf.gz -o STDOUT -tab --assembly GRCh38 --no_stats --cache --symbol --protein --canonical --offline --af_1kg --dir /path/to/vep  --custom /path/to/gnomad/data/v3.0.0/hg38/gnomad.genomes.r3.0.sites.chrX.vcf.bgz,gnomADg,vcf,exact,0,AF,NFE > ../output/case1/AQ5175/vep_processing/haplotype_caller/AQ5175_chrX_vep.txt',\n",
       " 'vep -i ../output/case1/AQ5175/vcf_processing/haplotype_caller/AQ5175_chrY.maf.gz -o STDOUT -tab --assembly GRCh38 --no_stats --cache --symbol --protein --canonical --offline --af_1kg --dir /path/to/vep  --custom /path/to/gnomad/data/v3.0.0/hg38/gnomad.genomes.r3.0.sites.chrY.vcf.bgz,gnomADg,vcf,exact,0,AF,NFE > ../output/case1/AQ5175/vep_processing/haplotype_caller/AQ5175_chrY_vep.txt',\n",
       " 'vep -i ../output/case2/AQ5176/vcf_processing/haplotype_caller/AQ5176_chr1.maf.gz -o STDOUT -tab --assembly GRCh38 --no_stats --cache --symbol --protein --canonical --offline --af_1kg --dir /path/to/vep  --custom /path/to/gnomad/data/v3.0.0/hg38/gnomad.genomes.r3.0.sites.chr1.vcf.bgz,gnomADg,vcf,exact,0,AF,NFE > ../output/case2/AQ5176/vep_processing/haplotype_caller/AQ5176_chr1_vep.txt',\n",
       " 'vep -i ../output/case2/AQ5176/vcf_processing/haplotype_caller/AQ5176_chr2.maf.gz -o STDOUT -tab --assembly GRCh38 --no_stats --cache --symbol --protein --canonical --offline --af_1kg --dir /path/to/vep  --custom /path/to/gnomad/data/v3.0.0/hg38/gnomad.genomes.r3.0.sites.chr2.vcf.bgz,gnomADg,vcf,exact,0,AF,NFE > ../output/case2/AQ5176/vep_processing/haplotype_caller/AQ5176_chr2_vep.txt',\n",
       " 'vep -i ../output/case2/AQ5176/vcf_processing/haplotype_caller/AQ5176_chr3.maf.gz -o STDOUT -tab --assembly GRCh38 --no_stats --cache --symbol --protein --canonical --offline --af_1kg --dir /path/to/vep  --custom /path/to/gnomad/data/v3.0.0/hg38/gnomad.genomes.r3.0.sites.chr3.vcf.bgz,gnomADg,vcf,exact,0,AF,NFE > ../output/case2/AQ5176/vep_processing/haplotype_caller/AQ5176_chr3_vep.txt',\n",
       " 'vep -i ../output/case2/AQ5176/vcf_processing/haplotype_caller/AQ5176_chr4.maf.gz -o STDOUT -tab --assembly GRCh38 --no_stats --cache --symbol --protein --canonical --offline --af_1kg --dir /path/to/vep  --custom /path/to/gnomad/data/v3.0.0/hg38/gnomad.genomes.r3.0.sites.chr4.vcf.bgz,gnomADg,vcf,exact,0,AF,NFE > ../output/case2/AQ5176/vep_processing/haplotype_caller/AQ5176_chr4_vep.txt',\n",
       " 'vep -i ../output/case2/AQ5176/vcf_processing/haplotype_caller/AQ5176_chr5.maf.gz -o STDOUT -tab --assembly GRCh38 --no_stats --cache --symbol --protein --canonical --offline --af_1kg --dir /path/to/vep  --custom /path/to/gnomad/data/v3.0.0/hg38/gnomad.genomes.r3.0.sites.chr5.vcf.bgz,gnomADg,vcf,exact,0,AF,NFE > ../output/case2/AQ5176/vep_processing/haplotype_caller/AQ5176_chr5_vep.txt',\n",
       " 'vep -i ../output/case2/AQ5176/vcf_processing/haplotype_caller/AQ5176_chr6.maf.gz -o STDOUT -tab --assembly GRCh38 --no_stats --cache --symbol --protein --canonical --offline --af_1kg --dir /path/to/vep  --custom /path/to/gnomad/data/v3.0.0/hg38/gnomad.genomes.r3.0.sites.chr6.vcf.bgz,gnomADg,vcf,exact,0,AF,NFE > ../output/case2/AQ5176/vep_processing/haplotype_caller/AQ5176_chr6_vep.txt',\n",
       " 'vep -i ../output/case2/AQ5176/vcf_processing/haplotype_caller/AQ5176_chr7.maf.gz -o STDOUT -tab --assembly GRCh38 --no_stats --cache --symbol --protein --canonical --offline --af_1kg --dir /path/to/vep  --custom /path/to/gnomad/data/v3.0.0/hg38/gnomad.genomes.r3.0.sites.chr7.vcf.bgz,gnomADg,vcf,exact,0,AF,NFE > ../output/case2/AQ5176/vep_processing/haplotype_caller/AQ5176_chr7_vep.txt',\n",
       " 'vep -i ../output/case2/AQ5176/vcf_processing/haplotype_caller/AQ5176_chr8.maf.gz -o STDOUT -tab --assembly GRCh38 --no_stats --cache --symbol --protein --canonical --offline --af_1kg --dir /path/to/vep  --custom /path/to/gnomad/data/v3.0.0/hg38/gnomad.genomes.r3.0.sites.chr8.vcf.bgz,gnomADg,vcf,exact,0,AF,NFE > ../output/case2/AQ5176/vep_processing/haplotype_caller/AQ5176_chr8_vep.txt',\n",
       " 'vep -i ../output/case2/AQ5176/vcf_processing/haplotype_caller/AQ5176_chr9.maf.gz -o STDOUT -tab --assembly GRCh38 --no_stats --cache --symbol --protein --canonical --offline --af_1kg --dir /path/to/vep  --custom /path/to/gnomad/data/v3.0.0/hg38/gnomad.genomes.r3.0.sites.chr9.vcf.bgz,gnomADg,vcf,exact,0,AF,NFE > ../output/case2/AQ5176/vep_processing/haplotype_caller/AQ5176_chr9_vep.txt',\n",
       " 'vep -i ../output/case2/AQ5176/vcf_processing/haplotype_caller/AQ5176_chr10.maf.gz -o STDOUT -tab --assembly GRCh38 --no_stats --cache --symbol --protein --canonical --offline --af_1kg --dir /path/to/vep  --custom /path/to/gnomad/data/v3.0.0/hg38/gnomad.genomes.r3.0.sites.chr10.vcf.bgz,gnomADg,vcf,exact,0,AF,NFE > ../output/case2/AQ5176/vep_processing/haplotype_caller/AQ5176_chr10_vep.txt',\n",
       " 'vep -i ../output/case2/AQ5176/vcf_processing/haplotype_caller/AQ5176_chr11.maf.gz -o STDOUT -tab --assembly GRCh38 --no_stats --cache --symbol --protein --canonical --offline --af_1kg --dir /path/to/vep  --custom /path/to/gnomad/data/v3.0.0/hg38/gnomad.genomes.r3.0.sites.chr11.vcf.bgz,gnomADg,vcf,exact,0,AF,NFE > ../output/case2/AQ5176/vep_processing/haplotype_caller/AQ5176_chr11_vep.txt',\n",
       " 'vep -i ../output/case2/AQ5176/vcf_processing/haplotype_caller/AQ5176_chr12.maf.gz -o STDOUT -tab --assembly GRCh38 --no_stats --cache --symbol --protein --canonical --offline --af_1kg --dir /path/to/vep  --custom /path/to/gnomad/data/v3.0.0/hg38/gnomad.genomes.r3.0.sites.chr12.vcf.bgz,gnomADg,vcf,exact,0,AF,NFE > ../output/case2/AQ5176/vep_processing/haplotype_caller/AQ5176_chr12_vep.txt',\n",
       " 'vep -i ../output/case2/AQ5176/vcf_processing/haplotype_caller/AQ5176_chr13.maf.gz -o STDOUT -tab --assembly GRCh38 --no_stats --cache --symbol --protein --canonical --offline --af_1kg --dir /path/to/vep  --custom /path/to/gnomad/data/v3.0.0/hg38/gnomad.genomes.r3.0.sites.chr13.vcf.bgz,gnomADg,vcf,exact,0,AF,NFE > ../output/case2/AQ5176/vep_processing/haplotype_caller/AQ5176_chr13_vep.txt',\n",
       " 'vep -i ../output/case2/AQ5176/vcf_processing/haplotype_caller/AQ5176_chr14.maf.gz -o STDOUT -tab --assembly GRCh38 --no_stats --cache --symbol --protein --canonical --offline --af_1kg --dir /path/to/vep  --custom /path/to/gnomad/data/v3.0.0/hg38/gnomad.genomes.r3.0.sites.chr14.vcf.bgz,gnomADg,vcf,exact,0,AF,NFE > ../output/case2/AQ5176/vep_processing/haplotype_caller/AQ5176_chr14_vep.txt',\n",
       " 'vep -i ../output/case2/AQ5176/vcf_processing/haplotype_caller/AQ5176_chr15.maf.gz -o STDOUT -tab --assembly GRCh38 --no_stats --cache --symbol --protein --canonical --offline --af_1kg --dir /path/to/vep  --custom /path/to/gnomad/data/v3.0.0/hg38/gnomad.genomes.r3.0.sites.chr15.vcf.bgz,gnomADg,vcf,exact,0,AF,NFE > ../output/case2/AQ5176/vep_processing/haplotype_caller/AQ5176_chr15_vep.txt',\n",
       " 'vep -i ../output/case2/AQ5176/vcf_processing/haplotype_caller/AQ5176_chr16.maf.gz -o STDOUT -tab --assembly GRCh38 --no_stats --cache --symbol --protein --canonical --offline --af_1kg --dir /path/to/vep  --custom /path/to/gnomad/data/v3.0.0/hg38/gnomad.genomes.r3.0.sites.chr16.vcf.bgz,gnomADg,vcf,exact,0,AF,NFE > ../output/case2/AQ5176/vep_processing/haplotype_caller/AQ5176_chr16_vep.txt',\n",
       " 'vep -i ../output/case2/AQ5176/vcf_processing/haplotype_caller/AQ5176_chr17.maf.gz -o STDOUT -tab --assembly GRCh38 --no_stats --cache --symbol --protein --canonical --offline --af_1kg --dir /path/to/vep  --custom /path/to/gnomad/data/v3.0.0/hg38/gnomad.genomes.r3.0.sites.chr17.vcf.bgz,gnomADg,vcf,exact,0,AF,NFE > ../output/case2/AQ5176/vep_processing/haplotype_caller/AQ5176_chr17_vep.txt',\n",
       " 'vep -i ../output/case2/AQ5176/vcf_processing/haplotype_caller/AQ5176_chr18.maf.gz -o STDOUT -tab --assembly GRCh38 --no_stats --cache --symbol --protein --canonical --offline --af_1kg --dir /path/to/vep  --custom /path/to/gnomad/data/v3.0.0/hg38/gnomad.genomes.r3.0.sites.chr18.vcf.bgz,gnomADg,vcf,exact,0,AF,NFE > ../output/case2/AQ5176/vep_processing/haplotype_caller/AQ5176_chr18_vep.txt',\n",
       " 'vep -i ../output/case2/AQ5176/vcf_processing/haplotype_caller/AQ5176_chr19.maf.gz -o STDOUT -tab --assembly GRCh38 --no_stats --cache --symbol --protein --canonical --offline --af_1kg --dir /path/to/vep  --custom /path/to/gnomad/data/v3.0.0/hg38/gnomad.genomes.r3.0.sites.chr19.vcf.bgz,gnomADg,vcf,exact,0,AF,NFE > ../output/case2/AQ5176/vep_processing/haplotype_caller/AQ5176_chr19_vep.txt',\n",
       " 'vep -i ../output/case2/AQ5176/vcf_processing/haplotype_caller/AQ5176_chr20.maf.gz -o STDOUT -tab --assembly GRCh38 --no_stats --cache --symbol --protein --canonical --offline --af_1kg --dir /path/to/vep  --custom /path/to/gnomad/data/v3.0.0/hg38/gnomad.genomes.r3.0.sites.chr20.vcf.bgz,gnomADg,vcf,exact,0,AF,NFE > ../output/case2/AQ5176/vep_processing/haplotype_caller/AQ5176_chr20_vep.txt',\n",
       " 'vep -i ../output/case2/AQ5176/vcf_processing/haplotype_caller/AQ5176_chr21.maf.gz -o STDOUT -tab --assembly GRCh38 --no_stats --cache --symbol --protein --canonical --offline --af_1kg --dir /path/to/vep  --custom /path/to/gnomad/data/v3.0.0/hg38/gnomad.genomes.r3.0.sites.chr21.vcf.bgz,gnomADg,vcf,exact,0,AF,NFE > ../output/case2/AQ5176/vep_processing/haplotype_caller/AQ5176_chr21_vep.txt',\n",
       " 'vep -i ../output/case2/AQ5176/vcf_processing/haplotype_caller/AQ5176_chr22.maf.gz -o STDOUT -tab --assembly GRCh38 --no_stats --cache --symbol --protein --canonical --offline --af_1kg --dir /path/to/vep  --custom /path/to/gnomad/data/v3.0.0/hg38/gnomad.genomes.r3.0.sites.chr22.vcf.bgz,gnomADg,vcf,exact,0,AF,NFE > ../output/case2/AQ5176/vep_processing/haplotype_caller/AQ5176_chr22_vep.txt',\n",
       " 'vep -i ../output/case2/AQ5176/vcf_processing/haplotype_caller/AQ5176_chrX.maf.gz -o STDOUT -tab --assembly GRCh38 --no_stats --cache --symbol --protein --canonical --offline --af_1kg --dir /path/to/vep  --custom /path/to/gnomad/data/v3.0.0/hg38/gnomad.genomes.r3.0.sites.chrX.vcf.bgz,gnomADg,vcf,exact,0,AF,NFE > ../output/case2/AQ5176/vep_processing/haplotype_caller/AQ5176_chrX_vep.txt',\n",
       " 'vep -i ../output/case2/AQ5176/vcf_processing/haplotype_caller/AQ5176_chrY.maf.gz -o STDOUT -tab --assembly GRCh38 --no_stats --cache --symbol --protein --canonical --offline --af_1kg --dir /path/to/vep  --custom /path/to/gnomad/data/v3.0.0/hg38/gnomad.genomes.r3.0.sites.chrY.vcf.bgz,gnomADg,vcf,exact,0,AF,NFE > ../output/case2/AQ5176/vep_processing/haplotype_caller/AQ5176_chrY_vep.txt',\n",
       " 'vep -i ../output/case3/AQ5174/vcf_processing/haplotype_caller/AQ5174_chr1.maf.gz -o STDOUT -tab --assembly GRCh38 --no_stats --cache --symbol --protein --canonical --offline --af_1kg --dir /path/to/vep  --custom /path/to/gnomad/data/v3.0.0/hg38/gnomad.genomes.r3.0.sites.chr1.vcf.bgz,gnomADg,vcf,exact,0,AF,NFE > ../output/case3/AQ5174/vep_processing/haplotype_caller/AQ5174_chr1_vep.txt',\n",
       " 'vep -i ../output/case3/AQ5174/vcf_processing/haplotype_caller/AQ5174_chr2.maf.gz -o STDOUT -tab --assembly GRCh38 --no_stats --cache --symbol --protein --canonical --offline --af_1kg --dir /path/to/vep  --custom /path/to/gnomad/data/v3.0.0/hg38/gnomad.genomes.r3.0.sites.chr2.vcf.bgz,gnomADg,vcf,exact,0,AF,NFE > ../output/case3/AQ5174/vep_processing/haplotype_caller/AQ5174_chr2_vep.txt',\n",
       " 'vep -i ../output/case3/AQ5174/vcf_processing/haplotype_caller/AQ5174_chr3.maf.gz -o STDOUT -tab --assembly GRCh38 --no_stats --cache --symbol --protein --canonical --offline --af_1kg --dir /path/to/vep  --custom /path/to/gnomad/data/v3.0.0/hg38/gnomad.genomes.r3.0.sites.chr3.vcf.bgz,gnomADg,vcf,exact,0,AF,NFE > ../output/case3/AQ5174/vep_processing/haplotype_caller/AQ5174_chr3_vep.txt',\n",
       " 'vep -i ../output/case3/AQ5174/vcf_processing/haplotype_caller/AQ5174_chr4.maf.gz -o STDOUT -tab --assembly GRCh38 --no_stats --cache --symbol --protein --canonical --offline --af_1kg --dir /path/to/vep  --custom /path/to/gnomad/data/v3.0.0/hg38/gnomad.genomes.r3.0.sites.chr4.vcf.bgz,gnomADg,vcf,exact,0,AF,NFE > ../output/case3/AQ5174/vep_processing/haplotype_caller/AQ5174_chr4_vep.txt',\n",
       " 'vep -i ../output/case3/AQ5174/vcf_processing/haplotype_caller/AQ5174_chr5.maf.gz -o STDOUT -tab --assembly GRCh38 --no_stats --cache --symbol --protein --canonical --offline --af_1kg --dir /path/to/vep  --custom /path/to/gnomad/data/v3.0.0/hg38/gnomad.genomes.r3.0.sites.chr5.vcf.bgz,gnomADg,vcf,exact,0,AF,NFE > ../output/case3/AQ5174/vep_processing/haplotype_caller/AQ5174_chr5_vep.txt',\n",
       " 'vep -i ../output/case3/AQ5174/vcf_processing/haplotype_caller/AQ5174_chr6.maf.gz -o STDOUT -tab --assembly GRCh38 --no_stats --cache --symbol --protein --canonical --offline --af_1kg --dir /path/to/vep  --custom /path/to/gnomad/data/v3.0.0/hg38/gnomad.genomes.r3.0.sites.chr6.vcf.bgz,gnomADg,vcf,exact,0,AF,NFE > ../output/case3/AQ5174/vep_processing/haplotype_caller/AQ5174_chr6_vep.txt',\n",
       " 'vep -i ../output/case3/AQ5174/vcf_processing/haplotype_caller/AQ5174_chr7.maf.gz -o STDOUT -tab --assembly GRCh38 --no_stats --cache --symbol --protein --canonical --offline --af_1kg --dir /path/to/vep  --custom /path/to/gnomad/data/v3.0.0/hg38/gnomad.genomes.r3.0.sites.chr7.vcf.bgz,gnomADg,vcf,exact,0,AF,NFE > ../output/case3/AQ5174/vep_processing/haplotype_caller/AQ5174_chr7_vep.txt',\n",
       " 'vep -i ../output/case3/AQ5174/vcf_processing/haplotype_caller/AQ5174_chr8.maf.gz -o STDOUT -tab --assembly GRCh38 --no_stats --cache --symbol --protein --canonical --offline --af_1kg --dir /path/to/vep  --custom /path/to/gnomad/data/v3.0.0/hg38/gnomad.genomes.r3.0.sites.chr8.vcf.bgz,gnomADg,vcf,exact,0,AF,NFE > ../output/case3/AQ5174/vep_processing/haplotype_caller/AQ5174_chr8_vep.txt',\n",
       " 'vep -i ../output/case3/AQ5174/vcf_processing/haplotype_caller/AQ5174_chr9.maf.gz -o STDOUT -tab --assembly GRCh38 --no_stats --cache --symbol --protein --canonical --offline --af_1kg --dir /path/to/vep  --custom /path/to/gnomad/data/v3.0.0/hg38/gnomad.genomes.r3.0.sites.chr9.vcf.bgz,gnomADg,vcf,exact,0,AF,NFE > ../output/case3/AQ5174/vep_processing/haplotype_caller/AQ5174_chr9_vep.txt',\n",
       " 'vep -i ../output/case3/AQ5174/vcf_processing/haplotype_caller/AQ5174_chr10.maf.gz -o STDOUT -tab --assembly GRCh38 --no_stats --cache --symbol --protein --canonical --offline --af_1kg --dir /path/to/vep  --custom /path/to/gnomad/data/v3.0.0/hg38/gnomad.genomes.r3.0.sites.chr10.vcf.bgz,gnomADg,vcf,exact,0,AF,NFE > ../output/case3/AQ5174/vep_processing/haplotype_caller/AQ5174_chr10_vep.txt',\n",
       " 'vep -i ../output/case3/AQ5174/vcf_processing/haplotype_caller/AQ5174_chr11.maf.gz -o STDOUT -tab --assembly GRCh38 --no_stats --cache --symbol --protein --canonical --offline --af_1kg --dir /path/to/vep  --custom /path/to/gnomad/data/v3.0.0/hg38/gnomad.genomes.r3.0.sites.chr11.vcf.bgz,gnomADg,vcf,exact,0,AF,NFE > ../output/case3/AQ5174/vep_processing/haplotype_caller/AQ5174_chr11_vep.txt',\n",
       " 'vep -i ../output/case3/AQ5174/vcf_processing/haplotype_caller/AQ5174_chr12.maf.gz -o STDOUT -tab --assembly GRCh38 --no_stats --cache --symbol --protein --canonical --offline --af_1kg --dir /path/to/vep  --custom /path/to/gnomad/data/v3.0.0/hg38/gnomad.genomes.r3.0.sites.chr12.vcf.bgz,gnomADg,vcf,exact,0,AF,NFE > ../output/case3/AQ5174/vep_processing/haplotype_caller/AQ5174_chr12_vep.txt',\n",
       " 'vep -i ../output/case3/AQ5174/vcf_processing/haplotype_caller/AQ5174_chr13.maf.gz -o STDOUT -tab --assembly GRCh38 --no_stats --cache --symbol --protein --canonical --offline --af_1kg --dir /path/to/vep  --custom /path/to/gnomad/data/v3.0.0/hg38/gnomad.genomes.r3.0.sites.chr13.vcf.bgz,gnomADg,vcf,exact,0,AF,NFE > ../output/case3/AQ5174/vep_processing/haplotype_caller/AQ5174_chr13_vep.txt',\n",
       " 'vep -i ../output/case3/AQ5174/vcf_processing/haplotype_caller/AQ5174_chr14.maf.gz -o STDOUT -tab --assembly GRCh38 --no_stats --cache --symbol --protein --canonical --offline --af_1kg --dir /path/to/vep  --custom /path/to/gnomad/data/v3.0.0/hg38/gnomad.genomes.r3.0.sites.chr14.vcf.bgz,gnomADg,vcf,exact,0,AF,NFE > ../output/case3/AQ5174/vep_processing/haplotype_caller/AQ5174_chr14_vep.txt',\n",
       " 'vep -i ../output/case3/AQ5174/vcf_processing/haplotype_caller/AQ5174_chr15.maf.gz -o STDOUT -tab --assembly GRCh38 --no_stats --cache --symbol --protein --canonical --offline --af_1kg --dir /path/to/vep  --custom /path/to/gnomad/data/v3.0.0/hg38/gnomad.genomes.r3.0.sites.chr15.vcf.bgz,gnomADg,vcf,exact,0,AF,NFE > ../output/case3/AQ5174/vep_processing/haplotype_caller/AQ5174_chr15_vep.txt',\n",
       " 'vep -i ../output/case3/AQ5174/vcf_processing/haplotype_caller/AQ5174_chr16.maf.gz -o STDOUT -tab --assembly GRCh38 --no_stats --cache --symbol --protein --canonical --offline --af_1kg --dir /path/to/vep  --custom /path/to/gnomad/data/v3.0.0/hg38/gnomad.genomes.r3.0.sites.chr16.vcf.bgz,gnomADg,vcf,exact,0,AF,NFE > ../output/case3/AQ5174/vep_processing/haplotype_caller/AQ5174_chr16_vep.txt',\n",
       " 'vep -i ../output/case3/AQ5174/vcf_processing/haplotype_caller/AQ5174_chr17.maf.gz -o STDOUT -tab --assembly GRCh38 --no_stats --cache --symbol --protein --canonical --offline --af_1kg --dir /path/to/vep  --custom /path/to/gnomad/data/v3.0.0/hg38/gnomad.genomes.r3.0.sites.chr17.vcf.bgz,gnomADg,vcf,exact,0,AF,NFE > ../output/case3/AQ5174/vep_processing/haplotype_caller/AQ5174_chr17_vep.txt',\n",
       " 'vep -i ../output/case3/AQ5174/vcf_processing/haplotype_caller/AQ5174_chr18.maf.gz -o STDOUT -tab --assembly GRCh38 --no_stats --cache --symbol --protein --canonical --offline --af_1kg --dir /path/to/vep  --custom /path/to/gnomad/data/v3.0.0/hg38/gnomad.genomes.r3.0.sites.chr18.vcf.bgz,gnomADg,vcf,exact,0,AF,NFE > ../output/case3/AQ5174/vep_processing/haplotype_caller/AQ5174_chr18_vep.txt',\n",
       " 'vep -i ../output/case3/AQ5174/vcf_processing/haplotype_caller/AQ5174_chr19.maf.gz -o STDOUT -tab --assembly GRCh38 --no_stats --cache --symbol --protein --canonical --offline --af_1kg --dir /path/to/vep  --custom /path/to/gnomad/data/v3.0.0/hg38/gnomad.genomes.r3.0.sites.chr19.vcf.bgz,gnomADg,vcf,exact,0,AF,NFE > ../output/case3/AQ5174/vep_processing/haplotype_caller/AQ5174_chr19_vep.txt',\n",
       " 'vep -i ../output/case3/AQ5174/vcf_processing/haplotype_caller/AQ5174_chr20.maf.gz -o STDOUT -tab --assembly GRCh38 --no_stats --cache --symbol --protein --canonical --offline --af_1kg --dir /path/to/vep  --custom /path/to/gnomad/data/v3.0.0/hg38/gnomad.genomes.r3.0.sites.chr20.vcf.bgz,gnomADg,vcf,exact,0,AF,NFE > ../output/case3/AQ5174/vep_processing/haplotype_caller/AQ5174_chr20_vep.txt',\n",
       " 'vep -i ../output/case3/AQ5174/vcf_processing/haplotype_caller/AQ5174_chr21.maf.gz -o STDOUT -tab --assembly GRCh38 --no_stats --cache --symbol --protein --canonical --offline --af_1kg --dir /path/to/vep  --custom /path/to/gnomad/data/v3.0.0/hg38/gnomad.genomes.r3.0.sites.chr21.vcf.bgz,gnomADg,vcf,exact,0,AF,NFE > ../output/case3/AQ5174/vep_processing/haplotype_caller/AQ5174_chr21_vep.txt',\n",
       " 'vep -i ../output/case3/AQ5174/vcf_processing/haplotype_caller/AQ5174_chr22.maf.gz -o STDOUT -tab --assembly GRCh38 --no_stats --cache --symbol --protein --canonical --offline --af_1kg --dir /path/to/vep  --custom /path/to/gnomad/data/v3.0.0/hg38/gnomad.genomes.r3.0.sites.chr22.vcf.bgz,gnomADg,vcf,exact,0,AF,NFE > ../output/case3/AQ5174/vep_processing/haplotype_caller/AQ5174_chr22_vep.txt',\n",
       " 'vep -i ../output/case3/AQ5174/vcf_processing/haplotype_caller/AQ5174_chrX.maf.gz -o STDOUT -tab --assembly GRCh38 --no_stats --cache --symbol --protein --canonical --offline --af_1kg --dir /path/to/vep  --custom /path/to/gnomad/data/v3.0.0/hg38/gnomad.genomes.r3.0.sites.chrX.vcf.bgz,gnomADg,vcf,exact,0,AF,NFE > ../output/case3/AQ5174/vep_processing/haplotype_caller/AQ5174_chrX_vep.txt',\n",
       " 'vep -i ../output/case3/AQ5174/vcf_processing/haplotype_caller/AQ5174_chrY.maf.gz -o STDOUT -tab --assembly GRCh38 --no_stats --cache --symbol --protein --canonical --offline --af_1kg --dir /path/to/vep  --custom /path/to/gnomad/data/v3.0.0/hg38/gnomad.genomes.r3.0.sites.chrY.vcf.bgz,gnomADg,vcf,exact,0,AF,NFE > ../output/case3/AQ5174/vep_processing/haplotype_caller/AQ5174_chrY_vep.txt',\n",
       " 'vep -i ../output/case4/AW8061/vcf_processing/haplotype_caller/AW8061_chr1.maf.gz -o STDOUT -tab --assembly GRCh38 --no_stats --cache --symbol --protein --canonical --offline --af_1kg --dir /path/to/vep  --custom /path/to/gnomad/data/v3.0.0/hg38/gnomad.genomes.r3.0.sites.chr1.vcf.bgz,gnomADg,vcf,exact,0,AF,NFE > ../output/case4/AW8061/vep_processing/haplotype_caller/AW8061_chr1_vep.txt',\n",
       " 'vep -i ../output/case4/AW8061/vcf_processing/haplotype_caller/AW8061_chr2.maf.gz -o STDOUT -tab --assembly GRCh38 --no_stats --cache --symbol --protein --canonical --offline --af_1kg --dir /path/to/vep  --custom /path/to/gnomad/data/v3.0.0/hg38/gnomad.genomes.r3.0.sites.chr2.vcf.bgz,gnomADg,vcf,exact,0,AF,NFE > ../output/case4/AW8061/vep_processing/haplotype_caller/AW8061_chr2_vep.txt',\n",
       " 'vep -i ../output/case4/AW8061/vcf_processing/haplotype_caller/AW8061_chr3.maf.gz -o STDOUT -tab --assembly GRCh38 --no_stats --cache --symbol --protein --canonical --offline --af_1kg --dir /path/to/vep  --custom /path/to/gnomad/data/v3.0.0/hg38/gnomad.genomes.r3.0.sites.chr3.vcf.bgz,gnomADg,vcf,exact,0,AF,NFE > ../output/case4/AW8061/vep_processing/haplotype_caller/AW8061_chr3_vep.txt',\n",
       " 'vep -i ../output/case4/AW8061/vcf_processing/haplotype_caller/AW8061_chr4.maf.gz -o STDOUT -tab --assembly GRCh38 --no_stats --cache --symbol --protein --canonical --offline --af_1kg --dir /path/to/vep  --custom /path/to/gnomad/data/v3.0.0/hg38/gnomad.genomes.r3.0.sites.chr4.vcf.bgz,gnomADg,vcf,exact,0,AF,NFE > ../output/case4/AW8061/vep_processing/haplotype_caller/AW8061_chr4_vep.txt',\n",
       " 'vep -i ../output/case4/AW8061/vcf_processing/haplotype_caller/AW8061_chr5.maf.gz -o STDOUT -tab --assembly GRCh38 --no_stats --cache --symbol --protein --canonical --offline --af_1kg --dir /path/to/vep  --custom /path/to/gnomad/data/v3.0.0/hg38/gnomad.genomes.r3.0.sites.chr5.vcf.bgz,gnomADg,vcf,exact,0,AF,NFE > ../output/case4/AW8061/vep_processing/haplotype_caller/AW8061_chr5_vep.txt',\n",
       " 'vep -i ../output/case4/AW8061/vcf_processing/haplotype_caller/AW8061_chr6.maf.gz -o STDOUT -tab --assembly GRCh38 --no_stats --cache --symbol --protein --canonical --offline --af_1kg --dir /path/to/vep  --custom /path/to/gnomad/data/v3.0.0/hg38/gnomad.genomes.r3.0.sites.chr6.vcf.bgz,gnomADg,vcf,exact,0,AF,NFE > ../output/case4/AW8061/vep_processing/haplotype_caller/AW8061_chr6_vep.txt',\n",
       " 'vep -i ../output/case4/AW8061/vcf_processing/haplotype_caller/AW8061_chr7.maf.gz -o STDOUT -tab --assembly GRCh38 --no_stats --cache --symbol --protein --canonical --offline --af_1kg --dir /path/to/vep  --custom /path/to/gnomad/data/v3.0.0/hg38/gnomad.genomes.r3.0.sites.chr7.vcf.bgz,gnomADg,vcf,exact,0,AF,NFE > ../output/case4/AW8061/vep_processing/haplotype_caller/AW8061_chr7_vep.txt',\n",
       " 'vep -i ../output/case4/AW8061/vcf_processing/haplotype_caller/AW8061_chr8.maf.gz -o STDOUT -tab --assembly GRCh38 --no_stats --cache --symbol --protein --canonical --offline --af_1kg --dir /path/to/vep  --custom /path/to/gnomad/data/v3.0.0/hg38/gnomad.genomes.r3.0.sites.chr8.vcf.bgz,gnomADg,vcf,exact,0,AF,NFE > ../output/case4/AW8061/vep_processing/haplotype_caller/AW8061_chr8_vep.txt',\n",
       " 'vep -i ../output/case4/AW8061/vcf_processing/haplotype_caller/AW8061_chr9.maf.gz -o STDOUT -tab --assembly GRCh38 --no_stats --cache --symbol --protein --canonical --offline --af_1kg --dir /path/to/vep  --custom /path/to/gnomad/data/v3.0.0/hg38/gnomad.genomes.r3.0.sites.chr9.vcf.bgz,gnomADg,vcf,exact,0,AF,NFE > ../output/case4/AW8061/vep_processing/haplotype_caller/AW8061_chr9_vep.txt',\n",
       " 'vep -i ../output/case4/AW8061/vcf_processing/haplotype_caller/AW8061_chr10.maf.gz -o STDOUT -tab --assembly GRCh38 --no_stats --cache --symbol --protein --canonical --offline --af_1kg --dir /path/to/vep  --custom /path/to/gnomad/data/v3.0.0/hg38/gnomad.genomes.r3.0.sites.chr10.vcf.bgz,gnomADg,vcf,exact,0,AF,NFE > ../output/case4/AW8061/vep_processing/haplotype_caller/AW8061_chr10_vep.txt',\n",
       " 'vep -i ../output/case4/AW8061/vcf_processing/haplotype_caller/AW8061_chr11.maf.gz -o STDOUT -tab --assembly GRCh38 --no_stats --cache --symbol --protein --canonical --offline --af_1kg --dir /path/to/vep  --custom /path/to/gnomad/data/v3.0.0/hg38/gnomad.genomes.r3.0.sites.chr11.vcf.bgz,gnomADg,vcf,exact,0,AF,NFE > ../output/case4/AW8061/vep_processing/haplotype_caller/AW8061_chr11_vep.txt',\n",
       " 'vep -i ../output/case4/AW8061/vcf_processing/haplotype_caller/AW8061_chr12.maf.gz -o STDOUT -tab --assembly GRCh38 --no_stats --cache --symbol --protein --canonical --offline --af_1kg --dir /path/to/vep  --custom /path/to/gnomad/data/v3.0.0/hg38/gnomad.genomes.r3.0.sites.chr12.vcf.bgz,gnomADg,vcf,exact,0,AF,NFE > ../output/case4/AW8061/vep_processing/haplotype_caller/AW8061_chr12_vep.txt',\n",
       " 'vep -i ../output/case4/AW8061/vcf_processing/haplotype_caller/AW8061_chr13.maf.gz -o STDOUT -tab --assembly GRCh38 --no_stats --cache --symbol --protein --canonical --offline --af_1kg --dir /path/to/vep  --custom /path/to/gnomad/data/v3.0.0/hg38/gnomad.genomes.r3.0.sites.chr13.vcf.bgz,gnomADg,vcf,exact,0,AF,NFE > ../output/case4/AW8061/vep_processing/haplotype_caller/AW8061_chr13_vep.txt',\n",
       " 'vep -i ../output/case4/AW8061/vcf_processing/haplotype_caller/AW8061_chr14.maf.gz -o STDOUT -tab --assembly GRCh38 --no_stats --cache --symbol --protein --canonical --offline --af_1kg --dir /path/to/vep  --custom /path/to/gnomad/data/v3.0.0/hg38/gnomad.genomes.r3.0.sites.chr14.vcf.bgz,gnomADg,vcf,exact,0,AF,NFE > ../output/case4/AW8061/vep_processing/haplotype_caller/AW8061_chr14_vep.txt',\n",
       " 'vep -i ../output/case4/AW8061/vcf_processing/haplotype_caller/AW8061_chr15.maf.gz -o STDOUT -tab --assembly GRCh38 --no_stats --cache --symbol --protein --canonical --offline --af_1kg --dir /path/to/vep  --custom /path/to/gnomad/data/v3.0.0/hg38/gnomad.genomes.r3.0.sites.chr15.vcf.bgz,gnomADg,vcf,exact,0,AF,NFE > ../output/case4/AW8061/vep_processing/haplotype_caller/AW8061_chr15_vep.txt',\n",
       " 'vep -i ../output/case4/AW8061/vcf_processing/haplotype_caller/AW8061_chr16.maf.gz -o STDOUT -tab --assembly GRCh38 --no_stats --cache --symbol --protein --canonical --offline --af_1kg --dir /path/to/vep  --custom /path/to/gnomad/data/v3.0.0/hg38/gnomad.genomes.r3.0.sites.chr16.vcf.bgz,gnomADg,vcf,exact,0,AF,NFE > ../output/case4/AW8061/vep_processing/haplotype_caller/AW8061_chr16_vep.txt',\n",
       " 'vep -i ../output/case4/AW8061/vcf_processing/haplotype_caller/AW8061_chr17.maf.gz -o STDOUT -tab --assembly GRCh38 --no_stats --cache --symbol --protein --canonical --offline --af_1kg --dir /path/to/vep  --custom /path/to/gnomad/data/v3.0.0/hg38/gnomad.genomes.r3.0.sites.chr17.vcf.bgz,gnomADg,vcf,exact,0,AF,NFE > ../output/case4/AW8061/vep_processing/haplotype_caller/AW8061_chr17_vep.txt',\n",
       " 'vep -i ../output/case4/AW8061/vcf_processing/haplotype_caller/AW8061_chr18.maf.gz -o STDOUT -tab --assembly GRCh38 --no_stats --cache --symbol --protein --canonical --offline --af_1kg --dir /path/to/vep  --custom /path/to/gnomad/data/v3.0.0/hg38/gnomad.genomes.r3.0.sites.chr18.vcf.bgz,gnomADg,vcf,exact,0,AF,NFE > ../output/case4/AW8061/vep_processing/haplotype_caller/AW8061_chr18_vep.txt',\n",
       " 'vep -i ../output/case4/AW8061/vcf_processing/haplotype_caller/AW8061_chr19.maf.gz -o STDOUT -tab --assembly GRCh38 --no_stats --cache --symbol --protein --canonical --offline --af_1kg --dir /path/to/vep  --custom /path/to/gnomad/data/v3.0.0/hg38/gnomad.genomes.r3.0.sites.chr19.vcf.bgz,gnomADg,vcf,exact,0,AF,NFE > ../output/case4/AW8061/vep_processing/haplotype_caller/AW8061_chr19_vep.txt',\n",
       " 'vep -i ../output/case4/AW8061/vcf_processing/haplotype_caller/AW8061_chr20.maf.gz -o STDOUT -tab --assembly GRCh38 --no_stats --cache --symbol --protein --canonical --offline --af_1kg --dir /path/to/vep  --custom /path/to/gnomad/data/v3.0.0/hg38/gnomad.genomes.r3.0.sites.chr20.vcf.bgz,gnomADg,vcf,exact,0,AF,NFE > ../output/case4/AW8061/vep_processing/haplotype_caller/AW8061_chr20_vep.txt',\n",
       " 'vep -i ../output/case4/AW8061/vcf_processing/haplotype_caller/AW8061_chr21.maf.gz -o STDOUT -tab --assembly GRCh38 --no_stats --cache --symbol --protein --canonical --offline --af_1kg --dir /path/to/vep  --custom /path/to/gnomad/data/v3.0.0/hg38/gnomad.genomes.r3.0.sites.chr21.vcf.bgz,gnomADg,vcf,exact,0,AF,NFE > ../output/case4/AW8061/vep_processing/haplotype_caller/AW8061_chr21_vep.txt',\n",
       " 'vep -i ../output/case4/AW8061/vcf_processing/haplotype_caller/AW8061_chr22.maf.gz -o STDOUT -tab --assembly GRCh38 --no_stats --cache --symbol --protein --canonical --offline --af_1kg --dir /path/to/vep  --custom /path/to/gnomad/data/v3.0.0/hg38/gnomad.genomes.r3.0.sites.chr22.vcf.bgz,gnomADg,vcf,exact,0,AF,NFE > ../output/case4/AW8061/vep_processing/haplotype_caller/AW8061_chr22_vep.txt',\n",
       " 'vep -i ../output/case4/AW8061/vcf_processing/haplotype_caller/AW8061_chrX.maf.gz -o STDOUT -tab --assembly GRCh38 --no_stats --cache --symbol --protein --canonical --offline --af_1kg --dir /path/to/vep  --custom /path/to/gnomad/data/v3.0.0/hg38/gnomad.genomes.r3.0.sites.chrX.vcf.bgz,gnomADg,vcf,exact,0,AF,NFE > ../output/case4/AW8061/vep_processing/haplotype_caller/AW8061_chrX_vep.txt',\n",
       " 'vep -i ../output/case4/AW8061/vcf_processing/haplotype_caller/AW8061_chrY.maf.gz -o STDOUT -tab --assembly GRCh38 --no_stats --cache --symbol --protein --canonical --offline --af_1kg --dir /path/to/vep  --custom /path/to/gnomad/data/v3.0.0/hg38/gnomad.genomes.r3.0.sites.chrY.vcf.bgz,gnomADg,vcf,exact,0,AF,NFE > ../output/case4/AW8061/vep_processing/haplotype_caller/AW8061_chrY_vep.txt']"
      ]
     },
     "execution_count": 31,
     "metadata": {},
     "output_type": "execute_result"
    }
   ],
   "source": [
    "qmap_pre_params = ['[pre]','. \"/home/$USER/miniconda3/etc/profile.d/conda.sh\"','conda activate vep101','[params]','cores = 1','memory = 8G','[jobs]']\n",
    "qmap_file = qmap_pre_params + vep_commands\n",
    "qmap_file"
   ]
  },
  {
   "cell_type": "code",
   "execution_count": 32,
   "metadata": {},
   "outputs": [],
   "source": [
    "with open('./qmap_files/10_run_vep_gnomad_v3_haplocall.qmap', 'w') as f:\n",
    "    for item in qmap_file:\n",
    "        f.write('%s\\n' % item)"
   ]
  },
  {
   "cell_type": "markdown",
   "metadata": {},
   "source": [
    "## Process vep output from HaplotypeCaller"
   ]
  },
  {
   "cell_type": "code",
   "execution_count": 33,
   "metadata": {},
   "outputs": [
    {
     "data": {
      "text/plain": [
       "['[pre]',\n",
       " '. \"/home/$USER/miniconda3/etc/profile.d/conda.sh\"',\n",
       " 'conda activate process_vc',\n",
       " '[params]',\n",
       " 'cores = 16',\n",
       " 'memory = 100G',\n",
       " '[jobs]',\n",
       " 'python ../python_scripts/process_vep101_haplocall.py --path_input_vep ../output/case1/AQ5175/vep_processing/haplotype_caller/ --path_input_maf ../output/case1/AQ5175/vcf_processing/haplotype_caller/ --file_name AQ5175_chr1_vep.txt -c 16',\n",
       " 'python ../python_scripts/process_vep101_haplocall.py --path_input_vep ../output/case1/AQ5175/vep_processing/haplotype_caller/ --path_input_maf ../output/case1/AQ5175/vcf_processing/haplotype_caller/ --file_name AQ5175_chr2_vep.txt -c 16',\n",
       " 'python ../python_scripts/process_vep101_haplocall.py --path_input_vep ../output/case1/AQ5175/vep_processing/haplotype_caller/ --path_input_maf ../output/case1/AQ5175/vcf_processing/haplotype_caller/ --file_name AQ5175_chr3_vep.txt -c 16',\n",
       " 'python ../python_scripts/process_vep101_haplocall.py --path_input_vep ../output/case1/AQ5175/vep_processing/haplotype_caller/ --path_input_maf ../output/case1/AQ5175/vcf_processing/haplotype_caller/ --file_name AQ5175_chr4_vep.txt -c 16',\n",
       " 'python ../python_scripts/process_vep101_haplocall.py --path_input_vep ../output/case1/AQ5175/vep_processing/haplotype_caller/ --path_input_maf ../output/case1/AQ5175/vcf_processing/haplotype_caller/ --file_name AQ5175_chr5_vep.txt -c 16',\n",
       " 'python ../python_scripts/process_vep101_haplocall.py --path_input_vep ../output/case1/AQ5175/vep_processing/haplotype_caller/ --path_input_maf ../output/case1/AQ5175/vcf_processing/haplotype_caller/ --file_name AQ5175_chr6_vep.txt -c 16',\n",
       " 'python ../python_scripts/process_vep101_haplocall.py --path_input_vep ../output/case1/AQ5175/vep_processing/haplotype_caller/ --path_input_maf ../output/case1/AQ5175/vcf_processing/haplotype_caller/ --file_name AQ5175_chr7_vep.txt -c 16',\n",
       " 'python ../python_scripts/process_vep101_haplocall.py --path_input_vep ../output/case1/AQ5175/vep_processing/haplotype_caller/ --path_input_maf ../output/case1/AQ5175/vcf_processing/haplotype_caller/ --file_name AQ5175_chr8_vep.txt -c 16',\n",
       " 'python ../python_scripts/process_vep101_haplocall.py --path_input_vep ../output/case1/AQ5175/vep_processing/haplotype_caller/ --path_input_maf ../output/case1/AQ5175/vcf_processing/haplotype_caller/ --file_name AQ5175_chr9_vep.txt -c 16',\n",
       " 'python ../python_scripts/process_vep101_haplocall.py --path_input_vep ../output/case1/AQ5175/vep_processing/haplotype_caller/ --path_input_maf ../output/case1/AQ5175/vcf_processing/haplotype_caller/ --file_name AQ5175_chr10_vep.txt -c 16',\n",
       " 'python ../python_scripts/process_vep101_haplocall.py --path_input_vep ../output/case1/AQ5175/vep_processing/haplotype_caller/ --path_input_maf ../output/case1/AQ5175/vcf_processing/haplotype_caller/ --file_name AQ5175_chr11_vep.txt -c 16',\n",
       " 'python ../python_scripts/process_vep101_haplocall.py --path_input_vep ../output/case1/AQ5175/vep_processing/haplotype_caller/ --path_input_maf ../output/case1/AQ5175/vcf_processing/haplotype_caller/ --file_name AQ5175_chr12_vep.txt -c 16',\n",
       " 'python ../python_scripts/process_vep101_haplocall.py --path_input_vep ../output/case1/AQ5175/vep_processing/haplotype_caller/ --path_input_maf ../output/case1/AQ5175/vcf_processing/haplotype_caller/ --file_name AQ5175_chr13_vep.txt -c 16',\n",
       " 'python ../python_scripts/process_vep101_haplocall.py --path_input_vep ../output/case1/AQ5175/vep_processing/haplotype_caller/ --path_input_maf ../output/case1/AQ5175/vcf_processing/haplotype_caller/ --file_name AQ5175_chr14_vep.txt -c 16',\n",
       " 'python ../python_scripts/process_vep101_haplocall.py --path_input_vep ../output/case1/AQ5175/vep_processing/haplotype_caller/ --path_input_maf ../output/case1/AQ5175/vcf_processing/haplotype_caller/ --file_name AQ5175_chr15_vep.txt -c 16',\n",
       " 'python ../python_scripts/process_vep101_haplocall.py --path_input_vep ../output/case1/AQ5175/vep_processing/haplotype_caller/ --path_input_maf ../output/case1/AQ5175/vcf_processing/haplotype_caller/ --file_name AQ5175_chr16_vep.txt -c 16',\n",
       " 'python ../python_scripts/process_vep101_haplocall.py --path_input_vep ../output/case1/AQ5175/vep_processing/haplotype_caller/ --path_input_maf ../output/case1/AQ5175/vcf_processing/haplotype_caller/ --file_name AQ5175_chr17_vep.txt -c 16',\n",
       " 'python ../python_scripts/process_vep101_haplocall.py --path_input_vep ../output/case1/AQ5175/vep_processing/haplotype_caller/ --path_input_maf ../output/case1/AQ5175/vcf_processing/haplotype_caller/ --file_name AQ5175_chr18_vep.txt -c 16',\n",
       " 'python ../python_scripts/process_vep101_haplocall.py --path_input_vep ../output/case1/AQ5175/vep_processing/haplotype_caller/ --path_input_maf ../output/case1/AQ5175/vcf_processing/haplotype_caller/ --file_name AQ5175_chr19_vep.txt -c 16',\n",
       " 'python ../python_scripts/process_vep101_haplocall.py --path_input_vep ../output/case1/AQ5175/vep_processing/haplotype_caller/ --path_input_maf ../output/case1/AQ5175/vcf_processing/haplotype_caller/ --file_name AQ5175_chr20_vep.txt -c 16',\n",
       " 'python ../python_scripts/process_vep101_haplocall.py --path_input_vep ../output/case1/AQ5175/vep_processing/haplotype_caller/ --path_input_maf ../output/case1/AQ5175/vcf_processing/haplotype_caller/ --file_name AQ5175_chr21_vep.txt -c 16',\n",
       " 'python ../python_scripts/process_vep101_haplocall.py --path_input_vep ../output/case1/AQ5175/vep_processing/haplotype_caller/ --path_input_maf ../output/case1/AQ5175/vcf_processing/haplotype_caller/ --file_name AQ5175_chr22_vep.txt -c 16',\n",
       " 'python ../python_scripts/process_vep101_haplocall.py --path_input_vep ../output/case1/AQ5175/vep_processing/haplotype_caller/ --path_input_maf ../output/case1/AQ5175/vcf_processing/haplotype_caller/ --file_name AQ5175_chrX_vep.txt -c 16',\n",
       " 'python ../python_scripts/process_vep101_haplocall.py --path_input_vep ../output/case1/AQ5175/vep_processing/haplotype_caller/ --path_input_maf ../output/case1/AQ5175/vcf_processing/haplotype_caller/ --file_name AQ5175_chrY_vep.txt -c 16',\n",
       " 'python ../python_scripts/process_vep101_haplocall.py --path_input_vep ../output/case2/AQ5176/vep_processing/haplotype_caller/ --path_input_maf ../output/case2/AQ5176/vcf_processing/haplotype_caller/ --file_name AQ5176_chr1_vep.txt -c 16',\n",
       " 'python ../python_scripts/process_vep101_haplocall.py --path_input_vep ../output/case2/AQ5176/vep_processing/haplotype_caller/ --path_input_maf ../output/case2/AQ5176/vcf_processing/haplotype_caller/ --file_name AQ5176_chr2_vep.txt -c 16',\n",
       " 'python ../python_scripts/process_vep101_haplocall.py --path_input_vep ../output/case2/AQ5176/vep_processing/haplotype_caller/ --path_input_maf ../output/case2/AQ5176/vcf_processing/haplotype_caller/ --file_name AQ5176_chr3_vep.txt -c 16',\n",
       " 'python ../python_scripts/process_vep101_haplocall.py --path_input_vep ../output/case2/AQ5176/vep_processing/haplotype_caller/ --path_input_maf ../output/case2/AQ5176/vcf_processing/haplotype_caller/ --file_name AQ5176_chr4_vep.txt -c 16',\n",
       " 'python ../python_scripts/process_vep101_haplocall.py --path_input_vep ../output/case2/AQ5176/vep_processing/haplotype_caller/ --path_input_maf ../output/case2/AQ5176/vcf_processing/haplotype_caller/ --file_name AQ5176_chr5_vep.txt -c 16',\n",
       " 'python ../python_scripts/process_vep101_haplocall.py --path_input_vep ../output/case2/AQ5176/vep_processing/haplotype_caller/ --path_input_maf ../output/case2/AQ5176/vcf_processing/haplotype_caller/ --file_name AQ5176_chr6_vep.txt -c 16',\n",
       " 'python ../python_scripts/process_vep101_haplocall.py --path_input_vep ../output/case2/AQ5176/vep_processing/haplotype_caller/ --path_input_maf ../output/case2/AQ5176/vcf_processing/haplotype_caller/ --file_name AQ5176_chr7_vep.txt -c 16',\n",
       " 'python ../python_scripts/process_vep101_haplocall.py --path_input_vep ../output/case2/AQ5176/vep_processing/haplotype_caller/ --path_input_maf ../output/case2/AQ5176/vcf_processing/haplotype_caller/ --file_name AQ5176_chr8_vep.txt -c 16',\n",
       " 'python ../python_scripts/process_vep101_haplocall.py --path_input_vep ../output/case2/AQ5176/vep_processing/haplotype_caller/ --path_input_maf ../output/case2/AQ5176/vcf_processing/haplotype_caller/ --file_name AQ5176_chr9_vep.txt -c 16',\n",
       " 'python ../python_scripts/process_vep101_haplocall.py --path_input_vep ../output/case2/AQ5176/vep_processing/haplotype_caller/ --path_input_maf ../output/case2/AQ5176/vcf_processing/haplotype_caller/ --file_name AQ5176_chr10_vep.txt -c 16',\n",
       " 'python ../python_scripts/process_vep101_haplocall.py --path_input_vep ../output/case2/AQ5176/vep_processing/haplotype_caller/ --path_input_maf ../output/case2/AQ5176/vcf_processing/haplotype_caller/ --file_name AQ5176_chr11_vep.txt -c 16',\n",
       " 'python ../python_scripts/process_vep101_haplocall.py --path_input_vep ../output/case2/AQ5176/vep_processing/haplotype_caller/ --path_input_maf ../output/case2/AQ5176/vcf_processing/haplotype_caller/ --file_name AQ5176_chr12_vep.txt -c 16',\n",
       " 'python ../python_scripts/process_vep101_haplocall.py --path_input_vep ../output/case2/AQ5176/vep_processing/haplotype_caller/ --path_input_maf ../output/case2/AQ5176/vcf_processing/haplotype_caller/ --file_name AQ5176_chr13_vep.txt -c 16',\n",
       " 'python ../python_scripts/process_vep101_haplocall.py --path_input_vep ../output/case2/AQ5176/vep_processing/haplotype_caller/ --path_input_maf ../output/case2/AQ5176/vcf_processing/haplotype_caller/ --file_name AQ5176_chr14_vep.txt -c 16',\n",
       " 'python ../python_scripts/process_vep101_haplocall.py --path_input_vep ../output/case2/AQ5176/vep_processing/haplotype_caller/ --path_input_maf ../output/case2/AQ5176/vcf_processing/haplotype_caller/ --file_name AQ5176_chr15_vep.txt -c 16',\n",
       " 'python ../python_scripts/process_vep101_haplocall.py --path_input_vep ../output/case2/AQ5176/vep_processing/haplotype_caller/ --path_input_maf ../output/case2/AQ5176/vcf_processing/haplotype_caller/ --file_name AQ5176_chr16_vep.txt -c 16',\n",
       " 'python ../python_scripts/process_vep101_haplocall.py --path_input_vep ../output/case2/AQ5176/vep_processing/haplotype_caller/ --path_input_maf ../output/case2/AQ5176/vcf_processing/haplotype_caller/ --file_name AQ5176_chr17_vep.txt -c 16',\n",
       " 'python ../python_scripts/process_vep101_haplocall.py --path_input_vep ../output/case2/AQ5176/vep_processing/haplotype_caller/ --path_input_maf ../output/case2/AQ5176/vcf_processing/haplotype_caller/ --file_name AQ5176_chr18_vep.txt -c 16',\n",
       " 'python ../python_scripts/process_vep101_haplocall.py --path_input_vep ../output/case2/AQ5176/vep_processing/haplotype_caller/ --path_input_maf ../output/case2/AQ5176/vcf_processing/haplotype_caller/ --file_name AQ5176_chr19_vep.txt -c 16',\n",
       " 'python ../python_scripts/process_vep101_haplocall.py --path_input_vep ../output/case2/AQ5176/vep_processing/haplotype_caller/ --path_input_maf ../output/case2/AQ5176/vcf_processing/haplotype_caller/ --file_name AQ5176_chr20_vep.txt -c 16',\n",
       " 'python ../python_scripts/process_vep101_haplocall.py --path_input_vep ../output/case2/AQ5176/vep_processing/haplotype_caller/ --path_input_maf ../output/case2/AQ5176/vcf_processing/haplotype_caller/ --file_name AQ5176_chr21_vep.txt -c 16',\n",
       " 'python ../python_scripts/process_vep101_haplocall.py --path_input_vep ../output/case2/AQ5176/vep_processing/haplotype_caller/ --path_input_maf ../output/case2/AQ5176/vcf_processing/haplotype_caller/ --file_name AQ5176_chr22_vep.txt -c 16',\n",
       " 'python ../python_scripts/process_vep101_haplocall.py --path_input_vep ../output/case2/AQ5176/vep_processing/haplotype_caller/ --path_input_maf ../output/case2/AQ5176/vcf_processing/haplotype_caller/ --file_name AQ5176_chrX_vep.txt -c 16',\n",
       " 'python ../python_scripts/process_vep101_haplocall.py --path_input_vep ../output/case2/AQ5176/vep_processing/haplotype_caller/ --path_input_maf ../output/case2/AQ5176/vcf_processing/haplotype_caller/ --file_name AQ5176_chrY_vep.txt -c 16',\n",
       " 'python ../python_scripts/process_vep101_haplocall.py --path_input_vep ../output/case3/AQ5174/vep_processing/haplotype_caller/ --path_input_maf ../output/case3/AQ5174/vcf_processing/haplotype_caller/ --file_name AQ5174_chr1_vep.txt -c 16',\n",
       " 'python ../python_scripts/process_vep101_haplocall.py --path_input_vep ../output/case3/AQ5174/vep_processing/haplotype_caller/ --path_input_maf ../output/case3/AQ5174/vcf_processing/haplotype_caller/ --file_name AQ5174_chr2_vep.txt -c 16',\n",
       " 'python ../python_scripts/process_vep101_haplocall.py --path_input_vep ../output/case3/AQ5174/vep_processing/haplotype_caller/ --path_input_maf ../output/case3/AQ5174/vcf_processing/haplotype_caller/ --file_name AQ5174_chr3_vep.txt -c 16',\n",
       " 'python ../python_scripts/process_vep101_haplocall.py --path_input_vep ../output/case3/AQ5174/vep_processing/haplotype_caller/ --path_input_maf ../output/case3/AQ5174/vcf_processing/haplotype_caller/ --file_name AQ5174_chr4_vep.txt -c 16',\n",
       " 'python ../python_scripts/process_vep101_haplocall.py --path_input_vep ../output/case3/AQ5174/vep_processing/haplotype_caller/ --path_input_maf ../output/case3/AQ5174/vcf_processing/haplotype_caller/ --file_name AQ5174_chr5_vep.txt -c 16',\n",
       " 'python ../python_scripts/process_vep101_haplocall.py --path_input_vep ../output/case3/AQ5174/vep_processing/haplotype_caller/ --path_input_maf ../output/case3/AQ5174/vcf_processing/haplotype_caller/ --file_name AQ5174_chr6_vep.txt -c 16',\n",
       " 'python ../python_scripts/process_vep101_haplocall.py --path_input_vep ../output/case3/AQ5174/vep_processing/haplotype_caller/ --path_input_maf ../output/case3/AQ5174/vcf_processing/haplotype_caller/ --file_name AQ5174_chr7_vep.txt -c 16',\n",
       " 'python ../python_scripts/process_vep101_haplocall.py --path_input_vep ../output/case3/AQ5174/vep_processing/haplotype_caller/ --path_input_maf ../output/case3/AQ5174/vcf_processing/haplotype_caller/ --file_name AQ5174_chr8_vep.txt -c 16',\n",
       " 'python ../python_scripts/process_vep101_haplocall.py --path_input_vep ../output/case3/AQ5174/vep_processing/haplotype_caller/ --path_input_maf ../output/case3/AQ5174/vcf_processing/haplotype_caller/ --file_name AQ5174_chr9_vep.txt -c 16',\n",
       " 'python ../python_scripts/process_vep101_haplocall.py --path_input_vep ../output/case3/AQ5174/vep_processing/haplotype_caller/ --path_input_maf ../output/case3/AQ5174/vcf_processing/haplotype_caller/ --file_name AQ5174_chr10_vep.txt -c 16',\n",
       " 'python ../python_scripts/process_vep101_haplocall.py --path_input_vep ../output/case3/AQ5174/vep_processing/haplotype_caller/ --path_input_maf ../output/case3/AQ5174/vcf_processing/haplotype_caller/ --file_name AQ5174_chr11_vep.txt -c 16',\n",
       " 'python ../python_scripts/process_vep101_haplocall.py --path_input_vep ../output/case3/AQ5174/vep_processing/haplotype_caller/ --path_input_maf ../output/case3/AQ5174/vcf_processing/haplotype_caller/ --file_name AQ5174_chr12_vep.txt -c 16',\n",
       " 'python ../python_scripts/process_vep101_haplocall.py --path_input_vep ../output/case3/AQ5174/vep_processing/haplotype_caller/ --path_input_maf ../output/case3/AQ5174/vcf_processing/haplotype_caller/ --file_name AQ5174_chr13_vep.txt -c 16',\n",
       " 'python ../python_scripts/process_vep101_haplocall.py --path_input_vep ../output/case3/AQ5174/vep_processing/haplotype_caller/ --path_input_maf ../output/case3/AQ5174/vcf_processing/haplotype_caller/ --file_name AQ5174_chr14_vep.txt -c 16',\n",
       " 'python ../python_scripts/process_vep101_haplocall.py --path_input_vep ../output/case3/AQ5174/vep_processing/haplotype_caller/ --path_input_maf ../output/case3/AQ5174/vcf_processing/haplotype_caller/ --file_name AQ5174_chr15_vep.txt -c 16',\n",
       " 'python ../python_scripts/process_vep101_haplocall.py --path_input_vep ../output/case3/AQ5174/vep_processing/haplotype_caller/ --path_input_maf ../output/case3/AQ5174/vcf_processing/haplotype_caller/ --file_name AQ5174_chr16_vep.txt -c 16',\n",
       " 'python ../python_scripts/process_vep101_haplocall.py --path_input_vep ../output/case3/AQ5174/vep_processing/haplotype_caller/ --path_input_maf ../output/case3/AQ5174/vcf_processing/haplotype_caller/ --file_name AQ5174_chr17_vep.txt -c 16',\n",
       " 'python ../python_scripts/process_vep101_haplocall.py --path_input_vep ../output/case3/AQ5174/vep_processing/haplotype_caller/ --path_input_maf ../output/case3/AQ5174/vcf_processing/haplotype_caller/ --file_name AQ5174_chr18_vep.txt -c 16',\n",
       " 'python ../python_scripts/process_vep101_haplocall.py --path_input_vep ../output/case3/AQ5174/vep_processing/haplotype_caller/ --path_input_maf ../output/case3/AQ5174/vcf_processing/haplotype_caller/ --file_name AQ5174_chr19_vep.txt -c 16',\n",
       " 'python ../python_scripts/process_vep101_haplocall.py --path_input_vep ../output/case3/AQ5174/vep_processing/haplotype_caller/ --path_input_maf ../output/case3/AQ5174/vcf_processing/haplotype_caller/ --file_name AQ5174_chr20_vep.txt -c 16',\n",
       " 'python ../python_scripts/process_vep101_haplocall.py --path_input_vep ../output/case3/AQ5174/vep_processing/haplotype_caller/ --path_input_maf ../output/case3/AQ5174/vcf_processing/haplotype_caller/ --file_name AQ5174_chr21_vep.txt -c 16',\n",
       " 'python ../python_scripts/process_vep101_haplocall.py --path_input_vep ../output/case3/AQ5174/vep_processing/haplotype_caller/ --path_input_maf ../output/case3/AQ5174/vcf_processing/haplotype_caller/ --file_name AQ5174_chr22_vep.txt -c 16',\n",
       " 'python ../python_scripts/process_vep101_haplocall.py --path_input_vep ../output/case3/AQ5174/vep_processing/haplotype_caller/ --path_input_maf ../output/case3/AQ5174/vcf_processing/haplotype_caller/ --file_name AQ5174_chrX_vep.txt -c 16',\n",
       " 'python ../python_scripts/process_vep101_haplocall.py --path_input_vep ../output/case3/AQ5174/vep_processing/haplotype_caller/ --path_input_maf ../output/case3/AQ5174/vcf_processing/haplotype_caller/ --file_name AQ5174_chrY_vep.txt -c 16',\n",
       " 'python ../python_scripts/process_vep101_haplocall.py --path_input_vep ../output/case4/AW8061/vep_processing/haplotype_caller/ --path_input_maf ../output/case4/AW8061/vcf_processing/haplotype_caller/ --file_name AW8061_chr1_vep.txt -c 16',\n",
       " 'python ../python_scripts/process_vep101_haplocall.py --path_input_vep ../output/case4/AW8061/vep_processing/haplotype_caller/ --path_input_maf ../output/case4/AW8061/vcf_processing/haplotype_caller/ --file_name AW8061_chr2_vep.txt -c 16',\n",
       " 'python ../python_scripts/process_vep101_haplocall.py --path_input_vep ../output/case4/AW8061/vep_processing/haplotype_caller/ --path_input_maf ../output/case4/AW8061/vcf_processing/haplotype_caller/ --file_name AW8061_chr3_vep.txt -c 16',\n",
       " 'python ../python_scripts/process_vep101_haplocall.py --path_input_vep ../output/case4/AW8061/vep_processing/haplotype_caller/ --path_input_maf ../output/case4/AW8061/vcf_processing/haplotype_caller/ --file_name AW8061_chr4_vep.txt -c 16',\n",
       " 'python ../python_scripts/process_vep101_haplocall.py --path_input_vep ../output/case4/AW8061/vep_processing/haplotype_caller/ --path_input_maf ../output/case4/AW8061/vcf_processing/haplotype_caller/ --file_name AW8061_chr5_vep.txt -c 16',\n",
       " 'python ../python_scripts/process_vep101_haplocall.py --path_input_vep ../output/case4/AW8061/vep_processing/haplotype_caller/ --path_input_maf ../output/case4/AW8061/vcf_processing/haplotype_caller/ --file_name AW8061_chr6_vep.txt -c 16',\n",
       " 'python ../python_scripts/process_vep101_haplocall.py --path_input_vep ../output/case4/AW8061/vep_processing/haplotype_caller/ --path_input_maf ../output/case4/AW8061/vcf_processing/haplotype_caller/ --file_name AW8061_chr7_vep.txt -c 16',\n",
       " 'python ../python_scripts/process_vep101_haplocall.py --path_input_vep ../output/case4/AW8061/vep_processing/haplotype_caller/ --path_input_maf ../output/case4/AW8061/vcf_processing/haplotype_caller/ --file_name AW8061_chr8_vep.txt -c 16',\n",
       " 'python ../python_scripts/process_vep101_haplocall.py --path_input_vep ../output/case4/AW8061/vep_processing/haplotype_caller/ --path_input_maf ../output/case4/AW8061/vcf_processing/haplotype_caller/ --file_name AW8061_chr9_vep.txt -c 16',\n",
       " 'python ../python_scripts/process_vep101_haplocall.py --path_input_vep ../output/case4/AW8061/vep_processing/haplotype_caller/ --path_input_maf ../output/case4/AW8061/vcf_processing/haplotype_caller/ --file_name AW8061_chr10_vep.txt -c 16',\n",
       " 'python ../python_scripts/process_vep101_haplocall.py --path_input_vep ../output/case4/AW8061/vep_processing/haplotype_caller/ --path_input_maf ../output/case4/AW8061/vcf_processing/haplotype_caller/ --file_name AW8061_chr11_vep.txt -c 16',\n",
       " 'python ../python_scripts/process_vep101_haplocall.py --path_input_vep ../output/case4/AW8061/vep_processing/haplotype_caller/ --path_input_maf ../output/case4/AW8061/vcf_processing/haplotype_caller/ --file_name AW8061_chr12_vep.txt -c 16',\n",
       " 'python ../python_scripts/process_vep101_haplocall.py --path_input_vep ../output/case4/AW8061/vep_processing/haplotype_caller/ --path_input_maf ../output/case4/AW8061/vcf_processing/haplotype_caller/ --file_name AW8061_chr13_vep.txt -c 16',\n",
       " 'python ../python_scripts/process_vep101_haplocall.py --path_input_vep ../output/case4/AW8061/vep_processing/haplotype_caller/ --path_input_maf ../output/case4/AW8061/vcf_processing/haplotype_caller/ --file_name AW8061_chr14_vep.txt -c 16',\n",
       " 'python ../python_scripts/process_vep101_haplocall.py --path_input_vep ../output/case4/AW8061/vep_processing/haplotype_caller/ --path_input_maf ../output/case4/AW8061/vcf_processing/haplotype_caller/ --file_name AW8061_chr15_vep.txt -c 16',\n",
       " 'python ../python_scripts/process_vep101_haplocall.py --path_input_vep ../output/case4/AW8061/vep_processing/haplotype_caller/ --path_input_maf ../output/case4/AW8061/vcf_processing/haplotype_caller/ --file_name AW8061_chr16_vep.txt -c 16',\n",
       " 'python ../python_scripts/process_vep101_haplocall.py --path_input_vep ../output/case4/AW8061/vep_processing/haplotype_caller/ --path_input_maf ../output/case4/AW8061/vcf_processing/haplotype_caller/ --file_name AW8061_chr17_vep.txt -c 16',\n",
       " 'python ../python_scripts/process_vep101_haplocall.py --path_input_vep ../output/case4/AW8061/vep_processing/haplotype_caller/ --path_input_maf ../output/case4/AW8061/vcf_processing/haplotype_caller/ --file_name AW8061_chr18_vep.txt -c 16',\n",
       " 'python ../python_scripts/process_vep101_haplocall.py --path_input_vep ../output/case4/AW8061/vep_processing/haplotype_caller/ --path_input_maf ../output/case4/AW8061/vcf_processing/haplotype_caller/ --file_name AW8061_chr19_vep.txt -c 16',\n",
       " 'python ../python_scripts/process_vep101_haplocall.py --path_input_vep ../output/case4/AW8061/vep_processing/haplotype_caller/ --path_input_maf ../output/case4/AW8061/vcf_processing/haplotype_caller/ --file_name AW8061_chr20_vep.txt -c 16',\n",
       " 'python ../python_scripts/process_vep101_haplocall.py --path_input_vep ../output/case4/AW8061/vep_processing/haplotype_caller/ --path_input_maf ../output/case4/AW8061/vcf_processing/haplotype_caller/ --file_name AW8061_chr21_vep.txt -c 16',\n",
       " 'python ../python_scripts/process_vep101_haplocall.py --path_input_vep ../output/case4/AW8061/vep_processing/haplotype_caller/ --path_input_maf ../output/case4/AW8061/vcf_processing/haplotype_caller/ --file_name AW8061_chr22_vep.txt -c 16',\n",
       " 'python ../python_scripts/process_vep101_haplocall.py --path_input_vep ../output/case4/AW8061/vep_processing/haplotype_caller/ --path_input_maf ../output/case4/AW8061/vcf_processing/haplotype_caller/ --file_name AW8061_chrX_vep.txt -c 16',\n",
       " 'python ../python_scripts/process_vep101_haplocall.py --path_input_vep ../output/case4/AW8061/vep_processing/haplotype_caller/ --path_input_maf ../output/case4/AW8061/vcf_processing/haplotype_caller/ --file_name AW8061_chrY_vep.txt -c 16']"
      ]
     },
     "execution_count": 33,
     "metadata": {},
     "output_type": "execute_result"
    }
   ],
   "source": [
    "#run process_vep command\n",
    "\n",
    "python_file = '../python_scripts/process_vep101_haplocall.py'\n",
    "process_vep_commands = []\n",
    "for pt in samples.keys():\n",
    "    for chrom in chroms:\n",
    "        normal = samples[pt]['normal']\n",
    "        file_name = normal + '_' + chrom + '_vep.txt'\n",
    "        maf_url = os.path.join(root_out,pt,normal,'vcf_processing','haplotype_caller/')\n",
    "        vep_url = os.path.join(root_out,pt,normal,'vep_processing','haplotype_caller/')\n",
    "        command = 'python '+python_file+' --path_input_vep '+vep_url+' --path_input_maf '+maf_url+' --file_name '+file_name +' -c 16'\n",
    "        process_vep_commands.append(command)\n",
    "\n",
    "qmap_pre_params = ['[pre]','. \"/home/$USER/miniconda3/etc/profile.d/conda.sh\"','conda activate process_vc','[params]','cores = 16','memory = 100G','[jobs]']\n",
    "qmap_file = qmap_pre_params + process_vep_commands\n",
    "qmap_file"
   ]
  },
  {
   "cell_type": "code",
   "execution_count": 34,
   "metadata": {},
   "outputs": [],
   "source": [
    "with open('./qmap_files/11_process_vep_haplocall.qmap', 'w') as f:\n",
    "    for item in qmap_file:\n",
    "        f.write('%s\\n' % item)"
   ]
  },
  {
   "cell_type": "markdown",
   "metadata": {},
   "source": [
    "## Filter and prepare germline alterations table (HaplotypeCaller)"
   ]
  },
  {
   "cell_type": "code",
   "execution_count": 35,
   "metadata": {
    "scrolled": true
   },
   "outputs": [
    {
     "data": {
      "text/plain": [
       "['python ../python_scripts/filter_and_annot_muts.py -i ../output/case1/AQ5175/process_vep_output/haplotype_caller/ -o ../output/case1/AQ5175/filter_and_annot/haplotype_caller/ -n_id AQ5175 -c hc --gnomad_threshold 0.01',\n",
       " 'python ../python_scripts/filter_and_annot_muts.py -i ../output/case2/AQ5176/process_vep_output/haplotype_caller/ -o ../output/case2/AQ5176/filter_and_annot/haplotype_caller/ -n_id AQ5176 -c hc --gnomad_threshold 0.01',\n",
       " 'python ../python_scripts/filter_and_annot_muts.py -i ../output/case3/AQ5174/process_vep_output/haplotype_caller/ -o ../output/case3/AQ5174/filter_and_annot/haplotype_caller/ -n_id AQ5174 -c hc --gnomad_threshold 0.01',\n",
       " 'python ../python_scripts/filter_and_annot_muts.py -i ../output/case4/AW8061/process_vep_output/haplotype_caller/ -o ../output/case4/AW8061/filter_and_annot/haplotype_caller/ -n_id AW8061 -c hc --gnomad_threshold 0.01']"
      ]
     },
     "execution_count": 35,
     "metadata": {},
     "output_type": "execute_result"
    }
   ],
   "source": [
    "python_file = '../python_scripts/filter_and_annot_muts.py'\n",
    "\n",
    "commands = []\n",
    "for pt in samples.keys():\n",
    "    #tumor1\n",
    "    normal = samples[pt]['normal']\n",
    "    input_dir =  root_out+pt+'/'+normal+'/process_vep_output/haplotype_caller/'\n",
    "    output_dir = root_out+pt+'/'+normal+'/filter_and_annot/haplotype_caller/'\n",
    "    command = 'python '+python_file+' -i '+input_dir+' -o '+output_dir+' -n_id '+normal+' -c hc --gnomad_threshold 0.01'\n",
    "    commands.append(command)\n",
    "commands"
   ]
  },
  {
   "cell_type": "code",
   "execution_count": 36,
   "metadata": {
    "scrolled": true
   },
   "outputs": [
    {
     "data": {
      "text/plain": [
       "['[pre]',\n",
       " '. \"/home/$USER/miniconda3/etc/profile.d/conda.sh\"',\n",
       " 'conda activate process_vc',\n",
       " '[params]',\n",
       " 'cores = 1',\n",
       " 'memory = 8G',\n",
       " '[jobs]',\n",
       " 'python ../python_scripts/filter_and_annot_muts.py -i ../output/case1/AQ5175/process_vep_output/haplotype_caller/ -o ../output/case1/AQ5175/filter_and_annot/haplotype_caller/ -n_id AQ5175 -c hc --gnomad_threshold 0.01',\n",
       " 'python ../python_scripts/filter_and_annot_muts.py -i ../output/case2/AQ5176/process_vep_output/haplotype_caller/ -o ../output/case2/AQ5176/filter_and_annot/haplotype_caller/ -n_id AQ5176 -c hc --gnomad_threshold 0.01',\n",
       " 'python ../python_scripts/filter_and_annot_muts.py -i ../output/case3/AQ5174/process_vep_output/haplotype_caller/ -o ../output/case3/AQ5174/filter_and_annot/haplotype_caller/ -n_id AQ5174 -c hc --gnomad_threshold 0.01',\n",
       " 'python ../python_scripts/filter_and_annot_muts.py -i ../output/case4/AW8061/process_vep_output/haplotype_caller/ -o ../output/case4/AW8061/filter_and_annot/haplotype_caller/ -n_id AW8061 -c hc --gnomad_threshold 0.01']"
      ]
     },
     "execution_count": 36,
     "metadata": {},
     "output_type": "execute_result"
    }
   ],
   "source": [
    "qmap_pre_params = ['[pre]','. \"/home/$USER/miniconda3/etc/profile.d/conda.sh\"','conda activate process_vc','[params]','cores = 1','memory = 8G','[jobs]']\n",
    "qmap_file = qmap_pre_params + commands\n",
    "qmap_file"
   ]
  },
  {
   "cell_type": "code",
   "execution_count": 37,
   "metadata": {},
   "outputs": [],
   "source": [
    "#Save qmap file\n",
    "\n",
    "with open('./qmap_files/12_filter_and_annot_germline_haplocall.qmap', 'w') as f:\n",
    "    for item in qmap_file:\n",
    "        f.write('%s\\n' % item)"
   ]
  },
  {
   "cell_type": "markdown",
   "metadata": {},
   "source": [
    "## Process vcf from GRIPSS (Germline SV)"
   ]
  },
  {
   "cell_type": "code",
   "execution_count": 38,
   "metadata": {
    "scrolled": true
   },
   "outputs": [
    {
     "data": {
      "text/plain": [
       "['python ../python_scripts/process_gridds.py -i /path/to/hmf_pipeline/output/gripss_germline/AQ5175.gripss.filtered.germline.vcf.gz -o ../output/case1/AQ5175/process_sv/gripss/t1/ -gp ../data/genomic_positions_ensembl.txt.gz -ct ../data/ensembl_canonical_transcripts.tsv -n_id AQ5175 --is_germline',\n",
       " 'python ../python_scripts/process_gridds.py -i /path/to/hmf_pipeline/output/gripss_germline/AQ5175.gripss.filtered.germline.vcf.gz -o ../output/case1/AQ5175/process_sv/gripss/t2/ -gp ../data/genomic_positions_ensembl.txt.gz -ct ../data/ensembl_canonical_transcripts.tsv -n_id AQ5175 --is_germline',\n",
       " 'python ../python_scripts/process_gridds.py -i /path/to/hmf_pipeline/output/gripss_germline/AQ5176.gripss.filtered.germline.vcf.gz -o ../output/case2/AQ5176/process_sv/gripss/t1/ -gp ../data/genomic_positions_ensembl.txt.gz -ct ../data/ensembl_canonical_transcripts.tsv -n_id AQ5176 --is_germline',\n",
       " 'python ../python_scripts/process_gridds.py -i /path/to/hmf_pipeline/output/gripss_germline/AQ5176.gripss.filtered.germline.vcf.gz -o ../output/case2/AQ5176/process_sv/gripss/t2/ -gp ../data/genomic_positions_ensembl.txt.gz -ct ../data/ensembl_canonical_transcripts.tsv -n_id AQ5176 --is_germline',\n",
       " 'python ../python_scripts/process_gridds.py -i /path/to/hmf_pipeline/output/gripss_germline/AQ5174.gripss.filtered.germline.vcf.gz -o ../output/case3/AQ5174/process_sv/gripss/t1/ -gp ../data/genomic_positions_ensembl.txt.gz -ct ../data/ensembl_canonical_transcripts.tsv -n_id AQ5174 --is_germline',\n",
       " 'python ../python_scripts/process_gridds.py -i /path/to/hmf_pipeline/output/gripss_germline/AQ5174.gripss.filtered.germline.vcf.gz -o ../output/case3/AQ5174/process_sv/gripss/t2/ -gp ../data/genomic_positions_ensembl.txt.gz -ct ../data/ensembl_canonical_transcripts.tsv -n_id AQ5174 --is_germline',\n",
       " 'python ../python_scripts/process_gridds.py -i /path/to/hmf_pipeline/output/gripss_germline/AW8061.gripss.filtered.germline.vcf.gz -o ../output/case4/AW8061/process_sv/gripss/t1/ -gp ../data/genomic_positions_ensembl.txt.gz -ct ../data/ensembl_canonical_transcripts.tsv -n_id AW8061 --is_germline',\n",
       " 'python ../python_scripts/process_gridds.py -i /path/to/hmf_pipeline/output/gripss_germline/AW8061.gripss.filtered.germline.vcf.gz -o ../output/case4/AW8061/process_sv/gripss/t2/ -gp ../data/genomic_positions_ensembl.txt.gz -ct ../data/ensembl_canonical_transcripts.tsv -n_id AW8061 --is_germline']"
      ]
     },
     "execution_count": 38,
     "metadata": {},
     "output_type": "execute_result"
    }
   ],
   "source": [
    "python_file = '../python_scripts/process_gridds.py'\n",
    "genomic_positions = '../data/genomic_positions_ensembl.txt.gz'\n",
    "canonical_transcripts = '../data/ensembl_canonical_transcripts.tsv'\n",
    "\n",
    "commands = []\n",
    "for pt in samples.keys():\n",
    "    #tumor1\n",
    "    tumor = samples[pt]['tumor1']\n",
    "    normal = samples[pt]['normal']\n",
    "    input_vcf = root_in_hmf+'gripss_germline/'+normal+'.gripss.filtered.germline.vcf.gz'\n",
    "    output_dir = root_out+pt+'/'+normal+'/process_sv/gripss/t1/'\n",
    "    command = 'python '+python_file+' -i '+input_vcf+' -o '+output_dir+' -gp '+genomic_positions+' -ct '+canonical_transcripts+' -n_id '+normal+' --is_germline'\n",
    "    commands.append(command)\n",
    "    #tumor2\n",
    "    tumor = samples[pt]['tumor2']\n",
    "    input_vcf = root_in_hmf+'gripss_germline/'+normal+'.gripss.filtered.germline.vcf.gz'\n",
    "    output_dir = root_out+pt+'/'+normal+'/process_sv/gripss/t2/'\n",
    "    command = 'python '+python_file+' -i '+input_vcf+' -o '+output_dir+' -gp '+genomic_positions+' -ct '+canonical_transcripts+' -n_id '+normal+' --is_germline'\n",
    "    commands.append(command)\n",
    "commands"
   ]
  },
  {
   "cell_type": "code",
   "execution_count": 39,
   "metadata": {
    "scrolled": true
   },
   "outputs": [
    {
     "data": {
      "text/plain": [
       "['[pre]',\n",
       " '. \"/home/$USER/miniconda3/etc/profile.d/conda.sh\"',\n",
       " 'conda activate process_vc',\n",
       " '[params]',\n",
       " 'cores = 1',\n",
       " 'memory = 8G',\n",
       " '[jobs]',\n",
       " 'python ../python_scripts/process_gridds.py -i /path/to/hmf_pipeline/output/gripss_germline/AQ5175.gripss.filtered.germline.vcf.gz -o ../output/case1/AQ5175/process_sv/gripss/t1/ -gp ../data/genomic_positions_ensembl.txt.gz -ct ../data/ensembl_canonical_transcripts.tsv -n_id AQ5175 --is_germline',\n",
       " 'python ../python_scripts/process_gridds.py -i /path/to/hmf_pipeline/output/gripss_germline/AQ5175.gripss.filtered.germline.vcf.gz -o ../output/case1/AQ5175/process_sv/gripss/t2/ -gp ../data/genomic_positions_ensembl.txt.gz -ct ../data/ensembl_canonical_transcripts.tsv -n_id AQ5175 --is_germline',\n",
       " 'python ../python_scripts/process_gridds.py -i /path/to/hmf_pipeline/output/gripss_germline/AQ5176.gripss.filtered.germline.vcf.gz -o ../output/case2/AQ5176/process_sv/gripss/t1/ -gp ../data/genomic_positions_ensembl.txt.gz -ct ../data/ensembl_canonical_transcripts.tsv -n_id AQ5176 --is_germline',\n",
       " 'python ../python_scripts/process_gridds.py -i /path/to/hmf_pipeline/output/gripss_germline/AQ5176.gripss.filtered.germline.vcf.gz -o ../output/case2/AQ5176/process_sv/gripss/t2/ -gp ../data/genomic_positions_ensembl.txt.gz -ct ../data/ensembl_canonical_transcripts.tsv -n_id AQ5176 --is_germline',\n",
       " 'python ../python_scripts/process_gridds.py -i /path/to/hmf_pipeline/output/gripss_germline/AQ5174.gripss.filtered.germline.vcf.gz -o ../output/case3/AQ5174/process_sv/gripss/t1/ -gp ../data/genomic_positions_ensembl.txt.gz -ct ../data/ensembl_canonical_transcripts.tsv -n_id AQ5174 --is_germline',\n",
       " 'python ../python_scripts/process_gridds.py -i /path/to/hmf_pipeline/output/gripss_germline/AQ5174.gripss.filtered.germline.vcf.gz -o ../output/case3/AQ5174/process_sv/gripss/t2/ -gp ../data/genomic_positions_ensembl.txt.gz -ct ../data/ensembl_canonical_transcripts.tsv -n_id AQ5174 --is_germline',\n",
       " 'python ../python_scripts/process_gridds.py -i /path/to/hmf_pipeline/output/gripss_germline/AW8061.gripss.filtered.germline.vcf.gz -o ../output/case4/AW8061/process_sv/gripss/t1/ -gp ../data/genomic_positions_ensembl.txt.gz -ct ../data/ensembl_canonical_transcripts.tsv -n_id AW8061 --is_germline',\n",
       " 'python ../python_scripts/process_gridds.py -i /path/to/hmf_pipeline/output/gripss_germline/AW8061.gripss.filtered.germline.vcf.gz -o ../output/case4/AW8061/process_sv/gripss/t2/ -gp ../data/genomic_positions_ensembl.txt.gz -ct ../data/ensembl_canonical_transcripts.tsv -n_id AW8061 --is_germline']"
      ]
     },
     "execution_count": 39,
     "metadata": {},
     "output_type": "execute_result"
    }
   ],
   "source": [
    "qmap_pre_params = ['[pre]','. \"/home/$USER/miniconda3/etc/profile.d/conda.sh\"','conda activate process_vc','[params]','cores = 1','memory = 8G','[jobs]']\n",
    "qmap_file = qmap_pre_params + commands\n",
    "qmap_file"
   ]
  },
  {
   "cell_type": "code",
   "execution_count": 40,
   "metadata": {},
   "outputs": [],
   "source": [
    "#Save qmap file\n",
    "\n",
    "with open('./qmap_files/13_process_gripss_germline.qmap', 'w') as f:\n",
    "    for item in qmap_file:\n",
    "        f.write('%s\\n' % item)"
   ]
  }
 ],
 "metadata": {
  "kernelspec": {
   "display_name": "Python [conda env:process_vc]",
   "language": "python",
   "name": "conda-env-process_vc-py"
  },
  "language_info": {
   "codemirror_mode": {
    "name": "ipython",
    "version": 3
   },
   "file_extension": ".py",
   "mimetype": "text/x-python",
   "name": "python",
   "nbconvert_exporter": "python",
   "pygments_lexer": "ipython3",
   "version": "3.6.11"
  }
 },
 "nbformat": 4,
 "nbformat_minor": 4
}
