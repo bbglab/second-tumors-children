{
 "cells": [
  {
   "cell_type": "markdown",
   "metadata": {},
   "source": [
    "# Prepare qmaps for variant callers results postprocessing"
   ]
  },
  {
   "cell_type": "code",
   "execution_count": 2,
   "metadata": {},
   "outputs": [],
   "source": [
    "import json\n",
    "import pandas as pd\n",
    "import os"
   ]
  },
  {
   "cell_type": "code",
   "execution_count": 3,
   "metadata": {
    "scrolled": true
   },
   "outputs": [
    {
     "data": {
      "text/plain": [
       "{'normal': 'AQ5174',\n",
       " 'tumor1': 'AQ5180',\n",
       " 'tumor2': 'AQ5186',\n",
       " 'sex': 'female',\n",
       " 'kidney': 'AX4954',\n",
       " 'liver': 'AX4955',\n",
       " 'pancreas': 'AX4956',\n",
       " 'heart': 'AX4957',\n",
       " 'clone1': 'AX4958',\n",
       " 'clone2': 'AX4961',\n",
       " 'mother': 'AW8063',\n",
       " 'father': 'AW8064',\n",
       " 'lung': 'AX4962',\n",
       " 'medulla': 'AX4963',\n",
       " 'spleen': 'AX4964',\n",
       " 'brain': 'AX4965',\n",
       " 'bma': 'AX4966'}"
      ]
     },
     "execution_count": 3,
     "metadata": {},
     "output_type": "execute_result"
    }
   ],
   "source": [
    "samples = json.load( open( \"../../../cases_ids.json\", \"rb\" ) )\n",
    "samples['case3']"
   ]
  },
  {
   "cell_type": "code",
   "execution_count": 6,
   "metadata": {},
   "outputs": [
    {
     "data": {
      "text/plain": [
       "['./output/',\n",
       " './output/case3/',\n",
       " './output/case3/AX4958_vs_AQ5174/',\n",
       " './output/case3/AX4958_vs_AQ5174/vcf_processing/',\n",
       " './output/case3/AX4958_vs_AQ5174/vcf_processing/strelka',\n",
       " './output/case3/AX4961_vs_AQ5174/',\n",
       " './output/case3/AX4961_vs_AQ5174/vcf_processing/',\n",
       " './output/case3/AX4961_vs_AQ5174/vcf_processing/strelka']"
      ]
     },
     "execution_count": 6,
     "metadata": {},
     "output_type": "execute_result"
    }
   ],
   "source": [
    "# create a list with all the necessary folders for all the processed files\n",
    "\n",
    "path = './output/' #change accordingly to another directory if needed\n",
    "folders = []\n",
    "folders.append(path)\n",
    "pt = 'case3'\n",
    "pt_folder = path+pt+'/'\n",
    "folders.append(pt_folder)\n",
    "for t in ['clone1','clone2']:\n",
    "    tumor = samples[pt][t]\n",
    "    normal = samples[pt]['normal']\n",
    "    t_vs_n = tumor + '_vs_' + normal\n",
    "    t_folder = pt_folder + t_vs_n + '/'\n",
    "    vcf_folder = t_folder +'vcf_processing/'\n",
    "    folders.append(t_folder)\n",
    "    folders.append(vcf_folder)\n",
    "    caller = 'strelka'\n",
    "    caller_folder = vcf_folder + caller\n",
    "    folders.append(caller_folder)\n",
    "folders"
   ]
  },
  {
   "cell_type": "code",
   "execution_count": 7,
   "metadata": {},
   "outputs": [],
   "source": [
    "#create folders\n",
    "for folder in folders:\n",
    "    if not os.path.exists(folder):\n",
    "        os.mkdir(folder)"
   ]
  },
  {
   "cell_type": "markdown",
   "metadata": {},
   "source": [
    "# Somatic processing"
   ]
  },
  {
   "cell_type": "code",
   "execution_count": 11,
   "metadata": {},
   "outputs": [],
   "source": [
    "root_in_hmf = '/path/to/hmf_pipeline/output/'\n",
    "root_in_sarek = '/path/to/sarek/output/'\n",
    "root_out = './output/'"
   ]
  },
  {
   "cell_type": "markdown",
   "metadata": {},
   "source": [
    "## Process strelka vcf"
   ]
  },
  {
   "cell_type": "code",
   "execution_count": 12,
   "metadata": {
    "scrolled": true
   },
   "outputs": [
    {
     "data": {
      "text/plain": [
       "['python ../../tumor_vs_blood/vcf_postprocessing/python_scripts/process_strelka_v2.9.10_vcf.py -i /path/to/sarek/output/variant_calling/strelka/AX4958_vs_AQ5174/AX4958_vs_AQ5174.strelka.somatic_snvs.vcf.gz -o ./output/case3/AX4958_vs_AQ5174/vcf_processing/strelka/ -t_id AX4958 -n_id AQ5174',\n",
       " 'python ../../tumor_vs_blood/vcf_postprocessing/python_scripts/process_strelka_v2.9.10_vcf.py -i /path/to/sarek/output/variant_calling/strelka/AX4961_vs_AQ5174/AX4961_vs_AQ5174.strelka.somatic_snvs.vcf.gz -o ./output/case3/AX4961_vs_AQ5174/vcf_processing/strelka/ -t_id AX4961 -n_id AQ5174']"
      ]
     },
     "execution_count": 12,
     "metadata": {},
     "output_type": "execute_result"
    }
   ],
   "source": [
    "#commands for process vcfs from strelka\n",
    "\n",
    "python_file = '../../tumor_vs_blood/vcf_postprocessing/python_scripts/process_strelka_v2.9.10_vcf.py'\n",
    "\n",
    "commands = []\n",
    "\n",
    "#Strelka\n",
    "pt = 'case3'\n",
    "tumor1 = samples[pt]['clone1']\n",
    "tumor2 = samples[pt]['clone2']\n",
    "normal = samples[pt]['normal']\n",
    "sample = tumor1 + '_vs_' + normal\n",
    "in_file = os.path.join(root_in_sarek,'variant_calling','strelka',sample,sample+'.strelka.somatic_snvs.vcf.gz')\n",
    "out_dir = os.path.join(root_out,pt,sample,'vcf_processing','strelka'+'/')\n",
    "command = 'python ' + python_file + ' -i ' + in_file + ' -o ' + out_dir + ' -t_id ' + tumor1 + ' -n_id ' + normal\n",
    "commands.append(command)\n",
    "tumor = samples[pt]['clone2']\n",
    "sample = tumor2 + '_vs_' + normal\n",
    "in_file = os.path.join(root_in_sarek,'variant_calling','strelka',sample,sample+'.strelka.somatic_snvs.vcf.gz')\n",
    "out_dir = os.path.join(root_out,pt,sample,'vcf_processing','strelka'+'/')\n",
    "command = 'python ' + python_file + ' -i ' + in_file + ' -o ' + out_dir + ' -t_id ' + tumor2 + ' -n_id ' + normal\n",
    "commands.append(command)\n",
    "commands"
   ]
  },
  {
   "cell_type": "code",
   "execution_count": 13,
   "metadata": {
    "scrolled": true
   },
   "outputs": [
    {
     "data": {
      "text/plain": [
       "['[pre]',\n",
       " '. \"/home/$USER/miniconda3/etc/profile.d/conda.sh\"',\n",
       " 'conda activate process_vc',\n",
       " '[params]',\n",
       " 'cores = 1',\n",
       " 'memory = 20G',\n",
       " '[jobs]',\n",
       " 'python ../../tumor_vs_blood/vcf_postprocessing/python_scripts/process_strelka_v2.9.10_vcf.py -i /path/to/sarek/output/variant_calling/strelka/AX4958_vs_AQ5174/AX4958_vs_AQ5174.strelka.somatic_snvs.vcf.gz -o ./output/case3/AX4958_vs_AQ5174/vcf_processing/strelka/ -t_id AX4958 -n_id AQ5174',\n",
       " 'python ../../tumor_vs_blood/vcf_postprocessing/python_scripts/process_strelka_v2.9.10_vcf.py -i /path/to/sarek/output/variant_calling/strelka/AX4961_vs_AQ5174/AX4961_vs_AQ5174.strelka.somatic_snvs.vcf.gz -o ./output/case3/AX4961_vs_AQ5174/vcf_processing/strelka/ -t_id AX4961 -n_id AQ5174']"
      ]
     },
     "execution_count": 13,
     "metadata": {},
     "output_type": "execute_result"
    }
   ],
   "source": [
    "qmap_pre_params = ['[pre]','. \"/home/$USER/miniconda3/etc/profile.d/conda.sh\"','conda activate process_vc','[params]','cores = 1','memory = 20G','[jobs]']\n",
    "qmap_file = qmap_pre_params + commands\n",
    "qmap_file"
   ]
  },
  {
   "cell_type": "code",
   "execution_count": 14,
   "metadata": {},
   "outputs": [],
   "source": [
    "#Save qmap file\n",
    "\n",
    "with open('./strelka_process.qmap', 'w') as f:\n",
    "    for item in qmap_file:\n",
    "        f.write('%s\\n' % item)"
   ]
  }
 ],
 "metadata": {
  "kernelspec": {
   "display_name": "Python [conda env:process_vc]",
   "language": "python",
   "name": "conda-env-process_vc-py"
  },
  "language_info": {
   "codemirror_mode": {
    "name": "ipython",
    "version": 3
   },
   "file_extension": ".py",
   "mimetype": "text/x-python",
   "name": "python",
   "nbconvert_exporter": "python",
   "pygments_lexer": "ipython3",
   "version": "3.6.11"
  }
 },
 "nbformat": 4,
 "nbformat_minor": 4
}
