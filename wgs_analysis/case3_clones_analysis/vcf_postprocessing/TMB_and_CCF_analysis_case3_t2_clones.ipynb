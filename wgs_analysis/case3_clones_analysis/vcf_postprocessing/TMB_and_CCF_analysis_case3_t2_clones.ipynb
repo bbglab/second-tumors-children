{
 "cells": [
  {
   "cell_type": "markdown",
   "metadata": {},
   "source": [
    "# CCF analysis from callings\n",
    "### Case3-Tumor2"
   ]
  },
  {
   "cell_type": "code",
   "execution_count": 2,
   "metadata": {},
   "outputs": [],
   "source": [
    "import pandas as pd\n",
    "import json\n",
    "import pybedtools\n",
    "import seaborn as sns\n",
    "import matplotlib.pyplot as plt\n",
    "%matplotlib inline "
   ]
  },
  {
   "cell_type": "code",
   "execution_count": 3,
   "metadata": {
    "scrolled": true
   },
   "outputs": [
    {
     "data": {
      "text/plain": [
       "{'normal': 'AQ5174',\n",
       " 'tumor1': 'AQ5180',\n",
       " 'tumor2': 'AQ5186',\n",
       " 'sex': 'female',\n",
       " 'kidney': 'AX4954',\n",
       " 'liver': 'AX4955',\n",
       " 'pancreas': 'AX4956',\n",
       " 'heart': 'AX4957',\n",
       " 'clone1': 'AX4958',\n",
       " 'clone2': 'AX4961',\n",
       " 'mother': 'AW8063',\n",
       " 'father': 'AW8064',\n",
       " 'lung': 'AX4962',\n",
       " 'medulla': 'AX4963',\n",
       " 'spleen': 'AX4964',\n",
       " 'brain': 'AX4965',\n",
       " 'bma': 'AX4966'}"
      ]
     },
     "execution_count": 3,
     "metadata": {},
     "output_type": "execute_result"
    }
   ],
   "source": [
    "samples = json.load( open( \"../../../cases_ids.json\", \"rb\" ) )\n",
    "samples['case3']"
   ]
  },
  {
   "cell_type": "markdown",
   "metadata": {},
   "source": [
    "## Functions"
   ]
  },
  {
   "cell_type": "code",
   "execution_count": 4,
   "metadata": {},
   "outputs": [],
   "source": [
    "def cnv_snvs_intersect (cnv_df,snvs_df):\n",
    "    '''Adds CN information in snvs/indels mafs\n",
    "    input: cn dataframe from ASCAT output (.cnvs.txt) and snvs/indels dataframe from maf files\n",
    "    output: dataframe with integrated CN info to vc mafs'''\n",
    "    \n",
    "    #Preapre cnv_df\n",
    "    cnv_bt_df = cnv_df.copy(deep=True)\n",
    "    cnv_bt_df['CN'] = cnv_bt_df['nMajor']+cnv_bt_df['nMinor']\n",
    "    cnv_bt_df['chr'] = 'chr' + cnv_bt_df['chr']\n",
    "\n",
    "    #Prepare snvs_df\n",
    "    snvs_bt_df = snvs_df.copy(deep=True)\n",
    "    snvs_bt_df['POS2'] = snvs_bt_df['POS'] + 1\n",
    "    snvs_bt_df = snvs_bt_df[['#CHROM','POS','POS2','REF','ALT']]\n",
    "\n",
    "    #pybedtools cnv + snvs\n",
    "    cnv_bt = pybedtools.BedTool.from_dataframe(cnv_bt_df)\n",
    "    snvs_bt = pybedtools.BedTool.from_dataframe(snvs_bt_df)\n",
    "\n",
    "    cnv_and_snvs = cnv_bt.intersect(snvs_bt)\n",
    "\n",
    "    #Pass intersection to dataframe\n",
    "    snvs_cnv_df = cnv_and_snvs.to_dataframe()\n",
    "    snvs_cnv_df = snvs_cnv_df.rename(columns={'chrom':'#CHROM','start':'POS','end':'POS2',\n",
    "                                              'name':'nMinor','score':'nMajor','strand':'CN'})\n",
    "    snvs_cnv_df = snvs_cnv_df.drop(columns=['POS2'])\n",
    "\n",
    "    #Merge intersect with snvs_df\n",
    "    snvs_cnv_df = pd.merge(snvs_df,snvs_cnv_df,how='left')\n",
    "    return snvs_cnv_df\n",
    "\n",
    "def calculate_VAF(reads_alt,reads_ref):\n",
    "    '''Calculate VAF from number of reads\n",
    "    input: number of reads alternate allele, number of reads reference allele\n",
    "    output: variant allele frequency'''\n",
    "    if reads_alt == reads_ref == 0:\n",
    "        return 0\n",
    "    else:\n",
    "        vaf = round (reads_alt/(reads_alt+reads_ref),3)\n",
    "        return vaf\n",
    "\n",
    "def calculate_ccf (vaf,cnv,purity):\n",
    "    '''Calculate CCF from VAF, CN and purity\n",
    "    input: variant allele frequency, copy number, purity(.purityploidy.txt file from ASCAT)\n",
    "    output: cancer cell fraction'''\n",
    "    ccf = vaf*(purity*cnv+ (1-purity)*2)/purity\n",
    "    return ccf\n",
    "\n",
    "def final_dataframe (path_cnv,path_purity,path_caller,vc,t,purity='purple'):\n",
    "    '''Reads vc mafs and ASCAT output, makes intersect snvs and CN and adds columns calculated \n",
    "    with VAF and CCF\n",
    "    input: patient, tumor sample id, normal sample id and caller type\n",
    "    output: final dataframe with CN, VAF and CCF information added'''\n",
    "    \n",
    "    #Read vc mafs and ASCAT output\n",
    "    cnv_df = pd.read_csv(path_cnv,sep='\\t')      \n",
    "    if purity == 'ascat':\n",
    "        purity = pd.read_csv(path_purity,sep='\\t')\n",
    "        #Get purity\n",
    "        purity = purity['AberrantCellFraction'][0]\n",
    "    elif purity == 'purple':\n",
    "        purity = pd.read_csv(path_purity,sep='\\t')\n",
    "        #Get purity\n",
    "        purity = purity['purity'][0]\n",
    "    \n",
    "    if vc == 'mutect':\n",
    "        snvs_df = pd.read_csv(path_caller,sep='\\t')\n",
    "    elif vc =='strelka':\n",
    "        snvs_df = pd.read_csv(path_caller,sep='\\t')\n",
    "    elif vc == 'sage':\n",
    "        snvs_df = pd.read_csv(path_caller,sep='\\t')\n",
    "    elif vc == 'intersect':\n",
    "        snvs_df = pd.read_csv(path_caller,sep='\\t')\n",
    "    else:\n",
    "        print('Specify variant caller: mutect, strelka, sage, intersect')\n",
    "    \n",
    "    #Get df with cn and snv intersect\n",
    "    df = cnv_snvs_intersect(cnv_df,snvs_df)\n",
    "    \n",
    "\n",
    "    \n",
    "    #Calculate AF and CCF\n",
    "    df['t_AF'] = df.apply(lambda row: calculate_VAF(row['t_alt_reads'],row['t_ref_reads']),axis=1)\n",
    "    df['n_AF'] = df.apply(lambda row: calculate_VAF(row['n_alt_reads'],row['n_ref_reads']),axis=1)\n",
    "    df['t_CCF'] = df.apply(lambda row: calculate_ccf(row['t_AF'],row['CN'],purity),axis=1)\n",
    "    df['n_CCF'] = df.apply(lambda row: calculate_ccf(row['n_AF'],row['CN'],purity),axis=1)\n",
    "    df['purity'] = purity\n",
    "    \n",
    "    return df"
   ]
  },
  {
   "cell_type": "markdown",
   "metadata": {},
   "source": [
    "### Case 3"
   ]
  },
  {
   "cell_type": "code",
   "execution_count": 5,
   "metadata": {},
   "outputs": [],
   "source": [
    "#Tumor2\n",
    "pt = 'case3'\n",
    "tumor = samples[pt]['tumor2']\n",
    "normal = samples[pt]['normal']\n",
    "path_to_sarek = '/workspace/datasets/sjd_seq/platinum_results/20220809/pt1-t2-allsamples-t2/sarek_results/results/'\n",
    "# path_to_sarek = '/path/to/sarek/output/' #fix at the end\n",
    "path_to_hmf_pipeline = '/workspace/datasets/sjd_seq/platinum_results/20220809/pt1-t2-allsamples-t2/'\n",
    "# path_to_hmf_pipeline = '/path/to/hmf/pipeline' #fix at the end\n",
    "\n",
    "path_cnv = path_to_sarek+'variant_calling/ascat/AQ5186_vs_AQ5174/AQ5186_vs_AQ5174.cnvs.txt'\n",
    "path_purity = path_to_hmf_pipeline+'/purple/'+tumor+'.purple.purity.tsv'\n",
    "path_caller = '../../tumor_vs_blood/vcf_postprocessing/output/case3/AQ5186_vs_AQ5174/vcf_processing/strelka/AQ5186_vs_AQ5174_process.maf.gz'\n",
    "case3_t2_strelka_df = final_dataframe(path_cnv,path_purity,path_caller,'strelka','t1',purity='purple')\n",
    "\n",
    "#Clone1\n",
    "tumor = samples[pt]['clone1']\n",
    "path_to_sarek = '/workspace/datasets/sjd_seq/sarek_results/pt1/results/'\n",
    "# path_to_sarek = '/path/to/sarek/output/' #fix at the end\n",
    "\n",
    "path_cnv = path_to_sarek+'variant_calling/ascat/AX4958_vs_AQ5174/AX4958_vs_AQ5174.cnvs.txt'\n",
    "path_purity = path_to_sarek+'variant_calling/ascat/'+tumor+'_vs_'+normal+'/'+tumor+'_vs_'+normal+'.purityploidy.txt'\n",
    "path_caller = './output/case3/AX4958_vs_AQ5174/vcf_processing/strelka/AX4958_vs_AQ5174_process.maf.gz'\n",
    "case3_c1_strelka_df = final_dataframe(path_cnv,path_purity,path_caller,'strelka','t2',purity='ascat')\n",
    "\n",
    "#Clone2\n",
    "tumor = samples[pt]['clone2']\n",
    "path_to_sarek = '/workspace/datasets/sjd_seq/sarek_results/pt1/results/'\n",
    "# path_to_sarek = '/path/to/sarek/output/' #fix at the end\n",
    "\n",
    "path_cnv = path_to_sarek+'variant_calling/ascat/AX4961_vs_AQ5174/AX4961_vs_AQ5174.cnvs.txt'\n",
    "path_purity = path_to_sarek+'variant_calling/ascat/'+tumor+'_vs_'+normal+'/'+tumor+'_vs_'+normal+'.purityploidy.txt'\n",
    "path_caller = './output/case3/AX4961_vs_AQ5174/vcf_processing/strelka/AX4961_vs_AQ5174_process.maf.gz'\n",
    "case3_c2_strelka_df = final_dataframe(path_cnv,path_purity,path_caller,'strelka','t2',purity='ascat')"
   ]
  },
  {
   "cell_type": "code",
   "execution_count": 7,
   "metadata": {},
   "outputs": [
    {
     "data": {
      "text/plain": [
       "Index(['#CHROM', 'POS', 'ID', 'REF', 'ALT', 'QUAL', 'FILTER', 'INFO', 'FORMAT',\n",
       "       'NORMAL', 'TUMOR', 't_AF', 'n_AF', 'DP_tumor', 't_alt_reads',\n",
       "       't_ref_reads', 'DP_normal', 'n_alt_reads', 'n_ref_reads', 'mut_type',\n",
       "       'GT_normal', 'GT_tumor', 'nMinor', 'nMajor', 'CN', 't_CCF', 'n_CCF',\n",
       "       'purity'],\n",
       "      dtype='object')"
      ]
     },
     "execution_count": 7,
     "metadata": {},
     "output_type": "execute_result"
    }
   ],
   "source": [
    "case3_t2_strelka_df.columns"
   ]
  },
  {
   "cell_type": "markdown",
   "metadata": {},
   "source": [
    "## Plots"
   ]
  },
  {
   "cell_type": "code",
   "execution_count": 8,
   "metadata": {},
   "outputs": [],
   "source": [
    "samples_strelka_list = [case3_t2_strelka_df,case3_c1_strelka_df,case3_c2_strelka_df]"
   ]
  },
  {
   "cell_type": "code",
   "execution_count": 9,
   "metadata": {},
   "outputs": [
    {
     "name": "stderr",
     "output_type": "stream",
     "text": [
      "/home/msanchezg/miniconda3/envs/process_vc/lib/python3.6/site-packages/seaborn/_decorators.py:43: FutureWarning: Pass the following variables as keyword args: x, y. From version 0.12, the only valid positional argument will be `data`, and passing other arguments without an explicit keyword will result in an error or misinterpretation.\n",
      "  FutureWarning\n"
     ]
    },
    {
     "data": {
      "image/png": "[encoded data removed]",
      "text/plain": [
       "<Figure size 288x288 with 1 Axes>"
      ]
     },
     "metadata": {
      "needs_background": "light"
     },
     "output_type": "display_data"
    }
   ],
   "source": [
    "import inspect\n",
    "\n",
    "def retrieve_name(var):\n",
    "    callers_local_vars = inspect.currentframe().f_back.f_locals.items()\n",
    "    return [var_name for var_name, var_val in callers_local_vars if var_val is var]\n",
    "\n",
    "tum_burden = []\n",
    "for sample in samples_strelka_list:\n",
    "    sample_name = retrieve_name(sample)[0].split('_strelka_df')[0]\n",
    "    sample_final = []\n",
    "    sample_final.append(sample_name)\n",
    "    sample_final.append(len(sample))#[sample['gnomADg_AF']==0]))\n",
    "    tum_burden.append(sample_final)\n",
    "tum_burden_df = pd.DataFrame(tum_burden,columns=['Sample','Number of mutations'])\n",
    "plt.figure(figsize=(4,4))\n",
    "sns.barplot(tum_burden_df['Sample'],tum_burden_df['Number of mutations'])\n",
    "plt.title('TMB Strelka',size=25,pad=20)\n",
    "pos=1.5"
   ]
  },
  {
   "cell_type": "markdown",
   "metadata": {},
   "source": [
    "### Density plots"
   ]
  },
  {
   "cell_type": "code",
   "execution_count": 10,
   "metadata": {},
   "outputs": [],
   "source": [
    "def get_ccf_threshold (data,sample,title):\n",
    "    '''get threshold for clonal fraction of the variants\n",
    "    input: data table per sample\n",
    "    output: float, t_CCF value'''\n",
    "    purity = data['purity'][0]\n",
    "    def slope(data_y,data_x,i):\n",
    "        slope = (data_y[i+1] - data_y[i]) / (data_x[i+1] - data_x[i])\n",
    "        return slope\n",
    "    y_var='t_CCF'\n",
    "    xlim=3\n",
    "    data = data[(~data[y_var].isnull())&(data['t_CCF']<xlim)]\n",
    "    data = data[y_var]\n",
    "    fig, ax = plt.subplots()\n",
    "    fig.set_size_inches(4, 2)\n",
    "    ax = sns.distplot(data,rug=True,bins=50)\n",
    "    data_x, data_y = ax.lines[0].get_data()\n",
    "\n",
    "    poss = []\n",
    "    for i in range(len(data_y)):\n",
    "        if i == 0 or i == (len(data_y)-1):\n",
    "            pass\n",
    "        else:\n",
    "            if sample == 'case3_t2':\n",
    "                if  slope(data_y,data_x,i)<0.8 and slope(data_y,data_x,i)>0.7:\n",
    "                    pos = i\n",
    "                    poss.append(pos)\n",
    "            elif sample == 'case2_t2':\n",
    "                if  slope(data_y,data_x,i)<-0.8 and slope(data_y,data_x,i)>-0.9:\n",
    "                    pos = i\n",
    "                    poss.append(pos)\n",
    "            else:\n",
    "                if (data_y[i] < data_y[i+1]) and (data_y[i] < data_y[i-1]):\n",
    "                    poss.append(i)\n",
    "#                     print(data_y[i],i)\n",
    "    poss = [pos for pos in poss if data_x[pos] <1]\n",
    "    if poss == []:\n",
    "        pos = 0\n",
    "    else:\n",
    "        pos = max(poss)\n",
    "        \n",
    "    plt.axhline(y = data_y[pos],color='k',linewidth=1,linestyle='--')\n",
    "    plt.axvline(x = data_x[pos],color='k',linewidth=1,linestyle='--')\n",
    "    plt.text(data_x[pos]+0.1,data_y.max(),'Clonal',size=14)\n",
    "    plt.text(data_x.max()*0.7,data_y.max(),'Purity = '+str(purity))\n",
    "    ax.set_title(title,size=20,pad=20)\n",
    "\n",
    "    return data_x[pos]"
   ]
  },
  {
   "cell_type": "code",
   "execution_count": 12,
   "metadata": {
    "scrolled": false
   },
   "outputs": [
    {
     "name": "stderr",
     "output_type": "stream",
     "text": [
      "/home/msanchezg/miniconda3/envs/process_vc/lib/python3.6/site-packages/seaborn/distributions.py:2551: FutureWarning: `distplot` is a deprecated function and will be removed in a future version. Please adapt your code to use either `displot` (a figure-level function with similar flexibility) or `histplot` (an axes-level function for histograms).\n",
      "  warnings.warn(msg, FutureWarning)\n",
      "/home/msanchezg/miniconda3/envs/process_vc/lib/python3.6/site-packages/seaborn/distributions.py:2055: FutureWarning: The `axis` variable is no longer used and will be removed. Instead, assign variables directly to `x` or `y`.\n",
      "  warnings.warn(msg, FutureWarning)\n",
      "/home/msanchezg/miniconda3/envs/process_vc/lib/python3.6/site-packages/seaborn/distributions.py:2551: FutureWarning: `distplot` is a deprecated function and will be removed in a future version. Please adapt your code to use either `displot` (a figure-level function with similar flexibility) or `histplot` (an axes-level function for histograms).\n",
      "  warnings.warn(msg, FutureWarning)\n",
      "/home/msanchezg/miniconda3/envs/process_vc/lib/python3.6/site-packages/seaborn/distributions.py:2055: FutureWarning: The `axis` variable is no longer used and will be removed. Instead, assign variables directly to `x` or `y`.\n",
      "  warnings.warn(msg, FutureWarning)\n",
      "/home/msanchezg/miniconda3/envs/process_vc/lib/python3.6/site-packages/seaborn/distributions.py:2551: FutureWarning: `distplot` is a deprecated function and will be removed in a future version. Please adapt your code to use either `displot` (a figure-level function with similar flexibility) or `histplot` (an axes-level function for histograms).\n",
      "  warnings.warn(msg, FutureWarning)\n",
      "/home/msanchezg/miniconda3/envs/process_vc/lib/python3.6/site-packages/seaborn/distributions.py:2055: FutureWarning: The `axis` variable is no longer used and will be removed. Instead, assign variables directly to `x` or `y`.\n",
      "  warnings.warn(msg, FutureWarning)\n"
     ]
    },
    {
     "data": {
      "text/plain": [
       "{'case3_t2': 0.6063572584353079,\n",
       " 'case3_c1': 0.7607865512511622,\n",
       " 'case3_c2': 0.5709676625152742}"
      ]
     },
     "execution_count": 12,
     "metadata": {},
     "output_type": "execute_result"
    },
    {
     "data": {
      "image/png": "[encoded data removed]",
      "text/plain": [
       "<Figure size 288x144 with 1 Axes>"
      ]
     },
     "metadata": {
      "needs_background": "light"
     },
     "output_type": "display_data"
    },
    {
     "data": {
      "image/png": "[encoded data removed]",
      "text/plain": [
       "<Figure size 288x144 with 1 Axes>"
      ]
     },
     "metadata": {
      "needs_background": "light"
     },
     "output_type": "display_data"
    },
    {
     "data": {
      "image/png": "[encoded data removed]",
      "text/plain": [
       "<Figure size 288x144 with 1 Axes>"
      ]
     },
     "metadata": {
      "needs_background": "light"
     },
     "output_type": "display_data"
    }
   ],
   "source": [
    "thresholds = {}\n",
    "\n",
    "data = case3_t2_strelka_df\n",
    "sample = pt + '_t2'\n",
    "threshold = get_ccf_threshold(data,sample,sample)\n",
    "thresholds[sample] = threshold\n",
    "\n",
    "data = case3_c1_strelka_df\n",
    "sample = pt + '_c1'\n",
    "threshold = get_ccf_threshold(data,sample,sample)\n",
    "thresholds[sample] = threshold\n",
    "\n",
    "data = case3_c2_strelka_df\n",
    "sample = pt + '_c2'\n",
    "threshold = get_ccf_threshold(data,sample,sample)\n",
    "thresholds[sample] = threshold\n",
    "thresholds"
   ]
  },
  {
   "cell_type": "code",
   "execution_count": 13,
   "metadata": {},
   "outputs": [
    {
     "data": {
      "text/plain": [
       "{'case3_t2': 0.6063572584353079,\n",
       " 'case3_c1': 0.7607865512511622,\n",
       " 'case3_c2': 0.5709676625152742}"
      ]
     },
     "execution_count": 13,
     "metadata": {},
     "output_type": "execute_result"
    }
   ],
   "source": [
    "thresholds"
   ]
  },
  {
   "cell_type": "code",
   "execution_count": 15,
   "metadata": {},
   "outputs": [],
   "source": [
    "json.dump(thresholds, open( \"./ccf_thresholds_case3_t2_clones.json\", \"w\" ) )"
   ]
  }
 ],
 "metadata": {
  "kernelspec": {
   "display_name": "Python [conda env:process_vc]",
   "language": "python",
   "name": "conda-env-process_vc-py"
  },
  "language_info": {
   "codemirror_mode": {
    "name": "ipython",
    "version": 3
   },
   "file_extension": ".py",
   "mimetype": "text/x-python",
   "name": "python",
   "nbconvert_exporter": "python",
   "pygments_lexer": "ipython3",
   "version": "3.6.11"
  }
 },
 "nbformat": 4,
 "nbformat_minor": 4
}
