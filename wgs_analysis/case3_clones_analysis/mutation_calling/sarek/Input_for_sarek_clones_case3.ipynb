{
 "cells": [
  {
   "cell_type": "markdown",
   "id": "f586d46e",
   "metadata": {},
   "source": [
    "# Create input file for sarek"
   ]
  },
  {
   "cell_type": "code",
   "execution_count": 2,
   "id": "c2eb6ddf",
   "metadata": {},
   "outputs": [],
   "source": [
    "import pandas as pd\n",
    "import json"
   ]
  },
  {
   "cell_type": "code",
   "execution_count": 3,
   "id": "f0bf065e",
   "metadata": {
    "scrolled": true
   },
   "outputs": [
    {
     "data": {
      "text/plain": [
       "dict_keys(['normal', 'tumor1', 'tumor2', 'sex', 'kidney', 'liver', 'pancreas', 'heart', 'clone1', 'clone2', 'mother', 'father', 'lung', 'medulla', 'spleen', 'brain', 'bma'])"
      ]
     },
     "execution_count": 3,
     "metadata": {},
     "output_type": "execute_result"
    }
   ],
   "source": [
    "samples_dict = json.load(open('../../../../cases_ids.json','rb'))\n",
    "samples_dict['case3'].keys()"
   ]
  },
  {
   "cell_type": "code",
   "execution_count": 4,
   "id": "e855ef8f",
   "metadata": {},
   "outputs": [],
   "source": [
    "tissues = ['normal','clone1','clone2']"
   ]
  },
  {
   "cell_type": "code",
   "execution_count": 8,
   "id": "3c9bcfe1",
   "metadata": {},
   "outputs": [
    {
     "data": {
      "text/html": [
       "<div>\n",
       "<style scoped>\n",
       "    .dataframe tbody tr th:only-of-type {\n",
       "        vertical-align: middle;\n",
       "    }\n",
       "\n",
       "    .dataframe tbody tr th {\n",
       "        vertical-align: top;\n",
       "    }\n",
       "\n",
       "    .dataframe thead th {\n",
       "        text-align: right;\n",
       "    }\n",
       "</style>\n",
       "<table border=\"1\" class=\"dataframe\">\n",
       "  <thead>\n",
       "    <tr style=\"text-align: right;\">\n",
       "      <th></th>\n",
       "      <th>patient</th>\n",
       "      <th>sex</th>\n",
       "      <th>sample</th>\n",
       "      <th>status</th>\n",
       "      <th>cram</th>\n",
       "      <th>crai</th>\n",
       "    </tr>\n",
       "  </thead>\n",
       "  <tbody>\n",
       "    <tr>\n",
       "      <th>0</th>\n",
       "      <td>case3</td>\n",
       "      <td>XX</td>\n",
       "      <td>AQ5174</td>\n",
       "      <td>0</td>\n",
       "      <td>AQ5174.recal.cram</td>\n",
       "      <td>AQ5174.recal.cram.crai</td>\n",
       "    </tr>\n",
       "    <tr>\n",
       "      <th>1</th>\n",
       "      <td>case3</td>\n",
       "      <td>XX</td>\n",
       "      <td>AX4958</td>\n",
       "      <td>1</td>\n",
       "      <td>AX4958.recal.cram</td>\n",
       "      <td>AX4958.recal.cram.crai</td>\n",
       "    </tr>\n",
       "    <tr>\n",
       "      <th>2</th>\n",
       "      <td>case3</td>\n",
       "      <td>XX</td>\n",
       "      <td>AX4961</td>\n",
       "      <td>1</td>\n",
       "      <td>AX4961.recal.cram</td>\n",
       "      <td>AX4961.recal.cram.crai</td>\n",
       "    </tr>\n",
       "  </tbody>\n",
       "</table>\n",
       "</div>"
      ],
      "text/plain": [
       "  patient sex  sample status               cram                    crai\n",
       "0   case3  XX  AQ5174      0  AQ5174.recal.cram  AQ5174.recal.cram.crai\n",
       "1   case3  XX  AX4958      1  AX4958.recal.cram  AX4958.recal.cram.crai\n",
       "2   case3  XX  AX4961      1  AX4961.recal.cram  AX4961.recal.cram.crai"
      ]
     },
     "execution_count": 8,
     "metadata": {},
     "output_type": "execute_result"
    }
   ],
   "source": [
    "df = pd.DataFrame(columns=['patient','sex','sample','status','cram','crai'])\n",
    "row = {}\n",
    "pt = 'case3'\n",
    "\n",
    "for t in tissues:\n",
    "\n",
    "    row['patient'] = pt\n",
    "\n",
    "    if samples_dict[pt]['sex'] == 'female':\n",
    "        row['sex'] = 'XX'\n",
    "    else:\n",
    "        row['sex'] = 'XY'\n",
    "\n",
    "    row['sample'] = samples_dict[pt][t]\n",
    "    \n",
    "    if t == 'normal':\n",
    "        row['status'] = '0'\n",
    "    else:\n",
    "        row['status'] = '1'\n",
    "\n",
    "\n",
    "    row['cram'] = samples_dict[pt][t]+'.recal.cram'\n",
    "    row['crai'] = samples_dict[pt][t]+'.recal.cram.crai'\n",
    "\n",
    "    df = df.append(row, ignore_index=True)\n",
    "df"
   ]
  },
  {
   "cell_type": "code",
   "execution_count": 9,
   "id": "421d714a",
   "metadata": {},
   "outputs": [],
   "source": [
    "df.to_csv('input_vc.csv',index=None)"
   ]
  }
 ],
 "metadata": {
  "kernelspec": {
   "display_name": "Python [conda env:process_vc]",
   "language": "python",
   "name": "conda-env-process_vc-py"
  },
  "language_info": {
   "codemirror_mode": {
    "name": "ipython",
    "version": 3
   },
   "file_extension": ".py",
   "mimetype": "text/x-python",
   "name": "python",
   "nbconvert_exporter": "python",
   "pygments_lexer": "ipython3",
   "version": "3.6.11"
  }
 },
 "nbformat": 4,
 "nbformat_minor": 5
}
