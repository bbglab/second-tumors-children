{
 "cells": [
  {
   "cell_type": "markdown",
   "metadata": {},
   "source": [
    "# Mutational signatures analysis on the clones derived from Tumor2 (case3)\n",
    "- Mutations from the clones are taken from Strelka variant caller\n",
    "- Mutations from the MRT tumor sample are taken from the vcf processing using several normal tissues\n",
    "   - ```../../case3_normal_tissues/vcf_postprocessing/```\n",
    "- Siganture analysis performed with mSigAct"
   ]
  },
  {
   "cell_type": "markdown",
   "metadata": {},
   "source": [
    "## Prepare mutation tables with clonals"
   ]
  },
  {
   "cell_type": "code",
   "execution_count": 1,
   "metadata": {},
   "outputs": [],
   "source": [
    "import pandas as pd\n",
    "import pybedtools\n",
    "import json\n",
    "from matplotlib_venn import venn3\n",
    "import matplotlib.pyplot as plt\n",
    "import matplotlib as mpl\n",
    "import matplotlib.lines as mlines\n",
    "import numpy as np"
   ]
  },
  {
   "cell_type": "code",
   "execution_count": 2,
   "metadata": {},
   "outputs": [],
   "source": [
    "def cnv_snvs_intersect (cnv_df,snvs_df):\n",
    "    '''Adds CN information in snvs/indels mafs\n",
    "    input: cn dataframe from ASCAT output (.cnvs.txt) and snvs/indels dataframe from maf files\n",
    "    output: dataframe with integrated CN info to vc mafs'''\n",
    "    \n",
    "    #Preapre cnv_df\n",
    "    cnv_bt_df = cnv_df.copy(deep=True)\n",
    "    cnv_bt_df['CN'] = cnv_bt_df['nMajor']+cnv_bt_df['nMinor']\n",
    "    cnv_bt_df['chr'] = 'chr' + cnv_bt_df['chr']\n",
    "\n",
    "    #Prepare snvs_df\n",
    "    snvs_bt_df = snvs_df.copy(deep=True)\n",
    "    snvs_bt_df['POS2'] = snvs_bt_df['POS'] + 1\n",
    "    snvs_bt_df = snvs_bt_df[['#CHROM','POS','POS2','REF','ALT']]\n",
    "\n",
    "    #pybedtools cnv + snvs\n",
    "    cnv_bt = pybedtools.BedTool.from_dataframe(cnv_bt_df)\n",
    "    snvs_bt = pybedtools.BedTool.from_dataframe(snvs_bt_df)\n",
    "\n",
    "    cnv_and_snvs = cnv_bt.intersect(snvs_bt)\n",
    "\n",
    "    #Pass intersection to dataframe\n",
    "    snvs_cnv_df = cnv_and_snvs.to_dataframe()\n",
    "    snvs_cnv_df = snvs_cnv_df.rename(columns={'chrom':'#CHROM','start':'POS','end':'POS2',\n",
    "                                              'name':'nMinor','score':'nMajor','strand':'CN'})\n",
    "    snvs_cnv_df = snvs_cnv_df.drop(columns=['POS2'])\n",
    "\n",
    "    #Merge intersect with snvs_df\n",
    "    snvs_cnv_df = pd.merge(snvs_df,snvs_cnv_df,how='left')\n",
    "    return snvs_cnv_df\n",
    "\n",
    "def calculate_VAF(reads_alt,reads_ref):\n",
    "    '''Calculate VAF from number of reads\n",
    "    input: number of reads alternate allele, number of reads reference allele\n",
    "    output: variant allele frequency'''\n",
    "    if reads_alt == reads_ref == 0:\n",
    "        return 0\n",
    "    else:\n",
    "        vaf = round (reads_alt/(reads_alt+reads_ref),3)\n",
    "        return vaf\n",
    "\n",
    "def calculate_ccf (vaf,cnv,purity):\n",
    "    '''Calculate CCF from VAF, CN and purity\n",
    "    input: variant allele frequency, copy number, purity(.purityploidy.txt file from ASCAT)\n",
    "    output: cancer cell fraction'''\n",
    "    ccf = vaf*(purity*cnv+ (1-purity)*2)/purity\n",
    "    return ccf\n",
    "\n",
    "def final_dataframe (path_cnv,path_purity,path_caller,vc,purity='purple'):\n",
    "    '''Reads vc mafs and ASCAT output, makes intersect snvs and CN and adds columns calculated \n",
    "    with VAF and CCF\n",
    "    input: patient, tumor sample id, normal sample id and caller type\n",
    "    output: final dataframe with CN, VAF and CCF information added'''\n",
    "    \n",
    "    #Read vc mafs and ASCAT output\n",
    "    cnv_df = pd.read_csv(path_cnv,sep='\\t')      \n",
    "    if purity == 'ascat':\n",
    "        purity = pd.read_csv(path_purity,sep='\\t')\n",
    "        #Get purity\n",
    "        purity = purity['AberrantCellFraction'][0]\n",
    "    elif purity == 'purple':\n",
    "        purity = pd.read_csv(path_purity,sep='\\t')\n",
    "        #Get purity\n",
    "        purity = purity['purity'][0]\n",
    "    \n",
    "    if vc == 'mutect':\n",
    "        snvs_df = pd.read_csv(path_caller,sep='\\t')\n",
    "    elif vc =='strelka':\n",
    "        snvs_df = pd.read_csv(path_caller,sep='\\t')\n",
    "    elif vc == 'sage':\n",
    "        snvs_df = pd.read_csv(path_caller,sep='\\t')\n",
    "    elif vc == 'intersect':\n",
    "        snvs_df = pd.read_csv(path_caller,sep='\\t')\n",
    "    else:\n",
    "        print('Specify variant caller: mutect, strelka, sage, intersect')\n",
    "    \n",
    "    #Get df with cn and snv intersect\n",
    "    df = cnv_snvs_intersect(cnv_df,snvs_df)\n",
    "  \n",
    "    #Calculate AF and CCF\n",
    "    df['t_AF'] = df.apply(lambda row: calculate_VAF(row['t_alt_reads'],row['t_ref_reads']),axis=1)\n",
    "    df['n_AF'] = df.apply(lambda row: calculate_VAF(row['n_alt_reads'],row['n_ref_reads']),axis=1)\n",
    "    df['t_CCF'] = df.apply(lambda row: calculate_ccf(row['t_AF'],row['CN'],purity),axis=1)\n",
    "    df['n_CCF'] = df.apply(lambda row: calculate_ccf(row['n_AF'],row['CN'],purity),axis=1)\n",
    "    df['purity'] = purity\n",
    "    \n",
    "    return df"
   ]
  },
  {
   "cell_type": "code",
   "execution_count": 3,
   "metadata": {},
   "outputs": [],
   "source": [
    "#import purity and cnv information from ascat (sarek)\n",
    "\n",
    "#This commented path points to the original data\n",
    "# path_to_sarek = '/workspace/datasets/sjd_seq/sarek_results/pt1/results/'\n",
    "\n",
    "#Adapt this path accordingly\n",
    "path_to_sarek = 'path/to/sarek/output/'\n",
    "\n",
    "path_cnv = path_to_sarek + 'variant_calling/ascat/AX4958_vs_AQ5174/AX4958_vs_AQ5174.cnvs.txt'\n",
    "path_purity = path_to_sarek+'variant_calling/ascat/AX4958_vs_AQ5174/AX4958_vs_AQ5174.purityploidy.txt'\n",
    "path_caller = '../vcf_postprocessing/output/case3/AX4958_vs_AQ5174/vcf_processing/strelka/AX4958_vs_AQ5174_process.maf.gz'\n",
    "df2 = final_dataframe(path_cnv,path_purity,path_caller,vc='strelka',purity='ascat')\n",
    "path_cnv = path_to_sarek+'variant_calling/ascat/AX4961_vs_AQ5174/AX4961_vs_AQ5174.cnvs.txt'\n",
    "path_purity = path_to_sarek+'variant_calling/ascat/AX4961_vs_AQ5174/AX4961_vs_AQ5174.purityploidy.txt'\n",
    "path_caller = '../vcf_postprocessing/output/case3/AX4961_vs_AQ5174/vcf_processing/strelka/AX4961_vs_AQ5174_process.maf.gz'\n",
    "df3 = final_dataframe(path_cnv,path_purity,path_caller,vc='strelka',purity='ascat')\n"
   ]
  },
  {
   "cell_type": "code",
   "execution_count": 4,
   "metadata": {},
   "outputs": [
    {
     "data": {
      "text/plain": [
       "{'case3_c1': 0.7607865512511622, 'case3_c2': 0.5709676625152742}"
      ]
     },
     "execution_count": 4,
     "metadata": {},
     "output_type": "execute_result"
    }
   ],
   "source": [
    "#upload precalculated clonality threshold\n",
    "thresholds = json.load(open('../vcf_postprocessing/ccf_thresholds_case3_t2_clones.json','r'))\n",
    "thresholds"
   ]
  },
  {
   "cell_type": "code",
   "execution_count": 5,
   "metadata": {},
   "outputs": [],
   "source": [
    "#upload snvs from tumor 2 (MRT), after normal tissues analysis\n",
    "df1 = pd.read_csv('../../case3_normal_tissues/vcf_postprocessing/output/08_final_list_muts.tsv.gz',sep='\\t')\n",
    "\n",
    "#and select clonal mutations from MRT\n",
    "dfc1 = df1[((df1['AF_t1']>=0.25)&(df1['AF_t2']==0))|((df1['AF_t2']>=0.2)&(df1['AF_t1']==0))|((df1['AF_t1']>=0.25)&(df1['AF_t2']>=0.2))]\n",
    "dfc1 = dfc1[(dfc1['denovo_germline']==False)&(dfc1['AF_t2']!=0)&(dfc1['AF_t1']==0)&(dfc1['mut_type']=='snv')]"
   ]
  },
  {
   "cell_type": "code",
   "execution_count": 6,
   "metadata": {},
   "outputs": [],
   "source": [
    "#select snvs from clones\n",
    "df2['snv'] = df2.apply(lambda row: True if len(row['REF']) == len(row['ALT'])==1 else False,axis=1)\n",
    "df3['snv'] = df3.apply(lambda row: True if len(row['REF']) == len(row['ALT'])==1 else False,axis=1)\n",
    "df2 = df2[df2['snv']==True]\n",
    "df3 = df3[df3['snv']==True]"
   ]
  },
  {
   "cell_type": "code",
   "execution_count": 7,
   "metadata": {},
   "outputs": [],
   "source": [
    "#select clonals\n",
    "threshold = thresholds['case3_c1']\n",
    "dfc2 = df2[df2['t_CCF']>threshold]\n",
    "threshold = thresholds['case3_c2']\n",
    "dfc3 = df3[df3['t_CCF']>threshold]"
   ]
  },
  {
   "cell_type": "code",
   "execution_count": 27,
   "metadata": {},
   "outputs": [
    {
     "name": "stdout",
     "output_type": "stream",
     "text": [
      "clonals: 1149 MRT\n",
      "totals: 6811 clonals: 4541 Clone1\n",
      "totals: 6525 clonals 4615 Clone2\n"
     ]
    }
   ],
   "source": [
    "print('clonals:',len(dfc1),'MRT')\n",
    "print('totals:',len(df2),'clonals:',len(dfc2),'Clone1')\n",
    "print('totals:',len(df3),'clonals',len(dfc3),'Clone2')"
   ]
  },
  {
   "cell_type": "code",
   "execution_count": 9,
   "metadata": {
    "scrolled": true
   },
   "outputs": [
    {
     "name": "stderr",
     "output_type": "stream",
     "text": [
      "/home/msanchezg/miniconda3/envs/process_vc/lib/python3.6/site-packages/ipykernel_launcher.py:3: SettingWithCopyWarning: \n",
      "A value is trying to be set on a copy of a slice from a DataFrame.\n",
      "Try using .loc[row_indexer,col_indexer] = value instead\n",
      "\n",
      "See the caveats in the documentation: https://pandas.pydata.org/pandas-docs/stable/user_guide/indexing.html#returning-a-view-versus-a-copy\n",
      "  This is separate from the ipykernel package so we can avoid doing imports until\n",
      "/home/msanchezg/miniconda3/envs/process_vc/lib/python3.6/site-packages/ipykernel_launcher.py:4: SettingWithCopyWarning: \n",
      "A value is trying to be set on a copy of a slice from a DataFrame.\n",
      "Try using .loc[row_indexer,col_indexer] = value instead\n",
      "\n",
      "See the caveats in the documentation: https://pandas.pydata.org/pandas-docs/stable/user_guide/indexing.html#returning-a-view-versus-a-copy\n",
      "  after removing the cwd from sys.path.\n"
     ]
    },
    {
     "data": {
      "text/html": [
       "<div>\n",
       "<style scoped>\n",
       "    .dataframe tbody tr th:only-of-type {\n",
       "        vertical-align: middle;\n",
       "    }\n",
       "\n",
       "    .dataframe tbody tr th {\n",
       "        vertical-align: top;\n",
       "    }\n",
       "\n",
       "    .dataframe thead th {\n",
       "        text-align: right;\n",
       "    }\n",
       "</style>\n",
       "<table border=\"1\" class=\"dataframe\">\n",
       "  <thead>\n",
       "    <tr style=\"text-align: right;\">\n",
       "      <th></th>\n",
       "      <th>CHROM</th>\n",
       "      <th>POS</th>\n",
       "      <th>REF</th>\n",
       "      <th>ALT</th>\n",
       "      <th>SAMPLE</th>\n",
       "    </tr>\n",
       "  </thead>\n",
       "  <tbody>\n",
       "    <tr>\n",
       "      <th>0</th>\n",
       "      <td>chr1</td>\n",
       "      <td>865445</td>\n",
       "      <td>G</td>\n",
       "      <td>C</td>\n",
       "      <td>AQ5186_vs_AQ5174</td>\n",
       "    </tr>\n",
       "    <tr>\n",
       "      <th>1</th>\n",
       "      <td>chr1</td>\n",
       "      <td>4101122</td>\n",
       "      <td>G</td>\n",
       "      <td>T</td>\n",
       "      <td>AQ5186_vs_AQ5174</td>\n",
       "    </tr>\n",
       "    <tr>\n",
       "      <th>2</th>\n",
       "      <td>chr1</td>\n",
       "      <td>4352976</td>\n",
       "      <td>G</td>\n",
       "      <td>A</td>\n",
       "      <td>AQ5186_vs_AQ5174</td>\n",
       "    </tr>\n",
       "    <tr>\n",
       "      <th>3</th>\n",
       "      <td>chr1</td>\n",
       "      <td>7591505</td>\n",
       "      <td>T</td>\n",
       "      <td>C</td>\n",
       "      <td>AQ5186_vs_AQ5174</td>\n",
       "    </tr>\n",
       "    <tr>\n",
       "      <th>4</th>\n",
       "      <td>chr1</td>\n",
       "      <td>7983849</td>\n",
       "      <td>G</td>\n",
       "      <td>T</td>\n",
       "      <td>AQ5186_vs_AQ5174</td>\n",
       "    </tr>\n",
       "    <tr>\n",
       "      <th>...</th>\n",
       "      <td>...</td>\n",
       "      <td>...</td>\n",
       "      <td>...</td>\n",
       "      <td>...</td>\n",
       "      <td>...</td>\n",
       "    </tr>\n",
       "    <tr>\n",
       "      <th>10300</th>\n",
       "      <td>chrX</td>\n",
       "      <td>153760660</td>\n",
       "      <td>C</td>\n",
       "      <td>T</td>\n",
       "      <td>AX4961_vs_AQ5174</td>\n",
       "    </tr>\n",
       "    <tr>\n",
       "      <th>10301</th>\n",
       "      <td>chrX</td>\n",
       "      <td>153905418</td>\n",
       "      <td>T</td>\n",
       "      <td>C</td>\n",
       "      <td>AX4961_vs_AQ5174</td>\n",
       "    </tr>\n",
       "    <tr>\n",
       "      <th>10302</th>\n",
       "      <td>chrX</td>\n",
       "      <td>154436952</td>\n",
       "      <td>G</td>\n",
       "      <td>C</td>\n",
       "      <td>AX4961_vs_AQ5174</td>\n",
       "    </tr>\n",
       "    <tr>\n",
       "      <th>10303</th>\n",
       "      <td>chrX</td>\n",
       "      <td>154452484</td>\n",
       "      <td>G</td>\n",
       "      <td>A</td>\n",
       "      <td>AX4961_vs_AQ5174</td>\n",
       "    </tr>\n",
       "    <tr>\n",
       "      <th>10304</th>\n",
       "      <td>chrX</td>\n",
       "      <td>155217955</td>\n",
       "      <td>G</td>\n",
       "      <td>T</td>\n",
       "      <td>AX4961_vs_AQ5174</td>\n",
       "    </tr>\n",
       "  </tbody>\n",
       "</table>\n",
       "<p>10305 rows × 5 columns</p>\n",
       "</div>"
      ],
      "text/plain": [
       "      CHROM        POS REF ALT            SAMPLE\n",
       "0      chr1     865445   G   C  AQ5186_vs_AQ5174\n",
       "1      chr1    4101122   G   T  AQ5186_vs_AQ5174\n",
       "2      chr1    4352976   G   A  AQ5186_vs_AQ5174\n",
       "3      chr1    7591505   T   C  AQ5186_vs_AQ5174\n",
       "4      chr1    7983849   G   T  AQ5186_vs_AQ5174\n",
       "...     ...        ...  ..  ..               ...\n",
       "10300  chrX  153760660   C   T  AX4961_vs_AQ5174\n",
       "10301  chrX  153905418   T   C  AX4961_vs_AQ5174\n",
       "10302  chrX  154436952   G   C  AX4961_vs_AQ5174\n",
       "10303  chrX  154452484   G   A  AX4961_vs_AQ5174\n",
       "10304  chrX  155217955   G   T  AX4961_vs_AQ5174\n",
       "\n",
       "[10305 rows x 5 columns]"
      ]
     },
     "execution_count": 9,
     "metadata": {},
     "output_type": "execute_result"
    }
   ],
   "source": [
    "#prepare dataframe for signature fitting\n",
    "dfc1['SAMPLE'] = 'AQ5186_vs_AQ5174'\n",
    "dfc2['SAMPLE'] = 'AX4958_vs_AQ5174'\n",
    "dfc3['SAMPLE'] = 'AX4961_vs_AQ5174'\n",
    "dfc2 = dfc2.rename(columns={'#CHROM':'CHROM'})\n",
    "dfc3 = dfc3.rename(columns={'#CHROM':'CHROM'})\n",
    "df = pd.concat([dfc1,dfc2,dfc3],ignore_index=True)\n",
    "cols = ['CHROM','POS','REF','ALT','SAMPLE']\n",
    "df['snv'] = df.apply(lambda row: True if len(row['REF']) == len(row['ALT'])==1 else False,axis=1)\n",
    "df = df[df['snv']==True]\n",
    "df = df[cols]\n",
    "df"
   ]
  },
  {
   "cell_type": "code",
   "execution_count": 10,
   "metadata": {},
   "outputs": [],
   "source": [
    "df.to_csv('./input/clonals_case3_t2.tsv.gz',sep='\\t',index=None,compression='gzip')"
   ]
  },
  {
   "cell_type": "markdown",
   "metadata": {},
   "source": [
    "### Prepare venn diagramm with overlap clonal mutations"
   ]
  },
  {
   "cell_type": "code",
   "execution_count": 12,
   "metadata": {},
   "outputs": [
    {
     "data": {
      "text/html": [
       "<div>\n",
       "<style scoped>\n",
       "    .dataframe tbody tr th:only-of-type {\n",
       "        vertical-align: middle;\n",
       "    }\n",
       "\n",
       "    .dataframe tbody tr th {\n",
       "        vertical-align: top;\n",
       "    }\n",
       "\n",
       "    .dataframe thead th {\n",
       "        text-align: right;\n",
       "    }\n",
       "</style>\n",
       "<table border=\"1\" class=\"dataframe\">\n",
       "  <thead>\n",
       "    <tr style=\"text-align: right;\">\n",
       "      <th></th>\n",
       "      <th>CHROM</th>\n",
       "      <th>POS</th>\n",
       "      <th>REF</th>\n",
       "      <th>ALT</th>\n",
       "      <th>MRT</th>\n",
       "      <th>Clone1</th>\n",
       "      <th>Clone2</th>\n",
       "    </tr>\n",
       "  </thead>\n",
       "  <tbody>\n",
       "    <tr>\n",
       "      <th>0</th>\n",
       "      <td>chr1</td>\n",
       "      <td>865445</td>\n",
       "      <td>G</td>\n",
       "      <td>C</td>\n",
       "      <td>True</td>\n",
       "      <td>True</td>\n",
       "      <td>True</td>\n",
       "    </tr>\n",
       "    <tr>\n",
       "      <th>1</th>\n",
       "      <td>chr1</td>\n",
       "      <td>4101122</td>\n",
       "      <td>G</td>\n",
       "      <td>T</td>\n",
       "      <td>True</td>\n",
       "      <td>True</td>\n",
       "      <td>True</td>\n",
       "    </tr>\n",
       "    <tr>\n",
       "      <th>2</th>\n",
       "      <td>chr1</td>\n",
       "      <td>4352976</td>\n",
       "      <td>G</td>\n",
       "      <td>A</td>\n",
       "      <td>True</td>\n",
       "      <td>False</td>\n",
       "      <td>True</td>\n",
       "    </tr>\n",
       "    <tr>\n",
       "      <th>3</th>\n",
       "      <td>chr1</td>\n",
       "      <td>7591505</td>\n",
       "      <td>T</td>\n",
       "      <td>C</td>\n",
       "      <td>True</td>\n",
       "      <td>True</td>\n",
       "      <td>True</td>\n",
       "    </tr>\n",
       "    <tr>\n",
       "      <th>4</th>\n",
       "      <td>chr1</td>\n",
       "      <td>7983849</td>\n",
       "      <td>G</td>\n",
       "      <td>T</td>\n",
       "      <td>True</td>\n",
       "      <td>True</td>\n",
       "      <td>True</td>\n",
       "    </tr>\n",
       "    <tr>\n",
       "      <th>...</th>\n",
       "      <td>...</td>\n",
       "      <td>...</td>\n",
       "      <td>...</td>\n",
       "      <td>...</td>\n",
       "      <td>...</td>\n",
       "      <td>...</td>\n",
       "      <td>...</td>\n",
       "    </tr>\n",
       "    <tr>\n",
       "      <th>6556</th>\n",
       "      <td>chrX</td>\n",
       "      <td>149314176</td>\n",
       "      <td>C</td>\n",
       "      <td>A</td>\n",
       "      <td>False</td>\n",
       "      <td>False</td>\n",
       "      <td>True</td>\n",
       "    </tr>\n",
       "    <tr>\n",
       "      <th>6557</th>\n",
       "      <td>chrX</td>\n",
       "      <td>150254317</td>\n",
       "      <td>G</td>\n",
       "      <td>A</td>\n",
       "      <td>False</td>\n",
       "      <td>False</td>\n",
       "      <td>True</td>\n",
       "    </tr>\n",
       "    <tr>\n",
       "      <th>6558</th>\n",
       "      <td>chrX</td>\n",
       "      <td>152018320</td>\n",
       "      <td>C</td>\n",
       "      <td>A</td>\n",
       "      <td>False</td>\n",
       "      <td>False</td>\n",
       "      <td>True</td>\n",
       "    </tr>\n",
       "    <tr>\n",
       "      <th>6559</th>\n",
       "      <td>chrX</td>\n",
       "      <td>153760660</td>\n",
       "      <td>C</td>\n",
       "      <td>T</td>\n",
       "      <td>False</td>\n",
       "      <td>False</td>\n",
       "      <td>True</td>\n",
       "    </tr>\n",
       "    <tr>\n",
       "      <th>6560</th>\n",
       "      <td>chrX</td>\n",
       "      <td>154436952</td>\n",
       "      <td>G</td>\n",
       "      <td>C</td>\n",
       "      <td>False</td>\n",
       "      <td>False</td>\n",
       "      <td>True</td>\n",
       "    </tr>\n",
       "  </tbody>\n",
       "</table>\n",
       "<p>6561 rows × 7 columns</p>\n",
       "</div>"
      ],
      "text/plain": [
       "     CHROM        POS REF ALT    MRT Clone1 Clone2\n",
       "0     chr1     865445   G   C   True   True   True\n",
       "1     chr1    4101122   G   T   True   True   True\n",
       "2     chr1    4352976   G   A   True  False   True\n",
       "3     chr1    7591505   T   C   True   True   True\n",
       "4     chr1    7983849   G   T   True   True   True\n",
       "...    ...        ...  ..  ..    ...    ...    ...\n",
       "6556  chrX  149314176   C   A  False  False   True\n",
       "6557  chrX  150254317   G   A  False  False   True\n",
       "6558  chrX  152018320   C   A  False  False   True\n",
       "6559  chrX  153760660   C   T  False  False   True\n",
       "6560  chrX  154436952   G   C  False  False   True\n",
       "\n",
       "[6561 rows x 7 columns]"
      ]
     },
     "execution_count": 12,
     "metadata": {},
     "output_type": "execute_result"
    }
   ],
   "source": [
    "cols = ['CHROM','POS','REF','ALT']\n",
    "common_df = pd.merge(dfc1[cols],dfc2[cols],how='outer',indicator='MRT')\n",
    "common_df['Clone1'] = common_df['MRT']\n",
    "common_df['MRT'] = common_df['MRT'].replace('both',True)\n",
    "common_df['MRT'] = common_df['MRT'].replace('left_only',True)\n",
    "common_df['MRT'] = common_df['MRT'].replace('right_only',False)\n",
    "common_df['Clone1'] = common_df['Clone1'].replace('both',True)\n",
    "common_df['Clone1'] = common_df['Clone1'].replace('left_only',False)\n",
    "common_df['Clone1'] = common_df['Clone1'].replace('right_only',True)\n",
    "common_df = pd.merge(common_df,dfc3[cols],how='outer',indicator='Clone2')\n",
    "common_df['Clone2'] = common_df['Clone2'].replace('both',True)\n",
    "common_df['Clone2'] = common_df['Clone2'].replace('left_only',False)\n",
    "common_df['Clone2'] = common_df['Clone2'].replace('right_only',True)\n",
    "common_df = common_df.fillna(False)\n",
    "common_df"
   ]
  },
  {
   "cell_type": "code",
   "execution_count": 13,
   "metadata": {
    "scrolled": true
   },
   "outputs": [
    {
     "data": {
      "text/html": [
       "<div>\n",
       "<style scoped>\n",
       "    .dataframe tbody tr th:only-of-type {\n",
       "        vertical-align: middle;\n",
       "    }\n",
       "\n",
       "    .dataframe tbody tr th {\n",
       "        vertical-align: top;\n",
       "    }\n",
       "\n",
       "    .dataframe thead th {\n",
       "        text-align: right;\n",
       "    }\n",
       "</style>\n",
       "<table border=\"1\" class=\"dataframe\">\n",
       "  <thead>\n",
       "    <tr style=\"text-align: right;\">\n",
       "      <th></th>\n",
       "      <th></th>\n",
       "      <th></th>\n",
       "      <th>CHROM</th>\n",
       "      <th>POS</th>\n",
       "      <th>REF</th>\n",
       "      <th>ALT</th>\n",
       "    </tr>\n",
       "    <tr>\n",
       "      <th>MRT</th>\n",
       "      <th>Clone1</th>\n",
       "      <th>Clone2</th>\n",
       "      <th></th>\n",
       "      <th></th>\n",
       "      <th></th>\n",
       "      <th></th>\n",
       "    </tr>\n",
       "  </thead>\n",
       "  <tbody>\n",
       "    <tr>\n",
       "      <th rowspan=\"4\" valign=\"top\">False</th>\n",
       "      <th rowspan=\"2\" valign=\"top\">False</th>\n",
       "      <th>False</th>\n",
       "      <td>NaN</td>\n",
       "      <td>NaN</td>\n",
       "      <td>NaN</td>\n",
       "      <td>NaN</td>\n",
       "    </tr>\n",
       "    <tr>\n",
       "      <th>True</th>\n",
       "      <td>1913.0</td>\n",
       "      <td>1913.0</td>\n",
       "      <td>1913.0</td>\n",
       "      <td>1913.0</td>\n",
       "    </tr>\n",
       "    <tr>\n",
       "      <th rowspan=\"2\" valign=\"top\">True</th>\n",
       "      <th>False</th>\n",
       "      <td>1869.0</td>\n",
       "      <td>1869.0</td>\n",
       "      <td>1869.0</td>\n",
       "      <td>1869.0</td>\n",
       "    </tr>\n",
       "    <tr>\n",
       "      <th>True</th>\n",
       "      <td>1630.0</td>\n",
       "      <td>1630.0</td>\n",
       "      <td>1630.0</td>\n",
       "      <td>1630.0</td>\n",
       "    </tr>\n",
       "    <tr>\n",
       "      <th rowspan=\"4\" valign=\"top\">True</th>\n",
       "      <th rowspan=\"2\" valign=\"top\">False</th>\n",
       "      <th>False</th>\n",
       "      <td>52.0</td>\n",
       "      <td>52.0</td>\n",
       "      <td>52.0</td>\n",
       "      <td>52.0</td>\n",
       "    </tr>\n",
       "    <tr>\n",
       "      <th>True</th>\n",
       "      <td>55.0</td>\n",
       "      <td>55.0</td>\n",
       "      <td>55.0</td>\n",
       "      <td>55.0</td>\n",
       "    </tr>\n",
       "    <tr>\n",
       "      <th rowspan=\"2\" valign=\"top\">True</th>\n",
       "      <th>False</th>\n",
       "      <td>25.0</td>\n",
       "      <td>25.0</td>\n",
       "      <td>25.0</td>\n",
       "      <td>25.0</td>\n",
       "    </tr>\n",
       "    <tr>\n",
       "      <th>True</th>\n",
       "      <td>1017.0</td>\n",
       "      <td>1017.0</td>\n",
       "      <td>1017.0</td>\n",
       "      <td>1017.0</td>\n",
       "    </tr>\n",
       "  </tbody>\n",
       "</table>\n",
       "</div>"
      ],
      "text/plain": [
       "                      CHROM     POS     REF     ALT\n",
       "MRT   Clone1 Clone2                                \n",
       "False False  False      NaN     NaN     NaN     NaN\n",
       "             True    1913.0  1913.0  1913.0  1913.0\n",
       "      True   False   1869.0  1869.0  1869.0  1869.0\n",
       "             True    1630.0  1630.0  1630.0  1630.0\n",
       "True  False  False     52.0    52.0    52.0    52.0\n",
       "             True      55.0    55.0    55.0    55.0\n",
       "      True   False     25.0    25.0    25.0    25.0\n",
       "             True    1017.0  1017.0  1017.0  1017.0"
      ]
     },
     "execution_count": 13,
     "metadata": {},
     "output_type": "execute_result"
    }
   ],
   "source": [
    "common_df.groupby(['MRT','Clone1','Clone2']).count()"
   ]
  },
  {
   "cell_type": "code",
   "execution_count": 14,
   "metadata": {
    "scrolled": true
   },
   "outputs": [
    {
     "data": {
      "image/png": "[encoded data removed]",
      "text/plain": [
       "<Figure size 432x288 with 1 Axes>"
      ]
     },
     "metadata": {},
     "output_type": "display_data"
    }
   ],
   "source": [
    "common_df['mut'] = common_df.apply(lambda row: row['CHROM'] + str(row['POS']) + row['REF'] + row['ALT'],axis=1)\n",
    "set1 = common_df[common_df['MRT']==True]\n",
    "set1 = set(set1['mut'].tolist())\n",
    "set2 = common_df[common_df['Clone1']==True]\n",
    "set2 = set(set2['mut'].tolist())\n",
    "set3 = common_df[common_df['Clone2']==True]\n",
    "set3 = set(set3['mut'].tolist())\n",
    "title = 'tumor2 and clones'\n",
    "names = ['MRT','Clone1','Clone2']\n",
    "out = venn3([set1,set2,set3], names)\n",
    "\n",
    "for text in out.set_labels:\n",
    "    text.set_fontsize(16)\n",
    "for text in out.subset_labels:\n",
    "    text.set_fontsize(13)\n",
    "\n",
    "plt.savefig('./figures_paper/venn_clones.png',dpi=300, format='png',transparent=True,bbox_inches='tight')\n",
    "\n",
    "plt.show()"
   ]
  },
  {
   "cell_type": "markdown",
   "metadata": {},
   "source": [
    "## Analyse results"
   ]
  },
  {
   "cell_type": "code",
   "execution_count": 15,
   "metadata": {},
   "outputs": [],
   "source": [
    "def color_sigs (sigs):\n",
    "\n",
    "    colors_dict = {}\n",
    "    colors_list = []\n",
    "    greys = ['gainsboro','darkgrey','gray','lightgrey','lightgray','silver','dimgrey','dimgray','slategrey']\n",
    "    i = 0\n",
    "    for sig in sigs:\n",
    "        if 'potential' in sig:\n",
    "            color = greys[i]\n",
    "            i+=1\n",
    "        elif 'SBS1-' in sig or sig=='SBS1':\n",
    "            color = 'orange'\n",
    "        elif 'SBS2-' in sig or sig=='SBS2':\n",
    "            color = 'olive'\n",
    "        elif 'SBS3-' in sig or sig=='SBS3':\n",
    "            color = 'mediumpurple'\n",
    "        elif 'SBS5-' in sig or sig=='SBS5':\n",
    "            color = 'skyblue'\n",
    "        elif 'SBS7a' in sig:\n",
    "            color = 'teal'\n",
    "        elif 'SBS12' in sig:\n",
    "            color = 'seagreen'\n",
    "        elif 'SBS13' in sig:\n",
    "            color = 'purple'\n",
    "        elif 'SBS17b' in sig:\n",
    "            color = 'pink'\n",
    "        elif 'SBS18' in sig:\n",
    "            color = 'royalblue'\n",
    "        elif 'SBS31' in sig:\n",
    "            color = 'firebrick'\n",
    "        elif 'SBS32' in sig:\n",
    "            color = 'plum'\n",
    "        elif 'SBS35' in sig:\n",
    "            color = 'lightcoral'\n",
    "        elif 'SBS40' in sig:\n",
    "            color = 'turquoise'\n",
    "#         elif 'SBS45' in sig:\n",
    "#             color = 'lightgrey'\n",
    "        elif 'SBS60' in sig:\n",
    "            color = 'darkseagreen'\n",
    "        else:\n",
    "            color = greys[i]\n",
    "            i+=1\n",
    "            pass\n",
    "        colors_dict[sig] = color\n",
    "        colors_list.append(color)\n",
    "    return colors_dict,colors_list"
   ]
  },
  {
   "cell_type": "markdown",
   "metadata": {},
   "source": [
    "## Results with clonal mutations"
   ]
  },
  {
   "cell_type": "markdown",
   "metadata": {},
   "source": [
    "### mSigAct"
   ]
  },
  {
   "cell_type": "code",
   "execution_count": 16,
   "metadata": {},
   "outputs": [],
   "source": [
    "order_list = ['AQ5186_vs_AQ5174','AX4958_vs_AQ5174','AX4961_vs_AQ5174']"
   ]
  },
  {
   "cell_type": "code",
   "execution_count": 17,
   "metadata": {},
   "outputs": [],
   "source": [
    "#prepare df with each mSigAct\n",
    "path_sbs31 = './msigact/output_sbs31/results.clones.matrix.tsv.mSigAct.SBS31.tsv'\n",
    "df = pd.read_csv(path_sbs31,sep='\\t')\n",
    "df = df[['SBS1','SBS5','SBS18','SBS40','SBS31']]\n",
    "SBS31_df = df.reindex(order_list)\n",
    "path_sbs35 = path_sbs31.replace('31','35')\n",
    "df = pd.read_csv(path_sbs35,sep='\\t')\n",
    "df = df[['SBS1','SBS5','SBS18','SBS40','SBS35']]\n",
    "SBS35_df = df.reindex(order_list)"
   ]
  },
  {
   "cell_type": "code",
   "execution_count": 18,
   "metadata": {},
   "outputs": [
    {
     "data": {
      "text/html": [
       "<div>\n",
       "<style scoped>\n",
       "    .dataframe tbody tr th:only-of-type {\n",
       "        vertical-align: middle;\n",
       "    }\n",
       "\n",
       "    .dataframe tbody tr th {\n",
       "        vertical-align: top;\n",
       "    }\n",
       "\n",
       "    .dataframe thead th {\n",
       "        text-align: right;\n",
       "    }\n",
       "</style>\n",
       "<table border=\"1\" class=\"dataframe\">\n",
       "  <thead>\n",
       "    <tr style=\"text-align: right;\">\n",
       "      <th></th>\n",
       "      <th>SBS1</th>\n",
       "      <th>SBS5</th>\n",
       "      <th>SBS18</th>\n",
       "      <th>SBS40</th>\n",
       "      <th>SBS31</th>\n",
       "    </tr>\n",
       "  </thead>\n",
       "  <tbody>\n",
       "    <tr>\n",
       "      <th>AQ5186_vs_AQ5174</th>\n",
       "      <td>66.243491</td>\n",
       "      <td>843.025314</td>\n",
       "      <td>0.000000</td>\n",
       "      <td>239.731195</td>\n",
       "      <td>0</td>\n",
       "    </tr>\n",
       "    <tr>\n",
       "      <th>AX4958_vs_AQ5174</th>\n",
       "      <td>175.043912</td>\n",
       "      <td>2067.673576</td>\n",
       "      <td>699.634829</td>\n",
       "      <td>1598.647683</td>\n",
       "      <td>0</td>\n",
       "    </tr>\n",
       "    <tr>\n",
       "      <th>AX4961_vs_AQ5174</th>\n",
       "      <td>230.287272</td>\n",
       "      <td>1700.791737</td>\n",
       "      <td>534.569998</td>\n",
       "      <td>2149.350993</td>\n",
       "      <td>0</td>\n",
       "    </tr>\n",
       "  </tbody>\n",
       "</table>\n",
       "</div>"
      ],
      "text/plain": [
       "                        SBS1         SBS5       SBS18        SBS40  SBS31\n",
       "AQ5186_vs_AQ5174   66.243491   843.025314    0.000000   239.731195      0\n",
       "AX4958_vs_AQ5174  175.043912  2067.673576  699.634829  1598.647683      0\n",
       "AX4961_vs_AQ5174  230.287272  1700.791737  534.569998  2149.350993      0"
      ]
     },
     "execution_count": 18,
     "metadata": {},
     "output_type": "execute_result"
    }
   ],
   "source": [
    "SBS31_df"
   ]
  },
  {
   "cell_type": "markdown",
   "metadata": {},
   "source": [
    "### mSigAct SBS31"
   ]
  },
  {
   "cell_type": "code",
   "execution_count": 19,
   "metadata": {},
   "outputs": [
    {
     "data": {
      "image/png": "[encoded data removed]",
      "text/plain": [
       "<Figure size 288x216 with 1 Axes>"
      ]
     },
     "metadata": {
      "needs_background": "light"
     },
     "output_type": "display_data"
    }
   ],
   "source": [
    "df = SBS31_df\n",
    "sigs = df.columns.tolist()\n",
    "colors_dict,colors_list = color_sigs(sigs)\n",
    "labels = ['MRT','Clone1','Clone2']\n",
    "pvals = []\n",
    "size_text = 13\n",
    "figsize=(4,3)\n",
    "legend=True\n",
    "ylim = 5000\n",
    "title = ''\n",
    "\n",
    "ax = df.plot(kind='bar', stacked=True, figsize=figsize,color=colors_list,legend=legend)\n",
    "\n",
    "if legend == True:\n",
    "    plt.legend(title='Signatures', bbox_to_anchor=(1, 1), loc='upper left', prop={'size': 13})\n",
    "\n",
    "plt.xticks(range(0,len(df)), labels, rotation=0,size=16)\n",
    "plt.yticks(np.arange(0, ylim +1, 1000), size=14)\n",
    "plt.ylabel(ylabel='Number of\\nmutations',fontsize=16)\n",
    "plt.title(title,size=20,pad=20)\n",
    "plt.ylim(0,ylim)\n",
    "\n",
    "plt.xlabel(' ')\n",
    "\n",
    "ax.spines['top'].set_visible(False)\n",
    "ax.spines['right'].set_visible(False)\n",
    "\n",
    "muts_MRT = round(df[['SBS1','SBS5','SBS18','SBS40','SBS31']].sum(axis=1)[0],0)\n",
    "muts_clone1 = df[['SBS1','SBS5','SBS18','SBS40','SBS31']].sum(axis=1)[1]\n",
    "muts_clone2 = df[['SBS1','SBS5','SBS18','SBS40','SBS31']].sum(axis=1)[2]\n",
    "\n",
    "plt.text(0,muts_MRT+400,str(int(muts_MRT)),color='black', fontweight='normal',ha='center',va='center',size=15)\n",
    "plt.text(1,muts_clone1+400,str(int(muts_clone1)),color='black', fontweight='normal',ha='center',va='center',size=15)\n",
    "plt.text(2,muts_clone2+400,str(int(muts_clone2)),color='black', fontweight='normal',ha='center',va='center',size=15)\n",
    "        \n",
    "        \n",
    "plt.savefig('./figures_paper/msigact_sbs31_clones_clonals.png',dpi=300, format='png',transparent=True,bbox_inches='tight')\n",
    "\n",
    "plt.show()"
   ]
  },
  {
   "cell_type": "code",
   "execution_count": 20,
   "metadata": {},
   "outputs": [
    {
     "data": {
      "image/png": "[encoded data removed]",
      "text/plain": [
       "<Figure size 288x216 with 1 Axes>"
      ]
     },
     "metadata": {
      "needs_background": "light"
     },
     "output_type": "display_data"
    }
   ],
   "source": [
    "df = SBS35_df\n",
    "sigs = df.columns.tolist()\n",
    "colors_dict,colors_list = color_sigs(sigs)\n",
    "labels = ['MRT','Clone1','Clone2']\n",
    "pvals = []\n",
    "size_text = 13\n",
    "figsize=(4,3)\n",
    "legend=True\n",
    "ylim = 5000\n",
    "title = ''\n",
    "\n",
    "ax = df.plot(kind='bar', stacked=True, figsize=figsize,color=colors_list,legend=legend)\n",
    "\n",
    "if legend == True:\n",
    "    plt.legend(title='Signatures', bbox_to_anchor=(1, 1), loc='upper left', prop={'size': 13})\n",
    "\n",
    "plt.xticks(range(0,len(df)), labels, rotation=0,size=16)\n",
    "plt.yticks(np.arange(0, ylim +1, 1000), size=14)\n",
    "plt.ylabel(ylabel='Number of\\nmutations',fontsize=16)\n",
    "plt.title(title,size=20,pad=20)\n",
    "plt.ylim(0,ylim)\n",
    "\n",
    "plt.xlabel(' ')\n",
    "\n",
    "ax.spines['top'].set_visible(False)\n",
    "ax.spines['right'].set_visible(False)\n",
    "\n",
    "muts_MRT = round(df[['SBS1','SBS5','SBS18','SBS40','SBS35']].sum(axis=1)[0],0)\n",
    "muts_clone1 = df[['SBS1','SBS5','SBS18','SBS40','SBS35']].sum(axis=1)[1]\n",
    "muts_clone2 = df[['SBS1','SBS5','SBS18','SBS40','SBS35']].sum(axis=1)[2]\n",
    "\n",
    "plt.text(0,muts_MRT+400,str(int(muts_MRT)),color='black', fontweight='normal',ha='center',va='center',size=15)\n",
    "plt.text(1,muts_clone1+400,str(int(muts_clone1)),color='black', fontweight='normal',ha='center',va='center',size=15)\n",
    "plt.text(2,muts_clone2+400,str(int(muts_clone2)),color='black', fontweight='normal',ha='center',va='center',size=15)\n",
    "        \n",
    "        \n",
    "plt.savefig('./figures_paper/msigact_sbs35_clones_clonals.png',dpi=300, format='png',transparent=True,bbox_inches='tight')\n",
    "\n",
    "plt.show()"
   ]
  },
  {
   "cell_type": "code",
   "execution_count": 21,
   "metadata": {},
   "outputs": [],
   "source": [
    "def plot_2_bars (df,sample_id,title,ylim,y_val1,y_val2,xlabel,ylabel):\n",
    "    df1 = df[df.index.isin([sample_id])]\n",
    "\n",
    "    other_sigs = ['SBS1','SBS5','SBS18','SBS40']\n",
    "\n",
    "    df1['other_sigs'] = df1[other_sigs].sum(axis=1)\n",
    "    df1 = df1[['SBS31','other_sigs']]\n",
    "\n",
    "    figsize = (2,2)\n",
    "\n",
    "    fig, ax = plt.subplots(figsize=figsize)\n",
    "\n",
    "    for x,val in enumerate(df1['SBS31'].tolist()):\n",
    "        if sample_id in ['AU2202']:          \n",
    "            pos = x-0.2\n",
    "            ax.bar(pos, 0,color='firebrick',width=0.2)\n",
    "        else:\n",
    "            pos = x-0.2\n",
    "            ax.bar(pos, val,color='firebrick',width=0.2)            \n",
    "\n",
    "\n",
    "    for x,val in enumerate(df1['other_sigs'].tolist()):\n",
    "        pos = x +0.2\n",
    "        ax.bar(pos, val,color='grey',width=0.2)\n",
    "\n",
    "    plt.xticks([])\n",
    "    plt.xlabel(xlabel,size=14)\n",
    "    plt.title(title,size=20,pad=20)\n",
    "    plt.ylim(0,ylim)\n",
    "    plt.ylabel(ylabel,size=16)\n",
    "    plt.yticks(size=12)\n",
    "    \n",
    "    ax.spines['top'].set_visible(False)\n",
    "    ax.spines['right'].set_visible(False)\n",
    "    ax.get_xaxis().tick_bottom()\n",
    "    ax.get_yaxis().tick_left()\n",
    "    ax.spines['left'].set_linewidth(2) \n",
    "    ax.spines['bottom'].set_linewidth(2)\n",
    "    ax.xaxis.set_tick_params(width=0)\n",
    "    ax.yaxis.set_tick_params(width=2,length=7)\n",
    "\n",
    "    mpl.rcParams['axes.spines.right'] = False\n",
    "    mpl.rcParams['axes.spines.top'] = False\n",
    "    \n",
    "    for i, v in enumerate(df1['SBS31']):\n",
    "        if sample_id in ['AU2202']:\n",
    "            plt.text(i-0.2, v+y_val1, '0', color='firebrick', fontweight='normal',ha='center',va='center',size=15)\n",
    "        else:\n",
    "            plt.text(i-0.2, v+y_val1, str(int(round(v,0))), color='firebrick', fontweight='normal',ha='center',va='center',size=15)\n",
    "            \n",
    "        for i, v in enumerate(df1['other_sigs']):\n",
    "            plt.text(i+0.2, v+y_val2, str(int(round(v,0))), color='grey', fontweight='normal',ha='center',va='center',size=15)\n"
   ]
  },
  {
   "cell_type": "code",
   "execution_count": 22,
   "metadata": {},
   "outputs": [
    {
     "name": "stderr",
     "output_type": "stream",
     "text": [
      "/home/msanchezg/miniconda3/envs/process_vc/lib/python3.6/site-packages/ipykernel_launcher.py:6: SettingWithCopyWarning: \n",
      "A value is trying to be set on a copy of a slice from a DataFrame.\n",
      "Try using .loc[row_indexer,col_indexer] = value instead\n",
      "\n",
      "See the caveats in the documentation: https://pandas.pydata.org/pandas-docs/stable/user_guide/indexing.html#returning-a-view-versus-a-copy\n",
      "  \n"
     ]
    },
    {
     "data": {
      "image/png": "[encoded data removed]",
      "text/plain": [
       "<Figure size 144x144 with 1 Axes>"
      ]
     },
     "metadata": {
      "needs_background": "light"
     },
     "output_type": "display_data"
    }
   ],
   "source": [
    "df = SBS31_df.copy()\n",
    "sample_id = 'AQ5186_vs_AQ5174'\n",
    "\n",
    "ylim = 2000\n",
    "title = 'MRT'\n",
    "y_val1 = 200\n",
    "y_val2 = 200\n",
    "xlabel = 'Clonal\\nmutations'\n",
    "ylabel = 'Number of\\nmutations'\n",
    "plot_2_bars (df,sample_id,title,ylim,y_val1,y_val2,xlabel,ylabel)\n",
    "plt.savefig('./figures_paper/mrt_msigact_clonal_sbs31.png',dpi=300, format='png',transparent=True,bbox_inches='tight')\n",
    "\n",
    "plt.show()"
   ]
  },
  {
   "cell_type": "code",
   "execution_count": 23,
   "metadata": {},
   "outputs": [
    {
     "name": "stderr",
     "output_type": "stream",
     "text": [
      "/home/msanchezg/miniconda3/envs/process_vc/lib/python3.6/site-packages/ipykernel_launcher.py:6: SettingWithCopyWarning: \n",
      "A value is trying to be set on a copy of a slice from a DataFrame.\n",
      "Try using .loc[row_indexer,col_indexer] = value instead\n",
      "\n",
      "See the caveats in the documentation: https://pandas.pydata.org/pandas-docs/stable/user_guide/indexing.html#returning-a-view-versus-a-copy\n",
      "  \n"
     ]
    },
    {
     "data": {
      "image/png": "[encoded data removed]",
      "text/plain": [
       "<Figure size 144x144 with 1 Axes>"
      ]
     },
     "metadata": {
      "needs_background": "light"
     },
     "output_type": "display_data"
    }
   ],
   "source": [
    "df = SBS31_df.copy()\n",
    "sample_id = 'AX4958_vs_AQ5174'\n",
    "\n",
    "ylim = 6000\n",
    "title='Clone 1'\n",
    "y_val1=500\n",
    "y_val2=500\n",
    "plot_2_bars (df,sample_id,title,ylim,y_val1,y_val2,xlabel='Clonal\\nmutations',ylabel='')\n",
    "plt.xticks([])\n",
    "plt.ylabel('')\n",
    "plt.xlabel('Clonal\\nmutations',size=14)\n",
    "plt.savefig('./figures_paper/clone1_msigact_clonal_sbs31.png',dpi=300, format='png',transparent=True,bbox_inches='tight')\n",
    "\n",
    "plt.show()"
   ]
  },
  {
   "cell_type": "code",
   "execution_count": 24,
   "metadata": {},
   "outputs": [
    {
     "name": "stderr",
     "output_type": "stream",
     "text": [
      "/home/msanchezg/miniconda3/envs/process_vc/lib/python3.6/site-packages/ipykernel_launcher.py:6: SettingWithCopyWarning: \n",
      "A value is trying to be set on a copy of a slice from a DataFrame.\n",
      "Try using .loc[row_indexer,col_indexer] = value instead\n",
      "\n",
      "See the caveats in the documentation: https://pandas.pydata.org/pandas-docs/stable/user_guide/indexing.html#returning-a-view-versus-a-copy\n",
      "  \n"
     ]
    },
    {
     "data": {
      "image/png": "[encoded data removed]",
      "text/plain": [
       "<Figure size 144x144 with 1 Axes>"
      ]
     },
     "metadata": {
      "needs_background": "light"
     },
     "output_type": "display_data"
    }
   ],
   "source": [
    "df = SBS31_df.copy()\n",
    "sample_id = 'AX4961_vs_AQ5174'\n",
    "\n",
    "ylim = 6000\n",
    "title='Clone 2'\n",
    "y_val=500\n",
    "plot_2_bars (df,sample_id,title,ylim,y_val1,y_val2,xlabel='Clonal\\nmutations',ylabel='')\n",
    "plt.xticks([])\n",
    "plt.ylabel('')\n",
    "plt.xlabel('Clonal\\nmutations',size=14)\n",
    "plt.savefig('./figures_paper/clone2_msigact_clonal_sbs31.png',dpi=300, format='png',transparent=True,bbox_inches='tight')\n",
    "\n",
    "plt.show()"
   ]
  },
  {
   "cell_type": "code",
   "execution_count": 25,
   "metadata": {},
   "outputs": [
    {
     "data": {
      "image/png": "[encoded data removed]",
      "text/plain": [
       "<Figure size 72x72 with 1 Axes>"
      ]
     },
     "metadata": {},
     "output_type": "display_data"
    }
   ],
   "source": [
    "import matplotlib.lines as mlines\n",
    "fig, ax = plt.subplots(figsize=(1,1))\n",
    "plt.xticks([])\n",
    "plt.yticks([])\n",
    "ax.spines['top'].set_visible(False)\n",
    "ax.spines['right'].set_visible(False)\n",
    "ax.spines['bottom'].set_visible(False)\n",
    "ax.spines['left'].set_visible(False)\n",
    "\n",
    "sbs31 = mlines.Line2D([], [], color='firebrick', marker='o', linestyle='None',\n",
    "                          markersize=8, label='Platinum')\n",
    "other_signatures = mlines.Line2D([], [], color='grey', marker='o', linestyle='None',\n",
    "                          markersize=8, label='Other')\n",
    "\n",
    "plt.legend(handles=[sbs31,other_signatures],bbox_to_anchor=(1,0.05,1,1),fontsize=14,title='Mutation type',title_fontsize=15)\n",
    "plt.savefig('./figures_paper/legend_platinum_vs_other.png',dpi=300, format='png',transparent=True,bbox_inches='tight')\n"
   ]
  }
 ],
 "metadata": {
  "kernelspec": {
   "display_name": "Python [conda env:process_vc]",
   "language": "python",
   "name": "conda-env-process_vc-py"
  },
  "language_info": {
   "codemirror_mode": {
    "name": "ipython",
    "version": 3
   },
   "file_extension": ".py",
   "mimetype": "text/x-python",
   "name": "python",
   "nbconvert_exporter": "python",
   "pygments_lexer": "ipython3",
   "version": "3.6.11"
  }
 },
 "nbformat": 4,
 "nbformat_minor": 4
}
